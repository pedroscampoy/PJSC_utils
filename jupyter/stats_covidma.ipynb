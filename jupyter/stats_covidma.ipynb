{
 "metadata": {
  "language_info": {
   "codemirror_mode": {
    "name": "ipython",
    "version": 3
   },
   "file_extension": ".py",
   "mimetype": "text/x-python",
   "name": "python",
   "nbconvert_exporter": "python",
   "pygments_lexer": "ipython3",
   "version": "3.7.4-final"
  },
  "orig_nbformat": 2,
  "kernelspec": {
   "name": "Python 3.7.4 64-bit ('base': conda)",
   "display_name": "Python 3.7.4 64-bit ('base': conda)",
   "metadata": {
    "interpreter": {
     "hash": "895b43306824f909dd8fc0fe81781e0d62fee5aa42332456ee4a77314d01a104"
    }
   }
  }
 },
 "nbformat": 4,
 "nbformat_minor": 2,
 "cells": [
  {
   "cell_type": "code",
   "execution_count": 50,
   "metadata": {},
   "outputs": [],
   "source": [
    "import os\n",
    "import pandas as pd\n",
    "import numpy as np\n",
    "import re\n",
    "from statistics import mean\n",
    "\n",
    "pd.set_option('display.max_columns', None)\n",
    "pd.set_option('display.max_rows', None)\n",
    "pd.set_option('display.max_colwidth', -1)"
   ]
  },
  {
   "cell_type": "code",
   "execution_count": 2,
   "metadata": {},
   "outputs": [],
   "source": [
    "out_dir = '/home/laura/ANALYSIS/VARIANT_CALLING/COVID'"
   ]
  },
  {
   "cell_type": "code",
   "execution_count": 3,
   "metadata": {},
   "outputs": [],
   "source": [
    "def extract_snp_count(output_dir,sample):\n",
    "    variants_folder = os.path.join(output_dir, 'Variants')\n",
    "    raw_var_folder = os.path.join(variants_folder, 'ivar_raw')\n",
    "    filename = os.path.join(raw_var_folder, sample + \".tsv\")\n",
    "\n",
    "    if os.path.exists(filename):\n",
    "        df = pd.read_csv(filename, sep=\"\\t\")\n",
    "        df = df.drop_duplicates(subset=['POS', 'REF', 'ALT'], keep=\"first\")\n",
    "        high_quality_snps = df[\"POS\"][(df.PASS == True) &\n",
    "                    (df.ALT_DP >= 20) &\n",
    "                    (df.ALT_FREQ >= 0.8) &\n",
    "                    ~(df.ALT.str.startswith('+') | df.ALT.str.startswith('-'))].tolist()\n",
    "        htz_snps = df[\"POS\"][(df.PASS == True) &\n",
    "                    (df.ALT_DP >= 20) &\n",
    "                    (df.ALT_FREQ < 0.8) &\n",
    "                    (df.ALT_FREQ >= 0.2) &\n",
    "                    ~(df.ALT.str.startswith('+') | df.ALT.str.startswith('-'))].tolist()\n",
    "        return len(high_quality_snps), len(htz_snps)\n",
    "    else:\n",
    "        print(\"FILE \" + filename + \" NOT FOUND\" )\n",
    "        return None"
   ]
  },
  {
   "cell_type": "code",
   "execution_count": 7,
   "metadata": {},
   "outputs": [],
   "source": [
    "def extract_mapped_reads(output_dir,sample):\n",
    "    stats_folder = os.path.join(output_dir, 'Stats')\n",
    "    bamstats_folder = os.path.join(stats_folder, 'Bamstats')\n",
    "    filename = os.path.join(bamstats_folder, sample + \".bamstats\")\n",
    "\n",
    "    if os.path.exists(filename):\n",
    "        with open (filename, 'r') as f:\n",
    "            for line in f:\n",
    "                if 'mapped' in line and '%' in line:\n",
    "                    reads_mapped = line.split(\" \")[0]\n",
    "                    mappep_percentage = line.split(\"(\")[-1].split(\"%\")[0]\n",
    "                elif 'properly paired' in line:\n",
    "                    properly_paired = line.split(\" \")[0]\n",
    "                    paired_percentage = line.split(\"(\")[-1].split(\"%\")[0]\n",
    "        return int(reads_mapped), float(mappep_percentage), int(properly_paired), float(paired_percentage)\n",
    "        print(\"FILE \" + filename + \" NOT FOUND\" )\n",
    "        return None"
   ]
  },
  {
   "cell_type": "code",
   "execution_count": 70,
   "metadata": {},
   "outputs": [],
   "source": [
    "def extract_n_consensus(output_dir,sample):\n",
    "    consensus_folder = os.path.join(output_dir, 'Consensus')\n",
    "    filename = os.path.join(consensus_folder, sample + \".fa\")\n",
    "\n",
    "    if os.path.exists(filename):\n",
    "        with open (filename, 'r') as f:\n",
    "            content = f.read()\n",
    "            content_list = content.split('\\n')\n",
    "            sample_fq = content_list[0].strip(\">\")\n",
    "            if sample_fq == sample:\n",
    "                #In case fasta is in several lines(not by default)\n",
    "                sequence = (\"\").join(content_list[1:]).strip()\n",
    "                all_N = re.findall(r'N+', sequence)\n",
    "                leading_N = re.findall(r'^N+', sequence)\n",
    "                tailing_N = re.findall(r'N+$', sequence)\n",
    "                length_N = [len(x) for x in all_N]\n",
    "                individual_N = [x for x in length_N if x == 1]\n",
    "                mean_length_N = mean(length_N)\n",
    "                sum_length_N = sum(length_N)\n",
    "                return(len(all_N), len(individual_N), len(leading_N), len(tailing_N), sum_length_N, mean_length_N)\n",
    "    else:\n",
    "        print(\"FILE \" + filename + \" NOT FOUND\" )\n",
    "        return None"
   ]
  },
  {
   "cell_type": "code",
   "execution_count": 71,
   "metadata": {},
   "outputs": [
    {
     "output_type": "execute_result",
     "data": {
      "text/plain": [
       "(3, 1, 1, 0, 66, 22)"
      ]
     },
     "metadata": {},
     "execution_count": 71
    }
   ],
   "source": [
    "extract_n_consensus(out_dir, '20155670-8')"
   ]
  },
  {
   "cell_type": "code",
   "execution_count": 66,
   "metadata": {
    "tags": []
   },
   "outputs": [
    {
     "output_type": "execute_result",
     "data": {
      "text/plain": [
       "(9, 6)"
      ]
     },
     "metadata": {},
     "execution_count": 66
    }
   ],
   "source": [
    "extract_snp_count(out_dir, '20155670-8')"
   ]
  },
  {
   "cell_type": "code",
   "execution_count": 67,
   "metadata": {},
   "outputs": [
    {
     "output_type": "execute_result",
     "data": {
      "text/plain": [
       "(758339, 100.0, 756665, 99.91)"
      ]
     },
     "metadata": {},
     "execution_count": 67
    }
   ],
   "source": [
    "extract_mapped_reads(out_dir, '20155670-8')"
   ]
  },
  {
   "cell_type": "code",
   "execution_count": 68,
   "metadata": {},
   "outputs": [],
   "source": [
    "def obtain_overal_stats(output_dir, group):\n",
    "    stat_folder = os.path.join(output_dir, 'Stats')\n",
    "    overal_stat_file = os.path.join(stat_folder, group + \".overal.stats.tab\")\n",
    "    for root, _, files in os.walk(stat_folder):\n",
    "        for name in files:\n",
    "            if name.endswith('coverage.summary.tab'):\n",
    "                filename = os.path.join(root, name)\n",
    "                df = pd.read_csv(filename, sep=\"\\t\")\n",
    "                df[['HQ_SNP', 'HTZ_SNP']] = df.apply(lambda x: extract_snp_count(output_dir, x['#SAMPLE']), axis=1, result_type=\"expand\")\n",
    "                df[['mapped_reads', 'perc_mapped', 'paired_mapped', 'perc_paired']] = df.apply(lambda x: extract_mapped_reads(output_dir, x['#SAMPLE']), axis=1, result_type=\"expand\")\n",
    "                df[['N_groups', 'N_individual', 'N_leading', 'N_tailing', 'N_sum_len', 'N_mean_len']] = df.apply(lambda x: extract_n_consensus(output_dir, x['#SAMPLE']), axis=1, result_type=\"expand\")\n",
    "    df.to_csv(overal_stat_file, sep=\"\\t\", index=False)\n"
   ]
  },
  {
   "cell_type": "code",
   "execution_count": 72,
   "metadata": {
    "tags": []
   },
   "outputs": [
    {
     "output_type": "stream",
     "name": "stdout",
     "text": [
      "FILE /home/laura/ANALYSIS/VARIANT_CALLING/COVID/Consensus/20060178.fa NOT FOUND\nFILE /home/laura/ANALYSIS/VARIANT_CALLING/COVID/Consensus/20060161.fa NOT FOUND\n"
     ]
    },
    {
     "output_type": "error",
     "ename": "ValueError",
     "evalue": "Columns must be same length as key",
     "traceback": [
      "\u001b[0;31m---------------------------------------------------------------------------\u001b[0m",
      "\u001b[0;31mValueError\u001b[0m                                Traceback (most recent call last)",
      "\u001b[0;32m<ipython-input-72-309b2b494a28>\u001b[0m in \u001b[0;36m<module>\u001b[0;34m\u001b[0m\n\u001b[0;32m----> 1\u001b[0;31m \u001b[0mobtain_overal_stats\u001b[0m\u001b[0;34m(\u001b[0m\u001b[0mout_dir\u001b[0m\u001b[0;34m,\u001b[0m \u001b[0;34m'covid'\u001b[0m\u001b[0;34m)\u001b[0m\u001b[0;34m\u001b[0m\u001b[0;34m\u001b[0m\u001b[0m\n\u001b[0m",
      "\u001b[0;32m<ipython-input-68-197a8f87815d>\u001b[0m in \u001b[0;36mobtain_overal_stats\u001b[0;34m(output_dir, group)\u001b[0m\n\u001b[1;32m      9\u001b[0m                 \u001b[0mdf\u001b[0m\u001b[0;34m[\u001b[0m\u001b[0;34m[\u001b[0m\u001b[0;34m'HQ_SNP'\u001b[0m\u001b[0;34m,\u001b[0m \u001b[0;34m'HTZ_SNP'\u001b[0m\u001b[0;34m]\u001b[0m\u001b[0;34m]\u001b[0m \u001b[0;34m=\u001b[0m \u001b[0mdf\u001b[0m\u001b[0;34m.\u001b[0m\u001b[0mapply\u001b[0m\u001b[0;34m(\u001b[0m\u001b[0;32mlambda\u001b[0m \u001b[0mx\u001b[0m\u001b[0;34m:\u001b[0m \u001b[0mextract_snp_count\u001b[0m\u001b[0;34m(\u001b[0m\u001b[0moutput_dir\u001b[0m\u001b[0;34m,\u001b[0m \u001b[0mx\u001b[0m\u001b[0;34m[\u001b[0m\u001b[0;34m'#SAMPLE'\u001b[0m\u001b[0;34m]\u001b[0m\u001b[0;34m)\u001b[0m\u001b[0;34m,\u001b[0m \u001b[0maxis\u001b[0m\u001b[0;34m=\u001b[0m\u001b[0;36m1\u001b[0m\u001b[0;34m,\u001b[0m \u001b[0mresult_type\u001b[0m\u001b[0;34m=\u001b[0m\u001b[0;34m\"expand\"\u001b[0m\u001b[0;34m)\u001b[0m\u001b[0;34m\u001b[0m\u001b[0;34m\u001b[0m\u001b[0m\n\u001b[1;32m     10\u001b[0m                 \u001b[0mdf\u001b[0m\u001b[0;34m[\u001b[0m\u001b[0;34m[\u001b[0m\u001b[0;34m'mapped_reads'\u001b[0m\u001b[0;34m,\u001b[0m \u001b[0;34m'perc_mapped'\u001b[0m\u001b[0;34m,\u001b[0m \u001b[0;34m'paired_mapped'\u001b[0m\u001b[0;34m,\u001b[0m \u001b[0;34m'perc_paired'\u001b[0m\u001b[0;34m]\u001b[0m\u001b[0;34m]\u001b[0m \u001b[0;34m=\u001b[0m \u001b[0mdf\u001b[0m\u001b[0;34m.\u001b[0m\u001b[0mapply\u001b[0m\u001b[0;34m(\u001b[0m\u001b[0;32mlambda\u001b[0m \u001b[0mx\u001b[0m\u001b[0;34m:\u001b[0m \u001b[0mextract_mapped_reads\u001b[0m\u001b[0;34m(\u001b[0m\u001b[0moutput_dir\u001b[0m\u001b[0;34m,\u001b[0m \u001b[0mx\u001b[0m\u001b[0;34m[\u001b[0m\u001b[0;34m'#SAMPLE'\u001b[0m\u001b[0;34m]\u001b[0m\u001b[0;34m)\u001b[0m\u001b[0;34m,\u001b[0m \u001b[0maxis\u001b[0m\u001b[0;34m=\u001b[0m\u001b[0;36m1\u001b[0m\u001b[0;34m,\u001b[0m \u001b[0mresult_type\u001b[0m\u001b[0;34m=\u001b[0m\u001b[0;34m\"expand\"\u001b[0m\u001b[0;34m)\u001b[0m\u001b[0;34m\u001b[0m\u001b[0;34m\u001b[0m\u001b[0m\n\u001b[0;32m---> 11\u001b[0;31m                 \u001b[0mdf\u001b[0m\u001b[0;34m[\u001b[0m\u001b[0;34m[\u001b[0m\u001b[0;34m'N_groups'\u001b[0m\u001b[0;34m,\u001b[0m \u001b[0;34m'N_individual'\u001b[0m\u001b[0;34m,\u001b[0m \u001b[0;34m'N_leading'\u001b[0m\u001b[0;34m,\u001b[0m \u001b[0;34m'N_tailing'\u001b[0m\u001b[0;34m,\u001b[0m \u001b[0;34m'N_mean_len'\u001b[0m\u001b[0;34m]\u001b[0m\u001b[0;34m]\u001b[0m \u001b[0;34m=\u001b[0m \u001b[0mdf\u001b[0m\u001b[0;34m.\u001b[0m\u001b[0mapply\u001b[0m\u001b[0;34m(\u001b[0m\u001b[0;32mlambda\u001b[0m \u001b[0mx\u001b[0m\u001b[0;34m:\u001b[0m \u001b[0mextract_n_consensus\u001b[0m\u001b[0;34m(\u001b[0m\u001b[0moutput_dir\u001b[0m\u001b[0;34m,\u001b[0m \u001b[0mx\u001b[0m\u001b[0;34m[\u001b[0m\u001b[0;34m'#SAMPLE'\u001b[0m\u001b[0;34m]\u001b[0m\u001b[0;34m)\u001b[0m\u001b[0;34m,\u001b[0m \u001b[0maxis\u001b[0m\u001b[0;34m=\u001b[0m\u001b[0;36m1\u001b[0m\u001b[0;34m,\u001b[0m \u001b[0mresult_type\u001b[0m\u001b[0;34m=\u001b[0m\u001b[0;34m\"expand\"\u001b[0m\u001b[0;34m)\u001b[0m\u001b[0;34m\u001b[0m\u001b[0;34m\u001b[0m\u001b[0m\n\u001b[0m\u001b[1;32m     12\u001b[0m     \u001b[0;31m#df.to_csv(overal_stat_file, sep=\"\\t\", index=False)\u001b[0m\u001b[0;34m\u001b[0m\u001b[0;34m\u001b[0m\u001b[0;34m\u001b[0m\u001b[0m\n\u001b[1;32m     13\u001b[0m     \u001b[0;32mreturn\u001b[0m \u001b[0mdf\u001b[0m\u001b[0;34m\u001b[0m\u001b[0;34m\u001b[0m\u001b[0m\n",
      "\u001b[0;32m~/anaconda3/lib/python3.7/site-packages/pandas/core/frame.py\u001b[0m in \u001b[0;36m__setitem__\u001b[0;34m(self, key, value)\u001b[0m\n\u001b[1;32m   3467\u001b[0m             \u001b[0mself\u001b[0m\u001b[0;34m.\u001b[0m\u001b[0m_setitem_frame\u001b[0m\u001b[0;34m(\u001b[0m\u001b[0mkey\u001b[0m\u001b[0;34m,\u001b[0m \u001b[0mvalue\u001b[0m\u001b[0;34m)\u001b[0m\u001b[0;34m\u001b[0m\u001b[0;34m\u001b[0m\u001b[0m\n\u001b[1;32m   3468\u001b[0m         \u001b[0;32melif\u001b[0m \u001b[0misinstance\u001b[0m\u001b[0;34m(\u001b[0m\u001b[0mkey\u001b[0m\u001b[0;34m,\u001b[0m \u001b[0;34m(\u001b[0m\u001b[0mSeries\u001b[0m\u001b[0;34m,\u001b[0m \u001b[0mnp\u001b[0m\u001b[0;34m.\u001b[0m\u001b[0mndarray\u001b[0m\u001b[0;34m,\u001b[0m \u001b[0mlist\u001b[0m\u001b[0;34m,\u001b[0m \u001b[0mIndex\u001b[0m\u001b[0;34m)\u001b[0m\u001b[0;34m)\u001b[0m\u001b[0;34m:\u001b[0m\u001b[0;34m\u001b[0m\u001b[0;34m\u001b[0m\u001b[0m\n\u001b[0;32m-> 3469\u001b[0;31m             \u001b[0mself\u001b[0m\u001b[0;34m.\u001b[0m\u001b[0m_setitem_array\u001b[0m\u001b[0;34m(\u001b[0m\u001b[0mkey\u001b[0m\u001b[0;34m,\u001b[0m \u001b[0mvalue\u001b[0m\u001b[0;34m)\u001b[0m\u001b[0;34m\u001b[0m\u001b[0;34m\u001b[0m\u001b[0m\n\u001b[0m\u001b[1;32m   3470\u001b[0m         \u001b[0;32melse\u001b[0m\u001b[0;34m:\u001b[0m\u001b[0;34m\u001b[0m\u001b[0;34m\u001b[0m\u001b[0m\n\u001b[1;32m   3471\u001b[0m             \u001b[0;31m# set column\u001b[0m\u001b[0;34m\u001b[0m\u001b[0;34m\u001b[0m\u001b[0;34m\u001b[0m\u001b[0m\n",
      "\u001b[0;32m~/anaconda3/lib/python3.7/site-packages/pandas/core/frame.py\u001b[0m in \u001b[0;36m_setitem_array\u001b[0;34m(self, key, value)\u001b[0m\n\u001b[1;32m   3490\u001b[0m             \u001b[0;32mif\u001b[0m \u001b[0misinstance\u001b[0m\u001b[0;34m(\u001b[0m\u001b[0mvalue\u001b[0m\u001b[0;34m,\u001b[0m \u001b[0mDataFrame\u001b[0m\u001b[0;34m)\u001b[0m\u001b[0;34m:\u001b[0m\u001b[0;34m\u001b[0m\u001b[0;34m\u001b[0m\u001b[0m\n\u001b[1;32m   3491\u001b[0m                 \u001b[0;32mif\u001b[0m \u001b[0mlen\u001b[0m\u001b[0;34m(\u001b[0m\u001b[0mvalue\u001b[0m\u001b[0;34m.\u001b[0m\u001b[0mcolumns\u001b[0m\u001b[0;34m)\u001b[0m \u001b[0;34m!=\u001b[0m \u001b[0mlen\u001b[0m\u001b[0;34m(\u001b[0m\u001b[0mkey\u001b[0m\u001b[0;34m)\u001b[0m\u001b[0;34m:\u001b[0m\u001b[0;34m\u001b[0m\u001b[0;34m\u001b[0m\u001b[0m\n\u001b[0;32m-> 3492\u001b[0;31m                     \u001b[0;32mraise\u001b[0m \u001b[0mValueError\u001b[0m\u001b[0;34m(\u001b[0m\u001b[0;34m\"Columns must be same length as key\"\u001b[0m\u001b[0;34m)\u001b[0m\u001b[0;34m\u001b[0m\u001b[0;34m\u001b[0m\u001b[0m\n\u001b[0m\u001b[1;32m   3493\u001b[0m                 \u001b[0;32mfor\u001b[0m \u001b[0mk1\u001b[0m\u001b[0;34m,\u001b[0m \u001b[0mk2\u001b[0m \u001b[0;32min\u001b[0m \u001b[0mzip\u001b[0m\u001b[0;34m(\u001b[0m\u001b[0mkey\u001b[0m\u001b[0;34m,\u001b[0m \u001b[0mvalue\u001b[0m\u001b[0;34m.\u001b[0m\u001b[0mcolumns\u001b[0m\u001b[0;34m)\u001b[0m\u001b[0;34m:\u001b[0m\u001b[0;34m\u001b[0m\u001b[0;34m\u001b[0m\u001b[0m\n\u001b[1;32m   3494\u001b[0m                     \u001b[0mself\u001b[0m\u001b[0;34m[\u001b[0m\u001b[0mk1\u001b[0m\u001b[0;34m]\u001b[0m \u001b[0;34m=\u001b[0m \u001b[0mvalue\u001b[0m\u001b[0;34m[\u001b[0m\u001b[0mk2\u001b[0m\u001b[0;34m]\u001b[0m\u001b[0;34m\u001b[0m\u001b[0;34m\u001b[0m\u001b[0m\n",
      "\u001b[0;31mValueError\u001b[0m: Columns must be same length as key"
     ]
    }
   ],
   "source": [
    "obtain_overal_stats(out_dir, 'covid')"
   ]
  },
  {
   "cell_type": "code",
   "execution_count": null,
   "metadata": {},
   "outputs": [],
   "source": []
  }
 ]
}