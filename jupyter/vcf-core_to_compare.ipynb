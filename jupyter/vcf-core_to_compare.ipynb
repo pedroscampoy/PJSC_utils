{
 "cells": [
  {
   "cell_type": "code",
   "execution_count": 94,
   "metadata": {},
   "outputs": [],
   "source": [
    "import os\n",
    "import pandas as pd\n",
    "import numpy as np\n",
    "import re\n",
    "\n",
    "pd.set_option('display.max_columns', None)\n",
    "pd.set_option('display.max_rows', None)\n",
    "pd.set_option('display.max_colwidth', -1)"
   ]
  },
  {
   "cell_type": "code",
   "execution_count": 95,
   "metadata": {},
   "outputs": [],
   "source": [
    "vcf = \"/home/laura/ANALYSIS/autosnippy_colonies/Core/core.vcf\"\n",
    "cov_folder = \"/home/laura/ANALYSIS/autosnippy_colonies/Stats/Coverage\""
   ]
  },
  {
   "cell_type": "code",
   "execution_count": 96,
   "metadata": {},
   "outputs": [],
   "source": [
    "def import_VCF4_core_to_compare(vcf_file, sep='\\t'):\n",
    "    header_lines = 0\n",
    "    \n",
    "    with open(vcf_file) as f:\n",
    "        first_line = f.readline().strip()\n",
    "        next_line = f.readline().strip()\n",
    "        while next_line.startswith(\"##\"):\n",
    "            header_lines = header_lines + 1\n",
    "            # logger.info(next_line)\n",
    "            next_line = f.readline()\n",
    "\n",
    "    if first_line.endswith('VCFv4.2'):\n",
    "\n",
    "        # Use first line as header\n",
    "        df = pd.read_csv(vcf_file, sep=sep, skiprows=[\n",
    "                                header_lines], header=header_lines)\n",
    "\n",
    "        df.POS = df.POS.apply(str)\n",
    "        #df['POS'] = df['POS'].astype(\"string\")\n",
    "        #df['POS'] = pandas.Series(df['POS'], dtype=\"string\")\n",
    "        df['Position'] = df[\"#CHROM\"] + \"|\" + df[\"REF\"] + \"|\" + df[\"POS\"] + \"|\" + df[\"ALT\"]\n",
    "        df = df.drop(['#CHROM', 'POS', 'ID', 'REF', 'ALT', 'QUAL', 'FILTER', 'INFO', 'FORMAT'], axis=1)\n",
    "        df = df[['Position'] + [ col for col in df.columns if col not in ['Position']]]\n",
    "        df[\"N\"] = df.apply(lambda x: sum([i != 0 for i in x[1:]]), axis=1)\n",
    "        df = df[['Position', 'N'] + [ col for col in df.columns if col not in ['Position', 'N']]]\n",
    "        \n",
    "        def extract_sample_name(row):\n",
    "            count_list = [i != 0 for i in row[2:]]\n",
    "            samples = np.array(df.columns[2:])\n",
    "            # samples[np.array(count_list)] filter array with True False array\n",
    "            return ((',').join(samples[np.array(count_list)]))\n",
    "    \n",
    "        df['Samples'] = df.apply(extract_sample_name, axis=1)\n",
    "        df = df[['Position', 'N', 'Samples'] + [ col for col in df.columns if col not in ['Position', 'N', 'Samples']]]\n",
    "        \n",
    "    else:\n",
    "        logger.info(\"This vcf file is not v4.2\")\n",
    "        sys.exit(1)\n",
    "\n",
    "    return df"
   ]
  },
  {
   "cell_type": "code",
   "execution_count": 97,
   "metadata": {},
   "outputs": [],
   "source": [
    "df = import_VCF4_core_to_compare(vcf)"
   ]
  },
  {
   "cell_type": "code",
   "execution_count": 98,
   "metadata": {},
   "outputs": [
    {
     "data": {
      "text/html": [
       "<div>\n",
       "<style scoped>\n",
       "    .dataframe tbody tr th:only-of-type {\n",
       "        vertical-align: middle;\n",
       "    }\n",
       "\n",
       "    .dataframe tbody tr th {\n",
       "        vertical-align: top;\n",
       "    }\n",
       "\n",
       "    .dataframe thead th {\n",
       "        text-align: right;\n",
       "    }\n",
       "</style>\n",
       "<table border=\"1\" class=\"dataframe\">\n",
       "  <thead>\n",
       "    <tr style=\"text-align: right;\">\n",
       "      <th></th>\n",
       "      <th>Position</th>\n",
       "      <th>N</th>\n",
       "      <th>Samples</th>\n",
       "      <th>10082989-0-COL2</th>\n",
       "      <th>10082989-0-COL3</th>\n",
       "      <th>10082989-0-COL7</th>\n",
       "      <th>10105494-0-COL1</th>\n",
       "      <th>10105494-0-COL2</th>\n",
       "      <th>AL10105494COL0</th>\n",
       "    </tr>\n",
       "  </thead>\n",
       "  <tbody>\n",
       "    <tr>\n",
       "      <td>0</td>\n",
       "      <td>MTB_anc|T|1701|C</td>\n",
       "      <td>6</td>\n",
       "      <td>10082989-0-COL2,10082989-0-COL3,10082989-0-COL7,10105494-0-COL1,10105494-0-COL2,AL10105494COL0</td>\n",
       "      <td>1</td>\n",
       "      <td>1</td>\n",
       "      <td>1</td>\n",
       "      <td>1</td>\n",
       "      <td>1</td>\n",
       "      <td>1</td>\n",
       "    </tr>\n",
       "    <tr>\n",
       "      <td>1</td>\n",
       "      <td>MTB_anc|C|2532|T</td>\n",
       "      <td>6</td>\n",
       "      <td>10082989-0-COL2,10082989-0-COL3,10082989-0-COL7,10105494-0-COL1,10105494-0-COL2,AL10105494COL0</td>\n",
       "      <td>1</td>\n",
       "      <td>1</td>\n",
       "      <td>1</td>\n",
       "      <td>1</td>\n",
       "      <td>1</td>\n",
       "      <td>1</td>\n",
       "    </tr>\n",
       "    <tr>\n",
       "      <td>2</td>\n",
       "      <td>MTB_anc|G|8040|A</td>\n",
       "      <td>6</td>\n",
       "      <td>10082989-0-COL2,10082989-0-COL3,10082989-0-COL7,10105494-0-COL1,10105494-0-COL2,AL10105494COL0</td>\n",
       "      <td>1</td>\n",
       "      <td>1</td>\n",
       "      <td>1</td>\n",
       "      <td>1</td>\n",
       "      <td>1</td>\n",
       "      <td>1</td>\n",
       "    </tr>\n",
       "    <tr>\n",
       "      <td>3</td>\n",
       "      <td>MTB_anc|C|9143|T</td>\n",
       "      <td>6</td>\n",
       "      <td>10082989-0-COL2,10082989-0-COL3,10082989-0-COL7,10105494-0-COL1,10105494-0-COL2,AL10105494COL0</td>\n",
       "      <td>1</td>\n",
       "      <td>1</td>\n",
       "      <td>1</td>\n",
       "      <td>1</td>\n",
       "      <td>1</td>\n",
       "      <td>1</td>\n",
       "    </tr>\n",
       "    <tr>\n",
       "      <td>4</td>\n",
       "      <td>MTB_anc|G|13460|A</td>\n",
       "      <td>6</td>\n",
       "      <td>10082989-0-COL2,10082989-0-COL3,10082989-0-COL7,10105494-0-COL1,10105494-0-COL2,AL10105494COL0</td>\n",
       "      <td>1</td>\n",
       "      <td>1</td>\n",
       "      <td>1</td>\n",
       "      <td>1</td>\n",
       "      <td>1</td>\n",
       "      <td>1</td>\n",
       "    </tr>\n",
       "  </tbody>\n",
       "</table>\n",
       "</div>"
      ],
      "text/plain": [
       "            Position  N  \\\n",
       "0  MTB_anc|T|1701|C   6   \n",
       "1  MTB_anc|C|2532|T   6   \n",
       "2  MTB_anc|G|8040|A   6   \n",
       "3  MTB_anc|C|9143|T   6   \n",
       "4  MTB_anc|G|13460|A  6   \n",
       "\n",
       "                                                                                          Samples  \\\n",
       "0  10082989-0-COL2,10082989-0-COL3,10082989-0-COL7,10105494-0-COL1,10105494-0-COL2,AL10105494COL0   \n",
       "1  10082989-0-COL2,10082989-0-COL3,10082989-0-COL7,10105494-0-COL1,10105494-0-COL2,AL10105494COL0   \n",
       "2  10082989-0-COL2,10082989-0-COL3,10082989-0-COL7,10105494-0-COL1,10105494-0-COL2,AL10105494COL0   \n",
       "3  10082989-0-COL2,10082989-0-COL3,10082989-0-COL7,10105494-0-COL1,10105494-0-COL2,AL10105494COL0   \n",
       "4  10082989-0-COL2,10082989-0-COL3,10082989-0-COL7,10105494-0-COL1,10105494-0-COL2,AL10105494COL0   \n",
       "\n",
       "   10082989-0-COL2  10082989-0-COL3  10082989-0-COL7  10105494-0-COL1  \\\n",
       "0  1                1                1                1                 \n",
       "1  1                1                1                1                 \n",
       "2  1                1                1                1                 \n",
       "3  1                1                1                1                 \n",
       "4  1                1                1                1                 \n",
       "\n",
       "   10105494-0-COL2  AL10105494COL0  \n",
       "0  1                1               \n",
       "1  1                1               \n",
       "2  1                1               \n",
       "3  1                1               \n",
       "4  1                1               "
      ]
     },
     "execution_count": 98,
     "metadata": {},
     "output_type": "execute_result"
    }
   ],
   "source": [
    "df.head()"
   ]
  },
  {
   "cell_type": "code",
   "execution_count": 99,
   "metadata": {},
   "outputs": [],
   "source": [
    "def add_window_distance(vcf_df, window_size=10):\n",
    "    \"\"\"\n",
    "    Add a column indicating the maximum number of SNPs in a windows of 10 or supplied distance\n",
    "    \"\"\"\n",
    "    list_pos = vcf_df.POS.to_list()  # all positions\n",
    "    set_pos = set(list_pos)  # to set for later comparing\n",
    "    # max to iter over positions (independent from reference)\n",
    "    max_pos = max(vcf_df.POS.to_list())\n",
    "\n",
    "    all_list = list(range(1, max_pos + 1))  # create a list to slide one by one\n",
    "\n",
    "    df_header = \"window_\" + str(window_size)\n",
    "\n",
    "    vcf_df[df_header] = 1  # Create all 1 by default\n",
    "\n",
    "    # Slide over windows\n",
    "    for i in range(0, max_pos, 1):\n",
    "        # This splits the list in windows of determined length\n",
    "        window_pos = all_list[i:i+window_size]\n",
    "        set_window_pos = set(window_pos)\n",
    "        # How many known positions are in every window for later clasification\n",
    "        num_conglomerate = set_pos & set_window_pos\n",
    "\n",
    "        if len(num_conglomerate) > 1:\n",
    "            for i in num_conglomerate:\n",
    "                # Retrieve index with the known position\n",
    "                index = vcf_df.index[vcf_df[\"POS\"] == i][0]\n",
    "                if vcf_df.loc[index, df_header] < len(num_conglomerate):\n",
    "                    vcf_df.loc[index, df_header] = len(num_conglomerate)"
   ]
  },
  {
   "cell_type": "code",
   "execution_count": 100,
   "metadata": {},
   "outputs": [],
   "source": [
    "def extract_close_snps(df, snps_in_10=1):\n",
    "    # Calculate close SNPS/INDELS and remove those with 2 or more mutations in 10bp\n",
    "    df['POS'] = df.apply(lambda x: x.Position.split('|')[2], axis=1)\n",
    "    df['POS'] = df['POS'].astype(int)\n",
    "    df = df.sort_values(\"POS\")\n",
    "    add_window_distance(df)\n",
    "    return df_w[df_w.window_10 > snps_in_10].POS.tolist()"
   ]
  },
  {
   "cell_type": "code",
   "execution_count": 111,
   "metadata": {},
   "outputs": [],
   "source": [
    "close_positions = extract_close_snps(df)"
   ]
  },
  {
   "cell_type": "code",
   "execution_count": 104,
   "metadata": {},
   "outputs": [],
   "source": [
    "def coverage_to_df(input_file,min_coverage=10):\n",
    "    sample_name = input_file.split(\"/\")[-1].split(\".\")[0]\n",
    "    min_cov_df = pd.DataFrame()\n",
    "    coverage_list = []\n",
    "    with open(input_file, 'r') as f:\n",
    "            content = f.read()\n",
    "            content_list = content.split('\\n')\n",
    "            while '' in content_list : content_list.remove('')\n",
    "    coverage_list = [int(x.split(\"\\t\")[2]) for x in content_list]\n",
    "    min_cov_df[sample_name] = coverage_list\n",
    "    min_cov_df = min_cov_df[min_cov_df < min_coverage].dropna(how='all')\n",
    "    \n",
    "    return min_cov_df\n",
    "\n",
    "def identify_uncovered(cov_folder, min_coverage=10, nocall_fr=0.5):\n",
    "    cov_folder = os.path.abspath(cov_folder)\n",
    "    len_files = set()\n",
    "    #Create Position column and asign value\n",
    "    cov_df = pd.DataFrame()\n",
    "    \n",
    "    for root, _, files in os.walk(cov_folder):\n",
    "        if root == cov_folder:\n",
    "            for name in files:\n",
    "                if name.endswith(\".cov\"):\n",
    "                    filename = os.path.join(root, name)\n",
    "                    #import to dataframe if they have the same positios(same reference)\n",
    "                    low_coverage_df = coverage_to_df(filename)\n",
    "                    cov_df = cov_df.merge(low_coverage_df, how='outer', left_index=True, right_index=True)          \n",
    "                    \n",
    "                                   \n",
    "    #Determine low covered positions in dataframe\n",
    "    #Filter positions with values lower than min_cov, dro rows with all false and extract the indet to iterate\n",
    "    df_any_uncovered = cov_df[cov_df < min_coverage].dropna(how='all')#.index.tolist()\n",
    "    df_any_uncovered['N_uncovered'] = df_any_uncovered.count(axis=1)\n",
    "    df_any_uncovered['Position'] = df_any_uncovered.index + 1\n",
    "    \n",
    "    n_samples = len(df_any_uncovered.columns) - 2\n",
    "    \n",
    "    df_half_uncovered_list = df_any_uncovered['Position'][df_any_uncovered.N_uncovered / n_samples >= nocall_fr].tolist()\n",
    "    \n",
    "    return df_half_uncovered_list"
   ]
  },
  {
   "cell_type": "code",
   "execution_count": 103,
   "metadata": {},
   "outputs": [],
   "source": [
    "cov_df = coverage_to_df(\"/home/laura/ANALYSIS/autosnippy_colonies/Stats/Coverage/AL10105494COL0.cov\")"
   ]
  },
  {
   "cell_type": "code",
   "execution_count": 115,
   "metadata": {},
   "outputs": [
    {
     "data": {
      "text/html": [
       "<div>\n",
       "<style scoped>\n",
       "    .dataframe tbody tr th:only-of-type {\n",
       "        vertical-align: middle;\n",
       "    }\n",
       "\n",
       "    .dataframe tbody tr th {\n",
       "        vertical-align: top;\n",
       "    }\n",
       "\n",
       "    .dataframe thead th {\n",
       "        text-align: right;\n",
       "    }\n",
       "</style>\n",
       "<table border=\"1\" class=\"dataframe\">\n",
       "  <thead>\n",
       "    <tr style=\"text-align: right;\">\n",
       "      <th></th>\n",
       "      <th>AL10105494COL0</th>\n",
       "    </tr>\n",
       "  </thead>\n",
       "  <tbody>\n",
       "    <tr>\n",
       "      <td>17857</td>\n",
       "      <td>9.0</td>\n",
       "    </tr>\n",
       "    <tr>\n",
       "      <td>17858</td>\n",
       "      <td>9.0</td>\n",
       "    </tr>\n",
       "    <tr>\n",
       "      <td>17859</td>\n",
       "      <td>9.0</td>\n",
       "    </tr>\n",
       "    <tr>\n",
       "      <td>17860</td>\n",
       "      <td>9.0</td>\n",
       "    </tr>\n",
       "    <tr>\n",
       "      <td>17861</td>\n",
       "      <td>9.0</td>\n",
       "    </tr>\n",
       "  </tbody>\n",
       "</table>\n",
       "</div>"
      ],
      "text/plain": [
       "       AL10105494COL0\n",
       "17857  9.0           \n",
       "17858  9.0           \n",
       "17859  9.0           \n",
       "17860  9.0           \n",
       "17861  9.0           "
      ]
     },
     "execution_count": 115,
     "metadata": {},
     "output_type": "execute_result"
    }
   ],
   "source": [
    "cov_df.head()"
   ]
  },
  {
   "cell_type": "code",
   "execution_count": 106,
   "metadata": {},
   "outputs": [],
   "source": [
    "uncovered = identify_uncovered(cov_folder)"
   ]
  },
  {
   "cell_type": "code",
   "execution_count": 107,
   "metadata": {},
   "outputs": [
    {
     "data": {
      "text/plain": [
       "[17858, 17859, 17860, 17861, 17862]"
      ]
     },
     "execution_count": 107,
     "metadata": {},
     "output_type": "execute_result"
    }
   ],
   "source": [
    "uncovered"
   ]
  },
  {
   "cell_type": "code",
   "execution_count": 110,
   "metadata": {},
   "outputs": [
    {
     "data": {
      "text/plain": [
       "(1023, 10)"
      ]
     },
     "execution_count": 110,
     "metadata": {},
     "output_type": "execute_result"
    }
   ],
   "source": [
    "df.shape"
   ]
  },
  {
   "cell_type": "code",
   "execution_count": 112,
   "metadata": {},
   "outputs": [],
   "source": [
    "to_remove = close_positions + uncovered"
   ]
  },
  {
   "cell_type": "code",
   "execution_count": 113,
   "metadata": {},
   "outputs": [
    {
     "data": {
      "text/plain": [
       "172968"
      ]
     },
     "execution_count": 113,
     "metadata": {},
     "output_type": "execute_result"
    }
   ],
   "source": [
    "len(to_remove)"
   ]
  },
  {
   "cell_type": "code",
   "execution_count": 123,
   "metadata": {},
   "outputs": [],
   "source": [
    "def remove_position_from_compare(df, position_list):\n",
    "    df['POS'] = df.apply(lambda x: x.Position.split('|')[2], axis=1)\n",
    "    df['POS'] = df['POS'].astype(int)\n",
    "    df = df.sort_values(\"POS\")\n",
    "    df = df[~df['POS'].isin(position_list)]\n",
    "    df = df.drop(['POS'], axis=1)\n",
    "    return df"
   ]
  },
  {
   "cell_type": "code",
   "execution_count": 124,
   "metadata": {},
   "outputs": [],
   "source": [
    "rmdf = remove_position_from_compare(df, to_remove)"
   ]
  },
  {
   "cell_type": "code",
   "execution_count": 125,
   "metadata": {},
   "outputs": [
    {
     "data": {
      "text/plain": [
       "(875, 9)"
      ]
     },
     "execution_count": 125,
     "metadata": {},
     "output_type": "execute_result"
    }
   ],
   "source": [
    "rmdf.shape"
   ]
  },
  {
   "cell_type": "code",
   "execution_count": 129,
   "metadata": {},
   "outputs": [
    {
     "data": {
      "text/plain": [
       "'helllo 27463,27469,206481,206484,233358,233364,467504,467508,467516,672330,672332,947429,947430,1213024,1213025,1341040,1341044,1390527,1390528,1490905,1490911,1634580,1634581,1634586,1634589,1634592,1634609,1634610,1636733,1636742,1789675,1789678,1792777,1792778,2282376,2282377,2338990,2338994,2339719,2339726,2626189,2626191,2637327,2637330,2637475,2637476,2637481,2637483,2637520,2637523,2970017,2970018,2970019,2977169,2977173,2977176,2977177,2977179,2977180,3006896,3006898,3119737,3119738,3119740,3119741,3122943,3122949,3122951,3133054,3133055,3247865,3247874,3379708,3379712,3379718,3379726,3379730,3379732,3379735,3379736,3379742,3379751,3379757,3379763,3418328,3418330,3501666,3501668,3737830,3737836,3737839,3738689,3738690,3738692,3738694,3739236,3739238,3750177,3750178,3750185,3750205,3750209,3750210,3750417,3750421,3750805,3750808,3750812,3930526,3930532,4264218,4264219'"
      ]
     },
     "execution_count": 129,
     "metadata": {},
     "output_type": "execute_result"
    }
   ],
   "source": [
    "\"helllo {}\".format((\",\").join([str(x) for x in close_positions]))"
   ]
  },
  {
   "cell_type": "code",
   "execution_count": 128,
   "metadata": {},
   "outputs": [
    {
     "data": {
      "text/plain": [
       "[27463,\n",
       " 27469,\n",
       " 206481,\n",
       " 206484,\n",
       " 233358,\n",
       " 233364,\n",
       " 467504,\n",
       " 467508,\n",
       " 467516,\n",
       " 672330,\n",
       " 672332,\n",
       " 947429,\n",
       " 947430,\n",
       " 1213024,\n",
       " 1213025,\n",
       " 1341040,\n",
       " 1341044,\n",
       " 1390527,\n",
       " 1390528,\n",
       " 1490905,\n",
       " 1490911,\n",
       " 1634580,\n",
       " 1634581,\n",
       " 1634586,\n",
       " 1634589,\n",
       " 1634592,\n",
       " 1634609,\n",
       " 1634610,\n",
       " 1636733,\n",
       " 1636742,\n",
       " 1789675,\n",
       " 1789678,\n",
       " 1792777,\n",
       " 1792778,\n",
       " 2282376,\n",
       " 2282377,\n",
       " 2338990,\n",
       " 2338994,\n",
       " 2339719,\n",
       " 2339726,\n",
       " 2626189,\n",
       " 2626191,\n",
       " 2637327,\n",
       " 2637330,\n",
       " 2637475,\n",
       " 2637476,\n",
       " 2637481,\n",
       " 2637483,\n",
       " 2637520,\n",
       " 2637523,\n",
       " 2970017,\n",
       " 2970018,\n",
       " 2970019,\n",
       " 2977169,\n",
       " 2977173,\n",
       " 2977176,\n",
       " 2977177,\n",
       " 2977179,\n",
       " 2977180,\n",
       " 3006896,\n",
       " 3006898,\n",
       " 3119737,\n",
       " 3119738,\n",
       " 3119740,\n",
       " 3119741,\n",
       " 3122943,\n",
       " 3122949,\n",
       " 3122951,\n",
       " 3133054,\n",
       " 3133055,\n",
       " 3247865,\n",
       " 3247874,\n",
       " 3379708,\n",
       " 3379712,\n",
       " 3379718,\n",
       " 3379726,\n",
       " 3379730,\n",
       " 3379732,\n",
       " 3379735,\n",
       " 3379736,\n",
       " 3379742,\n",
       " 3379751,\n",
       " 3379757,\n",
       " 3379763,\n",
       " 3418328,\n",
       " 3418330,\n",
       " 3501666,\n",
       " 3501668,\n",
       " 3737830,\n",
       " 3737836,\n",
       " 3737839,\n",
       " 3738689,\n",
       " 3738690,\n",
       " 3738692,\n",
       " 3738694,\n",
       " 3739236,\n",
       " 3739238,\n",
       " 3750177,\n",
       " 3750178,\n",
       " 3750185,\n",
       " 3750205,\n",
       " 3750209,\n",
       " 3750210,\n",
       " 3750417,\n",
       " 3750421,\n",
       " 3750805,\n",
       " 3750808,\n",
       " 3750812,\n",
       " 3930526,\n",
       " 3930532,\n",
       " 4264218,\n",
       " 4264219]"
      ]
     },
     "execution_count": 128,
     "metadata": {},
     "output_type": "execute_result"
    }
   ],
   "source": [
    "close_positions"
   ]
  },
  {
   "cell_type": "code",
   "execution_count": null,
   "metadata": {},
   "outputs": [],
   "source": []
  }
 ],
 "metadata": {
  "kernelspec": {
   "display_name": "Python 3",
   "language": "python",
   "name": "python3"
  },
  "language_info": {
   "codemirror_mode": {
    "name": "ipython",
    "version": 3
   },
   "file_extension": ".py",
   "mimetype": "text/x-python",
   "name": "python",
   "nbconvert_exporter": "python",
   "pygments_lexer": "ipython3",
   "version": "3.7.4"
  }
 },
 "nbformat": 4,
 "nbformat_minor": 2
}
