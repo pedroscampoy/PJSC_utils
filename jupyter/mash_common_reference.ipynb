{
 "cells": [
  {
   "cell_type": "code",
   "execution_count": 1,
   "metadata": {},
   "outputs": [],
   "source": [
    "import os\n",
    "import sys\n",
    "import re\n",
    "import pandas as pd\n",
    "import Bio\n",
    "from Bio import Entrez\n",
    "from Bio import SeqIO\n",
    "from ftplib import FTP\n",
    "\n",
    "pd.set_option('display.max_columns', None)\n",
    "pd.set_option('display.max_rows', None)\n",
    "pd.set_option('display.max_colwidth', -1)"
   ]
  },
  {
   "cell_type": "code",
   "execution_count": 2,
   "metadata": {},
   "outputs": [],
   "source": [
    "#INPUTS\n",
    "folder='/processing_Data/antibioticos/mperezv/ANALYSIS/ST307_publicacion/mash'"
   ]
  },
  {
   "cell_type": "code",
   "execution_count": 3,
   "metadata": {},
   "outputs": [],
   "source": [
    "#Test inputs\n",
    "acc='NZ_CP026495.1'\n",
    "screen_file='/processing_Data/antibioticos/mperezv/ANALYSIS/ST307_publicacion/mash/ERR1218732/ERR1218732.screen.tab'"
   ]
  },
  {
   "cell_type": "code",
   "execution_count": 4,
   "metadata": {},
   "outputs": [],
   "source": [
    "def acc_to_record(accession_number):\n",
    "    Entrez.email = \"A.N.Other@example.com\"\n",
    "    try:\n",
    "        handle = Entrez.efetch(db=\"nucleotide\", id=accession_number, rettype=\"fasta\", retmode=\"text\")\n",
    "        record = SeqIO.read(handle, \"fasta\")\n",
    "        handle.close()\n",
    "        print(\"Downloaded: \" + record.description)\n",
    "        print(\"Downloaded: \" + str(len(record)))\n",
    "        return record\n",
    "    except:\n",
    "        print(record.id + \" failed to download\")\n",
    "        sys.exit(1)\n",
    "    \n",
    "    \n",
    "    '''    \n",
    "    if out_filename == False:\n",
    "        out_filename = record.id + \".fasta\"\n",
    "    else:\n",
    "        out_filename = out_filename + \".fasta\"\n",
    "        \n",
    "        \n",
    "    #SeqIO.write(record, output_handle, \"fasta\")\n",
    "    '''"
   ]
  },
  {
   "cell_type": "code",
   "execution_count": 5,
   "metadata": {},
   "outputs": [
    {
     "name": "stdout",
     "output_type": "stream",
     "text": [
      "Downloaded: NZ_CP026495.1 Klebsiella pneumoniae strain 616 chromosome, complete genome\n",
      "Downloaded: 5246307\n"
     ]
    }
   ],
   "source": [
    "record = acc_to_record(acc)"
   ]
  },
  {
   "cell_type": "code",
   "execution_count": 6,
   "metadata": {},
   "outputs": [
    {
     "data": {
      "text/plain": [
       "'NZ_CP026495.1'"
      ]
     },
     "execution_count": 6,
     "metadata": {},
     "output_type": "execute_result"
    }
   ],
   "source": [
    "record.id"
   ]
  },
  {
   "cell_type": "code",
   "execution_count": 40,
   "metadata": {},
   "outputs": [],
   "source": [
    "def return_best_complete_match(screen_file):\n",
    "    df = pd.read_csv(screen_file, sep='\\t', names=['identity', 'shared-hashes', 'median-multiplicity', 'p-value', 'query-ID', 'query-comment'])\n",
    "    df_complete = df[df['query-comment'].str.contains('complete genome')]\n",
    "    df_complete = df_complete[~df_complete['query-comment'].str.contains(' phage')]\n",
    "    df_complete = df_complete[~df_complete['query-comment'].str.contains(' Phage')]\n",
    "    df_complete = df_complete[~df_complete['query-comment'].str.contains('shotgun')]\n",
    "    df_complete = df_complete.sort_values(by=['identity'], ascending=False)\n",
    "    df_complete.reset_index(inplace=True)\n",
    "    return df_complete.iloc[0][['query-ID','query-comment']].tolist()"
   ]
  },
  {
   "cell_type": "code",
   "execution_count": 26,
   "metadata": {},
   "outputs": [],
   "source": [
    "def return_best_match(screen_file):\n",
    "    df = pd.read_csv(screen_file, sep='\\t', names=['identity', 'shared-hashes', 'median-multiplicity', 'p-value', 'query-ID', 'query-comment'])\n",
    "    #df_complete = df[df['query-comment'].str.contains('complete genome')]\n",
    "    df_complete = df.sort_values(by=['identity'], ascending=False)\n",
    "    df_complete.reset_index(inplace=True)\n",
    "    return df_complete.iloc[0][['query-ID','query-comment']].tolist()"
   ]
  },
  {
   "cell_type": "code",
   "execution_count": 27,
   "metadata": {},
   "outputs": [],
   "source": [
    "dfcomplete = return_best_complete_match(screen_file)"
   ]
  },
  {
   "cell_type": "code",
   "execution_count": 28,
   "metadata": {},
   "outputs": [
    {
     "data": {
      "text/plain": [
       "['GCF_003076555.1_ASM307655v1_genomic.fna.gz',\n",
       " '[3 seqs] NZ_CP026495.1 Klebsiella pneumoniae strain 616 chromosome, complete genome [...]']"
      ]
     },
     "execution_count": 28,
     "metadata": {},
     "output_type": "execute_result"
    }
   ],
   "source": [
    "dfcomplete"
   ]
  },
  {
   "cell_type": "code",
   "execution_count": 29,
   "metadata": {},
   "outputs": [],
   "source": [
    "dfb = return_best_match(screen_file)"
   ]
  },
  {
   "cell_type": "code",
   "execution_count": 30,
   "metadata": {},
   "outputs": [
    {
     "data": {
      "text/plain": [
       "['GCF_900092885.1_18090_8_42_genomic.fna.gz',\n",
       " '[30 seqs] NZ_FLWY01000029.1 Klebsiella pneumoniae strain PB107, whole genome shotgun sequence [...]']"
      ]
     },
     "execution_count": 30,
     "metadata": {},
     "output_type": "execute_result"
    }
   ],
   "source": [
    "dfb"
   ]
  },
  {
   "cell_type": "code",
   "execution_count": 31,
   "metadata": {},
   "outputs": [
    {
     "name": "stdout",
     "output_type": "stream",
     "text": [
      "CPU times: user 1.3 s, sys: 195 ms, total: 1.49 s\n",
      "Wall time: 8.29 s\n"
     ]
    }
   ],
   "source": [
    "%%time\n",
    "\n",
    "dfrefseq = pd.read_csv('ftp://ftp.ncbi.nlm.nih.gov/genomes/refseq/bacteria/assembly_summary.txt', skiprows=0, sep='\\t', header=1)\n"
   ]
  },
  {
   "cell_type": "code",
   "execution_count": 32,
   "metadata": {},
   "outputs": [
    {
     "data": {
      "text/plain": [
       "(181083, 22)"
      ]
     },
     "execution_count": 32,
     "metadata": {},
     "output_type": "execute_result"
    }
   ],
   "source": [
    "dfrefseq.shape"
   ]
  },
  {
   "cell_type": "code",
   "execution_count": 33,
   "metadata": {},
   "outputs": [
    {
     "data": {
      "text/html": [
       "<div>\n",
       "<style scoped>\n",
       "    .dataframe tbody tr th:only-of-type {\n",
       "        vertical-align: middle;\n",
       "    }\n",
       "\n",
       "    .dataframe tbody tr th {\n",
       "        vertical-align: top;\n",
       "    }\n",
       "\n",
       "    .dataframe thead th {\n",
       "        text-align: right;\n",
       "    }\n",
       "</style>\n",
       "<table border=\"1\" class=\"dataframe\">\n",
       "  <thead>\n",
       "    <tr style=\"text-align: right;\">\n",
       "      <th></th>\n",
       "      <th># assembly_accession</th>\n",
       "      <th>bioproject</th>\n",
       "      <th>biosample</th>\n",
       "      <th>wgs_master</th>\n",
       "      <th>refseq_category</th>\n",
       "      <th>taxid</th>\n",
       "      <th>species_taxid</th>\n",
       "      <th>organism_name</th>\n",
       "      <th>infraspecific_name</th>\n",
       "      <th>isolate</th>\n",
       "      <th>version_status</th>\n",
       "      <th>assembly_level</th>\n",
       "      <th>release_type</th>\n",
       "      <th>genome_rep</th>\n",
       "      <th>seq_rel_date</th>\n",
       "      <th>asm_name</th>\n",
       "      <th>submitter</th>\n",
       "      <th>gbrs_paired_asm</th>\n",
       "      <th>paired_asm_comp</th>\n",
       "      <th>ftp_path</th>\n",
       "      <th>excluded_from_refseq</th>\n",
       "      <th>relation_to_type_material</th>\n",
       "    </tr>\n",
       "  </thead>\n",
       "  <tbody>\n",
       "    <tr>\n",
       "      <th>0</th>\n",
       "      <td>GCF_000010525.1</td>\n",
       "      <td>PRJNA224116</td>\n",
       "      <td>SAMD00060925</td>\n",
       "      <td>NaN</td>\n",
       "      <td>representative genome</td>\n",
       "      <td>438753</td>\n",
       "      <td>7</td>\n",
       "      <td>Azorhizobium caulinodans ORS 571</td>\n",
       "      <td>strain=ORS 571</td>\n",
       "      <td>NaN</td>\n",
       "      <td>latest</td>\n",
       "      <td>Complete Genome</td>\n",
       "      <td>Major</td>\n",
       "      <td>Full</td>\n",
       "      <td>2007/10/16</td>\n",
       "      <td>ASM1052v1</td>\n",
       "      <td>University of Tokyo</td>\n",
       "      <td>GCA_000010525.1</td>\n",
       "      <td>identical</td>\n",
       "      <td>ftp://ftp.ncbi.nlm.nih.gov/genomes/all/GCF/000/010/525/GCF_000010525.1_ASM1052v1</td>\n",
       "      <td>NaN</td>\n",
       "      <td>assembly from type material</td>\n",
       "    </tr>\n",
       "    <tr>\n",
       "      <th>1</th>\n",
       "      <td>GCF_000007365.1</td>\n",
       "      <td>PRJNA224116</td>\n",
       "      <td>SAMN02604269</td>\n",
       "      <td>NaN</td>\n",
       "      <td>representative genome</td>\n",
       "      <td>198804</td>\n",
       "      <td>9</td>\n",
       "      <td>Buchnera aphidicola str. Sg (Schizaphis graminum)</td>\n",
       "      <td>strain=Sg</td>\n",
       "      <td>NaN</td>\n",
       "      <td>latest</td>\n",
       "      <td>Complete Genome</td>\n",
       "      <td>Major</td>\n",
       "      <td>Full</td>\n",
       "      <td>2002/07/02</td>\n",
       "      <td>ASM736v1</td>\n",
       "      <td>Uppsala Univ.</td>\n",
       "      <td>GCA_000007365.1</td>\n",
       "      <td>identical</td>\n",
       "      <td>ftp://ftp.ncbi.nlm.nih.gov/genomes/all/GCF/000/007/365/GCF_000007365.1_ASM736v1</td>\n",
       "      <td>NaN</td>\n",
       "      <td>NaN</td>\n",
       "    </tr>\n",
       "    <tr>\n",
       "      <th>2</th>\n",
       "      <td>GCF_000007725.1</td>\n",
       "      <td>PRJNA224116</td>\n",
       "      <td>SAMN02604289</td>\n",
       "      <td>NaN</td>\n",
       "      <td>representative genome</td>\n",
       "      <td>224915</td>\n",
       "      <td>9</td>\n",
       "      <td>Buchnera aphidicola str. Bp (Baizongia pistaciae)</td>\n",
       "      <td>strain=Bp (Baizongia pistaciae)</td>\n",
       "      <td>NaN</td>\n",
       "      <td>latest</td>\n",
       "      <td>Complete Genome</td>\n",
       "      <td>Major</td>\n",
       "      <td>Full</td>\n",
       "      <td>2003/01/29</td>\n",
       "      <td>ASM772v1</td>\n",
       "      <td>Valencia Univ.</td>\n",
       "      <td>GCA_000007725.1</td>\n",
       "      <td>identical</td>\n",
       "      <td>ftp://ftp.ncbi.nlm.nih.gov/genomes/all/GCF/000/007/725/GCF_000007725.1_ASM772v1</td>\n",
       "      <td>NaN</td>\n",
       "      <td>NaN</td>\n",
       "    </tr>\n",
       "    <tr>\n",
       "      <th>3</th>\n",
       "      <td>GCF_000009605.1</td>\n",
       "      <td>PRJNA57805</td>\n",
       "      <td>SAMD00061095</td>\n",
       "      <td>NaN</td>\n",
       "      <td>reference genome</td>\n",
       "      <td>107806</td>\n",
       "      <td>9</td>\n",
       "      <td>Buchnera aphidicola str. APS (Acyrthosiphon pisum)</td>\n",
       "      <td>strain=APS</td>\n",
       "      <td>Tokyo1998</td>\n",
       "      <td>latest</td>\n",
       "      <td>Complete Genome</td>\n",
       "      <td>Major</td>\n",
       "      <td>Full</td>\n",
       "      <td>2004/05/11</td>\n",
       "      <td>ASM960v1</td>\n",
       "      <td>Rikken GSC</td>\n",
       "      <td>GCA_000009605.1</td>\n",
       "      <td>identical</td>\n",
       "      <td>ftp://ftp.ncbi.nlm.nih.gov/genomes/all/GCF/000/009/605/GCF_000009605.1_ASM960v1</td>\n",
       "      <td>NaN</td>\n",
       "      <td>NaN</td>\n",
       "    </tr>\n",
       "  </tbody>\n",
       "</table>\n",
       "</div>"
      ],
      "text/plain": [
       "  # assembly_accession   bioproject     biosample wgs_master  \\\n",
       "0  GCF_000010525.1      PRJNA224116  SAMD00060925  NaN         \n",
       "1  GCF_000007365.1      PRJNA224116  SAMN02604269  NaN         \n",
       "2  GCF_000007725.1      PRJNA224116  SAMN02604289  NaN         \n",
       "3  GCF_000009605.1      PRJNA57805   SAMD00061095  NaN         \n",
       "\n",
       "         refseq_category   taxid  species_taxid  \\\n",
       "0  representative genome  438753  7               \n",
       "1  representative genome  198804  9               \n",
       "2  representative genome  224915  9               \n",
       "3  reference genome       107806  9               \n",
       "\n",
       "                                        organism_name  \\\n",
       "0  Azorhizobium caulinodans ORS 571                     \n",
       "1  Buchnera aphidicola str. Sg (Schizaphis graminum)    \n",
       "2  Buchnera aphidicola str. Bp (Baizongia pistaciae)    \n",
       "3  Buchnera aphidicola str. APS (Acyrthosiphon pisum)   \n",
       "\n",
       "                infraspecific_name    isolate version_status   assembly_level  \\\n",
       "0  strain=ORS 571                   NaN        latest         Complete Genome   \n",
       "1  strain=Sg                        NaN        latest         Complete Genome   \n",
       "2  strain=Bp (Baizongia pistaciae)  NaN        latest         Complete Genome   \n",
       "3  strain=APS                       Tokyo1998  latest         Complete Genome   \n",
       "\n",
       "  release_type genome_rep seq_rel_date   asm_name            submitter  \\\n",
       "0  Major        Full       2007/10/16   ASM1052v1  University of Tokyo   \n",
       "1  Major        Full       2002/07/02   ASM736v1   Uppsala Univ.         \n",
       "2  Major        Full       2003/01/29   ASM772v1   Valencia Univ.        \n",
       "3  Major        Full       2004/05/11   ASM960v1   Rikken GSC            \n",
       "\n",
       "   gbrs_paired_asm paired_asm_comp  \\\n",
       "0  GCA_000010525.1  identical        \n",
       "1  GCA_000007365.1  identical        \n",
       "2  GCA_000007725.1  identical        \n",
       "3  GCA_000009605.1  identical        \n",
       "\n",
       "                                                                           ftp_path  \\\n",
       "0  ftp://ftp.ncbi.nlm.nih.gov/genomes/all/GCF/000/010/525/GCF_000010525.1_ASM1052v1   \n",
       "1  ftp://ftp.ncbi.nlm.nih.gov/genomes/all/GCF/000/007/365/GCF_000007365.1_ASM736v1    \n",
       "2  ftp://ftp.ncbi.nlm.nih.gov/genomes/all/GCF/000/007/725/GCF_000007725.1_ASM772v1    \n",
       "3  ftp://ftp.ncbi.nlm.nih.gov/genomes/all/GCF/000/009/605/GCF_000009605.1_ASM960v1    \n",
       "\n",
       "  excluded_from_refseq    relation_to_type_material  \n",
       "0  NaN                  assembly from type material  \n",
       "1  NaN                  NaN                          \n",
       "2  NaN                  NaN                          \n",
       "3  NaN                  NaN                          "
      ]
     },
     "execution_count": 33,
     "metadata": {},
     "output_type": "execute_result"
    }
   ],
   "source": [
    "dfrefseq.head(4)"
   ]
  },
  {
   "cell_type": "code",
   "execution_count": 34,
   "metadata": {},
   "outputs": [
    {
     "data": {
      "text/plain": [
       "46847    ftp://ftp.ncbi.nlm.nih.gov/genomes/all/GCF/003/076/555/GCF_003076555.1_ASM307655v1\n",
       "Name: ftp_path, dtype: object"
      ]
     },
     "execution_count": 34,
     "metadata": {},
     "output_type": "execute_result"
    }
   ],
   "source": [
    "ftp = dfrefseq['ftp_path'][dfrefseq['# assembly_accession'] =='GCF_003076555.1']\n",
    "ftp"
   ]
  },
  {
   "cell_type": "code",
   "execution_count": 35,
   "metadata": {},
   "outputs": [
    {
     "data": {
      "text/plain": [
       "'/genomes/all/GCF/003/076/555/GCF_003076555.1_ASM307655v1'"
      ]
     },
     "execution_count": 35,
     "metadata": {},
     "output_type": "execute_result"
    }
   ],
   "source": [
    "ftp.values[0].split('.gov')[-1]"
   ]
  },
  {
   "cell_type": "code",
   "execution_count": 36,
   "metadata": {},
   "outputs": [],
   "source": [
    "def gcf_to_ftp_path(gcf_value):\n",
    "    try:\n",
    "        dfrefseq = pd.read_csv('ftp://ftp.ncbi.nlm.nih.gov/genomes/refseq/bacteria/assembly_summary.txt', skiprows=0, sep='\\t', header=1)\n",
    "    except:\n",
    "        print('There was a problem obtaining assembly_summary.txt\\n \\\n",
    "        Check: ftp://ftp.ncbi.nlm.nih.gov/genomes/refseq/bacteria/assembly_summary.txt')\n",
    "        sys.exit(1)\n",
    "    ftp_path = dfrefseq['ftp_path'][dfrefseq['# assembly_accession'] == gcf_value]\n",
    "    ftp_path_no_domain = ftp_path.values[0].split('.gov')[-1]\n",
    "    \n",
    "    return ftp_path_no_domain\n"
   ]
  },
  {
   "cell_type": "code",
   "execution_count": 37,
   "metadata": {},
   "outputs": [
    {
     "data": {
      "text/plain": [
       "'/genomes/all/GCF/003/076/555/GCF_003076555.1_ASM307655v1'"
      ]
     },
     "execution_count": 37,
     "metadata": {},
     "output_type": "execute_result"
    }
   ],
   "source": [
    "gcf_to_ftp_path('GCF_003076555.1')"
   ]
  },
  {
   "cell_type": "code",
   "execution_count": 54,
   "metadata": {},
   "outputs": [],
   "source": [
    "def find_common_reference(folder):\n",
    "    '''\n",
    "    Dependencies:   -input folder\n",
    "                    -return_best_complete_match(filename)\n",
    "                    -return_best_match(filename)\n",
    "    '''\n",
    "    #create empty df\n",
    "    counter_record_complete = pd.DataFrame(columns=['query-ID','query-comment'])\n",
    "    counter_record_all = pd.DataFrame(columns=['query-ID','query-comment'])\n",
    "    \n",
    "    #Find common reference from mash result\n",
    "    for root, _, files in os.walk(folder):\n",
    "        for name in files:\n",
    "            if name.endswith(\"screen.tab\"):\n",
    "                filename = os.path.join(root, name)\n",
    "                best_match_complete = return_best_complete_match(filename)\n",
    "                counter_record_complete.loc[len(counter_record_complete)] = best_match_complete\n",
    "                \n",
    "                best_match = return_best_match(filename)\n",
    "                counter_record_all.loc[len(counter_record_all)] = best_match\n",
    "    #pd.rename_axis and reset_index turn count_values() into a dataframe\n",
    "    #https://stackoverflow.com/questions/47136436/python-pandas-convert-value-counts-output-to-dataframe\n",
    "    #df = value_counts.rename_axis('unique_values').to_frame('counts')\n",
    "    #counter_comment = counter_record['query-comment'].value_counts().rename_axis('unique_values').reset_index(name='counts')\n",
    "    #counter_id = counter_record['query-ID'].value_counts().rename_axis('unique_values').reset_index(name='counts')\n",
    "    counter_df_complete = counter_record_complete.groupby(['query-comment', 'query-ID']).size().reset_index(name='counts')\\\n",
    "    .sort_values(by=['counts'], ascending=False).reset_index(drop = True)\n",
    "    \n",
    "    counter_df = counter_record_all.groupby(['query-comment', 'query-ID']).size().reset_index(name='counts')\\\n",
    "    .sort_values(by=['counts'], ascending=False).reset_index(drop = True)\n",
    "    \n",
    "    gfc_complete = ('_').join(counter_df_complete.iloc[0]['query-ID'].split('_')[0:2])\n",
    "    gfc_description = re.sub(r'[ ]?\\[.{1,9}\\][ ]?','',counter_df_complete.iloc[0]['query-comment'])\n",
    "        \n",
    "    #counter_values.to_csv(output_raw_tab, sep='\\t', index=False)\n",
    "    return gfc_complete,gfc_description"
   ]
  },
  {
   "cell_type": "code",
   "execution_count": 55,
   "metadata": {},
   "outputs": [],
   "source": [
    "matchdf = find_common_reference(folder)"
   ]
  },
  {
   "cell_type": "code",
   "execution_count": 56,
   "metadata": {},
   "outputs": [
    {
     "data": {
      "text/plain": [
       "('GCF_003076555.1',\n",
       " 'NZ_CP026495.1 Klebsiella pneumoniae strain 616 chromosome, complete genome')"
      ]
     },
     "execution_count": 56,
     "metadata": {},
     "output_type": "execute_result"
    }
   ],
   "source": [
    "matchdf"
   ]
  },
  {
   "cell_type": "code",
   "execution_count": 53,
   "metadata": {},
   "outputs": [
    {
     "data": {
      "text/plain": [
       "'NC_008782.1 Acidovorax sp. JS42, complete genome'"
      ]
     },
     "execution_count": 53,
     "metadata": {},
     "output_type": "execute_result"
    }
   ],
   "source": [
    "re.sub(r'[ ]?\\[.{1,9}\\][ ]?','','[3 seqs] NC_008782.1 Acidovorax sp. JS42, complete genome [...]')"
   ]
  },
  {
   "cell_type": "code",
   "execution_count": 90,
   "metadata": {},
   "outputs": [
    {
     "data": {
      "text/plain": [
       "'GCF_003076555.1'"
      ]
     },
     "execution_count": 90,
     "metadata": {},
     "output_type": "execute_result"
    }
   ],
   "source": [
    "('_').join(matchdf.iloc[0]['query-ID'].split('_')[0:2])"
   ]
  },
  {
   "cell_type": "code",
   "execution_count": 82,
   "metadata": {},
   "outputs": [
    {
     "data": {
      "text/html": [
       "<div>\n",
       "<style scoped>\n",
       "    .dataframe tbody tr th:only-of-type {\n",
       "        vertical-align: middle;\n",
       "    }\n",
       "\n",
       "    .dataframe tbody tr th {\n",
       "        vertical-align: top;\n",
       "    }\n",
       "\n",
       "    .dataframe thead th {\n",
       "        text-align: right;\n",
       "    }\n",
       "</style>\n",
       "<table border=\"1\" class=\"dataframe\">\n",
       "  <thead>\n",
       "    <tr style=\"text-align: right;\">\n",
       "      <th></th>\n",
       "      <th>query-comment</th>\n",
       "      <th>query-ID</th>\n",
       "      <th>counts</th>\n",
       "    </tr>\n",
       "  </thead>\n",
       "  <tbody>\n",
       "    <tr>\n",
       "      <th>0</th>\n",
       "      <td>[2 seqs] NZ_CP010226.1 Escherichia coli strain S1, complete genome [...]</td>\n",
       "      <td>GCF_001901315.1_ASM190131v1_genomic.fna.gz</td>\n",
       "      <td>1</td>\n",
       "    </tr>\n",
       "    <tr>\n",
       "      <th>1</th>\n",
       "      <td>[3 seqs] NZ_CP026495.1 Klebsiella pneumoniae strain 616 chromosome, complete genome [...]</td>\n",
       "      <td>GCF_003076555.1_ASM307655v1_genomic.fna.gz</td>\n",
       "      <td>1</td>\n",
       "    </tr>\n",
       "  </tbody>\n",
       "</table>\n",
       "</div>"
      ],
      "text/plain": [
       "                                                                               query-comment  \\\n",
       "0  [2 seqs] NZ_CP010226.1 Escherichia coli strain S1, complete genome [...]                    \n",
       "1  [3 seqs] NZ_CP026495.1 Klebsiella pneumoniae strain 616 chromosome, complete genome [...]   \n",
       "\n",
       "                                     query-ID  counts  \n",
       "0  GCF_001901315.1_ASM190131v1_genomic.fna.gz  1       \n",
       "1  GCF_003076555.1_ASM307655v1_genomic.fna.gz  1       "
      ]
     },
     "execution_count": 82,
     "metadata": {},
     "output_type": "execute_result"
    }
   ],
   "source": [
    "find_common_reference('/processing_Data/antibioticos/mperezv/ANALYSIS/KPNCARSUR/10-mash')"
   ]
  },
  {
   "cell_type": "code",
   "execution_count": 94,
   "metadata": {},
   "outputs": [
    {
     "name": "stdout",
     "output_type": "stream",
     "text": [
      "GCF_002012205.1\n"
     ]
    },
    {
     "data": {
      "text/html": [
       "<div>\n",
       "<style scoped>\n",
       "    .dataframe tbody tr th:only-of-type {\n",
       "        vertical-align: middle;\n",
       "    }\n",
       "\n",
       "    .dataframe tbody tr th {\n",
       "        vertical-align: top;\n",
       "    }\n",
       "\n",
       "    .dataframe thead th {\n",
       "        text-align: right;\n",
       "    }\n",
       "</style>\n",
       "<table border=\"1\" class=\"dataframe\">\n",
       "  <thead>\n",
       "    <tr style=\"text-align: right;\">\n",
       "      <th></th>\n",
       "      <th>query-comment</th>\n",
       "      <th>query-ID</th>\n",
       "      <th>counts</th>\n",
       "    </tr>\n",
       "  </thead>\n",
       "  <tbody>\n",
       "    <tr>\n",
       "      <th>0</th>\n",
       "      <td>[4 seqs] NZ_CP018983.1 Escherichia coli strain Ecol_867 chromosome, complete genome [...]</td>\n",
       "      <td>GCF_002012205.1_ASM201220v1_genomic.fna.gz</td>\n",
       "      <td>4</td>\n",
       "    </tr>\n",
       "    <tr>\n",
       "      <th>1</th>\n",
       "      <td>NC_020518.1 Escherichia coli str. K-12 substr. MDS42 DNA, complete genome</td>\n",
       "      <td>GCF_000350185.1_ASM35018v1_genomic.fna.gz</td>\n",
       "      <td>2</td>\n",
       "    </tr>\n",
       "    <tr>\n",
       "      <th>2</th>\n",
       "      <td>NZ_CP007592.1 Escherichia coli O157:H16 strain Santai, complete genome</td>\n",
       "      <td>GCF_000827105.1_ASM82710v1_genomic.fna.gz</td>\n",
       "      <td>1</td>\n",
       "    </tr>\n",
       "    <tr>\n",
       "      <th>3</th>\n",
       "      <td>NZ_CP016182.2 Escherichia coli strain EC590 chromosome, complete genome</td>\n",
       "      <td>GCF_001682305.2_ASM168230v2_genomic.fna.gz</td>\n",
       "      <td>1</td>\n",
       "    </tr>\n",
       "    <tr>\n",
       "      <th>4</th>\n",
       "      <td>[2 seqs] NZ_CP010226.1 Escherichia coli strain S1, complete genome [...]</td>\n",
       "      <td>GCF_001901315.1_ASM190131v1_genomic.fna.gz</td>\n",
       "      <td>1</td>\n",
       "    </tr>\n",
       "    <tr>\n",
       "      <th>5</th>\n",
       "      <td>[3 seqs] NZ_CP010140.1 Escherichia coli strain D3, complete genome [...]</td>\n",
       "      <td>GCF_001900635.1_ASM190063v1_genomic.fna.gz</td>\n",
       "      <td>1</td>\n",
       "    </tr>\n",
       "    <tr>\n",
       "      <th>6</th>\n",
       "      <td>[3 seqs] NZ_CP018965.1 Escherichia coli strain Ecol_517 chromosome, complete genome [...]</td>\n",
       "      <td>GCF_002012005.1_ASM201200v1_genomic.fna.gz</td>\n",
       "      <td>1</td>\n",
       "    </tr>\n",
       "    <tr>\n",
       "      <th>7</th>\n",
       "      <td>[4 seqs] NZ_CP014111.1 Escherichia coli strain FDAARGOS_144 chromosome, complete genome [...]</td>\n",
       "      <td>GCF_002944935.1_ASM294493v1_genomic.fna.gz</td>\n",
       "      <td>1</td>\n",
       "    </tr>\n",
       "    <tr>\n",
       "      <th>8</th>\n",
       "      <td>[4 seqs] NZ_CP023353.1 Escherichia coli strain 746 chromosome, complete genome [...]</td>\n",
       "      <td>GCF_002310655.1_ASM231065v1_genomic.fna.gz</td>\n",
       "      <td>1</td>\n",
       "    </tr>\n",
       "    <tr>\n",
       "      <th>9</th>\n",
       "      <td>[4 seqs] NZ_CP027126.1 Escherichia coli strain AR_0374 chromosome, complete genome [...]</td>\n",
       "      <td>GCF_002999075.1_ASM299907v1_genomic.fna.gz</td>\n",
       "      <td>1</td>\n",
       "    </tr>\n",
       "    <tr>\n",
       "      <th>10</th>\n",
       "      <td>[5 seqs] NZ_CP021696.1 Klebsiella pneumoniae strain AR_0158, complete genome [...]</td>\n",
       "      <td>GCF_002180255.1_ASM218025v1_genomic.fna.gz</td>\n",
       "      <td>1</td>\n",
       "    </tr>\n",
       "    <tr>\n",
       "      <th>11</th>\n",
       "      <td>[82 seqs] NZ_CP011493.1 Escherichia coli EC302/04 plasmid pEC302/04, complete sequence [...]</td>\n",
       "      <td>GCF_000297235.3_EC302_04.1_genomic.fna.gz</td>\n",
       "      <td>1</td>\n",
       "    </tr>\n",
       "  </tbody>\n",
       "</table>\n",
       "</div>"
      ],
      "text/plain": [
       "                                                                                    query-comment  \\\n",
       "0   [4 seqs] NZ_CP018983.1 Escherichia coli strain Ecol_867 chromosome, complete genome [...]       \n",
       "1   NC_020518.1 Escherichia coli str. K-12 substr. MDS42 DNA, complete genome                       \n",
       "2   NZ_CP007592.1 Escherichia coli O157:H16 strain Santai, complete genome                          \n",
       "3   NZ_CP016182.2 Escherichia coli strain EC590 chromosome, complete genome                         \n",
       "4   [2 seqs] NZ_CP010226.1 Escherichia coli strain S1, complete genome [...]                        \n",
       "5   [3 seqs] NZ_CP010140.1 Escherichia coli strain D3, complete genome [...]                        \n",
       "6   [3 seqs] NZ_CP018965.1 Escherichia coli strain Ecol_517 chromosome, complete genome [...]       \n",
       "7   [4 seqs] NZ_CP014111.1 Escherichia coli strain FDAARGOS_144 chromosome, complete genome [...]   \n",
       "8   [4 seqs] NZ_CP023353.1 Escherichia coli strain 746 chromosome, complete genome [...]            \n",
       "9   [4 seqs] NZ_CP027126.1 Escherichia coli strain AR_0374 chromosome, complete genome [...]        \n",
       "10  [5 seqs] NZ_CP021696.1 Klebsiella pneumoniae strain AR_0158, complete genome [...]              \n",
       "11  [82 seqs] NZ_CP011493.1 Escherichia coli EC302/04 plasmid pEC302/04, complete sequence [...]    \n",
       "\n",
       "                                      query-ID  counts  \n",
       "0   GCF_002012205.1_ASM201220v1_genomic.fna.gz  4       \n",
       "1   GCF_000350185.1_ASM35018v1_genomic.fna.gz   2       \n",
       "2   GCF_000827105.1_ASM82710v1_genomic.fna.gz   1       \n",
       "3   GCF_001682305.2_ASM168230v2_genomic.fna.gz  1       \n",
       "4   GCF_001901315.1_ASM190131v1_genomic.fna.gz  1       \n",
       "5   GCF_001900635.1_ASM190063v1_genomic.fna.gz  1       \n",
       "6   GCF_002012005.1_ASM201200v1_genomic.fna.gz  1       \n",
       "7   GCF_002944935.1_ASM294493v1_genomic.fna.gz  1       \n",
       "8   GCF_002310655.1_ASM231065v1_genomic.fna.gz  1       \n",
       "9   GCF_002999075.1_ASM299907v1_genomic.fna.gz  1       \n",
       "10  GCF_002180255.1_ASM218025v1_genomic.fna.gz  1       \n",
       "11  GCF_000297235.3_EC302_04.1_genomic.fna.gz   1       "
      ]
     },
     "execution_count": 94,
     "metadata": {},
     "output_type": "execute_result"
    }
   ],
   "source": [
    "find_common_reference('/processing_Data/antibioticos/mperezv/ANALYSIS/ECOCARSUR/mash')"
   ]
  },
  {
   "cell_type": "code",
   "execution_count": 8,
   "metadata": {},
   "outputs": [],
   "source": [
    "def download_gcf (ftp_address, output_dir, all_data=False ):\n",
    "    \n",
    "    output_dir = os.path.abspath(output_dir)\n",
    "    \n",
    "    if not os.path.exists(output_dir):\n",
    "        print(\"path \" + output_dir + \" doesn't exist and will be created\")\n",
    "        try:\n",
    "            os.mkdir(output_dir)\n",
    "        except:\n",
    "            print(\"Folder \" + output_dir + \"can't be created\")\n",
    "            sys.exit(1)\n",
    "    \n",
    "    ftp = FTP('ftp.ncbi.nlm.nih.gov')\n",
    "    ftp.login()\n",
    "    \n",
    "    # Get All Files\n",
    "    ftp.cwd(ftp_address)\n",
    "    files = ftp.nlst()\n",
    "    ftp_folder = ftp_address.split('/')[-1]\n",
    "    assembly_file = ftp_folder + '_genomic.fna.gz'\n",
    "    \n",
    "    # Print out the files\n",
    "    if all_data == False:\n",
    "        for file in files:\n",
    "            if file == assembly_file:\n",
    "                local_path = os.path.join(output_dir, file)\n",
    "                with open(local_path, 'wb') as f:\n",
    "                    print(\"Downloading..\" + file)\n",
    "                    #ftp.retrbinary(\"RETR \" + file ,open(output_dir + file, 'wb').write)\n",
    "                    ftp.retrbinary('RETR ' + file, f.write)\n",
    "    else:\n",
    "        for file in files:\n",
    "            local_path = os.path.join(output_dir, file)\n",
    "            with open(local_path, 'wb') as f:\n",
    "                print(\"Downloading..\" + file)\n",
    "                #ftp.retrbinary(\"RETR \" + file ,open(output_dir + file, 'wb').write)\n",
    "                ftp.retrbinary('RETR ' + file, f.write)\n",
    "\n",
    "    ftp.close()"
   ]
  },
  {
   "cell_type": "code",
   "execution_count": 10,
   "metadata": {},
   "outputs": [
    {
     "name": "stdout",
     "output_type": "stream",
     "text": [
      "Downloading..GCF_003076555.1_ASM307655v1_genomic.fna.gz\n"
     ]
    }
   ],
   "source": [
    "download_gcf('genomes/all/GCF/003/076/555/GCF_003076555.1_ASM307655v1', '/processing_Data/antibioticos/mperezv/ANALYSIS/ST307_publicacion/REFERENCESII/', False)"
   ]
  },
  {
   "cell_type": "code",
   "execution_count": null,
   "metadata": {},
   "outputs": [],
   "source": []
  }
 ],
 "metadata": {
  "kernelspec": {
   "display_name": "Python 3",
   "language": "python",
   "name": "python3"
  },
  "language_info": {
   "codemirror_mode": {
    "name": "ipython",
    "version": 3
   },
   "file_extension": ".py",
   "mimetype": "text/x-python",
   "name": "python",
   "nbconvert_exporter": "python",
   "pygments_lexer": "ipython3",
   "version": "3.6.10"
  }
 },
 "nbformat": 4,
 "nbformat_minor": 2
}
