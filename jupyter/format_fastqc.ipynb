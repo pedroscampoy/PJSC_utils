{
 "metadata": {
  "language_info": {
   "codemirror_mode": {
    "name": "ipython",
    "version": 3
   },
   "file_extension": ".py",
   "mimetype": "text/x-python",
   "name": "python",
   "nbconvert_exporter": "python",
   "pygments_lexer": "ipython3",
   "version": "3.7.4-final"
  },
  "orig_nbformat": 2,
  "kernelspec": {
   "name": "python_defaultSpec_1600851483592",
   "display_name": "Python 3.7.4 64-bit ('base': conda)"
  }
 },
 "nbformat": 4,
 "nbformat_minor": 2,
 "cells": [
  {
   "cell_type": "code",
   "execution_count": 2,
   "metadata": {},
   "outputs": [],
   "source": [
    "import os\n",
    "import re\n",
    "\n",
    "from tabulate import tabulate\n",
    "\n",
    "import pandas as pd\n",
    "\n",
    "pd.set_option('display.max_columns', None)\n",
    "pd.set_option('display.max_rows', None)\n",
    "pd.set_option('display.max_colwidth', -1) # None for other python versions"
   ]
  },
  {
   "cell_type": "code",
   "execution_count": 52,
   "metadata": {},
   "outputs": [],
   "source": [
    "file = '/home/laura/ANALYSIS/covidma/Quality/processed/20089101.trimmed_R1_fastqc.html'\n",
    "folder = '/home/laura/ANALYSIS/covidma/Quality/'"
   ]
  },
  {
   "cell_type": "code",
   "execution_count": 67,
   "metadata": {},
   "outputs": [],
   "source": [
    "def extract_processed_html(fastqc_folder, sample, suffix):\n",
    "    for root, _, files in os.walk(fastqc_folder):\n",
    "        for name in files:\n",
    "            fileName = os.path.join(root, name)\n",
    "            if 'Quality/processed' in fileName and name.endswith(suffix) and name.startswith(sample):\n",
    "                return fileName\n"
   ]
  },
  {
   "cell_type": "code",
   "execution_count": 57,
   "metadata": {},
   "outputs": [
    {
     "output_type": "execute_result",
     "data": {
      "text/plain": "'/home/laura/ANALYSIS/covidma/Quality/processed/20089101.trimmed_R2_fastqc.html'"
     },
     "metadata": {},
     "execution_count": 57
    }
   ],
   "source": [
    "extract_processed_html(folder, '20089101')"
   ]
  },
  {
   "cell_type": "code",
   "execution_count": 83,
   "metadata": {},
   "outputs": [],
   "source": [
    "def extract_files_html(fastqc_folder):\n",
    "    html_pairs = {}\n",
    "    count = 0\n",
    "    for root, _, files in os.walk(fastqc_folder):\n",
    "        for name in files:\n",
    "            fileName = os.path.join(root, name)\n",
    "            if 'Quality/raw' in fileName and name.endswith('fastqc.html'):\n",
    "                sample = name.split('.')[0]\n",
    "                suffix = ('.').join(name.split('.')[-2:])\n",
    "                raw_html = fileName\n",
    "                processed_html = extract_processed_html(fastqc_folder, sample, suffix)\n",
    "                html_pairs[count] = [raw_html, processed_html]\n",
    "                count = count + 1\n",
    "    return html_pairs\n"
   ]
  },
  {
   "cell_type": "code",
   "execution_count": 84,
   "metadata": {
    "tags": []
   },
   "outputs": [
    {
     "output_type": "execute_result",
     "data": {
      "text/plain": "{0: ['/home/laura/ANALYSIS/covidma/Quality/raw/20091271.R1_fastqc.html',\n  '/home/laura/ANALYSIS/covidma/Quality/processed/20091271.trimmed_R1_fastqc.html'],\n 1: ['/home/laura/ANALYSIS/covidma/Quality/raw/20089101.R2_fastqc.html',\n  '/home/laura/ANALYSIS/covidma/Quality/processed/20089101.trimmed_R2_fastqc.html'],\n 2: ['/home/laura/ANALYSIS/covidma/Quality/raw/20089101.R1_fastqc.html',\n  '/home/laura/ANALYSIS/covidma/Quality/processed/20089101.trimmed_R1_fastqc.html'],\n 3: ['/home/laura/ANALYSIS/covidma/Quality/raw/20091271.R2_fastqc.html',\n  '/home/laura/ANALYSIS/covidma/Quality/processed/20091271.trimmed_R2_fastqc.html']}"
     },
     "metadata": {},
     "execution_count": 84
    }
   ],
   "source": [
    "pair_dict = extract_files_html(folder)\n",
    "pair_dict"
   ]
  },
  {
   "cell_type": "code",
   "execution_count": 41,
   "metadata": {},
   "outputs": [],
   "source": [
    "def extract_quality_graph(html_file):\n",
    "    with open(html_file, 'r') as f:\n",
    "        content = f.read()\n",
    "        image_tag = re.search(r'<img class=\"indented\" src=.*alt=\"Per base quality graph\" width=\"1020\" height=\"600\"/>', content)\n",
    "\n",
    "    return image_tag.group(0)\n"
   ]
  },
  {
   "cell_type": "code",
   "execution_count": 103,
   "metadata": {},
   "outputs": [],
   "source": [
    "def extract_basic_stats(html_file):\n",
    "    with open(html_file, 'r') as f:\n",
    "        content = f.read()\n",
    "        table_tag = re.search(r'Basic Statistics</h2>(<table>(.+?)</table>)', content)\n",
    "\n",
    "    return table_tag.group(1)"
   ]
  },
  {
   "cell_type": "code",
   "execution_count": 104,
   "metadata": {},
   "outputs": [
    {
     "output_type": "execute_result",
     "data": {
      "text/plain": "'<table><thead><tr><th>Measure</th><th>Value</th></tr></thead><tbody><tr><td>Filename</td><td>20089101.trimmed_R1.fastq.gz</td></tr><tr><td>File type</td><td>Conventional base calls</td></tr><tr><td>Encoding</td><td>Sanger / Illumina 1.9</td></tr><tr><td>Total Sequences</td><td>493241</td></tr><tr><td>Sequences flagged as poor quality</td><td>0</td></tr><tr><td>Sequence length</td><td>25-301</td></tr><tr><td>%GC</td><td>38</td></tr></tbody></table>'"
     },
     "metadata": {},
     "execution_count": 104
    }
   ],
   "source": [
    "extract_basic_stats(file)"
   ]
  },
  {
   "cell_type": "code",
   "execution_count": 113,
   "metadata": {},
   "outputs": [],
   "source": [
    "def format_html_image(output_folder, files):\n",
    "    html_template = \"\"\"\n",
    "    <!DOCTYPE html>\n",
    "    <html lang=\"en\">\n",
    "    <head>\n",
    "    <meta charset=\"UTF-8\">\n",
    "    <meta name=\"viewport\" content=\"width=device-width, initial-scale=1.0\">\n",
    "    <title>covidma quality output</title>\n",
    "    <style type=\"text/css\">\n",
    "        body {\n",
    "        margin: 0 auto;\n",
    "        }\n",
    "        </style>\n",
    "    </head>\n",
    "    <body>\n",
    "    IMAGEHTMLPAIRED\n",
    "    </body>\n",
    "    </html>\n",
    "    \"\"\"\n",
    "    output_file = os.path.join(output_folder, 'fastq_image_report.html')\n",
    "    all_images_tables = ''\n",
    "    for number, pair in files.items():\n",
    "        div_structure = \"\"\"\n",
    "        <div class=\"container\">\n",
    "        <table>\n",
    "            <tr>\n",
    "            <th>FILENAMERAW</th>\n",
    "            <th>FILENAMETRIMMED</th>\n",
    "            </tr>\n",
    "            <tr>\n",
    "            <td>TABLEQUALRAW</td>\n",
    "            <td>TABLEQUALTRIMMED</td>\n",
    "            </tr>\n",
    "            <tr>\n",
    "            <td>IMAGEQUALRAW</td>\n",
    "            <td>IMAGEQUALTRIMMED</td>\n",
    "            </tr>\n",
    "        </table>\n",
    "        <br>\n",
    "        </div>\n",
    "        \"\"\"\n",
    "        div_structure = div_structure.replace('FILENAMERAW', pair[0])\n",
    "        div_structure = div_structure.replace('FILENAMETRIMMED', pair[1])\n",
    "        div_structure = div_structure.replace('TABLEQUALRAW', extract_basic_stats(pair[0]))\n",
    "        div_structure = div_structure.replace('TABLEQUALTRIMMED', extract_basic_stats(pair[1]))\n",
    "        div_structure = div_structure.replace('IMAGEQUALRAW', extract_quality_graph(pair[0]))\n",
    "        div_structure = div_structure.replace('IMAGEQUALTRIMMED', extract_quality_graph(pair[1]))\n",
    "\n",
    "        \n",
    "\n",
    "        all_images_tables = all_images_tables + div_structure\n",
    "\n",
    "    final_html_template = html_template.replace('IMAGEHTMLPAIRED', all_images_tables)\n",
    "    with open(output_file, 'w+') as f:\n",
    "        f.write(final_html_template)\n"
   ]
  },
  {
   "cell_type": "code",
   "execution_count": 114,
   "metadata": {
    "tags": []
   },
   "outputs": [],
   "source": [
    "format_html_image(folder, pair_dict)"
   ]
  },
  {
   "cell_type": "code",
   "execution_count": null,
   "metadata": {},
   "outputs": [],
   "source": []
  }
 ]
}