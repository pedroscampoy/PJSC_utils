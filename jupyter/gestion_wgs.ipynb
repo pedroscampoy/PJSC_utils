{
 "metadata": {
  "language_info": {
   "codemirror_mode": {
    "name": "ipython",
    "version": 3
   },
   "file_extension": ".py",
   "mimetype": "text/x-python",
   "name": "python",
   "nbconvert_exporter": "python",
   "pygments_lexer": "ipython3",
   "version": "3.7.4-final"
  },
  "orig_nbformat": 2,
  "kernelspec": {
   "name": "Python 3.7.4 64-bit ('anaconda3': virtualenv)",
   "display_name": "Python 3.7.4 64-bit ('anaconda3': virtualenv)",
   "metadata": {
    "interpreter": {
     "hash": "895b43306824f909dd8fc0fe81781e0d62fee5aa42332456ee4a77314d01a104"
    }
   }
  }
 },
 "nbformat": 4,
 "nbformat_minor": 2,
 "cells": [
  {
   "cell_type": "code",
   "execution_count": 133,
   "metadata": {},
   "outputs": [],
   "source": [
    "import os\n",
    "import pandas as pd\n",
    "import numpy as np\n",
    "import re\n",
    "\n",
    "pd.set_option('display.max_columns', None)\n",
    "pd.set_option('display.max_rows', None)\n",
    "pd.set_option('display.max_colwidth', -1)"
   ]
  },
  {
   "cell_type": "code",
   "execution_count": 307,
   "metadata": {},
   "outputs": [],
   "source": [
    "compare_folder = \"/home/laura/ANALYSIS/VARIANT_CALLING/COVID/Compare/2020-11-10_COVID\"\n",
    "pairwise_filename = [x for x in os.listdir(compare_folder) if 'pairwise' in x][0]\n",
    "pairwise_file = os.path.join(compare_folder, pairwise_filename)\n",
    "pwdf = pd.read_csv(pairwise_file, sep=\"\\t\" , names=['sample_1', 'sample_2', 'dist'])"
   ]
  },
  {
   "cell_type": "code",
   "execution_count": 308,
   "metadata": {},
   "outputs": [
    {
     "output_type": "execute_result",
     "data": {
      "text/plain": [
       "   sample_1  sample_2  dist\n",
       "0  20069944  20069944  0   \n",
       "1  20069944  20069551  16  \n",
       "2  20069944  20091271  2   \n",
       "3  20069944  20081614  12  \n",
       "4  20069944  20267853  9   "
      ],
      "text/html": "<div>\n<style scoped>\n    .dataframe tbody tr th:only-of-type {\n        vertical-align: middle;\n    }\n\n    .dataframe tbody tr th {\n        vertical-align: top;\n    }\n\n    .dataframe thead th {\n        text-align: right;\n    }\n</style>\n<table border=\"1\" class=\"dataframe\">\n  <thead>\n    <tr style=\"text-align: right;\">\n      <th></th>\n      <th>sample_1</th>\n      <th>sample_2</th>\n      <th>dist</th>\n    </tr>\n  </thead>\n  <tbody>\n    <tr>\n      <td>0</td>\n      <td>20069944</td>\n      <td>20069944</td>\n      <td>0</td>\n    </tr>\n    <tr>\n      <td>1</td>\n      <td>20069944</td>\n      <td>20069551</td>\n      <td>16</td>\n    </tr>\n    <tr>\n      <td>2</td>\n      <td>20069944</td>\n      <td>20091271</td>\n      <td>2</td>\n    </tr>\n    <tr>\n      <td>3</td>\n      <td>20069944</td>\n      <td>20081614</td>\n      <td>12</td>\n    </tr>\n    <tr>\n      <td>4</td>\n      <td>20069944</td>\n      <td>20267853</td>\n      <td>9</td>\n    </tr>\n  </tbody>\n</table>\n</div>"
     },
     "metadata": {},
     "execution_count": 308
    }
   ],
   "source": [
    "pwdf.head()"
   ]
  },
  {
   "cell_type": "code",
   "execution_count": 309,
   "metadata": {},
   "outputs": [],
   "source": [
    "pwdf['sample_1'] = pwdf['sample_1'].astype(str)"
   ]
  },
  {
   "cell_type": "code",
   "execution_count": 310,
   "metadata": {},
   "outputs": [
    {
     "output_type": "stream",
     "name": "stdout",
     "text": [
      "<class 'pandas.core.frame.DataFrame'>\nRangeIndex: 687241 entries, 0 to 687240\nData columns (total 3 columns):\nsample_1    687241 non-null object\nsample_2    687241 non-null object\ndist        687241 non-null int64\ndtypes: int64(1), object(2)\nmemory usage: 15.7+ MB\n"
     ]
    }
   ],
   "source": [
    "pwdf.info()"
   ]
  },
  {
   "cell_type": "code",
   "execution_count": 311,
   "metadata": {},
   "outputs": [],
   "source": [
    "samples = list(set(pwdf.sample_1.tolist()))"
   ]
  },
  {
   "cell_type": "code",
   "execution_count": 312,
   "metadata": {},
   "outputs": [
    {
     "output_type": "execute_result",
     "data": {
      "text/plain": [
       "829"
      ]
     },
     "metadata": {},
     "execution_count": 312
    }
   ],
   "source": [
    "len(samples)"
   ]
  },
  {
   "cell_type": "code",
   "execution_count": 313,
   "metadata": {},
   "outputs": [
    {
     "output_type": "execute_result",
     "data": {
      "text/plain": [
       "{str: 829}"
      ]
     },
     "metadata": {},
     "execution_count": 313
    }
   ],
   "source": [
    "samples_type = [type(x) for x in samples]\n",
    "dict((x,samples_type.count(x)) for x in set(samples_type))"
   ]
  },
  {
   "cell_type": "code",
   "execution_count": 314,
   "metadata": {},
   "outputs": [],
   "source": [
    "wgs = pd.read_csv('/home/laura/ANALYSIS/MISC/microreact/WGS_COVID.csv')"
   ]
  },
  {
   "cell_type": "code",
   "execution_count": 315,
   "metadata": {},
   "outputs": [
    {
     "output_type": "execute_result",
     "data": {
      "text/plain": [
       "         id   full_date  patient__autocolor province__autocolor  \\\n",
       "0  20060161  09/03/2020  174.0               Madrid               \n",
       "1  20060178  09/03/2020  175.0               Madrid               \n",
       "2  20062236  10/03/2020  176.0               Madrid               \n",
       "3  20062563  10/03/2020  177.0               Madrid               \n",
       "4  20063795  12/03/2020  178.0               Madrid               \n",
       "\n",
       "  SEX__autocolor AGE__autocolor  day  month  year  \n",
       "0  H              84             9    3      2020  \n",
       "1  H              76             9    3      2020  \n",
       "2  M              96             10   3      2020  \n",
       "3  H              78             10   3      2020  \n",
       "4  H              85             12   3      2020  "
      ],
      "text/html": "<div>\n<style scoped>\n    .dataframe tbody tr th:only-of-type {\n        vertical-align: middle;\n    }\n\n    .dataframe tbody tr th {\n        vertical-align: top;\n    }\n\n    .dataframe thead th {\n        text-align: right;\n    }\n</style>\n<table border=\"1\" class=\"dataframe\">\n  <thead>\n    <tr style=\"text-align: right;\">\n      <th></th>\n      <th>id</th>\n      <th>full_date</th>\n      <th>patient__autocolor</th>\n      <th>province__autocolor</th>\n      <th>SEX__autocolor</th>\n      <th>AGE__autocolor</th>\n      <th>day</th>\n      <th>month</th>\n      <th>year</th>\n    </tr>\n  </thead>\n  <tbody>\n    <tr>\n      <td>0</td>\n      <td>20060161</td>\n      <td>09/03/2020</td>\n      <td>174.0</td>\n      <td>Madrid</td>\n      <td>H</td>\n      <td>84</td>\n      <td>9</td>\n      <td>3</td>\n      <td>2020</td>\n    </tr>\n    <tr>\n      <td>1</td>\n      <td>20060178</td>\n      <td>09/03/2020</td>\n      <td>175.0</td>\n      <td>Madrid</td>\n      <td>H</td>\n      <td>76</td>\n      <td>9</td>\n      <td>3</td>\n      <td>2020</td>\n    </tr>\n    <tr>\n      <td>2</td>\n      <td>20062236</td>\n      <td>10/03/2020</td>\n      <td>176.0</td>\n      <td>Madrid</td>\n      <td>M</td>\n      <td>96</td>\n      <td>10</td>\n      <td>3</td>\n      <td>2020</td>\n    </tr>\n    <tr>\n      <td>3</td>\n      <td>20062563</td>\n      <td>10/03/2020</td>\n      <td>177.0</td>\n      <td>Madrid</td>\n      <td>H</td>\n      <td>78</td>\n      <td>10</td>\n      <td>3</td>\n      <td>2020</td>\n    </tr>\n    <tr>\n      <td>4</td>\n      <td>20063795</td>\n      <td>12/03/2020</td>\n      <td>178.0</td>\n      <td>Madrid</td>\n      <td>H</td>\n      <td>85</td>\n      <td>12</td>\n      <td>3</td>\n      <td>2020</td>\n    </tr>\n  </tbody>\n</table>\n</div>"
     },
     "metadata": {},
     "execution_count": 315
    }
   ],
   "source": [
    "wgs.head()"
   ]
  },
  {
   "cell_type": "code",
   "execution_count": 316,
   "metadata": {},
   "outputs": [
    {
     "output_type": "execute_result",
     "data": {
      "text/plain": [
       "(1020, 9)"
      ]
     },
     "metadata": {},
     "execution_count": 316
    }
   ],
   "source": [
    "wgs.shape"
   ]
  },
  {
   "cell_type": "code",
   "execution_count": 317,
   "metadata": {},
   "outputs": [],
   "source": [
    "wgs['id'] = wgs['id'].astype(str)"
   ]
  },
  {
   "cell_type": "code",
   "execution_count": 318,
   "metadata": {},
   "outputs": [],
   "source": [
    "samples_wgs = wgs.id.tolist()\n",
    "#samples_wgs = [str(x) for x in samples_wgs]"
   ]
  },
  {
   "cell_type": "code",
   "execution_count": 319,
   "metadata": {},
   "outputs": [],
   "source": [
    "WGS = set(samples_wgs)\n",
    "PW = set(samples)"
   ]
  },
  {
   "cell_type": "code",
   "execution_count": 320,
   "metadata": {},
   "outputs": [
    {
     "output_type": "execute_result",
     "data": {
      "text/plain": [
       "829"
      ]
     },
     "metadata": {},
     "execution_count": 320
    }
   ],
   "source": [
    "len(PW)"
   ]
  },
  {
   "cell_type": "code",
   "execution_count": 321,
   "metadata": {},
   "outputs": [
    {
     "output_type": "execute_result",
     "data": {
      "text/plain": [
       "47"
      ]
     },
     "metadata": {},
     "execution_count": 321
    }
   ],
   "source": [
    "missing_wgs = list(PW - WGS)\n",
    "len(missing_wgs)"
   ]
  },
  {
   "cell_type": "code",
   "execution_count": 322,
   "metadata": {},
   "outputs": [
    {
     "output_type": "execute_result",
     "data": {
      "text/plain": [
       "{str: 47}"
      ]
     },
     "metadata": {},
     "execution_count": 322
    }
   ],
   "source": [
    "missing_wgs_type = [type(x) for x in missing_wgs]\n",
    "dict((x,missing_wgs_type.count(x)) for x in set(missing_wgs_type))"
   ]
  },
  {
   "cell_type": "code",
   "execution_count": 323,
   "metadata": {},
   "outputs": [
    {
     "output_type": "execute_result",
     "data": {
      "text/plain": [
       "144"
      ]
     },
     "metadata": {},
     "execution_count": 323
    }
   ],
   "source": [
    "missing_pw = list(WGS - PW)\n",
    "len(missing_pw)"
   ]
  },
  {
   "cell_type": "code",
   "execution_count": 324,
   "metadata": {},
   "outputs": [
    {
     "output_type": "execute_result",
     "data": {
      "text/plain": [
       "191"
      ]
     },
     "metadata": {},
     "execution_count": 324
    }
   ],
   "source": [
    "all_missing = missing_pw + missing_wgs\n",
    "len(all_missing)"
   ]
  },
  {
   "cell_type": "code",
   "execution_count": 325,
   "metadata": {},
   "outputs": [
    {
     "output_type": "execute_result",
     "data": {
      "text/plain": [
       "(1020, 9)"
      ]
     },
     "metadata": {},
     "execution_count": 325
    }
   ],
   "source": [
    "wgs.shape"
   ]
  },
  {
   "cell_type": "code",
   "execution_count": 326,
   "metadata": {},
   "outputs": [],
   "source": [
    "df = wgs[~wgs.id.isin(missing_pw)]"
   ]
  },
  {
   "cell_type": "code",
   "execution_count": 327,
   "metadata": {},
   "outputs": [
    {
     "output_type": "execute_result",
     "data": {
      "text/plain": [
       "(870, 9)"
      ]
     },
     "metadata": {},
     "execution_count": 327
    }
   ],
   "source": [
    "df.shape"
   ]
  },
  {
   "cell_type": "code",
   "execution_count": 328,
   "metadata": {},
   "outputs": [],
   "source": [
    "df2 = pd.DataFrame(missing_wgs, columns=['id'])"
   ]
  },
  {
   "cell_type": "code",
   "execution_count": 329,
   "metadata": {},
   "outputs": [],
   "source": [
    "df2['id'] = df2['id'].astype(str)"
   ]
  },
  {
   "cell_type": "code",
   "execution_count": 330,
   "metadata": {},
   "outputs": [
    {
     "output_type": "execute_result",
     "data": {
      "text/plain": [
       "           id\n",
       "0  20267855  \n",
       "1  20179107M \n",
       "2  20174144  \n",
       "3  20104985  \n",
       "4  20095471-5"
      ],
      "text/html": "<div>\n<style scoped>\n    .dataframe tbody tr th:only-of-type {\n        vertical-align: middle;\n    }\n\n    .dataframe tbody tr th {\n        vertical-align: top;\n    }\n\n    .dataframe thead th {\n        text-align: right;\n    }\n</style>\n<table border=\"1\" class=\"dataframe\">\n  <thead>\n    <tr style=\"text-align: right;\">\n      <th></th>\n      <th>id</th>\n    </tr>\n  </thead>\n  <tbody>\n    <tr>\n      <td>0</td>\n      <td>20267855</td>\n    </tr>\n    <tr>\n      <td>1</td>\n      <td>20179107M</td>\n    </tr>\n    <tr>\n      <td>2</td>\n      <td>20174144</td>\n    </tr>\n    <tr>\n      <td>3</td>\n      <td>20104985</td>\n    </tr>\n    <tr>\n      <td>4</td>\n      <td>20095471-5</td>\n    </tr>\n  </tbody>\n</table>\n</div>"
     },
     "metadata": {},
     "execution_count": 330
    }
   ],
   "source": [
    "df2.head()"
   ]
  },
  {
   "cell_type": "code",
   "execution_count": 331,
   "metadata": {},
   "outputs": [
    {
     "output_type": "execute_result",
     "data": {
      "text/plain": [
       "         id   full_date  patient__autocolor province__autocolor  \\\n",
       "0  20060161  09/03/2020  174.0               Madrid               \n",
       "1  20060178  09/03/2020  175.0               Madrid               \n",
       "2  20062236  10/03/2020  176.0               Madrid               \n",
       "3  20062563  10/03/2020  177.0               Madrid               \n",
       "4  20063795  12/03/2020  178.0               Madrid               \n",
       "\n",
       "  SEX__autocolor AGE__autocolor  day  month  year  \n",
       "0  H              84             9    3      2020  \n",
       "1  H              76             9    3      2020  \n",
       "2  M              96             10   3      2020  \n",
       "3  H              78             10   3      2020  \n",
       "4  H              85             12   3      2020  "
      ],
      "text/html": "<div>\n<style scoped>\n    .dataframe tbody tr th:only-of-type {\n        vertical-align: middle;\n    }\n\n    .dataframe tbody tr th {\n        vertical-align: top;\n    }\n\n    .dataframe thead th {\n        text-align: right;\n    }\n</style>\n<table border=\"1\" class=\"dataframe\">\n  <thead>\n    <tr style=\"text-align: right;\">\n      <th></th>\n      <th>id</th>\n      <th>full_date</th>\n      <th>patient__autocolor</th>\n      <th>province__autocolor</th>\n      <th>SEX__autocolor</th>\n      <th>AGE__autocolor</th>\n      <th>day</th>\n      <th>month</th>\n      <th>year</th>\n    </tr>\n  </thead>\n  <tbody>\n    <tr>\n      <td>0</td>\n      <td>20060161</td>\n      <td>09/03/2020</td>\n      <td>174.0</td>\n      <td>Madrid</td>\n      <td>H</td>\n      <td>84</td>\n      <td>9</td>\n      <td>3</td>\n      <td>2020</td>\n    </tr>\n    <tr>\n      <td>1</td>\n      <td>20060178</td>\n      <td>09/03/2020</td>\n      <td>175.0</td>\n      <td>Madrid</td>\n      <td>H</td>\n      <td>76</td>\n      <td>9</td>\n      <td>3</td>\n      <td>2020</td>\n    </tr>\n    <tr>\n      <td>2</td>\n      <td>20062236</td>\n      <td>10/03/2020</td>\n      <td>176.0</td>\n      <td>Madrid</td>\n      <td>M</td>\n      <td>96</td>\n      <td>10</td>\n      <td>3</td>\n      <td>2020</td>\n    </tr>\n    <tr>\n      <td>3</td>\n      <td>20062563</td>\n      <td>10/03/2020</td>\n      <td>177.0</td>\n      <td>Madrid</td>\n      <td>H</td>\n      <td>78</td>\n      <td>10</td>\n      <td>3</td>\n      <td>2020</td>\n    </tr>\n    <tr>\n      <td>4</td>\n      <td>20063795</td>\n      <td>12/03/2020</td>\n      <td>178.0</td>\n      <td>Madrid</td>\n      <td>H</td>\n      <td>85</td>\n      <td>12</td>\n      <td>3</td>\n      <td>2020</td>\n    </tr>\n  </tbody>\n</table>\n</div>"
     },
     "metadata": {},
     "execution_count": 331
    }
   ],
   "source": [
    "df.head()"
   ]
  },
  {
   "cell_type": "code",
   "execution_count": 332,
   "metadata": {},
   "outputs": [],
   "source": [
    "final_df = df.append(df2).reset_index(drop=True)\n",
    "final_df = final_df[ ['id', 'full_date', 'patient__autocolor', 'province__autocolor', 'SEX__autocolor',\n",
    "       'AGE__autocolor', 'day', 'month', 'year'] ]"
   ]
  },
  {
   "cell_type": "code",
   "execution_count": 333,
   "metadata": {},
   "outputs": [],
   "source": [
    "metadata = pd.read_csv('/home/laura/ANALYSIS/MISC/microreact/wgs_covid_metadata.csv')\n",
    "metadata['id'] = metadata['id'].astype(str)"
   ]
  },
  {
   "cell_type": "code",
   "execution_count": 334,
   "metadata": {},
   "outputs": [
    {
     "output_type": "execute_result",
     "data": {
      "text/plain": [
       "           id       DEPARTMENT__autocolor\n",
       "174  20261654  TRABAJADORES_GAP_MARANON_1\n",
       "175  20298004  MANTENIMIENTO             \n",
       "176  20298003  TRABAJADORES_GAP_MARANON_1\n",
       "177  20421509  UROLOGIA                  \n",
       "178  20431028  REINFECCION_RUN10         "
      ],
      "text/html": "<div>\n<style scoped>\n    .dataframe tbody tr th:only-of-type {\n        vertical-align: middle;\n    }\n\n    .dataframe tbody tr th {\n        vertical-align: top;\n    }\n\n    .dataframe thead th {\n        text-align: right;\n    }\n</style>\n<table border=\"1\" class=\"dataframe\">\n  <thead>\n    <tr style=\"text-align: right;\">\n      <th></th>\n      <th>id</th>\n      <th>DEPARTMENT__autocolor</th>\n    </tr>\n  </thead>\n  <tbody>\n    <tr>\n      <td>174</td>\n      <td>20261654</td>\n      <td>TRABAJADORES_GAP_MARANON_1</td>\n    </tr>\n    <tr>\n      <td>175</td>\n      <td>20298004</td>\n      <td>MANTENIMIENTO</td>\n    </tr>\n    <tr>\n      <td>176</td>\n      <td>20298003</td>\n      <td>TRABAJADORES_GAP_MARANON_1</td>\n    </tr>\n    <tr>\n      <td>177</td>\n      <td>20421509</td>\n      <td>UROLOGIA</td>\n    </tr>\n    <tr>\n      <td>178</td>\n      <td>20431028</td>\n      <td>REINFECCION_RUN10</td>\n    </tr>\n  </tbody>\n</table>\n</div>"
     },
     "metadata": {},
     "execution_count": 334
    }
   ],
   "source": [
    "metadata.tail()"
   ]
  },
  {
   "cell_type": "code",
   "execution_count": 335,
   "metadata": {},
   "outputs": [
    {
     "output_type": "stream",
     "name": "stdout",
     "text": [
      "<class 'pandas.core.frame.DataFrame'>\nRangeIndex: 179 entries, 0 to 178\nData columns (total 2 columns):\nid                       179 non-null object\nDEPARTMENT__autocolor    179 non-null object\ndtypes: object(2)\nmemory usage: 2.9+ KB\n"
     ]
    }
   ],
   "source": [
    "metadata.info()"
   ]
  },
  {
   "cell_type": "code",
   "execution_count": 336,
   "metadata": {},
   "outputs": [
    {
     "output_type": "stream",
     "name": "stdout",
     "text": [
      "<class 'pandas.core.frame.DataFrame'>\nRangeIndex: 917 entries, 0 to 916\nData columns (total 9 columns):\nid                     917 non-null object\nfull_date              870 non-null object\npatient__autocolor     788 non-null float64\nprovince__autocolor    870 non-null object\nSEX__autocolor         870 non-null object\nAGE__autocolor         869 non-null object\nday                    870 non-null float64\nmonth                  870 non-null float64\nyear                   870 non-null float64\ndtypes: float64(4), object(5)\nmemory usage: 64.6+ KB\n"
     ]
    }
   ],
   "source": [
    "final_df.info()"
   ]
  },
  {
   "cell_type": "code",
   "execution_count": 337,
   "metadata": {},
   "outputs": [],
   "source": [
    "final_df = final_df.fillna(0)\n",
    "final_df.day = final_df.day.astype('Int64')\n",
    "final_df.month = final_df.month.astype('Int64')\n",
    "final_df.year = final_df.year.astype('Int64')\n",
    "final_df.replace(0, np.nan, inplace=True)"
   ]
  },
  {
   "cell_type": "code",
   "execution_count": 338,
   "metadata": {},
   "outputs": [],
   "source": [
    "final_df = final_df.merge(metadata, how='outer')"
   ]
  },
  {
   "cell_type": "code",
   "execution_count": 339,
   "metadata": {},
   "outputs": [
    {
     "output_type": "stream",
     "name": "stdout",
     "text": [
      "<class 'pandas.core.frame.DataFrame'>\nInt64Index: 934 entries, 0 to 933\nData columns (total 10 columns):\nid                       934 non-null object\nfull_date                870 non-null object\npatient__autocolor       788 non-null float64\nprovince__autocolor      870 non-null object\nSEX__autocolor           870 non-null object\nAGE__autocolor           869 non-null object\nday                      870 non-null Int64\nmonth                    870 non-null Int64\nyear                     870 non-null Int64\nDEPARTMENT__autocolor    212 non-null object\ndtypes: Int64(3), float64(1), object(6)\nmemory usage: 83.0+ KB\n"
     ]
    }
   ],
   "source": [
    "final_df.info()"
   ]
  },
  {
   "cell_type": "code",
   "execution_count": 340,
   "metadata": {},
   "outputs": [
    {
     "output_type": "execute_result",
     "data": {
      "text/plain": [
       "              id full_date  patient__autocolor province__autocolor  \\\n",
       "929  20415500     NaN      NaN                  NaN                  \n",
       "930  20414667     NaN      NaN                  NaN                  \n",
       "931  20414667bis  NaN      NaN                  NaN                  \n",
       "932  20282399     NaN      NaN                  NaN                  \n",
       "933  20348931     NaN      NaN                  NaN                  \n",
       "\n",
       "    SEX__autocolor AGE__autocolor  day  month  year  \\\n",
       "929  NaN            NaN            NaN  NaN    NaN    \n",
       "930  NaN            NaN            NaN  NaN    NaN    \n",
       "931  NaN            NaN            NaN  NaN    NaN    \n",
       "932  NaN            NaN            NaN  NaN    NaN    \n",
       "933  NaN            NaN            NaN  NaN    NaN    \n",
       "\n",
       "          DEPARTMENT__autocolor  \n",
       "929  IPR                         \n",
       "930  IPR                         \n",
       "931  IPR                         \n",
       "932  TRABAJADORES_GAP_MARANON_1  \n",
       "933  TRAUMA                      "
      ],
      "text/html": "<div>\n<style scoped>\n    .dataframe tbody tr th:only-of-type {\n        vertical-align: middle;\n    }\n\n    .dataframe tbody tr th {\n        vertical-align: top;\n    }\n\n    .dataframe thead th {\n        text-align: right;\n    }\n</style>\n<table border=\"1\" class=\"dataframe\">\n  <thead>\n    <tr style=\"text-align: right;\">\n      <th></th>\n      <th>id</th>\n      <th>full_date</th>\n      <th>patient__autocolor</th>\n      <th>province__autocolor</th>\n      <th>SEX__autocolor</th>\n      <th>AGE__autocolor</th>\n      <th>day</th>\n      <th>month</th>\n      <th>year</th>\n      <th>DEPARTMENT__autocolor</th>\n    </tr>\n  </thead>\n  <tbody>\n    <tr>\n      <td>929</td>\n      <td>20415500</td>\n      <td>NaN</td>\n      <td>NaN</td>\n      <td>NaN</td>\n      <td>NaN</td>\n      <td>NaN</td>\n      <td>NaN</td>\n      <td>NaN</td>\n      <td>NaN</td>\n      <td>IPR</td>\n    </tr>\n    <tr>\n      <td>930</td>\n      <td>20414667</td>\n      <td>NaN</td>\n      <td>NaN</td>\n      <td>NaN</td>\n      <td>NaN</td>\n      <td>NaN</td>\n      <td>NaN</td>\n      <td>NaN</td>\n      <td>NaN</td>\n      <td>IPR</td>\n    </tr>\n    <tr>\n      <td>931</td>\n      <td>20414667bis</td>\n      <td>NaN</td>\n      <td>NaN</td>\n      <td>NaN</td>\n      <td>NaN</td>\n      <td>NaN</td>\n      <td>NaN</td>\n      <td>NaN</td>\n      <td>NaN</td>\n      <td>IPR</td>\n    </tr>\n    <tr>\n      <td>932</td>\n      <td>20282399</td>\n      <td>NaN</td>\n      <td>NaN</td>\n      <td>NaN</td>\n      <td>NaN</td>\n      <td>NaN</td>\n      <td>NaN</td>\n      <td>NaN</td>\n      <td>NaN</td>\n      <td>TRABAJADORES_GAP_MARANON_1</td>\n    </tr>\n    <tr>\n      <td>933</td>\n      <td>20348931</td>\n      <td>NaN</td>\n      <td>NaN</td>\n      <td>NaN</td>\n      <td>NaN</td>\n      <td>NaN</td>\n      <td>NaN</td>\n      <td>NaN</td>\n      <td>NaN</td>\n      <td>TRAUMA</td>\n    </tr>\n  </tbody>\n</table>\n</div>"
     },
     "metadata": {},
     "execution_count": 340
    }
   ],
   "source": [
    "final_df.tail()"
   ]
  },
  {
   "cell_type": "code",
   "execution_count": 341,
   "metadata": {},
   "outputs": [],
   "source": [
    "def extract_lineage(sample):\n",
    "    pango_file = os.path.join('/home/laura/ANALYSIS/VARIANT_CALLING/COVID/Annotation/pangolin', str(sample) + \".lineage.csv\")\n",
    "    if os.path.exists(pango_file):\n",
    "        df = pd.read_csv(pango_file)\n",
    "        return df.lineage[0]\n",
    "    else:\n",
    "        return None"
   ]
  },
  {
   "cell_type": "code",
   "execution_count": 342,
   "metadata": {},
   "outputs": [],
   "source": [
    "final_df['Lineage__autocolor'] = final_df.apply(lambda x: extract_lineage(x['id']), axis=1)"
   ]
  },
  {
   "cell_type": "code",
   "execution_count": 456,
   "metadata": {},
   "outputs": [],
   "source": [
    "def extract_EU(sample):\n",
    "    eu_file = os.path.join('/home/laura/ANALYSIS/VARIANT_CALLING/COVID/Annotation/user', str(sample) + \".tsv\")\n",
    "    if os.path.exists(eu_file):\n",
    "        df = pd.read_csv(eu_file, sep=\"\\t\")\n",
    "        if 'EU1EU2' in df.columns:\n",
    "            eulist = df.EU1EU2.dropna().tolist()\n",
    "            print(sample, eulist, df.shape)\n",
    "        return (',').join([(x + \"-\" + str(eulist.count(x))) for x in set(eulist)])\n",
    "    else:\n",
    "        return None"
   ]
  },
  {
   "cell_type": "code",
   "execution_count": 457,
   "metadata": {},
   "outputs": [
    {
     "output_type": "stream",
     "name": "stdout",
     "text": [
      "20060161 ['20AEU1', '20AEU1', '20AEU1'] (0, 20)\n",
      "20060178 ['20AEU1', '20AEU1', '20AEU1'] (1, 20)\n",
      "20062236 ['20AEU1', '20AEU1', '20AEU1'] (8, 20)\n",
      "20062563 ['20AEU1', '20AEU1', '20AEU1'] (6, 20)\n",
      "20063795 ['20AEU1', '20AEU1', '20AEU1'] (3, 20)\n",
      "20066054 ['20AEU1', '20AEU1', '20AEU1'] (7, 20)\n",
      "20066411 ['20AEU1', '20AEU1', '20AEU1'] (3, 20)\n",
      "20066419 ['20AEU1', '20AEU1', '20AEU1'] (7, 20)\n",
      "20066420 ['20AEU1', '20AEU1', '20AEU1'] (6, 20)\n",
      "20066483 ['20AEU1', '20AEU1', '20AEU1'] (5, 20)\n",
      "20066485 ['20AEU1', '20AEU1', '20AEU1'] (6, 20)\n",
      "20066486 ['20AEU1', '20AEU1', '20AEU1'] (6, 20)\n",
      "20066488 ['20AEU1', '20AEU1', '20AEU1'] (9, 20)\n",
      "20066496 ['20AEU1', '20AEU1', '20AEU1'] (8, 20)\n",
      "20066498 ['20AEU1', '20AEU1', '20AEU1'] (7, 20)\n",
      "20066506 ['20AEU1', '20AEU1', '20AEU1'] (3, 20)\n",
      "20066510 ['20AEU1', '20AEU1', '20AEU1'] (5, 20)\n",
      "20066515 ['20AEU1', '20AEU1', '20AEU1'] (9, 20)\n",
      "20066705 ['20AEU1', '20AEU1', '20AEU1'] (3, 20)\n",
      "20066708 ['20AEU1', '20AEU1', '20AEU1'] (4, 20)\n",
      "20066715 ['20AEU1', '20AEU1', '20AEU1'] (5, 20)\n",
      "20066718 ['20AEU1', '20AEU1', '20AEU1'] (3, 20)\n",
      "20068881 ['20AEU1', '20AEU1', '20AEU1'] (6, 20)\n",
      "20068936 ['20AEU1', '20AEU1', '20AEU1'] (4, 20)\n",
      "20068984 ['20AEU1', '20AEU1', '20AEU1'] (6, 20)\n",
      "20069074 ['20AEU1', '20AEU1', '20AEU1'] (6, 20)\n",
      "20069079 ['20AEU1', '20AEU1', '20AEU1'] (7, 20)\n",
      "20069292 ['20AEU1', '20AEU1', '20AEU1'] (8, 20)\n",
      "20069302 ['20AEU1', '20AEU1', '20AEU1'] (3, 20)\n",
      "20069303 ['20AEU1', '20AEU1', '20AEU1'] (6, 20)\n",
      "20069433 ['20AEU1', '20AEU1', '20AEU1'] (6, 20)\n",
      "20069441 ['20AEU1', '20AEU1', '20AEU1'] (4, 20)\n",
      "20069448 ['20AEU1', '20AEU1', '20AEU1'] (4, 20)\n",
      "20069551 ['20AEU1', '20AEU1', '20AEU1'] (11, 20)\n",
      "20069557 ['20AEU1', '20AEU1', '20AEU1'] (4, 20)\n",
      "20069560 ['20AEU1', '20AEU1', '20AEU1'] (5, 20)\n",
      "20069624 ['20AEU1', '20AEU1', '20AEU1'] (6, 20)\n",
      "20069688 ['20AEU1', '20AEU1', '20AEU1'] (5, 20)\n",
      "20069691 ['20AEU1', '20AEU1', '20AEU1'] (11, 20)\n",
      "20069697 ['20AEU1', '20AEU1', '20AEU1'] (6, 20)\n",
      "20069703 ['20AEU1', '20AEU1', '20AEU1'] (6, 20)\n",
      "20069707 ['20AEU1', '20AEU1', '20AEU1'] (5, 20)\n",
      "20069837 ['20AEU1', '20AEU1', '20AEU1'] (7, 20)\n",
      "20069843 ['20AEU1', '20AEU1', '20AEU1'] (6, 20)\n",
      "20069950 ['20AEU1', '20AEU1', '20AEU1'] (8, 20)\n",
      "20069951 ['20AEU1', '20AEU1', '20AEU1'] (10, 20)\n",
      "20069955 ['20AEU1', '20AEU1', '20AEU1'] (8, 20)\n",
      "20069957 ['20AEU1', '20AEU1', '20AEU1'] (6, 20)\n",
      "20069958 ['20AEU1', '20AEU1', '20AEU1'] (7, 20)\n",
      "20069960 ['20AEU1', '20AEU1', '20AEU1'] (6, 20)\n",
      "20069961 ['20AEU1', '20AEU1', '20AEU1'] (5, 20)\n",
      "20069966 ['20AEU1', '20AEU1', '20AEU1'] (9, 20)\n",
      "20069973 ['20AEU1', '20AEU1', '20AEU1'] (5, 20)\n",
      "20069995 ['20AEU1', '20AEU1', '20AEU1'] (6, 20)\n",
      "20069997 ['20AEU1', '20AEU1', '20AEU1'] (6, 20)\n",
      "20072166 ['20AEU1', '20AEU1', '20AEU1'] (5, 20)\n",
      "20072167 ['20AEU1', '20AEU1', '20AEU1'] (9, 20)\n",
      "20072700 ['20AEU1', '20AEU1', '20AEU1'] (4, 20)\n",
      "20072710 ['20AEU1', '20AEU1', '20AEU1'] (7, 20)\n",
      "20072711 ['20AEU1', '20AEU1', '20AEU1'] (5, 20)\n",
      "20072728 ['20AEU1', '20AEU1', '20AEU1'] (7, 20)\n",
      "20072730 ['20AEU1', '20AEU1', '20AEU1'] (8, 20)\n",
      "20072734 ['20AEU1', '20AEU1', '20AEU1'] (5, 20)\n",
      "20072745 ['20AEU1', '20AEU1', '20AEU1'] (5, 20)\n",
      "20072747 ['20AEU1', '20AEU1', '20AEU1'] (6, 20)\n",
      "20072753 ['20AEU1', '20AEU1', '20AEU1'] (5, 20)\n",
      "20072758 ['20AEU1', '20AEU1', '20AEU1'] (6, 20)\n",
      "20072763 ['20AEU1', '20AEU1', '20AEU1'] (9, 20)\n",
      "20072990 ['20AEU1', '20AEU1', '20AEU1'] (7, 20)\n",
      "20072993 ['20AEU1', '20AEU1', '20AEU1'] (5, 20)\n",
      "20075029 ['20AEU1', '20AEU1', '20AEU1'] (5, 20)\n",
      "20077060 ['20AEU1', '20AEU1', '20AEU1'] (6, 20)\n",
      "20077063 ['20AEU1', '20AEU1', '20AEU1'] (12, 20)\n",
      "20077064 ['20AEU1', '20AEU1', '20AEU1'] (3, 20)\n",
      "20077199 ['20AEU1', '20AEU1', '20AEU1'] (5, 20)\n",
      "20077274 ['20AEU1', '20AEU1', '20AEU1'] (5, 20)\n",
      "20085890 ['20AEU1', '20AEU1', '20AEU1'] (5, 20)\n",
      "20088510 ['20AEU1', '20AEU1', '20AEU1'] (4, 20)\n",
      "20088792 ['20AEU1', '20AEU1', '20AEU1'] (4, 20)\n",
      "20089286 ['20AEU1', '20AEU1', '20AEU1'] (6, 20)\n",
      "20091067 ['20AEU1', '20AEU1', '20AEU1'] (10, 20)\n",
      "20091402 ['20AEU1', '20AEU1', '20AEU1'] (6, 20)\n",
      "20097002 ['20AEU1', '20AEU1', '20AEU1'] (8, 20)\n",
      "20097161 ['20AEU1', '20AEU1', '20AEU1'] (6, 20)\n",
      "20089025 ['20AEU1', '20AEU1', '20AEU1'] (5, 20)\n",
      "20089033 ['20AEU1', '20AEU1', '20AEU1'] (6, 20)\n",
      "20089037 ['20AEU1', '20AEU1', '20AEU1'] (5, 20)\n",
      "20089040 ['20AEU1', '20AEU1', '20AEU1'] (9, 20)\n",
      "20089053 ['20AEU1', '20AEU1', '20AEU1'] (7, 20)\n",
      "20089054 ['20AEU1', '20AEU1', '20AEU1'] (7, 20)\n",
      "20089075 ['20AEU1', '20AEU1', '20AEU1'] (5, 20)\n",
      "20089088 ['20AEU1', '20AEU1', '20AEU1'] (6, 20)\n",
      "20089098 ['20AEU1', '20AEU1', '20AEU1'] (11, 20)\n",
      "20089101 ['20AEU1', '20AEU1', '20AEU1'] (7, 20)\n",
      "20089109 ['20AEU1', '20AEU1', '20AEU1'] (4, 20)\n",
      "20089146 ['20AEU1', '20AEU1', '20AEU1'] (7, 20)\n",
      "20089209 ['20AEU1', '20AEU1', '20AEU1'] (5, 20)\n",
      "20089260 ['20AEU1', '20AEU1', '20AEU1'] (3, 20)\n",
      "20089261 ['20AEU1', '20AEU1', '20AEU1'] (4, 20)\n",
      "20089266 ['20AEU1', '20AEU1', '20AEU1'] (8, 20)\n",
      "20089271 ['20AEU1', '20AEU1', '20AEU1'] (8, 20)\n",
      "20089272 ['20AEU1', '20AEU1', '20AEU1'] (7, 20)\n",
      "20089273 ['20AEU1', '20AEU1', '20AEU1'] (4, 20)\n",
      "20089300 ['20AEU1', '20AEU1', '20AEU1'] (6, 20)\n",
      "20089308 ['20AEU1', '20AEU1', '20AEU1'] (6, 20)\n",
      "20089318 ['20AEU1', '20AEU1', '20AEU1'] (6, 20)\n",
      "20089345 ['20AEU1', '20AEU1', '20AEU1'] (6, 20)\n",
      "20089350 ['20AEU1', '20AEU1', '20AEU1'] (5, 20)\n",
      "20089370 ['20AEU1', '20AEU1', '20AEU1'] (5, 20)\n",
      "20089371 ['20AEU1', '20AEU1', '20AEU1'] (8, 20)\n",
      "20089375 ['20AEU1', '20AEU1', '20AEU1'] (8, 20)\n",
      "20089382 ['20AEU1', '20AEU1', '20AEU1'] (9, 20)\n",
      "20089384 ['20AEU1', '20AEU1', '20AEU1'] (11, 20)\n",
      "20089386 ['20AEU1', '20AEU1', '20AEU1'] (6, 20)\n",
      "20089399 ['20AEU1', '20AEU1', '20AEU1'] (7, 20)\n",
      "20089484 ['20AEU1', '20AEU1', '20AEU1'] (6, 20)\n",
      "20089487 ['20AEU1', '20AEU1', '20AEU1'] (7, 20)\n",
      "20089502 ['20AEU1', '20AEU1', '20AEU1'] (7, 20)\n",
      "20089518 ['20AEU1', '20AEU1', '20AEU1'] (5, 20)\n",
      "20089526 ['20AEU1', '20AEU1', '20AEU1'] (9, 20)\n",
      "20089528 ['20AEU1', '20AEU1', '20AEU1'] (8, 20)\n",
      "20089536 ['20AEU1', '20AEU1', '20AEU1'] (4, 20)\n",
      "20089542 ['20AEU1', '20AEU1', '20AEU1'] (5, 20)\n",
      "20089556 ['20AEU1', '20AEU1', '20AEU1'] (9, 20)\n",
      "20089559 ['20AEU1', '20AEU1', '20AEU1'] (8, 20)\n",
      "20089560 ['20AEU1', '20AEU1', '20AEU1'] (6, 20)\n",
      "20089562 ['20AEU1', '20AEU1', '20AEU1'] (6, 20)\n",
      "20089564 ['20AEU1', '20AEU1', '20AEU1'] (7, 20)\n",
      "20089567 ['20AEU1', '20AEU1', '20AEU1'] (10, 20)\n",
      "20089576 ['20AEU1', '20AEU1', '20AEU1'] (6, 20)\n",
      "20089710 ['20AEU1', '20AEU1', '20AEU1'] (11, 20)\n",
      "20089741 ['20AEU1', '20AEU1', '20AEU1'] (6, 20)\n",
      "20089745 ['20AEU1', '20AEU1', '20AEU1'] (6, 20)\n",
      "20089753 ['20AEU1', '20AEU1', '20AEU1'] (9, 20)\n",
      "20089762 ['20AEU1', '20AEU1', '20AEU1'] (5, 20)\n",
      "20089766 ['20AEU1', '20AEU1', '20AEU1'] (5, 20)\n",
      "20089945 ['20AEU1', '20AEU1', '20AEU1'] (6, 20)\n",
      "20089950 ['20AEU1', '20AEU1', '20AEU1'] (6, 20)\n",
      "20089952 ['20AEU1', '20AEU1', '20AEU1'] (8, 20)\n",
      "20091193 ['20AEU1', '20AEU1', '20AEU1'] (8, 20)\n",
      "20091198 ['20AEU1', '20AEU1', '20AEU1'] (5, 20)\n",
      "20091210 ['20AEU1', '20AEU1', '20AEU1'] (6, 20)\n",
      "20091211 ['20AEU1', '20AEU1', '20AEU1'] (6, 20)\n",
      "20091212 ['20AEU1', '20AEU1', '20AEU1'] (6, 20)\n",
      "20091216 ['20AEU1', '20AEU1', '20AEU1'] (8, 20)\n",
      "20091217 ['20AEU1', '20AEU1', '20AEU1'] (3, 20)\n",
      "20091230 ['20AEU1', '20AEU1', '20AEU1'] (7, 20)\n",
      "20091271 ['20AEU1', '20AEU1', '20AEU1'] (7, 20)\n",
      "20091274 ['20AEU1', '20AEU1', '20AEU1'] (9, 20)\n",
      "20091275 ['20AEU1', '20AEU1', '20AEU1'] (3, 20)\n",
      "20091281 ['20AEU1', '20AEU1', '20AEU1'] (6, 20)\n",
      "20091284 ['20AEU1', '20AEU1', '20AEU1'] (6, 20)\n",
      "20091826 ['20AEU1', '20AEU1', '20AEU1'] (9, 20)\n",
      "20091911 ['20AEU1', '20AEU1', '20AEU1'] (7, 20)\n",
      "20091920 ['20AEU1', '20AEU1', '20AEU1'] (7, 20)\n",
      "20091923 ['20AEU1', '20AEU1', '20AEU1'] (9, 20)\n",
      "20091986 ['20AEU1', '20AEU1', '20AEU1'] (5, 20)\n",
      "20091993 ['20AEU1', '20AEU1', '20AEU1'] (5, 20)\n",
      "20141459 ['20AEU1', '20AEU1', '20AEU1'] (8, 20)\n",
      "20142332 ['20AEU1', '20AEU1', '20AEU1'] (8, 20)\n",
      "20143801 ['20AEU1', '20AEU1', '20AEU1'] (10, 20)\n",
      "20143867 ['20AEU1', '20AEU1', '20AEU1'] (9, 20)\n",
      "20035334 ['20AEU1', '20AEU1', '20AEU1'] (17, 20)\n",
      "20068171 ['20AEU1', '20AEU1', '20AEU1'] (3, 20)\n",
      "20072726 ['20AEU1', '20AEU1', '20AEU1'] (6, 20)\n",
      "20079547 ['20AEU1', '20AEU1', '20AEU1'] (7, 20)\n",
      "20274289 ['20AEU1', '20AEU1', '20AEU1'] (15, 20)\n",
      "20312533 ['20AEU1', '20AEU1', '20AEU1'] (15, 20)\n",
      "20315305 ['20AEU1', '20AEU1', '20AEU1'] (15, 20)\n",
      "20318663 ['20AEU1', '20AEU1', '20AEU1'] (16, 20)\n",
      "20322499 ['20AEU1', '20AEU1', '20AEU1'] (15, 20)\n",
      "20325231 ['20AEU1', '20AEU1', '20AEU1'] (15, 20)\n",
      "20326820 ['20AEU1', '20AEU1', '20AEU1'] (11, 20)\n",
      "20327604 ['20AEU1', '20AEU1', '20AEU1'] (14, 20)\n",
      "20334527 ['20AEU1', '20AEU1', '20AEU1'] (14, 20)\n",
      "20338831 ['20AEU1', '20AEU1', '20AEU1'] (12, 20)\n",
      "20341334 ['20AEU1', '20AEU1', '20AEU1'] (16, 20)\n",
      "20341335 ['20AEU1', '20AEU1', '20AEU1'] (12, 20)\n",
      "20348195 ['20AEU1', '20AEU1', '20AEU1'] (13, 20)\n",
      "20348780 ['20AEU1', '20AEU1', '20AEU1'] (12, 20)\n",
      "20348783 ['20AEU1', '20AEU1', '20AEU1'] (12, 20)\n",
      "20352073 ['20AEU1', '20AEU1', '20AEU1'] (14, 20)\n",
      "20352276 ['20AEU1', '20AEU1', '20AEU1'] (18, 20)\n",
      "20352288 ['20AEU1', '20AEU1', '20AEU1'] (14, 20)\n",
      "20352303 ['20AEU1', '20AEU1', '20AEU1'] (13, 20)\n",
      "20352304 ['20AEU1', '20AEU1', '20AEU1'] (16, 20)\n",
      "20352366 ['20AEU1', '20AEU1', '20AEU1'] (14, 20)\n",
      "20352381 ['20AEU1', '20AEU1', '20AEU1'] (15, 20)\n",
      "20352410 ['20AEU1', '20AEU1', '20AEU1'] (17, 20)\n",
      "20352440 ['20AEU1', '20AEU1', '20AEU1'] (15, 20)\n",
      "20352458 ['20AEU1', '20AEU1', '20AEU1'] (15, 20)\n",
      "20352564 ['20AEU1', '20AEU1', '20AEU1'] (17, 20)\n",
      "20352626 ['20AEU1', '20AEU1', '20AEU1'] (14, 20)\n",
      "20352648 ['20AEU1', '20AEU1', '20AEU1'] (16, 20)\n",
      "20352809 ['20AEU1', '20AEU1', '20AEU1'] (14, 20)\n",
      "20352816 ['20AEU1', '20AEU1', '20AEU1'] (14, 20)\n",
      "20352819 ['20AEU1', '20AEU1', '20AEU1'] (17, 20)\n",
      "20352830 ['20AEU1', '20AEU1', '20AEU1'] (17, 20)\n",
      "20352925 ['20AEU1', '20AEU1', '20AEU1'] (15, 20)\n",
      "20352927 ['20AEU1', '20AEU1', '20AEU1'] (16, 20)\n",
      "20352929 ['20AEU1', '20AEU1', '20AEU1'] (14, 20)\n",
      "20352932 ['20AEU1', '20AEU1', '20AEU1'] (17, 20)\n",
      "20352934 ['20AEU1', '20AEU1', '20AEU1'] (16, 20)\n",
      "20352942 ['20AEU1', '20AEU1', '20AEU1'] (15, 20)\n",
      "20352990 ['20AEU1', '20AEU1', '20AEU1'] (16, 20)\n",
      "20352997 ['20AEU1', '20AEU1', '20AEU1'] (18, 20)\n",
      "20353000 ['20AEU1', '20AEU1', '20AEU1'] (16, 20)\n",
      "20353090 ['20AEU1', '20AEU1', '20AEU1'] (14, 20)\n",
      "20353100 ['20AEU1', '20AEU1', '20AEU1'] (14, 20)\n",
      "20353111 ['20AEU1', '20AEU1', '20AEU1'] (17, 20)\n",
      "20353115 ['20AEU1', '20AEU1', '20AEU1'] (14, 20)\n",
      "20353117 ['20AEU1', '20AEU1', '20AEU1'] (16, 20)\n",
      "20353118 ['20AEU1', '20AEU1', '20AEU1'] (18, 20)\n",
      "20353122 ['20AEU1', '20AEU1', '20AEU1'] (12, 20)\n",
      "20353123 ['20AEU1', '20AEU1', '20AEU1'] (14, 20)\n",
      "20353125 ['20AEU1', '20AEU1', '20AEU1'] (17, 20)\n",
      "20353158 ['20AEU1', '20AEU1', '20AEU1'] (14, 20)\n",
      "20353174 ['20AEU1', '20AEU1', '20AEU1'] (16, 20)\n",
      "20353180 ['20AEU1', '20AEU1', '20AEU1'] (15, 20)\n",
      "20353204 ['20AEU1', '20AEU1', '20AEU1'] (14, 20)\n",
      "20353208 ['20AEU1', '20AEU1', '20AEU1'] (14, 20)\n",
      "20353214 ['20AEU1', '20AEU1', '20AEU1'] (15, 20)\n",
      "20353219 ['20AEU1', '20AEU1', '20AEU1'] (14, 20)\n",
      "20353223 ['20AEU1', '20AEU1', '20AEU1'] (16, 20)\n",
      "20353225 ['20AEU1', '20AEU1', '20AEU1'] (16, 20)\n",
      "20353227 ['20AEU1', '20AEU1', '20AEU1'] (13, 20)\n",
      "20353236 ['20AEU1', '20AEU1', '20AEU1'] (17, 20)\n",
      "20353238 ['20AEU1', '20AEU1', '20AEU1'] (13, 20)\n",
      "20353240 ['20AEU1', '20AEU1', '20AEU1'] (16, 20)\n",
      "20353252 ['20AEU1', '20AEU1', '20AEU1'] (15, 20)\n",
      "20353283 ['20AEU1', '20AEU1', '20AEU1'] (17, 20)\n",
      "20353286 ['20AEU1', '20AEU1', '20AEU1'] (15, 20)\n",
      "20353287 ['20AEU1', '20AEU1', '20AEU1'] (13, 20)\n",
      "20353301 ['20AEU1', '20AEU1', '20AEU1'] (17, 20)\n",
      "20353303 ['20AEU1', '20AEU1', '20AEU1'] (16, 20)\n",
      "20353304 ['20AEU1', '20AEU1', '20AEU1'] (13, 20)\n",
      "20353307 ['20AEU1', '20AEU1', '20AEU1'] (13, 20)\n",
      "20353439 ['20AEU1', '20AEU1', '20AEU1'] (15, 20)\n",
      "20353444 ['20AEU1', '20AEU1', '20AEU1'] (13, 20)\n",
      "20353458 ['20AEU1', '20AEU1', '20AEU1'] (17, 20)\n",
      "20353464 ['20AEU1', '20AEU1', '20AEU1'] (25, 20)\n",
      "20353998 ['20AEU1', '20AEU1', '20AEU1'] (14, 20)\n",
      "20358289 ['20AEU1', '20AEU1', '20AEU1'] (15, 20)\n",
      "20258570 ['20AEU1', '20AEU1', '20AEU1'] (14, 20)\n",
      "20258649 ['20AEU1', '20AEU1', '20AEU1'] (8, 20)\n",
      "20261163 ['20AEU1', '20AEU1', '20AEU1'] (12, 20)\n",
      "20261170 ['20AEU1', '20AEU1', '20AEU1'] (14, 20)\n",
      "20261240 ['20AEU1', '20AEU1', '20AEU1'] (13, 20)\n",
      "20261307 ['20AEU1', '20AEU1', '20AEU1'] (16, 20)\n",
      "20261377 ['20AEU1', '20AEU1', '20AEU1'] (13, 20)\n",
      "20263413 ['20AEU1', '20AEU1', '20AEU1'] (16, 20)\n",
      "20263569 ['20AEU1', '20AEU1', '20AEU1'] (15, 20)\n",
      "20263772 ['20AEU1', '20AEU1', '20AEU1'] (13, 20)\n",
      "20263858 ['20AEU1', '20AEU1', '20AEU1'] (13, 20)\n",
      "20263972 ['20AEU1', '20AEU1', '20AEU1'] (13, 20)\n",
      "20263994 ['20AEU1', '20AEU1', '20AEU1'] (13, 20)\n",
      "20265074 ['20AEU1', '20AEU1', '20AEU1'] (13, 20)\n",
      "20265577 ['20AEU1', '20AEU1', '20AEU1'] (13, 20)\n",
      "20265597 ['20AEU1', '20AEU1', '20AEU1'] (17, 20)\n",
      "20265682 ['20AEU1', '20AEU1', '20AEU1'] (13, 20)\n",
      "20325799 ['20AEU1', '20AEU1', '20AEU1'] (16, 20)\n",
      "20326009 ['20AEU1', '20AEU1', '20AEU1'] (14, 20)\n",
      "20326025 ['20AEU1', '20AEU1', '20AEU1'] (14, 20)\n",
      "20326029 ['20AEU1', '20AEU1', '20AEU1'] (12, 20)\n",
      "20326041 ['20AEU1', '20AEU1', '20AEU1'] (14, 20)\n",
      "20326075 ['20AEU1', '20AEU1', '20AEU1'] (11, 20)\n",
      "20326076 ['20AEU1', '20AEU1', '20AEU1'] (13, 20)\n",
      "20326134 ['20AEU1', '20AEU1', '20AEU1'] (16, 20)\n",
      "20326135 ['20AEU1', '20AEU1', '20AEU1'] (16, 20)\n",
      "20326143 ['20AEU1', '20AEU1', '20AEU1'] (16, 20)\n",
      "20326148 ['20AEU1', '20AEU1', '20AEU1'] (18, 20)\n",
      "20326156 ['20AEU1', '20AEU1', '20AEU1'] (15, 20)\n",
      "20326164 ['20AEU1', '20AEU1', '20AEU1'] (15, 20)\n",
      "20326471 ['20AEU1', '20AEU1', '20AEU1'] (17, 20)\n",
      "20326473 ['20AEU1', '20AEU1', '20AEU1'] (14, 20)\n",
      "20326474 ['20AEU1', '20AEU1', '20AEU1'] (16, 20)\n",
      "20326476 ['20AEU1', '20AEU1', '20AEU1'] (17, 20)\n",
      "20326478 ['20AEU1', '20AEU1', '20AEU1'] (16, 20)\n",
      "20326482 ['20AEU1', '20AEU1', '20AEU1'] (19, 20)\n",
      "20326483 ['20AEU1', '20AEU1', '20AEU1'] (14, 20)\n",
      "20326486 ['20AEU1', '20AEU1', '20AEU1'] (16, 20)\n",
      "20326494 ['20AEU1', '20AEU1', '20AEU1'] (15, 20)\n",
      "20326508 ['20AEU1', '20AEU1', '20AEU1'] (14, 20)\n",
      "20326610 ['20AEU1', '20AEU1', '20AEU1'] (13, 20)\n",
      "20326611 ['20AEU1', '20AEU1', '20AEU1'] (16, 20)\n",
      "20326615 ['20AEU1', '20AEU1', '20AEU1'] (16, 20)\n",
      "20326617 ['20AEU1', '20AEU1', '20AEU1'] (13, 20)\n",
      "20326622 ['20AEU1', '20AEU1', '20AEU1'] (15, 20)\n",
      "20327012 ['20AEU1', '20AEU1', '20AEU1'] (12, 20)\n",
      "20327014 ['20AEU1', '20AEU1', '20AEU1'] (18, 20)\n",
      "20327016 ['20AEU1', '20AEU1', '20AEU1'] (18, 20)\n",
      "20327024 ['20AEU1', '20AEU1', '20AEU1'] (15, 20)\n",
      "20327027 ['20AEU1', '20AEU1', '20AEU1'] (16, 20)\n",
      "20327028 ['20AEU1', '20AEU1', '20AEU1'] (16, 20)\n",
      "20327031 ['20AEU1', '20AEU1', '20AEU1'] (16, 20)\n",
      "20327042 ['20AEU1', '20AEU1', '20AEU1'] (18, 20)\n",
      "20327059 ['20AEU1', '20AEU1', '20AEU1'] (12, 20)\n",
      "20327070 ['20AEU1', '20AEU1', '20AEU1'] (13, 20)\n",
      "20327599 ['20AEU1', '20AEU1', '20AEU1'] (14, 20)\n",
      "20327618 ['20AEU1', '20AEU1', '20AEU1'] (16, 20)\n",
      "20327625 ['20AEU1', '20AEU1', '20AEU1'] (18, 20)\n",
      "20327650 ['20AEU1', '20AEU1', '20AEU1'] (15, 20)\n",
      "20327661 ['20AEU1', '20AEU1', '20AEU1'] (15, 20)\n",
      "20327672 ['20AEU1', '20AEU1', '20AEU1'] (13, 20)\n",
      "20068031 ['20AEU1', '20AEU1', '20AEU1'] (10, 20)\n",
      "20072317 ['20AEU1', '20AEU1', '20AEU1'] (8, 20)\n",
      "20079259 ['20AEU1', '20AEU1', '20AEU1'] (7, 20)\n",
      "20089656 ['20AEU1', '20AEU1', '20AEU1'] (11, 20)\n",
      "20091364 ['20AEU1', '20AEU1', '20AEU1'] (6, 20)\n",
      "20099778 ['20AEU1', '20AEU1', '20AEU1'] (9, 20)\n",
      "20104511 ['20AEU1', '20AEU1', '20AEU1'] (9, 20)\n",
      "20115261 ['20AEU1', '20AEU1', '20AEU1'] (10, 20)\n",
      "20191527 ['20AEU1', '20AEU1', '20AEU1'] (10, 20)\n",
      "20195733 ['20AEU1', '20AEU1', '20AEU1'] (18, 20)\n",
      "20197739 ['20AEU1', '20AEU1', '20AEU1'] (0, 20)\n",
      "20224125 ['20AEU1', '20AEU1', '20AEU1'] (13, 20)\n",
      "20242010 ['20AEU1', '20AEU1', '20AEU1'] (12, 20)\n",
      "20242093 ['20AEU1', '20AEU1', '20AEU1'] (13, 20)\n",
      "20242273 ['20AEU1', '20AEU1', '20AEU1'] (14, 20)\n",
      "20242511 ['20AEU1', '20AEU1', '20AEU1'] (16, 20)\n",
      "20242702 ['20AEU1', '20AEU1', '20AEU1'] (12, 20)\n",
      "20245025 ['20AEU1', '20AEU1', '20AEU1'] (13, 20)\n",
      "20247604 ['20AEU1', '20AEU1', '20AEU1'] (12, 20)\n",
      "20247811 ['20AEU1', '20AEU1', '20AEU1'] (25, 20)\n",
      "20247878 ['20AEU1', '20AEU1', '20AEU1'] (12, 20)\n",
      "20250018 ['20AEU1', '20AEU1', '20AEU1'] (8, 20)\n",
      "20250481 ['20AEU1', '20AEU1', '20AEU1'] (11, 20)\n",
      "20250863 ['20AEU1', '20AEU1', '20AEU1'] (18, 20)\n",
      "20250983 ['20AEU1', '20AEU1', '20AEU1'] (15, 20)\n",
      "20253374 ['20AEU1', '20AEU1', '20AEU1'] (12, 20)\n",
      "20253475 ['20AEU1', '20AEU1', '20AEU1'] (13, 20)\n",
      "20253522 ['20AEU1', '20AEU1', '20AEU1'] (13, 20)\n",
      "20253595 ['20AEU1', '20AEU1', '20AEU1'] (13, 20)\n",
      "20253631 ['20AEU1', '20AEU1', '20AEU1'] (11, 20)\n",
      "20253722 ['20AEU1', '20AEU1', '20AEU1'] (15, 20)\n",
      "20255027 ['20AEU1', '20AEU1', '20AEU1'] (13, 20)\n",
      "20255086 ['20AEU1', '20AEU1', '20AEU1'] (13, 20)\n",
      "20255313 ['20AEU1', '20AEU1', '20AEU1'] (15, 20)\n",
      "20255524 ['20AEU1', '20AEU1', '20AEU1'] (16, 20)\n",
      "20255685 ['20AEU1', '20AEU1', '20AEU1'] (18, 20)\n",
      "20255915 ['20AEU1', '20AEU1', '20AEU1'] (12, 20)\n",
      "20255928 ['20AEU1', '20AEU1', '20AEU1'] (14, 20)\n",
      "20258070 ['20AEU1', '20AEU1', '20AEU1'] (12, 20)\n",
      "20258214 ['20AEU1', '20AEU1', '20AEU1'] (12, 20)\n",
      "20258238 ['20AEU1', '20AEU1', '20AEU1'] (13, 20)\n",
      "20258287 ['20AEU1', '20AEU1', '20AEU1'] (13, 20)\n",
      "20258322 ['20AEU1', '20AEU1', '20AEU1'] (14, 20)\n",
      "20258440 ['20AEU1', '20AEU1', '20AEU1'] (12, 20)\n",
      "20261662 ['20AEU1', '20AEU1', '20AEU1'] (14, 20)\n",
      "20263252 ['20AEU1', '20AEU1', '20AEU1'] (14, 20)\n",
      "20263308 ['20AEU1', '20AEU1', '20AEU1'] (8, 20)\n",
      "20265521 ['20AEU1', '20AEU1', '20AEU1'] (14, 20)\n",
      "20267856 ['20AEU1', '20AEU1', '20AEU1'] (12, 20)\n",
      "20269026 ['20AEU1', '20AEU1', '20AEU1'] (12, 20)\n",
      "20269341 ['20AEU1', '20AEU1', '20AEU1'] (15, 20)\n",
      "20269791 ['20AEU1', '20AEU1', '20AEU1'] (14, 20)\n",
      "20272101 ['20AEU1', '20AEU1', '20AEU1'] (12, 20)\n",
      "20272242 ['20AEU1', '20AEU1', '20AEU1'] (13, 20)\n",
      "20272650 ['20AEU1', '20AEU1', '20AEU1'] (10, 20)\n",
      "20273792 ['20AEU1', '20AEU1', '20AEU1'] (12, 20)\n",
      "20274440 ['20AEU1', '20AEU1', '20AEU1'] (13, 20)\n",
      "20277245 ['20AEU1', '20AEU1', '20AEU1'] (13, 20)\n",
      "20277326 ['20AEU1', '20AEU1', '20AEU1'] (12, 20)\n",
      "20279174 ['20AEU1', '20AEU1', '20AEU1'] (12, 20)\n",
      "20279180 ['20AEU1', '20AEU1', '20AEU1'] (11, 20)\n",
      "20279189 ['20AEU1', '20AEU1', '20AEU1'] (12, 20)\n",
      "20279243 ['20AEU1', '20AEU1', '20AEU1'] (13, 20)\n",
      "20279283 ['20AEU1', '20AEU1', '20AEU1'] (12, 20)\n",
      "20286667 ['20AEU1', '20AEU1', '20AEU1'] (13, 20)\n",
      "20286864 ['20AEU1', '20AEU1', '20AEU1'] (13, 20)\n",
      "20286872 ['20AEU1', '20AEU1', '20AEU1'] (12, 20)\n",
      "20288207 ['20AEU1', '20AEU1', '20AEU1'] (12, 20)\n",
      "20289563 ['20AEU1', '20AEU1', '20AEU1'] (15, 20)\n",
      "20303453 ['20AEU1', '20AEU1', '20AEU1'] (12, 20)\n",
      "20242010BIS ['20AEU1', '20AEU1', '20AEU1'] (12, 20)\n",
      "20279180BIS ['20AEU1', '20AEU1', '20AEU1'] (11, 20)\n",
      "20056952 ['20AEU1', '20AEU1', '20AEU1'] (3, 20)\n",
      "20057646 ['20AEU1', '20AEU1', '20AEU1'] (9, 20)\n",
      "20057660 ['20AEU1', '20AEU1', '20AEU1'] (3, 20)\n",
      "20057661 ['20AEU1', '20AEU1', '20AEU1'] (3, 20)\n",
      "20060104 ['20AEU1', '20AEU1', '20AEU1'] (3, 20)\n",
      "20060908 ['20AEU1', '20AEU1', '20AEU1'] (3, 20)\n",
      "20060909 ['20AEU1', '20AEU1', '20AEU1'] (3, 20)\n",
      "20060914 ['20AEU1', '20AEU1', '20AEU1'] (5, 20)\n",
      "20060916 ['20AEU1', '20AEU1', '20AEU1'] (7, 20)\n",
      "20060931 ['20AEU1', '20AEU1', '20AEU1'] (6, 20)\n",
      "20062220 ['20AEU1', '20AEU1', '20AEU1'] (10, 20)\n",
      "20062229 ['20AEU1', '20AEU1', '20AEU1'] (5, 20)\n",
      "20063068 ['20AEU1', '20AEU1', '20AEU1'] (3, 20)\n",
      "20063072 ['20AEU1', '20AEU1', '20AEU1'] (3, 20)\n",
      "20063113 ['20AEU1', '20AEU1', '20AEU1'] (5, 20)\n",
      "20063134 ['20AEU1', '20AEU1', '20AEU1'] (7, 20)\n",
      "20063155 ['20AEU1', '20AEU1', '20AEU1'] (5, 20)\n",
      "20063156 ['20AEU1', '20AEU1', '20AEU1'] (3, 20)\n",
      "20063507 ['20AEU1', '20AEU1', '20AEU1'] (10, 20)\n",
      "20063793 ['20AEU1', '20AEU1', '20AEU1'] (5, 20)\n",
      "20063856 ['20AEU1', '20AEU1', '20AEU1'] (6, 20)\n",
      "20069464 ['20AEU1', '20AEU1', '20AEU1'] (8, 20)\n",
      "20069828 ['20AEU1', '20AEU1', '20AEU1'] (6, 20)\n",
      "20076540 ['20AEU1', '20AEU1', '20AEU1'] (5, 20)\n",
      "20091134 ['20AEU1', '20AEU1', '20AEU1'] (7, 20)\n",
      "20091516 ['20AEU1', '20AEU1', '20AEU1'] (5, 20)\n",
      "20092775 ['20AEU1', '20AEU1', '20AEU1'] (6, 20)\n",
      "20095383 ['20AEU1', '20AEU1', '20AEU1'] (6, 20)\n",
      "20095471 ['20AEU1', '20AEU1', '20AEU1'] (6, 20)\n",
      "20095779 ['20AEU1', '20AEU1', '20AEU1'] (6, 20)\n",
      "20097822 ['20AEU1', '20AEU1', '20AEU1'] (8, 20)\n",
      "20098090 ['20AEU1', '20AEU1', '20AEU1'] (10, 20)\n",
      "20098112 ['20AEU1', '20AEU1', '20AEU1'] (7, 20)\n",
      "20098374 ['20AEU1', '20AEU1', '20AEU1'] (7, 20)\n",
      "20098461 ['20AEU1', '20AEU1', '20AEU1'] (7, 20)\n",
      "20098558 ['20AEU1', '20AEU1', '20AEU1'] (9, 20)\n",
      "20098740 ['20AEU1', '20AEU1', '20AEU1'] (7, 20)\n",
      "20098742 ['20AEU1', '20AEU1', '20AEU1'] (7, 20)\n",
      "20099429 ['20AEU1', '20AEU1', '20AEU1'] (8, 20)\n",
      "20099524 ['20AEU1', '20AEU1', '20AEU1'] (9, 20)\n",
      "20099653 ['20AEU1', '20AEU1', '20AEU1'] (9, 20)\n",
      "20101787 ['20AEU1', '20AEU1', '20AEU1'] (11, 20)\n",
      "20105364 ['20AEU1', '20AEU1', '20AEU1'] (8, 20)\n",
      "20107771 ['20AEU1', '20AEU1', '20AEU1'] (8, 20)\n",
      "20107815 ['20AEU1', '20AEU1', '20AEU1'] (6, 20)\n",
      "20107862 ['20AEU1', '20AEU1', '20AEU1'] (5, 20)\n",
      "20112528 ['20AEU1', '20AEU1', '20AEU1'] (4, 20)\n",
      "20117574 ['20AEU1', '20AEU1', '20AEU1'] (8, 20)\n",
      "20118423 ['20AEU1', '20AEU1', '20AEU1'] (12, 20)\n",
      "20118551 ['20AEU1', '20AEU1', '20AEU1'] (8, 20)\n",
      "20131115 ['20AEU1', '20AEU1', '20AEU1'] (14, 20)\n",
      "20131119 ['20AEU1', '20AEU1', '20AEU1'] (14, 20)\n",
      "20131291 ['20AEU1', '20AEU1', '20AEU1'] (6, 20)\n",
      "20131304 ['20AEU1', '20AEU1', '20AEU1'] (11, 20)\n",
      "20131360 ['20AEU1', '20AEU1', '20AEU1'] (5, 20)\n",
      "20137499 ['20AEU1', '20AEU1', '20AEU1'] (6, 20)\n",
      "20141205 ['20AEU1', '20AEU1', '20AEU1'] (7, 20)\n",
      "20143039 ['20AEU1', '20AEU1', '20AEU1'] (13, 20)\n",
      "20143141 ['20AEU1', '20AEU1', '20AEU1'] (10, 20)\n",
      "20143785 ['20AEU1', '20AEU1', '20AEU1'] (7, 20)\n",
      "20147370 ['20AEU1', '20AEU1', '20AEU1'] (9, 20)\n",
      "20147374 ['20AEU1', '20AEU1', '20AEU1'] (14, 20)\n",
      "20147378 ['20AEU1', '20AEU1', '20AEU1'] (13, 20)\n",
      "20147508 ['20AEU1', '20AEU1', '20AEU1'] (6, 20)\n",
      "20151086 ['20AEU1', '20AEU1', '20AEU1'] (9, 20)\n",
      "20155764 ['20AEU1', '20AEU1', '20AEU1'] (5, 20)\n",
      "20158609 ['20AEU1', '20AEU1', '20AEU1'] (6, 20)\n",
      "20161019 ['20AEU1', '20AEU1', '20AEU1'] (8, 20)\n",
      "20174789 ['20AEU1', '20AEU1', '20AEU1'] (16, 20)\n",
      "20180607 ['20AEU1', '20AEU1', '20AEU1'] (16, 20)\n",
      "20183298 ['20AEU1', '20AEU1', '20AEU1'] (17, 20)\n",
      "20190543 ['20AEU1', '20AEU1', '20AEU1'] (18, 20)\n",
      "20193876 ['20AEU1', '20AEU1', '20AEU1'] (18, 20)\n",
      "20193877 ['20AEU1', '20AEU1', '20AEU1'] (16, 20)\n",
      "20155670 ['20AEU1', '20AEU1', '20AEU1'] (9, 20)\n",
      "20185064 ['20AEU1', '20AEU1', '20AEU1'] (5, 20)\n",
      "20077689 ['20AEU1', '20AEU1', '20AEU1'] (8, 20)\n",
      "20131283 ['20AEU1', '20AEU1', '20AEU1'] (7, 20)\n",
      "20180591 ['20AEU1', '20AEU1', '20AEU1'] (10, 20)\n",
      "20091675 ['20AEU1', '20AEU1', '20AEU1'] (3, 20)\n",
      "20098031 ['20AEU1', '20AEU1', '20AEU1'] (4, 20)\n",
      "20187355 ['20AEU1', '20AEU1', '20AEU1'] (3, 20)\n",
      "20089968 ['20AEU1', '20AEU1', '20AEU1'] (9, 20)\n",
      "20097074 ['20AEU1', '20AEU1', '20AEU1'] (5, 20)\n",
      "20081765 ['20AEU1', '20AEU1', '20AEU1'] (8, 20)\n",
      "20084535 ['20AEU1', '20AEU1', '20AEU1'] (6, 20)\n",
      "20153588 ['20AEU1', '20AEU1', '20AEU1'] (10, 20)\n",
      "20158400 ['20AEU1', '20AEU1', '20AEU1'] (10, 20)\n",
      "20124488 ['20AEU1', '20AEU1', '20AEU1'] (16, 20)\n",
      "20072743 ['20AEU1', '20AEU1', '20AEU1'] (7, 20)\n",
      "20173219 ['20AEU1', '20AEU1', '20AEU1'] (7, 20)\n",
      "20115546 ['20AEU1', '20AEU1', '20AEU1'] (6, 20)\n",
      "20089194 ['20AEU1', '20AEU1', '20AEU1'] (3, 20)\n",
      "20095991 ['20AEU1', '20AEU1', '20AEU1'] (5, 20)\n",
      "20062682 ['20AEU1', '20AEU1', '20AEU1'] (3, 20)\n",
      "20072712 ['20AEU1', '20AEU1', '20AEU1'] (7, 20)\n",
      "20155947 ['20AEU1', '20AEU1', '20AEU1'] (8, 20)\n",
      "20082081 ['20AEU1', '20AEU1', '20AEU1'] (5, 20)\n",
      "20158605 ['20AEU1', '20AEU1', '20AEU1'] (5, 20)\n",
      "20077703 ['20AEU1', '20AEU1', '20AEU1'] (5, 20)\n",
      "20173067 ['20AEU1', '20AEU1', '20AEU1'] (7, 20)\n",
      "20137496 ['20AEU1', '20AEU1', '20AEU1'] (10, 20)\n",
      "20131349 ['20AEU1', '20AEU1', '20AEU1'] (10, 20)\n",
      "20131282 ['20AEU1', '20AEU1', '20AEU1'] (12, 20)\n",
      "20091425 ['20AEU1', '20AEU1', '20AEU1'] (3, 20)\n",
      "20154814 ['20AEU1', '20AEU1', '20AEU1'] (9, 20)\n",
      "20143944 ['20AEU1', '20AEU1', '20AEU1'] (9, 20)\n",
      "20091007 ['20AEU1', '20AEU1', '20AEU1'] (7, 20)\n",
      "20185083 ['20AEU1', '20AEU1', '20AEU1'] (9, 20)\n",
      "20131352 ['20AEU1', '20AEU1', '20AEU1'] (10, 20)\n",
      "20088913 ['20AEU1', '20AEU1', '20AEU1'] (6, 20)\n",
      "20092487 ['20AEU1', '20AEU1', '20AEU1'] (7, 20)\n",
      "20155646 ['20AEU1', '20AEU1', '20AEU1'] (8, 20)\n",
      "20185059 ['20AEU1', '20AEU1', '20AEU1'] (12, 20)\n",
      "20099045 ['20AEU1', '20AEU1', '20AEU1'] (8, 20)\n",
      "20105354 ['20AEU1', '20AEU1', '20AEU1'] (9, 20)\n",
      "20115171 ['20AEU1', '20AEU1', '20AEU1'] (7, 20)\n",
      "20088835 ['20AEU1', '20AEU1', '20AEU1'] (9, 20)\n",
      "20098046 ['20AEU1', '20AEU1', '20AEU1'] (9, 20)\n",
      "20112741 ['20AEU1', '20AEU1', '20AEU1'] (13, 20)\n",
      "20091046 ['20AEU1', '20AEU1', '20AEU1'] (8, 20)\n",
      "20171204 ['20AEU1', '20AEU1', '20AEU1'] (7, 20)\n",
      "20092033 ['20AEU1', '20AEU1', '20AEU1'] (8, 20)\n",
      "20060194 ['20AEU1', '20AEU1', '20AEU1'] (8, 20)\n",
      "20101584 ['20AEU1', '20AEU1', '20AEU1'] (8, 20)\n",
      "20108076 ['20AEU1', '20AEU1', '20AEU1'] (8, 20)\n",
      "20174266 ['20AEU1', '20AEU1', '20AEU1'] (7, 20)\n",
      "20179107 ['20AEU1', '20AEU1', '20AEU1'] (7, 20)\n",
      "20069592 ['20AEU1', '20AEU1', '20AEU1'] (5, 20)\n",
      "20081087 ['20AEU1', '20AEU1', '20AEU1'] (9, 20)\n",
      "20108080 ['20AEU1', '20AEU1', '20AEU1'] (9, 20)\n",
      "20091414 ['20AEU1', '20AEU1', '20AEU1'] (8, 20)\n",
      "20267466 ['20AEU1', '20AEU1', '20AEU1'] (13, 20)\n",
      "20273588 ['20AEU1', '20AEU1', '20AEU1'] (11, 20)\n",
      "20273601 ['20AEU1', '20AEU1', '20AEU1'] (12, 20)\n",
      "20273789 ['20AEU1', '20AEU1', '20AEU1'] (11, 20)\n",
      "20277171 ['20AEU1', '20AEU1', '20AEU1'] (12, 20)\n",
      "20277322 ['20AEU1', '20AEU1', '20AEU1'] (12, 20)\n",
      "20279121 ['20AEU1', '20AEU1', '20AEU1'] (13, 20)\n",
      "20279217 ['20AEU1', '20AEU1', '20AEU1'] (11, 20)\n",
      "20282323 ['20AEU1', '20AEU1', '20AEU1'] (12, 20)\n",
      "20286419 ['20AEU1', '20AEU1', '20AEU1'] (11, 20)\n",
      "20288744 ['20AEU1', '20AEU1', '20AEU1'] (13, 20)\n",
      "20289120 ['20AEU1', '20AEU1', '20AEU1'] (13, 20)\n",
      "20289887 ['20AEU1', '20AEU1', '20AEU1'] (12, 20)\n",
      "20289895 ['20AEU1', '20AEU1', '20AEU1'] (11, 20)\n",
      "20289945 ['20AEU1', '20AEU1', '20AEU1'] (14, 20)\n",
      "20294476 ['20AEU1', '20AEU1', '20AEU1'] (12, 20)\n",
      "20294477 ['20AEU1', '20AEU1', '20AEU1'] (12, 20)\n",
      "20297088 ['20AEU1', '20AEU1', '20AEU1'] (12, 20)\n",
      "20297211 ['20AEU1', '20AEU1', '20AEU1'] (12, 20)\n",
      "20298963 ['20AEU1', '20AEU1', '20AEU1'] (14, 20)\n",
      "20306625 ['20AEU1', '20AEU1', '20AEU1'] (11, 20)\n",
      "20069944 ['20AEU1', '20AEU1', '20AEU1'] (5, 20)\n",
      "20081614 ['20AEU1', '20AEU1', '20AEU1'] (6, 20)\n",
      "20105723 ['20AEU1', '20AEU1', '20AEU1'] (7, 20)\n",
      "20191983 ['20AEU1', '20AEU1', '20AEU1'] (7, 20)\n",
      "20192226 ['20AEU1', '20AEU1', '20AEU1'] (7, 20)\n",
      "20200602 ['20AEU1', '20AEU1', '20AEU1'] (3, 20)\n",
      "20214753 ['20AEU1', '20AEU1', '20AEU1'] (8, 20)\n",
      "20232929 ['20AEU1', '20AEU1', '20AEU1'] (12, 20)\n",
      "20247415 ['20AEU1', '20AEU1', '20AEU1'] (18, 20)\n",
      "20261326 ['20AEU1', '20AEU1', '20AEU1'] (15, 20)\n",
      "20265528 ['20AEU1', '20AEU1', '20AEU1'] (15, 20)\n",
      "20267103 ['20AEU1', '20AEU1', '20AEU1'] (15, 20)\n",
      "20369536 ['20AEU1', '20AEU1', '20AEU1'] (13, 20)\n",
      "20273307 ['20AEU1', '20AEU1', '20AEU1'] (13, 20)\n",
      "20274251 ['20AEU1', '20AEU1', '20AEU1'] (13, 20)\n",
      "20316402 ['20AEU1', '20AEU1', '20AEU1'] (13, 20)\n",
      "20328673 ['20AEU1', '20AEU1', '20AEU1'] (14, 20)\n",
      "20333345 ['20AEU1', '20AEU1', '20AEU1'] (20, 20)\n",
      "20334871 ['20AEU1', '20AEU1', '20AEU1'] (14, 20)\n",
      "20340302 ['20AEU1', '20AEU1', '20AEU1'] (13, 20)\n",
      "20342635 ['20AEU1', '20AEU1', '20AEU1'] (16, 20)\n",
      "20342646 ['20AEU1', '20AEU1', '20AEU1'] (14, 20)\n",
      "20348005 ['20AEU1', '20AEU1', '20AEU1'] (15, 20)\n",
      "20398012 ['20AEU1', '20AEU1', '20AEU1'] (17, 20)\n",
      "20357017 ['20AEU1', '20AEU1', '20AEU1'] (15, 20)\n",
      "20358933 ['20AEU1', '20AEU1', '20AEU1'] (17, 20)\n",
      "20360682 ['20AEU1', '20AEU1', '20AEU1'] (16, 20)\n",
      "20365371 ['20AEU1', '20AEU1', '20AEU1'] (17, 20)\n",
      "20371162 ['20AEU1', '20AEU1', '20AEU1'] (16, 20)\n",
      "20371170 ['20AEU1', '20AEU1', '20AEU1'] (20, 20)\n",
      "20371193 ['20AEU1', '20AEU1', '20AEU1'] (14, 20)\n",
      "20371194 ['20AEU1', '20AEU1', '20AEU1'] (17, 20)\n",
      "20371200 ['20AEU1', '20AEU1', '20AEU1'] (18, 20)\n",
      "20371203 ['20AEU1', '20AEU1', '20AEU1'] (18, 20)\n",
      "20371285 ['20AEU1', '20AEU1', '20AEU1'] (14, 20)\n",
      "20371302 ['20AEU1', '20AEU1', '20AEU1'] (15, 20)\n",
      "20371303 ['20AEU1', '20AEU1', '20AEU1'] (20, 20)\n",
      "20371315 ['20AEU1', '20AEU1', '20AEU1'] (15, 20)\n",
      "20371376 ['20AEU1', '20AEU1', '20AEU1'] (18, 20)\n",
      "20371389 ['20AEU1', '20AEU1', '20AEU1'] (14, 20)\n",
      "20371401 ['20AEU1', '20AEU1', '20AEU1'] (16, 20)\n",
      "20371405 ['20AEU1', '20AEU1', '20AEU1'] (12, 20)\n",
      "20371411 ['20AEU1', '20AEU1', '20AEU1'] (15, 20)\n",
      "20371414 ['20AEU1', '20AEU1', '20AEU1'] (15, 20)\n",
      "20371415 ['20AEU1', '20AEU1', '20AEU1'] (13, 20)\n",
      "20371416 ['20AEU1', '20AEU1', '20AEU1'] (14, 20)\n",
      "20371417 ['20AEU1', '20AEU1', '20AEU1'] (14, 20)\n",
      "20371435 ['20AEU1', '20AEU1', '20AEU1'] (15, 20)\n",
      "20371444 ['20AEU1', '20AEU1', '20AEU1'] (18, 20)\n",
      "20372711 ['20AEU1', '20AEU1', '20AEU1'] (16, 20)\n",
      "20372739 ['20AEU1', '20AEU1', '20AEU1'] (18, 20)\n",
      "20372740 ['20AEU1', '20AEU1', '20AEU1'] (14, 20)\n",
      "20372743 ['20AEU1', '20AEU1', '20AEU1'] (15, 20)\n",
      "20372750 ['20AEU1', '20AEU1', '20AEU1'] (18, 20)\n",
      "20372752 ['20AEU1', '20AEU1', '20AEU1'] (17, 20)\n",
      "20374247 ['20AEU1', '20AEU1', '20AEU1'] (14, 20)\n",
      "20374277 ['20AEU1', '20AEU1', '20AEU1'] (18, 20)\n",
      "20374283 ['20AEU1', '20AEU1', '20AEU1'] (13, 20)\n",
      "20374301 ['20AEU1', '20AEU1', '20AEU1'] (13, 20)\n",
      "20374307 ['20AEU1', '20AEU1', '20AEU1'] (15, 20)\n",
      "20374330 ['20AEU1', '20AEU1', '20AEU1'] (16, 20)\n",
      "20374339 ['20AEU1', '20AEU1', '20AEU1'] (17, 20)\n",
      "20374353 ['20AEU1', '20AEU1', '20AEU1'] (17, 20)\n",
      "20374361 ['20AEU1', '20AEU1', '20AEU1'] (15, 20)\n",
      "20377230 ['20AEU1', '20AEU1', '20AEU1'] (17, 20)\n",
      "20379679 ['20AEU1', '20AEU1', '20AEU1'] (18, 20)\n",
      "20379900 ['20AEU1', '20AEU1', '20AEU1'] (19, 20)\n",
      "20384092 ['20AEU1', '20AEU1', '20AEU1'] (20, 20)\n",
      "20384795 ['20AEU1', '20AEU1', '20AEU1'] (17, 20)\n",
      "20387148 ['20AEU1', '20AEU1', '20AEU1'] (18, 20)\n",
      "20387413 ['20AEU1', '20AEU1', '20AEU1'] (19, 20)\n",
      "20387419 ['20AEU1', '20AEU1', '20AEU1'] (20, 20)\n",
      "20387497 ['20AEU1', '20AEU1', '20AEU1'] (13, 20)\n",
      "20387650 ['20AEU1', '20AEU1', '20AEU1'] (18, 20)\n",
      "20387811 ['20AEU1', '20AEU1', '20AEU1'] (14, 20)\n",
      "20387813 ['20AEU1', '20AEU1', '20AEU1'] (17, 20)\n",
      "20389458 ['20AEU1', '20AEU1', '20AEU1'] (16, 20)\n",
      "20389993 ['20AEU1', '20AEU1', '20AEU1'] (14, 20)\n",
      "20390669 ['20AEU1', '20AEU1', '20AEU1'] (18, 20)\n",
      "20392100 ['20AEU1', '20AEU1', '20AEU1'] (19, 20)\n",
      "20392104 ['20AEU1', '20AEU1', '20AEU1'] (17, 20)\n",
      "20392608 ['20AEU1', '20AEU1', '20AEU1'] (20, 20)\n",
      "20392611 ['20AEU1', '20AEU1', '20AEU1'] (18, 20)\n",
      "20395003 ['20AEU1', '20AEU1', '20AEU1'] (18, 20)\n",
      "20395017 ['20AEU1', '20AEU1', '20AEU1'] (19, 20)\n",
      "20393766 ['20AEU1', '20AEU1', '20AEU1'] (18, 20)\n",
      "20395985 ['20AEU1', '20AEU1', '20AEU1'] (20, 20)\n",
      "20372714 ['20AEU1', '20AEU1', '20AEU1'] (14, 20)\n",
      "20371180 ['20AEU1', '20AEU1', '20AEU1'] (16, 20)\n",
      "20253811 ['20AEU1', '20AEU1', '20AEU1'] (14, 20)\n",
      "20269799 ['20AEU1', '20AEU1', '20AEU1'] (13, 20)\n",
      "20277207 ['20AEU1', '20AEU1', '20AEU1'] (8, 20)\n",
      "20298016 ['20AEU1', '20AEU1', '20AEU1'] (15, 20)\n",
      "20322506 ['20AEU1', '20AEU1', '20AEU1'] (15, 20)\n",
      "20365524 ['20AEU1', '20AEU1', '20AEU1'] (13, 20)\n",
      "20384144 ['20AEU1', '20AEU1', '20AEU1'] (17, 20)\n",
      "20390486 ['20AEU1', '20AEU1', '20AEU1'] (15, 20)\n",
      "20392511 ['20AEU1', '20AEU1', '20AEU1'] (16, 20)\n",
      "20392863 ['20AEU1', '20AEU1', '20AEU1'] (16, 20)\n",
      "20393904 ['20AEU1', '20AEU1', '20AEU1'] (15, 20)\n",
      "20395152 ['20AEU1', '20AEU1', '20AEU1'] (15, 20)\n",
      "20395225 ['20AEU1', '20AEU1', '20AEU1'] (15, 20)\n",
      "20395433 ['20AEU1', '20AEU1', '20AEU1'] (15, 20)\n",
      "20397925 ['20AEU1', '20AEU1', '20AEU1'] (19, 20)\n",
      "20398287 ['20AEU1', '20AEU1', '20AEU1'] (19, 20)\n",
      "20398331 ['20AEU1', '20AEU1', '20AEU1'] (16, 20)\n",
      "20405545 ['20AEU1', '20AEU1', '20AEU1'] (17, 20)\n",
      "20405549 ['20AEU1', '20AEU1', '20AEU1'] (21, 20)\n",
      "20405574 ['20AEU1', '20AEU1', '20AEU1'] (16, 20)\n",
      "20405593 ['20AEU1', '20AEU1', '20AEU1'] (17, 20)\n",
      "20405596 ['20AEU1', '20AEU1', '20AEU1'] (19, 20)\n",
      "20405612 ['20AEU1', '20AEU1', '20AEU1'] (15, 20)\n",
      "20405823 ['20AEU1', '20AEU1', '20AEU1'] (14, 20)\n",
      "20405825 ['20AEU1', '20AEU1', '20AEU1'] (15, 20)\n",
      "20407207 ['20AEU1', '20AEU1', '20AEU1'] (18, 20)\n",
      "20407208 ['20AEU1', '20AEU1', '20AEU1'] (15, 20)\n",
      "20407213 ['20AEU1', '20AEU1', '20AEU1'] (16, 20)\n",
      "20407219 ['20AEU1', '20AEU1', '20AEU1'] (14, 20)\n",
      "20407263 ['20AEU1', '20AEU1', '20AEU1'] (18, 20)\n",
      "20407295 ['20AEU1', '20AEU1', '20AEU1'] (17, 20)\n",
      "20407309 ['20AEU1', '20AEU1', '20AEU1'] (21, 20)\n",
      "20407312 ['20AEU1', '20AEU1', '20AEU1'] (16, 20)\n",
      "20407336 ['20AEU1', '20AEU1', '20AEU1'] (17, 20)\n",
      "20407339 ['20AEU1', '20AEU1', '20AEU1'] (12, 20)\n",
      "20407357 ['20AEU1', '20AEU1', '20AEU1'] (18, 20)\n",
      "20407463 ['20AEU1', '20AEU1', '20AEU1'] (15, 20)\n",
      "20407464 ['20AEU1', '20AEU1', '20AEU1'] (14, 20)\n",
      "20407502 ['20AEU1', '20AEU1', '20AEU1'] (17, 20)\n",
      "20407508 ['20AEU1', '20AEU1', '20AEU1'] (16, 20)\n",
      "20407582 ['20AEU1', '20AEU1', '20AEU1'] (21, 20)\n",
      "20407583 ['20AEU1', '20AEU1', '20AEU1'] (13, 20)\n",
      "20407594 ['20AEU1', '20AEU1', '20AEU1'] (17, 20)\n",
      "20407595 ['20AEU1', '20AEU1', '20AEU1'] (16, 20)\n",
      "20407689 ['20AEU1', '20AEU1', '20AEU1'] (16, 20)\n",
      "20408107 ['20AEU1', '20AEU1', '20AEU1'] (17, 20)\n",
      "20411178 ['20AEU1', '20AEU1', '20AEU1'] (14, 20)\n",
      "20411372 ['20AEU1', '20AEU1', '20AEU1'] (16, 20)\n",
      "20411374 ['20AEU1', '20AEU1', '20AEU1'] (15, 20)\n",
      "20411376 ['20AEU1', '20AEU1', '20AEU1'] (18, 20)\n",
      "20411386 ['20AEU1', '20AEU1', '20AEU1'] (15, 20)\n",
      "20411390 ['20AEU1', '20AEU1', '20AEU1'] (17, 20)\n",
      "20411404 ['20AEU1', '20AEU1', '20AEU1'] (15, 20)\n",
      "20411415 ['20AEU1', '20AEU1', '20AEU1'] (21, 20)\n",
      "20411427 ['20AEU1', '20AEU1', '20AEU1'] (20, 20)\n",
      "20411432 ['20AEU1', '20AEU1', '20AEU1'] (18, 20)\n",
      "20411437 ['20AEU1', '20AEU1', '20AEU1'] (15, 20)\n",
      "20411484 ['20AEU1', '20AEU1', '20AEU1'] (17, 20)\n",
      "20411515 ['20AEU1', '20AEU1', '20AEU1'] (16, 20)\n",
      "20411521 ['20AEU1', '20AEU1', '20AEU1'] (16, 20)\n",
      "20411524 ['20AEU1', '20AEU1', '20AEU1'] (17, 20)\n",
      "20411525 ['20AEU1', '20AEU1', '20AEU1'] (18, 20)\n",
      "20411526 ['20AEU1', '20AEU1', '20AEU1'] (17, 20)\n",
      "20411892 ['20AEU1', '20AEU1', '20AEU1'] (16, 20)\n",
      "20411917 ['20AEU1', '20AEU1', '20AEU1'] (13, 20)\n",
      "20411919 ['20AEU1', '20AEU1', '20AEU1'] (13, 20)\n",
      "20411920 ['20AEU1', '20AEU1', '20AEU1'] (15, 20)\n",
      "20411929 ['20AEU1', '20AEU1', '20AEU1'] (17, 20)\n",
      "20411939 ['20AEU1', '20AEU1', '20AEU1'] (16, 20)\n",
      "20411943 ['20AEU1', '20AEU1', '20AEU1'] (18, 20)\n",
      "20412072 ['20AEU1', '20AEU1', '20AEU1'] (15, 20)\n",
      "20412073 ['20AEU1', '20AEU1', '20AEU1'] (20, 20)\n",
      "20412078 ['20AEU1', '20AEU1', '20AEU1'] (17, 20)\n",
      "20412081 ['20AEU1', '20AEU1', '20AEU1'] (14, 20)\n",
      "20412116 ['20AEU1', '20AEU1', '20AEU1'] (14, 20)\n",
      "20412126 ['20AEU1', '20AEU1', '20AEU1'] (14, 20)\n",
      "20412187 ['20AEU1', '20AEU1', '20AEU1'] (17, 20)\n",
      "20412195 ['20AEU1', '20AEU1', '20AEU1'] (14, 20)\n",
      "20412198 ['20AEU1', '20AEU1', '20AEU1'] (15, 20)\n",
      "20412199 ['20AEU1', '20AEU1', '20AEU1'] (14, 20)\n",
      "20412203 ['20AEU1', '20AEU1', '20AEU1'] (13, 20)\n",
      "20412241 ['20AEU1', '20AEU1', '20AEU1'] (17, 20)\n",
      "20407295-bis ['20AEU1', '20AEU1', '20AEU1'] (18, 20)\n",
      "20412219 ['20AEU1', '20AEU1', '20AEU1'] (20, 20)\n",
      "20414005 ['20AEU1', '20AEU1', '20AEU1'] (14, 20)\n",
      "20421313 ['20AEU1', '20AEU1', '20AEU1'] (21, 20)\n",
      "20362638 ['20AEU1', '20AEU1', '20AEU1'] (16, 20)\n",
      "20293183 ['20AEU1', '20AEU1', '20AEU1'] (12, 20)\n",
      "20423108 ['20AEU1', '20AEU1', '20AEU1'] (20, 20)\n",
      "20340304 ['20AEU1', '20AEU1', '20AEU1'] (15, 20)\n",
      "20397563 ['20AEU1', '20AEU1', '20AEU1'] (17, 20)\n",
      "20414680 ['20AEU1', '20AEU1', '20AEU1'] (17, 20)\n",
      "20423445 ['20AEU1', '20AEU1', '20AEU1'] (15, 20)\n",
      "20402620 ['20AEU1', '20AEU1', '20AEU1'] (16, 20)\n",
      "20423148 ['20AEU1', '20AEU1', '20AEU1'] (19, 20)\n",
      "20402290 ['20AEU1', '20AEU1', '20AEU1'] (16, 20)\n",
      "20414490 ['20AEU1', '20AEU1', '20AEU1'] (25, 20)\n",
      "20418397 ['20AEU1', '20AEU1', '20AEU1'] (14, 20)\n",
      "20387503 ['20AEU1', '20AEU1', '20AEU1'] (16, 20)\n",
      "20346858 ['20AEU1', '20AEU1', '20AEU1'] (13, 20)\n",
      "20407480 ['20AEU1', '20AEU1', '20AEU1'] (14, 20)\n",
      "20411122 ['20AEU1', '20AEU1', '20AEU1'] (14, 20)\n",
      "20423096 ['20AEU1', '20AEU1', '20AEU1'] (17, 20)\n",
      "20414498 ['20AEU1', '20AEU1', '20AEU1'] (20, 20)\n",
      "20261092 ['20AEU1', '20AEU1', '20AEU1'] (14, 20)\n",
      "20407155 ['20AEU1', '20AEU1', '20AEU1'] (16, 20)\n",
      "20263347 ['20AEU1', '20AEU1', '20AEU1'] (18, 20)\n",
      "20334877 ['20AEU1', '20AEU1', '20AEU1'] (17, 20)\n",
      "20273484 ['20AEU1', '20AEU1', '20AEU1'] (14, 20)\n",
      "20218845 ['20AEU1', '20AEU1', '20AEU1'] (15, 20)\n",
      "20261627 ['20AEU1', '20AEU1', '20AEU1'] (14, 20)\n",
      "20261184 ['20AEU1', '20AEU1', '20AEU1'] (14, 20)\n",
      "20402280 ['20AEU1', '20AEU1', '20AEU1'] (19, 20)\n",
      "20298756 ['20AEU1', '20AEU1', '20AEU1'] (15, 20)\n",
      "20323281 ['20AEU1', '20AEU1', '20AEU1'] (16, 20)\n",
      "20197870 ['20AEU1', '20AEU1', '20AEU1'] (10, 20)\n",
      "20261728 ['20AEU1', '20AEU1', '20AEU1'] (12, 20)\n",
      "20255091 ['20AEU1', '20AEU1', '20AEU1'] (14, 20)\n",
      "20289864 ['20AEU1', '20AEU1', '20AEU1'] (14, 20)\n",
      "20218833 ['20AEU1', '20AEU1', '20AEU1'] (10, 20)\n",
      "20263750 ['20AEU1', '20AEU1', '20AEU1'] (10, 20)\n",
      "20207080 ['20AEU1', '20AEU1', '20AEU1'] (10, 20)\n",
      "20261654 ['20AEU1', '20AEU1', '20AEU1'] (13, 20)\n",
      "20298004 ['20AEU1', '20AEU1', '20AEU1'] (15, 20)\n",
      "20298003 ['20AEU1', '20AEU1', '20AEU1'] (12, 20)\n",
      "20423449 ['20AEU1', '20AEU1', '20AEU1'] (14, 20)\n",
      "20421279 ['20AEU1', '20AEU1', '20AEU1'] (17, 20)\n",
      "20421287 ['20AEU1', '20AEU1', '20AEU1'] (26, 20)\n",
      "20421290 ['20AEU1', '20AEU1', '20AEU1'] (19, 20)\n",
      "20421305 ['20AEU1', '20AEU1', '20AEU1'] (14, 20)\n",
      "20421333 ['20AEU1', '20AEU1', '20AEU1'] (18, 20)\n",
      "20421509 ['20AEU1', '20AEU1', '20AEU1'] (20, 20)\n",
      "20421511 ['20AEU1', '20AEU1', '20AEU1'] (20, 20)\n",
      "20421998 ['20AEU1', '20AEU1', '20AEU1'] (15, 20)\n",
      "20423002 ['20AEU1', '20AEU1', '20AEU1'] (15, 20)\n",
      "20423015 ['20AEU1', '20AEU1', '20AEU1'] (15, 20)\n",
      "20423027 ['20AEU1', '20AEU1', '20AEU1'] (15, 20)\n",
      "20423033 ['20AEU1', '20AEU1', '20AEU1'] (14, 20)\n",
      "20423037 ['20AEU1', '20AEU1', '20AEU1'] (14, 20)\n",
      "20423059 ['20AEU1', '20AEU1', '20AEU1'] (17, 20)\n",
      "20423264 ['20AEU1', '20AEU1', '20AEU1'] (19, 20)\n",
      "20414510 ['20AEU1', '20AEU1', '20AEU1'] (25, 20)\n",
      "20414512 ['20AEU1', '20AEU1', '20AEU1'] (19, 20)\n",
      "20415574 ['20AEU1', '20AEU1', '20AEU1'] (14, 20)\n",
      "20415601 ['20AEU1', '20AEU1', '20AEU1'] (17, 20)\n",
      "20415606 ['20AEU1', '20AEU1', '20AEU1'] (14, 20)\n",
      "20415631 ['20AEU1', '20AEU1', '20AEU1'] (20, 20)\n",
      "20415651 ['20AEU1', '20AEU1', '20AEU1'] (19, 20)\n",
      "20415652 ['20AEU1', '20AEU1', '20AEU1'] (17, 20)\n",
      "20415660 ['20AEU1', '20AEU1', '20AEU1'] (15, 20)\n",
      "20415662 ['20AEU1', '20AEU1', '20AEU1'] (15, 20)\n",
      "20415665 ['20AEU1', '20AEU1', '20AEU1'] (17, 20)\n",
      "20414110 ['20AEU1', '20AEU1', '20AEU1'] (17, 20)\n",
      "20414120 ['20AEU1', '20AEU1', '20AEU1'] (19, 20)\n",
      "20414166 ['20AEU1', '20AEU1', '20AEU1'] (14, 20)\n",
      "20414170 ['20AEU1', '20AEU1', '20AEU1'] (16, 20)\n",
      "20414347 ['20AEU1', '20AEU1', '20AEU1'] (14, 20)\n",
      "20414426 ['20AEU1', '20AEU1', '20AEU1'] (20, 20)\n",
      "20414513 ['20AEU1', '20AEU1', '20AEU1'] (16, 20)\n",
      "20414580 ['20AEU1', '20AEU1', '20AEU1'] (14, 20)\n",
      "20414578 ['20AEU1', '20AEU1', '20AEU1'] (25, 20)\n",
      "20414577 ['20AEU1', '20AEU1', '20AEU1'] (25, 20)\n",
      "20414473 ['20AEU1', '20AEU1', '20AEU1'] (15, 20)\n",
      "20431028 ['20AEU1', '20AEU1', '20AEU1'] (18, 20)\n",
      "20267855 ['20AEU1', '20AEU1', '20AEU1'] (12, 20)\n",
      "20179107M ['20AEU1', '20AEU1', '20AEU1'] (7, 20)\n",
      "20174144 ['20AEU1', '20AEU1', '20AEU1'] (9, 20)\n",
      "20104985 ['20AEU1', '20AEU1', '20AEU1'] (3, 20)\n",
      "20095471-5 ['20AEU1', '20AEU1', '20AEU1'] (6, 20)\n",
      "20273207 ['20AEU1', '20AEU1', '20AEU1'] (12, 20)\n",
      "20115914 ['20AEU1', '20AEU1', '20AEU1'] (10, 20)\n",
      "20099777ciclos5 ['20AEU1', '20AEU1', '20AEU1'] (8, 20)\n",
      "20296883ciclos8 ['20AEU1', '20AEU1', '20AEU1'] (21, 20)\n",
      "20173219-5 ['20AEU1', '20AEU1', '20AEU1'] (7, 20)\n",
      "20205319 ['20AEU1', '20AEU1', '20AEU1'] (3, 20)\n",
      "20095471-8 ['20AEU1', '20AEU1', '20AEU1'] (6, 20)\n",
      "20079967 ['20AEU1', '20AEU1', '20AEU1'] (4, 20)\n",
      "20155670-8 ['20AEU1', '20AEU1', '20AEU1'] (9, 20)\n",
      "20279372ciclos5 ['20AEU1', '20AEU1', '20AEU1'] (12, 20)\n",
      "20104985-8 ['20AEU1', '20AEU1', '20AEU1'] (3, 20)\n",
      "20187355-8 ['20AEU1', '20AEU1', '20AEU1'] (3, 20)\n",
      "20089688-5 ['20AEU1', '20AEU1', '20AEU1'] (9, 20)\n",
      "20372741 ['20AEU1', '20AEU1', '20AEU1'] (14, 20)\n",
      "20089688 ['20AEU1', '20AEU1', '20AEU1'] (9, 20)\n",
      "20274031 ['20AEU1', '20AEU1', '20AEU1'] (12, 20)\n",
      "20284978ciclos5 ['20AEU1', '20AEU1', '20AEU1'] (16, 20)\n",
      "20282254ciclos5 ['20AEU1', '20AEU1', '20AEU1'] (14, 20)\n",
      "20101928 ['20AEU1', '20AEU1', '20AEU1'] (6, 20)\n",
      "20105354ciclos5 ['20AEU1', '20AEU1', '20AEU1'] (8, 20)\n",
      "20113106 ['20AEU1', '20AEU1', '20AEU1'] (4, 20)\n",
      "20267854 ['20AEU1', '20AEU1', '20AEU1'] (12, 20)\n",
      "20109090 ['20AEU1', '20AEU1', '20AEU1'] (9, 20)\n",
      "20284978ciclos5bis ['20AEU1', '20AEU1', '20AEU1'] (16, 20)\n",
      "20089968M ['20AEU1', '20AEU1', '20AEU1'] (9, 20)\n",
      "20273218ciclos5 ['20AEU1', '20AEU1', '20AEU1'] (12, 20)\n",
      "20164346-8 ['20AEU1', '20AEU1', '20AEU1'] (5, 20)\n",
      "20423445bis ['20AEU1', '20AEU1', '20AEU1'] (15, 20)\n",
      "20097074Micro ['20AEU1', '20AEU1', '20AEU1'] (5, 20)\n",
      "20199090 ['20AEU1', '20AEU1', '20AEU1'] (3, 20)\n",
      "20571180 ['20AEU1', '20AEU1', '20AEU1'] (16, 20)\n",
      "20263350 ['20AEU1', '20AEU1', '20AEU1'] (15, 20)\n",
      "20265655 ['20AEU1', '20AEU1', '20AEU1'] (14, 20)\n",
      "20279371ciclos5 ['20AEU1', '20AEU1', '20AEU1'] (12, 20)\n",
      "203533219 ['20AEU1', '20AEU1', '20AEU1'] (13, 20)\n",
      "20089688-8 ['20AEU1', '20AEU1', '20AEU1'] (8, 20)\n",
      "20289862 ['20AEU1', '20AEU1', '20AEU1'] (15, 20)\n",
      "20423445-1 ['20AEU1', '20AEU1', '20AEU1'] (15, 20)\n",
      "20085959 ['20AEU1', '20AEU1', '20AEU1'] (9, 20)\n",
      "20173219-8 ['20AEU1', '20AEU1', '20AEU1'] (7, 20)\n",
      "20288021 ['20AEU1', '20AEU1', '20AEU1'] (19, 20)\n",
      "20267853 ['20AEU1', '20AEU1', '20AEU1'] (12, 20)\n",
      "20367276 ['20AEU1', '20AEU1', '20AEU1'] (0, 20)\n",
      "20273703 ['20AEU1', '20AEU1', '20AEU1'] (2, 20)\n",
      "20279814 ['20AEU1', '20AEU1', '20AEU1'] (4, 20)\n",
      "20289483 ['20AEU1', '20AEU1', '20AEU1'] (14, 20)\n",
      "20389861 ['20AEU1', '20AEU1', '20AEU1'] (1, 20)\n",
      "20247923 ['20AEU1', '20AEU1', '20AEU1'] (12, 20)\n",
      "20395396 ['20AEU1', '20AEU1', '20AEU1'] (1, 20)\n",
      "20389969 ['20AEU1', '20AEU1', '20AEU1'] (6, 20)\n",
      "20092763 ['20AEU1', '20AEU1', '20AEU1'] (0, 20)\n",
      "20267453 ['20AEU1', '20AEU1', '20AEU1'] (0, 20)\n",
      "20415500 ['20AEU1', '20AEU1', '20AEU1'] (9, 20)\n",
      "20414667 ['20AEU1', '20AEU1', '20AEU1'] (6, 20)\n",
      "20414667bis ['20AEU1', '20AEU1', '20AEU1'] (9, 20)\n",
      "20282399 ['20AEU1', '20AEU1', '20AEU1'] (0, 20)\n",
      "20348931 ['20AEU1', '20AEU1', '20AEU1'] (0, 20)\n"
     ]
    }
   ],
   "source": [
    "final_df['EU1EU2__autocolor'] = final_df.apply(lambda x: extract_EU(x['id']), axis=1)"
   ]
  },
  {
   "cell_type": "code",
   "execution_count": 448,
   "metadata": {},
   "outputs": [],
   "source": [
    "def extract_faulty(sample):\n",
    "    sample_report = os.path.join(compare_folder, \"report_samples.tsv\")\n",
    "    df = pd.read_csv(sample_report, sep=\"\\t\")\n",
    "    df['sample'] = df['sample'].astype(str)\n",
    "    if str(sample) in df['sample'].values:\n",
    "        return round(df[df['sample'] == str(sample)]['faulty_frac'].values[0], 2)\n",
    "    else:\n",
    "        return None"
   ]
  },
  {
   "cell_type": "code",
   "execution_count": 449,
   "metadata": {},
   "outputs": [],
   "source": [
    "final_df['FaultyFraction__autocolor'] = final_df.apply(lambda x: extract_faulty(x['id']), axis=1)"
   ]
  },
  {
   "cell_type": "code",
   "execution_count": 343,
   "metadata": {},
   "outputs": [],
   "source": [
    "#query_dario = [20242010,20242093,20242702,20247604,20247878,20250481,20250983,20253374,20253475,20253522,20253595,20255027,20255086,20255313,20255524,20255685,20255915,20255928,20258070,20258214,20258238,20258322,20258440,20261662,20263252,20265521,20267856,20269026,20269341,20269791,20272101,20272242,20273792,20274440,20277245,20277326,20279174,20279180,20279189,20279243,20279283,20286667,20286864,20286872,20288207,20289563,20303453]\n",
    "#query_dario = [str(x) for x in query_dario]\n"
   ]
  },
  {
   "cell_type": "code",
   "execution_count": 344,
   "metadata": {},
   "outputs": [],
   "source": [
    "#final_df['Dario__autocolor'] = final_df.apply(lambda x: x['id'] in query_dario, axis=1)\n"
   ]
  },
  {
   "cell_type": "code",
   "execution_count": 345,
   "metadata": {},
   "outputs": [],
   "source": [
    "before_june = final_df[final_df.month < 6]['id'].tolist()\n",
    "before_june = [str(x) for x in before_june]\n",
    "final_df['before_june_2020__autocolor'] = final_df.apply(lambda x: x['id'] in before_june, axis=1)"
   ]
  },
  {
   "cell_type": "code",
   "execution_count": 450,
   "metadata": {},
   "outputs": [],
   "source": [
    "final_df = final_df.drop_duplicates(subset=['id'], keep=\"first\")\n",
    "out_file = os.path.join(compare_folder, 'wgs_microreact.csv')\n",
    "final_df.to_csv(out_file, index=False)"
   ]
  },
  {
   "cell_type": "code",
   "execution_count": 451,
   "metadata": {},
   "outputs": [
    {
     "output_type": "execute_result",
     "data": {
      "text/plain": [
       "         id   full_date  patient__autocolor province__autocolor  \\\n",
       "0  20060161  09/03/2020  174.0               Madrid               \n",
       "1  20060178  09/03/2020  175.0               Madrid               \n",
       "2  20062236  10/03/2020  176.0               Madrid               \n",
       "3  20062563  10/03/2020  177.0               Madrid               \n",
       "4  20063795  12/03/2020  178.0               Madrid               \n",
       "\n",
       "  SEX__autocolor AGE__autocolor  day  month  year DEPARTMENT__autocolor  \\\n",
       "0  H              84             9    3      2020  NaN                    \n",
       "1  H              76             9    3      2020  NaN                    \n",
       "2  M              96             10   3      2020  NaN                    \n",
       "3  H              78             10   3      2020  NaN                    \n",
       "4  H              85             12   3      2020  NaN                    \n",
       "\n",
       "  Lineage__autocolor  before_june_2020__autocolor EU1EU2__autocolor  \\\n",
       "0  A                  True                         20AEU1-3           \n",
       "1  A                  True                         20AEU1-3           \n",
       "2  B.2                True                         20AEU1-3           \n",
       "3  B.1.5              True                         20AEU1-3           \n",
       "4  A.5                True                         20AEU1-3           \n",
       "\n",
       "   FaultyFraction__autocolor  \n",
       "0  0.0                        \n",
       "1  0.0                        \n",
       "2  0.0                        \n",
       "3  0.0                        \n",
       "4  0.0                        "
      ],
      "text/html": "<div>\n<style scoped>\n    .dataframe tbody tr th:only-of-type {\n        vertical-align: middle;\n    }\n\n    .dataframe tbody tr th {\n        vertical-align: top;\n    }\n\n    .dataframe thead th {\n        text-align: right;\n    }\n</style>\n<table border=\"1\" class=\"dataframe\">\n  <thead>\n    <tr style=\"text-align: right;\">\n      <th></th>\n      <th>id</th>\n      <th>full_date</th>\n      <th>patient__autocolor</th>\n      <th>province__autocolor</th>\n      <th>SEX__autocolor</th>\n      <th>AGE__autocolor</th>\n      <th>day</th>\n      <th>month</th>\n      <th>year</th>\n      <th>DEPARTMENT__autocolor</th>\n      <th>Lineage__autocolor</th>\n      <th>before_june_2020__autocolor</th>\n      <th>EU1EU2__autocolor</th>\n      <th>FaultyFraction__autocolor</th>\n    </tr>\n  </thead>\n  <tbody>\n    <tr>\n      <td>0</td>\n      <td>20060161</td>\n      <td>09/03/2020</td>\n      <td>174.0</td>\n      <td>Madrid</td>\n      <td>H</td>\n      <td>84</td>\n      <td>9</td>\n      <td>3</td>\n      <td>2020</td>\n      <td>NaN</td>\n      <td>A</td>\n      <td>True</td>\n      <td>20AEU1-3</td>\n      <td>0.0</td>\n    </tr>\n    <tr>\n      <td>1</td>\n      <td>20060178</td>\n      <td>09/03/2020</td>\n      <td>175.0</td>\n      <td>Madrid</td>\n      <td>H</td>\n      <td>76</td>\n      <td>9</td>\n      <td>3</td>\n      <td>2020</td>\n      <td>NaN</td>\n      <td>A</td>\n      <td>True</td>\n      <td>20AEU1-3</td>\n      <td>0.0</td>\n    </tr>\n    <tr>\n      <td>2</td>\n      <td>20062236</td>\n      <td>10/03/2020</td>\n      <td>176.0</td>\n      <td>Madrid</td>\n      <td>M</td>\n      <td>96</td>\n      <td>10</td>\n      <td>3</td>\n      <td>2020</td>\n      <td>NaN</td>\n      <td>B.2</td>\n      <td>True</td>\n      <td>20AEU1-3</td>\n      <td>0.0</td>\n    </tr>\n    <tr>\n      <td>3</td>\n      <td>20062563</td>\n      <td>10/03/2020</td>\n      <td>177.0</td>\n      <td>Madrid</td>\n      <td>H</td>\n      <td>78</td>\n      <td>10</td>\n      <td>3</td>\n      <td>2020</td>\n      <td>NaN</td>\n      <td>B.1.5</td>\n      <td>True</td>\n      <td>20AEU1-3</td>\n      <td>0.0</td>\n    </tr>\n    <tr>\n      <td>4</td>\n      <td>20063795</td>\n      <td>12/03/2020</td>\n      <td>178.0</td>\n      <td>Madrid</td>\n      <td>H</td>\n      <td>85</td>\n      <td>12</td>\n      <td>3</td>\n      <td>2020</td>\n      <td>NaN</td>\n      <td>A.5</td>\n      <td>True</td>\n      <td>20AEU1-3</td>\n      <td>0.0</td>\n    </tr>\n  </tbody>\n</table>\n</div>"
     },
     "metadata": {},
     "execution_count": 451
    }
   ],
   "source": [
    "final_df.head()"
   ]
  },
  {
   "cell_type": "code",
   "execution_count": null,
   "metadata": {},
   "outputs": [],
   "source": []
  }
 ]
}