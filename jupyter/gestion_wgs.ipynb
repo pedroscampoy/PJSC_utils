{
 "cells": [
  {
   "cell_type": "code",
   "execution_count": 1,
   "metadata": {},
   "outputs": [],
   "source": [
    "import os\n",
    "import pandas as pd\n",
    "import numpy as np\n",
    "import re\n",
    "\n",
    "pd.set_option('display.max_columns', None)\n",
    "pd.set_option('display.max_rows', None)\n",
    "pd.set_option('display.max_colwidth', -1)"
   ]
  },
  {
   "cell_type": "code",
   "execution_count": 2,
   "metadata": {},
   "outputs": [],
   "source": [
    "compare_folder = \"/home/laura/ANALYSIS/VARIANT_CALLING/COVID/Compare/2021-03-27_COVID\"\n",
    "#compare_folder = \"/home/laura/ANALYSIS/MISC/Reinf_triple/compare\"\n",
    "pairwise_filename = [x for x in os.listdir(compare_folder) if '.snp.pairwise.tsv' in x][0]\n",
    "pairwise_file = os.path.join(compare_folder, pairwise_filename)\n",
    "pwdf = pd.read_csv(pairwise_file, sep=\"\\t\" , names=['sample_1', 'sample_2', 'dist'])"
   ]
  },
  {
   "cell_type": "code",
   "execution_count": 3,
   "metadata": {},
   "outputs": [
    {
     "output_type": "execute_result",
     "data": {
      "text/plain": [
       "   sample_1      sample_2  dist\n",
       "0  20461953  20461953      0   \n",
       "1  20461953  21086712-BIS  13  \n",
       "2  20461953  20490128      10  \n",
       "3  20461953  21119979      36  \n",
       "4  20461953  21038641      10  "
      ],
      "text/html": "<div>\n<style scoped>\n    .dataframe tbody tr th:only-of-type {\n        vertical-align: middle;\n    }\n\n    .dataframe tbody tr th {\n        vertical-align: top;\n    }\n\n    .dataframe thead th {\n        text-align: right;\n    }\n</style>\n<table border=\"1\" class=\"dataframe\">\n  <thead>\n    <tr style=\"text-align: right;\">\n      <th></th>\n      <th>sample_1</th>\n      <th>sample_2</th>\n      <th>dist</th>\n    </tr>\n  </thead>\n  <tbody>\n    <tr>\n      <td>0</td>\n      <td>20461953</td>\n      <td>20461953</td>\n      <td>0</td>\n    </tr>\n    <tr>\n      <td>1</td>\n      <td>20461953</td>\n      <td>21086712-BIS</td>\n      <td>13</td>\n    </tr>\n    <tr>\n      <td>2</td>\n      <td>20461953</td>\n      <td>20490128</td>\n      <td>10</td>\n    </tr>\n    <tr>\n      <td>3</td>\n      <td>20461953</td>\n      <td>21119979</td>\n      <td>36</td>\n    </tr>\n    <tr>\n      <td>4</td>\n      <td>20461953</td>\n      <td>21038641</td>\n      <td>10</td>\n    </tr>\n  </tbody>\n</table>\n</div>"
     },
     "metadata": {},
     "execution_count": 3
    }
   ],
   "source": [
    "pwdf.head()"
   ]
  },
  {
   "cell_type": "code",
   "execution_count": 4,
   "metadata": {},
   "outputs": [],
   "source": [
    "pwdf['sample_1'] = pwdf['sample_1'].astype(str)"
   ]
  },
  {
   "cell_type": "code",
   "execution_count": 5,
   "metadata": {},
   "outputs": [
    {
     "output_type": "stream",
     "name": "stdout",
     "text": [
      "<class 'pandas.core.frame.DataFrame'>\nRangeIndex: 6115729 entries, 0 to 6115728\nData columns (total 3 columns):\nsample_1    object\nsample_2    object\ndist        int64\ndtypes: int64(1), object(2)\nmemory usage: 140.0+ MB\n"
     ]
    }
   ],
   "source": [
    "pwdf.info()"
   ]
  },
  {
   "cell_type": "code",
   "execution_count": 6,
   "metadata": {},
   "outputs": [],
   "source": [
    "samples = list(set(pwdf.sample_1.tolist()))"
   ]
  },
  {
   "cell_type": "code",
   "execution_count": 7,
   "metadata": {},
   "outputs": [
    {
     "output_type": "execute_result",
     "data": {
      "text/plain": [
       "2473"
      ]
     },
     "metadata": {},
     "execution_count": 7
    }
   ],
   "source": [
    "len(samples)"
   ]
  },
  {
   "cell_type": "code",
   "execution_count": 8,
   "metadata": {},
   "outputs": [
    {
     "output_type": "execute_result",
     "data": {
      "text/plain": [
       "{str: 2473}"
      ]
     },
     "metadata": {},
     "execution_count": 8
    }
   ],
   "source": [
    "samples_type = [type(x) for x in samples]\n",
    "dict((x,samples_type.count(x)) for x in set(samples_type))"
   ]
  },
  {
   "cell_type": "code",
   "execution_count": 9,
   "metadata": {},
   "outputs": [],
   "source": [
    "wgs = pd.read_csv('/media/NASII/Datos/ANALYSIS/WGS_sequenced/WGS_sequenced.csv')\n",
    "#wgs = pd.read_csv('/home/laura/ANALYSIS/MISC/microreact/WGS_sequenced.csv')\n",
    "wgs = wgs.rename(columns={'Muestra': 'id', 'Fecha': 'full_date', 'SEXO' : 'SEX__autocolor', 'EDAD': 'AGE__autocolor', 'Día':'day', 'Mes' : 'month', 'Año':'year', 'RUN':'RUN__autocolor'})"
   ]
  },
  {
   "cell_type": "code",
   "execution_count": 10,
   "metadata": {},
   "outputs": [
    {
     "output_type": "execute_result",
     "data": {
      "text/plain": [
       "  Apellidos     Nombre       NHC CIPA  AGE__autocolor SEX__autocolor  \\\n",
       "0  ¡         FRANCISCO  2198204   NaN  71.122375       M               \n",
       "1  AAROUD    AHMIDOU    11031999  NaN  77.000000       M               \n",
       "\n",
       "                                  CENTRO SANITARIO        id Sufijo  COV>30X  \\\n",
       "0  HOSPITAL GENERAL UNIVERSITARIO GREGORIO MARAÑÓN  20423238  NaN    3.63      \n",
       "1  HOSPITAL GENERAL UNIVERSITARIO GREGORIO MARAÑÓN  20097501  NaN    39.43     \n",
       "\n",
       "  RUN__autocolor DEPARTMENT__autocolor  patient_microreact   full_date   day  \\\n",
       "0  RUN_10         NaN                  NaN                  28/10/2020  28.0   \n",
       "1  RUN_12         NaN                  NaN                  08/04/2020  8.0    \n",
       "\n",
       "   month    year    Extracción Muestra  GenN2_Ct CT1_PCR1 Antígeno COVID  \n",
       "0  10.0   2020.0  EX. NASAL - FARÍNGEO  17.0      NaN      NaN            \n",
       "1  4.0    2020.0  NaN                  NaN        NaN      NaN            "
      ],
      "text/html": "<div>\n<style scoped>\n    .dataframe tbody tr th:only-of-type {\n        vertical-align: middle;\n    }\n\n    .dataframe tbody tr th {\n        vertical-align: top;\n    }\n\n    .dataframe thead th {\n        text-align: right;\n    }\n</style>\n<table border=\"1\" class=\"dataframe\">\n  <thead>\n    <tr style=\"text-align: right;\">\n      <th></th>\n      <th>Apellidos</th>\n      <th>Nombre</th>\n      <th>NHC</th>\n      <th>CIPA</th>\n      <th>AGE__autocolor</th>\n      <th>SEX__autocolor</th>\n      <th>CENTRO SANITARIO</th>\n      <th>id</th>\n      <th>Sufijo</th>\n      <th>COV&gt;30X</th>\n      <th>RUN__autocolor</th>\n      <th>DEPARTMENT__autocolor</th>\n      <th>patient_microreact</th>\n      <th>full_date</th>\n      <th>day</th>\n      <th>month</th>\n      <th>year</th>\n      <th>Extracción Muestra</th>\n      <th>GenN2_Ct</th>\n      <th>CT1_PCR1</th>\n      <th>Antígeno COVID</th>\n    </tr>\n  </thead>\n  <tbody>\n    <tr>\n      <td>0</td>\n      <td>¡</td>\n      <td>FRANCISCO</td>\n      <td>2198204</td>\n      <td>NaN</td>\n      <td>71.122375</td>\n      <td>M</td>\n      <td>HOSPITAL GENERAL UNIVERSITARIO GREGORIO MARAÑÓN</td>\n      <td>20423238</td>\n      <td>NaN</td>\n      <td>3.63</td>\n      <td>RUN_10</td>\n      <td>NaN</td>\n      <td>NaN</td>\n      <td>28/10/2020</td>\n      <td>28.0</td>\n      <td>10.0</td>\n      <td>2020.0</td>\n      <td>EX. NASAL - FARÍNGEO</td>\n      <td>17.0</td>\n      <td>NaN</td>\n      <td>NaN</td>\n    </tr>\n    <tr>\n      <td>1</td>\n      <td>AAROUD</td>\n      <td>AHMIDOU</td>\n      <td>11031999</td>\n      <td>NaN</td>\n      <td>77.000000</td>\n      <td>M</td>\n      <td>HOSPITAL GENERAL UNIVERSITARIO GREGORIO MARAÑÓN</td>\n      <td>20097501</td>\n      <td>NaN</td>\n      <td>39.43</td>\n      <td>RUN_12</td>\n      <td>NaN</td>\n      <td>NaN</td>\n      <td>08/04/2020</td>\n      <td>8.0</td>\n      <td>4.0</td>\n      <td>2020.0</td>\n      <td>NaN</td>\n      <td>NaN</td>\n      <td>NaN</td>\n      <td>NaN</td>\n    </tr>\n  </tbody>\n</table>\n</div>"
     },
     "metadata": {},
     "execution_count": 10
    }
   ],
   "source": [
    "wgs.head(2)"
   ]
  },
  {
   "cell_type": "code",
   "execution_count": 11,
   "metadata": {},
   "outputs": [
    {
     "output_type": "execute_result",
     "data": {
      "text/plain": [
       "Index(['Apellidos', 'Nombre', 'NHC', 'CIPA', 'AGE__autocolor',\n",
       "       'SEX__autocolor', 'CENTRO SANITARIO', 'id', 'Sufijo', 'COV>30X',\n",
       "       'RUN__autocolor', 'DEPARTMENT__autocolor', 'patient_microreact',\n",
       "       'full_date', 'day', 'month', 'year', 'Extracción Muestra', 'GenN2_Ct',\n",
       "       'CT1_PCR1', 'Antígeno COVID'],\n",
       "      dtype='object')"
      ]
     },
     "metadata": {},
     "execution_count": 11
    }
   ],
   "source": [
    "wgs.columns"
   ]
  },
  {
   "cell_type": "code",
   "execution_count": 12,
   "metadata": {},
   "outputs": [],
   "source": [
    "wgs = wgs[['id', 'full_date', 'SEX__autocolor', 'AGE__autocolor', 'day', 'month', 'year', 'RUN__autocolor']]"
   ]
  },
  {
   "cell_type": "code",
   "execution_count": 13,
   "metadata": {},
   "outputs": [
    {
     "output_type": "execute_result",
     "data": {
      "text/plain": [
       "         id   full_date SEX__autocolor  AGE__autocolor   day  month    year  \\\n",
       "0  20423238  28/10/2020  M              71.122375       28.0  10.0   2020.0   \n",
       "1  20097501  08/04/2020  M              77.000000       8.0   4.0    2020.0   \n",
       "2  20395396  9/10/2020   M              80.210930       9.0   10.0   2020.0   \n",
       "3  20091284  2/4/2020    M             NaN              2.0   4.0    2020.0   \n",
       "4  20519706  30/12/2020  NaN            40.042522       30.0  12.0   2020.0   \n",
       "\n",
       "  RUN__autocolor  \n",
       "0  RUN_10         \n",
       "1  RUN_12         \n",
       "2  RUN_9          \n",
       "3  RUN_1          \n",
       "4  MICRO_17       "
      ],
      "text/html": "<div>\n<style scoped>\n    .dataframe tbody tr th:only-of-type {\n        vertical-align: middle;\n    }\n\n    .dataframe tbody tr th {\n        vertical-align: top;\n    }\n\n    .dataframe thead th {\n        text-align: right;\n    }\n</style>\n<table border=\"1\" class=\"dataframe\">\n  <thead>\n    <tr style=\"text-align: right;\">\n      <th></th>\n      <th>id</th>\n      <th>full_date</th>\n      <th>SEX__autocolor</th>\n      <th>AGE__autocolor</th>\n      <th>day</th>\n      <th>month</th>\n      <th>year</th>\n      <th>RUN__autocolor</th>\n    </tr>\n  </thead>\n  <tbody>\n    <tr>\n      <td>0</td>\n      <td>20423238</td>\n      <td>28/10/2020</td>\n      <td>M</td>\n      <td>71.122375</td>\n      <td>28.0</td>\n      <td>10.0</td>\n      <td>2020.0</td>\n      <td>RUN_10</td>\n    </tr>\n    <tr>\n      <td>1</td>\n      <td>20097501</td>\n      <td>08/04/2020</td>\n      <td>M</td>\n      <td>77.000000</td>\n      <td>8.0</td>\n      <td>4.0</td>\n      <td>2020.0</td>\n      <td>RUN_12</td>\n    </tr>\n    <tr>\n      <td>2</td>\n      <td>20395396</td>\n      <td>9/10/2020</td>\n      <td>M</td>\n      <td>80.210930</td>\n      <td>9.0</td>\n      <td>10.0</td>\n      <td>2020.0</td>\n      <td>RUN_9</td>\n    </tr>\n    <tr>\n      <td>3</td>\n      <td>20091284</td>\n      <td>2/4/2020</td>\n      <td>M</td>\n      <td>NaN</td>\n      <td>2.0</td>\n      <td>4.0</td>\n      <td>2020.0</td>\n      <td>RUN_1</td>\n    </tr>\n    <tr>\n      <td>4</td>\n      <td>20519706</td>\n      <td>30/12/2020</td>\n      <td>NaN</td>\n      <td>40.042522</td>\n      <td>30.0</td>\n      <td>12.0</td>\n      <td>2020.0</td>\n      <td>MICRO_17</td>\n    </tr>\n  </tbody>\n</table>\n</div>"
     },
     "metadata": {},
     "execution_count": 13
    }
   ],
   "source": [
    "wgs.head()"
   ]
  },
  {
   "cell_type": "code",
   "execution_count": 14,
   "metadata": {},
   "outputs": [
    {
     "output_type": "execute_result",
     "data": {
      "text/plain": [
       "(2729, 8)"
      ]
     },
     "metadata": {},
     "execution_count": 14
    }
   ],
   "source": [
    "wgs.shape"
   ]
  },
  {
   "cell_type": "code",
   "execution_count": 15,
   "metadata": {},
   "outputs": [],
   "source": [
    "wgs['id'] = wgs['id'].astype(str)"
   ]
  },
  {
   "cell_type": "code",
   "execution_count": 16,
   "metadata": {},
   "outputs": [],
   "source": [
    "samples_wgs = wgs.id.tolist()\n",
    "#samples_wgs = [str(x) for x in samples_wgs]"
   ]
  },
  {
   "cell_type": "code",
   "execution_count": 17,
   "metadata": {},
   "outputs": [],
   "source": [
    "WGS = set(samples_wgs)\n",
    "PW = set(samples)"
   ]
  },
  {
   "cell_type": "code",
   "execution_count": 18,
   "metadata": {},
   "outputs": [
    {
     "output_type": "execute_result",
     "data": {
      "text/plain": [
       "2473"
      ]
     },
     "metadata": {},
     "execution_count": 18
    }
   ],
   "source": [
    "len(PW)"
   ]
  },
  {
   "cell_type": "code",
   "execution_count": 19,
   "metadata": {},
   "outputs": [
    {
     "output_type": "execute_result",
     "data": {
      "text/plain": [
       "185"
      ]
     },
     "metadata": {},
     "execution_count": 19
    }
   ],
   "source": [
    "missing_wgs = list(PW - WGS)\n",
    "len(missing_wgs)"
   ]
  },
  {
   "cell_type": "code",
   "execution_count": 20,
   "metadata": {},
   "outputs": [
    {
     "output_type": "execute_result",
     "data": {
      "text/plain": [
       "{str: 185}"
      ]
     },
     "metadata": {},
     "execution_count": 20
    }
   ],
   "source": [
    "missing_wgs_type = [type(x) for x in missing_wgs]\n",
    "dict((x,missing_wgs_type.count(x)) for x in set(missing_wgs_type))"
   ]
  },
  {
   "cell_type": "code",
   "execution_count": 21,
   "metadata": {},
   "outputs": [
    {
     "output_type": "execute_result",
     "data": {
      "text/plain": [
       "238"
      ]
     },
     "metadata": {},
     "execution_count": 21
    }
   ],
   "source": [
    "missing_pw = list(WGS - PW)\n",
    "len(missing_pw)"
   ]
  },
  {
   "cell_type": "code",
   "execution_count": 22,
   "metadata": {},
   "outputs": [
    {
     "output_type": "execute_result",
     "data": {
      "text/plain": [
       "423"
      ]
     },
     "metadata": {},
     "execution_count": 22
    }
   ],
   "source": [
    "all_missing = missing_pw + missing_wgs\n",
    "len(all_missing)"
   ]
  },
  {
   "cell_type": "code",
   "execution_count": 23,
   "metadata": {},
   "outputs": [
    {
     "output_type": "execute_result",
     "data": {
      "text/plain": [
       "(2729, 8)"
      ]
     },
     "metadata": {},
     "execution_count": 23
    }
   ],
   "source": [
    "wgs.shape"
   ]
  },
  {
   "cell_type": "code",
   "execution_count": 24,
   "metadata": {},
   "outputs": [],
   "source": [
    "df = wgs[~wgs.id.isin(missing_pw)]"
   ]
  },
  {
   "cell_type": "code",
   "execution_count": 25,
   "metadata": {},
   "outputs": [
    {
     "output_type": "execute_result",
     "data": {
      "text/plain": [
       "(2453, 8)"
      ]
     },
     "metadata": {},
     "execution_count": 25
    }
   ],
   "source": [
    "df.shape"
   ]
  },
  {
   "cell_type": "code",
   "execution_count": 26,
   "metadata": {},
   "outputs": [],
   "source": [
    "df2 = pd.DataFrame(missing_wgs, columns=['id'])"
   ]
  },
  {
   "cell_type": "code",
   "execution_count": 27,
   "metadata": {},
   "outputs": [],
   "source": [
    "df2['id'] = df2['id'].astype(str)"
   ]
  },
  {
   "cell_type": "code",
   "execution_count": 28,
   "metadata": {},
   "outputs": [
    {
     "output_type": "execute_result",
     "data": {
      "text/plain": [
       "                id\n",
       "0  20466272BIS    \n",
       "1  20466247BIS    \n",
       "2  20458798BIS    \n",
       "3  20099777ciclos5\n",
       "4  21050541-BIS   "
      ],
      "text/html": "<div>\n<style scoped>\n    .dataframe tbody tr th:only-of-type {\n        vertical-align: middle;\n    }\n\n    .dataframe tbody tr th {\n        vertical-align: top;\n    }\n\n    .dataframe thead th {\n        text-align: right;\n    }\n</style>\n<table border=\"1\" class=\"dataframe\">\n  <thead>\n    <tr style=\"text-align: right;\">\n      <th></th>\n      <th>id</th>\n    </tr>\n  </thead>\n  <tbody>\n    <tr>\n      <td>0</td>\n      <td>20466272BIS</td>\n    </tr>\n    <tr>\n      <td>1</td>\n      <td>20466247BIS</td>\n    </tr>\n    <tr>\n      <td>2</td>\n      <td>20458798BIS</td>\n    </tr>\n    <tr>\n      <td>3</td>\n      <td>20099777ciclos5</td>\n    </tr>\n    <tr>\n      <td>4</td>\n      <td>21050541-BIS</td>\n    </tr>\n  </tbody>\n</table>\n</div>"
     },
     "metadata": {},
     "execution_count": 28
    }
   ],
   "source": [
    "df2.head()"
   ]
  },
  {
   "cell_type": "code",
   "execution_count": 29,
   "metadata": {},
   "outputs": [
    {
     "output_type": "execute_result",
     "data": {
      "text/plain": [
       "         id   full_date SEX__autocolor  AGE__autocolor   day  month    year  \\\n",
       "3  20091284  2/4/2020    M             NaN              2.0   4.0    2020.0   \n",
       "5  20289362  25/8/2020   NaN            39.694927       25.0  8.0    2020.0   \n",
       "6  20432945  4/11/2020   F              28.247288       4.0   11.0   2020.0   \n",
       "7  21035911  23/1/2021   F              49.521111       23.0  1.0    2021.0   \n",
       "8  21020388  15/01/2021  M              76.000000       15.0  1.0    2021.0   \n",
       "\n",
       "  RUN__autocolor  \n",
       "3  RUN_1          \n",
       "5  MICRO_17       \n",
       "6  RUN_11         \n",
       "7  RUN_19         \n",
       "8  RUN_17         "
      ],
      "text/html": "<div>\n<style scoped>\n    .dataframe tbody tr th:only-of-type {\n        vertical-align: middle;\n    }\n\n    .dataframe tbody tr th {\n        vertical-align: top;\n    }\n\n    .dataframe thead th {\n        text-align: right;\n    }\n</style>\n<table border=\"1\" class=\"dataframe\">\n  <thead>\n    <tr style=\"text-align: right;\">\n      <th></th>\n      <th>id</th>\n      <th>full_date</th>\n      <th>SEX__autocolor</th>\n      <th>AGE__autocolor</th>\n      <th>day</th>\n      <th>month</th>\n      <th>year</th>\n      <th>RUN__autocolor</th>\n    </tr>\n  </thead>\n  <tbody>\n    <tr>\n      <td>3</td>\n      <td>20091284</td>\n      <td>2/4/2020</td>\n      <td>M</td>\n      <td>NaN</td>\n      <td>2.0</td>\n      <td>4.0</td>\n      <td>2020.0</td>\n      <td>RUN_1</td>\n    </tr>\n    <tr>\n      <td>5</td>\n      <td>20289362</td>\n      <td>25/8/2020</td>\n      <td>NaN</td>\n      <td>39.694927</td>\n      <td>25.0</td>\n      <td>8.0</td>\n      <td>2020.0</td>\n      <td>MICRO_17</td>\n    </tr>\n    <tr>\n      <td>6</td>\n      <td>20432945</td>\n      <td>4/11/2020</td>\n      <td>F</td>\n      <td>28.247288</td>\n      <td>4.0</td>\n      <td>11.0</td>\n      <td>2020.0</td>\n      <td>RUN_11</td>\n    </tr>\n    <tr>\n      <td>7</td>\n      <td>21035911</td>\n      <td>23/1/2021</td>\n      <td>F</td>\n      <td>49.521111</td>\n      <td>23.0</td>\n      <td>1.0</td>\n      <td>2021.0</td>\n      <td>RUN_19</td>\n    </tr>\n    <tr>\n      <td>8</td>\n      <td>21020388</td>\n      <td>15/01/2021</td>\n      <td>M</td>\n      <td>76.000000</td>\n      <td>15.0</td>\n      <td>1.0</td>\n      <td>2021.0</td>\n      <td>RUN_17</td>\n    </tr>\n  </tbody>\n</table>\n</div>"
     },
     "metadata": {},
     "execution_count": 29
    }
   ],
   "source": [
    "df.head()"
   ]
  },
  {
   "cell_type": "code",
   "execution_count": 30,
   "metadata": {},
   "outputs": [
    {
     "output_type": "stream",
     "name": "stderr",
     "text": [
      "/home/laura/anaconda3/lib/python3.7/site-packages/pandas/core/frame.py:7123: FutureWarning: Sorting because non-concatenation axis is not aligned. A future version\nof pandas will change to not sort by default.\n\nTo accept the future behavior, pass 'sort=False'.\n\nTo retain the current behavior and silence the warning, pass 'sort=True'.\n\n  sort=sort,\n"
     ]
    }
   ],
   "source": [
    "final_df = df.append(df2).reset_index(drop=True)\n",
    "final_df = final_df[ ['id', 'full_date', 'SEX__autocolor', 'AGE__autocolor', 'day', 'month', 'year', 'RUN__autocolor'] ]\n"
   ]
  },
  {
   "cell_type": "code",
   "execution_count": 31,
   "metadata": {},
   "outputs": [
    {
     "output_type": "execute_result",
     "data": {
      "text/plain": [
       "         id   full_date SEX__autocolor  AGE__autocolor   day  month    year  \\\n",
       "0  20091284  2/4/2020    M             NaN              2.0   4.0    2020.0   \n",
       "1  20289362  25/8/2020   NaN            39.694927       25.0  8.0    2020.0   \n",
       "2  20432945  4/11/2020   F              28.247288       4.0   11.0   2020.0   \n",
       "3  21035911  23/1/2021   F              49.521111       23.0  1.0    2021.0   \n",
       "4  21020388  15/01/2021  M              76.000000       15.0  1.0    2021.0   \n",
       "\n",
       "  RUN__autocolor  \n",
       "0  RUN_1          \n",
       "1  MICRO_17       \n",
       "2  RUN_11         \n",
       "3  RUN_19         \n",
       "4  RUN_17         "
      ],
      "text/html": "<div>\n<style scoped>\n    .dataframe tbody tr th:only-of-type {\n        vertical-align: middle;\n    }\n\n    .dataframe tbody tr th {\n        vertical-align: top;\n    }\n\n    .dataframe thead th {\n        text-align: right;\n    }\n</style>\n<table border=\"1\" class=\"dataframe\">\n  <thead>\n    <tr style=\"text-align: right;\">\n      <th></th>\n      <th>id</th>\n      <th>full_date</th>\n      <th>SEX__autocolor</th>\n      <th>AGE__autocolor</th>\n      <th>day</th>\n      <th>month</th>\n      <th>year</th>\n      <th>RUN__autocolor</th>\n    </tr>\n  </thead>\n  <tbody>\n    <tr>\n      <td>0</td>\n      <td>20091284</td>\n      <td>2/4/2020</td>\n      <td>M</td>\n      <td>NaN</td>\n      <td>2.0</td>\n      <td>4.0</td>\n      <td>2020.0</td>\n      <td>RUN_1</td>\n    </tr>\n    <tr>\n      <td>1</td>\n      <td>20289362</td>\n      <td>25/8/2020</td>\n      <td>NaN</td>\n      <td>39.694927</td>\n      <td>25.0</td>\n      <td>8.0</td>\n      <td>2020.0</td>\n      <td>MICRO_17</td>\n    </tr>\n    <tr>\n      <td>2</td>\n      <td>20432945</td>\n      <td>4/11/2020</td>\n      <td>F</td>\n      <td>28.247288</td>\n      <td>4.0</td>\n      <td>11.0</td>\n      <td>2020.0</td>\n      <td>RUN_11</td>\n    </tr>\n    <tr>\n      <td>3</td>\n      <td>21035911</td>\n      <td>23/1/2021</td>\n      <td>F</td>\n      <td>49.521111</td>\n      <td>23.0</td>\n      <td>1.0</td>\n      <td>2021.0</td>\n      <td>RUN_19</td>\n    </tr>\n    <tr>\n      <td>4</td>\n      <td>21020388</td>\n      <td>15/01/2021</td>\n      <td>M</td>\n      <td>76.000000</td>\n      <td>15.0</td>\n      <td>1.0</td>\n      <td>2021.0</td>\n      <td>RUN_17</td>\n    </tr>\n  </tbody>\n</table>\n</div>"
     },
     "metadata": {},
     "execution_count": 31
    }
   ],
   "source": [
    "final_df.head()"
   ]
  },
  {
   "cell_type": "code",
   "execution_count": 32,
   "metadata": {},
   "outputs": [],
   "source": [
    "metadata = pd.read_csv('/home/laura/ANALYSIS/MISC/microreact/wgs_covid_metadata_REFORMATED.csv', encoding='latin1')\n",
    "metadata['id'] = metadata['id'].astype(str)"
   ]
  },
  {
   "cell_type": "code",
   "execution_count": 33,
   "metadata": {},
   "outputs": [
    {
     "output_type": "execute_result",
     "data": {
      "text/plain": [
       "                id DEPARTMENT__autocolor LABEL__autocolor\n",
       "1986  21136045      UK (GRAVE â UCI)    DIVERSIDAD     \n",
       "1987  21138389      4300                  NOSOCOMIAL     \n",
       "1988  21052006-BIS  6100                  NOSOCOMIAL     \n",
       "1989  21062367      6100                  NOSOCOMIAL     \n",
       "1990  21111815      4200                  NOSOCOMIAL     "
      ],
      "text/html": "<div>\n<style scoped>\n    .dataframe tbody tr th:only-of-type {\n        vertical-align: middle;\n    }\n\n    .dataframe tbody tr th {\n        vertical-align: top;\n    }\n\n    .dataframe thead th {\n        text-align: right;\n    }\n</style>\n<table border=\"1\" class=\"dataframe\">\n  <thead>\n    <tr style=\"text-align: right;\">\n      <th></th>\n      <th>id</th>\n      <th>DEPARTMENT__autocolor</th>\n      <th>LABEL__autocolor</th>\n    </tr>\n  </thead>\n  <tbody>\n    <tr>\n      <td>1986</td>\n      <td>21136045</td>\n      <td>UK (GRAVE â UCI)</td>\n      <td>DIVERSIDAD</td>\n    </tr>\n    <tr>\n      <td>1987</td>\n      <td>21138389</td>\n      <td>4300</td>\n      <td>NOSOCOMIAL</td>\n    </tr>\n    <tr>\n      <td>1988</td>\n      <td>21052006-BIS</td>\n      <td>6100</td>\n      <td>NOSOCOMIAL</td>\n    </tr>\n    <tr>\n      <td>1989</td>\n      <td>21062367</td>\n      <td>6100</td>\n      <td>NOSOCOMIAL</td>\n    </tr>\n    <tr>\n      <td>1990</td>\n      <td>21111815</td>\n      <td>4200</td>\n      <td>NOSOCOMIAL</td>\n    </tr>\n  </tbody>\n</table>\n</div>"
     },
     "metadata": {},
     "execution_count": 33
    }
   ],
   "source": [
    "metadata.tail()"
   ]
  },
  {
   "cell_type": "code",
   "execution_count": 34,
   "metadata": {},
   "outputs": [],
   "source": [
    "final_df = final_df.fillna(0)\n",
    "final_df.day = final_df.day.astype('Int64')\n",
    "final_df.month = final_df.month.astype('Int64')\n",
    "final_df.year = final_df.year.astype('Int64')\n",
    "final_df.replace(0, np.nan, inplace=True)"
   ]
  },
  {
   "cell_type": "code",
   "execution_count": 35,
   "metadata": {},
   "outputs": [],
   "source": [
    "final_df = final_df.merge(metadata, how='outer')"
   ]
  },
  {
   "cell_type": "code",
   "execution_count": 36,
   "metadata": {},
   "outputs": [
    {
     "output_type": "stream",
     "name": "stdout",
     "text": [
      "<class 'pandas.core.frame.DataFrame'>\nInt64Index: 2807 entries, 0 to 2806\nData columns (total 10 columns):\nid                       2807 non-null object\nfull_date                2458 non-null object\nSEX__autocolor           2261 non-null object\nAGE__autocolor           2379 non-null float64\nday                      2458 non-null Int64\nmonth                    2458 non-null Int64\nyear                     2458 non-null Int64\nRUN__autocolor           2381 non-null object\nDEPARTMENT__autocolor    2152 non-null object\nLABEL__autocolor         2152 non-null object\ndtypes: Int64(3), float64(1), object(6)\nmemory usage: 249.5+ KB\n"
     ]
    }
   ],
   "source": [
    "final_df.info()"
   ]
  },
  {
   "cell_type": "code",
   "execution_count": 37,
   "metadata": {},
   "outputs": [
    {
     "output_type": "execute_result",
     "data": {
      "text/plain": [
       "            id full_date SEX__autocolor  AGE__autocolor  day  month  year  \\\n",
       "2802  21115281  NaN       NaN           NaN              NaN  NaN    NaN    \n",
       "2803  1216689   NaN       NaN           NaN              NaN  NaN    NaN    \n",
       "2804  21131128  NaN       NaN           NaN              NaN  NaN    NaN    \n",
       "2805  21131467  NaN       NaN           NaN              NaN  NaN    NaN    \n",
       "2806  21131476  NaN       NaN           NaN              NaN  NaN    NaN    \n",
       "\n",
       "     RUN__autocolor DEPARTMENT__autocolor LABEL__autocolor  \n",
       "2802  NaN            DIVERSIDAD            DIVERSIDAD       \n",
       "2803  NaN            VACUNADO (2 DOSIS)    DIVERSIDAD       \n",
       "2804  NaN            CAM (INGRESADO)       CAM              \n",
       "2805  NaN            DIVERSIDAD            DIVERSIDAD       \n",
       "2806  NaN            DIVERSIDAD            DIVERSIDAD       "
      ],
      "text/html": "<div>\n<style scoped>\n    .dataframe tbody tr th:only-of-type {\n        vertical-align: middle;\n    }\n\n    .dataframe tbody tr th {\n        vertical-align: top;\n    }\n\n    .dataframe thead th {\n        text-align: right;\n    }\n</style>\n<table border=\"1\" class=\"dataframe\">\n  <thead>\n    <tr style=\"text-align: right;\">\n      <th></th>\n      <th>id</th>\n      <th>full_date</th>\n      <th>SEX__autocolor</th>\n      <th>AGE__autocolor</th>\n      <th>day</th>\n      <th>month</th>\n      <th>year</th>\n      <th>RUN__autocolor</th>\n      <th>DEPARTMENT__autocolor</th>\n      <th>LABEL__autocolor</th>\n    </tr>\n  </thead>\n  <tbody>\n    <tr>\n      <td>2802</td>\n      <td>21115281</td>\n      <td>NaN</td>\n      <td>NaN</td>\n      <td>NaN</td>\n      <td>NaN</td>\n      <td>NaN</td>\n      <td>NaN</td>\n      <td>NaN</td>\n      <td>DIVERSIDAD</td>\n      <td>DIVERSIDAD</td>\n    </tr>\n    <tr>\n      <td>2803</td>\n      <td>1216689</td>\n      <td>NaN</td>\n      <td>NaN</td>\n      <td>NaN</td>\n      <td>NaN</td>\n      <td>NaN</td>\n      <td>NaN</td>\n      <td>NaN</td>\n      <td>VACUNADO (2 DOSIS)</td>\n      <td>DIVERSIDAD</td>\n    </tr>\n    <tr>\n      <td>2804</td>\n      <td>21131128</td>\n      <td>NaN</td>\n      <td>NaN</td>\n      <td>NaN</td>\n      <td>NaN</td>\n      <td>NaN</td>\n      <td>NaN</td>\n      <td>NaN</td>\n      <td>CAM (INGRESADO)</td>\n      <td>CAM</td>\n    </tr>\n    <tr>\n      <td>2805</td>\n      <td>21131467</td>\n      <td>NaN</td>\n      <td>NaN</td>\n      <td>NaN</td>\n      <td>NaN</td>\n      <td>NaN</td>\n      <td>NaN</td>\n      <td>NaN</td>\n      <td>DIVERSIDAD</td>\n      <td>DIVERSIDAD</td>\n    </tr>\n    <tr>\n      <td>2806</td>\n      <td>21131476</td>\n      <td>NaN</td>\n      <td>NaN</td>\n      <td>NaN</td>\n      <td>NaN</td>\n      <td>NaN</td>\n      <td>NaN</td>\n      <td>NaN</td>\n      <td>DIVERSIDAD</td>\n      <td>DIVERSIDAD</td>\n    </tr>\n  </tbody>\n</table>\n</div>"
     },
     "metadata": {},
     "execution_count": 37
    }
   ],
   "source": [
    "final_df.tail()"
   ]
  },
  {
   "cell_type": "code",
   "execution_count": 38,
   "metadata": {},
   "outputs": [],
   "source": [
    "def extract_lineage(sample):\n",
    "    pango_file = os.path.join('/home/laura/ANALYSIS/VARIANT_CALLING/COVID/Annotation/pangolin', str(sample) + \".lineage.csv\")\n",
    "    if os.path.exists(pango_file):\n",
    "        df = pd.read_csv(pango_file)\n",
    "        return df.lineage[0]\n",
    "    else:\n",
    "        return None"
   ]
  },
  {
   "cell_type": "code",
   "execution_count": 39,
   "metadata": {},
   "outputs": [],
   "source": [
    "final_df['Lineage__autocolor'] = final_df.apply(lambda x: extract_lineage(x['id']), axis=1)"
   ]
  },
  {
   "cell_type": "code",
   "execution_count": 40,
   "metadata": {},
   "outputs": [],
   "source": [
    "def extract_EU(sample):\n",
    "    eu_file = os.path.join('/home/laura/ANALYSIS/VARIANT_CALLING/COVID/Annotation/user', str(sample) + \".tsv\")\n",
    "    if os.path.exists(eu_file):\n",
    "        df = pd.read_csv(eu_file, sep=\"\\t\")\n",
    "        if 'Nextrain_all' in df.columns:\n",
    "            eulist = df.Nextrain_all.dropna().tolist()\n",
    "            return (';').join([(x + \"-\" + str(eulist.count(x))) for x in set(eulist)])\n",
    "        else:\n",
    "            return None"
   ]
  },
  {
   "cell_type": "code",
   "execution_count": 41,
   "metadata": {},
   "outputs": [
    {
     "output_type": "stream",
     "name": "stderr",
     "text": [
      "/home/laura/anaconda3/lib/python3.7/site-packages/pandas/core/apply.py:186: DtypeWarning: Columns (20,21,22,23,24) have mixed types. Specify dtype option on import or set low_memory=False.\n",
      "  return self.apply_standard()\n",
      "/home/laura/anaconda3/lib/python3.7/site-packages/pandas/core/apply.py:186: DtypeWarning: Columns (22,23) have mixed types. Specify dtype option on import or set low_memory=False.\n",
      "  return self.apply_standard()\n",
      "/home/laura/anaconda3/lib/python3.7/site-packages/pandas/core/apply.py:186: DtypeWarning: Columns (20,22,23,24) have mixed types. Specify dtype option on import or set low_memory=False.\n",
      "  return self.apply_standard()\n",
      "/home/laura/anaconda3/lib/python3.7/site-packages/pandas/core/apply.py:186: DtypeWarning: Columns (20,21,23) have mixed types. Specify dtype option on import or set low_memory=False.\n",
      "  return self.apply_standard()\n"
     ]
    }
   ],
   "source": [
    "final_df['Nextrain__autocolor'] = final_df.apply(lambda x: extract_EU(x['id']), axis=1)"
   ]
  },
  {
   "cell_type": "code",
   "execution_count": 42,
   "metadata": {},
   "outputs": [],
   "source": [
    "def extract_resistance(sample):\n",
    "    res_file = os.path.join('/home/laura/ANALYSIS/VARIANT_CALLING/COVID/Annotation/user_aa', str(sample) + \".tsv\")\n",
    "    if os.path.exists(res_file):\n",
    "        df = pd.read_csv(res_file, sep=\"\\t\")\n",
    "        if 'resistance_covid' in df.columns:\n",
    "            relist = df.resistance_covid.dropna().tolist()\n",
    "            return (';').join([(x + \"-\" + str(relist.count(x))) for x in set(relist)])\n",
    "        else:\n",
    "            return None"
   ]
  },
  {
   "cell_type": "code",
   "execution_count": 43,
   "metadata": {},
   "outputs": [
    {
     "output_type": "stream",
     "name": "stderr",
     "text": [
      "/home/laura/anaconda3/lib/python3.7/site-packages/pandas/core/apply.py:186: DtypeWarning: Columns (26,27,29,30,31,32,33,34,36) have mixed types. Specify dtype option on import or set low_memory=False.\n",
      "  return self.apply_standard()\n",
      "/home/laura/anaconda3/lib/python3.7/site-packages/pandas/core/apply.py:186: DtypeWarning: Columns (26,29,31,32,33) have mixed types. Specify dtype option on import or set low_memory=False.\n",
      "  return self.apply_standard()\n",
      "/home/laura/anaconda3/lib/python3.7/site-packages/pandas/core/apply.py:186: DtypeWarning: Columns (6,26,27,28,29,30,31,33,34,35) have mixed types. Specify dtype option on import or set low_memory=False.\n",
      "  return self.apply_standard()\n",
      "/home/laura/anaconda3/lib/python3.7/site-packages/pandas/core/apply.py:186: DtypeWarning: Columns (26,27,29,31,32,35) have mixed types. Specify dtype option on import or set low_memory=False.\n",
      "  return self.apply_standard()\n",
      "/home/laura/anaconda3/lib/python3.7/site-packages/pandas/core/apply.py:186: DtypeWarning: Columns (26,29,30,31,32,35,36) have mixed types. Specify dtype option on import or set low_memory=False.\n",
      "  return self.apply_standard()\n",
      "/home/laura/anaconda3/lib/python3.7/site-packages/pandas/core/apply.py:186: DtypeWarning: Columns (26,27,28,29,31,33,34) have mixed types. Specify dtype option on import or set low_memory=False.\n",
      "  return self.apply_standard()\n",
      "/home/laura/anaconda3/lib/python3.7/site-packages/pandas/core/apply.py:186: DtypeWarning: Columns (28) have mixed types. Specify dtype option on import or set low_memory=False.\n",
      "  return self.apply_standard()\n",
      "/home/laura/anaconda3/lib/python3.7/site-packages/pandas/core/apply.py:186: DtypeWarning: Columns (26,29,31,32) have mixed types. Specify dtype option on import or set low_memory=False.\n",
      "  return self.apply_standard()\n",
      "/home/laura/anaconda3/lib/python3.7/site-packages/pandas/core/apply.py:186: DtypeWarning: Columns (26,31,32) have mixed types. Specify dtype option on import or set low_memory=False.\n",
      "  return self.apply_standard()\n",
      "/home/laura/anaconda3/lib/python3.7/site-packages/pandas/core/apply.py:186: DtypeWarning: Columns (26,29,32,36) have mixed types. Specify dtype option on import or set low_memory=False.\n",
      "  return self.apply_standard()\n",
      "/home/laura/anaconda3/lib/python3.7/site-packages/pandas/core/apply.py:186: DtypeWarning: Columns (26,27,29,31,32) have mixed types. Specify dtype option on import or set low_memory=False.\n",
      "  return self.apply_standard()\n",
      "/home/laura/anaconda3/lib/python3.7/site-packages/pandas/core/apply.py:186: DtypeWarning: Columns (26,28,29,30,31,32,34) have mixed types. Specify dtype option on import or set low_memory=False.\n",
      "  return self.apply_standard()\n",
      "/home/laura/anaconda3/lib/python3.7/site-packages/pandas/core/apply.py:186: DtypeWarning: Columns (26,29,31,33) have mixed types. Specify dtype option on import or set low_memory=False.\n",
      "  return self.apply_standard()\n"
     ]
    }
   ],
   "source": [
    "final_df['Resistance__autocolor'] = final_df.apply(lambda x: extract_resistance(x['id']), axis=1)"
   ]
  },
  {
   "cell_type": "code",
   "execution_count": 44,
   "metadata": {},
   "outputs": [
    {
     "output_type": "execute_result",
     "data": {
      "text/plain": [
       "'\\ndef extract_variant(sample):\\n    res_file = os.path.join(\\'/home/laura/ANALYSIS/VARIANT_CALLING/COVID/Annotation/user_aa\\', str(sample) + \".tsv\")\\n    if os.path.exists(res_file):\\n        df = pd.read_csv(res_file, sep=\"\\t\")\\n        if \\'Variants\\' in df.columns:\\n            df = df.drop_duplicates(subset=[\\'Variants\\'], keep=\"first\")\\n            relist = df.Variants.dropna().tolist()\\n            return (\\',\\').join([(x + \"-\" + str(relist.count(x))) for x in set(relist)])\\n        else:\\n            return None\\n'"
      ]
     },
     "metadata": {},
     "execution_count": 44
    }
   ],
   "source": [
    "\"\"\"\n",
    "def extract_variant(sample):\n",
    "    res_file = os.path.join('/home/laura/ANALYSIS/VARIANT_CALLING/COVID/Annotation/user_aa', str(sample) + \".tsv\")\n",
    "    if os.path.exists(res_file):\n",
    "        df = pd.read_csv(res_file, sep=\"\\t\")\n",
    "        if 'Variants' in df.columns:\n",
    "            df = df.drop_duplicates(subset=['Variants'], keep=\"first\")\n",
    "            relist = df.Variants.dropna().tolist()\n",
    "            return (',').join([(x + \"-\" + str(relist.count(x))) for x in set(relist)])\n",
    "        else:\n",
    "            return None\n",
    "\"\"\""
   ]
  },
  {
   "cell_type": "code",
   "execution_count": 45,
   "metadata": {},
   "outputs": [],
   "source": [
    "#final_df['VariantsAll__autocolor'] = final_df.apply(lambda x: extract_variant(x['id']), axis=1)"
   ]
  },
  {
   "cell_type": "code",
   "execution_count": 46,
   "metadata": {},
   "outputs": [
    {
     "output_type": "execute_result",
     "data": {
      "text/plain": [
       "'\\ndef extract_variant_count(sample):\\n    res_file = os.path.join(\\'/home/laura/ANALYSIS/VARIANT_CALLING/COVID/Annotation/user_aa\\', str(sample) + \".tsv\")\\n    if os.path.exists(res_file):\\n        df = pd.read_csv(res_file, sep=\"\\t\")\\n        if \\'Variants\\' in df.columns:\\n            df = df.drop_duplicates(subset=[\\'Variants\\'], keep=\"first\")\\n            relist = df.Variants.dropna().tolist()\\n            relist = [x.split(\":\")[1] for x in relist]\\n            return (\\',\\').join([(x + \"-\" + str(relist.count(x))) for x in set(relist)])\\n        else:\\n            return None\\n'"
      ]
     },
     "metadata": {},
     "execution_count": 46
    }
   ],
   "source": [
    "\"\"\"\n",
    "def extract_variant_count(sample):\n",
    "    res_file = os.path.join('/home/laura/ANALYSIS/VARIANT_CALLING/COVID/Annotation/user_aa', str(sample) + \".tsv\")\n",
    "    if os.path.exists(res_file):\n",
    "        df = pd.read_csv(res_file, sep=\"\\t\")\n",
    "        if 'Variants' in df.columns:\n",
    "            df = df.drop_duplicates(subset=['Variants'], keep=\"first\")\n",
    "            relist = df.Variants.dropna().tolist()\n",
    "            relist = [x.split(\":\")[1] for x in relist]\n",
    "            return (',').join([(x + \"-\" + str(relist.count(x))) for x in set(relist)])\n",
    "        else:\n",
    "            return None\n",
    "\"\"\""
   ]
  },
  {
   "cell_type": "code",
   "execution_count": 47,
   "metadata": {},
   "outputs": [],
   "source": [
    "#final_df['VariantsCount__autocolor'] = final_df.apply(lambda x: extract_variant_count(x['id']), axis=1)"
   ]
  },
  {
   "cell_type": "code",
   "execution_count": 48,
   "metadata": {},
   "outputs": [],
   "source": [
    "def extract_variant_UK(sample): #Change header\n",
    "    res_file = os.path.join('/home/laura/ANALYSIS/VARIANT_CALLING/COVID/Annotation/user_aa', str(sample) + \".tsv\")\n",
    "    if os.path.exists(res_file):\n",
    "        df = pd.read_csv(res_file, sep=\"\\t\")\n",
    "        if 'UKVariant' in df.columns: #Change header\n",
    "            df = df.drop_duplicates(subset=['UKVariant'], keep=\"first\") #Change header\n",
    "            df = df[df.ALT_FREQ >= 0.4]\n",
    "            relist = df.UKVariant.dropna().tolist() #Change header\n",
    "            relist = [x.split(\":\")[1] for x in relist]\n",
    "            return (',').join([(x + \"-\" + str(relist.count(x))) for x in set(relist)])\n",
    "        else:\n",
    "            return None\n",
    "\n",
    "def extract_variant_D(sample): #Change header\n",
    "    res_file = os.path.join('/home/laura/ANALYSIS/VARIANT_CALLING/COVID/Annotation/user_aa', str(sample) + \".tsv\")\n",
    "    if os.path.exists(res_file):\n",
    "        df = pd.read_csv(res_file, sep=\"\\t\")\n",
    "        if 'DVariant' in df.columns: #Change header\n",
    "            df = df.drop_duplicates(subset=['DVariant'], keep=\"first\") #Change header\n",
    "            df = df[df.ALT_FREQ >= 0.4]\n",
    "            relist = df.DVariant.dropna().tolist() #Change header\n",
    "            relist = [x.split(\":\")[1] for x in relist]\n",
    "            return (',').join([(x + \"-\" + str(relist.count(x))) for x in set(relist)])\n",
    "        else:\n",
    "            return None\n",
    "\n",
    "def extract_variant_69del(sample): #Change header\n",
    "    res_file = os.path.join('/home/laura/ANALYSIS/VARIANT_CALLING/COVID/Annotation/user_aa', str(sample) + \".tsv\")\n",
    "    if os.path.exists(res_file):\n",
    "        df = pd.read_csv(res_file, sep=\"\\t\")\n",
    "        if '69del' in df.columns: #Change header\n",
    "            df = df.drop_duplicates(subset=['69del'], keep=\"first\") #Change header\n",
    "            df = df[df.ALT_FREQ >= 0.4]\n",
    "            relist = df['69del'].dropna().tolist() #Change header\n",
    "            relist = [x.split(\":\")[1] for x in relist]\n",
    "            return (',').join([(x + \"-\" + str(relist.count(x))) for x in set(relist)])\n",
    "        else:\n",
    "            return None\n",
    "\n",
    "def extract_variant_P1Variant(sample): #Change header\n",
    "    res_file = os.path.join('/home/laura/ANALYSIS/VARIANT_CALLING/COVID/Annotation/user_aa', str(sample) + \".tsv\")\n",
    "    if os.path.exists(res_file):\n",
    "        df = pd.read_csv(res_file, sep=\"\\t\")\n",
    "        if 'P1Variant' in df.columns: #Change header\n",
    "            df = df.drop_duplicates(subset=['P1Variant'], keep=\"first\") #Change header\n",
    "            df = df[df.ALT_FREQ >= 0.4]\n",
    "            relist = df['P1Variant'].dropna().tolist() #Change header\n",
    "            relist = [x.split(\":\")[1] for x in relist]\n",
    "            return (',').join([(x + \"-\" + str(relist.count(x))) for x in set(relist)])\n",
    "        else:\n",
    "            return None\n",
    "\n",
    "def extract_variant_ZAVariant(sample): #Change header\n",
    "    res_file = os.path.join('/home/laura/ANALYSIS/VARIANT_CALLING/COVID/Annotation/user_aa', str(sample) + \".tsv\")\n",
    "    if os.path.exists(res_file):\n",
    "        df = pd.read_csv(res_file, sep=\"\\t\")\n",
    "        if 'ZAVariant' in df.columns: #Change header\n",
    "            df = df.drop_duplicates(subset=['ZAVariant'], keep=\"first\") #Change header\n",
    "            df = df[df.ALT_FREQ >= 0.4]\n",
    "            relist = df['ZAVariant'].dropna().tolist() #Change header\n",
    "            relist = [x.split(\":\")[1] for x in relist]\n",
    "            return (',').join([(x + \"-\" + str(relist.count(x))) for x in set(relist)])\n",
    "        else:\n",
    "            return None\n",
    "\n",
    "def extract_variant_P2Variant(sample): #Change header\n",
    "    res_file = os.path.join('/home/laura/ANALYSIS/VARIANT_CALLING/COVID/Annotation/user_aa', str(sample) + \".tsv\")\n",
    "    if os.path.exists(res_file):\n",
    "        df = pd.read_csv(res_file, sep=\"\\t\")\n",
    "        if 'P2Variant' in df.columns: #Change header\n",
    "            df = df.drop_duplicates(subset=['P2Variant'], keep=\"first\") #Change header\n",
    "            df = df[df.ALT_FREQ >= 0.4]\n",
    "            relist = df['P2Variant'].dropna().tolist() #Change header\n",
    "            relist = [x.split(\":\")[1] for x in relist]\n",
    "            return (',').join([(x + \"-\" + str(relist.count(x))) for x in set(relist)])\n",
    "        else:\n",
    "            return None\n",
    "\n",
    "def extract_variant_E484K(sample): #Change header\n",
    "    res_file = os.path.join('/home/laura/ANALYSIS/VARIANT_CALLING/COVID/Annotation/user_aa', str(sample) + \".tsv\")\n",
    "    if os.path.exists(res_file):\n",
    "        df = pd.read_csv(res_file, sep=\"\\t\")\n",
    "        if 'E484K' in df.columns: #Change header\n",
    "            df = df.drop_duplicates(subset=['E484K'], keep=\"first\") #Change header\n",
    "            df = df[df.ALT_FREQ >= 0.4]\n",
    "            relist = df['E484K'].dropna().tolist() #Change header\n",
    "            relist = [x.split(\":\")[1] for x in relist]\n",
    "            return (',').join([(x + \"-\" + str(relist.count(x))) for x in set(relist)])\n",
    "        else:\n",
    "            return None\n",
    "\n",
    "def extract_variant_Note(sample): #Change header\n",
    "    res_file = os.path.join('/home/laura/ANALYSIS/VARIANT_CALLING/COVID/Annotation/user_aa', str(sample) + \".tsv\")\n",
    "    if os.path.exists(res_file):\n",
    "        df = pd.read_csv(res_file, sep=\"\\t\")\n",
    "        if 'Variants_Note' in df.columns: #Change header\n",
    "            df = df.drop_duplicates(subset=['Variants_Note'], keep=\"first\") #Change header\n",
    "            df = df[df.ALT_FREQ >= 0.4]\n",
    "            relist = df['Variants_Note'].dropna().tolist() #Change header\n",
    "            relist = [x.split(\":\")[1] for x in relist]\n",
    "            return (',').join([(x + \"-\" + str(relist.count(x))) for x in set(relist)])\n",
    "        else:\n",
    "            return None\n",
    "def extract_variant_M2(sample): #Change header\n",
    "    res_file = os.path.join('/home/laura/ANALYSIS/VARIANT_CALLING/COVID/Annotation/user_aa', str(sample) + \".tsv\")\n",
    "    if os.path.exists(res_file):\n",
    "        df = pd.read_csv(res_file, sep=\"\\t\")\n",
    "        if 'MVariant2' in df.columns: #Change header\n",
    "            df = df.drop_duplicates(subset=['MVariant2'], keep=\"first\") #Change header\n",
    "            df = df[df.ALT_FREQ >= 0.4]\n",
    "            relist = df.MVariant2.dropna().tolist() #Change header\n",
    "            relist = [x.split(\":\")[1] for x in relist]\n",
    "            return (',').join([(x + \"-\" + str(relist.count(x))) for x in set(relist)])\n",
    "        else:\n",
    "            return None\n",
    "\n",
    "def extract_variant_RBD(sample): #Change header\n",
    "    res_file = os.path.join('/home/laura/ANALYSIS/VARIANT_CALLING/COVID/Annotation/user_aa', str(sample) + \".tsv\")\n",
    "    if os.path.exists(res_file):\n",
    "        df = pd.read_csv(res_file, sep=\"\\t\")\n",
    "        if 'RBD' in df.columns: #Change header\n",
    "            df = df.drop_duplicates(subset=['RBD'], keep=\"first\") #Change header\n",
    "            df = df[df.ALT_FREQ >= 0.4]\n",
    "            relist = df.RBD.dropna().tolist() #Change header\n",
    "            relist = [x.split(\":\")[0] for x in relist]\n",
    "            return (',').join(relist)\n",
    "            # return (',').join([(x + \"-\" + str(relist.count(x))) for x in set(relist)])\n",
    "        else:\n",
    "            return None"
   ]
  },
  {
   "cell_type": "code",
   "execution_count": 49,
   "metadata": {},
   "outputs": [],
   "source": [
    "final_df['UKVariant__autocolor'] = final_df.apply(lambda x: extract_variant_UK(x['id']), axis=1)\n",
    "final_df['69del__autocolor'] = final_df.apply(lambda x: extract_variant_69del(x['id']), axis=1)\n",
    "final_df['P1Variant__autocolor'] = final_df.apply(lambda x: extract_variant_P1Variant(x['id']), axis=1)\n",
    "final_df['P2Variant__autocolor'] = final_df.apply(lambda x: extract_variant_P2Variant(x['id']), axis=1)\n",
    "final_df['E484K__autocolor'] = final_df.apply(lambda x: extract_variant_E484K(x['id']), axis=1)\n",
    "final_df['variant_Note__autocolor'] = final_df.apply(lambda x: extract_variant_Note(x['id']), axis=1)\n",
    "final_df['MVariant2__autocolor'] = final_df.apply(lambda x: extract_variant_M2(x['id']), axis=1)\n",
    "final_df['RBD__autocolor'] = final_df.apply(lambda x: extract_variant_RBD(x['id']), axis=1)\n",
    "final_df['ZA__autocolor'] = final_df.apply(lambda x: extract_variant_ZAVariant(x['id']), axis=1)\n",
    "\n"
   ]
  },
  {
   "cell_type": "code",
   "execution_count": 50,
   "metadata": {},
   "outputs": [],
   "source": [
    "def extract_faulty(sample):\n",
    "    sample_report = os.path.join(compare_folder, \"report_samples.tsv\")\n",
    "    df = pd.read_csv(sample_report, sep=\"\\t\")\n",
    "    df['sample'] = df['sample'].astype(str)\n",
    "    if str(sample) in df['sample'].values:\n",
    "        return round(df[df['sample'] == str(sample)]['faulty_frac'].values[0], 3)\n",
    "    else:\n",
    "        return None"
   ]
  },
  {
   "cell_type": "code",
   "execution_count": 51,
   "metadata": {},
   "outputs": [],
   "source": [
    "final_df['FaultyFraction__autocolor'] = final_df.apply(lambda x: extract_faulty(x['id']), axis=1)"
   ]
  },
  {
   "cell_type": "code",
   "execution_count": 52,
   "metadata": {},
   "outputs": [],
   "source": [
    "#query = ['20097501','20097906','20099990','20101024','20107580','20143658','20214237','20247923','20398264','20425128','20425595','20428122','20431031','20435733','20450595','20450832','20455085','20455763','20455870','20458052','20458113','20458114','20458118','20458269','20458270','20458365','20458528','20458547','20458560','20458569','20458576','20458635','20458638','20458668','20458686','20458702','20461287','20461287-BIS','20461290','20461293','20461349','20461351','20461375','20461389','20461389-BIS','20461392','20461416','20461563','20461601','20461621','20461637','20461637-BIS','20461689','20461747','20461783','20461785','20461790','20461801','20461861','20461869','20461870','20461871','20461886','20461904','20461905','20461907','20461908','20461926','20461928','20461937','20461953','20461968','20464095','20464109','20464109-BIS','20464197','20464303','20464456','20464490','20464493','20464516','20464517','20464519','20464521','20464532','20464534','20464567','20464570','20464580','20464595','20464599','20464600','20464612','20464613','20464614','20464636']\n",
    "#query_dario = [str(x) for x in query_dario]\n"
   ]
  },
  {
   "cell_type": "code",
   "execution_count": 53,
   "metadata": {},
   "outputs": [],
   "source": [
    "#final_df['run12Maldito__autocolor'] = final_df.apply(lambda x: x['id'] in query, axis=1)\n"
   ]
  },
  {
   "cell_type": "code",
   "execution_count": 54,
   "metadata": {},
   "outputs": [],
   "source": [
    "before_june = final_df[(final_df.month < 7) & (final_df.year == 2020)]['id'].tolist()\n",
    "before_june = [str(x) for x in before_june]\n",
    "final_df['before_june_2020__autocolor'] = final_df.apply(lambda x: x['id'] in before_june, axis=1)"
   ]
  },
  {
   "cell_type": "code",
   "execution_count": 55,
   "metadata": {},
   "outputs": [],
   "source": [
    "final_df['id'] = final_df['id'].str.strip()\n",
    "final_df = final_df.drop_duplicates(subset=['id'], keep=\"first\")\n",
    "#REORDER COLUMNS\n",
    "final_df = final_df[['id','LABEL__autocolor'] + [ col for col in final_df.columns if col != 'LABEL__autocolor' and col != 'id']]\n",
    "\n",
    "out_file = os.path.join(compare_folder, 'wgs_microreact.csv')\n",
    "final_df.to_csv(out_file, index=False)"
   ]
  },
  {
   "cell_type": "code",
   "execution_count": 56,
   "metadata": {},
   "outputs": [
    {
     "output_type": "execute_result",
     "data": {
      "text/plain": [
       "         id       LABEL__autocolor   full_date SEX__autocolor  AGE__autocolor  \\\n",
       "0  20091284  NaN                    2/4/2020    M             NaN               \n",
       "1  20289362  REINFECCION            25/8/2020   NaN            39.694927        \n",
       "2  20432945  PROFESIONAL SANITARIO  4/11/2020   F              28.247288        \n",
       "3  21035911  PROFESIONAL SANITARIO  23/1/2021   F              49.521111        \n",
       "4  21020388  DIVERSIDAD             15/01/2021  M              76.000000        \n",
       "\n",
       "   day  month  year RUN__autocolor DEPARTMENT__autocolor Lineage__autocolor  \\\n",
       "0  2    4      2020  RUN_1          NaN                   B.1                 \n",
       "1  25   8      2020  MICRO_17       REINFECCION (95)      B.1.177             \n",
       "2  4    11     2020  RUN_11         TRABAJADOR (OCT_NOV)  B.1.177             \n",
       "3  23   1      2021  RUN_19         TRABAJADOR            B.1.177             \n",
       "4  15   1      2021  RUN_17         100UK                 B.1.1.7             \n",
       "\n",
       "  Nextrain__autocolor Resistance__autocolor UKVariant__autocolor  \\\n",
       "0  20A-2                                                           \n",
       "1  20AEU1-3;20A-2                                                  \n",
       "2  20AEU1-3;20A-2                                                  \n",
       "3  20AEU1-3;20A-2                                                  \n",
       "4  20A-2;20B-3                               UKVariant-16          \n",
       "\n",
       "  69del__autocolor P1Variant__autocolor P2Variant__autocolor E484K__autocolor  \\\n",
       "0                                                                               \n",
       "1                                                                               \n",
       "2                                                                               \n",
       "3                                                                               \n",
       "4  6970del-1        P1Variant-2                                                 \n",
       "\n",
       "  variant_Note__autocolor MVariant2__autocolor  \\\n",
       "0                          MVariant2-2           \n",
       "1                          MVariant2-2           \n",
       "2                          MVariant2-2           \n",
       "3                          MVariant2-2           \n",
       "4  B.1.525-2               MVariant2-4           \n",
       "\n",
       "                           RBD__autocolor ZA__autocolor  \\\n",
       "0                                                         \n",
       "1                                                         \n",
       "2                                                         \n",
       "3                                                         \n",
       "4  His69del,Tyr144del,Asn501Tyr,Pro681His  ZA_Variant-1   \n",
       "\n",
       "   FaultyFraction__autocolor  before_june_2020__autocolor  \n",
       "0  0.001                      True                         \n",
       "1  0.000                      False                        \n",
       "2  0.001                      False                        \n",
       "3  0.001                      False                        \n",
       "4  0.006                      False                        "
      ],
      "text/html": "<div>\n<style scoped>\n    .dataframe tbody tr th:only-of-type {\n        vertical-align: middle;\n    }\n\n    .dataframe tbody tr th {\n        vertical-align: top;\n    }\n\n    .dataframe thead th {\n        text-align: right;\n    }\n</style>\n<table border=\"1\" class=\"dataframe\">\n  <thead>\n    <tr style=\"text-align: right;\">\n      <th></th>\n      <th>id</th>\n      <th>LABEL__autocolor</th>\n      <th>full_date</th>\n      <th>SEX__autocolor</th>\n      <th>AGE__autocolor</th>\n      <th>day</th>\n      <th>month</th>\n      <th>year</th>\n      <th>RUN__autocolor</th>\n      <th>DEPARTMENT__autocolor</th>\n      <th>Lineage__autocolor</th>\n      <th>Nextrain__autocolor</th>\n      <th>Resistance__autocolor</th>\n      <th>UKVariant__autocolor</th>\n      <th>69del__autocolor</th>\n      <th>P1Variant__autocolor</th>\n      <th>P2Variant__autocolor</th>\n      <th>E484K__autocolor</th>\n      <th>variant_Note__autocolor</th>\n      <th>MVariant2__autocolor</th>\n      <th>RBD__autocolor</th>\n      <th>ZA__autocolor</th>\n      <th>FaultyFraction__autocolor</th>\n      <th>before_june_2020__autocolor</th>\n    </tr>\n  </thead>\n  <tbody>\n    <tr>\n      <td>0</td>\n      <td>20091284</td>\n      <td>NaN</td>\n      <td>2/4/2020</td>\n      <td>M</td>\n      <td>NaN</td>\n      <td>2</td>\n      <td>4</td>\n      <td>2020</td>\n      <td>RUN_1</td>\n      <td>NaN</td>\n      <td>B.1</td>\n      <td>20A-2</td>\n      <td></td>\n      <td></td>\n      <td></td>\n      <td></td>\n      <td></td>\n      <td></td>\n      <td></td>\n      <td>MVariant2-2</td>\n      <td></td>\n      <td></td>\n      <td>0.001</td>\n      <td>True</td>\n    </tr>\n    <tr>\n      <td>1</td>\n      <td>20289362</td>\n      <td>REINFECCION</td>\n      <td>25/8/2020</td>\n      <td>NaN</td>\n      <td>39.694927</td>\n      <td>25</td>\n      <td>8</td>\n      <td>2020</td>\n      <td>MICRO_17</td>\n      <td>REINFECCION (95)</td>\n      <td>B.1.177</td>\n      <td>20AEU1-3;20A-2</td>\n      <td></td>\n      <td></td>\n      <td></td>\n      <td></td>\n      <td></td>\n      <td></td>\n      <td></td>\n      <td>MVariant2-2</td>\n      <td></td>\n      <td></td>\n      <td>0.000</td>\n      <td>False</td>\n    </tr>\n    <tr>\n      <td>2</td>\n      <td>20432945</td>\n      <td>PROFESIONAL SANITARIO</td>\n      <td>4/11/2020</td>\n      <td>F</td>\n      <td>28.247288</td>\n      <td>4</td>\n      <td>11</td>\n      <td>2020</td>\n      <td>RUN_11</td>\n      <td>TRABAJADOR (OCT_NOV)</td>\n      <td>B.1.177</td>\n      <td>20AEU1-3;20A-2</td>\n      <td></td>\n      <td></td>\n      <td></td>\n      <td></td>\n      <td></td>\n      <td></td>\n      <td></td>\n      <td>MVariant2-2</td>\n      <td></td>\n      <td></td>\n      <td>0.001</td>\n      <td>False</td>\n    </tr>\n    <tr>\n      <td>3</td>\n      <td>21035911</td>\n      <td>PROFESIONAL SANITARIO</td>\n      <td>23/1/2021</td>\n      <td>F</td>\n      <td>49.521111</td>\n      <td>23</td>\n      <td>1</td>\n      <td>2021</td>\n      <td>RUN_19</td>\n      <td>TRABAJADOR</td>\n      <td>B.1.177</td>\n      <td>20AEU1-3;20A-2</td>\n      <td></td>\n      <td></td>\n      <td></td>\n      <td></td>\n      <td></td>\n      <td></td>\n      <td></td>\n      <td>MVariant2-2</td>\n      <td></td>\n      <td></td>\n      <td>0.001</td>\n      <td>False</td>\n    </tr>\n    <tr>\n      <td>4</td>\n      <td>21020388</td>\n      <td>DIVERSIDAD</td>\n      <td>15/01/2021</td>\n      <td>M</td>\n      <td>76.000000</td>\n      <td>15</td>\n      <td>1</td>\n      <td>2021</td>\n      <td>RUN_17</td>\n      <td>100UK</td>\n      <td>B.1.1.7</td>\n      <td>20A-2;20B-3</td>\n      <td></td>\n      <td>UKVariant-16</td>\n      <td>6970del-1</td>\n      <td>P1Variant-2</td>\n      <td></td>\n      <td></td>\n      <td>B.1.525-2</td>\n      <td>MVariant2-4</td>\n      <td>His69del,Tyr144del,Asn501Tyr,Pro681His</td>\n      <td>ZA_Variant-1</td>\n      <td>0.006</td>\n      <td>False</td>\n    </tr>\n  </tbody>\n</table>\n</div>"
     },
     "metadata": {},
     "execution_count": 56
    }
   ],
   "source": [
    "final_df.head()"
   ]
  },
  {
   "cell_type": "code",
   "execution_count": 57,
   "metadata": {},
   "outputs": [
    {
     "output_type": "execute_result",
     "data": {
      "text/plain": [
       "            id LABEL__autocolor  full_date SEX__autocolor  AGE__autocolor  \\\n",
       "1102  21092147  CAM              24/2/2021  M              49.683849        \n",
       "\n",
       "      day  month  year RUN__autocolor DEPARTMENT__autocolor  \\\n",
       "1102  24   2      2021  RUN_22         CAM (COMUNITARIO)      \n",
       "\n",
       "     Lineage__autocolor Nextrain__autocolor Resistance__autocolor  \\\n",
       "1102  B.1.1.7            20A-2;20B-3                                \n",
       "\n",
       "     UKVariant__autocolor 69del__autocolor P1Variant__autocolor  \\\n",
       "1102  UKVariant-16         6970del-1        P1Variant-2           \n",
       "\n",
       "     P2Variant__autocolor E484K__autocolor variant_Note__autocolor  \\\n",
       "1102                                        B.1.525-2                \n",
       "\n",
       "     MVariant2__autocolor                          RBD__autocolor  \\\n",
       "1102  MVariant2-4          His69del,Tyr144del,Asn501Tyr,Pro681His   \n",
       "\n",
       "     ZA__autocolor  FaultyFraction__autocolor  before_june_2020__autocolor  \n",
       "1102  ZA_Variant-1  0.001                      False                        "
      ],
      "text/html": "<div>\n<style scoped>\n    .dataframe tbody tr th:only-of-type {\n        vertical-align: middle;\n    }\n\n    .dataframe tbody tr th {\n        vertical-align: top;\n    }\n\n    .dataframe thead th {\n        text-align: right;\n    }\n</style>\n<table border=\"1\" class=\"dataframe\">\n  <thead>\n    <tr style=\"text-align: right;\">\n      <th></th>\n      <th>id</th>\n      <th>LABEL__autocolor</th>\n      <th>full_date</th>\n      <th>SEX__autocolor</th>\n      <th>AGE__autocolor</th>\n      <th>day</th>\n      <th>month</th>\n      <th>year</th>\n      <th>RUN__autocolor</th>\n      <th>DEPARTMENT__autocolor</th>\n      <th>Lineage__autocolor</th>\n      <th>Nextrain__autocolor</th>\n      <th>Resistance__autocolor</th>\n      <th>UKVariant__autocolor</th>\n      <th>69del__autocolor</th>\n      <th>P1Variant__autocolor</th>\n      <th>P2Variant__autocolor</th>\n      <th>E484K__autocolor</th>\n      <th>variant_Note__autocolor</th>\n      <th>MVariant2__autocolor</th>\n      <th>RBD__autocolor</th>\n      <th>ZA__autocolor</th>\n      <th>FaultyFraction__autocolor</th>\n      <th>before_june_2020__autocolor</th>\n    </tr>\n  </thead>\n  <tbody>\n    <tr>\n      <td>1102</td>\n      <td>21092147</td>\n      <td>CAM</td>\n      <td>24/2/2021</td>\n      <td>M</td>\n      <td>49.683849</td>\n      <td>24</td>\n      <td>2</td>\n      <td>2021</td>\n      <td>RUN_22</td>\n      <td>CAM (COMUNITARIO)</td>\n      <td>B.1.1.7</td>\n      <td>20A-2;20B-3</td>\n      <td></td>\n      <td>UKVariant-16</td>\n      <td>6970del-1</td>\n      <td>P1Variant-2</td>\n      <td></td>\n      <td></td>\n      <td>B.1.525-2</td>\n      <td>MVariant2-4</td>\n      <td>His69del,Tyr144del,Asn501Tyr,Pro681His</td>\n      <td>ZA_Variant-1</td>\n      <td>0.001</td>\n      <td>False</td>\n    </tr>\n  </tbody>\n</table>\n</div>"
     },
     "metadata": {},
     "execution_count": 57
    }
   ],
   "source": [
    "final_df[final_df.id == '21092147']"
   ]
  },
  {
   "cell_type": "code",
   "execution_count": null,
   "metadata": {},
   "outputs": [],
   "source": []
  }
 ],
 "metadata": {
  "kernelspec": {
   "display_name": "Python 3",
   "language": "python",
   "name": "python3"
  },
  "language_info": {
   "codemirror_mode": {
    "name": "ipython",
    "version": 3
   },
   "file_extension": ".py",
   "mimetype": "text/x-python",
   "name": "python",
   "nbconvert_exporter": "python",
   "pygments_lexer": "ipython3",
   "version": "3.7.4-final"
  }
 },
 "nbformat": 4,
 "nbformat_minor": 2
}