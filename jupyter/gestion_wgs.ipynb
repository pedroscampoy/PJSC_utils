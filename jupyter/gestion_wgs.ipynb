{
 "metadata": {
  "language_info": {
   "codemirror_mode": {
    "name": "ipython",
    "version": 3
   },
   "file_extension": ".py",
   "mimetype": "text/x-python",
   "name": "python",
   "nbconvert_exporter": "python",
   "pygments_lexer": "ipython3",
   "version": "3.7.4-final"
  },
  "orig_nbformat": 2,
  "kernelspec": {
   "name": "Python 3.7.4 64-bit ('anaconda3': virtualenv)",
   "display_name": "Python 3.7.4 64-bit ('anaconda3': virtualenv)",
   "metadata": {
    "interpreter": {
     "hash": "895b43306824f909dd8fc0fe81781e0d62fee5aa42332456ee4a77314d01a104"
    }
   }
  }
 },
 "nbformat": 4,
 "nbformat_minor": 2,
 "cells": [
  {
   "cell_type": "code",
   "execution_count": 133,
   "metadata": {},
   "outputs": [],
   "source": [
    "import os\n",
    "import pandas as pd\n",
    "import numpy as np\n",
    "import re\n",
    "\n",
    "pd.set_option('display.max_columns', None)\n",
    "pd.set_option('display.max_rows', None)\n",
    "pd.set_option('display.max_colwidth', -1)"
   ]
  },
  {
   "cell_type": "code",
   "execution_count": 307,
   "metadata": {},
   "outputs": [],
   "source": [
    "compare_folder = \"/home/laura/ANALYSIS/VARIANT_CALLING/COVID/Compare/2020-11-10_COVID\"\n",
    "pairwise_filename = [x for x in os.listdir(compare_folder) if 'pairwise' in x][0]\n",
    "pairwise_file = os.path.join(compare_folder, pairwise_filename)\n",
    "pwdf = pd.read_csv(pairwise_file, sep=\"\\t\" , names=['sample_1', 'sample_2', 'dist'])"
   ]
  },
  {
   "cell_type": "code",
   "execution_count": 308,
   "metadata": {},
   "outputs": [
    {
     "output_type": "execute_result",
     "data": {
      "text/plain": [
       "   sample_1  sample_2  dist\n",
       "0  20069944  20069944  0   \n",
       "1  20069944  20069551  16  \n",
       "2  20069944  20091271  2   \n",
       "3  20069944  20081614  12  \n",
       "4  20069944  20267853  9   "
      ],
      "text/html": "<div>\n<style scoped>\n    .dataframe tbody tr th:only-of-type {\n        vertical-align: middle;\n    }\n\n    .dataframe tbody tr th {\n        vertical-align: top;\n    }\n\n    .dataframe thead th {\n        text-align: right;\n    }\n</style>\n<table border=\"1\" class=\"dataframe\">\n  <thead>\n    <tr style=\"text-align: right;\">\n      <th></th>\n      <th>sample_1</th>\n      <th>sample_2</th>\n      <th>dist</th>\n    </tr>\n  </thead>\n  <tbody>\n    <tr>\n      <td>0</td>\n      <td>20069944</td>\n      <td>20069944</td>\n      <td>0</td>\n    </tr>\n    <tr>\n      <td>1</td>\n      <td>20069944</td>\n      <td>20069551</td>\n      <td>16</td>\n    </tr>\n    <tr>\n      <td>2</td>\n      <td>20069944</td>\n      <td>20091271</td>\n      <td>2</td>\n    </tr>\n    <tr>\n      <td>3</td>\n      <td>20069944</td>\n      <td>20081614</td>\n      <td>12</td>\n    </tr>\n    <tr>\n      <td>4</td>\n      <td>20069944</td>\n      <td>20267853</td>\n      <td>9</td>\n    </tr>\n  </tbody>\n</table>\n</div>"
     },
     "metadata": {},
     "execution_count": 308
    }
   ],
   "source": [
    "pwdf.head()"
   ]
  },
  {
   "cell_type": "code",
   "execution_count": 309,
   "metadata": {},
   "outputs": [],
   "source": [
    "pwdf['sample_1'] = pwdf['sample_1'].astype(str)"
   ]
  },
  {
   "cell_type": "code",
   "execution_count": 310,
   "metadata": {},
   "outputs": [
    {
     "output_type": "stream",
     "name": "stdout",
     "text": [
      "<class 'pandas.core.frame.DataFrame'>\nRangeIndex: 687241 entries, 0 to 687240\nData columns (total 3 columns):\nsample_1    687241 non-null object\nsample_2    687241 non-null object\ndist        687241 non-null int64\ndtypes: int64(1), object(2)\nmemory usage: 15.7+ MB\n"
     ]
    }
   ],
   "source": [
    "pwdf.info()"
   ]
  },
  {
   "cell_type": "code",
   "execution_count": 311,
   "metadata": {},
   "outputs": [],
   "source": [
    "samples = list(set(pwdf.sample_1.tolist()))"
   ]
  },
  {
   "cell_type": "code",
   "execution_count": 312,
   "metadata": {},
   "outputs": [
    {
     "output_type": "execute_result",
     "data": {
      "text/plain": [
       "829"
      ]
     },
     "metadata": {},
     "execution_count": 312
    }
   ],
   "source": [
    "len(samples)"
   ]
  },
  {
   "cell_type": "code",
   "execution_count": 313,
   "metadata": {},
   "outputs": [
    {
     "output_type": "execute_result",
     "data": {
      "text/plain": [
       "{str: 829}"
      ]
     },
     "metadata": {},
     "execution_count": 313
    }
   ],
   "source": [
    "samples_type = [type(x) for x in samples]\n",
    "dict((x,samples_type.count(x)) for x in set(samples_type))"
   ]
  },
  {
   "cell_type": "code",
   "execution_count": 314,
   "metadata": {},
   "outputs": [],
   "source": [
    "wgs = pd.read_csv('/home/laura/ANALYSIS/MISC/microreact/WGS_COVID.csv')"
   ]
  },
  {
   "cell_type": "code",
   "execution_count": 315,
   "metadata": {},
   "outputs": [
    {
     "output_type": "execute_result",
     "data": {
      "text/plain": [
       "         id   full_date  patient__autocolor province__autocolor  \\\n",
       "0  20060161  09/03/2020  174.0               Madrid               \n",
       "1  20060178  09/03/2020  175.0               Madrid               \n",
       "2  20062236  10/03/2020  176.0               Madrid               \n",
       "3  20062563  10/03/2020  177.0               Madrid               \n",
       "4  20063795  12/03/2020  178.0               Madrid               \n",
       "\n",
       "  SEX__autocolor AGE__autocolor  day  month  year  \n",
       "0  H              84             9    3      2020  \n",
       "1  H              76             9    3      2020  \n",
       "2  M              96             10   3      2020  \n",
       "3  H              78             10   3      2020  \n",
       "4  H              85             12   3      2020  "
      ],
      "text/html": "<div>\n<style scoped>\n    .dataframe tbody tr th:only-of-type {\n        vertical-align: middle;\n    }\n\n    .dataframe tbody tr th {\n        vertical-align: top;\n    }\n\n    .dataframe thead th {\n        text-align: right;\n    }\n</style>\n<table border=\"1\" class=\"dataframe\">\n  <thead>\n    <tr style=\"text-align: right;\">\n      <th></th>\n      <th>id</th>\n      <th>full_date</th>\n      <th>patient__autocolor</th>\n      <th>province__autocolor</th>\n      <th>SEX__autocolor</th>\n      <th>AGE__autocolor</th>\n      <th>day</th>\n      <th>month</th>\n      <th>year</th>\n    </tr>\n  </thead>\n  <tbody>\n    <tr>\n      <td>0</td>\n      <td>20060161</td>\n      <td>09/03/2020</td>\n      <td>174.0</td>\n      <td>Madrid</td>\n      <td>H</td>\n      <td>84</td>\n      <td>9</td>\n      <td>3</td>\n      <td>2020</td>\n    </tr>\n    <tr>\n      <td>1</td>\n      <td>20060178</td>\n      <td>09/03/2020</td>\n      <td>175.0</td>\n      <td>Madrid</td>\n      <td>H</td>\n      <td>76</td>\n      <td>9</td>\n      <td>3</td>\n      <td>2020</td>\n    </tr>\n    <tr>\n      <td>2</td>\n      <td>20062236</td>\n      <td>10/03/2020</td>\n      <td>176.0</td>\n      <td>Madrid</td>\n      <td>M</td>\n      <td>96</td>\n      <td>10</td>\n      <td>3</td>\n      <td>2020</td>\n    </tr>\n    <tr>\n      <td>3</td>\n      <td>20062563</td>\n      <td>10/03/2020</td>\n      <td>177.0</td>\n      <td>Madrid</td>\n      <td>H</td>\n      <td>78</td>\n      <td>10</td>\n      <td>3</td>\n      <td>2020</td>\n    </tr>\n    <tr>\n      <td>4</td>\n      <td>20063795</td>\n      <td>12/03/2020</td>\n      <td>178.0</td>\n      <td>Madrid</td>\n      <td>H</td>\n      <td>85</td>\n      <td>12</td>\n      <td>3</td>\n      <td>2020</td>\n    </tr>\n  </tbody>\n</table>\n</div>"
     },
     "metadata": {},
     "execution_count": 315
    }
   ],
   "source": [
    "wgs.head()"
   ]
  },
  {
   "cell_type": "code",
   "execution_count": 316,
   "metadata": {},
   "outputs": [
    {
     "output_type": "execute_result",
     "data": {
      "text/plain": [
       "(1020, 9)"
      ]
     },
     "metadata": {},
     "execution_count": 316
    }
   ],
   "source": [
    "wgs.shape"
   ]
  },
  {
   "cell_type": "code",
   "execution_count": 317,
   "metadata": {},
   "outputs": [],
   "source": [
    "wgs['id'] = wgs['id'].astype(str)"
   ]
  },
  {
   "cell_type": "code",
   "execution_count": 318,
   "metadata": {},
   "outputs": [],
   "source": [
    "samples_wgs = wgs.id.tolist()\n",
    "#samples_wgs = [str(x) for x in samples_wgs]"
   ]
  },
  {
   "cell_type": "code",
   "execution_count": 319,
   "metadata": {},
   "outputs": [],
   "source": [
    "WGS = set(samples_wgs)\n",
    "PW = set(samples)"
   ]
  },
  {
   "cell_type": "code",
   "execution_count": 320,
   "metadata": {},
   "outputs": [
    {
     "output_type": "execute_result",
     "data": {
      "text/plain": [
       "829"
      ]
     },
     "metadata": {},
     "execution_count": 320
    }
   ],
   "source": [
    "len(PW)"
   ]
  },
  {
   "cell_type": "code",
   "execution_count": 321,
   "metadata": {},
   "outputs": [
    {
     "output_type": "execute_result",
     "data": {
      "text/plain": [
       "47"
      ]
     },
     "metadata": {},
     "execution_count": 321
    }
   ],
   "source": [
    "missing_wgs = list(PW - WGS)\n",
    "len(missing_wgs)"
   ]
  },
  {
   "cell_type": "code",
   "execution_count": 322,
   "metadata": {},
   "outputs": [
    {
     "output_type": "execute_result",
     "data": {
      "text/plain": [
       "{str: 47}"
      ]
     },
     "metadata": {},
     "execution_count": 322
    }
   ],
   "source": [
    "missing_wgs_type = [type(x) for x in missing_wgs]\n",
    "dict((x,missing_wgs_type.count(x)) for x in set(missing_wgs_type))"
   ]
  },
  {
   "cell_type": "code",
   "execution_count": 323,
   "metadata": {},
   "outputs": [
    {
     "output_type": "execute_result",
     "data": {
      "text/plain": [
       "144"
      ]
     },
     "metadata": {},
     "execution_count": 323
    }
   ],
   "source": [
    "missing_pw = list(WGS - PW)\n",
    "len(missing_pw)"
   ]
  },
  {
   "cell_type": "code",
   "execution_count": 324,
   "metadata": {},
   "outputs": [
    {
     "output_type": "execute_result",
     "data": {
      "text/plain": [
       "191"
      ]
     },
     "metadata": {},
     "execution_count": 324
    }
   ],
   "source": [
    "all_missing = missing_pw + missing_wgs\n",
    "len(all_missing)"
   ]
  },
  {
   "cell_type": "code",
   "execution_count": 325,
   "metadata": {},
   "outputs": [
    {
     "output_type": "execute_result",
     "data": {
      "text/plain": [
       "(1020, 9)"
      ]
     },
     "metadata": {},
     "execution_count": 325
    }
   ],
   "source": [
    "wgs.shape"
   ]
  },
  {
   "cell_type": "code",
   "execution_count": 326,
   "metadata": {},
   "outputs": [],
   "source": [
    "df = wgs[~wgs.id.isin(missing_pw)]"
   ]
  },
  {
   "cell_type": "code",
   "execution_count": 327,
   "metadata": {},
   "outputs": [
    {
     "output_type": "execute_result",
     "data": {
      "text/plain": [
       "(870, 9)"
      ]
     },
     "metadata": {},
     "execution_count": 327
    }
   ],
   "source": [
    "df.shape"
   ]
  },
  {
   "cell_type": "code",
   "execution_count": 328,
   "metadata": {},
   "outputs": [],
   "source": [
    "df2 = pd.DataFrame(missing_wgs, columns=['id'])"
   ]
  },
  {
   "cell_type": "code",
   "execution_count": 329,
   "metadata": {},
   "outputs": [],
   "source": [
    "df2['id'] = df2['id'].astype(str)"
   ]
  },
  {
   "cell_type": "code",
   "execution_count": 330,
   "metadata": {},
   "outputs": [
    {
     "output_type": "execute_result",
     "data": {
      "text/plain": [
       "           id\n",
       "0  20267855  \n",
       "1  20179107M \n",
       "2  20174144  \n",
       "3  20104985  \n",
       "4  20095471-5"
      ],
      "text/html": "<div>\n<style scoped>\n    .dataframe tbody tr th:only-of-type {\n        vertical-align: middle;\n    }\n\n    .dataframe tbody tr th {\n        vertical-align: top;\n    }\n\n    .dataframe thead th {\n        text-align: right;\n    }\n</style>\n<table border=\"1\" class=\"dataframe\">\n  <thead>\n    <tr style=\"text-align: right;\">\n      <th></th>\n      <th>id</th>\n    </tr>\n  </thead>\n  <tbody>\n    <tr>\n      <td>0</td>\n      <td>20267855</td>\n    </tr>\n    <tr>\n      <td>1</td>\n      <td>20179107M</td>\n    </tr>\n    <tr>\n      <td>2</td>\n      <td>20174144</td>\n    </tr>\n    <tr>\n      <td>3</td>\n      <td>20104985</td>\n    </tr>\n    <tr>\n      <td>4</td>\n      <td>20095471-5</td>\n    </tr>\n  </tbody>\n</table>\n</div>"
     },
     "metadata": {},
     "execution_count": 330
    }
   ],
   "source": [
    "df2.head()"
   ]
  },
  {
   "cell_type": "code",
   "execution_count": 331,
   "metadata": {},
   "outputs": [
    {
     "output_type": "execute_result",
     "data": {
      "text/plain": [
       "         id   full_date  patient__autocolor province__autocolor  \\\n",
       "0  20060161  09/03/2020  174.0               Madrid               \n",
       "1  20060178  09/03/2020  175.0               Madrid               \n",
       "2  20062236  10/03/2020  176.0               Madrid               \n",
       "3  20062563  10/03/2020  177.0               Madrid               \n",
       "4  20063795  12/03/2020  178.0               Madrid               \n",
       "\n",
       "  SEX__autocolor AGE__autocolor  day  month  year  \n",
       "0  H              84             9    3      2020  \n",
       "1  H              76             9    3      2020  \n",
       "2  M              96             10   3      2020  \n",
       "3  H              78             10   3      2020  \n",
       "4  H              85             12   3      2020  "
      ],
      "text/html": "<div>\n<style scoped>\n    .dataframe tbody tr th:only-of-type {\n        vertical-align: middle;\n    }\n\n    .dataframe tbody tr th {\n        vertical-align: top;\n    }\n\n    .dataframe thead th {\n        text-align: right;\n    }\n</style>\n<table border=\"1\" class=\"dataframe\">\n  <thead>\n    <tr style=\"text-align: right;\">\n      <th></th>\n      <th>id</th>\n      <th>full_date</th>\n      <th>patient__autocolor</th>\n      <th>province__autocolor</th>\n      <th>SEX__autocolor</th>\n      <th>AGE__autocolor</th>\n      <th>day</th>\n      <th>month</th>\n      <th>year</th>\n    </tr>\n  </thead>\n  <tbody>\n    <tr>\n      <td>0</td>\n      <td>20060161</td>\n      <td>09/03/2020</td>\n      <td>174.0</td>\n      <td>Madrid</td>\n      <td>H</td>\n      <td>84</td>\n      <td>9</td>\n      <td>3</td>\n      <td>2020</td>\n    </tr>\n    <tr>\n      <td>1</td>\n      <td>20060178</td>\n      <td>09/03/2020</td>\n      <td>175.0</td>\n      <td>Madrid</td>\n      <td>H</td>\n      <td>76</td>\n      <td>9</td>\n      <td>3</td>\n      <td>2020</td>\n    </tr>\n    <tr>\n      <td>2</td>\n      <td>20062236</td>\n      <td>10/03/2020</td>\n      <td>176.0</td>\n      <td>Madrid</td>\n      <td>M</td>\n      <td>96</td>\n      <td>10</td>\n      <td>3</td>\n      <td>2020</td>\n    </tr>\n    <tr>\n      <td>3</td>\n      <td>20062563</td>\n      <td>10/03/2020</td>\n      <td>177.0</td>\n      <td>Madrid</td>\n      <td>H</td>\n      <td>78</td>\n      <td>10</td>\n      <td>3</td>\n      <td>2020</td>\n    </tr>\n    <tr>\n      <td>4</td>\n      <td>20063795</td>\n      <td>12/03/2020</td>\n      <td>178.0</td>\n      <td>Madrid</td>\n      <td>H</td>\n      <td>85</td>\n      <td>12</td>\n      <td>3</td>\n      <td>2020</td>\n    </tr>\n  </tbody>\n</table>\n</div>"
     },
     "metadata": {},
     "execution_count": 331
    }
   ],
   "source": [
    "df.head()"
   ]
  },
  {
   "cell_type": "code",
   "execution_count": 332,
   "metadata": {},
   "outputs": [],
   "source": [
    "final_df = df.append(df2).reset_index(drop=True)\n",
    "final_df = final_df[ ['id', 'full_date', 'patient__autocolor', 'province__autocolor', 'SEX__autocolor',\n",
    "       'AGE__autocolor', 'day', 'month', 'year'] ]"
   ]
  },
  {
   "cell_type": "code",
   "execution_count": 333,
   "metadata": {},
   "outputs": [],
   "source": [
    "metadata = pd.read_csv('/home/laura/ANALYSIS/MISC/microreact/wgs_covid_metadata.csv')\n",
    "metadata['id'] = metadata['id'].astype(str)"
   ]
  },
  {
   "cell_type": "code",
   "execution_count": 334,
   "metadata": {},
   "outputs": [
    {
     "output_type": "execute_result",
     "data": {
      "text/plain": [
       "           id       DEPARTMENT__autocolor\n",
       "174  20261654  TRABAJADORES_GAP_MARANON_1\n",
       "175  20298004  MANTENIMIENTO             \n",
       "176  20298003  TRABAJADORES_GAP_MARANON_1\n",
       "177  20421509  UROLOGIA                  \n",
       "178  20431028  REINFECCION_RUN10         "
      ],
      "text/html": "<div>\n<style scoped>\n    .dataframe tbody tr th:only-of-type {\n        vertical-align: middle;\n    }\n\n    .dataframe tbody tr th {\n        vertical-align: top;\n    }\n\n    .dataframe thead th {\n        text-align: right;\n    }\n</style>\n<table border=\"1\" class=\"dataframe\">\n  <thead>\n    <tr style=\"text-align: right;\">\n      <th></th>\n      <th>id</th>\n      <th>DEPARTMENT__autocolor</th>\n    </tr>\n  </thead>\n  <tbody>\n    <tr>\n      <td>174</td>\n      <td>20261654</td>\n      <td>TRABAJADORES_GAP_MARANON_1</td>\n    </tr>\n    <tr>\n      <td>175</td>\n      <td>20298004</td>\n      <td>MANTENIMIENTO</td>\n    </tr>\n    <tr>\n      <td>176</td>\n      <td>20298003</td>\n      <td>TRABAJADORES_GAP_MARANON_1</td>\n    </tr>\n    <tr>\n      <td>177</td>\n      <td>20421509</td>\n      <td>UROLOGIA</td>\n    </tr>\n    <tr>\n      <td>178</td>\n      <td>20431028</td>\n      <td>REINFECCION_RUN10</td>\n    </tr>\n  </tbody>\n</table>\n</div>"
     },
     "metadata": {},
     "execution_count": 334
    }
   ],
   "source": [
    "metadata.tail()"
   ]
  },
  {
   "cell_type": "code",
   "execution_count": 335,
   "metadata": {},
   "outputs": [
    {
     "output_type": "stream",
     "name": "stdout",
     "text": [
      "<class 'pandas.core.frame.DataFrame'>\nRangeIndex: 179 entries, 0 to 178\nData columns (total 2 columns):\nid                       179 non-null object\nDEPARTMENT__autocolor    179 non-null object\ndtypes: object(2)\nmemory usage: 2.9+ KB\n"
     ]
    }
   ],
   "source": [
    "metadata.info()"
   ]
  },
  {
   "cell_type": "code",
   "execution_count": 336,
   "metadata": {},
   "outputs": [
    {
     "output_type": "stream",
     "name": "stdout",
     "text": [
      "<class 'pandas.core.frame.DataFrame'>\nRangeIndex: 917 entries, 0 to 916\nData columns (total 9 columns):\nid                     917 non-null object\nfull_date              870 non-null object\npatient__autocolor     788 non-null float64\nprovince__autocolor    870 non-null object\nSEX__autocolor         870 non-null object\nAGE__autocolor         869 non-null object\nday                    870 non-null float64\nmonth                  870 non-null float64\nyear                   870 non-null float64\ndtypes: float64(4), object(5)\nmemory usage: 64.6+ KB\n"
     ]
    }
   ],
   "source": [
    "final_df.info()"
   ]
  },
  {
   "cell_type": "code",
   "execution_count": 337,
   "metadata": {},
   "outputs": [],
   "source": [
    "final_df = final_df.fillna(0)\n",
    "final_df.day = final_df.day.astype('Int64')\n",
    "final_df.month = final_df.month.astype('Int64')\n",
    "final_df.year = final_df.year.astype('Int64')\n",
    "final_df.replace(0, np.nan, inplace=True)"
   ]
  },
  {
   "cell_type": "code",
   "execution_count": 338,
   "metadata": {},
   "outputs": [],
   "source": [
    "final_df = final_df.merge(metadata, how='outer')"
   ]
  },
  {
   "cell_type": "code",
   "execution_count": 339,
   "metadata": {},
   "outputs": [
    {
     "output_type": "stream",
     "name": "stdout",
     "text": [
      "<class 'pandas.core.frame.DataFrame'>\nInt64Index: 934 entries, 0 to 933\nData columns (total 10 columns):\nid                       934 non-null object\nfull_date                870 non-null object\npatient__autocolor       788 non-null float64\nprovince__autocolor      870 non-null object\nSEX__autocolor           870 non-null object\nAGE__autocolor           869 non-null object\nday                      870 non-null Int64\nmonth                    870 non-null Int64\nyear                     870 non-null Int64\nDEPARTMENT__autocolor    212 non-null object\ndtypes: Int64(3), float64(1), object(6)\nmemory usage: 83.0+ KB\n"
     ]
    }
   ],
   "source": [
    "final_df.info()"
   ]
  },
  {
   "cell_type": "code",
   "execution_count": 340,
   "metadata": {},
   "outputs": [
    {
     "output_type": "execute_result",
     "data": {
      "text/plain": [
       "              id full_date  patient__autocolor province__autocolor  \\\n",
       "929  20415500     NaN      NaN                  NaN                  \n",
       "930  20414667     NaN      NaN                  NaN                  \n",
       "931  20414667bis  NaN      NaN                  NaN                  \n",
       "932  20282399     NaN      NaN                  NaN                  \n",
       "933  20348931     NaN      NaN                  NaN                  \n",
       "\n",
       "    SEX__autocolor AGE__autocolor  day  month  year  \\\n",
       "929  NaN            NaN            NaN  NaN    NaN    \n",
       "930  NaN            NaN            NaN  NaN    NaN    \n",
       "931  NaN            NaN            NaN  NaN    NaN    \n",
       "932  NaN            NaN            NaN  NaN    NaN    \n",
       "933  NaN            NaN            NaN  NaN    NaN    \n",
       "\n",
       "          DEPARTMENT__autocolor  \n",
       "929  IPR                         \n",
       "930  IPR                         \n",
       "931  IPR                         \n",
       "932  TRABAJADORES_GAP_MARANON_1  \n",
       "933  TRAUMA                      "
      ],
      "text/html": "<div>\n<style scoped>\n    .dataframe tbody tr th:only-of-type {\n        vertical-align: middle;\n    }\n\n    .dataframe tbody tr th {\n        vertical-align: top;\n    }\n\n    .dataframe thead th {\n        text-align: right;\n    }\n</style>\n<table border=\"1\" class=\"dataframe\">\n  <thead>\n    <tr style=\"text-align: right;\">\n      <th></th>\n      <th>id</th>\n      <th>full_date</th>\n      <th>patient__autocolor</th>\n      <th>province__autocolor</th>\n      <th>SEX__autocolor</th>\n      <th>AGE__autocolor</th>\n      <th>day</th>\n      <th>month</th>\n      <th>year</th>\n      <th>DEPARTMENT__autocolor</th>\n    </tr>\n  </thead>\n  <tbody>\n    <tr>\n      <td>929</td>\n      <td>20415500</td>\n      <td>NaN</td>\n      <td>NaN</td>\n      <td>NaN</td>\n      <td>NaN</td>\n      <td>NaN</td>\n      <td>NaN</td>\n      <td>NaN</td>\n      <td>NaN</td>\n      <td>IPR</td>\n    </tr>\n    <tr>\n      <td>930</td>\n      <td>20414667</td>\n      <td>NaN</td>\n      <td>NaN</td>\n      <td>NaN</td>\n      <td>NaN</td>\n      <td>NaN</td>\n      <td>NaN</td>\n      <td>NaN</td>\n      <td>NaN</td>\n      <td>IPR</td>\n    </tr>\n    <tr>\n      <td>931</td>\n      <td>20414667bis</td>\n      <td>NaN</td>\n      <td>NaN</td>\n      <td>NaN</td>\n      <td>NaN</td>\n      <td>NaN</td>\n      <td>NaN</td>\n      <td>NaN</td>\n      <td>NaN</td>\n      <td>IPR</td>\n    </tr>\n    <tr>\n      <td>932</td>\n      <td>20282399</td>\n      <td>NaN</td>\n      <td>NaN</td>\n      <td>NaN</td>\n      <td>NaN</td>\n      <td>NaN</td>\n      <td>NaN</td>\n      <td>NaN</td>\n      <td>NaN</td>\n      <td>TRABAJADORES_GAP_MARANON_1</td>\n    </tr>\n    <tr>\n      <td>933</td>\n      <td>20348931</td>\n      <td>NaN</td>\n      <td>NaN</td>\n      <td>NaN</td>\n      <td>NaN</td>\n      <td>NaN</td>\n      <td>NaN</td>\n      <td>NaN</td>\n      <td>NaN</td>\n      <td>TRAUMA</td>\n    </tr>\n  </tbody>\n</table>\n</div>"
     },
     "metadata": {},
     "execution_count": 340
    }
   ],
   "source": [
    "final_df.tail()"
   ]
  },
  {
   "cell_type": "code",
   "execution_count": 341,
   "metadata": {},
   "outputs": [],
   "source": [
    "def extract_lineage(sample):\n",
    "    pango_file = os.path.join('/home/laura/ANALYSIS/VARIANT_CALLING/COVID/Annotation/pangolin', str(sample) + \".lineage.csv\")\n",
    "    if os.path.exists(pango_file):\n",
    "        df = pd.read_csv(pango_file)\n",
    "        return df.lineage[0]\n",
    "    else:\n",
    "        return None"
   ]
  },
  {
   "cell_type": "code",
   "execution_count": 342,
   "metadata": {},
   "outputs": [],
   "source": [
    "final_df['Lineage__autocolor'] = final_df.apply(lambda x: extract_lineage(x['id']), axis=1)"
   ]
  },
  {
   "cell_type": "code",
   "execution_count": 461,
   "metadata": {},
   "outputs": [],
   "source": [
    "def extract_EU(sample):\n",
    "    eu_file = os.path.join('/home/laura/ANALYSIS/VARIANT_CALLING/COVID/Annotation/user', str(sample) + \".tsv\")\n",
    "    if os.path.exists(eu_file):\n",
    "        df = pd.read_csv(eu_file, sep=\"\\t\")\n",
    "        if 'EU1EU2' in df.columns:\n",
    "            eulist = df.EU1EU2.dropna().tolist()\n",
    "        return (',').join([(x + \"-\" + str(eulist.count(x))) for x in set(eulist)])\n",
    "    else:\n",
    "        return None"
   ]
  },
  {
   "cell_type": "code",
   "execution_count": 462,
   "metadata": {},
   "outputs": [],
   "source": [
    "final_df['EU1EU2__autocolor'] = final_df.apply(lambda x: extract_EU(x['id']), axis=1)"
   ]
  },
  {
   "cell_type": "code",
   "execution_count": 465,
   "metadata": {},
   "outputs": [],
   "source": [
    "def extract_faulty(sample):\n",
    "    sample_report = os.path.join(compare_folder, \"report_samples.tsv\")\n",
    "    df = pd.read_csv(sample_report, sep=\"\\t\")\n",
    "    df['sample'] = df['sample'].astype(str)\n",
    "    if str(sample) in df['sample'].values:\n",
    "        return round(df[df['sample'] == str(sample)]['faulty_frac'].values[0], 3)\n",
    "    else:\n",
    "        return None"
   ]
  },
  {
   "cell_type": "code",
   "execution_count": 466,
   "metadata": {},
   "outputs": [],
   "source": [
    "final_df['FaultyFraction__autocolor'] = final_df.apply(lambda x: extract_faulty(x['id']), axis=1)"
   ]
  },
  {
   "cell_type": "code",
   "execution_count": 467,
   "metadata": {},
   "outputs": [],
   "source": [
    "#query_dario = [20242010,20242093,20242702,20247604,20247878,20250481,20250983,20253374,20253475,20253522,20253595,20255027,20255086,20255313,20255524,20255685,20255915,20255928,20258070,20258214,20258238,20258322,20258440,20261662,20263252,20265521,20267856,20269026,20269341,20269791,20272101,20272242,20273792,20274440,20277245,20277326,20279174,20279180,20279189,20279243,20279283,20286667,20286864,20286872,20288207,20289563,20303453]\n",
    "#query_dario = [str(x) for x in query_dario]\n"
   ]
  },
  {
   "cell_type": "code",
   "execution_count": 468,
   "metadata": {},
   "outputs": [],
   "source": [
    "#final_df['Dario__autocolor'] = final_df.apply(lambda x: x['id'] in query_dario, axis=1)\n"
   ]
  },
  {
   "cell_type": "code",
   "execution_count": 345,
   "metadata": {},
   "outputs": [],
   "source": [
    "before_june = final_df[final_df.month < 6]['id'].tolist()\n",
    "before_june = [str(x) for x in before_june]\n",
    "final_df['before_june_2020__autocolor'] = final_df.apply(lambda x: x['id'] in before_june, axis=1)"
   ]
  },
  {
   "cell_type": "code",
   "execution_count": 469,
   "metadata": {},
   "outputs": [],
   "source": [
    "final_df = final_df.drop_duplicates(subset=['id'], keep=\"first\")\n",
    "out_file = os.path.join(compare_folder, 'wgs_microreact.csv')\n",
    "final_df.to_csv(out_file, index=False)"
   ]
  },
  {
   "cell_type": "code",
   "execution_count": 470,
   "metadata": {},
   "outputs": [
    {
     "output_type": "execute_result",
     "data": {
      "text/plain": [
       "         id   full_date  patient__autocolor province__autocolor  \\\n",
       "0  20060161  09/03/2020  174.0               Madrid               \n",
       "1  20060178  09/03/2020  175.0               Madrid               \n",
       "2  20062236  10/03/2020  176.0               Madrid               \n",
       "3  20062563  10/03/2020  177.0               Madrid               \n",
       "4  20063795  12/03/2020  178.0               Madrid               \n",
       "\n",
       "  SEX__autocolor AGE__autocolor  day  month  year DEPARTMENT__autocolor  \\\n",
       "0  H              84             9    3      2020  NaN                    \n",
       "1  H              76             9    3      2020  NaN                    \n",
       "2  M              96             10   3      2020  NaN                    \n",
       "3  H              78             10   3      2020  NaN                    \n",
       "4  H              85             12   3      2020  NaN                    \n",
       "\n",
       "  Lineage__autocolor  before_june_2020__autocolor EU1EU2__autocolor  \\\n",
       "0  A                  True                                            \n",
       "1  A                  True                                            \n",
       "2  B.2                True                                            \n",
       "3  B.1.5              True                                            \n",
       "4  A.5                True                                            \n",
       "\n",
       "   FaultyFraction__autocolor  \n",
       "0  0.005                      \n",
       "1  0.004                      \n",
       "2  0.001                      \n",
       "3  0.002                      \n",
       "4  0.001                      "
      ],
      "text/html": "<div>\n<style scoped>\n    .dataframe tbody tr th:only-of-type {\n        vertical-align: middle;\n    }\n\n    .dataframe tbody tr th {\n        vertical-align: top;\n    }\n\n    .dataframe thead th {\n        text-align: right;\n    }\n</style>\n<table border=\"1\" class=\"dataframe\">\n  <thead>\n    <tr style=\"text-align: right;\">\n      <th></th>\n      <th>id</th>\n      <th>full_date</th>\n      <th>patient__autocolor</th>\n      <th>province__autocolor</th>\n      <th>SEX__autocolor</th>\n      <th>AGE__autocolor</th>\n      <th>day</th>\n      <th>month</th>\n      <th>year</th>\n      <th>DEPARTMENT__autocolor</th>\n      <th>Lineage__autocolor</th>\n      <th>before_june_2020__autocolor</th>\n      <th>EU1EU2__autocolor</th>\n      <th>FaultyFraction__autocolor</th>\n    </tr>\n  </thead>\n  <tbody>\n    <tr>\n      <td>0</td>\n      <td>20060161</td>\n      <td>09/03/2020</td>\n      <td>174.0</td>\n      <td>Madrid</td>\n      <td>H</td>\n      <td>84</td>\n      <td>9</td>\n      <td>3</td>\n      <td>2020</td>\n      <td>NaN</td>\n      <td>A</td>\n      <td>True</td>\n      <td></td>\n      <td>0.005</td>\n    </tr>\n    <tr>\n      <td>1</td>\n      <td>20060178</td>\n      <td>09/03/2020</td>\n      <td>175.0</td>\n      <td>Madrid</td>\n      <td>H</td>\n      <td>76</td>\n      <td>9</td>\n      <td>3</td>\n      <td>2020</td>\n      <td>NaN</td>\n      <td>A</td>\n      <td>True</td>\n      <td></td>\n      <td>0.004</td>\n    </tr>\n    <tr>\n      <td>2</td>\n      <td>20062236</td>\n      <td>10/03/2020</td>\n      <td>176.0</td>\n      <td>Madrid</td>\n      <td>M</td>\n      <td>96</td>\n      <td>10</td>\n      <td>3</td>\n      <td>2020</td>\n      <td>NaN</td>\n      <td>B.2</td>\n      <td>True</td>\n      <td></td>\n      <td>0.001</td>\n    </tr>\n    <tr>\n      <td>3</td>\n      <td>20062563</td>\n      <td>10/03/2020</td>\n      <td>177.0</td>\n      <td>Madrid</td>\n      <td>H</td>\n      <td>78</td>\n      <td>10</td>\n      <td>3</td>\n      <td>2020</td>\n      <td>NaN</td>\n      <td>B.1.5</td>\n      <td>True</td>\n      <td></td>\n      <td>0.002</td>\n    </tr>\n    <tr>\n      <td>4</td>\n      <td>20063795</td>\n      <td>12/03/2020</td>\n      <td>178.0</td>\n      <td>Madrid</td>\n      <td>H</td>\n      <td>85</td>\n      <td>12</td>\n      <td>3</td>\n      <td>2020</td>\n      <td>NaN</td>\n      <td>A.5</td>\n      <td>True</td>\n      <td></td>\n      <td>0.001</td>\n    </tr>\n  </tbody>\n</table>\n</div>"
     },
     "metadata": {},
     "execution_count": 470
    }
   ],
   "source": [
    "final_df.head()"
   ]
  },
  {
   "cell_type": "code",
   "execution_count": null,
   "metadata": {},
   "outputs": [],
   "source": []
  }
 ]
}