{
 "metadata": {
  "language_info": {
   "codemirror_mode": {
    "name": "ipython",
    "version": 3
   },
   "file_extension": ".py",
   "mimetype": "text/x-python",
   "name": "python",
   "nbconvert_exporter": "python",
   "pygments_lexer": "ipython3",
   "version": "3.7.4-final"
  },
  "orig_nbformat": 2,
  "kernelspec": {
   "name": "Python 3.7.4 64-bit ('anaconda3': virtualenv)",
   "display_name": "Python 3.7.4 64-bit ('anaconda3': virtualenv)",
   "metadata": {
    "interpreter": {
     "hash": "895b43306824f909dd8fc0fe81781e0d62fee5aa42332456ee4a77314d01a104"
    }
   }
  }
 },
 "nbformat": 4,
 "nbformat_minor": 2,
 "cells": [
  {
   "cell_type": "code",
   "execution_count": 1,
   "metadata": {},
   "outputs": [],
   "source": [
    "import os\n",
    "import pandas as pd\n",
    "import numpy as np\n",
    "import re\n",
    "\n",
    "pd.set_option('display.max_columns', None)\n",
    "pd.set_option('display.max_rows', None)\n",
    "pd.set_option('display.max_colwidth', -1)"
   ]
  },
  {
   "cell_type": "code",
   "execution_count": 2,
   "metadata": {},
   "outputs": [],
   "source": [
    "pwdf = pd.read_csv('/home/laura/ANALYSIS/VARIANT_CALLING/COVID/Compare/2020-10-30_Compare_rush/2020-10-30_Compare_rush.snp.pairwise.tsv', sep=\"\\t\" , names=['sample_1', 'sample_2', 'dist'])"
   ]
  },
  {
   "cell_type": "code",
   "execution_count": 3,
   "metadata": {},
   "outputs": [
    {
     "output_type": "execute_result",
     "data": {
      "text/plain": [
       "   sample_1  sample_2  dist\n",
       "0  20069944  20069944  0   \n",
       "1  20069944  20069551  16  \n",
       "2  20069944  20091271  2   \n",
       "3  20069944  20081614  11  \n",
       "4  20069944  20267853  9   "
      ],
      "text/html": "<div>\n<style scoped>\n    .dataframe tbody tr th:only-of-type {\n        vertical-align: middle;\n    }\n\n    .dataframe tbody tr th {\n        vertical-align: top;\n    }\n\n    .dataframe thead th {\n        text-align: right;\n    }\n</style>\n<table border=\"1\" class=\"dataframe\">\n  <thead>\n    <tr style=\"text-align: right;\">\n      <th></th>\n      <th>sample_1</th>\n      <th>sample_2</th>\n      <th>dist</th>\n    </tr>\n  </thead>\n  <tbody>\n    <tr>\n      <td>0</td>\n      <td>20069944</td>\n      <td>20069944</td>\n      <td>0</td>\n    </tr>\n    <tr>\n      <td>1</td>\n      <td>20069944</td>\n      <td>20069551</td>\n      <td>16</td>\n    </tr>\n    <tr>\n      <td>2</td>\n      <td>20069944</td>\n      <td>20091271</td>\n      <td>2</td>\n    </tr>\n    <tr>\n      <td>3</td>\n      <td>20069944</td>\n      <td>20081614</td>\n      <td>11</td>\n    </tr>\n    <tr>\n      <td>4</td>\n      <td>20069944</td>\n      <td>20267853</td>\n      <td>9</td>\n    </tr>\n  </tbody>\n</table>\n</div>"
     },
     "metadata": {},
     "execution_count": 3
    }
   ],
   "source": [
    "pwdf.head()"
   ]
  },
  {
   "cell_type": "code",
   "execution_count": 4,
   "metadata": {},
   "outputs": [
    {
     "output_type": "stream",
     "name": "stdout",
     "text": [
      "<class 'pandas.core.frame.DataFrame'>\nRangeIndex: 524176 entries, 0 to 524175\nData columns (total 3 columns):\nsample_1    524176 non-null object\nsample_2    524176 non-null object\ndist        524176 non-null int64\ndtypes: int64(1), object(2)\nmemory usage: 12.0+ MB\n"
     ]
    }
   ],
   "source": [
    "pwdf.info()"
   ]
  },
  {
   "cell_type": "code",
   "execution_count": 5,
   "metadata": {},
   "outputs": [],
   "source": [
    "samples = list(set(pwdf.sample_1.tolist()))"
   ]
  },
  {
   "cell_type": "code",
   "execution_count": 6,
   "metadata": {},
   "outputs": [
    {
     "output_type": "execute_result",
     "data": {
      "text/plain": [
       "724"
      ]
     },
     "metadata": {},
     "execution_count": 6
    }
   ],
   "source": [
    "len(samples)"
   ]
  },
  {
   "cell_type": "code",
   "execution_count": 7,
   "metadata": {},
   "outputs": [
    {
     "output_type": "execute_result",
     "data": {
      "text/plain": [
       "['20371405', '20069966', '20326476', '20358289', '20371315']"
      ]
     },
     "metadata": {},
     "execution_count": 7
    }
   ],
   "source": [
    "samples[0:5]"
   ]
  },
  {
   "cell_type": "code",
   "execution_count": 40,
   "metadata": {},
   "outputs": [],
   "source": [
    "wgs = pd.read_csv('/home/laura/ANALYSIS/MISC/microreact/WGS_COVID.csv')"
   ]
  },
  {
   "cell_type": "code",
   "execution_count": 41,
   "metadata": {},
   "outputs": [
    {
     "output_type": "execute_result",
     "data": {
      "text/plain": [
       "         id   full_date  patient province__autocolor SEX__autocolor  \\\n",
       "0  20060161  09/03/2020  174      Madrid              H               \n",
       "1  20060178  09/03/2020  175      Madrid              H               \n",
       "2  20062236  10/03/2020  176      Madrid              M               \n",
       "3  20062563  10/03/2020  177      Madrid              H               \n",
       "4  20063795  12/03/2020  178      Madrid              H               \n",
       "\n",
       "  AGE__autocolor  day  month  year  \n",
       "0  84             9    3      2020  \n",
       "1  76             9    3      2020  \n",
       "2  96             10   3      2020  \n",
       "3  78             10   3      2020  \n",
       "4  85             12   3      2020  "
      ],
      "text/html": "<div>\n<style scoped>\n    .dataframe tbody tr th:only-of-type {\n        vertical-align: middle;\n    }\n\n    .dataframe tbody tr th {\n        vertical-align: top;\n    }\n\n    .dataframe thead th {\n        text-align: right;\n    }\n</style>\n<table border=\"1\" class=\"dataframe\">\n  <thead>\n    <tr style=\"text-align: right;\">\n      <th></th>\n      <th>id</th>\n      <th>full_date</th>\n      <th>patient</th>\n      <th>province__autocolor</th>\n      <th>SEX__autocolor</th>\n      <th>AGE__autocolor</th>\n      <th>day</th>\n      <th>month</th>\n      <th>year</th>\n    </tr>\n  </thead>\n  <tbody>\n    <tr>\n      <td>0</td>\n      <td>20060161</td>\n      <td>09/03/2020</td>\n      <td>174</td>\n      <td>Madrid</td>\n      <td>H</td>\n      <td>84</td>\n      <td>9</td>\n      <td>3</td>\n      <td>2020</td>\n    </tr>\n    <tr>\n      <td>1</td>\n      <td>20060178</td>\n      <td>09/03/2020</td>\n      <td>175</td>\n      <td>Madrid</td>\n      <td>H</td>\n      <td>76</td>\n      <td>9</td>\n      <td>3</td>\n      <td>2020</td>\n    </tr>\n    <tr>\n      <td>2</td>\n      <td>20062236</td>\n      <td>10/03/2020</td>\n      <td>176</td>\n      <td>Madrid</td>\n      <td>M</td>\n      <td>96</td>\n      <td>10</td>\n      <td>3</td>\n      <td>2020</td>\n    </tr>\n    <tr>\n      <td>3</td>\n      <td>20062563</td>\n      <td>10/03/2020</td>\n      <td>177</td>\n      <td>Madrid</td>\n      <td>H</td>\n      <td>78</td>\n      <td>10</td>\n      <td>3</td>\n      <td>2020</td>\n    </tr>\n    <tr>\n      <td>4</td>\n      <td>20063795</td>\n      <td>12/03/2020</td>\n      <td>178</td>\n      <td>Madrid</td>\n      <td>H</td>\n      <td>85</td>\n      <td>12</td>\n      <td>3</td>\n      <td>2020</td>\n    </tr>\n  </tbody>\n</table>\n</div>"
     },
     "metadata": {},
     "execution_count": 41
    }
   ],
   "source": [
    "wgs.head()"
   ]
  },
  {
   "cell_type": "code",
   "execution_count": 10,
   "metadata": {},
   "outputs": [
    {
     "output_type": "execute_result",
     "data": {
      "text/plain": [
       "(644, 9)"
      ]
     },
     "metadata": {},
     "execution_count": 10
    }
   ],
   "source": [
    "wgs.shape"
   ]
  },
  {
   "cell_type": "code",
   "execution_count": 11,
   "metadata": {},
   "outputs": [],
   "source": [
    "samples_wgs = wgs.id.tolist()"
   ]
  },
  {
   "cell_type": "code",
   "execution_count": 12,
   "metadata": {},
   "outputs": [],
   "source": [
    "WGS = set(samples_wgs)\n",
    "PW = set(samples)"
   ]
  },
  {
   "cell_type": "code",
   "execution_count": 13,
   "metadata": {},
   "outputs": [
    {
     "output_type": "execute_result",
     "data": {
      "text/plain": [
       "724"
      ]
     },
     "metadata": {},
     "execution_count": 13
    }
   ],
   "source": [
    "len(PW)"
   ]
  },
  {
   "cell_type": "code",
   "execution_count": 14,
   "metadata": {},
   "outputs": [
    {
     "output_type": "execute_result",
     "data": {
      "text/plain": [
       "202"
      ]
     },
     "metadata": {},
     "execution_count": 14
    }
   ],
   "source": [
    "missing_wgs = list(PW - WGS)\n",
    "len(missing_wgs)"
   ]
  },
  {
   "cell_type": "code",
   "execution_count": 15,
   "metadata": {},
   "outputs": [
    {
     "output_type": "execute_result",
     "data": {
      "text/plain": [
       "122"
      ]
     },
     "metadata": {},
     "execution_count": 15
    }
   ],
   "source": [
    "missing_pw = list(WGS - PW)\n",
    "len(missing_pw)"
   ]
  },
  {
   "cell_type": "code",
   "execution_count": 16,
   "metadata": {},
   "outputs": [
    {
     "output_type": "execute_result",
     "data": {
      "text/plain": [
       "324"
      ]
     },
     "metadata": {},
     "execution_count": 16
    }
   ],
   "source": [
    "all_missing = missing_pw + missing_wgs\n",
    "len(all_missing)"
   ]
  },
  {
   "cell_type": "code",
   "execution_count": 17,
   "metadata": {},
   "outputs": [
    {
     "output_type": "execute_result",
     "data": {
      "text/plain": [
       "(644, 9)"
      ]
     },
     "metadata": {},
     "execution_count": 17
    }
   ],
   "source": [
    "wgs.shape"
   ]
  },
  {
   "cell_type": "code",
   "execution_count": 42,
   "metadata": {},
   "outputs": [],
   "source": [
    "df = wgs[~wgs.id.isin(missing_pw)]"
   ]
  },
  {
   "cell_type": "code",
   "execution_count": 19,
   "metadata": {},
   "outputs": [
    {
     "output_type": "execute_result",
     "data": {
      "text/plain": [
       "(522, 9)"
      ]
     },
     "metadata": {},
     "execution_count": 19
    }
   ],
   "source": [
    "df.shape"
   ]
  },
  {
   "cell_type": "code",
   "execution_count": 43,
   "metadata": {},
   "outputs": [],
   "source": [
    "df2 = pd.DataFrame(missing_wgs, columns=['id'])"
   ]
  },
  {
   "cell_type": "code",
   "execution_count": 21,
   "metadata": {},
   "outputs": [
    {
     "output_type": "execute_result",
     "data": {
      "text/plain": [
       "         id\n",
       "0  20371405\n",
       "1  20411920\n",
       "2  20371315\n",
       "3  20214753\n",
       "4  20358933"
      ],
      "text/html": "<div>\n<style scoped>\n    .dataframe tbody tr th:only-of-type {\n        vertical-align: middle;\n    }\n\n    .dataframe tbody tr th {\n        vertical-align: top;\n    }\n\n    .dataframe thead th {\n        text-align: right;\n    }\n</style>\n<table border=\"1\" class=\"dataframe\">\n  <thead>\n    <tr style=\"text-align: right;\">\n      <th></th>\n      <th>id</th>\n    </tr>\n  </thead>\n  <tbody>\n    <tr>\n      <td>0</td>\n      <td>20371405</td>\n    </tr>\n    <tr>\n      <td>1</td>\n      <td>20411920</td>\n    </tr>\n    <tr>\n      <td>2</td>\n      <td>20371315</td>\n    </tr>\n    <tr>\n      <td>3</td>\n      <td>20214753</td>\n    </tr>\n    <tr>\n      <td>4</td>\n      <td>20358933</td>\n    </tr>\n  </tbody>\n</table>\n</div>"
     },
     "metadata": {},
     "execution_count": 21
    }
   ],
   "source": [
    "df2.head()"
   ]
  },
  {
   "cell_type": "code",
   "execution_count": 22,
   "metadata": {},
   "outputs": [
    {
     "output_type": "execute_result",
     "data": {
      "text/plain": [
       "         id   full_date  patient province__autocolor SEX__autocolor  \\\n",
       "2  20062236  10/03/2020  176      Madrid              M               \n",
       "3  20062563  10/03/2020  177      Madrid              H               \n",
       "4  20063795  12/03/2020  178      Madrid              H               \n",
       "5  20066054  13/03/2020  179      Madrid              H               \n",
       "6  20066411  15/03/2020  180      Madrid              H               \n",
       "\n",
       "  AGE__autocolor  day  month  year  \n",
       "2  96             10   3      2020  \n",
       "3  78             10   3      2020  \n",
       "4  85             12   3      2020  \n",
       "5  90             13   3      2020  \n",
       "6  78             15   3      2020  "
      ],
      "text/html": "<div>\n<style scoped>\n    .dataframe tbody tr th:only-of-type {\n        vertical-align: middle;\n    }\n\n    .dataframe tbody tr th {\n        vertical-align: top;\n    }\n\n    .dataframe thead th {\n        text-align: right;\n    }\n</style>\n<table border=\"1\" class=\"dataframe\">\n  <thead>\n    <tr style=\"text-align: right;\">\n      <th></th>\n      <th>id</th>\n      <th>full_date</th>\n      <th>patient</th>\n      <th>province__autocolor</th>\n      <th>SEX__autocolor</th>\n      <th>AGE__autocolor</th>\n      <th>day</th>\n      <th>month</th>\n      <th>year</th>\n    </tr>\n  </thead>\n  <tbody>\n    <tr>\n      <td>2</td>\n      <td>20062236</td>\n      <td>10/03/2020</td>\n      <td>176</td>\n      <td>Madrid</td>\n      <td>M</td>\n      <td>96</td>\n      <td>10</td>\n      <td>3</td>\n      <td>2020</td>\n    </tr>\n    <tr>\n      <td>3</td>\n      <td>20062563</td>\n      <td>10/03/2020</td>\n      <td>177</td>\n      <td>Madrid</td>\n      <td>H</td>\n      <td>78</td>\n      <td>10</td>\n      <td>3</td>\n      <td>2020</td>\n    </tr>\n    <tr>\n      <td>4</td>\n      <td>20063795</td>\n      <td>12/03/2020</td>\n      <td>178</td>\n      <td>Madrid</td>\n      <td>H</td>\n      <td>85</td>\n      <td>12</td>\n      <td>3</td>\n      <td>2020</td>\n    </tr>\n    <tr>\n      <td>5</td>\n      <td>20066054</td>\n      <td>13/03/2020</td>\n      <td>179</td>\n      <td>Madrid</td>\n      <td>H</td>\n      <td>90</td>\n      <td>13</td>\n      <td>3</td>\n      <td>2020</td>\n    </tr>\n    <tr>\n      <td>6</td>\n      <td>20066411</td>\n      <td>15/03/2020</td>\n      <td>180</td>\n      <td>Madrid</td>\n      <td>H</td>\n      <td>78</td>\n      <td>15</td>\n      <td>3</td>\n      <td>2020</td>\n    </tr>\n  </tbody>\n</table>\n</div>"
     },
     "metadata": {},
     "execution_count": 22
    }
   ],
   "source": [
    "df.head()"
   ]
  },
  {
   "cell_type": "code",
   "execution_count": 23,
   "metadata": {},
   "outputs": [
    {
     "output_type": "stream",
     "name": "stdout",
     "text": [
      "<class 'pandas.core.frame.DataFrame'>\nInt64Index: 522 entries, 2 to 643\nData columns (total 9 columns):\nid                     522 non-null object\nfull_date              522 non-null object\npatient                522 non-null int64\nprovince__autocolor    522 non-null object\nSEX__autocolor         522 non-null object\nAGE__autocolor         522 non-null object\nday                    522 non-null int64\nmonth                  522 non-null int64\nyear                   522 non-null int64\ndtypes: int64(4), object(5)\nmemory usage: 40.8+ KB\n"
     ]
    }
   ],
   "source": [
    "df.info()"
   ]
  },
  {
   "cell_type": "code",
   "execution_count": 44,
   "metadata": {},
   "outputs": [],
   "source": [
    "final_df = df.append(df2).reset_index(drop=True)\n",
    "final_df = final_df[ ['id', 'full_date', 'patient', 'province__autocolor', 'SEX__autocolor',\n",
    "       'AGE__autocolor', 'day', 'month', 'year'] ]"
   ]
  },
  {
   "cell_type": "code",
   "execution_count": 25,
   "metadata": {},
   "outputs": [
    {
     "output_type": "stream",
     "name": "stdout",
     "text": [
      "<class 'pandas.core.frame.DataFrame'>\nRangeIndex: 724 entries, 0 to 723\nData columns (total 9 columns):\nid                     724 non-null object\nfull_date              522 non-null object\npatient                522 non-null float64\nprovince__autocolor    522 non-null object\nSEX__autocolor         522 non-null object\nAGE__autocolor         522 non-null object\nday                    522 non-null float64\nmonth                  522 non-null float64\nyear                   522 non-null float64\ndtypes: float64(4), object(5)\nmemory usage: 51.0+ KB\n"
     ]
    }
   ],
   "source": [
    "final_df.info()"
   ]
  },
  {
   "cell_type": "code",
   "execution_count": 45,
   "metadata": {},
   "outputs": [],
   "source": [
    "metadata = pd.read_csv('/home/laura/ANALYSIS/MISC/microreact/wgs_covid_metadata.csv')"
   ]
  },
  {
   "cell_type": "code",
   "execution_count": 46,
   "metadata": {},
   "outputs": [
    {
     "output_type": "execute_result",
     "data": {
      "text/plain": [
       "           id DEPARTMENT__autocolor\n",
       "124  20398287  Nefro               \n",
       "125  20395433  Nefro               \n",
       "126  20365524  Nefro               \n",
       "127  20092763  Reinfeccion_run9    \n",
       "128  20411524  Reinfeccion_run9    "
      ],
      "text/html": "<div>\n<style scoped>\n    .dataframe tbody tr th:only-of-type {\n        vertical-align: middle;\n    }\n\n    .dataframe tbody tr th {\n        vertical-align: top;\n    }\n\n    .dataframe thead th {\n        text-align: right;\n    }\n</style>\n<table border=\"1\" class=\"dataframe\">\n  <thead>\n    <tr style=\"text-align: right;\">\n      <th></th>\n      <th>id</th>\n      <th>DEPARTMENT__autocolor</th>\n    </tr>\n  </thead>\n  <tbody>\n    <tr>\n      <td>124</td>\n      <td>20398287</td>\n      <td>Nefro</td>\n    </tr>\n    <tr>\n      <td>125</td>\n      <td>20395433</td>\n      <td>Nefro</td>\n    </tr>\n    <tr>\n      <td>126</td>\n      <td>20365524</td>\n      <td>Nefro</td>\n    </tr>\n    <tr>\n      <td>127</td>\n      <td>20092763</td>\n      <td>Reinfeccion_run9</td>\n    </tr>\n    <tr>\n      <td>128</td>\n      <td>20411524</td>\n      <td>Reinfeccion_run9</td>\n    </tr>\n  </tbody>\n</table>\n</div>"
     },
     "metadata": {},
     "execution_count": 46
    }
   ],
   "source": [
    "metadata.tail()"
   ]
  },
  {
   "cell_type": "code",
   "execution_count": 29,
   "metadata": {},
   "outputs": [
    {
     "output_type": "stream",
     "name": "stdout",
     "text": [
      "<class 'pandas.core.frame.DataFrame'>\nRangeIndex: 130 entries, 0 to 129\nData columns (total 2 columns):\nid                       130 non-null object\nDEPARTMENT__autocolor    130 non-null object\ndtypes: object(2)\nmemory usage: 2.2+ KB\n"
     ]
    }
   ],
   "source": [
    "metadata.info()"
   ]
  },
  {
   "cell_type": "code",
   "execution_count": 30,
   "metadata": {},
   "outputs": [
    {
     "output_type": "stream",
     "name": "stdout",
     "text": [
      "<class 'pandas.core.frame.DataFrame'>\nRangeIndex: 724 entries, 0 to 723\nData columns (total 9 columns):\nid                     724 non-null object\nfull_date              522 non-null object\npatient                522 non-null float64\nprovince__autocolor    522 non-null object\nSEX__autocolor         522 non-null object\nAGE__autocolor         522 non-null object\nday                    522 non-null float64\nmonth                  522 non-null float64\nyear                   522 non-null float64\ndtypes: float64(4), object(5)\nmemory usage: 51.0+ KB\n"
     ]
    }
   ],
   "source": [
    "final_df.info()"
   ]
  },
  {
   "cell_type": "code",
   "execution_count": 47,
   "metadata": {},
   "outputs": [],
   "source": [
    "final_df = final_df.fillna(0)\n",
    "final_df.day = final_df.day.astype('Int64')\n",
    "final_df.month = final_df.month.astype('Int64')\n",
    "final_df.year = final_df.year.astype('Int64')\n",
    "final_df.replace(0, np.nan, inplace=True)"
   ]
  },
  {
   "cell_type": "code",
   "execution_count": 48,
   "metadata": {},
   "outputs": [],
   "source": [
    "final_df = final_df.merge(metadata, how='outer')"
   ]
  },
  {
   "cell_type": "code",
   "execution_count": 33,
   "metadata": {},
   "outputs": [
    {
     "output_type": "stream",
     "name": "stdout",
     "text": [
      "<class 'pandas.core.frame.DataFrame'>\nInt64Index: 738 entries, 0 to 737\nData columns (total 10 columns):\nid                       738 non-null object\nfull_date                522 non-null object\npatient                  522 non-null float64\nprovince__autocolor      522 non-null object\nSEX__autocolor           522 non-null object\nAGE__autocolor           522 non-null object\nday                      522 non-null Int64\nmonth                    522 non-null Int64\nyear                     522 non-null Int64\nDEPARTMENT__autocolor    130 non-null object\ndtypes: Int64(3), float64(1), object(6)\nmemory usage: 65.6+ KB\n"
     ]
    }
   ],
   "source": [
    "final_df.info()"
   ]
  },
  {
   "cell_type": "code",
   "execution_count": 49,
   "metadata": {},
   "outputs": [
    {
     "output_type": "execute_result",
     "data": {
      "text/plain": [
       "           id full_date  patient province__autocolor SEX__autocolor  \\\n",
       "732  20389861  NaN      NaN       NaN                 NaN             \n",
       "733  20247923  NaN      NaN       NaN                 NaN             \n",
       "734  20395396  NaN      NaN       NaN                 NaN             \n",
       "735  20389969  NaN      NaN       NaN                 NaN             \n",
       "736  20092763  NaN      NaN       NaN                 NaN             \n",
       "\n",
       "    AGE__autocolor  day  month  year DEPARTMENT__autocolor  \n",
       "732  NaN            NaN  NaN    NaN   Digestivo             \n",
       "733  NaN            NaN  NaN    NaN   Digestivo             \n",
       "734  NaN            NaN  NaN    NaN   Digestivo             \n",
       "735  NaN            NaN  NaN    NaN   Nefro                 \n",
       "736  NaN            NaN  NaN    NaN   Reinfeccion_run9      "
      ],
      "text/html": "<div>\n<style scoped>\n    .dataframe tbody tr th:only-of-type {\n        vertical-align: middle;\n    }\n\n    .dataframe tbody tr th {\n        vertical-align: top;\n    }\n\n    .dataframe thead th {\n        text-align: right;\n    }\n</style>\n<table border=\"1\" class=\"dataframe\">\n  <thead>\n    <tr style=\"text-align: right;\">\n      <th></th>\n      <th>id</th>\n      <th>full_date</th>\n      <th>patient</th>\n      <th>province__autocolor</th>\n      <th>SEX__autocolor</th>\n      <th>AGE__autocolor</th>\n      <th>day</th>\n      <th>month</th>\n      <th>year</th>\n      <th>DEPARTMENT__autocolor</th>\n    </tr>\n  </thead>\n  <tbody>\n    <tr>\n      <td>732</td>\n      <td>20389861</td>\n      <td>NaN</td>\n      <td>NaN</td>\n      <td>NaN</td>\n      <td>NaN</td>\n      <td>NaN</td>\n      <td>NaN</td>\n      <td>NaN</td>\n      <td>NaN</td>\n      <td>Digestivo</td>\n    </tr>\n    <tr>\n      <td>733</td>\n      <td>20247923</td>\n      <td>NaN</td>\n      <td>NaN</td>\n      <td>NaN</td>\n      <td>NaN</td>\n      <td>NaN</td>\n      <td>NaN</td>\n      <td>NaN</td>\n      <td>NaN</td>\n      <td>Digestivo</td>\n    </tr>\n    <tr>\n      <td>734</td>\n      <td>20395396</td>\n      <td>NaN</td>\n      <td>NaN</td>\n      <td>NaN</td>\n      <td>NaN</td>\n      <td>NaN</td>\n      <td>NaN</td>\n      <td>NaN</td>\n      <td>NaN</td>\n      <td>Digestivo</td>\n    </tr>\n    <tr>\n      <td>735</td>\n      <td>20389969</td>\n      <td>NaN</td>\n      <td>NaN</td>\n      <td>NaN</td>\n      <td>NaN</td>\n      <td>NaN</td>\n      <td>NaN</td>\n      <td>NaN</td>\n      <td>NaN</td>\n      <td>Nefro</td>\n    </tr>\n    <tr>\n      <td>736</td>\n      <td>20092763</td>\n      <td>NaN</td>\n      <td>NaN</td>\n      <td>NaN</td>\n      <td>NaN</td>\n      <td>NaN</td>\n      <td>NaN</td>\n      <td>NaN</td>\n      <td>NaN</td>\n      <td>Reinfeccion_run9</td>\n    </tr>\n  </tbody>\n</table>\n</div>"
     },
     "metadata": {},
     "execution_count": 49
    }
   ],
   "source": [
    "final_df.tail()"
   ]
  },
  {
   "cell_type": "code",
   "execution_count": 50,
   "metadata": {},
   "outputs": [],
   "source": [
    "def extract_lineage(sample):\n",
    "    pango_file = os.path.join('/home/laura/ANALYSIS/VARIANT_CALLING/COVID/Annotation/pangolin', sample + \".lineage.csv\")\n",
    "    if os.path.exists(pango_file):\n",
    "        df = pd.read_csv(pango_file)\n",
    "        return df.lineage[0]\n",
    "    else:\n",
    "        return None"
   ]
  },
  {
   "cell_type": "code",
   "execution_count": 51,
   "metadata": {},
   "outputs": [],
   "source": [
    "final_df['Lineage__autocolor'] = final_df.apply(lambda x: extract_lineage(x['id']), axis=1)"
   ]
  },
  {
   "cell_type": "code",
   "execution_count": 339,
   "metadata": {},
   "outputs": [],
   "source": [
    "query_dario = [20242010,20242093,20242702,20247604,20247878,20250481,20250983,20253374,20253475,20253522,20253595,20255027,20255086,20255313,20255524,20255685,20255915,20255928,20258070,20258214,20258238,20258322,20258440,20261662,20263252,20265521,20267856,20269026,20269341,20269791,20272101,20272242,20273792,20274440,20277245,20277326,20279174,20279180,20279189,20279243,20279283,20286667,20286864,20286872,20288207,20289563,20303453]\n",
    "query_dario = [str(x) for x in query_dario]\n"
   ]
  },
  {
   "cell_type": "code",
   "execution_count": 343,
   "metadata": {},
   "outputs": [],
   "source": [
    "query_dario_2 = [20265521,20269791,20272101,20274440,20277245,20277326,20279174,20279180,20279189]\n",
    "query_dario_2 = [str(x) for x in query_dario_2]"
   ]
  },
  {
   "cell_type": "code",
   "execution_count": 340,
   "metadata": {},
   "outputs": [
    {
     "output_type": "stream",
     "name": "stdout",
     "text": [
      "<class 'pandas.core.frame.DataFrame'>\nInt64Index: 649 entries, 0 to 648\nData columns (total 11 columns):\nid                       649 non-null object\nfull_date                522 non-null object\npatient                  522 non-null float64\nprovince__autocolor      522 non-null object\nSEX__autocolor           522 non-null object\nAGE__autocolor           522 non-null object\nday                      522 non-null Int64\nmonth                    522 non-null Int64\nyear                     522 non-null Int64\nDEPARTMENT__autocolor    101 non-null object\nLineage__autocolor       641 non-null object\ndtypes: Int64(3), float64(1), object(7)\nmemory usage: 82.7+ KB\n"
     ]
    }
   ],
   "source": [
    "final_df.info()"
   ]
  },
  {
   "cell_type": "code",
   "execution_count": 346,
   "metadata": {},
   "outputs": [],
   "source": [
    "final_df['Dario__autocolor'] = final_df.apply(lambda x: x['id'] in query_dario, axis=1)\n",
    "final_df['Dario2__autocolor'] = final_df.apply(lambda x: x['id'] in query_dario_2, axis=1)"
   ]
  },
  {
   "cell_type": "code",
   "execution_count": 52,
   "metadata": {},
   "outputs": [],
   "source": [
    "final_df.to_csv('/home/laura/ANALYSIS/VARIANT_CALLING/COVID/Compare/2020-10-30_Compare_rush/2020-10-30_Compare_rush_wgs_microreact.csv', index=False)"
   ]
  },
  {
   "cell_type": "code",
   "execution_count": 39,
   "metadata": {},
   "outputs": [
    {
     "output_type": "execute_result",
     "data": {
      "text/plain": [
       "           id   full_date  patient province__autocolor SEX__autocolor  \\\n",
       "354  20274440  17/08/2020  422.0    Madrid              F               \n",
       "\n",
       "    AGE__autocolor  day  month  year DEPARTMENT__autocolor Lineage__autocolor  \n",
       "354  30             17   8      2020  Geriatria             B.1                "
      ],
      "text/html": "<div>\n<style scoped>\n    .dataframe tbody tr th:only-of-type {\n        vertical-align: middle;\n    }\n\n    .dataframe tbody tr th {\n        vertical-align: top;\n    }\n\n    .dataframe thead th {\n        text-align: right;\n    }\n</style>\n<table border=\"1\" class=\"dataframe\">\n  <thead>\n    <tr style=\"text-align: right;\">\n      <th></th>\n      <th>id</th>\n      <th>full_date</th>\n      <th>patient</th>\n      <th>province__autocolor</th>\n      <th>SEX__autocolor</th>\n      <th>AGE__autocolor</th>\n      <th>day</th>\n      <th>month</th>\n      <th>year</th>\n      <th>DEPARTMENT__autocolor</th>\n      <th>Lineage__autocolor</th>\n    </tr>\n  </thead>\n  <tbody>\n    <tr>\n      <td>354</td>\n      <td>20274440</td>\n      <td>17/08/2020</td>\n      <td>422.0</td>\n      <td>Madrid</td>\n      <td>F</td>\n      <td>30</td>\n      <td>17</td>\n      <td>8</td>\n      <td>2020</td>\n      <td>Geriatria</td>\n      <td>B.1</td>\n    </tr>\n  </tbody>\n</table>\n</div>"
     },
     "metadata": {},
     "execution_count": 39
    }
   ],
   "source": [
    "final_df[final_df.id == '20274440']"
   ]
  },
  {
   "cell_type": "code",
   "execution_count": 301,
   "metadata": {},
   "outputs": [
    {
     "output_type": "execute_result",
     "data": {
      "text/plain": [
       "(709, 12)"
      ]
     },
     "metadata": {},
     "execution_count": 301
    }
   ],
   "source": [
    "final_df.shape"
   ]
  },
  {
   "cell_type": "code",
   "execution_count": null,
   "metadata": {},
   "outputs": [],
   "source": []
  }
 ]
}