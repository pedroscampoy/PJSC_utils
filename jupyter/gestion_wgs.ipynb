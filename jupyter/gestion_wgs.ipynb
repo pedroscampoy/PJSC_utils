{
 "metadata": {
  "language_info": {
   "codemirror_mode": {
    "name": "ipython",
    "version": 3
   },
   "file_extension": ".py",
   "mimetype": "text/x-python",
   "name": "python",
   "nbconvert_exporter": "python",
   "pygments_lexer": "ipython3",
   "version": "3.7.4-final"
  },
  "orig_nbformat": 2,
  "kernelspec": {
   "name": "python3",
   "display_name": "Python 3.7.4 64-bit ('base': conda)",
   "metadata": {
    "interpreter": {
     "hash": "895b43306824f909dd8fc0fe81781e0d62fee5aa42332456ee4a77314d01a104"
    }
   }
  }
 },
 "nbformat": 4,
 "nbformat_minor": 2,
 "cells": [
  {
   "cell_type": "code",
   "execution_count": 1,
   "metadata": {},
   "outputs": [],
   "source": [
    "import os\n",
    "import pandas as pd\n",
    "import numpy as np\n",
    "import re\n",
    "\n",
    "pd.set_option('display.max_columns', None)\n",
    "pd.set_option('display.max_rows', None)\n",
    "pd.set_option('display.max_colwidth', -1)"
   ]
  },
  {
   "cell_type": "code",
   "execution_count": 2,
   "metadata": {},
   "outputs": [],
   "source": [
    "compare_folder = \"/home/laura/ANALYSIS/VARIANT_CALLING/COVID/Compare/2020-11-23_COVID\"\n",
    "pairwise_filename = [x for x in os.listdir(compare_folder) if '.snp.pairwise.tsv' in x][0]\n",
    "pairwise_file = os.path.join(compare_folder, pairwise_filename)\n",
    "pwdf = pd.read_csv(pairwise_file, sep=\"\\t\" , names=['sample_1', 'sample_2', 'dist'])"
   ]
  },
  {
   "cell_type": "code",
   "execution_count": 3,
   "metadata": {},
   "outputs": [
    {
     "output_type": "execute_result",
     "data": {
      "text/plain": [
       "   sample_1  sample_2  dist\n",
       "0  20069944  20069944  0   \n",
       "1  20069944  20069551  16  \n",
       "2  20069944  20091271  2   \n",
       "3  20069944  20081614  12  \n",
       "4  20069944  20267853  9   "
      ],
      "text/html": "<div>\n<style scoped>\n    .dataframe tbody tr th:only-of-type {\n        vertical-align: middle;\n    }\n\n    .dataframe tbody tr th {\n        vertical-align: top;\n    }\n\n    .dataframe thead th {\n        text-align: right;\n    }\n</style>\n<table border=\"1\" class=\"dataframe\">\n  <thead>\n    <tr style=\"text-align: right;\">\n      <th></th>\n      <th>sample_1</th>\n      <th>sample_2</th>\n      <th>dist</th>\n    </tr>\n  </thead>\n  <tbody>\n    <tr>\n      <td>0</td>\n      <td>20069944</td>\n      <td>20069944</td>\n      <td>0</td>\n    </tr>\n    <tr>\n      <td>1</td>\n      <td>20069944</td>\n      <td>20069551</td>\n      <td>16</td>\n    </tr>\n    <tr>\n      <td>2</td>\n      <td>20069944</td>\n      <td>20091271</td>\n      <td>2</td>\n    </tr>\n    <tr>\n      <td>3</td>\n      <td>20069944</td>\n      <td>20081614</td>\n      <td>12</td>\n    </tr>\n    <tr>\n      <td>4</td>\n      <td>20069944</td>\n      <td>20267853</td>\n      <td>9</td>\n    </tr>\n  </tbody>\n</table>\n</div>"
     },
     "metadata": {},
     "execution_count": 3
    }
   ],
   "source": [
    "pwdf.head()"
   ]
  },
  {
   "cell_type": "code",
   "execution_count": 4,
   "metadata": {},
   "outputs": [],
   "source": [
    "pwdf['sample_1'] = pwdf['sample_1'].astype(str)"
   ]
  },
  {
   "cell_type": "code",
   "execution_count": 5,
   "metadata": {},
   "outputs": [
    {
     "output_type": "stream",
     "name": "stdout",
     "text": [
      "<class 'pandas.core.frame.DataFrame'>\nRangeIndex: 833569 entries, 0 to 833568\nData columns (total 3 columns):\nsample_1    833569 non-null object\nsample_2    833569 non-null object\ndist        833569 non-null int64\ndtypes: int64(1), object(2)\nmemory usage: 19.1+ MB\n"
     ]
    }
   ],
   "source": [
    "pwdf.info()"
   ]
  },
  {
   "cell_type": "code",
   "execution_count": 6,
   "metadata": {},
   "outputs": [],
   "source": [
    "samples = list(set(pwdf.sample_1.tolist()))"
   ]
  },
  {
   "cell_type": "code",
   "execution_count": 7,
   "metadata": {},
   "outputs": [
    {
     "output_type": "execute_result",
     "data": {
      "text/plain": [
       "913"
      ]
     },
     "metadata": {},
     "execution_count": 7
    }
   ],
   "source": [
    "len(samples)"
   ]
  },
  {
   "cell_type": "code",
   "execution_count": 8,
   "metadata": {},
   "outputs": [
    {
     "output_type": "execute_result",
     "data": {
      "text/plain": [
       "{str: 913}"
      ]
     },
     "metadata": {},
     "execution_count": 8
    }
   ],
   "source": [
    "samples_type = [type(x) for x in samples]\n",
    "dict((x,samples_type.count(x)) for x in set(samples_type))"
   ]
  },
  {
   "cell_type": "code",
   "execution_count": 9,
   "metadata": {},
   "outputs": [],
   "source": [
    "wgs = pd.read_csv('/home/laura/ANALYSIS/MISC/microreact/WGS_COVID.csv')"
   ]
  },
  {
   "cell_type": "code",
   "execution_count": 10,
   "metadata": {},
   "outputs": [
    {
     "output_type": "execute_result",
     "data": {
      "text/plain": [
       "         id   full_date  patient__autocolor province__autocolor  \\\n",
       "0  20060161  09/03/2020  174.0               Madrid               \n",
       "1  20060178  09/03/2020  175.0               Madrid               \n",
       "2  20062236  10/03/2020  176.0               Madrid               \n",
       "3  20062563  10/03/2020  177.0               Madrid               \n",
       "4  20063795  12/03/2020  178.0               Madrid               \n",
       "\n",
       "  SEX__autocolor AGE__autocolor  day  month  year  \n",
       "0  H              84             9    3      2020  \n",
       "1  H              76             9    3      2020  \n",
       "2  M              96             10   3      2020  \n",
       "3  H              78             10   3      2020  \n",
       "4  H              85             12   3      2020  "
      ],
      "text/html": "<div>\n<style scoped>\n    .dataframe tbody tr th:only-of-type {\n        vertical-align: middle;\n    }\n\n    .dataframe tbody tr th {\n        vertical-align: top;\n    }\n\n    .dataframe thead th {\n        text-align: right;\n    }\n</style>\n<table border=\"1\" class=\"dataframe\">\n  <thead>\n    <tr style=\"text-align: right;\">\n      <th></th>\n      <th>id</th>\n      <th>full_date</th>\n      <th>patient__autocolor</th>\n      <th>province__autocolor</th>\n      <th>SEX__autocolor</th>\n      <th>AGE__autocolor</th>\n      <th>day</th>\n      <th>month</th>\n      <th>year</th>\n    </tr>\n  </thead>\n  <tbody>\n    <tr>\n      <td>0</td>\n      <td>20060161</td>\n      <td>09/03/2020</td>\n      <td>174.0</td>\n      <td>Madrid</td>\n      <td>H</td>\n      <td>84</td>\n      <td>9</td>\n      <td>3</td>\n      <td>2020</td>\n    </tr>\n    <tr>\n      <td>1</td>\n      <td>20060178</td>\n      <td>09/03/2020</td>\n      <td>175.0</td>\n      <td>Madrid</td>\n      <td>H</td>\n      <td>76</td>\n      <td>9</td>\n      <td>3</td>\n      <td>2020</td>\n    </tr>\n    <tr>\n      <td>2</td>\n      <td>20062236</td>\n      <td>10/03/2020</td>\n      <td>176.0</td>\n      <td>Madrid</td>\n      <td>M</td>\n      <td>96</td>\n      <td>10</td>\n      <td>3</td>\n      <td>2020</td>\n    </tr>\n    <tr>\n      <td>3</td>\n      <td>20062563</td>\n      <td>10/03/2020</td>\n      <td>177.0</td>\n      <td>Madrid</td>\n      <td>H</td>\n      <td>78</td>\n      <td>10</td>\n      <td>3</td>\n      <td>2020</td>\n    </tr>\n    <tr>\n      <td>4</td>\n      <td>20063795</td>\n      <td>12/03/2020</td>\n      <td>178.0</td>\n      <td>Madrid</td>\n      <td>H</td>\n      <td>85</td>\n      <td>12</td>\n      <td>3</td>\n      <td>2020</td>\n    </tr>\n  </tbody>\n</table>\n</div>"
     },
     "metadata": {},
     "execution_count": 10
    }
   ],
   "source": [
    "wgs.head()"
   ]
  },
  {
   "cell_type": "code",
   "execution_count": 11,
   "metadata": {},
   "outputs": [
    {
     "output_type": "execute_result",
     "data": {
      "text/plain": [
       "(1020, 9)"
      ]
     },
     "metadata": {},
     "execution_count": 11
    }
   ],
   "source": [
    "wgs.shape"
   ]
  },
  {
   "cell_type": "code",
   "execution_count": 12,
   "metadata": {},
   "outputs": [],
   "source": [
    "wgs['id'] = wgs['id'].astype(str)"
   ]
  },
  {
   "cell_type": "code",
   "execution_count": 13,
   "metadata": {},
   "outputs": [],
   "source": [
    "samples_wgs = wgs.id.tolist()\n",
    "#samples_wgs = [str(x) for x in samples_wgs]"
   ]
  },
  {
   "cell_type": "code",
   "execution_count": 14,
   "metadata": {},
   "outputs": [],
   "source": [
    "WGS = set(samples_wgs)\n",
    "PW = set(samples)"
   ]
  },
  {
   "cell_type": "code",
   "execution_count": 15,
   "metadata": {},
   "outputs": [
    {
     "output_type": "execute_result",
     "data": {
      "text/plain": [
       "913"
      ]
     },
     "metadata": {},
     "execution_count": 15
    }
   ],
   "source": [
    "len(PW)"
   ]
  },
  {
   "cell_type": "code",
   "execution_count": 16,
   "metadata": {},
   "outputs": [
    {
     "output_type": "execute_result",
     "data": {
      "text/plain": [
       "130"
      ]
     },
     "metadata": {},
     "execution_count": 16
    }
   ],
   "source": [
    "missing_wgs = list(PW - WGS)\n",
    "len(missing_wgs)"
   ]
  },
  {
   "cell_type": "code",
   "execution_count": 17,
   "metadata": {},
   "outputs": [
    {
     "output_type": "execute_result",
     "data": {
      "text/plain": [
       "{str: 130}"
      ]
     },
     "metadata": {},
     "execution_count": 17
    }
   ],
   "source": [
    "missing_wgs_type = [type(x) for x in missing_wgs]\n",
    "dict((x,missing_wgs_type.count(x)) for x in set(missing_wgs_type))"
   ]
  },
  {
   "cell_type": "code",
   "execution_count": 18,
   "metadata": {},
   "outputs": [
    {
     "output_type": "execute_result",
     "data": {
      "text/plain": [
       "143"
      ]
     },
     "metadata": {},
     "execution_count": 18
    }
   ],
   "source": [
    "missing_pw = list(WGS - PW)\n",
    "len(missing_pw)"
   ]
  },
  {
   "cell_type": "code",
   "execution_count": 19,
   "metadata": {},
   "outputs": [
    {
     "output_type": "execute_result",
     "data": {
      "text/plain": [
       "273"
      ]
     },
     "metadata": {},
     "execution_count": 19
    }
   ],
   "source": [
    "all_missing = missing_pw + missing_wgs\n",
    "len(all_missing)"
   ]
  },
  {
   "cell_type": "code",
   "execution_count": 20,
   "metadata": {},
   "outputs": [
    {
     "output_type": "execute_result",
     "data": {
      "text/plain": [
       "(1020, 9)"
      ]
     },
     "metadata": {},
     "execution_count": 20
    }
   ],
   "source": [
    "wgs.shape"
   ]
  },
  {
   "cell_type": "code",
   "execution_count": 21,
   "metadata": {},
   "outputs": [],
   "source": [
    "df = wgs[~wgs.id.isin(missing_pw)]"
   ]
  },
  {
   "cell_type": "code",
   "execution_count": 22,
   "metadata": {},
   "outputs": [
    {
     "output_type": "execute_result",
     "data": {
      "text/plain": [
       "(871, 9)"
      ]
     },
     "metadata": {},
     "execution_count": 22
    }
   ],
   "source": [
    "df.shape"
   ]
  },
  {
   "cell_type": "code",
   "execution_count": 23,
   "metadata": {},
   "outputs": [],
   "source": [
    "df2 = pd.DataFrame(missing_wgs, columns=['id'])"
   ]
  },
  {
   "cell_type": "code",
   "execution_count": 24,
   "metadata": {},
   "outputs": [],
   "source": [
    "df2['id'] = df2['id'].astype(str)"
   ]
  },
  {
   "cell_type": "code",
   "execution_count": 25,
   "metadata": {},
   "outputs": [
    {
     "output_type": "execute_result",
     "data": {
      "text/plain": [
       "                id\n",
       "0  20296883ciclos8\n",
       "1  20253153       \n",
       "2  20431656       \n",
       "3  20431872       \n",
       "4  20438339       "
      ],
      "text/html": "<div>\n<style scoped>\n    .dataframe tbody tr th:only-of-type {\n        vertical-align: middle;\n    }\n\n    .dataframe tbody tr th {\n        vertical-align: top;\n    }\n\n    .dataframe thead th {\n        text-align: right;\n    }\n</style>\n<table border=\"1\" class=\"dataframe\">\n  <thead>\n    <tr style=\"text-align: right;\">\n      <th></th>\n      <th>id</th>\n    </tr>\n  </thead>\n  <tbody>\n    <tr>\n      <td>0</td>\n      <td>20296883ciclos8</td>\n    </tr>\n    <tr>\n      <td>1</td>\n      <td>20253153</td>\n    </tr>\n    <tr>\n      <td>2</td>\n      <td>20431656</td>\n    </tr>\n    <tr>\n      <td>3</td>\n      <td>20431872</td>\n    </tr>\n    <tr>\n      <td>4</td>\n      <td>20438339</td>\n    </tr>\n  </tbody>\n</table>\n</div>"
     },
     "metadata": {},
     "execution_count": 25
    }
   ],
   "source": [
    "df2.head()"
   ]
  },
  {
   "cell_type": "code",
   "execution_count": 26,
   "metadata": {},
   "outputs": [
    {
     "output_type": "execute_result",
     "data": {
      "text/plain": [
       "         id   full_date  patient__autocolor province__autocolor  \\\n",
       "0  20060161  09/03/2020  174.0               Madrid               \n",
       "1  20060178  09/03/2020  175.0               Madrid               \n",
       "2  20062236  10/03/2020  176.0               Madrid               \n",
       "3  20062563  10/03/2020  177.0               Madrid               \n",
       "4  20063795  12/03/2020  178.0               Madrid               \n",
       "\n",
       "  SEX__autocolor AGE__autocolor  day  month  year  \n",
       "0  H              84             9    3      2020  \n",
       "1  H              76             9    3      2020  \n",
       "2  M              96             10   3      2020  \n",
       "3  H              78             10   3      2020  \n",
       "4  H              85             12   3      2020  "
      ],
      "text/html": "<div>\n<style scoped>\n    .dataframe tbody tr th:only-of-type {\n        vertical-align: middle;\n    }\n\n    .dataframe tbody tr th {\n        vertical-align: top;\n    }\n\n    .dataframe thead th {\n        text-align: right;\n    }\n</style>\n<table border=\"1\" class=\"dataframe\">\n  <thead>\n    <tr style=\"text-align: right;\">\n      <th></th>\n      <th>id</th>\n      <th>full_date</th>\n      <th>patient__autocolor</th>\n      <th>province__autocolor</th>\n      <th>SEX__autocolor</th>\n      <th>AGE__autocolor</th>\n      <th>day</th>\n      <th>month</th>\n      <th>year</th>\n    </tr>\n  </thead>\n  <tbody>\n    <tr>\n      <td>0</td>\n      <td>20060161</td>\n      <td>09/03/2020</td>\n      <td>174.0</td>\n      <td>Madrid</td>\n      <td>H</td>\n      <td>84</td>\n      <td>9</td>\n      <td>3</td>\n      <td>2020</td>\n    </tr>\n    <tr>\n      <td>1</td>\n      <td>20060178</td>\n      <td>09/03/2020</td>\n      <td>175.0</td>\n      <td>Madrid</td>\n      <td>H</td>\n      <td>76</td>\n      <td>9</td>\n      <td>3</td>\n      <td>2020</td>\n    </tr>\n    <tr>\n      <td>2</td>\n      <td>20062236</td>\n      <td>10/03/2020</td>\n      <td>176.0</td>\n      <td>Madrid</td>\n      <td>M</td>\n      <td>96</td>\n      <td>10</td>\n      <td>3</td>\n      <td>2020</td>\n    </tr>\n    <tr>\n      <td>3</td>\n      <td>20062563</td>\n      <td>10/03/2020</td>\n      <td>177.0</td>\n      <td>Madrid</td>\n      <td>H</td>\n      <td>78</td>\n      <td>10</td>\n      <td>3</td>\n      <td>2020</td>\n    </tr>\n    <tr>\n      <td>4</td>\n      <td>20063795</td>\n      <td>12/03/2020</td>\n      <td>178.0</td>\n      <td>Madrid</td>\n      <td>H</td>\n      <td>85</td>\n      <td>12</td>\n      <td>3</td>\n      <td>2020</td>\n    </tr>\n  </tbody>\n</table>\n</div>"
     },
     "metadata": {},
     "execution_count": 26
    }
   ],
   "source": [
    "df.head()"
   ]
  },
  {
   "cell_type": "code",
   "execution_count": 27,
   "metadata": {},
   "outputs": [],
   "source": [
    "final_df = df.append(df2).reset_index(drop=True)\n",
    "final_df = final_df[ ['id', 'full_date', 'patient__autocolor', 'province__autocolor', 'SEX__autocolor',\n",
    "       'AGE__autocolor', 'day', 'month', 'year'] ]"
   ]
  },
  {
   "cell_type": "code",
   "execution_count": 32,
   "metadata": {},
   "outputs": [],
   "source": [
    "metadata = pd.read_csv('/home/laura/ANALYSIS/MISC/microreact/wgs_covid_metadata.csv')\n",
    "metadata['id'] = metadata['id'].astype(str)"
   ]
  },
  {
   "cell_type": "code",
   "execution_count": 33,
   "metadata": {},
   "outputs": [
    {
     "output_type": "execute_result",
     "data": {
      "text/plain": [
       "           id    DEPARTMENT__autocolor\n",
       "430  20414120  ONCOLOGIA              \n",
       "431  20414510  DIVERSIDAD             \n",
       "432  20414512  OTORRINOLARINGOLOGIA(I)\n",
       "433  20414513  MICROBIOLOGIA          \n",
       "434  20421290  URGENCIAS              "
      ],
      "text/html": "<div>\n<style scoped>\n    .dataframe tbody tr th:only-of-type {\n        vertical-align: middle;\n    }\n\n    .dataframe tbody tr th {\n        vertical-align: top;\n    }\n\n    .dataframe thead th {\n        text-align: right;\n    }\n</style>\n<table border=\"1\" class=\"dataframe\">\n  <thead>\n    <tr style=\"text-align: right;\">\n      <th></th>\n      <th>id</th>\n      <th>DEPARTMENT__autocolor</th>\n    </tr>\n  </thead>\n  <tbody>\n    <tr>\n      <td>430</td>\n      <td>20414120</td>\n      <td>ONCOLOGIA</td>\n    </tr>\n    <tr>\n      <td>431</td>\n      <td>20414510</td>\n      <td>DIVERSIDAD</td>\n    </tr>\n    <tr>\n      <td>432</td>\n      <td>20414512</td>\n      <td>OTORRINOLARINGOLOGIA(I)</td>\n    </tr>\n    <tr>\n      <td>433</td>\n      <td>20414513</td>\n      <td>MICROBIOLOGIA</td>\n    </tr>\n    <tr>\n      <td>434</td>\n      <td>20421290</td>\n      <td>URGENCIAS</td>\n    </tr>\n  </tbody>\n</table>\n</div>"
     },
     "metadata": {},
     "execution_count": 33
    }
   ],
   "source": [
    "metadata.tail()"
   ]
  },
  {
   "cell_type": "code",
   "execution_count": 34,
   "metadata": {},
   "outputs": [
    {
     "output_type": "stream",
     "name": "stdout",
     "text": [
      "<class 'pandas.core.frame.DataFrame'>\nRangeIndex: 435 entries, 0 to 434\nData columns (total 2 columns):\nid                       435 non-null object\nDEPARTMENT__autocolor    435 non-null object\ndtypes: object(2)\nmemory usage: 6.9+ KB\n"
     ]
    }
   ],
   "source": [
    "metadata.info()"
   ]
  },
  {
   "cell_type": "code",
   "execution_count": 35,
   "metadata": {},
   "outputs": [
    {
     "output_type": "stream",
     "name": "stdout",
     "text": [
      "<class 'pandas.core.frame.DataFrame'>\nRangeIndex: 1001 entries, 0 to 1000\nData columns (total 9 columns):\nid                     1001 non-null object\nfull_date              871 non-null object\npatient__autocolor     788 non-null float64\nprovince__autocolor    871 non-null object\nSEX__autocolor         871 non-null object\nAGE__autocolor         870 non-null object\nday                    871 non-null float64\nmonth                  871 non-null float64\nyear                   871 non-null float64\ndtypes: float64(4), object(5)\nmemory usage: 70.5+ KB\n"
     ]
    }
   ],
   "source": [
    "final_df.info()"
   ]
  },
  {
   "cell_type": "code",
   "execution_count": 36,
   "metadata": {},
   "outputs": [],
   "source": [
    "final_df = final_df.fillna(0)\n",
    "final_df.day = final_df.day.astype('Int64')\n",
    "final_df.month = final_df.month.astype('Int64')\n",
    "final_df.year = final_df.year.astype('Int64')\n",
    "final_df.replace(0, np.nan, inplace=True)"
   ]
  },
  {
   "cell_type": "code",
   "execution_count": 37,
   "metadata": {},
   "outputs": [],
   "source": [
    "final_df = final_df.merge(metadata, how='outer')"
   ]
  },
  {
   "cell_type": "code",
   "execution_count": 38,
   "metadata": {},
   "outputs": [
    {
     "output_type": "stream",
     "name": "stdout",
     "text": [
      "<class 'pandas.core.frame.DataFrame'>\nInt64Index: 1050 entries, 0 to 1049\nData columns (total 10 columns):\nid                       1050 non-null object\nfull_date                873 non-null object\npatient__autocolor       790 non-null float64\nprovince__autocolor      873 non-null object\nSEX__autocolor           873 non-null object\nAGE__autocolor           872 non-null object\nday                      873 non-null Int64\nmonth                    873 non-null Int64\nyear                     873 non-null Int64\nDEPARTMENT__autocolor    482 non-null object\ndtypes: Int64(3), float64(1), object(6)\nmemory usage: 93.3+ KB\n"
     ]
    }
   ],
   "source": [
    "final_df.info()"
   ]
  },
  {
   "cell_type": "code",
   "execution_count": 39,
   "metadata": {},
   "outputs": [
    {
     "output_type": "execute_result",
     "data": {
      "text/plain": [
       "            id full_date  patient__autocolor province__autocolor  \\\n",
       "1045  20425209  NaN      NaN                  NaN                  \n",
       "1046  20425676  NaN      NaN                  NaN                  \n",
       "1047  20440116  NaN      NaN                  NaN                  \n",
       "1048  20444230  NaN      NaN                  NaN                  \n",
       "1049  20284978  NaN      NaN                  NaN                  \n",
       "\n",
       "     SEX__autocolor AGE__autocolor  day  month  year DEPARTMENT__autocolor  \n",
       "1045  NaN            NaN            NaN  NaN    NaN   2400                  \n",
       "1046  NaN            NaN            NaN  NaN    NaN   TRABAJADORES_OCT_NOV  \n",
       "1047  NaN            NaN            NaN  NaN    NaN   TRABAJADORES_OCT_NOV  \n",
       "1048  NaN            NaN            NaN  NaN    NaN   TRABAJADORES_OCT_NOV  \n",
       "1049  NaN            NaN            NaN  NaN    NaN   INGRESADO             "
      ],
      "text/html": "<div>\n<style scoped>\n    .dataframe tbody tr th:only-of-type {\n        vertical-align: middle;\n    }\n\n    .dataframe tbody tr th {\n        vertical-align: top;\n    }\n\n    .dataframe thead th {\n        text-align: right;\n    }\n</style>\n<table border=\"1\" class=\"dataframe\">\n  <thead>\n    <tr style=\"text-align: right;\">\n      <th></th>\n      <th>id</th>\n      <th>full_date</th>\n      <th>patient__autocolor</th>\n      <th>province__autocolor</th>\n      <th>SEX__autocolor</th>\n      <th>AGE__autocolor</th>\n      <th>day</th>\n      <th>month</th>\n      <th>year</th>\n      <th>DEPARTMENT__autocolor</th>\n    </tr>\n  </thead>\n  <tbody>\n    <tr>\n      <td>1045</td>\n      <td>20425209</td>\n      <td>NaN</td>\n      <td>NaN</td>\n      <td>NaN</td>\n      <td>NaN</td>\n      <td>NaN</td>\n      <td>NaN</td>\n      <td>NaN</td>\n      <td>NaN</td>\n      <td>2400</td>\n    </tr>\n    <tr>\n      <td>1046</td>\n      <td>20425676</td>\n      <td>NaN</td>\n      <td>NaN</td>\n      <td>NaN</td>\n      <td>NaN</td>\n      <td>NaN</td>\n      <td>NaN</td>\n      <td>NaN</td>\n      <td>NaN</td>\n      <td>TRABAJADORES_OCT_NOV</td>\n    </tr>\n    <tr>\n      <td>1047</td>\n      <td>20440116</td>\n      <td>NaN</td>\n      <td>NaN</td>\n      <td>NaN</td>\n      <td>NaN</td>\n      <td>NaN</td>\n      <td>NaN</td>\n      <td>NaN</td>\n      <td>NaN</td>\n      <td>TRABAJADORES_OCT_NOV</td>\n    </tr>\n    <tr>\n      <td>1048</td>\n      <td>20444230</td>\n      <td>NaN</td>\n      <td>NaN</td>\n      <td>NaN</td>\n      <td>NaN</td>\n      <td>NaN</td>\n      <td>NaN</td>\n      <td>NaN</td>\n      <td>NaN</td>\n      <td>TRABAJADORES_OCT_NOV</td>\n    </tr>\n    <tr>\n      <td>1049</td>\n      <td>20284978</td>\n      <td>NaN</td>\n      <td>NaN</td>\n      <td>NaN</td>\n      <td>NaN</td>\n      <td>NaN</td>\n      <td>NaN</td>\n      <td>NaN</td>\n      <td>NaN</td>\n      <td>INGRESADO</td>\n    </tr>\n  </tbody>\n</table>\n</div>"
     },
     "metadata": {},
     "execution_count": 39
    }
   ],
   "source": [
    "final_df.tail()"
   ]
  },
  {
   "cell_type": "code",
   "execution_count": 40,
   "metadata": {},
   "outputs": [],
   "source": [
    "def extract_lineage(sample):\n",
    "    pango_file = os.path.join('/home/laura/ANALYSIS/VARIANT_CALLING/COVID/Annotation/pangolin', str(sample) + \".lineage.csv\")\n",
    "    if os.path.exists(pango_file):\n",
    "        df = pd.read_csv(pango_file)\n",
    "        return df.lineage[0]\n",
    "    else:\n",
    "        return None"
   ]
  },
  {
   "cell_type": "code",
   "execution_count": 41,
   "metadata": {},
   "outputs": [],
   "source": [
    "final_df['Lineage__autocolor'] = final_df.apply(lambda x: extract_lineage(x['id']), axis=1)"
   ]
  },
  {
   "cell_type": "code",
   "execution_count": 42,
   "metadata": {},
   "outputs": [],
   "source": [
    "def extract_EU(sample):\n",
    "    eu_file = os.path.join('/home/laura/ANALYSIS/VARIANT_CALLING/COVID/Annotation/user', str(sample) + \".tsv\")\n",
    "    if os.path.exists(eu_file):\n",
    "        df = pd.read_csv(eu_file, sep=\"\\t\")\n",
    "        if 'EU1EU2' in df.columns:\n",
    "            eulist = df.EU1EU2.dropna().tolist()\n",
    "        return (',').join([(x + \"-\" + str(eulist.count(x))) for x in set(eulist)])\n",
    "    else:\n",
    "        return None"
   ]
  },
  {
   "cell_type": "code",
   "execution_count": 43,
   "metadata": {},
   "outputs": [],
   "source": [
    "final_df['EU1EU2__autocolor'] = final_df.apply(lambda x: extract_EU(x['id']), axis=1)"
   ]
  },
  {
   "cell_type": "code",
   "execution_count": 44,
   "metadata": {},
   "outputs": [],
   "source": [
    "def extract_faulty(sample):\n",
    "    sample_report = os.path.join(compare_folder, \"report_samples.tsv\")\n",
    "    df = pd.read_csv(sample_report, sep=\"\\t\")\n",
    "    df['sample'] = df['sample'].astype(str)\n",
    "    if str(sample) in df['sample'].values:\n",
    "        return round(df[df['sample'] == str(sample)]['faulty_frac'].values[0], 3)\n",
    "    else:\n",
    "        return None"
   ]
  },
  {
   "cell_type": "code",
   "execution_count": 45,
   "metadata": {},
   "outputs": [],
   "source": [
    "final_df['FaultyFraction__autocolor'] = final_df.apply(lambda x: extract_faulty(x['id']), axis=1)"
   ]
  },
  {
   "cell_type": "code",
   "execution_count": 46,
   "metadata": {},
   "outputs": [],
   "source": [
    "#query_dario = [20242010,20242093,20242702,20247604,20247878,20250481,20250983,20253374,20253475,20253522,20253595,20255027,20255086,20255313,20255524,20255685,20255915,20255928,20258070,20258214,20258238,20258322,20258440,20261662,20263252,20265521,20267856,20269026,20269341,20269791,20272101,20272242,20273792,20274440,20277245,20277326,20279174,20279180,20279189,20279243,20279283,20286667,20286864,20286872,20288207,20289563,20303453]\n",
    "#query_dario = [str(x) for x in query_dario]\n"
   ]
  },
  {
   "cell_type": "code",
   "execution_count": 47,
   "metadata": {},
   "outputs": [],
   "source": [
    "#final_df['Dario__autocolor'] = final_df.apply(lambda x: x['id'] in query_dario, axis=1)\n"
   ]
  },
  {
   "cell_type": "code",
   "execution_count": 48,
   "metadata": {},
   "outputs": [],
   "source": [
    "before_june = final_df[final_df.month < 6]['id'].tolist()\n",
    "before_june = [str(x) for x in before_june]\n",
    "final_df['before_june_2020__autocolor'] = final_df.apply(lambda x: x['id'] in before_june, axis=1)"
   ]
  },
  {
   "cell_type": "code",
   "execution_count": 49,
   "metadata": {},
   "outputs": [],
   "source": [
    "final_df = final_df.drop_duplicates(subset=['id'], keep=\"first\")\n",
    "out_file = os.path.join(compare_folder, 'wgs_microreact.csv')\n",
    "final_df.to_csv(out_file, index=False)"
   ]
  },
  {
   "cell_type": "code",
   "execution_count": 50,
   "metadata": {},
   "outputs": [
    {
     "output_type": "execute_result",
     "data": {
      "text/plain": [
       "         id   full_date  patient__autocolor province__autocolor  \\\n",
       "0  20060161  09/03/2020  174.0               Madrid               \n",
       "1  20060178  09/03/2020  175.0               Madrid               \n",
       "2  20062236  10/03/2020  176.0               Madrid               \n",
       "3  20062563  10/03/2020  177.0               Madrid               \n",
       "4  20063795  12/03/2020  178.0               Madrid               \n",
       "\n",
       "  SEX__autocolor AGE__autocolor  day  month  year DEPARTMENT__autocolor  \\\n",
       "0  H              84             9    3      2020  GRAVES                 \n",
       "1  H              76             9    3      2020  GRAVES                 \n",
       "2  M              96             10   3      2020  GRAVES                 \n",
       "3  H              78             10   3      2020  GRAVES                 \n",
       "4  H              85             12   3      2020  GRAVES                 \n",
       "\n",
       "  Lineage__autocolor EU1EU2__autocolor  FaultyFraction__autocolor  \\\n",
       "0  A                                    0.004                       \n",
       "1  A                                    0.004                       \n",
       "2  B.2                                  0.001                       \n",
       "3  B.1.5                                0.002                       \n",
       "4  A.5                                  0.001                       \n",
       "\n",
       "   before_june_2020__autocolor  \n",
       "0  True                         \n",
       "1  True                         \n",
       "2  True                         \n",
       "3  True                         \n",
       "4  True                         "
      ],
      "text/html": "<div>\n<style scoped>\n    .dataframe tbody tr th:only-of-type {\n        vertical-align: middle;\n    }\n\n    .dataframe tbody tr th {\n        vertical-align: top;\n    }\n\n    .dataframe thead th {\n        text-align: right;\n    }\n</style>\n<table border=\"1\" class=\"dataframe\">\n  <thead>\n    <tr style=\"text-align: right;\">\n      <th></th>\n      <th>id</th>\n      <th>full_date</th>\n      <th>patient__autocolor</th>\n      <th>province__autocolor</th>\n      <th>SEX__autocolor</th>\n      <th>AGE__autocolor</th>\n      <th>day</th>\n      <th>month</th>\n      <th>year</th>\n      <th>DEPARTMENT__autocolor</th>\n      <th>Lineage__autocolor</th>\n      <th>EU1EU2__autocolor</th>\n      <th>FaultyFraction__autocolor</th>\n      <th>before_june_2020__autocolor</th>\n    </tr>\n  </thead>\n  <tbody>\n    <tr>\n      <td>0</td>\n      <td>20060161</td>\n      <td>09/03/2020</td>\n      <td>174.0</td>\n      <td>Madrid</td>\n      <td>H</td>\n      <td>84</td>\n      <td>9</td>\n      <td>3</td>\n      <td>2020</td>\n      <td>GRAVES</td>\n      <td>A</td>\n      <td></td>\n      <td>0.004</td>\n      <td>True</td>\n    </tr>\n    <tr>\n      <td>1</td>\n      <td>20060178</td>\n      <td>09/03/2020</td>\n      <td>175.0</td>\n      <td>Madrid</td>\n      <td>H</td>\n      <td>76</td>\n      <td>9</td>\n      <td>3</td>\n      <td>2020</td>\n      <td>GRAVES</td>\n      <td>A</td>\n      <td></td>\n      <td>0.004</td>\n      <td>True</td>\n    </tr>\n    <tr>\n      <td>2</td>\n      <td>20062236</td>\n      <td>10/03/2020</td>\n      <td>176.0</td>\n      <td>Madrid</td>\n      <td>M</td>\n      <td>96</td>\n      <td>10</td>\n      <td>3</td>\n      <td>2020</td>\n      <td>GRAVES</td>\n      <td>B.2</td>\n      <td></td>\n      <td>0.001</td>\n      <td>True</td>\n    </tr>\n    <tr>\n      <td>3</td>\n      <td>20062563</td>\n      <td>10/03/2020</td>\n      <td>177.0</td>\n      <td>Madrid</td>\n      <td>H</td>\n      <td>78</td>\n      <td>10</td>\n      <td>3</td>\n      <td>2020</td>\n      <td>GRAVES</td>\n      <td>B.1.5</td>\n      <td></td>\n      <td>0.002</td>\n      <td>True</td>\n    </tr>\n    <tr>\n      <td>4</td>\n      <td>20063795</td>\n      <td>12/03/2020</td>\n      <td>178.0</td>\n      <td>Madrid</td>\n      <td>H</td>\n      <td>85</td>\n      <td>12</td>\n      <td>3</td>\n      <td>2020</td>\n      <td>GRAVES</td>\n      <td>A.5</td>\n      <td></td>\n      <td>0.001</td>\n      <td>True</td>\n    </tr>\n  </tbody>\n</table>\n</div>"
     },
     "metadata": {},
     "execution_count": 50
    }
   ],
   "source": [
    "final_df.head()"
   ]
  },
  {
   "cell_type": "code",
   "execution_count": null,
   "metadata": {},
   "outputs": [],
   "source": []
  },
  {
   "cell_type": "code",
   "execution_count": null,
   "metadata": {},
   "outputs": [],
   "source": []
  }
 ]
}