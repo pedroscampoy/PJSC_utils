{
 "cells": [
  {
   "cell_type": "code",
   "execution_count": 56,
   "metadata": {},
   "outputs": [],
   "source": [
    "import os\n",
    "import pandas as pd\n",
    "import numpy as np\n",
    "import re\n",
    "\n",
    "pd.set_option('display.max_columns', None)\n",
    "pd.set_option('display.max_rows', None)\n",
    "pd.set_option('display.max_colwidth', -1)"
   ]
  },
  {
   "cell_type": "code",
   "execution_count": 57,
   "metadata": {},
   "outputs": [],
   "source": [
    "compare_folder = \"/home/laura/ANALYSIS/VARIANT_CALLING/COVID/Compare/2021-02-05_COVID\"\n",
    "pairwise_filename = [x for x in os.listdir(compare_folder) if '.snp.pairwise.tsv' in x][0]\n",
    "pairwise_file = os.path.join(compare_folder, pairwise_filename)\n",
    "pwdf = pd.read_csv(pairwise_file, sep=\"\\t\" , names=['sample_1', 'sample_2', 'dist'])"
   ]
  },
  {
   "cell_type": "code",
   "execution_count": 58,
   "metadata": {},
   "outputs": [
    {
     "output_type": "execute_result",
     "data": {
      "text/plain": [
       "   sample_1  sample_2  dist\n",
       "0  20461953  20461953  0   \n",
       "1  20461953  20490128  12  \n",
       "2  20461953  21038641  10  \n",
       "3  20461953  21007127  37  \n",
       "4  20461953  20069944  14  "
      ],
      "text/html": "<div>\n<style scoped>\n    .dataframe tbody tr th:only-of-type {\n        vertical-align: middle;\n    }\n\n    .dataframe tbody tr th {\n        vertical-align: top;\n    }\n\n    .dataframe thead th {\n        text-align: right;\n    }\n</style>\n<table border=\"1\" class=\"dataframe\">\n  <thead>\n    <tr style=\"text-align: right;\">\n      <th></th>\n      <th>sample_1</th>\n      <th>sample_2</th>\n      <th>dist</th>\n    </tr>\n  </thead>\n  <tbody>\n    <tr>\n      <td>0</td>\n      <td>20461953</td>\n      <td>20461953</td>\n      <td>0</td>\n    </tr>\n    <tr>\n      <td>1</td>\n      <td>20461953</td>\n      <td>20490128</td>\n      <td>12</td>\n    </tr>\n    <tr>\n      <td>2</td>\n      <td>20461953</td>\n      <td>21038641</td>\n      <td>10</td>\n    </tr>\n    <tr>\n      <td>3</td>\n      <td>20461953</td>\n      <td>21007127</td>\n      <td>37</td>\n    </tr>\n    <tr>\n      <td>4</td>\n      <td>20461953</td>\n      <td>20069944</td>\n      <td>14</td>\n    </tr>\n  </tbody>\n</table>\n</div>"
     },
     "metadata": {},
     "execution_count": 58
    }
   ],
   "source": [
    "pwdf.head()"
   ]
  },
  {
   "cell_type": "code",
   "execution_count": 59,
   "metadata": {},
   "outputs": [],
   "source": [
    "pwdf['sample_1'] = pwdf['sample_1'].astype(str)"
   ]
  },
  {
   "cell_type": "code",
   "execution_count": 60,
   "metadata": {},
   "outputs": [
    {
     "output_type": "stream",
     "name": "stdout",
     "text": [
      "<class 'pandas.core.frame.DataFrame'>\nRangeIndex: 3076516 entries, 0 to 3076515\nData columns (total 3 columns):\nsample_1    object\nsample_2    object\ndist        int64\ndtypes: int64(1), object(2)\nmemory usage: 70.4+ MB\n"
     ]
    }
   ],
   "source": [
    "pwdf.info()"
   ]
  },
  {
   "cell_type": "code",
   "execution_count": 61,
   "metadata": {},
   "outputs": [],
   "source": [
    "samples = list(set(pwdf.sample_1.tolist()))"
   ]
  },
  {
   "cell_type": "code",
   "execution_count": 62,
   "metadata": {},
   "outputs": [
    {
     "output_type": "execute_result",
     "data": {
      "text/plain": [
       "1754"
      ]
     },
     "metadata": {},
     "execution_count": 62
    }
   ],
   "source": [
    "len(samples)"
   ]
  },
  {
   "cell_type": "code",
   "execution_count": 63,
   "metadata": {},
   "outputs": [
    {
     "output_type": "execute_result",
     "data": {
      "text/plain": [
       "{str: 1754}"
      ]
     },
     "metadata": {},
     "execution_count": 63
    }
   ],
   "source": [
    "samples_type = [type(x) for x in samples]\n",
    "dict((x,samples_type.count(x)) for x in set(samples_type))"
   ]
  },
  {
   "cell_type": "code",
   "execution_count": 203,
   "metadata": {},
   "outputs": [],
   "source": [
    "wgs = pd.read_csv('/media/NASII/Datos/ANALYSIS/WGS_sequenced.csv')\n",
    "wgs = wgs.rename(columns={'Muestra': 'id', 'Fecha': 'full_date', 'SEXO' : 'SEX__autocolor', 'EDAD': 'AGE__autocolor', 'Día':'day', 'Mes' : 'month', 'Año':'year'})"
   ]
  },
  {
   "cell_type": "code",
   "execution_count": 204,
   "metadata": {},
   "outputs": [
    {
     "output_type": "execute_result",
     "data": {
      "text/plain": [
       "  Apellidos     Nombre       NHC CIPA  AGE__autocolor SEX__autocolor  \\\n",
       "0  ¡         FRANCISCO  2198204   NaN  71.122375       M               \n",
       "1  AAROUD    AHMIDOU    11031999  NaN  77.000000       M               \n",
       "\n",
       "                                  CENTRO SANITARIO        id Sufijo  COV>30X  \\\n",
       "0  HOSPITAL GENERAL UNIVERSITARIO GREGORIO MARAÑÓN  20423238  NaN    3.63      \n",
       "1  HOSPITAL GENERAL UNIVERSITARIO GREGORIO MARAÑÓN  20097501  NaN    39.43     \n",
       "\n",
       "      RUN DEPARTMENT__autocolor  patient_microreact   full_date   day  month  \\\n",
       "0  RUN_10  NaN                  NaN                  28/10/2020  28.0  10.0    \n",
       "1  RUN_12  NaN                  NaN                  08/04/2020  8.0   4.0     \n",
       "\n",
       "     year    Extracción Muestra GenN2_Ct CT1_PCR1 Antígeno COVID  \n",
       "0  2020.0  EX. NASAL - FARÍNGEO  17       NaN      NaN            \n",
       "1  2020.0  NaN                   NaN      NaN      NaN            "
      ],
      "text/html": "<div>\n<style scoped>\n    .dataframe tbody tr th:only-of-type {\n        vertical-align: middle;\n    }\n\n    .dataframe tbody tr th {\n        vertical-align: top;\n    }\n\n    .dataframe thead th {\n        text-align: right;\n    }\n</style>\n<table border=\"1\" class=\"dataframe\">\n  <thead>\n    <tr style=\"text-align: right;\">\n      <th></th>\n      <th>Apellidos</th>\n      <th>Nombre</th>\n      <th>NHC</th>\n      <th>CIPA</th>\n      <th>AGE__autocolor</th>\n      <th>SEX__autocolor</th>\n      <th>CENTRO SANITARIO</th>\n      <th>id</th>\n      <th>Sufijo</th>\n      <th>COV&gt;30X</th>\n      <th>RUN</th>\n      <th>DEPARTMENT__autocolor</th>\n      <th>patient_microreact</th>\n      <th>full_date</th>\n      <th>day</th>\n      <th>month</th>\n      <th>year</th>\n      <th>Extracción Muestra</th>\n      <th>GenN2_Ct</th>\n      <th>CT1_PCR1</th>\n      <th>Antígeno COVID</th>\n    </tr>\n  </thead>\n  <tbody>\n    <tr>\n      <td>0</td>\n      <td>¡</td>\n      <td>FRANCISCO</td>\n      <td>2198204</td>\n      <td>NaN</td>\n      <td>71.122375</td>\n      <td>M</td>\n      <td>HOSPITAL GENERAL UNIVERSITARIO GREGORIO MARAÑÓN</td>\n      <td>20423238</td>\n      <td>NaN</td>\n      <td>3.63</td>\n      <td>RUN_10</td>\n      <td>NaN</td>\n      <td>NaN</td>\n      <td>28/10/2020</td>\n      <td>28.0</td>\n      <td>10.0</td>\n      <td>2020.0</td>\n      <td>EX. NASAL - FARÍNGEO</td>\n      <td>17</td>\n      <td>NaN</td>\n      <td>NaN</td>\n    </tr>\n    <tr>\n      <td>1</td>\n      <td>AAROUD</td>\n      <td>AHMIDOU</td>\n      <td>11031999</td>\n      <td>NaN</td>\n      <td>77.000000</td>\n      <td>M</td>\n      <td>HOSPITAL GENERAL UNIVERSITARIO GREGORIO MARAÑÓN</td>\n      <td>20097501</td>\n      <td>NaN</td>\n      <td>39.43</td>\n      <td>RUN_12</td>\n      <td>NaN</td>\n      <td>NaN</td>\n      <td>08/04/2020</td>\n      <td>8.0</td>\n      <td>4.0</td>\n      <td>2020.0</td>\n      <td>NaN</td>\n      <td>NaN</td>\n      <td>NaN</td>\n      <td>NaN</td>\n    </tr>\n  </tbody>\n</table>\n</div>"
     },
     "metadata": {},
     "execution_count": 204
    }
   ],
   "source": [
    "wgs.head(2)"
   ]
  },
  {
   "cell_type": "code",
   "execution_count": 205,
   "metadata": {},
   "outputs": [
    {
     "output_type": "execute_result",
     "data": {
      "text/plain": [
       "Index(['Apellidos', 'Nombre', 'NHC', 'CIPA', 'AGE__autocolor',\n",
       "       'SEX__autocolor', 'CENTRO SANITARIO', 'id', 'Sufijo', 'COV>30X', 'RUN',\n",
       "       'DEPARTMENT__autocolor', 'patient_microreact', 'full_date', 'day',\n",
       "       'month', 'year', 'Extracción Muestra', 'GenN2_Ct', 'CT1_PCR1',\n",
       "       'Antígeno COVID'],\n",
       "      dtype='object')"
      ]
     },
     "metadata": {},
     "execution_count": 205
    }
   ],
   "source": [
    "wgs.columns"
   ]
  },
  {
   "cell_type": "code",
   "execution_count": 206,
   "metadata": {},
   "outputs": [],
   "source": [
    "wgs = wgs[['id', 'full_date', 'SEX__autocolor', 'AGE__autocolor', 'day', 'month', 'year']]"
   ]
  },
  {
   "cell_type": "code",
   "execution_count": 207,
   "metadata": {},
   "outputs": [
    {
     "output_type": "execute_result",
     "data": {
      "text/plain": [
       "         id   full_date SEX__autocolor  AGE__autocolor   day  month    year\n",
       "0  20423238  28/10/2020  M              71.122375       28.0  10.0   2020.0\n",
       "1  20097501  08/04/2020  M              77.000000       8.0   4.0    2020.0\n",
       "2  20395396  9/10/2020   M              80.210930       9.0   10.0   2020.0\n",
       "3  20091284  2/4/2020    M             NaN              2.0   4.0    2020.0\n",
       "4  20432945  4/11/2020   F              28.247288       4.0   11.0   2020.0"
      ],
      "text/html": "<div>\n<style scoped>\n    .dataframe tbody tr th:only-of-type {\n        vertical-align: middle;\n    }\n\n    .dataframe tbody tr th {\n        vertical-align: top;\n    }\n\n    .dataframe thead th {\n        text-align: right;\n    }\n</style>\n<table border=\"1\" class=\"dataframe\">\n  <thead>\n    <tr style=\"text-align: right;\">\n      <th></th>\n      <th>id</th>\n      <th>full_date</th>\n      <th>SEX__autocolor</th>\n      <th>AGE__autocolor</th>\n      <th>day</th>\n      <th>month</th>\n      <th>year</th>\n    </tr>\n  </thead>\n  <tbody>\n    <tr>\n      <td>0</td>\n      <td>20423238</td>\n      <td>28/10/2020</td>\n      <td>M</td>\n      <td>71.122375</td>\n      <td>28.0</td>\n      <td>10.0</td>\n      <td>2020.0</td>\n    </tr>\n    <tr>\n      <td>1</td>\n      <td>20097501</td>\n      <td>08/04/2020</td>\n      <td>M</td>\n      <td>77.000000</td>\n      <td>8.0</td>\n      <td>4.0</td>\n      <td>2020.0</td>\n    </tr>\n    <tr>\n      <td>2</td>\n      <td>20395396</td>\n      <td>9/10/2020</td>\n      <td>M</td>\n      <td>80.210930</td>\n      <td>9.0</td>\n      <td>10.0</td>\n      <td>2020.0</td>\n    </tr>\n    <tr>\n      <td>3</td>\n      <td>20091284</td>\n      <td>2/4/2020</td>\n      <td>M</td>\n      <td>NaN</td>\n      <td>2.0</td>\n      <td>4.0</td>\n      <td>2020.0</td>\n    </tr>\n    <tr>\n      <td>4</td>\n      <td>20432945</td>\n      <td>4/11/2020</td>\n      <td>F</td>\n      <td>28.247288</td>\n      <td>4.0</td>\n      <td>11.0</td>\n      <td>2020.0</td>\n    </tr>\n  </tbody>\n</table>\n</div>"
     },
     "metadata": {},
     "execution_count": 207
    }
   ],
   "source": [
    "wgs.head()"
   ]
  },
  {
   "cell_type": "code",
   "execution_count": 208,
   "metadata": {},
   "outputs": [
    {
     "output_type": "execute_result",
     "data": {
      "text/plain": [
       "(2007, 7)"
      ]
     },
     "metadata": {},
     "execution_count": 208
    }
   ],
   "source": [
    "wgs.shape"
   ]
  },
  {
   "cell_type": "code",
   "execution_count": 209,
   "metadata": {},
   "outputs": [],
   "source": [
    "wgs['id'] = wgs['id'].astype(str)"
   ]
  },
  {
   "cell_type": "code",
   "execution_count": 210,
   "metadata": {},
   "outputs": [],
   "source": [
    "samples_wgs = wgs.id.tolist()\n",
    "#samples_wgs = [str(x) for x in samples_wgs]"
   ]
  },
  {
   "cell_type": "code",
   "execution_count": 211,
   "metadata": {},
   "outputs": [],
   "source": [
    "WGS = set(samples_wgs)\n",
    "PW = set(samples)"
   ]
  },
  {
   "cell_type": "code",
   "execution_count": 212,
   "metadata": {},
   "outputs": [
    {
     "output_type": "execute_result",
     "data": {
      "text/plain": [
       "1754"
      ]
     },
     "metadata": {},
     "execution_count": 212
    }
   ],
   "source": [
    "len(PW)"
   ]
  },
  {
   "cell_type": "code",
   "execution_count": 213,
   "metadata": {},
   "outputs": [
    {
     "output_type": "execute_result",
     "data": {
      "text/plain": [
       "118"
      ]
     },
     "metadata": {},
     "execution_count": 213
    }
   ],
   "source": [
    "missing_wgs = list(PW - WGS)\n",
    "len(missing_wgs)"
   ]
  },
  {
   "cell_type": "code",
   "execution_count": 214,
   "metadata": {},
   "outputs": [
    {
     "output_type": "execute_result",
     "data": {
      "text/plain": [
       "{str: 118}"
      ]
     },
     "metadata": {},
     "execution_count": 214
    }
   ],
   "source": [
    "missing_wgs_type = [type(x) for x in missing_wgs]\n",
    "dict((x,missing_wgs_type.count(x)) for x in set(missing_wgs_type))"
   ]
  },
  {
   "cell_type": "code",
   "execution_count": 215,
   "metadata": {},
   "outputs": [
    {
     "output_type": "execute_result",
     "data": {
      "text/plain": [
       "239"
      ]
     },
     "metadata": {},
     "execution_count": 215
    }
   ],
   "source": [
    "missing_pw = list(WGS - PW)\n",
    "len(missing_pw)"
   ]
  },
  {
   "cell_type": "code",
   "execution_count": 216,
   "metadata": {},
   "outputs": [
    {
     "output_type": "execute_result",
     "data": {
      "text/plain": [
       "357"
      ]
     },
     "metadata": {},
     "execution_count": 216
    }
   ],
   "source": [
    "all_missing = missing_pw + missing_wgs\n",
    "len(all_missing)"
   ]
  },
  {
   "cell_type": "code",
   "execution_count": 217,
   "metadata": {},
   "outputs": [
    {
     "output_type": "execute_result",
     "data": {
      "text/plain": [
       "(2007, 7)"
      ]
     },
     "metadata": {},
     "execution_count": 217
    }
   ],
   "source": [
    "wgs.shape"
   ]
  },
  {
   "cell_type": "code",
   "execution_count": 218,
   "metadata": {},
   "outputs": [],
   "source": [
    "df = wgs[~wgs.id.isin(missing_pw)]"
   ]
  },
  {
   "cell_type": "code",
   "execution_count": 219,
   "metadata": {},
   "outputs": [
    {
     "output_type": "execute_result",
     "data": {
      "text/plain": [
       "(1733, 7)"
      ]
     },
     "metadata": {},
     "execution_count": 219
    }
   ],
   "source": [
    "df.shape"
   ]
  },
  {
   "cell_type": "code",
   "execution_count": 220,
   "metadata": {},
   "outputs": [],
   "source": [
    "df2 = pd.DataFrame(missing_wgs, columns=['id'])"
   ]
  },
  {
   "cell_type": "code",
   "execution_count": 221,
   "metadata": {},
   "outputs": [],
   "source": [
    "df2['id'] = df2['id'].astype(str)"
   ]
  },
  {
   "cell_type": "code",
   "execution_count": 222,
   "metadata": {},
   "outputs": [
    {
     "output_type": "execute_result",
     "data": {
      "text/plain": [
       "            id\n",
       "0  20431685BIS\n",
       "1  20461087BIS\n",
       "2  20461238BIS\n",
       "3  20164346-8 \n",
       "4  20466272BIS"
      ],
      "text/html": "<div>\n<style scoped>\n    .dataframe tbody tr th:only-of-type {\n        vertical-align: middle;\n    }\n\n    .dataframe tbody tr th {\n        vertical-align: top;\n    }\n\n    .dataframe thead th {\n        text-align: right;\n    }\n</style>\n<table border=\"1\" class=\"dataframe\">\n  <thead>\n    <tr style=\"text-align: right;\">\n      <th></th>\n      <th>id</th>\n    </tr>\n  </thead>\n  <tbody>\n    <tr>\n      <td>0</td>\n      <td>20431685BIS</td>\n    </tr>\n    <tr>\n      <td>1</td>\n      <td>20461087BIS</td>\n    </tr>\n    <tr>\n      <td>2</td>\n      <td>20461238BIS</td>\n    </tr>\n    <tr>\n      <td>3</td>\n      <td>20164346-8</td>\n    </tr>\n    <tr>\n      <td>4</td>\n      <td>20466272BIS</td>\n    </tr>\n  </tbody>\n</table>\n</div>"
     },
     "metadata": {},
     "execution_count": 222
    }
   ],
   "source": [
    "df2.head()"
   ]
  },
  {
   "cell_type": "code",
   "execution_count": 223,
   "metadata": {},
   "outputs": [
    {
     "output_type": "execute_result",
     "data": {
      "text/plain": [
       "         id   full_date SEX__autocolor  AGE__autocolor   day  month    year\n",
       "3  20091284  2/4/2020    M             NaN              2.0   4.0    2020.0\n",
       "4  20432945  4/11/2020   F              28.247288       4.0   11.0   2020.0\n",
       "5  21035911  23/1/2021   F              49.521111       23.0  1.0    2021.0\n",
       "6  21020388  15/01/2021  M              76.000000       15.0  1.0    2021.0\n",
       "8  20089098  1/4/2020    F             NaN              1.0   4.0    2020.0"
      ],
      "text/html": "<div>\n<style scoped>\n    .dataframe tbody tr th:only-of-type {\n        vertical-align: middle;\n    }\n\n    .dataframe tbody tr th {\n        vertical-align: top;\n    }\n\n    .dataframe thead th {\n        text-align: right;\n    }\n</style>\n<table border=\"1\" class=\"dataframe\">\n  <thead>\n    <tr style=\"text-align: right;\">\n      <th></th>\n      <th>id</th>\n      <th>full_date</th>\n      <th>SEX__autocolor</th>\n      <th>AGE__autocolor</th>\n      <th>day</th>\n      <th>month</th>\n      <th>year</th>\n    </tr>\n  </thead>\n  <tbody>\n    <tr>\n      <td>3</td>\n      <td>20091284</td>\n      <td>2/4/2020</td>\n      <td>M</td>\n      <td>NaN</td>\n      <td>2.0</td>\n      <td>4.0</td>\n      <td>2020.0</td>\n    </tr>\n    <tr>\n      <td>4</td>\n      <td>20432945</td>\n      <td>4/11/2020</td>\n      <td>F</td>\n      <td>28.247288</td>\n      <td>4.0</td>\n      <td>11.0</td>\n      <td>2020.0</td>\n    </tr>\n    <tr>\n      <td>5</td>\n      <td>21035911</td>\n      <td>23/1/2021</td>\n      <td>F</td>\n      <td>49.521111</td>\n      <td>23.0</td>\n      <td>1.0</td>\n      <td>2021.0</td>\n    </tr>\n    <tr>\n      <td>6</td>\n      <td>21020388</td>\n      <td>15/01/2021</td>\n      <td>M</td>\n      <td>76.000000</td>\n      <td>15.0</td>\n      <td>1.0</td>\n      <td>2021.0</td>\n    </tr>\n    <tr>\n      <td>8</td>\n      <td>20089098</td>\n      <td>1/4/2020</td>\n      <td>F</td>\n      <td>NaN</td>\n      <td>1.0</td>\n      <td>4.0</td>\n      <td>2020.0</td>\n    </tr>\n  </tbody>\n</table>\n</div>"
     },
     "metadata": {},
     "execution_count": 223
    }
   ],
   "source": [
    "df.head()"
   ]
  },
  {
   "cell_type": "code",
   "execution_count": 224,
   "metadata": {},
   "outputs": [],
   "source": [
    "final_df = df.append(df2).reset_index(drop=True)\n",
    "final_df = final_df[ ['id', 'full_date', 'SEX__autocolor', 'AGE__autocolor', 'day', 'month', 'year'] ]\n"
   ]
  },
  {
   "cell_type": "code",
   "execution_count": 225,
   "metadata": {},
   "outputs": [
    {
     "output_type": "execute_result",
     "data": {
      "text/plain": [
       "         id   full_date SEX__autocolor  AGE__autocolor   day  month    year\n",
       "0  20091284  2/4/2020    M             NaN              2.0   4.0    2020.0\n",
       "1  20432945  4/11/2020   F              28.247288       4.0   11.0   2020.0\n",
       "2  21035911  23/1/2021   F              49.521111       23.0  1.0    2021.0\n",
       "3  21020388  15/01/2021  M              76.000000       15.0  1.0    2021.0\n",
       "4  20089098  1/4/2020    F             NaN              1.0   4.0    2020.0"
      ],
      "text/html": "<div>\n<style scoped>\n    .dataframe tbody tr th:only-of-type {\n        vertical-align: middle;\n    }\n\n    .dataframe tbody tr th {\n        vertical-align: top;\n    }\n\n    .dataframe thead th {\n        text-align: right;\n    }\n</style>\n<table border=\"1\" class=\"dataframe\">\n  <thead>\n    <tr style=\"text-align: right;\">\n      <th></th>\n      <th>id</th>\n      <th>full_date</th>\n      <th>SEX__autocolor</th>\n      <th>AGE__autocolor</th>\n      <th>day</th>\n      <th>month</th>\n      <th>year</th>\n    </tr>\n  </thead>\n  <tbody>\n    <tr>\n      <td>0</td>\n      <td>20091284</td>\n      <td>2/4/2020</td>\n      <td>M</td>\n      <td>NaN</td>\n      <td>2.0</td>\n      <td>4.0</td>\n      <td>2020.0</td>\n    </tr>\n    <tr>\n      <td>1</td>\n      <td>20432945</td>\n      <td>4/11/2020</td>\n      <td>F</td>\n      <td>28.247288</td>\n      <td>4.0</td>\n      <td>11.0</td>\n      <td>2020.0</td>\n    </tr>\n    <tr>\n      <td>2</td>\n      <td>21035911</td>\n      <td>23/1/2021</td>\n      <td>F</td>\n      <td>49.521111</td>\n      <td>23.0</td>\n      <td>1.0</td>\n      <td>2021.0</td>\n    </tr>\n    <tr>\n      <td>3</td>\n      <td>21020388</td>\n      <td>15/01/2021</td>\n      <td>M</td>\n      <td>76.000000</td>\n      <td>15.0</td>\n      <td>1.0</td>\n      <td>2021.0</td>\n    </tr>\n    <tr>\n      <td>4</td>\n      <td>20089098</td>\n      <td>1/4/2020</td>\n      <td>F</td>\n      <td>NaN</td>\n      <td>1.0</td>\n      <td>4.0</td>\n      <td>2020.0</td>\n    </tr>\n  </tbody>\n</table>\n</div>"
     },
     "metadata": {},
     "execution_count": 225
    }
   ],
   "source": [
    "final_df.head()"
   ]
  },
  {
   "cell_type": "code",
   "execution_count": null,
   "metadata": {},
   "outputs": [],
   "source": []
  },
  {
   "cell_type": "code",
   "execution_count": 226,
   "metadata": {},
   "outputs": [],
   "source": [
    "metadata = pd.read_csv('/home/laura/ANALYSIS/MISC/microreact/wgs_covid_metadata.csv', encoding='latin1')\n",
    "metadata['id'] = metadata['id'].astype(str)"
   ]
  },
  {
   "cell_type": "code",
   "execution_count": 227,
   "metadata": {},
   "outputs": [
    {
     "output_type": "execute_result",
     "data": {
      "text/plain": [
       "            id DEPARTMENT__autocolor\n",
       "1214  21046824  PSIQUIATRÃA        \n",
       "1215  21050677  PSIQUIATRÃA        \n",
       "1216  20296976  REINFECCION 52      \n",
       "1217  21037795  UK princesa         \n",
       "1218  20082339  ReinfecciÃ³n PPCA   "
      ],
      "text/html": "<div>\n<style scoped>\n    .dataframe tbody tr th:only-of-type {\n        vertical-align: middle;\n    }\n\n    .dataframe tbody tr th {\n        vertical-align: top;\n    }\n\n    .dataframe thead th {\n        text-align: right;\n    }\n</style>\n<table border=\"1\" class=\"dataframe\">\n  <thead>\n    <tr style=\"text-align: right;\">\n      <th></th>\n      <th>id</th>\n      <th>DEPARTMENT__autocolor</th>\n    </tr>\n  </thead>\n  <tbody>\n    <tr>\n      <td>1214</td>\n      <td>21046824</td>\n      <td>PSIQUIATRÃA</td>\n    </tr>\n    <tr>\n      <td>1215</td>\n      <td>21050677</td>\n      <td>PSIQUIATRÃA</td>\n    </tr>\n    <tr>\n      <td>1216</td>\n      <td>20296976</td>\n      <td>REINFECCION 52</td>\n    </tr>\n    <tr>\n      <td>1217</td>\n      <td>21037795</td>\n      <td>UK princesa</td>\n    </tr>\n    <tr>\n      <td>1218</td>\n      <td>20082339</td>\n      <td>ReinfecciÃ³n PPCA</td>\n    </tr>\n  </tbody>\n</table>\n</div>"
     },
     "metadata": {},
     "execution_count": 227
    }
   ],
   "source": [
    "metadata.tail()"
   ]
  },
  {
   "cell_type": "code",
   "execution_count": 228,
   "metadata": {},
   "outputs": [
    {
     "output_type": "stream",
     "name": "stdout",
     "text": [
      "<class 'pandas.core.frame.DataFrame'>\nRangeIndex: 1219 entries, 0 to 1218\nData columns (total 2 columns):\nid                       1219 non-null object\nDEPARTMENT__autocolor    1219 non-null object\ndtypes: object(2)\nmemory usage: 19.2+ KB\n"
     ]
    }
   ],
   "source": [
    "metadata.info()"
   ]
  },
  {
   "cell_type": "code",
   "execution_count": 229,
   "metadata": {},
   "outputs": [
    {
     "output_type": "stream",
     "name": "stdout",
     "text": [
      "<class 'pandas.core.frame.DataFrame'>\nRangeIndex: 1851 entries, 0 to 1850\nData columns (total 7 columns):\nid                1851 non-null object\nfull_date         1730 non-null object\nSEX__autocolor    1590 non-null object\nAGE__autocolor    1655 non-null float64\nday               1730 non-null float64\nmonth             1730 non-null float64\nyear              1730 non-null float64\ndtypes: float64(4), object(3)\nmemory usage: 101.4+ KB\n"
     ]
    }
   ],
   "source": [
    "final_df.info()"
   ]
  },
  {
   "cell_type": "code",
   "execution_count": 230,
   "metadata": {},
   "outputs": [],
   "source": [
    "final_df = final_df.fillna(0)\n",
    "final_df.day = final_df.day.astype('Int64')\n",
    "final_df.month = final_df.month.astype('Int64')\n",
    "final_df.year = final_df.year.astype('Int64')\n",
    "final_df.replace(0, np.nan, inplace=True)"
   ]
  },
  {
   "cell_type": "code",
   "execution_count": 231,
   "metadata": {},
   "outputs": [],
   "source": [
    "final_df = final_df.merge(metadata, how='outer')"
   ]
  },
  {
   "cell_type": "code",
   "execution_count": 232,
   "metadata": {},
   "outputs": [
    {
     "output_type": "stream",
     "name": "stdout",
     "text": [
      "<class 'pandas.core.frame.DataFrame'>\nInt64Index: 1966 entries, 0 to 1965\nData columns (total 8 columns):\nid                       1966 non-null object\nfull_date                1740 non-null object\nSEX__autocolor           1600 non-null object\nAGE__autocolor           1665 non-null float64\nday                      1740 non-null Int64\nmonth                    1740 non-null Int64\nyear                     1740 non-null Int64\nDEPARTMENT__autocolor    1316 non-null object\ndtypes: Int64(3), float64(1), object(4)\nmemory usage: 144.0+ KB\n"
     ]
    }
   ],
   "source": [
    "final_df.info()"
   ]
  },
  {
   "cell_type": "code",
   "execution_count": 233,
   "metadata": {},
   "outputs": [
    {
     "output_type": "execute_result",
     "data": {
      "text/plain": [
       "            id full_date SEX__autocolor  AGE__autocolor  day  month  year  \\\n",
       "1961  21050541  NaN       NaN           NaN              NaN  NaN    NaN    \n",
       "1962  21046256  NaN       NaN           NaN              NaN  NaN    NaN    \n",
       "1963  20296976  NaN       NaN           NaN              NaN  NaN    NaN    \n",
       "1964  21037795  NaN       NaN           NaN              NaN  NaN    NaN    \n",
       "1965  20082339  NaN       NaN           NaN              NaN  NaN    NaN    \n",
       "\n",
       "     DEPARTMENT__autocolor  \n",
       "1961  BROTE  2201           \n",
       "1962  PSIQUIATRÃA          \n",
       "1963  REINFECCION 52        \n",
       "1964  UK princesa           \n",
       "1965  ReinfecciÃ³n PPCA     "
      ],
      "text/html": "<div>\n<style scoped>\n    .dataframe tbody tr th:only-of-type {\n        vertical-align: middle;\n    }\n\n    .dataframe tbody tr th {\n        vertical-align: top;\n    }\n\n    .dataframe thead th {\n        text-align: right;\n    }\n</style>\n<table border=\"1\" class=\"dataframe\">\n  <thead>\n    <tr style=\"text-align: right;\">\n      <th></th>\n      <th>id</th>\n      <th>full_date</th>\n      <th>SEX__autocolor</th>\n      <th>AGE__autocolor</th>\n      <th>day</th>\n      <th>month</th>\n      <th>year</th>\n      <th>DEPARTMENT__autocolor</th>\n    </tr>\n  </thead>\n  <tbody>\n    <tr>\n      <td>1961</td>\n      <td>21050541</td>\n      <td>NaN</td>\n      <td>NaN</td>\n      <td>NaN</td>\n      <td>NaN</td>\n      <td>NaN</td>\n      <td>NaN</td>\n      <td>BROTE  2201</td>\n    </tr>\n    <tr>\n      <td>1962</td>\n      <td>21046256</td>\n      <td>NaN</td>\n      <td>NaN</td>\n      <td>NaN</td>\n      <td>NaN</td>\n      <td>NaN</td>\n      <td>NaN</td>\n      <td>PSIQUIATRÃA</td>\n    </tr>\n    <tr>\n      <td>1963</td>\n      <td>20296976</td>\n      <td>NaN</td>\n      <td>NaN</td>\n      <td>NaN</td>\n      <td>NaN</td>\n      <td>NaN</td>\n      <td>NaN</td>\n      <td>REINFECCION 52</td>\n    </tr>\n    <tr>\n      <td>1964</td>\n      <td>21037795</td>\n      <td>NaN</td>\n      <td>NaN</td>\n      <td>NaN</td>\n      <td>NaN</td>\n      <td>NaN</td>\n      <td>NaN</td>\n      <td>UK princesa</td>\n    </tr>\n    <tr>\n      <td>1965</td>\n      <td>20082339</td>\n      <td>NaN</td>\n      <td>NaN</td>\n      <td>NaN</td>\n      <td>NaN</td>\n      <td>NaN</td>\n      <td>NaN</td>\n      <td>ReinfecciÃ³n PPCA</td>\n    </tr>\n  </tbody>\n</table>\n</div>"
     },
     "metadata": {},
     "execution_count": 233
    }
   ],
   "source": [
    "final_df.tail()"
   ]
  },
  {
   "cell_type": "code",
   "execution_count": 234,
   "metadata": {},
   "outputs": [],
   "source": [
    "def extract_lineage(sample):\n",
    "    pango_file = os.path.join('/home/laura/ANALYSIS/VARIANT_CALLING/COVID/Annotation/pangolin', str(sample) + \".lineage.csv\")\n",
    "    if os.path.exists(pango_file):\n",
    "        df = pd.read_csv(pango_file)\n",
    "        return df.lineage[0]\n",
    "    else:\n",
    "        return None"
   ]
  },
  {
   "cell_type": "code",
   "execution_count": 235,
   "metadata": {},
   "outputs": [],
   "source": [
    "final_df['Lineage__autocolor'] = final_df.apply(lambda x: extract_lineage(x['id']), axis=1)"
   ]
  },
  {
   "cell_type": "code",
   "execution_count": 236,
   "metadata": {},
   "outputs": [],
   "source": [
    "def extract_EU(sample):\n",
    "    eu_file = os.path.join('/home/laura/ANALYSIS/VARIANT_CALLING/COVID/Annotation/user', str(sample) + \".tsv\")\n",
    "    if os.path.exists(eu_file):\n",
    "        df = pd.read_csv(eu_file, sep=\"\\t\")\n",
    "        if 'Nextrain_all' in df.columns:\n",
    "            eulist = df.Nextrain_all.dropna().tolist()\n",
    "            return (',').join([(x + \"-\" + str(eulist.count(x))) for x in set(eulist)])\n",
    "        else:\n",
    "            return None"
   ]
  },
  {
   "cell_type": "code",
   "execution_count": 237,
   "metadata": {},
   "outputs": [],
   "source": [
    "final_df['Nextrain__autocolor'] = final_df.apply(lambda x: extract_EU(x['id']), axis=1)"
   ]
  },
  {
   "cell_type": "code",
   "execution_count": 238,
   "metadata": {},
   "outputs": [],
   "source": [
    "def extract_resistance(sample):\n",
    "    res_file = os.path.join('/home/laura/ANALYSIS/VARIANT_CALLING/COVID/Annotation/user_aa', str(sample) + \".tsv\")\n",
    "    if os.path.exists(res_file):\n",
    "        df = pd.read_csv(res_file, sep=\"\\t\")\n",
    "        if 'resistance_covid' in df.columns:\n",
    "            relist = df.resistance_covid.dropna().tolist()\n",
    "            return (',').join([(x + \"-\" + str(relist.count(x))) for x in set(relist)])\n",
    "        else:\n",
    "            return None"
   ]
  },
  {
   "cell_type": "code",
   "execution_count": 239,
   "metadata": {},
   "outputs": [],
   "source": [
    "final_df['Resistance__autocolor'] = final_df.apply(lambda x: extract_resistance(x['id']), axis=1)"
   ]
  },
  {
   "cell_type": "code",
   "execution_count": 240,
   "metadata": {},
   "outputs": [],
   "source": [
    "def extract_variant(sample):\n",
    "    res_file = os.path.join('/home/laura/ANALYSIS/VARIANT_CALLING/COVID/Annotation/user_aa', str(sample) + \".tsv\")\n",
    "    if os.path.exists(res_file):\n",
    "        df = pd.read_csv(res_file, sep=\"\\t\")\n",
    "        if 'Variants' in df.columns:\n",
    "            df = df.drop_duplicates(subset=['Variants'], keep=\"first\")\n",
    "            relist = df.Variants.dropna().tolist()\n",
    "            return (',').join([(x + \"-\" + str(relist.count(x))) for x in set(relist)])\n",
    "        else:\n",
    "            return None"
   ]
  },
  {
   "cell_type": "code",
   "execution_count": 241,
   "metadata": {},
   "outputs": [],
   "source": [
    "final_df['VariantsAll__autocolor'] = final_df.apply(lambda x: extract_variant(x['id']), axis=1)"
   ]
  },
  {
   "cell_type": "code",
   "execution_count": 242,
   "metadata": {},
   "outputs": [],
   "source": [
    "def extract_variant_count(sample):\n",
    "    res_file = os.path.join('/home/laura/ANALYSIS/VARIANT_CALLING/COVID/Annotation/user_aa', str(sample) + \".tsv\")\n",
    "    if os.path.exists(res_file):\n",
    "        df = pd.read_csv(res_file, sep=\"\\t\")\n",
    "        if 'Variants' in df.columns:\n",
    "            df = df.drop_duplicates(subset=['Variants'], keep=\"first\")\n",
    "            relist = df.Variants.dropna().tolist()\n",
    "            relist = [x.split(\":\")[1] for x in relist]\n",
    "            return (',').join([(x + \"-\" + str(relist.count(x))) for x in set(relist)])\n",
    "        else:\n",
    "            return None"
   ]
  },
  {
   "cell_type": "code",
   "execution_count": 243,
   "metadata": {},
   "outputs": [],
   "source": [
    "final_df['VariantsCount__autocolor'] = final_df.apply(lambda x: extract_variant_count(x['id']), axis=1)"
   ]
  },
  {
   "cell_type": "code",
   "execution_count": 244,
   "metadata": {},
   "outputs": [],
   "source": [
    "def extract_variant_UK(sample):\n",
    "    res_file = os.path.join('/home/laura/ANALYSIS/VARIANT_CALLING/COVID/Annotation/user_aa', str(sample) + \".tsv\")\n",
    "    if os.path.exists(res_file):\n",
    "        df = pd.read_csv(res_file, sep=\"\\t\")\n",
    "        if 'UKVariant' in df.columns: #Change header\n",
    "            df = df.drop_duplicates(subset=['UKVariant'], keep=\"first\") #Change header\n",
    "            relist = df.UKVariant.dropna().tolist() #Change header\n",
    "            relist = [x.split(\":\")[1] for x in relist]\n",
    "            return (',').join([(x + \"-\" + str(relist.count(x))) for x in set(relist)])\n",
    "        else:\n",
    "            return None\n",
    "\n",
    "def extract_variant_D(sample):\n",
    "    res_file = os.path.join('/home/laura/ANALYSIS/VARIANT_CALLING/COVID/Annotation/user_aa', str(sample) + \".tsv\")\n",
    "    if os.path.exists(res_file):\n",
    "        df = pd.read_csv(res_file, sep=\"\\t\")\n",
    "        if 'DVariant' in df.columns: #Change header\n",
    "            df = df.drop_duplicates(subset=['DVariant'], keep=\"first\") #Change header\n",
    "            relist = df.DVariant.dropna().tolist() #Change header\n",
    "            relist = [x.split(\":\")[1] for x in relist]\n",
    "            return (',').join([(x + \"-\" + str(relist.count(x))) for x in set(relist)])\n",
    "        else:\n",
    "            return None\n",
    "\n",
    "def extract_variant_69del(sample):\n",
    "    res_file = os.path.join('/home/laura/ANALYSIS/VARIANT_CALLING/COVID/Annotation/user_aa', str(sample) + \".tsv\")\n",
    "    if os.path.exists(res_file):\n",
    "        df = pd.read_csv(res_file, sep=\"\\t\")\n",
    "        if '69del' in df.columns: #Change header\n",
    "            df = df.drop_duplicates(subset=['69del'], keep=\"first\") #Change header\n",
    "            relist = df['69del'].dropna().tolist() #Change header\n",
    "            relist = [x.split(\":\")[1] for x in relist]\n",
    "            return (',').join([(x + \"-\" + str(relist.count(x))) for x in set(relist)])\n",
    "        else:\n",
    "            return None"
   ]
  },
  {
   "cell_type": "code",
   "execution_count": 245,
   "metadata": {},
   "outputs": [],
   "source": [
    "final_df['UKVariant__autocolor'] = final_df.apply(lambda x: extract_variant_UK(x['id']), axis=1)\n",
    "final_df['DVariant__autocolor'] = final_df.apply(lambda x: extract_variant_D(x['id']), axis=1)\n",
    "final_df['69del__autocolor'] = final_df.apply(lambda x: extract_variant_69del(x['id']), axis=1)"
   ]
  },
  {
   "cell_type": "code",
   "execution_count": 246,
   "metadata": {},
   "outputs": [],
   "source": [
    "def extract_faulty(sample):\n",
    "    sample_report = os.path.join(compare_folder, \"report_samples.tsv\")\n",
    "    df = pd.read_csv(sample_report, sep=\"\\t\")\n",
    "    df['sample'] = df['sample'].astype(str)\n",
    "    if str(sample) in df['sample'].values:\n",
    "        return round(df[df['sample'] == str(sample)]['faulty_frac'].values[0], 3)\n",
    "    else:\n",
    "        return None"
   ]
  },
  {
   "cell_type": "code",
   "execution_count": 247,
   "metadata": {},
   "outputs": [],
   "source": [
    "final_df['FaultyFraction__autocolor'] = final_df.apply(lambda x: extract_faulty(x['id']), axis=1)"
   ]
  },
  {
   "cell_type": "code",
   "execution_count": 248,
   "metadata": {},
   "outputs": [],
   "source": [
    "#query = ['20097501','20097906','20099990','20101024','20107580','20143658','20214237','20247923','20398264','20425128','20425595','20428122','20431031','20435733','20450595','20450832','20455085','20455763','20455870','20458052','20458113','20458114','20458118','20458269','20458270','20458365','20458528','20458547','20458560','20458569','20458576','20458635','20458638','20458668','20458686','20458702','20461287','20461287-BIS','20461290','20461293','20461349','20461351','20461375','20461389','20461389-BIS','20461392','20461416','20461563','20461601','20461621','20461637','20461637-BIS','20461689','20461747','20461783','20461785','20461790','20461801','20461861','20461869','20461870','20461871','20461886','20461904','20461905','20461907','20461908','20461926','20461928','20461937','20461953','20461968','20464095','20464109','20464109-BIS','20464197','20464303','20464456','20464490','20464493','20464516','20464517','20464519','20464521','20464532','20464534','20464567','20464570','20464580','20464595','20464599','20464600','20464612','20464613','20464614','20464636']\n",
    "#query_dario = [str(x) for x in query_dario]\n"
   ]
  },
  {
   "cell_type": "code",
   "execution_count": 249,
   "metadata": {},
   "outputs": [],
   "source": [
    "#final_df['run12Maldito__autocolor'] = final_df.apply(lambda x: x['id'] in query, axis=1)\n"
   ]
  },
  {
   "cell_type": "code",
   "execution_count": 250,
   "metadata": {},
   "outputs": [],
   "source": [
    "before_june = final_df[final_df.month < 7]['id'].tolist()\n",
    "before_june = [str(x) for x in before_june]\n",
    "final_df['before_june_2020__autocolor'] = final_df.apply(lambda x: x['id'] in before_june, axis=1)"
   ]
  },
  {
   "cell_type": "code",
   "execution_count": 251,
   "metadata": {},
   "outputs": [],
   "source": [
    "final_df = final_df.drop_duplicates(subset=['id'], keep=\"first\")\n",
    "#REORDER COLUMNS\n",
    "final_df = final_df[['DEPARTMENT__autocolor'] + [ col for col in final_df.columns if col != 'DEPARTMENT__autocolor']]\n",
    "\n",
    "out_file = os.path.join(compare_folder, 'wgs_microreact.csv')\n",
    "final_df.to_csv(out_file, index=False)"
   ]
  },
  {
   "cell_type": "code",
   "execution_count": 252,
   "metadata": {},
   "outputs": [
    {
     "output_type": "execute_result",
     "data": {
      "text/plain": [
       "  DEPARTMENT__autocolor        id   full_date SEX__autocolor  AGE__autocolor  \\\n",
       "0  NaN                   20091284  2/4/2020    M             NaN               \n",
       "1  TRABAJADORES_OCT_NOV  20432945  4/11/2020   F              28.247288        \n",
       "2  Trabajadores          21035911  23/1/2021   F              49.521111        \n",
       "3  SOSPECHA UK           21020388  15/01/2021  M              76.000000        \n",
       "4  NaN                   20089098  1/4/2020    F             NaN               \n",
       "\n",
       "   day  month  year Lineage__autocolor Nextrain__autocolor  \\\n",
       "0  2    4      2020  None               20A-2                \n",
       "1  4    11     2020  B.1.177            20A-2,20AEU1-3       \n",
       "2  23   1      2021  B.1.177            20A-2,20AEU1-3       \n",
       "3  15   1      2021  None               20B-3,20A-2          \n",
       "4  1    4      2020  None               19B-3                \n",
       "\n",
       "  Resistance__autocolor  \\\n",
       "0                         \n",
       "1                         \n",
       "2                         \n",
       "3                         \n",
       "4                         \n",
       "\n",
       "                                                                                                                                                                                                                                                                                                                                                                                           VariantsAll__autocolor  \\\n",
       "0                                                                                                                                                                                                                                                                                                                                                                                                                   \n",
       "1                                                                                                                                                                                                                                                                                                                                                                                                                   \n",
       "2                                                                                                                                                                                                                                                                                                                                                                                                                   \n",
       "3  Ala1708Asp:UKVariant-1,Ile2230Thr:UKVariant-1,Thr716Ile:UKVariant,DVariant-1,Ala570Asp:UKVariant-1,Arg52Ile:UKVariant-1,Ser982Ala:UKVariant-1,Ser235Phe:UKVariant-1,Asn501Tyr:UKVariant,ZAVariant,P1Variant-1,Gly3676del:UKVariant,P1Variant-1,Gln27*:UKVariant-1,Thr1001Ile:UKVariant-1,His69del:UKVariant-1,Tyr73Cys:UKVariant-1,Pro681His:UKVariant,DVariant-1,Asp1118His:UKVariant-1,Tyr144del:UKVariant-1   \n",
       "4                                                                                                                                                                                                                                                                                                                                                                                                                   \n",
       "\n",
       "                                                                  VariantsCount__autocolor  \\\n",
       "0                                                                                            \n",
       "1                                                                                            \n",
       "2                                                                                            \n",
       "3  UKVariant,ZAVariant,P1Variant-1,UKVariant-12,UKVariant,P1Variant-1,UKVariant,DVariant-2   \n",
       "4                                                                                            \n",
       "\n",
       "  UKVariant__autocolor DVariant__autocolor 69del__autocolor  \\\n",
       "0  None                 None                None              \n",
       "1  None                 None                None              \n",
       "2  None                 None                None              \n",
       "3  None                 None                None              \n",
       "4  None                 None                None              \n",
       "\n",
       "   FaultyFraction__autocolor  before_june_2020__autocolor  \n",
       "0  0.001                      True                         \n",
       "1  0.001                      False                        \n",
       "2  0.001                      True                         \n",
       "3  0.005                      True                         \n",
       "4  0.000                      True                         "
      ],
      "text/html": "<div>\n<style scoped>\n    .dataframe tbody tr th:only-of-type {\n        vertical-align: middle;\n    }\n\n    .dataframe tbody tr th {\n        vertical-align: top;\n    }\n\n    .dataframe thead th {\n        text-align: right;\n    }\n</style>\n<table border=\"1\" class=\"dataframe\">\n  <thead>\n    <tr style=\"text-align: right;\">\n      <th></th>\n      <th>DEPARTMENT__autocolor</th>\n      <th>id</th>\n      <th>full_date</th>\n      <th>SEX__autocolor</th>\n      <th>AGE__autocolor</th>\n      <th>day</th>\n      <th>month</th>\n      <th>year</th>\n      <th>Lineage__autocolor</th>\n      <th>Nextrain__autocolor</th>\n      <th>Resistance__autocolor</th>\n      <th>VariantsAll__autocolor</th>\n      <th>VariantsCount__autocolor</th>\n      <th>UKVariant__autocolor</th>\n      <th>DVariant__autocolor</th>\n      <th>69del__autocolor</th>\n      <th>FaultyFraction__autocolor</th>\n      <th>before_june_2020__autocolor</th>\n    </tr>\n  </thead>\n  <tbody>\n    <tr>\n      <td>0</td>\n      <td>NaN</td>\n      <td>20091284</td>\n      <td>2/4/2020</td>\n      <td>M</td>\n      <td>NaN</td>\n      <td>2</td>\n      <td>4</td>\n      <td>2020</td>\n      <td>None</td>\n      <td>20A-2</td>\n      <td></td>\n      <td></td>\n      <td></td>\n      <td>None</td>\n      <td>None</td>\n      <td>None</td>\n      <td>0.001</td>\n      <td>True</td>\n    </tr>\n    <tr>\n      <td>1</td>\n      <td>TRABAJADORES_OCT_NOV</td>\n      <td>20432945</td>\n      <td>4/11/2020</td>\n      <td>F</td>\n      <td>28.247288</td>\n      <td>4</td>\n      <td>11</td>\n      <td>2020</td>\n      <td>B.1.177</td>\n      <td>20A-2,20AEU1-3</td>\n      <td></td>\n      <td></td>\n      <td></td>\n      <td>None</td>\n      <td>None</td>\n      <td>None</td>\n      <td>0.001</td>\n      <td>False</td>\n    </tr>\n    <tr>\n      <td>2</td>\n      <td>Trabajadores</td>\n      <td>21035911</td>\n      <td>23/1/2021</td>\n      <td>F</td>\n      <td>49.521111</td>\n      <td>23</td>\n      <td>1</td>\n      <td>2021</td>\n      <td>B.1.177</td>\n      <td>20A-2,20AEU1-3</td>\n      <td></td>\n      <td></td>\n      <td></td>\n      <td>None</td>\n      <td>None</td>\n      <td>None</td>\n      <td>0.001</td>\n      <td>True</td>\n    </tr>\n    <tr>\n      <td>3</td>\n      <td>SOSPECHA UK</td>\n      <td>21020388</td>\n      <td>15/01/2021</td>\n      <td>M</td>\n      <td>76.000000</td>\n      <td>15</td>\n      <td>1</td>\n      <td>2021</td>\n      <td>None</td>\n      <td>20B-3,20A-2</td>\n      <td></td>\n      <td>Ala1708Asp:UKVariant-1,Ile2230Thr:UKVariant-1,Thr716Ile:UKVariant,DVariant-1,Ala570Asp:UKVariant-1,Arg52Ile:UKVariant-1,Ser982Ala:UKVariant-1,Ser235Phe:UKVariant-1,Asn501Tyr:UKVariant,ZAVariant,P1Variant-1,Gly3676del:UKVariant,P1Variant-1,Gln27*:UKVariant-1,Thr1001Ile:UKVariant-1,His69del:UKVariant-1,Tyr73Cys:UKVariant-1,Pro681His:UKVariant,DVariant-1,Asp1118His:UKVariant-1,Tyr144del:UKVariant-1</td>\n      <td>UKVariant,ZAVariant,P1Variant-1,UKVariant-12,UKVariant,P1Variant-1,UKVariant,DVariant-2</td>\n      <td>None</td>\n      <td>None</td>\n      <td>None</td>\n      <td>0.005</td>\n      <td>True</td>\n    </tr>\n    <tr>\n      <td>4</td>\n      <td>NaN</td>\n      <td>20089098</td>\n      <td>1/4/2020</td>\n      <td>F</td>\n      <td>NaN</td>\n      <td>1</td>\n      <td>4</td>\n      <td>2020</td>\n      <td>None</td>\n      <td>19B-3</td>\n      <td></td>\n      <td></td>\n      <td></td>\n      <td>None</td>\n      <td>None</td>\n      <td>None</td>\n      <td>0.000</td>\n      <td>True</td>\n    </tr>\n  </tbody>\n</table>\n</div>"
     },
     "metadata": {},
     "execution_count": 252
    }
   ],
   "source": [
    "final_df.head()"
   ]
  },
  {
   "cell_type": "code",
   "execution_count": null,
   "metadata": {},
   "outputs": [],
   "source": []
  },
  {
   "cell_type": "code",
   "execution_count": null,
   "metadata": {},
   "outputs": [],
   "source": []
  }
 ],
 "metadata": {
  "kernelspec": {
   "display_name": "Python 3",
   "language": "python",
   "name": "python3"
  },
  "language_info": {
   "codemirror_mode": {
    "name": "ipython",
    "version": 3
   },
   "file_extension": ".py",
   "mimetype": "text/x-python",
   "name": "python",
   "nbconvert_exporter": "python",
   "pygments_lexer": "ipython3",
   "version": "3.7.4-final"
  }
 },
 "nbformat": 4,
 "nbformat_minor": 2
}