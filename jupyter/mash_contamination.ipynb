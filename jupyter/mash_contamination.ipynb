{
 "cells": [
  {
   "cell_type": "code",
   "execution_count": 1,
   "metadata": {},
   "outputs": [],
   "source": [
    "import os\n",
    "import sys\n",
    "import re\n",
    "import pandas as pd\n",
    "\n",
    "pd.set_option('display.max_columns', None)\n",
    "pd.set_option('display.max_rows', None)\n",
    "pd.set_option('display.max_colwidth', -1)"
   ]
  },
  {
   "cell_type": "code",
   "execution_count": 2,
   "metadata": {},
   "outputs": [],
   "source": [
    "#INPUTS\n",
    "folder='/processing_Data/antibioticos/sgarciacobos/projects/virulence_kpOXA48_NL_ES/ANALYSIS/mash'"
   ]
  },
  {
   "cell_type": "code",
   "execution_count": 7,
   "metadata": {},
   "outputs": [],
   "source": [
    "def return_best_matches(screen_file):\n",
    "    df = pd.read_csv(screen_file, sep='\\t', names=['identity', 'shared-hashes', 'median-multiplicity', 'p-value', 'query-ID', 'query-comment'])\n",
    "    df = df[~df['query-comment'].str.contains(' phage')]\n",
    "    df = df[~df['query-comment'].str.contains(' Phage')]\n",
    "    df = df.sort_values(by=['identity'], ascending=False)\n",
    "    df.reset_index(inplace=True)\n",
    "    return df[df.identity > 0.9]"
   ]
  },
  {
   "cell_type": "code",
   "execution_count": 51,
   "metadata": {},
   "outputs": [
    {
     "data": {
      "text/html": [
       "<div>\n",
       "<style scoped>\n",
       "    .dataframe tbody tr th:only-of-type {\n",
       "        vertical-align: middle;\n",
       "    }\n",
       "\n",
       "    .dataframe tbody tr th {\n",
       "        vertical-align: top;\n",
       "    }\n",
       "\n",
       "    .dataframe thead th {\n",
       "        text-align: right;\n",
       "    }\n",
       "</style>\n",
       "<table border=\"1\" class=\"dataframe\">\n",
       "  <thead>\n",
       "    <tr style=\"text-align: right;\">\n",
       "      <th></th>\n",
       "      <th>index</th>\n",
       "      <th>identity</th>\n",
       "      <th>shared-hashes</th>\n",
       "      <th>median-multiplicity</th>\n",
       "      <th>p-value</th>\n",
       "      <th>query-ID</th>\n",
       "      <th>query-comment</th>\n",
       "    </tr>\n",
       "  </thead>\n",
       "  <tbody>\n",
       "    <tr>\n",
       "      <th>0</th>\n",
       "      <td>238</td>\n",
       "      <td>0.999618</td>\n",
       "      <td>992/1000</td>\n",
       "      <td>10</td>\n",
       "      <td>0.0</td>\n",
       "      <td>GCF_000779545.1_ASM77954v1_genomic.fna.gz</td>\n",
       "      <td>[141 seqs] NZ_JSLT01000002.1 Escherichia coli strain upec-193 upec-193_ctg_2220, whole genome shotgun sequence [...]</td>\n",
       "    </tr>\n",
       "    <tr>\n",
       "      <th>1</th>\n",
       "      <td>984</td>\n",
       "      <td>0.998058</td>\n",
       "      <td>960/1000</td>\n",
       "      <td>34</td>\n",
       "      <td>0.0</td>\n",
       "      <td>GCF_900086545.1_12082_5_28_genomic.fna.gz</td>\n",
       "      <td>[47 seqs] NZ_FLJZ01000001.1 Klebsiella pneumoniae strain k1206, whole genome shotgun sequence [...]</td>\n",
       "    </tr>\n",
       "  </tbody>\n",
       "</table>\n",
       "</div>"
      ],
      "text/plain": [
       "   index  identity shared-hashes  median-multiplicity  p-value  \\\n",
       "0  238    0.999618  992/1000      10                   0.0       \n",
       "1  984    0.998058  960/1000      34                   0.0       \n",
       "\n",
       "                                    query-ID  \\\n",
       "0  GCF_000779545.1_ASM77954v1_genomic.fna.gz   \n",
       "1  GCF_900086545.1_12082_5_28_genomic.fna.gz   \n",
       "\n",
       "                                                                                                          query-comment  \n",
       "0  [141 seqs] NZ_JSLT01000002.1 Escherichia coli strain upec-193 upec-193_ctg_2220, whole genome shotgun sequence [...]  \n",
       "1  [47 seqs] NZ_FLJZ01000001.1 Klebsiella pneumoniae strain k1206, whole genome shotgun sequence [...]                   "
      ]
     },
     "execution_count": 51,
     "metadata": {},
     "output_type": "execute_result"
    }
   ],
   "source": [
    "return_best_matches('/processing_Data/antibioticos/sgarciacobos/projects/virulence_kpOXA48_NL_ES/ANALYSIS/mash/ISC11/ISC11.screen.winner.tab')"
   ]
  },
  {
   "cell_type": "code",
   "execution_count": 9,
   "metadata": {},
   "outputs": [],
   "source": [
    "df_mash = return_best_matches('/processing_Data/antibioticos/sgarciacobos/projects/virulence_kpOXA48_NL_ES/ANALYSIS/mash/ISC11/ISC11.screen.winner.tab')"
   ]
  },
  {
   "cell_type": "code",
   "execution_count": 20,
   "metadata": {},
   "outputs": [
    {
     "data": {
      "text/plain": [
       "2"
      ]
     },
     "execution_count": 20,
     "metadata": {},
     "output_type": "execute_result"
    }
   ],
   "source": [
    "df_mash.shape[0]"
   ]
  },
  {
   "cell_type": "code",
   "execution_count": 110,
   "metadata": {},
   "outputs": [],
   "source": [
    "def extract_species(df_line):\n",
    "    split_query = df_line['query-comment'].split(' ')\n",
    "    if re.match(r'^\\[.{4,10}\\]', df_line['query-comment']):\n",
    "        return ' '.join(split_query[3:5])\n",
    "    else:\n",
    "        return ' '.join(split_query[1:3])\n",
    "\n",
    "def report_contamination(df_mash):\n",
    "    '''\n",
    "    Dependencies:   -df_mash\n",
    "                    -extract_species(df_line)\n",
    "    '''\n",
    "    main_species = extract_species(df_mash.iloc[0])\n",
    "    contamination_report = \"Main species: \" + main_species + \"\\n\"\n",
    "    if df_mash.shape[0] > 1:\n",
    "        for index, data_row in df_mash.iloc[1:].iterrows():\n",
    "            hashes = data_row['shared-hashes'] #.split('/')[0]\n",
    "            contamined_species = extract_species(data_row)\n",
    "            if contamined_species != main_species:\n",
    "                contamination_report = contamination_report + 'Contamination: ' + str(hashes) + \" \" + contamined_species + \"\\n\"\n",
    "    return contamination_report"
   ]
  },
  {
   "cell_type": "code",
   "execution_count": 111,
   "metadata": {},
   "outputs": [
    {
     "data": {
      "text/plain": [
       "'Main species: Escherichia coli\\nContamination: 960/1000 Klebsiella pneumoniae\\n'"
      ]
     },
     "execution_count": 111,
     "metadata": {},
     "output_type": "execute_result"
    }
   ],
   "source": [
    "report_contamination(df_mash)"
   ]
  },
  {
   "cell_type": "code",
   "execution_count": 114,
   "metadata": {},
   "outputs": [],
   "source": [
    "def find_contamination_mash(folder):\n",
    "    '''\n",
    "    Dependencies:   -input folder\n",
    "                    -def return_best_matches(screen_file)\n",
    "                    -report_contamination(df_mash)\n",
    "    '''\n",
    "    \n",
    "    #Find common reference from mash result\n",
    "    for root, _, files in os.walk(folder):\n",
    "        for name in files:\n",
    "            if name.endswith(\".winner.tab\"):\n",
    "                filename = os.path.join(root, name)\n",
    "                sample = name.split('.')[0]\n",
    "                best_matches = return_best_matches(filename)\n",
    "                return sample + \"\\n\" + report_contamination(best_matches)"
   ]
  },
  {
   "cell_type": "code",
   "execution_count": 115,
   "metadata": {},
   "outputs": [
    {
     "data": {
      "text/plain": [
       "'544651_Kpn\\nMain species: Klebsiella pneumoniae\\n'"
      ]
     },
     "execution_count": 115,
     "metadata": {},
     "output_type": "execute_result"
    }
   ],
   "source": [
    "find_contamination_mash(folder)"
   ]
  },
  {
   "cell_type": "code",
   "execution_count": null,
   "metadata": {},
   "outputs": [],
   "source": []
  }
 ],
 "metadata": {
  "kernelspec": {
   "display_name": "Python 3",
   "language": "python",
   "name": "python3"
  },
  "language_info": {
   "codemirror_mode": {
    "name": "ipython",
    "version": 3
   },
   "file_extension": ".py",
   "mimetype": "text/x-python",
   "name": "python",
   "nbconvert_exporter": "python",
   "pygments_lexer": "ipython3",
   "version": "3.6.10"
  }
 },
 "nbformat": 4,
 "nbformat_minor": 2
}
