{
 "metadata": {
  "language_info": {
   "codemirror_mode": {
    "name": "ipython",
    "version": 3
   },
   "file_extension": ".py",
   "mimetype": "text/x-python",
   "name": "python",
   "nbconvert_exporter": "python",
   "pygments_lexer": "ipython3",
   "version": "3.7.4-final"
  },
  "orig_nbformat": 2,
  "kernelspec": {
   "name": "python3",
   "display_name": "Python 3"
  }
 },
 "nbformat": 4,
 "nbformat_minor": 2,
 "cells": [
  {
   "cell_type": "code",
   "execution_count": 11,
   "metadata": {},
   "outputs": [],
   "source": [
    "import os\n",
    "import pandas as pd\n",
    "import numpy as np\n",
    "from Bio import SeqIO\n",
    "\n",
    "\n",
    "pd.set_option('display.max_columns', None)\n",
    "pd.set_option('display.max_rows', None)\n",
    "pd.set_option('display.max_colwidth', -1)"
   ]
  },
  {
   "cell_type": "code",
   "execution_count": 117,
   "metadata": {},
   "outputs": [],
   "source": [
    "reference = '/home/laura/DATABASES/REFERENCES/COVID/NC_045512.2.fasta'\n",
    "intermediate = '/home/laura/ANALYSIS/covidma/Compare/2020-11-24_covidma/covidma.revised.final.tsv'\n",
    "cov_folder = '/home/laura/ANALYSIS/covidma/Stats/Coverage'"
   ]
  },
  {
   "cell_type": "code",
   "execution_count": 106,
   "metadata": {},
   "outputs": [
    {
     "output_type": "execute_result",
     "data": {
      "text/plain": [
       "Seq('ATTAAAGGTTTATACCTTCCCAGGTAACAAACCAACCAACTTTCGATCTCTTGT...AAA', SingleLetterAlphabet())"
      ]
     },
     "metadata": {},
     "execution_count": 106
    }
   ],
   "source": [
    "reference_seq.seq"
   ]
  },
  {
   "cell_type": "code",
   "execution_count": 107,
   "metadata": {},
   "outputs": [
    {
     "output_type": "execute_result",
     "data": {
      "text/plain": [
       "'for seq_record in SeqIO.parse(reference, \"fasta\"):\\n    print(seq_record.id)\\n    print(repr(seq_record.seq))\\n    print(len(seq_record))'"
      ]
     },
     "metadata": {},
     "execution_count": 107
    }
   ],
   "source": [
    "\"\"\"for seq_record in SeqIO.parse(reference, \"fasta\"):\n",
    "    print(seq_record.id)\n",
    "    print(repr(seq_record.seq))\n",
    "    print(len(seq_record))\"\"\""
   ]
  },
  {
   "cell_type": "code",
   "execution_count": 108,
   "metadata": {},
   "outputs": [],
   "source": [
    "def reference_to_list(ref_file):\n",
    "    with open(ref_file, 'r') as f:\n",
    "        content = f.read()\n",
    "        content_list = content.split('\\n')\n",
    "        header = content_list[0]\n",
    "        sequence = (\"\").join(content_list[1:])\n",
    "    return list(sequence)"
   ]
  },
  {
   "cell_type": "code",
   "execution_count": 109,
   "metadata": {},
   "outputs": [],
   "source": [
    "reflist = list(SeqIO.read(reference, \"fasta\").seq)"
   ]
  },
  {
   "cell_type": "code",
   "execution_count": 110,
   "metadata": {},
   "outputs": [
    {
     "output_type": "execute_result",
     "data": {
      "text/plain": [
       "['A', 'T', 'T', 'A', 'A', 'A', 'G', 'G', 'T', 'T']"
      ]
     },
     "metadata": {},
     "execution_count": 110
    }
   ],
   "source": [
    "reflist[0:10]"
   ]
  },
  {
   "cell_type": "code",
   "execution_count": 141,
   "metadata": {},
   "outputs": [],
   "source": [
    "def create_consensus(reference, highfreq_df, coverage_folder, out_folder):\n",
    "    df = pd.read_csv(highfreq_df, sep=\"\\t\")\n",
    "\n",
    "    for sample in df.columns[3:]:\n",
    "        coverage_folder = os.path.abspath(coverage_folder)\n",
    "        cov_file = os.path.join(coverage_folder, sample + \".cov\")\n",
    "        reflist = list(SeqIO.read(reference, \"fasta\").seq)\n",
    "        \n",
    "        dfsample = df[['Position', sample]]\n",
    "        for _, row in dfsample.iterrows():\n",
    "            if str(row[sample]) == '1':\n",
    "                postition_list = row.Position.split(\"|\")\n",
    "                ref = postition_list[1]\n",
    "                pos = int(postition_list[2])\n",
    "                alt = postition_list[3]\n",
    "                if reflist[pos - 1] == ref:\n",
    "                    reflist[pos - 1] = alt\n",
    "        covdf = pd.read_csv(cov_file, sep=\"\\t\", names=[\"#CHROM\", \"POS\", \"COV\"])\n",
    "        uncovered = covdf[covdf.COV == 0]\n",
    "        for _, row in uncovered.iterrows():\n",
    "            reflist[row.POS - 1] = 'N'\n",
    "        output_file = os.path.join(out_folder, sample + \".consensus.fasta\")\n",
    "        with open(output_file, 'w+') as fout:\n",
    "            fout.write('>{}\\n{}\\n'.format(sample,('').join(reflist)))"
   ]
  },
  {
   "cell_type": "code",
   "execution_count": 142,
   "metadata": {},
   "outputs": [
    {
     "output_type": "stream",
     "name": "stdout",
     "text": [
      "20091271\n20179107\n20089101\n20069302\n"
     ]
    }
   ],
   "source": [
    "create_consensus(reference, intermediate, cov_folder, '/home/laura/ANALYSIS/covidma/Consensus')"
   ]
  },
  {
   "cell_type": "code",
   "execution_count": null,
   "metadata": {},
   "outputs": [],
   "source": []
  }
 ]
}