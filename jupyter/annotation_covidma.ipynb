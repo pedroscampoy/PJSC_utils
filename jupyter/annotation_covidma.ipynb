{
 "metadata": {
  "language_info": {
   "codemirror_mode": {
    "name": "ipython",
    "version": 3
   },
   "file_extension": ".py",
   "mimetype": "text/x-python",
   "name": "python",
   "nbconvert_exporter": "python",
   "pygments_lexer": "ipython3",
   "version": "3.7.4-final"
  },
  "orig_nbformat": 2,
  "kernelspec": {
   "name": "Python 3.7.4 64-bit ('base': conda)",
   "display_name": "Python 3.7.4 64-bit ('base': conda)",
   "metadata": {
    "interpreter": {
     "hash": "895b43306824f909dd8fc0fe81781e0d62fee5aa42332456ee4a77314d01a104"
    }
   }
  }
 },
 "nbformat": 4,
 "nbformat_minor": 2,
 "cells": [
  {
   "cell_type": "code",
   "execution_count": 1,
   "metadata": {},
   "outputs": [],
   "source": [
    "import os\n",
    "import pandas as pd\n",
    "import numpy as np\n",
    "import re\n",
    "\n",
    "pd.set_option('display.max_columns', None)\n",
    "pd.set_option('display.max_rows', None)\n",
    "pd.set_option('display.max_colwidth', -1)"
   ]
  },
  {
   "source": [
    "vcfs=['vcf1', 'vcf2', 'vcf3']\n",
    "beds=['bed1', 'bed2', 'bed3']\n",
    "def print_args(**kargs):\n",
    "    for k in kargs.keys():\n",
    "        print(k)\n",
    "\n",
    "print_args(vcfs=list1, tsvs=list2)"
   ],
   "cell_type": "code",
   "metadata": {},
   "execution_count": null,
   "outputs": []
  },
  {
   "cell_type": "code",
   "execution_count": 37,
   "metadata": {},
   "outputs": [],
   "source": [
    "def import_VCF_to_pandas(vcf_file):\n",
    "    header_lines = 0\n",
    "    with open(vcf_file) as f:\n",
    "        first_line = f.readline().strip()\n",
    "        next_line = f.readline().strip()\n",
    "        while next_line.startswith(\"##\"):\n",
    "            header_lines = header_lines + 1\n",
    "            #print(next_line)\n",
    "            next_line = f.readline()\n",
    "\n",
    "    if first_line.startswith('##'):\n",
    "        df = pd.read_csv(vcf_file, sep='\\t', skiprows=[header_lines], header=header_lines)\n",
    "        \n",
    "        df['ALT']=df['ALT'].str.upper()\n",
    "        df['REF']=df['REF'].str.upper()\n",
    "        #Check INFO\n",
    "        if 'INFO' in df.columns:\n",
    "            return df\n",
    "        else:\n",
    "            last_column = df.columns[-1]\n",
    "            df = df.rename(columns={last_column: 'INFO'})\n",
    "            return df\n",
    "    else:\n",
    "        print(\"This vcf file is not properly formatted\")\n",
    "        sys.exit(1)"
   ]
  },
  {
   "cell_type": "code",
   "execution_count": 121,
   "metadata": {},
   "outputs": [],
   "source": [
    "vcf_info = \"/home/laura/TMP/17488.combined.hf.SNP.final.vcf\"\n",
    "vcf_noinfo = \"/home/laura/TMP/17488column.vcf\"\n",
    "tsv = \"/home/laura/TMP/17488.tsv\"\n",
    "bed = \"/home/laura/COVID/primers/nCoV-2019.bed\"\n",
    "bed2 = \"/home/laura/COVID/primers/nCoV-2019_2.bed\""
   ]
  },
  {
   "cell_type": "code",
   "execution_count": 141,
   "metadata": {},
   "outputs": [],
   "source": [
    "def annotate_vcfs(tsv_df, vcfs):\n",
    "    df = pd.read_csv(tsv_df, sep=\"\\t\")\n",
    "    for vcf in vcfs:\n",
    "        print(\"ANNOTATING VCF: \", vcf)\n",
    "        header = (\".\").join(vcf.split(\"/\")[-1].split(\".\")[0:-1])\n",
    "        dfvcf = import_VCF_to_pandas(vcf)\n",
    "        dfvcf = dfvcf[['POS', 'REF', 'ALT', 'INFO']]\n",
    "        dfvcf = dfvcf.rename(columns={'INFO': header})\n",
    "        df = df.merge(dfvcf, how='left')\n",
    "    return df\n",
    "\n"
   ]
  },
  {
   "cell_type": "code",
   "execution_count": 142,
   "metadata": {},
   "outputs": [
    {
     "output_type": "stream",
     "name": "stdout",
     "text": [
      "ANNOTATING VCF:  /home/laura/TMP/17488.combined.hf.SNP.final.vcf\nANNOTATING VCF:  /home/laura/TMP/17488column.vcf\n"
     ]
    },
    {
     "output_type": "execute_result",
     "data": {
      "text/plain": [
       "        REGION    POS REF ALT  REF_DP  REF_RV  REF_QUAL  ALT_DP  ALT_RV  \\\n",
       "0  NC_045512.2  2532   C   T   0       0       0         765     38       \n",
       "1  NC_045512.2  3037   C   T   0       0       0         664     41       \n",
       "2  NC_045512.2  4319   G   A   72      65      40        795     188      \n",
       "3  NC_045512.2  4925   G   T   86      25      62        608     140      \n",
       "4  NC_045512.2  23174  A   C   0       0       0         949     171      \n",
       "\n",
       "   ALT_QUAL  ALT_FREQ  TOTAL_DP  PVAL  PASS         GFF_FEATURE REF_CODON  \\\n",
       "0  72        1.000000  765       0.0   True  NaN                 NaN        \n",
       "1  72        1.000000  664       0.0   True  cds-YP_009724389.1  TTC        \n",
       "2  65        0.916955  867       0.0   True  cds-YP_009724389.1  GCC        \n",
       "3  65        0.876081  694       0.0   True  cds-YP_009724389.1  GAC        \n",
       "4  67        1.000000  949       0.0   True  cds-YP_009724389.1  TAC        \n",
       "\n",
       "  REF_AA ALT_CODON ALT_AA  \\\n",
       "0  NaN    NaN       NaN     \n",
       "1  F      TTT       F       \n",
       "2  A      ACC       T       \n",
       "3  D      TAC       Y       \n",
       "4  Y      TAT       Y       \n",
       "\n",
       "                                                                                                                                  17488.combined.hf.SNP.final  \\\n",
       "0  AC=2;AF=1.00;AN=2;BaseQRankSum=1.80;DP=31;ExcessHet=0.0000;FS=0.000;InbreedingCoeff=0.9918;MQ=60.00;MQRankSum=0.00;QD=34.88;ReadPosRankSum=0.158;SOR=0.031   \n",
       "1  NaN                                                                                                                                                          \n",
       "2  NaN                                                                                                                                                          \n",
       "3  NaN                                                                                                                                                          \n",
       "4  AC=2;AF=1.00;AN=2;BaseQRankSum=2.41;DP=80;ExcessHet=0.0000;FS=0.000;InbreedingCoeff=0.9996;MQ=59.98;MQRankSum=0.00;QD=34.29;ReadPosRankSum=1.73;SOR=0.076    \n",
       "\n",
       "                 17488column  \n",
       "0  tets                       \n",
       "1  NaN                        \n",
       "2  NaN                        \n",
       "3  NaN                        \n",
       "4  1/1:0,80:80:99:2790,240,0  "
      ],
      "text/html": "<div>\n<style scoped>\n    .dataframe tbody tr th:only-of-type {\n        vertical-align: middle;\n    }\n\n    .dataframe tbody tr th {\n        vertical-align: top;\n    }\n\n    .dataframe thead th {\n        text-align: right;\n    }\n</style>\n<table border=\"1\" class=\"dataframe\">\n  <thead>\n    <tr style=\"text-align: right;\">\n      <th></th>\n      <th>REGION</th>\n      <th>POS</th>\n      <th>REF</th>\n      <th>ALT</th>\n      <th>REF_DP</th>\n      <th>REF_RV</th>\n      <th>REF_QUAL</th>\n      <th>ALT_DP</th>\n      <th>ALT_RV</th>\n      <th>ALT_QUAL</th>\n      <th>ALT_FREQ</th>\n      <th>TOTAL_DP</th>\n      <th>PVAL</th>\n      <th>PASS</th>\n      <th>GFF_FEATURE</th>\n      <th>REF_CODON</th>\n      <th>REF_AA</th>\n      <th>ALT_CODON</th>\n      <th>ALT_AA</th>\n      <th>17488.combined.hf.SNP.final</th>\n      <th>17488column</th>\n    </tr>\n  </thead>\n  <tbody>\n    <tr>\n      <td>0</td>\n      <td>NC_045512.2</td>\n      <td>2532</td>\n      <td>C</td>\n      <td>T</td>\n      <td>0</td>\n      <td>0</td>\n      <td>0</td>\n      <td>765</td>\n      <td>38</td>\n      <td>72</td>\n      <td>1.000000</td>\n      <td>765</td>\n      <td>0.0</td>\n      <td>True</td>\n      <td>NaN</td>\n      <td>NaN</td>\n      <td>NaN</td>\n      <td>NaN</td>\n      <td>NaN</td>\n      <td>AC=2;AF=1.00;AN=2;BaseQRankSum=1.80;DP=31;ExcessHet=0.0000;FS=0.000;InbreedingCoeff=0.9918;MQ=60.00;MQRankSum=0.00;QD=34.88;ReadPosRankSum=0.158;SOR=0.031</td>\n      <td>tets</td>\n    </tr>\n    <tr>\n      <td>1</td>\n      <td>NC_045512.2</td>\n      <td>3037</td>\n      <td>C</td>\n      <td>T</td>\n      <td>0</td>\n      <td>0</td>\n      <td>0</td>\n      <td>664</td>\n      <td>41</td>\n      <td>72</td>\n      <td>1.000000</td>\n      <td>664</td>\n      <td>0.0</td>\n      <td>True</td>\n      <td>cds-YP_009724389.1</td>\n      <td>TTC</td>\n      <td>F</td>\n      <td>TTT</td>\n      <td>F</td>\n      <td>NaN</td>\n      <td>NaN</td>\n    </tr>\n    <tr>\n      <td>2</td>\n      <td>NC_045512.2</td>\n      <td>4319</td>\n      <td>G</td>\n      <td>A</td>\n      <td>72</td>\n      <td>65</td>\n      <td>40</td>\n      <td>795</td>\n      <td>188</td>\n      <td>65</td>\n      <td>0.916955</td>\n      <td>867</td>\n      <td>0.0</td>\n      <td>True</td>\n      <td>cds-YP_009724389.1</td>\n      <td>GCC</td>\n      <td>A</td>\n      <td>ACC</td>\n      <td>T</td>\n      <td>NaN</td>\n      <td>NaN</td>\n    </tr>\n    <tr>\n      <td>3</td>\n      <td>NC_045512.2</td>\n      <td>4925</td>\n      <td>G</td>\n      <td>T</td>\n      <td>86</td>\n      <td>25</td>\n      <td>62</td>\n      <td>608</td>\n      <td>140</td>\n      <td>65</td>\n      <td>0.876081</td>\n      <td>694</td>\n      <td>0.0</td>\n      <td>True</td>\n      <td>cds-YP_009724389.1</td>\n      <td>GAC</td>\n      <td>D</td>\n      <td>TAC</td>\n      <td>Y</td>\n      <td>NaN</td>\n      <td>NaN</td>\n    </tr>\n    <tr>\n      <td>4</td>\n      <td>NC_045512.2</td>\n      <td>23174</td>\n      <td>A</td>\n      <td>C</td>\n      <td>0</td>\n      <td>0</td>\n      <td>0</td>\n      <td>949</td>\n      <td>171</td>\n      <td>67</td>\n      <td>1.000000</td>\n      <td>949</td>\n      <td>0.0</td>\n      <td>True</td>\n      <td>cds-YP_009724389.1</td>\n      <td>TAC</td>\n      <td>Y</td>\n      <td>TAT</td>\n      <td>Y</td>\n      <td>AC=2;AF=1.00;AN=2;BaseQRankSum=2.41;DP=80;ExcessHet=0.0000;FS=0.000;InbreedingCoeff=0.9996;MQ=59.98;MQRankSum=0.00;QD=34.29;ReadPosRankSum=1.73;SOR=0.076</td>\n      <td>1/1:0,80:80:99:2790,240,0</td>\n    </tr>\n  </tbody>\n</table>\n</div>"
     },
     "metadata": {},
     "execution_count": 142
    }
   ],
   "source": [
    "annotate_vcfs(tsv, [vcf_info, vcf_noinfo]).head()"
   ]
  },
  {
   "cell_type": "code",
   "execution_count": 107,
   "metadata": {},
   "outputs": [],
   "source": [
    "def bed_to_df(bed_file):\n",
    "    \"\"\"\n",
    "    Import bed file separated by tabs into a pandas df\n",
    "    -Handle header line\n",
    "    -Handle with and without description (If there is no description adds true or false to annotated df)\n",
    "    \"\"\"\n",
    "    header_lines = 0\n",
    "    #Handle likely header by checking colums 2 and 3 as numbers\n",
    "    with open(bed_file, 'r') as f:\n",
    "        next_line = f.readline().strip()\n",
    "        line_split = next_line.split(None) #This split by any blank character\n",
    "        start = line_split[1]\n",
    "        end = line_split[2]\n",
    "        while not start.isdigit() and not end.isdigit():\n",
    "            header_lines = header_lines + 1\n",
    "            next_line = f.readline().strip()\n",
    "            line_split = next_line.split(None) #This split by any blank character\n",
    "            start = line_split[1]\n",
    "            end = line_split[2]\n",
    "\n",
    "    if header_lines == 0:\n",
    "        df = pd.read_csv(bed_file, sep=\"\\t\", header=None) #delim_whitespace=True\n",
    "    else:\n",
    "        df = pd.read_csv(bed_file, sep=\"\\t\", skiprows=header_lines, header=None) #delim_whitespace=True\n",
    "\n",
    "    df = df.iloc[:,0:4]\n",
    "    df.columns = [\"#CHROM\", \"start\", \"end\", \"description\"]\n",
    "        \n",
    "    return df"
   ]
  },
  {
   "cell_type": "code",
   "execution_count": 114,
   "metadata": {},
   "outputs": [
    {
     "output_type": "execute_result",
     "data": {
      "text/plain": [
       "       #CHROM  start  end        description\n",
       "0  MN908947.3  30     54   nCoV-2019_1_LEFT \n",
       "1  MN908947.3  385    410  nCoV-2019_1_RIGHT\n",
       "2  MN908947.3  320    342  nCoV-2019_2_LEFT \n",
       "3  MN908947.3  704    726  nCoV-2019_2_RIGHT\n",
       "4  MN908947.3  642    664  nCoV-2019_3_LEFT "
      ],
      "text/html": "<div>\n<style scoped>\n    .dataframe tbody tr th:only-of-type {\n        vertical-align: middle;\n    }\n\n    .dataframe tbody tr th {\n        vertical-align: top;\n    }\n\n    .dataframe thead th {\n        text-align: right;\n    }\n</style>\n<table border=\"1\" class=\"dataframe\">\n  <thead>\n    <tr style=\"text-align: right;\">\n      <th></th>\n      <th>#CHROM</th>\n      <th>start</th>\n      <th>end</th>\n      <th>description</th>\n    </tr>\n  </thead>\n  <tbody>\n    <tr>\n      <td>0</td>\n      <td>MN908947.3</td>\n      <td>30</td>\n      <td>54</td>\n      <td>nCoV-2019_1_LEFT</td>\n    </tr>\n    <tr>\n      <td>1</td>\n      <td>MN908947.3</td>\n      <td>385</td>\n      <td>410</td>\n      <td>nCoV-2019_1_RIGHT</td>\n    </tr>\n    <tr>\n      <td>2</td>\n      <td>MN908947.3</td>\n      <td>320</td>\n      <td>342</td>\n      <td>nCoV-2019_2_LEFT</td>\n    </tr>\n    <tr>\n      <td>3</td>\n      <td>MN908947.3</td>\n      <td>704</td>\n      <td>726</td>\n      <td>nCoV-2019_2_RIGHT</td>\n    </tr>\n    <tr>\n      <td>4</td>\n      <td>MN908947.3</td>\n      <td>642</td>\n      <td>664</td>\n      <td>nCoV-2019_3_LEFT</td>\n    </tr>\n  </tbody>\n</table>\n</div>"
     },
     "metadata": {},
     "execution_count": 114
    }
   ],
   "source": [
    "bed_to_df(bed).head()"
   ]
  },
  {
   "cell_type": "code",
   "execution_count": 117,
   "metadata": {},
   "outputs": [],
   "source": [
    "def add_bed_info(bed_df, position):\n",
    "    \"\"\"\n",
    "    Identify a position within a range\n",
    "    credits: https://stackoverflow.com/questions/6053974/python-efficiently-check-if-integer-is-within-many-ranges\n",
    "    \"\"\"\n",
    "    #dict_position = bed_to_dict(bed_file)\n",
    "    if any(start <= position <= end for (start, end) in zip(bed_df.start.values.tolist(), bed_df.end.values.tolist())):\n",
    "        description_out = bed_df.description[(bed_df.start <= position) & (bed_df.end >= position)].values[0]\n",
    "        return description_out\n",
    "    else:\n",
    "        return None"
   ]
  },
  {
   "cell_type": "code",
   "execution_count": 134,
   "metadata": {},
   "outputs": [],
   "source": [
    "def annotate_bed_s(tsv_df, bed_files):\n",
    "    df = pd.read_csv(tsv_df, sep=\"\\t\")\n",
    "\n",
    "    variable_list = [ x.split(\"/\")[-1].split(\".\")[0] for x in bed_files] #extract file name and use it as header\n",
    "    \n",
    "    for variable_name, bed_file in zip(variable_list,bed_files):\n",
    "        print(\"ANNOTATING BED: \", bed_file)\n",
    "        bed_annot_df = bed_to_df(bed_file)\n",
    "        df[variable_name] = df['POS'].apply(lambda x: add_bed_info(bed_annot_df,x))\n",
    "    return df"
   ]
  },
  {
   "cell_type": "code",
   "execution_count": 136,
   "metadata": {},
   "outputs": [
    {
     "output_type": "stream",
     "name": "stdout",
     "text": [
      "ANNOTATING BED:  /home/laura/COVID/primers/nCoV-2019.bed\nANNOTATING BED:  /home/laura/COVID/primers/nCoV-2019_2.bed\n"
     ]
    },
    {
     "output_type": "execute_result",
     "data": {
      "text/plain": [
       "        REGION    POS REF ALT  REF_DP  REF_RV  REF_QUAL  ALT_DP  ALT_RV  \\\n",
       "0  NC_045512.2  2532   C   T   0       0       0         765     38       \n",
       "1  NC_045512.2  3037   C   T   0       0       0         664     41       \n",
       "2  NC_045512.2  4319   G   A   72      65      40        795     188      \n",
       "3  NC_045512.2  4925   G   T   86      25      62        608     140      \n",
       "4  NC_045512.2  23174  A   C   0       0       0         949     171      \n",
       "\n",
       "   ALT_QUAL  ALT_FREQ  TOTAL_DP  PVAL  PASS         GFF_FEATURE REF_CODON  \\\n",
       "0  72        1.000000  765       0.0   True  NaN                 NaN        \n",
       "1  72        1.000000  664       0.0   True  cds-YP_009724389.1  TTC        \n",
       "2  65        0.916955  867       0.0   True  cds-YP_009724389.1  GCC        \n",
       "3  65        0.876081  694       0.0   True  cds-YP_009724389.1  GAC        \n",
       "4  67        1.000000  949       0.0   True  cds-YP_009724389.1  TAC        \n",
       "\n",
       "  REF_AA ALT_CODON ALT_AA          nCoV-2019        nCoV-2019_2  \n",
       "0  NaN    NaN       NaN    None               None               \n",
       "1  F      TTT       F      None               None               \n",
       "2  A      ACC       T      nCoV-2019_15_LEFT  nCoV-2019_15_LEFT  \n",
       "3  D      TAC       Y      None               None               \n",
       "4  Y      TAT       Y      None               None               "
      ],
      "text/html": "<div>\n<style scoped>\n    .dataframe tbody tr th:only-of-type {\n        vertical-align: middle;\n    }\n\n    .dataframe tbody tr th {\n        vertical-align: top;\n    }\n\n    .dataframe thead th {\n        text-align: right;\n    }\n</style>\n<table border=\"1\" class=\"dataframe\">\n  <thead>\n    <tr style=\"text-align: right;\">\n      <th></th>\n      <th>REGION</th>\n      <th>POS</th>\n      <th>REF</th>\n      <th>ALT</th>\n      <th>REF_DP</th>\n      <th>REF_RV</th>\n      <th>REF_QUAL</th>\n      <th>ALT_DP</th>\n      <th>ALT_RV</th>\n      <th>ALT_QUAL</th>\n      <th>ALT_FREQ</th>\n      <th>TOTAL_DP</th>\n      <th>PVAL</th>\n      <th>PASS</th>\n      <th>GFF_FEATURE</th>\n      <th>REF_CODON</th>\n      <th>REF_AA</th>\n      <th>ALT_CODON</th>\n      <th>ALT_AA</th>\n      <th>nCoV-2019</th>\n      <th>nCoV-2019_2</th>\n    </tr>\n  </thead>\n  <tbody>\n    <tr>\n      <td>0</td>\n      <td>NC_045512.2</td>\n      <td>2532</td>\n      <td>C</td>\n      <td>T</td>\n      <td>0</td>\n      <td>0</td>\n      <td>0</td>\n      <td>765</td>\n      <td>38</td>\n      <td>72</td>\n      <td>1.000000</td>\n      <td>765</td>\n      <td>0.0</td>\n      <td>True</td>\n      <td>NaN</td>\n      <td>NaN</td>\n      <td>NaN</td>\n      <td>NaN</td>\n      <td>NaN</td>\n      <td>None</td>\n      <td>None</td>\n    </tr>\n    <tr>\n      <td>1</td>\n      <td>NC_045512.2</td>\n      <td>3037</td>\n      <td>C</td>\n      <td>T</td>\n      <td>0</td>\n      <td>0</td>\n      <td>0</td>\n      <td>664</td>\n      <td>41</td>\n      <td>72</td>\n      <td>1.000000</td>\n      <td>664</td>\n      <td>0.0</td>\n      <td>True</td>\n      <td>cds-YP_009724389.1</td>\n      <td>TTC</td>\n      <td>F</td>\n      <td>TTT</td>\n      <td>F</td>\n      <td>None</td>\n      <td>None</td>\n    </tr>\n    <tr>\n      <td>2</td>\n      <td>NC_045512.2</td>\n      <td>4319</td>\n      <td>G</td>\n      <td>A</td>\n      <td>72</td>\n      <td>65</td>\n      <td>40</td>\n      <td>795</td>\n      <td>188</td>\n      <td>65</td>\n      <td>0.916955</td>\n      <td>867</td>\n      <td>0.0</td>\n      <td>True</td>\n      <td>cds-YP_009724389.1</td>\n      <td>GCC</td>\n      <td>A</td>\n      <td>ACC</td>\n      <td>T</td>\n      <td>nCoV-2019_15_LEFT</td>\n      <td>nCoV-2019_15_LEFT</td>\n    </tr>\n    <tr>\n      <td>3</td>\n      <td>NC_045512.2</td>\n      <td>4925</td>\n      <td>G</td>\n      <td>T</td>\n      <td>86</td>\n      <td>25</td>\n      <td>62</td>\n      <td>608</td>\n      <td>140</td>\n      <td>65</td>\n      <td>0.876081</td>\n      <td>694</td>\n      <td>0.0</td>\n      <td>True</td>\n      <td>cds-YP_009724389.1</td>\n      <td>GAC</td>\n      <td>D</td>\n      <td>TAC</td>\n      <td>Y</td>\n      <td>None</td>\n      <td>None</td>\n    </tr>\n    <tr>\n      <td>4</td>\n      <td>NC_045512.2</td>\n      <td>23174</td>\n      <td>A</td>\n      <td>C</td>\n      <td>0</td>\n      <td>0</td>\n      <td>0</td>\n      <td>949</td>\n      <td>171</td>\n      <td>67</td>\n      <td>1.000000</td>\n      <td>949</td>\n      <td>0.0</td>\n      <td>True</td>\n      <td>cds-YP_009724389.1</td>\n      <td>TAC</td>\n      <td>Y</td>\n      <td>TAT</td>\n      <td>Y</td>\n      <td>None</td>\n      <td>None</td>\n    </tr>\n  </tbody>\n</table>\n</div>"
     },
     "metadata": {},
     "execution_count": 136
    }
   ],
   "source": [
    "annotate_bed_s(tsv, [bed, bed2).head()"
   ]
  },
  {
   "cell_type": "code",
   "execution_count": 146,
   "metadata": {},
   "outputs": [],
   "source": [
    "def user_annotation(tsv_file, **kargs):\n",
    "    vcf_files = kargs['vcfs']\n",
    "    bed_files = kargs['beds']\n",
    "\n",
    "    bed_df = annotate_bed_s(tsv_file, bed_files)\n",
    "    vcf_df = annotate_vcfs(tsv_file, vcf_files)\n",
    "\n",
    "    df = bed_df.merge(vcf_df)\n",
    "\n",
    "    return df\n"
   ]
  },
  {
   "cell_type": "code",
   "execution_count": 147,
   "metadata": {},
   "outputs": [
    {
     "output_type": "stream",
     "name": "stdout",
     "text": [
      "ANNOTATING BED:  /home/laura/COVID/primers/nCoV-2019.bed\nANNOTATING BED:  /home/laura/COVID/primers/nCoV-2019_2.bed\nANNOTATING VCF:  /home/laura/TMP/17488.combined.hf.SNP.final.vcf\nANNOTATING VCF:  /home/laura/TMP/17488column.vcf\n"
     ]
    },
    {
     "output_type": "execute_result",
     "data": {
      "text/plain": [
       "         REGION    POS REF ALT  REF_DP  REF_RV  REF_QUAL  ALT_DP  ALT_RV  \\\n",
       "0   NC_045512.2  2532   C   T   0       0       0         765     38       \n",
       "1   NC_045512.2  3037   C   T   0       0       0         664     41       \n",
       "2   NC_045512.2  4319   G   A   72      65      40        795     188      \n",
       "3   NC_045512.2  4925   G   T   86      25      62        608     140      \n",
       "4   NC_045512.2  23174  A   C   0       0       0         949     171      \n",
       "5   NC_045512.2  27463  C   G   0       0       0         799     26       \n",
       "6   NC_045512.2  27469  G   A   0       0       0         673     191      \n",
       "7   NC_045512.2  33457  C   T   0       0       0         14      1        \n",
       "8   NC_045512.2  33551  T   G   0       0       0         791     279      \n",
       "9   NC_045512.2  36538  C   T   0       0       0         1040    189      \n",
       "10  NC_045512.2  37763  G   C   0       0       0         719     183      \n",
       "11  NC_045512.2  38711  G   A   1       0       74        777     131      \n",
       "12  NC_045512.2  39758  G   A   0       0       0         997     105      \n",
       "13  NC_045512.2  42281  A   C   0       0       0         337     35       \n",
       "14  NC_045512.2  43945  G   A   0       0       0         337     36       \n",
       "15  NC_045512.2  50557  C   T   0       0       0         336     36       \n",
       "16  NC_045512.2  51949  G   A   60      4       65        675     37       \n",
       "\n",
       "    ALT_QUAL  ALT_FREQ  TOTAL_DP           PVAL  PASS         GFF_FEATURE  \\\n",
       "0   72        1.000000  765       0.000000e+00   True  NaN                  \n",
       "1   72        1.000000  664       0.000000e+00   True  cds-YP_009724389.1   \n",
       "2   65        0.916955  867       0.000000e+00   True  cds-YP_009724389.1   \n",
       "3   65        0.876081  694       0.000000e+00   True  cds-YP_009724389.1   \n",
       "4   67        1.000000  949       0.000000e+00   True  cds-YP_009724389.1   \n",
       "5   74        1.000000  799       0.000000e+00   True  cds-YP_009724389.1   \n",
       "6   63        0.998516  674       0.000000e+00   True  cds-YP_009724389.1   \n",
       "7   64        0.933333  15        6.629320e-11   True  cds-YP_009724390.1   \n",
       "8   64        1.000000  791       0.000000e+00   True  cds-YP_009724390.1   \n",
       "9   67        1.000000  1040      0.000000e+00   True  cds-YP_009724390.1   \n",
       "10  64        0.998611  720       0.000000e+00   True  cds-YP_009724390.1   \n",
       "11  68        0.998715  778       0.000000e+00   True  cds-YP_009724390.1   \n",
       "12  68        0.998998  998       0.000000e+00   True  cds-YP_009724390.1   \n",
       "13  69        1.000000  337       7.457030e-271  True  cds-YP_009724397.2   \n",
       "14  69        1.000000  337       7.457030e-271  True  cds-YP_009724397.2   \n",
       "15  70        0.997033  337       2.141960e-270  True  cds-YP_009724397.2   \n",
       "16  69        0.918367  735       0.000000e+00   True  cds-YP_009724397.2   \n",
       "\n",
       "   REF_CODON REF_AA ALT_CODON ALT_AA          nCoV-2019        nCoV-2019_2  \\\n",
       "0   NaN       NaN    NaN       NaN    None               None                \n",
       "1   TTC       F      TTT       F      None               None                \n",
       "2   GCC       A      ACC       T      nCoV-2019_15_LEFT  nCoV-2019_15_LEFT   \n",
       "3   GAC       D      TAC       Y      None               None                \n",
       "4   TAC       Y      TAT       Y      None               None                \n",
       "5   CCT       P      CTT       L      nCoV-2019_91_LEFT  nCoV-2019_91_LEFT   \n",
       "6   CCT       P      TCT       S      nCoV-2019_91_LEFT  nCoV-2019_91_LEFT   \n",
       "7   GAA       E      CAA       Q      None               None                \n",
       "8   AAC       N      AAT       N      None               None                \n",
       "9   GAT       D      GGT       G      None               None                \n",
       "10  ATG       M      ATT       I      None               None                \n",
       "11  AAC       N      AAT       N      None               None                \n",
       "12  CGT       R      CTT       L      None               None                \n",
       "13  AGG       R      AAG       K      None               None                \n",
       "14  AGG       R      AGA       R      None               None                \n",
       "15  GGA       G      CGA       R      None               None                \n",
       "16  ACT       T      ATT       I      None               None                \n",
       "\n",
       "                                                                                                                                               17488.combined.hf.SNP.final  \\\n",
       "0   AC=2;AF=1.00;AN=2;BaseQRankSum=1.80;DP=31;ExcessHet=0.0000;FS=0.000;InbreedingCoeff=0.9918;MQ=60.00;MQRankSum=0.00;QD=34.88;ReadPosRankSum=0.158;SOR=0.031               \n",
       "1   NaN                                                                                                                                                                      \n",
       "2   NaN                                                                                                                                                                      \n",
       "3   NaN                                                                                                                                                                      \n",
       "4   AC=2;AF=1.00;AN=2;BaseQRankSum=2.41;DP=80;ExcessHet=0.0000;FS=0.000;InbreedingCoeff=0.9996;MQ=59.98;MQRankSum=0.00;QD=34.29;ReadPosRankSum=1.73;SOR=0.076                \n",
       "5   AC=2;AF=1.00;AN=2;DP=74;ExcessHet=-0.0000;FS=0.000;InbreedingCoeff=1.0000;MQ=60.00;QD=30.96;SOR=1.212                                                                    \n",
       "6   AC=2;AF=1.00;AN=2;BaseQRankSum=0.680;DP=79;ExcessHet=0.0000;FS=0.000;InbreedingCoeff=1.0000;MQ=60.00;MQRankSum=0.00;QD=29.87;ReadPosRankSum=0.819;SOR=1.321              \n",
       "7   AC=2;AF=1.00;AN=2;BaseQRankSum=-1.759e+00;DP=82;ExcessHet=-0.0000;FS=0.000;InbreedingCoeff=1.0000;MQ=60.00;MQRankSum=0.00;QD=34.95;ReadPosRankSum=-4.430e-01;SOR=0.368   \n",
       "8   AC=2;AF=1.00;AN=2;BaseQRankSum=1.71;DP=80;ExcessHet=-0.0000;FS=0.000;InbreedingCoeff=1.0000;MQ=60.00;MQRankSum=0.00;QD=33.81;ReadPosRankSum=-1.028e+00;SOR=0.376         \n",
       "9   AC=2;AF=1.00;AN=2;BaseQRankSum=-1.730e+00;DP=99;ExcessHet=0.0000;FS=0.000;InbreedingCoeff=0.9798;MQ=60.00;MQRankSum=0.00;QD=34.55;ReadPosRankSum=0.668;SOR=0.518         \n",
       "10  AC=2;AF=1.00;AN=2;DP=100;ExcessHet=-0.0000;FS=0.000;InbreedingCoeff=0.9952;MQ=60.00;QD=26.59;SOR=1.019                                                                   \n",
       "11  AC=2;AF=1.00;AN=2;BaseQRankSum=0.459;DP=81;ExcessHet=0.0000;FS=0.000;InbreedingCoeff=0.9999;MQ=60.00;MQRankSum=0.00;QD=29.26;ReadPosRankSum=-6.900e-02;SOR=0.326         \n",
       "12  AC=2;AF=1.00;AN=2;BaseQRankSum=1.78;DP=94;ExcessHet=0.0000;FS=0.000;InbreedingCoeff=1.0000;MQ=60.00;MQRankSum=7.68;QD=28.33;ReadPosRankSum=-2.300e-02;SOR=0.758          \n",
       "13  AC=2;AF=1.00;AN=2;BaseQRankSum=1.77;DP=67;ExcessHet=-0.0000;FS=0.000;InbreedingCoeff=0.9847;MQ=60.00;MQRankSum=0.00;QD=30.48;ReadPosRankSum=0.941;SOR=0.323              \n",
       "14  AC=2;AF=1.00;AN=2;BaseQRankSum=1.74;DP=125;ExcessHet=0.0000;FS=0.000;InbreedingCoeff=0.9996;MQ=60.00;MQRankSum=0.00;QD=34.33;ReadPosRankSum=0.729;SOR=0.809              \n",
       "15  AC=2;AF=1.00;AN=2;BaseQRankSum=-1.793e+00;DP=62;ExcessHet=-0.0000;FS=5.655;InbreedingCoeff=0.7599;MQ=60.00;MQRankSum=0.00;QD=32.39;ReadPosRankSum=-4.800e-02;SOR=0.377   \n",
       "16  AC=2;AF=1.00;AN=2;BaseQRankSum=0.478;DP=84;ExcessHet=-0.0000;FS=0.000;InbreedingCoeff=0.9883;MQ=60.00;MQRankSum=0.00;QD=34.59;ReadPosRankSum=-2.100e-02;SOR=0.676        \n",
       "\n",
       "                                      17488column  \n",
       "0   tets                                           \n",
       "1   NaN                                            \n",
       "2   NaN                                            \n",
       "3   NaN                                            \n",
       "4   1/1:0,80:80:99:2790,240,0                      \n",
       "5   1|1:0,74:74:99:1|1:27463_C_G:3401,232,0:27463  \n",
       "6   1|1:0,79:79:99:1|1:27463_C_G:3515,241,0:27463  \n",
       "7   1/1:0,82:82:99:2657,246,0                      \n",
       "8   1/1:0,80:80:99:2855,239,0                      \n",
       "9   testRandom                                     \n",
       "10  1/1:0,100:100:99:3343,299,0                    \n",
       "11  infoinfo                                       \n",
       "12  1/1:0,94:94:99:3156,282,0                      \n",
       "13  1/1:0,67:67:99:2351,201,0                      \n",
       "14  1/1:0,125:125:99:3692,375,0                    \n",
       "15  1/1:1,61:62:99:1820,139,0                      \n",
       "16  1/1:0,84:84:99:2685,252,0                      "
      ],
      "text/html": "<div>\n<style scoped>\n    .dataframe tbody tr th:only-of-type {\n        vertical-align: middle;\n    }\n\n    .dataframe tbody tr th {\n        vertical-align: top;\n    }\n\n    .dataframe thead th {\n        text-align: right;\n    }\n</style>\n<table border=\"1\" class=\"dataframe\">\n  <thead>\n    <tr style=\"text-align: right;\">\n      <th></th>\n      <th>REGION</th>\n      <th>POS</th>\n      <th>REF</th>\n      <th>ALT</th>\n      <th>REF_DP</th>\n      <th>REF_RV</th>\n      <th>REF_QUAL</th>\n      <th>ALT_DP</th>\n      <th>ALT_RV</th>\n      <th>ALT_QUAL</th>\n      <th>ALT_FREQ</th>\n      <th>TOTAL_DP</th>\n      <th>PVAL</th>\n      <th>PASS</th>\n      <th>GFF_FEATURE</th>\n      <th>REF_CODON</th>\n      <th>REF_AA</th>\n      <th>ALT_CODON</th>\n      <th>ALT_AA</th>\n      <th>nCoV-2019</th>\n      <th>nCoV-2019_2</th>\n      <th>17488.combined.hf.SNP.final</th>\n      <th>17488column</th>\n    </tr>\n  </thead>\n  <tbody>\n    <tr>\n      <td>0</td>\n      <td>NC_045512.2</td>\n      <td>2532</td>\n      <td>C</td>\n      <td>T</td>\n      <td>0</td>\n      <td>0</td>\n      <td>0</td>\n      <td>765</td>\n      <td>38</td>\n      <td>72</td>\n      <td>1.000000</td>\n      <td>765</td>\n      <td>0.000000e+00</td>\n      <td>True</td>\n      <td>NaN</td>\n      <td>NaN</td>\n      <td>NaN</td>\n      <td>NaN</td>\n      <td>NaN</td>\n      <td>None</td>\n      <td>None</td>\n      <td>AC=2;AF=1.00;AN=2;BaseQRankSum=1.80;DP=31;ExcessHet=0.0000;FS=0.000;InbreedingCoeff=0.9918;MQ=60.00;MQRankSum=0.00;QD=34.88;ReadPosRankSum=0.158;SOR=0.031</td>\n      <td>tets</td>\n    </tr>\n    <tr>\n      <td>1</td>\n      <td>NC_045512.2</td>\n      <td>3037</td>\n      <td>C</td>\n      <td>T</td>\n      <td>0</td>\n      <td>0</td>\n      <td>0</td>\n      <td>664</td>\n      <td>41</td>\n      <td>72</td>\n      <td>1.000000</td>\n      <td>664</td>\n      <td>0.000000e+00</td>\n      <td>True</td>\n      <td>cds-YP_009724389.1</td>\n      <td>TTC</td>\n      <td>F</td>\n      <td>TTT</td>\n      <td>F</td>\n      <td>None</td>\n      <td>None</td>\n      <td>NaN</td>\n      <td>NaN</td>\n    </tr>\n    <tr>\n      <td>2</td>\n      <td>NC_045512.2</td>\n      <td>4319</td>\n      <td>G</td>\n      <td>A</td>\n      <td>72</td>\n      <td>65</td>\n      <td>40</td>\n      <td>795</td>\n      <td>188</td>\n      <td>65</td>\n      <td>0.916955</td>\n      <td>867</td>\n      <td>0.000000e+00</td>\n      <td>True</td>\n      <td>cds-YP_009724389.1</td>\n      <td>GCC</td>\n      <td>A</td>\n      <td>ACC</td>\n      <td>T</td>\n      <td>nCoV-2019_15_LEFT</td>\n      <td>nCoV-2019_15_LEFT</td>\n      <td>NaN</td>\n      <td>NaN</td>\n    </tr>\n    <tr>\n      <td>3</td>\n      <td>NC_045512.2</td>\n      <td>4925</td>\n      <td>G</td>\n      <td>T</td>\n      <td>86</td>\n      <td>25</td>\n      <td>62</td>\n      <td>608</td>\n      <td>140</td>\n      <td>65</td>\n      <td>0.876081</td>\n      <td>694</td>\n      <td>0.000000e+00</td>\n      <td>True</td>\n      <td>cds-YP_009724389.1</td>\n      <td>GAC</td>\n      <td>D</td>\n      <td>TAC</td>\n      <td>Y</td>\n      <td>None</td>\n      <td>None</td>\n      <td>NaN</td>\n      <td>NaN</td>\n    </tr>\n    <tr>\n      <td>4</td>\n      <td>NC_045512.2</td>\n      <td>23174</td>\n      <td>A</td>\n      <td>C</td>\n      <td>0</td>\n      <td>0</td>\n      <td>0</td>\n      <td>949</td>\n      <td>171</td>\n      <td>67</td>\n      <td>1.000000</td>\n      <td>949</td>\n      <td>0.000000e+00</td>\n      <td>True</td>\n      <td>cds-YP_009724389.1</td>\n      <td>TAC</td>\n      <td>Y</td>\n      <td>TAT</td>\n      <td>Y</td>\n      <td>None</td>\n      <td>None</td>\n      <td>AC=2;AF=1.00;AN=2;BaseQRankSum=2.41;DP=80;ExcessHet=0.0000;FS=0.000;InbreedingCoeff=0.9996;MQ=59.98;MQRankSum=0.00;QD=34.29;ReadPosRankSum=1.73;SOR=0.076</td>\n      <td>1/1:0,80:80:99:2790,240,0</td>\n    </tr>\n    <tr>\n      <td>5</td>\n      <td>NC_045512.2</td>\n      <td>27463</td>\n      <td>C</td>\n      <td>G</td>\n      <td>0</td>\n      <td>0</td>\n      <td>0</td>\n      <td>799</td>\n      <td>26</td>\n      <td>74</td>\n      <td>1.000000</td>\n      <td>799</td>\n      <td>0.000000e+00</td>\n      <td>True</td>\n      <td>cds-YP_009724389.1</td>\n      <td>CCT</td>\n      <td>P</td>\n      <td>CTT</td>\n      <td>L</td>\n      <td>nCoV-2019_91_LEFT</td>\n      <td>nCoV-2019_91_LEFT</td>\n      <td>AC=2;AF=1.00;AN=2;DP=74;ExcessHet=-0.0000;FS=0.000;InbreedingCoeff=1.0000;MQ=60.00;QD=30.96;SOR=1.212</td>\n      <td>1|1:0,74:74:99:1|1:27463_C_G:3401,232,0:27463</td>\n    </tr>\n    <tr>\n      <td>6</td>\n      <td>NC_045512.2</td>\n      <td>27469</td>\n      <td>G</td>\n      <td>A</td>\n      <td>0</td>\n      <td>0</td>\n      <td>0</td>\n      <td>673</td>\n      <td>191</td>\n      <td>63</td>\n      <td>0.998516</td>\n      <td>674</td>\n      <td>0.000000e+00</td>\n      <td>True</td>\n      <td>cds-YP_009724389.1</td>\n      <td>CCT</td>\n      <td>P</td>\n      <td>TCT</td>\n      <td>S</td>\n      <td>nCoV-2019_91_LEFT</td>\n      <td>nCoV-2019_91_LEFT</td>\n      <td>AC=2;AF=1.00;AN=2;BaseQRankSum=0.680;DP=79;ExcessHet=0.0000;FS=0.000;InbreedingCoeff=1.0000;MQ=60.00;MQRankSum=0.00;QD=29.87;ReadPosRankSum=0.819;SOR=1.321</td>\n      <td>1|1:0,79:79:99:1|1:27463_C_G:3515,241,0:27463</td>\n    </tr>\n    <tr>\n      <td>7</td>\n      <td>NC_045512.2</td>\n      <td>33457</td>\n      <td>C</td>\n      <td>T</td>\n      <td>0</td>\n      <td>0</td>\n      <td>0</td>\n      <td>14</td>\n      <td>1</td>\n      <td>64</td>\n      <td>0.933333</td>\n      <td>15</td>\n      <td>6.629320e-11</td>\n      <td>True</td>\n      <td>cds-YP_009724390.1</td>\n      <td>GAA</td>\n      <td>E</td>\n      <td>CAA</td>\n      <td>Q</td>\n      <td>None</td>\n      <td>None</td>\n      <td>AC=2;AF=1.00;AN=2;BaseQRankSum=-1.759e+00;DP=82;ExcessHet=-0.0000;FS=0.000;InbreedingCoeff=1.0000;MQ=60.00;MQRankSum=0.00;QD=34.95;ReadPosRankSum=-4.430e-01;SOR=0.368</td>\n      <td>1/1:0,82:82:99:2657,246,0</td>\n    </tr>\n    <tr>\n      <td>8</td>\n      <td>NC_045512.2</td>\n      <td>33551</td>\n      <td>T</td>\n      <td>G</td>\n      <td>0</td>\n      <td>0</td>\n      <td>0</td>\n      <td>791</td>\n      <td>279</td>\n      <td>64</td>\n      <td>1.000000</td>\n      <td>791</td>\n      <td>0.000000e+00</td>\n      <td>True</td>\n      <td>cds-YP_009724390.1</td>\n      <td>AAC</td>\n      <td>N</td>\n      <td>AAT</td>\n      <td>N</td>\n      <td>None</td>\n      <td>None</td>\n      <td>AC=2;AF=1.00;AN=2;BaseQRankSum=1.71;DP=80;ExcessHet=-0.0000;FS=0.000;InbreedingCoeff=1.0000;MQ=60.00;MQRankSum=0.00;QD=33.81;ReadPosRankSum=-1.028e+00;SOR=0.376</td>\n      <td>1/1:0,80:80:99:2855,239,0</td>\n    </tr>\n    <tr>\n      <td>9</td>\n      <td>NC_045512.2</td>\n      <td>36538</td>\n      <td>C</td>\n      <td>T</td>\n      <td>0</td>\n      <td>0</td>\n      <td>0</td>\n      <td>1040</td>\n      <td>189</td>\n      <td>67</td>\n      <td>1.000000</td>\n      <td>1040</td>\n      <td>0.000000e+00</td>\n      <td>True</td>\n      <td>cds-YP_009724390.1</td>\n      <td>GAT</td>\n      <td>D</td>\n      <td>GGT</td>\n      <td>G</td>\n      <td>None</td>\n      <td>None</td>\n      <td>AC=2;AF=1.00;AN=2;BaseQRankSum=-1.730e+00;DP=99;ExcessHet=0.0000;FS=0.000;InbreedingCoeff=0.9798;MQ=60.00;MQRankSum=0.00;QD=34.55;ReadPosRankSum=0.668;SOR=0.518</td>\n      <td>testRandom</td>\n    </tr>\n    <tr>\n      <td>10</td>\n      <td>NC_045512.2</td>\n      <td>37763</td>\n      <td>G</td>\n      <td>C</td>\n      <td>0</td>\n      <td>0</td>\n      <td>0</td>\n      <td>719</td>\n      <td>183</td>\n      <td>64</td>\n      <td>0.998611</td>\n      <td>720</td>\n      <td>0.000000e+00</td>\n      <td>True</td>\n      <td>cds-YP_009724390.1</td>\n      <td>ATG</td>\n      <td>M</td>\n      <td>ATT</td>\n      <td>I</td>\n      <td>None</td>\n      <td>None</td>\n      <td>AC=2;AF=1.00;AN=2;DP=100;ExcessHet=-0.0000;FS=0.000;InbreedingCoeff=0.9952;MQ=60.00;QD=26.59;SOR=1.019</td>\n      <td>1/1:0,100:100:99:3343,299,0</td>\n    </tr>\n    <tr>\n      <td>11</td>\n      <td>NC_045512.2</td>\n      <td>38711</td>\n      <td>G</td>\n      <td>A</td>\n      <td>1</td>\n      <td>0</td>\n      <td>74</td>\n      <td>777</td>\n      <td>131</td>\n      <td>68</td>\n      <td>0.998715</td>\n      <td>778</td>\n      <td>0.000000e+00</td>\n      <td>True</td>\n      <td>cds-YP_009724390.1</td>\n      <td>AAC</td>\n      <td>N</td>\n      <td>AAT</td>\n      <td>N</td>\n      <td>None</td>\n      <td>None</td>\n      <td>AC=2;AF=1.00;AN=2;BaseQRankSum=0.459;DP=81;ExcessHet=0.0000;FS=0.000;InbreedingCoeff=0.9999;MQ=60.00;MQRankSum=0.00;QD=29.26;ReadPosRankSum=-6.900e-02;SOR=0.326</td>\n      <td>infoinfo</td>\n    </tr>\n    <tr>\n      <td>12</td>\n      <td>NC_045512.2</td>\n      <td>39758</td>\n      <td>G</td>\n      <td>A</td>\n      <td>0</td>\n      <td>0</td>\n      <td>0</td>\n      <td>997</td>\n      <td>105</td>\n      <td>68</td>\n      <td>0.998998</td>\n      <td>998</td>\n      <td>0.000000e+00</td>\n      <td>True</td>\n      <td>cds-YP_009724390.1</td>\n      <td>CGT</td>\n      <td>R</td>\n      <td>CTT</td>\n      <td>L</td>\n      <td>None</td>\n      <td>None</td>\n      <td>AC=2;AF=1.00;AN=2;BaseQRankSum=1.78;DP=94;ExcessHet=0.0000;FS=0.000;InbreedingCoeff=1.0000;MQ=60.00;MQRankSum=7.68;QD=28.33;ReadPosRankSum=-2.300e-02;SOR=0.758</td>\n      <td>1/1:0,94:94:99:3156,282,0</td>\n    </tr>\n    <tr>\n      <td>13</td>\n      <td>NC_045512.2</td>\n      <td>42281</td>\n      <td>A</td>\n      <td>C</td>\n      <td>0</td>\n      <td>0</td>\n      <td>0</td>\n      <td>337</td>\n      <td>35</td>\n      <td>69</td>\n      <td>1.000000</td>\n      <td>337</td>\n      <td>7.457030e-271</td>\n      <td>True</td>\n      <td>cds-YP_009724397.2</td>\n      <td>AGG</td>\n      <td>R</td>\n      <td>AAG</td>\n      <td>K</td>\n      <td>None</td>\n      <td>None</td>\n      <td>AC=2;AF=1.00;AN=2;BaseQRankSum=1.77;DP=67;ExcessHet=-0.0000;FS=0.000;InbreedingCoeff=0.9847;MQ=60.00;MQRankSum=0.00;QD=30.48;ReadPosRankSum=0.941;SOR=0.323</td>\n      <td>1/1:0,67:67:99:2351,201,0</td>\n    </tr>\n    <tr>\n      <td>14</td>\n      <td>NC_045512.2</td>\n      <td>43945</td>\n      <td>G</td>\n      <td>A</td>\n      <td>0</td>\n      <td>0</td>\n      <td>0</td>\n      <td>337</td>\n      <td>36</td>\n      <td>69</td>\n      <td>1.000000</td>\n      <td>337</td>\n      <td>7.457030e-271</td>\n      <td>True</td>\n      <td>cds-YP_009724397.2</td>\n      <td>AGG</td>\n      <td>R</td>\n      <td>AGA</td>\n      <td>R</td>\n      <td>None</td>\n      <td>None</td>\n      <td>AC=2;AF=1.00;AN=2;BaseQRankSum=1.74;DP=125;ExcessHet=0.0000;FS=0.000;InbreedingCoeff=0.9996;MQ=60.00;MQRankSum=0.00;QD=34.33;ReadPosRankSum=0.729;SOR=0.809</td>\n      <td>1/1:0,125:125:99:3692,375,0</td>\n    </tr>\n    <tr>\n      <td>15</td>\n      <td>NC_045512.2</td>\n      <td>50557</td>\n      <td>C</td>\n      <td>T</td>\n      <td>0</td>\n      <td>0</td>\n      <td>0</td>\n      <td>336</td>\n      <td>36</td>\n      <td>70</td>\n      <td>0.997033</td>\n      <td>337</td>\n      <td>2.141960e-270</td>\n      <td>True</td>\n      <td>cds-YP_009724397.2</td>\n      <td>GGA</td>\n      <td>G</td>\n      <td>CGA</td>\n      <td>R</td>\n      <td>None</td>\n      <td>None</td>\n      <td>AC=2;AF=1.00;AN=2;BaseQRankSum=-1.793e+00;DP=62;ExcessHet=-0.0000;FS=5.655;InbreedingCoeff=0.7599;MQ=60.00;MQRankSum=0.00;QD=32.39;ReadPosRankSum=-4.800e-02;SOR=0.377</td>\n      <td>1/1:1,61:62:99:1820,139,0</td>\n    </tr>\n    <tr>\n      <td>16</td>\n      <td>NC_045512.2</td>\n      <td>51949</td>\n      <td>G</td>\n      <td>A</td>\n      <td>60</td>\n      <td>4</td>\n      <td>65</td>\n      <td>675</td>\n      <td>37</td>\n      <td>69</td>\n      <td>0.918367</td>\n      <td>735</td>\n      <td>0.000000e+00</td>\n      <td>True</td>\n      <td>cds-YP_009724397.2</td>\n      <td>ACT</td>\n      <td>T</td>\n      <td>ATT</td>\n      <td>I</td>\n      <td>None</td>\n      <td>None</td>\n      <td>AC=2;AF=1.00;AN=2;BaseQRankSum=0.478;DP=84;ExcessHet=-0.0000;FS=0.000;InbreedingCoeff=0.9883;MQ=60.00;MQRankSum=0.00;QD=34.59;ReadPosRankSum=-2.100e-02;SOR=0.676</td>\n      <td>1/1:0,84:84:99:2685,252,0</td>\n    </tr>\n  </tbody>\n</table>\n</div>"
     },
     "metadata": {},
     "execution_count": 147
    }
   ],
   "source": [
    "bedFiles = [bed, bed2]\n",
    "vcfFiles = [vcf_info, vcf_noinfo]\n",
    "\n",
    "user_annotation(tsv, vcfs=vcfFiles, beds=bedFiles)"
   ]
  },
  {
   "cell_type": "code",
   "execution_count": null,
   "metadata": {},
   "outputs": [],
   "source": []
  }
 ]
}