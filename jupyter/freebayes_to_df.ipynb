{
 "metadata": {
  "language_info": {
   "codemirror_mode": {
    "name": "ipython",
    "version": 3
   },
   "file_extension": ".py",
   "mimetype": "text/x-python",
   "name": "python",
   "nbconvert_exporter": "python",
   "pygments_lexer": "ipython3",
   "version": "3.7.4-final"
  },
  "orig_nbformat": 2,
  "kernelspec": {
   "name": "python3",
   "display_name": "Python 3.7.4 64-bit ('base': conda)",
   "metadata": {
    "interpreter": {
     "hash": "895b43306824f909dd8fc0fe81781e0d62fee5aa42332456ee4a77314d01a104"
    }
   }
  }
 },
 "nbformat": 4,
 "nbformat_minor": 2,
 "cells": [
  {
   "cell_type": "code",
   "execution_count": 11,
   "metadata": {},
   "outputs": [],
   "source": [
    "import os\n",
    "import pandas as pd\n",
    "import numpy as np\n",
    "import re\n",
    "\n",
    "pd.set_option('display.max_columns', None)\n",
    "pd.set_option('display.max_rows', None)\n",
    "pd.set_option('display.max_colwidth', -1)"
   ]
  },
  {
   "cell_type": "code",
   "execution_count": 2,
   "metadata": {},
   "outputs": [],
   "source": [
    "folder = \"/home/laura/ANALYSIS/VARIANT_CALLING/MTB_ANC_2020/VCF/\"\n",
    "\n"
   ]
  },
  {
   "cell_type": "code",
   "execution_count": 3,
   "metadata": {},
   "outputs": [],
   "source": [
    "def import_VCF_to_pandas(vcf_file):\n",
    "    header_lines = 0\n",
    "    with open(vcf_file) as f:\n",
    "        first_line = f.readline().strip()\n",
    "        next_line = f.readline().strip()\n",
    "        while next_line.startswith(\"##\"):\n",
    "            header_lines = header_lines + 1\n",
    "            #print(next_line)\n",
    "            next_line = f.readline()\n",
    "\n",
    "    if first_line.startswith('##'):\n",
    "        df = pd.read_csv(vcf_file, sep='\\t', skiprows=[header_lines], header=header_lines)\n",
    "        \n",
    "        df['ALT']=df['ALT'].str.upper()\n",
    "        df['REF']=df['REF'].str.upper()\n",
    "        #Check INFO\n",
    "        if 'INFO' in df.columns:\n",
    "            return df\n",
    "        else:\n",
    "            last_column = df.columns[-1]\n",
    "            df = df.rename(columns={last_column: 'INFO'})\n",
    "            return df\n",
    "    else:\n",
    "        print(\"This vcf file is not properly formatted\")\n",
    "        sys.exit(1)"
   ]
  },
  {
   "cell_type": "code",
   "execution_count": 53,
   "metadata": {},
   "outputs": [],
   "source": [
    "#import_VCF42_to_pandas(\"/home/laura/ANALYSIS/VARIANT_CALLING/MTB_ANC_2020/VCF/10082989-0-COL3.combined.hf.SNP.final.vcf\").head()"
   ]
  },
  {
   "cell_type": "code",
   "execution_count": 107,
   "metadata": {},
   "outputs": [],
   "source": [
    "def handle_polymorphism_freebayes(df):\n",
    "    for index, _ in df[df.len_AD > 2].iterrows():\n",
    "        split_AD_all = df.loc[index, 'AD'].split(\",\")\n",
    "        split_AD = split_AD_all[1:]\n",
    "        split_AD = [int(x) for x in split_AD]\n",
    "        maxAD = max(split_AD)\n",
    "        max_index = split_AD.index(maxAD)#Obtain index from highest value in list of positions\n",
    "        df.loc[index, 'len_AD'] = 2 #reset number of alternatives as normal\n",
    "        df.loc[index, 'AD'] = split_AD_all[0] + ',' + str(maxAD)\n",
    "        repare_headers = ['ALT', 'AF', 'LEN', 'TYPE', 'ALT_QUAL', 'ALT_DP']\n",
    "        for header in repare_headers:        \n",
    "            df.loc[index, header] = df.loc[index, header].split(\",\")[max_index]  #split bases into list and retrieve the base using ps index\n",
    "\n",
    "def import_VCF42_freebayes_to_df(vcf_file, sep='\\t'):\n",
    "    \"\"\"\n",
    "    Script to read vcf 4.2\n",
    "    - now handle correct allele frequency calculated by summing REF reads + ALT reads instead from DP parameter\n",
    "    - now retrieve the largest read number for ALT allele frequency in case is a heterozygous SNP (depends on calculate_ALT_AD())\n",
    "    - now uses dataframe.iterrows() instead dataframe.index\n",
    "    - remove snps with two alternate alleles, keeping the most abundant if this is more at least 3 times more frequent\n",
    "    \"\"\"\n",
    "\n",
    "    header_lines = 0\n",
    "    if vcf_file.endswith(\".gz\"):\n",
    "        with gzip.open(vcf_file, 'rb') as f:\n",
    "            first_line = f.readline().decode().strip()\n",
    "            next_line = f.readline().decode().strip()\n",
    "            while next_line.startswith(\"##\"):\n",
    "                header_lines = header_lines + 1\n",
    "                next_line = f.readline().decode().strip()\n",
    "    else:\n",
    "        with open(vcf_file, 'r') as f:\n",
    "            first_line = f.readline().strip()\n",
    "            next_line = f.readline().strip()\n",
    "            while next_line.startswith(\"##\"):\n",
    "                header_lines = header_lines + 1\n",
    "                next_line = f.readline().strip()\n",
    "    \n",
    "    if first_line.endswith('VCFv4.2'):\n",
    "        \n",
    "        #Use first line as header\n",
    "        if vcf_file.endswith(\".gz\"):\n",
    "            df = pd.read_csv(vcf_file, compression='gzip', sep=sep, skiprows=[header_lines], header=header_lines)\n",
    "        else:\n",
    "            df = pd.read_csv(vcf_file, sep=sep, skiprows=[header_lines], header=header_lines)\n",
    "\n",
    "        sample = df.columns[-1]\n",
    "        df.rename(columns={sample:'sample'}, inplace=True)\n",
    "        \n",
    "        for index, data_row in df.iterrows():\n",
    "            info_fields = [x.split('=')[0] for x in data_row.INFO.split(';')]\n",
    "            info_values = [x.split('=')[1] for x in data_row.INFO.split(';')]\n",
    "            \n",
    "            format_fields = data_row['FORMAT'].split(\":\")\n",
    "            format_values = data_row['sample'].split(\":\")\n",
    "                                    \n",
    "            for ifield, ivalue in zip(info_fields,info_values):\n",
    "                df.loc[index,ifield] = ivalue\n",
    "                \n",
    "            for ffield, fvalue in zip(format_fields,format_values):\n",
    "                df.loc[index,ffield] = fvalue\n",
    "\n",
    "        #Rename columns to match iVar output to adapt covidma flow\n",
    "        df.rename(columns={'#CHROM':'REGION','RO':'REF_DP', 'DP':'TOTAL_DP', 'AO':'ALT_DP', 'QR':'REF_QUAL', 'QA':'ALT_QUAL'}, inplace=True)\n",
    "        \n",
    "        df['len_AD'] = df['AD'].str.split(\",\").str.len()\n",
    "        \n",
    "        # this step remove false snps from cohort calling and reset index\n",
    "        #df = df[df.ALT_AD > 0].reset_index(drop=True)\n",
    "\n",
    "        handle_polymorphism_freebayes(df) #Leave the most common variation when teo alternatives are present        \n",
    "\n",
    "        to_float = ['QUAL', 'AN', 'TOTAL_DP','GQ', 'REF_QUAL', 'ALT_QUAL']\n",
    "        \n",
    "        to_int = ['POS', 'REF_DP', 'ALT_DP', 'len_AD' ]\n",
    "        \n",
    "        to_str = ['REGION','REF','ALT', 'FILTER']\n",
    "        \n",
    "        for column in df.columns:\n",
    "            if column in to_float:\n",
    "                df[column] = df[column].astype(float)\n",
    "                \n",
    "        for column in df.columns:\n",
    "            if column in to_int:\n",
    "                df[column] = df[column].astype(int)\n",
    "                \n",
    "        for column in df.columns:\n",
    "            if column in to_str:\n",
    "                df[column] = df[column].astype(str)\n",
    "                \n",
    "        df['REF_FREQ'] = df['REF_DP']/df['TOTAL_DP']\n",
    "        df['ALT_FREQ'] = df['ALT_DP']/df['TOTAL_DP']\n",
    "        \n",
    "        df = df[df.TYPE != 'complex']\n",
    "\n",
    "        df = df.sort_values(by=['POS']).reset_index(drop=True)\n",
    "        \n",
    "    else:\n",
    "        print(\"This vcf file is not v4.2\")\n",
    "        sys.exit(1)\n",
    "           \n",
    "    return df[['REGION', 'POS', 'ID', 'REF', 'ALT', 'QUAL', 'FILTER', 'AF', 'AN', 'TOTAL_DP', 'DPB', 'LEN', \n",
    "       'NUMALT', 'ODDS', 'TYPE', 'GT', 'AD', 'len_AD', 'REF_DP', 'ALT_DP', 'REF_QUAL', 'ALT_QUAL', 'REF_FREQ', 'ALT_FREQ']]"
   ]
  },
  {
   "cell_type": "code",
   "execution_count": 110,
   "metadata": {},
   "outputs": [],
   "source": [
    "dffree = import_VCF42_to_pandas(\"/home/laura/ANALYSIS/provaryota/Variants/var.vcf\")"
   ]
  },
  {
   "cell_type": "code",
   "execution_count": 106,
   "metadata": {},
   "outputs": [],
   "source": [
    "dffree.to_csv('/home/laura/ANALYSIS/provaryota/Variants/var2.tsv', sep=\"\\t\", index=False)"
   ]
  },
  {
   "cell_type": "code",
   "execution_count": 111,
   "metadata": {},
   "outputs": [
    {
     "output_type": "execute_result",
     "data": {
      "text/plain": [
       "     REGION   POS ID REF ALT          QUAL FILTER AF   AN  TOTAL_DP  DPB LEN  \\\n",
       "0   MTB_anc  1701  .  T   C   3.441600e+03  .      1  2.0  115.0     115  1    \n",
       "1   MTB_anc  1962  .  T   G   0.000000e+00  .      0  2.0  54.0      54   1    \n",
       "2   MTB_anc  1969  .  T   G   0.000000e+00  .      0  2.0  55.0      55   1    \n",
       "3   MTB_anc  1970  .  CA  CC  4.294740e-15  .      0  2.0  56.0      56   1    \n",
       "4   MTB_anc  1976  .  C   G   0.000000e+00  .      0  2.0  54.0      54   1    \n",
       "5   MTB_anc  1978  .  T   G   5.304040e-15  .      0  2.0  54.0      54   1    \n",
       "6   MTB_anc  2009  .  C   G   0.000000e+00  .      0  2.0  57.0      57   1    \n",
       "7   MTB_anc  2022  .  A   G   2.961020e-15  .      0  2.0  53.0      53   1    \n",
       "8   MTB_anc  2040  .  T   G   0.000000e+00  .      0  2.0  48.0      48   1    \n",
       "9   MTB_anc  2532  .  C   T   1.211590e+03  .      1  2.0  40.0      40   1    \n",
       "10  MTB_anc  3182  .  T   G   0.000000e+00  .      0  2.0  68.0      68   1    \n",
       "11  MTB_anc  3197  .  T   G   0.000000e+00  .      0  2.0  76.0      76   1    \n",
       "12  MTB_anc  3203  .  C   T   0.000000e+00  .      0  2.0  77.0      77   1    \n",
       "13  MTB_anc  3211  .  T   G   0.000000e+00  .      0  2.0  70.0      70   1    \n",
       "14  MTB_anc  3220  .  A   G   1.025070e-15  .      0  2.0  81.0      81   1    \n",
       "15  MTB_anc  4628  .  T   C   4.829170e-15  .      0  2.0  33.0      33   1    \n",
       "16  MTB_anc  4717  .  A   C   2.991160e-15  .      0  2.0  34.0      34   1    \n",
       "17  MTB_anc  6860  .  T   C   7.533810e-15  .      0  2.0  114.0     114  1    \n",
       "18  MTB_anc  6889  .  G   T   0.000000e+00  .      0  2.0  107.0     107  1    \n",
       "19  MTB_anc  6913  .  C   G   3.857310e-15  .      0  2.0  102.0     102  1    \n",
       "\n",
       "   NUMALT     ODDS TYPE   GT     AD  len_AD  REF_DP  ALT_DP  REF_QUAL  \\\n",
       "0   1      162.643  snp  1/1  0,114  2       0       114     0.0        \n",
       "1   1      64.5762  snp  0/0  51,3   2       51      3       1508.0     \n",
       "2   1      57.6     snp  0/0  50,5   2       50      5       1534.0     \n",
       "3   1      63.2546  snp  0/0  52,4   2       52      4       1628.0     \n",
       "4   1      59.9927  snp  0/0  50,4   2       50      4       1527.0     \n",
       "5   1      60.0669  snp  0/0  49,5   2       49      5       1550.0     \n",
       "6   1      68.8316  snp  0/0  53,4   2       53      4       1720.0     \n",
       "7   1      60.8961  snp  0/0  48,5   2       48      5       1595.0     \n",
       "8   1      56.4241  snp  0/0  44,4   2       44      4       1567.0     \n",
       "9   1      60.0569  snp  1/1  0,40   2       0       40      0.0        \n",
       "10  1      69.524   snp  0/0  61,6   2       61      6       1882.0     \n",
       "11  1      83.3478  snp  0/0  71,5   2       71      5       2343.0     \n",
       "12  1      82.9724  snp  0/0  72,5   2       72      5       2330.0     \n",
       "13  1      50.1898  snp  0/0  59,11  2       59      11      2175.0     \n",
       "14  1      82.6355  snp  0/0  73,7   2       73      7       2649.0     \n",
       "15  1      39.8566  snp  0/0  31,2   2       31      2       1091.0     \n",
       "16  1      44.3185  snp  0/0  32,2   2       32      2       1117.0     \n",
       "17  1      135.787  snp  0/0  107,6  2       107     6       3773.0     \n",
       "18  1      97.3054  snp  0/0  95,10  2       95      10      3325.0     \n",
       "19  1      86.6923  snp  0/0  90,12  2       90      12      2955.0     \n",
       "\n",
       "    ALT_QUAL  REF_FREQ  ALT_FREQ  \n",
       "0   3896.0    0.000000  0.991304  \n",
       "1   41.0      0.944444  0.055556  \n",
       "2   66.0      0.909091  0.090909  \n",
       "3   55.0      0.928571  0.071429  \n",
       "4   58.0      0.925926  0.074074  \n",
       "5   70.0      0.907407  0.092593  \n",
       "6   48.0      0.929825  0.070175  \n",
       "7   60.0      0.905660  0.094340  \n",
       "8   51.0      0.916667  0.083333  \n",
       "9   1416.0    0.000000  1.000000  \n",
       "10  80.0      0.897059  0.088235  \n",
       "11  74.0      0.934211  0.065789  \n",
       "12  82.0      0.935065  0.064935  \n",
       "13  164.0     0.842857  0.157143  \n",
       "14  105.0     0.901235  0.086420  \n",
       "15  32.0      0.939394  0.060606  \n",
       "16  24.0      0.941176  0.058824  \n",
       "17  79.0      0.938596  0.052632  \n",
       "18  169.0     0.887850  0.093458  \n",
       "19  177.0     0.882353  0.117647  "
      ],
      "text/html": "<div>\n<style scoped>\n    .dataframe tbody tr th:only-of-type {\n        vertical-align: middle;\n    }\n\n    .dataframe tbody tr th {\n        vertical-align: top;\n    }\n\n    .dataframe thead th {\n        text-align: right;\n    }\n</style>\n<table border=\"1\" class=\"dataframe\">\n  <thead>\n    <tr style=\"text-align: right;\">\n      <th></th>\n      <th>REGION</th>\n      <th>POS</th>\n      <th>ID</th>\n      <th>REF</th>\n      <th>ALT</th>\n      <th>QUAL</th>\n      <th>FILTER</th>\n      <th>AF</th>\n      <th>AN</th>\n      <th>TOTAL_DP</th>\n      <th>DPB</th>\n      <th>LEN</th>\n      <th>NUMALT</th>\n      <th>ODDS</th>\n      <th>TYPE</th>\n      <th>GT</th>\n      <th>AD</th>\n      <th>len_AD</th>\n      <th>REF_DP</th>\n      <th>ALT_DP</th>\n      <th>REF_QUAL</th>\n      <th>ALT_QUAL</th>\n      <th>REF_FREQ</th>\n      <th>ALT_FREQ</th>\n    </tr>\n  </thead>\n  <tbody>\n    <tr>\n      <td>0</td>\n      <td>MTB_anc</td>\n      <td>1701</td>\n      <td>.</td>\n      <td>T</td>\n      <td>C</td>\n      <td>3.441600e+03</td>\n      <td>.</td>\n      <td>1</td>\n      <td>2.0</td>\n      <td>115.0</td>\n      <td>115</td>\n      <td>1</td>\n      <td>1</td>\n      <td>162.643</td>\n      <td>snp</td>\n      <td>1/1</td>\n      <td>0,114</td>\n      <td>2</td>\n      <td>0</td>\n      <td>114</td>\n      <td>0.0</td>\n      <td>3896.0</td>\n      <td>0.000000</td>\n      <td>0.991304</td>\n    </tr>\n    <tr>\n      <td>1</td>\n      <td>MTB_anc</td>\n      <td>1962</td>\n      <td>.</td>\n      <td>T</td>\n      <td>G</td>\n      <td>0.000000e+00</td>\n      <td>.</td>\n      <td>0</td>\n      <td>2.0</td>\n      <td>54.0</td>\n      <td>54</td>\n      <td>1</td>\n      <td>1</td>\n      <td>64.5762</td>\n      <td>snp</td>\n      <td>0/0</td>\n      <td>51,3</td>\n      <td>2</td>\n      <td>51</td>\n      <td>3</td>\n      <td>1508.0</td>\n      <td>41.0</td>\n      <td>0.944444</td>\n      <td>0.055556</td>\n    </tr>\n    <tr>\n      <td>2</td>\n      <td>MTB_anc</td>\n      <td>1969</td>\n      <td>.</td>\n      <td>T</td>\n      <td>G</td>\n      <td>0.000000e+00</td>\n      <td>.</td>\n      <td>0</td>\n      <td>2.0</td>\n      <td>55.0</td>\n      <td>55</td>\n      <td>1</td>\n      <td>1</td>\n      <td>57.6</td>\n      <td>snp</td>\n      <td>0/0</td>\n      <td>50,5</td>\n      <td>2</td>\n      <td>50</td>\n      <td>5</td>\n      <td>1534.0</td>\n      <td>66.0</td>\n      <td>0.909091</td>\n      <td>0.090909</td>\n    </tr>\n    <tr>\n      <td>3</td>\n      <td>MTB_anc</td>\n      <td>1970</td>\n      <td>.</td>\n      <td>CA</td>\n      <td>CC</td>\n      <td>4.294740e-15</td>\n      <td>.</td>\n      <td>0</td>\n      <td>2.0</td>\n      <td>56.0</td>\n      <td>56</td>\n      <td>1</td>\n      <td>1</td>\n      <td>63.2546</td>\n      <td>snp</td>\n      <td>0/0</td>\n      <td>52,4</td>\n      <td>2</td>\n      <td>52</td>\n      <td>4</td>\n      <td>1628.0</td>\n      <td>55.0</td>\n      <td>0.928571</td>\n      <td>0.071429</td>\n    </tr>\n    <tr>\n      <td>4</td>\n      <td>MTB_anc</td>\n      <td>1976</td>\n      <td>.</td>\n      <td>C</td>\n      <td>G</td>\n      <td>0.000000e+00</td>\n      <td>.</td>\n      <td>0</td>\n      <td>2.0</td>\n      <td>54.0</td>\n      <td>54</td>\n      <td>1</td>\n      <td>1</td>\n      <td>59.9927</td>\n      <td>snp</td>\n      <td>0/0</td>\n      <td>50,4</td>\n      <td>2</td>\n      <td>50</td>\n      <td>4</td>\n      <td>1527.0</td>\n      <td>58.0</td>\n      <td>0.925926</td>\n      <td>0.074074</td>\n    </tr>\n    <tr>\n      <td>5</td>\n      <td>MTB_anc</td>\n      <td>1978</td>\n      <td>.</td>\n      <td>T</td>\n      <td>G</td>\n      <td>5.304040e-15</td>\n      <td>.</td>\n      <td>0</td>\n      <td>2.0</td>\n      <td>54.0</td>\n      <td>54</td>\n      <td>1</td>\n      <td>1</td>\n      <td>60.0669</td>\n      <td>snp</td>\n      <td>0/0</td>\n      <td>49,5</td>\n      <td>2</td>\n      <td>49</td>\n      <td>5</td>\n      <td>1550.0</td>\n      <td>70.0</td>\n      <td>0.907407</td>\n      <td>0.092593</td>\n    </tr>\n    <tr>\n      <td>6</td>\n      <td>MTB_anc</td>\n      <td>2009</td>\n      <td>.</td>\n      <td>C</td>\n      <td>G</td>\n      <td>0.000000e+00</td>\n      <td>.</td>\n      <td>0</td>\n      <td>2.0</td>\n      <td>57.0</td>\n      <td>57</td>\n      <td>1</td>\n      <td>1</td>\n      <td>68.8316</td>\n      <td>snp</td>\n      <td>0/0</td>\n      <td>53,4</td>\n      <td>2</td>\n      <td>53</td>\n      <td>4</td>\n      <td>1720.0</td>\n      <td>48.0</td>\n      <td>0.929825</td>\n      <td>0.070175</td>\n    </tr>\n    <tr>\n      <td>7</td>\n      <td>MTB_anc</td>\n      <td>2022</td>\n      <td>.</td>\n      <td>A</td>\n      <td>G</td>\n      <td>2.961020e-15</td>\n      <td>.</td>\n      <td>0</td>\n      <td>2.0</td>\n      <td>53.0</td>\n      <td>53</td>\n      <td>1</td>\n      <td>1</td>\n      <td>60.8961</td>\n      <td>snp</td>\n      <td>0/0</td>\n      <td>48,5</td>\n      <td>2</td>\n      <td>48</td>\n      <td>5</td>\n      <td>1595.0</td>\n      <td>60.0</td>\n      <td>0.905660</td>\n      <td>0.094340</td>\n    </tr>\n    <tr>\n      <td>8</td>\n      <td>MTB_anc</td>\n      <td>2040</td>\n      <td>.</td>\n      <td>T</td>\n      <td>G</td>\n      <td>0.000000e+00</td>\n      <td>.</td>\n      <td>0</td>\n      <td>2.0</td>\n      <td>48.0</td>\n      <td>48</td>\n      <td>1</td>\n      <td>1</td>\n      <td>56.4241</td>\n      <td>snp</td>\n      <td>0/0</td>\n      <td>44,4</td>\n      <td>2</td>\n      <td>44</td>\n      <td>4</td>\n      <td>1567.0</td>\n      <td>51.0</td>\n      <td>0.916667</td>\n      <td>0.083333</td>\n    </tr>\n    <tr>\n      <td>9</td>\n      <td>MTB_anc</td>\n      <td>2532</td>\n      <td>.</td>\n      <td>C</td>\n      <td>T</td>\n      <td>1.211590e+03</td>\n      <td>.</td>\n      <td>1</td>\n      <td>2.0</td>\n      <td>40.0</td>\n      <td>40</td>\n      <td>1</td>\n      <td>1</td>\n      <td>60.0569</td>\n      <td>snp</td>\n      <td>1/1</td>\n      <td>0,40</td>\n      <td>2</td>\n      <td>0</td>\n      <td>40</td>\n      <td>0.0</td>\n      <td>1416.0</td>\n      <td>0.000000</td>\n      <td>1.000000</td>\n    </tr>\n    <tr>\n      <td>10</td>\n      <td>MTB_anc</td>\n      <td>3182</td>\n      <td>.</td>\n      <td>T</td>\n      <td>G</td>\n      <td>0.000000e+00</td>\n      <td>.</td>\n      <td>0</td>\n      <td>2.0</td>\n      <td>68.0</td>\n      <td>68</td>\n      <td>1</td>\n      <td>1</td>\n      <td>69.524</td>\n      <td>snp</td>\n      <td>0/0</td>\n      <td>61,6</td>\n      <td>2</td>\n      <td>61</td>\n      <td>6</td>\n      <td>1882.0</td>\n      <td>80.0</td>\n      <td>0.897059</td>\n      <td>0.088235</td>\n    </tr>\n    <tr>\n      <td>11</td>\n      <td>MTB_anc</td>\n      <td>3197</td>\n      <td>.</td>\n      <td>T</td>\n      <td>G</td>\n      <td>0.000000e+00</td>\n      <td>.</td>\n      <td>0</td>\n      <td>2.0</td>\n      <td>76.0</td>\n      <td>76</td>\n      <td>1</td>\n      <td>1</td>\n      <td>83.3478</td>\n      <td>snp</td>\n      <td>0/0</td>\n      <td>71,5</td>\n      <td>2</td>\n      <td>71</td>\n      <td>5</td>\n      <td>2343.0</td>\n      <td>74.0</td>\n      <td>0.934211</td>\n      <td>0.065789</td>\n    </tr>\n    <tr>\n      <td>12</td>\n      <td>MTB_anc</td>\n      <td>3203</td>\n      <td>.</td>\n      <td>C</td>\n      <td>T</td>\n      <td>0.000000e+00</td>\n      <td>.</td>\n      <td>0</td>\n      <td>2.0</td>\n      <td>77.0</td>\n      <td>77</td>\n      <td>1</td>\n      <td>1</td>\n      <td>82.9724</td>\n      <td>snp</td>\n      <td>0/0</td>\n      <td>72,5</td>\n      <td>2</td>\n      <td>72</td>\n      <td>5</td>\n      <td>2330.0</td>\n      <td>82.0</td>\n      <td>0.935065</td>\n      <td>0.064935</td>\n    </tr>\n    <tr>\n      <td>13</td>\n      <td>MTB_anc</td>\n      <td>3211</td>\n      <td>.</td>\n      <td>T</td>\n      <td>G</td>\n      <td>0.000000e+00</td>\n      <td>.</td>\n      <td>0</td>\n      <td>2.0</td>\n      <td>70.0</td>\n      <td>70</td>\n      <td>1</td>\n      <td>1</td>\n      <td>50.1898</td>\n      <td>snp</td>\n      <td>0/0</td>\n      <td>59,11</td>\n      <td>2</td>\n      <td>59</td>\n      <td>11</td>\n      <td>2175.0</td>\n      <td>164.0</td>\n      <td>0.842857</td>\n      <td>0.157143</td>\n    </tr>\n    <tr>\n      <td>14</td>\n      <td>MTB_anc</td>\n      <td>3220</td>\n      <td>.</td>\n      <td>A</td>\n      <td>G</td>\n      <td>1.025070e-15</td>\n      <td>.</td>\n      <td>0</td>\n      <td>2.0</td>\n      <td>81.0</td>\n      <td>81</td>\n      <td>1</td>\n      <td>1</td>\n      <td>82.6355</td>\n      <td>snp</td>\n      <td>0/0</td>\n      <td>73,7</td>\n      <td>2</td>\n      <td>73</td>\n      <td>7</td>\n      <td>2649.0</td>\n      <td>105.0</td>\n      <td>0.901235</td>\n      <td>0.086420</td>\n    </tr>\n    <tr>\n      <td>15</td>\n      <td>MTB_anc</td>\n      <td>4628</td>\n      <td>.</td>\n      <td>T</td>\n      <td>C</td>\n      <td>4.829170e-15</td>\n      <td>.</td>\n      <td>0</td>\n      <td>2.0</td>\n      <td>33.0</td>\n      <td>33</td>\n      <td>1</td>\n      <td>1</td>\n      <td>39.8566</td>\n      <td>snp</td>\n      <td>0/0</td>\n      <td>31,2</td>\n      <td>2</td>\n      <td>31</td>\n      <td>2</td>\n      <td>1091.0</td>\n      <td>32.0</td>\n      <td>0.939394</td>\n      <td>0.060606</td>\n    </tr>\n    <tr>\n      <td>16</td>\n      <td>MTB_anc</td>\n      <td>4717</td>\n      <td>.</td>\n      <td>A</td>\n      <td>C</td>\n      <td>2.991160e-15</td>\n      <td>.</td>\n      <td>0</td>\n      <td>2.0</td>\n      <td>34.0</td>\n      <td>34</td>\n      <td>1</td>\n      <td>1</td>\n      <td>44.3185</td>\n      <td>snp</td>\n      <td>0/0</td>\n      <td>32,2</td>\n      <td>2</td>\n      <td>32</td>\n      <td>2</td>\n      <td>1117.0</td>\n      <td>24.0</td>\n      <td>0.941176</td>\n      <td>0.058824</td>\n    </tr>\n    <tr>\n      <td>17</td>\n      <td>MTB_anc</td>\n      <td>6860</td>\n      <td>.</td>\n      <td>T</td>\n      <td>C</td>\n      <td>7.533810e-15</td>\n      <td>.</td>\n      <td>0</td>\n      <td>2.0</td>\n      <td>114.0</td>\n      <td>114</td>\n      <td>1</td>\n      <td>1</td>\n      <td>135.787</td>\n      <td>snp</td>\n      <td>0/0</td>\n      <td>107,6</td>\n      <td>2</td>\n      <td>107</td>\n      <td>6</td>\n      <td>3773.0</td>\n      <td>79.0</td>\n      <td>0.938596</td>\n      <td>0.052632</td>\n    </tr>\n    <tr>\n      <td>18</td>\n      <td>MTB_anc</td>\n      <td>6889</td>\n      <td>.</td>\n      <td>G</td>\n      <td>T</td>\n      <td>0.000000e+00</td>\n      <td>.</td>\n      <td>0</td>\n      <td>2.0</td>\n      <td>107.0</td>\n      <td>107</td>\n      <td>1</td>\n      <td>1</td>\n      <td>97.3054</td>\n      <td>snp</td>\n      <td>0/0</td>\n      <td>95,10</td>\n      <td>2</td>\n      <td>95</td>\n      <td>10</td>\n      <td>3325.0</td>\n      <td>169.0</td>\n      <td>0.887850</td>\n      <td>0.093458</td>\n    </tr>\n    <tr>\n      <td>19</td>\n      <td>MTB_anc</td>\n      <td>6913</td>\n      <td>.</td>\n      <td>C</td>\n      <td>G</td>\n      <td>3.857310e-15</td>\n      <td>.</td>\n      <td>0</td>\n      <td>2.0</td>\n      <td>102.0</td>\n      <td>102</td>\n      <td>1</td>\n      <td>1</td>\n      <td>86.6923</td>\n      <td>snp</td>\n      <td>0/0</td>\n      <td>90,12</td>\n      <td>2</td>\n      <td>90</td>\n      <td>12</td>\n      <td>2955.0</td>\n      <td>177.0</td>\n      <td>0.882353</td>\n      <td>0.117647</td>\n    </tr>\n  </tbody>\n</table>\n</div>"
     },
     "metadata": {},
     "execution_count": 111
    }
   ],
   "source": [
    "dffree.head(20)"
   ]
  },
  {
   "cell_type": "code",
   "execution_count": 65,
   "metadata": {},
   "outputs": [
    {
     "output_type": "execute_result",
     "data": {
      "text/plain": [
       "Index(['#CHROM', 'POS', 'ID', 'REF', 'ALT', 'QUAL', 'FILTER', 'INFO', 'FORMAT',\n",
       "       'sample', 'AB', 'ABP', 'AC', 'AF', 'AN', 'AO', 'CIGAR', 'DP', 'DPB',\n",
       "       'DPRA', 'EPP', 'EPPR', 'GTI', 'LEN', 'MEANALT', 'MQM', 'MQMR', 'NS',\n",
       "       'NUMALT', 'ODDS', 'PAIRED', 'PAIREDR', 'PAO', 'PQA', 'PQR', 'PRO', 'QA',\n",
       "       'QR', 'RO', 'RPL', 'RPP', 'RPPR', 'RPR', 'RUN', 'SAF', 'SAP', 'SAR',\n",
       "       'SRF', 'SRP', 'SRR', 'TYPE', 'technology.ILLUMINA', 'GT', 'AD', 'GL',\n",
       "       'len_AD', 'REF_AD', 'ALT_AD', 'gt0', 'gt1', 'dp', 'aF'],\n",
       "      dtype='object')"
      ]
     },
     "metadata": {},
     "execution_count": 65
    }
   ],
   "source": [
    "dffree.columns"
   ]
  },
  {
   "cell_type": "code",
   "execution_count": 52,
   "metadata": {},
   "outputs": [
    {
     "output_type": "execute_result",
     "data": {
      "text/plain": [
       "True"
      ]
     },
     "metadata": {},
     "execution_count": 52
    }
   ],
   "source": [
    "'NS' in dffree.columns"
   ]
  },
  {
   "cell_type": "code",
   "execution_count": 113,
   "metadata": {},
   "outputs": [
    {
     "output_type": "execute_result",
     "data": {
      "text/plain": [
       "Empty DataFrame\n",
       "Columns: [REGION, POS, ID, REF, ALT, QUAL, FILTER, AF, AN, TOTAL_DP, DPB, LEN, NUMALT, ODDS, TYPE, GT, AD, len_AD, REF_DP, ALT_DP, REF_QUAL, ALT_QUAL, REF_FREQ, ALT_FREQ]\n",
       "Index: []"
      ],
      "text/html": "<div>\n<style scoped>\n    .dataframe tbody tr th:only-of-type {\n        vertical-align: middle;\n    }\n\n    .dataframe tbody tr th {\n        vertical-align: top;\n    }\n\n    .dataframe thead th {\n        text-align: right;\n    }\n</style>\n<table border=\"1\" class=\"dataframe\">\n  <thead>\n    <tr style=\"text-align: right;\">\n      <th></th>\n      <th>REGION</th>\n      <th>POS</th>\n      <th>ID</th>\n      <th>REF</th>\n      <th>ALT</th>\n      <th>QUAL</th>\n      <th>FILTER</th>\n      <th>AF</th>\n      <th>AN</th>\n      <th>TOTAL_DP</th>\n      <th>DPB</th>\n      <th>LEN</th>\n      <th>NUMALT</th>\n      <th>ODDS</th>\n      <th>TYPE</th>\n      <th>GT</th>\n      <th>AD</th>\n      <th>len_AD</th>\n      <th>REF_DP</th>\n      <th>ALT_DP</th>\n      <th>REF_QUAL</th>\n      <th>ALT_QUAL</th>\n      <th>REF_FREQ</th>\n      <th>ALT_FREQ</th>\n    </tr>\n  </thead>\n  <tbody>\n  </tbody>\n</table>\n</div>"
     },
     "metadata": {},
     "execution_count": 113
    }
   ],
   "source": [
    "dffree[dffree.ALT_DP < 2]"
   ]
  },
  {
   "cell_type": "code",
   "execution_count": 99,
   "metadata": {},
   "outputs": [
    {
     "output_type": "execute_result",
     "data": {
      "text/plain": [
       "0      573\n",
       "0.5    214\n",
       "1      151\n",
       "Name: AF, dtype: int64"
      ]
     },
     "metadata": {},
     "execution_count": 99
    }
   ],
   "source": [
    "dffree.AF.value_counts()"
   ]
  },
  {
   "cell_type": "code",
   "execution_count": 90,
   "metadata": {},
   "outputs": [
    {
     "output_type": "execute_result",
     "data": {
      "text/plain": [
       "      REGION     POS ID                          REF      ALT          QUAL  \\\n",
       "43   MTB_anc  20285   .  TGGGC                        GGGGG    6.222060e-04   \n",
       "61   MTB_anc  32167   .  TGGC                         GGGG     1.338800e-14   \n",
       "111  MTB_anc  58973   .  TCCCG                        GCCCC    4.106150e-08   \n",
       "160  MTB_anc  81389   .  GA                           TT       3.840570e-07   \n",
       "260  MTB_anc  145183  .  ACCA                         CCCC     3.533330e-14   \n",
       "267  MTB_anc  145450  .  ATTG                         GTTT     2.856370e-13   \n",
       "300  MTB_anc  174677  .  ACCAA                        CCCAC    3.581410e-06   \n",
       "308  MTB_anc  175919  .  TCGGA                        GCGGG    1.370800e-04   \n",
       "309  MTB_anc  175930  .  TTTTC                        GTTTT    1.121530e-07   \n",
       "319  MTB_anc  177896  .  GGGGC                        TGGGG    1.266130e-04   \n",
       "346  MTB_anc  206481  .  GGGT                         CGGG     3.735170e+01   \n",
       "354  MTB_anc  208320  .  GCG                          GT       5.681610e+02   \n",
       "395  MTB_anc  254116  .  CTTTT                        TTTTC    5.245440e-07   \n",
       "456  MTB_anc  264414  .  GCT                          CCC      6.343700e-15   \n",
       "467  MTB_anc  267552  .  CT                           AG       1.315750e+00   \n",
       "487  MTB_anc  300187  .  ACCA                         CCCC     0.000000e+00   \n",
       "528  MTB_anc  336047  .  CGCATAG                      GGCGTAC  1.176540e+01   \n",
       "530  MTB_anc  336081  .  AC                           GT       2.452600e+00   \n",
       "532  MTB_anc  336535  .  TGTTGG                       GGGTGT   6.538280e+00   \n",
       "537  MTB_anc  338960  .  TGCT                         CGCC     2.245570e+01   \n",
       "540  MTB_anc  338997  .  GC                           CT       1.855650e+02   \n",
       "572  MTB_anc  366260  .  TGCCC                        CGCCA    7.306970e+00   \n",
       "573  MTB_anc  366269  .  TGGCG                        GGGCA    8.940770e+00   \n",
       "584  MTB_anc  369531  .  GG                           AT       1.212280e-02   \n",
       "596  MTB_anc  372027  .  TAG                          GAA      6.188520e-08   \n",
       "669  MTB_anc  393916  .  AGAAC                        GGAAA    0.000000e+00   \n",
       "713  MTB_anc  422753  .  TCGGT                        GCGGG    6.832280e-01   \n",
       "722  MTB_anc  426636  .  CA                           TG       1.900330e-05   \n",
       "774  MTB_anc  467504  .  GACGC                        AACGGCG  8.691770e+01   \n",
       "905  MTB_anc  580772  .  TGGGGGCACCACCCGCTTGCGGGGGAG  AGG      7.189270e+01   \n",
       "915  MTB_anc  597488  .  ACCGG                        CCCGT    2.209060e-05   \n",
       "919  MTB_anc  598108  .  GG                           AA       5.737580e-12   \n",
       "\n",
       "    FILTER   AC     AF   AN    DP       DPB LEN NUMALT      ODDS     TYPE  \\\n",
       "43   .      1    0.5    2.0  11.0  11        5   1      8.85072   complex   \n",
       "61   .      0    0      2.0  34.0  34        4   1      40.629    complex   \n",
       "111  .      0    0      2.0  20.0  20.8      5   1      18.4767   complex   \n",
       "160  .      0    0      2.0  15.0  15        2   1      16.241    complex   \n",
       "260  .      0,0  0,0    2.0  35.0  35        4   2      34.1707   complex   \n",
       "267  .      0,0  0,0    2.0  31.0  31        4   2      31.0102   complex   \n",
       "300  .      0,0  0,0    2.0  18.0  18        5   2      14.0446   complex   \n",
       "308  .      1,0  0.5,0  2.0  15.0  15        5   2      10.3743   complex   \n",
       "309  .      0    0      2.0  22.0  22.8      5   1      17.472    complex   \n",
       "319  .      1    0.5    2.0  12.0  12        5   1      10.4429   complex   \n",
       "346  .      2    1      2.0  2.0   2         4   1      7.37776   complex   \n",
       "354  .      2    1      2.0  18.0  12        2   1      29.5585   complex   \n",
       "395  .      0    0      2.0  17.0  17        5   1      15.9293   complex   \n",
       "456  .      0    0      2.0  39.0  39        3   1      49.2217   complex   \n",
       "467  .      1    0.5    2.0  10.0  10        2   1      1.03884   complex   \n",
       "487  .      0,0  0,0    2.0  77.0  77        4   2      68.1141   complex   \n",
       "528  .      1    0.5    2.0  3.0   3         7   1      1.23032   complex   \n",
       "530  .      1    0.5    2.0  3.0   3         2   1      0.532129  complex   \n",
       "532  .      1    0.5    2.0  8.0   8         6   1      1.25458   complex   \n",
       "537  .      1    0.5    2.0  9.0   9         4   1      5.16492   complex   \n",
       "540  .      1    0.5    2.0  10.0  10        2   1      1.36424   complex   \n",
       "572  .      1    0.5    2.0  8.0   8         5   1      1.47681   complex   \n",
       "573  .      1    0.5    2.0  7.0   7         5   1      1.92216   complex   \n",
       "584  .      1    0.5    2.0  14.0  14        2   1      5.87982   complex   \n",
       "596  .      0    0      2.0  24.0  24        3   1      18.0665   complex   \n",
       "669  .      0,0  0,0    2.0  38.0  38        5   2      44.8815   complex   \n",
       "713  .      1    0.5    2.0  3.0   3         5   1      1.9787    complex   \n",
       "722  .      0,0  0,0    2.0  13.0  13        2   2      12.4997   complex   \n",
       "774  .      2    1      2.0  3.0   4.2       7   1      8.76405   complex   \n",
       "905  .      2    1      2.0  4.0   0.444444  3   1      10.1503   complex   \n",
       "915  .      0    0      2.0  11.0  11        5   1      12.1889   complex   \n",
       "919  .      0    0      2.0  27.0  27        2   1      27.3543   complex   \n",
       "\n",
       "      GT    AD  len_AD  REF_DP  ALT_DP  REF_QUAL  ALT_QUAL  REF_FREQ  ALT_FREQ  \n",
       "43   0/1  9,2   2       9       2       335.0     51.0      0.818182  0.181818  \n",
       "61   0/0  31,2  2       31      2       940.0     37.0      0.911765  0.058824  \n",
       "111  0/0  15,2  2       15      2       400.0     43.0      0.750000  0.100000  \n",
       "160  0/0  11,2  2       11      2       407.0     30.0      0.733333  0.133333  \n",
       "260  0/0  28,3  2       28      3       987.0     54.0      0.800000  0.085714  \n",
       "267  0/0  24,2  2       24      2       721.0     38.0      0.774194  0.064516  \n",
       "300  0/0  12,2  2       12      2       404.0     46.0      0.666667  0.111111  \n",
       "308  0/1  10,3  2       10      3       349.0     51.0      0.666667  0.200000  \n",
       "309  0/0  18,3  2       18      3       656.0     63.0      0.818182  0.136364  \n",
       "319  0/1  9,2   2       9       2       329.0     46.0      0.750000  0.166667  \n",
       "346  1/1  0,2   2       0       2       0.0       52.0      0.000000  1.000000  \n",
       "354  1/1  0,18  2       0       18      0.0       692.0     0.000000  1.000000  \n",
       "395  0/0  14,2  2       14      2       500.0     42.0      0.823529  0.117647  \n",
       "456  0/0  37,2  2       37      2       1294.0    32.0      0.948718  0.051282  \n",
       "467  0/1  8,2   2       8       2       296.0     75.0      0.800000  0.200000  \n",
       "487  0/0  62,6  2       62      6       2152.0    119.0     0.805195  0.077922  \n",
       "528  0/1  1,2   2       1       2       37.0      53.0      0.333333  0.666667  \n",
       "530  0/1  1,2   2       1       2       37.0      46.0      0.333333  0.666667  \n",
       "532  0/1  6,2   2       6       2       206.0     75.0      0.750000  0.250000  \n",
       "537  0/1  6,3   2       6       3       223.0     112.0     0.666667  0.333333  \n",
       "540  0/1  2,8   2       2       8       74.0      301.0     0.200000  0.800000  \n",
       "572  0/1  6,2   2       6       2       213.0     76.0      0.750000  0.250000  \n",
       "573  0/1  5,2   2       5       2       176.0     73.0      0.714286  0.285714  \n",
       "584  0/1  12,2  2       12      2       409.0     75.0      0.857143  0.142857  \n",
       "596  0/0  21,2  2       21      2       707.0     74.0      0.875000  0.083333  \n",
       "669  0/0  33,2  2       33      2       1093.0    27.0      0.868421  0.052632  \n",
       "713  0/1  1,2   2       1       2       36.0      32.0      0.333333  0.666667  \n",
       "722  0/0  9,2   2       9       2       318.0     36.0      0.692308  0.153846  \n",
       "774  1/1  0,3   2       0       3       0.0       112.0     0.000000  1.000000  \n",
       "905  1/1  0,4   2       0       4       0.0       131.0     0.000000  1.000000  \n",
       "915  0/0  8,2   2       8       2       249.0     33.0      0.727273  0.181818  \n",
       "919  0/0  25,2  2       25      2       883.0     53.0      0.925926  0.074074  "
      ],
      "text/html": "<div>\n<style scoped>\n    .dataframe tbody tr th:only-of-type {\n        vertical-align: middle;\n    }\n\n    .dataframe tbody tr th {\n        vertical-align: top;\n    }\n\n    .dataframe thead th {\n        text-align: right;\n    }\n</style>\n<table border=\"1\" class=\"dataframe\">\n  <thead>\n    <tr style=\"text-align: right;\">\n      <th></th>\n      <th>REGION</th>\n      <th>POS</th>\n      <th>ID</th>\n      <th>REF</th>\n      <th>ALT</th>\n      <th>QUAL</th>\n      <th>FILTER</th>\n      <th>AC</th>\n      <th>AF</th>\n      <th>AN</th>\n      <th>DP</th>\n      <th>DPB</th>\n      <th>LEN</th>\n      <th>NUMALT</th>\n      <th>ODDS</th>\n      <th>TYPE</th>\n      <th>GT</th>\n      <th>AD</th>\n      <th>len_AD</th>\n      <th>REF_DP</th>\n      <th>ALT_DP</th>\n      <th>REF_QUAL</th>\n      <th>ALT_QUAL</th>\n      <th>REF_FREQ</th>\n      <th>ALT_FREQ</th>\n    </tr>\n  </thead>\n  <tbody>\n    <tr>\n      <td>43</td>\n      <td>MTB_anc</td>\n      <td>20285</td>\n      <td>.</td>\n      <td>TGGGC</td>\n      <td>GGGGG</td>\n      <td>6.222060e-04</td>\n      <td>.</td>\n      <td>1</td>\n      <td>0.5</td>\n      <td>2.0</td>\n      <td>11.0</td>\n      <td>11</td>\n      <td>5</td>\n      <td>1</td>\n      <td>8.85072</td>\n      <td>complex</td>\n      <td>0/1</td>\n      <td>9,2</td>\n      <td>2</td>\n      <td>9</td>\n      <td>2</td>\n      <td>335.0</td>\n      <td>51.0</td>\n      <td>0.818182</td>\n      <td>0.181818</td>\n    </tr>\n    <tr>\n      <td>61</td>\n      <td>MTB_anc</td>\n      <td>32167</td>\n      <td>.</td>\n      <td>TGGC</td>\n      <td>GGGG</td>\n      <td>1.338800e-14</td>\n      <td>.</td>\n      <td>0</td>\n      <td>0</td>\n      <td>2.0</td>\n      <td>34.0</td>\n      <td>34</td>\n      <td>4</td>\n      <td>1</td>\n      <td>40.629</td>\n      <td>complex</td>\n      <td>0/0</td>\n      <td>31,2</td>\n      <td>2</td>\n      <td>31</td>\n      <td>2</td>\n      <td>940.0</td>\n      <td>37.0</td>\n      <td>0.911765</td>\n      <td>0.058824</td>\n    </tr>\n    <tr>\n      <td>111</td>\n      <td>MTB_anc</td>\n      <td>58973</td>\n      <td>.</td>\n      <td>TCCCG</td>\n      <td>GCCCC</td>\n      <td>4.106150e-08</td>\n      <td>.</td>\n      <td>0</td>\n      <td>0</td>\n      <td>2.0</td>\n      <td>20.0</td>\n      <td>20.8</td>\n      <td>5</td>\n      <td>1</td>\n      <td>18.4767</td>\n      <td>complex</td>\n      <td>0/0</td>\n      <td>15,2</td>\n      <td>2</td>\n      <td>15</td>\n      <td>2</td>\n      <td>400.0</td>\n      <td>43.0</td>\n      <td>0.750000</td>\n      <td>0.100000</td>\n    </tr>\n    <tr>\n      <td>160</td>\n      <td>MTB_anc</td>\n      <td>81389</td>\n      <td>.</td>\n      <td>GA</td>\n      <td>TT</td>\n      <td>3.840570e-07</td>\n      <td>.</td>\n      <td>0</td>\n      <td>0</td>\n      <td>2.0</td>\n      <td>15.0</td>\n      <td>15</td>\n      <td>2</td>\n      <td>1</td>\n      <td>16.241</td>\n      <td>complex</td>\n      <td>0/0</td>\n      <td>11,2</td>\n      <td>2</td>\n      <td>11</td>\n      <td>2</td>\n      <td>407.0</td>\n      <td>30.0</td>\n      <td>0.733333</td>\n      <td>0.133333</td>\n    </tr>\n    <tr>\n      <td>260</td>\n      <td>MTB_anc</td>\n      <td>145183</td>\n      <td>.</td>\n      <td>ACCA</td>\n      <td>CCCC</td>\n      <td>3.533330e-14</td>\n      <td>.</td>\n      <td>0,0</td>\n      <td>0,0</td>\n      <td>2.0</td>\n      <td>35.0</td>\n      <td>35</td>\n      <td>4</td>\n      <td>2</td>\n      <td>34.1707</td>\n      <td>complex</td>\n      <td>0/0</td>\n      <td>28,3</td>\n      <td>2</td>\n      <td>28</td>\n      <td>3</td>\n      <td>987.0</td>\n      <td>54.0</td>\n      <td>0.800000</td>\n      <td>0.085714</td>\n    </tr>\n    <tr>\n      <td>267</td>\n      <td>MTB_anc</td>\n      <td>145450</td>\n      <td>.</td>\n      <td>ATTG</td>\n      <td>GTTT</td>\n      <td>2.856370e-13</td>\n      <td>.</td>\n      <td>0,0</td>\n      <td>0,0</td>\n      <td>2.0</td>\n      <td>31.0</td>\n      <td>31</td>\n      <td>4</td>\n      <td>2</td>\n      <td>31.0102</td>\n      <td>complex</td>\n      <td>0/0</td>\n      <td>24,2</td>\n      <td>2</td>\n      <td>24</td>\n      <td>2</td>\n      <td>721.0</td>\n      <td>38.0</td>\n      <td>0.774194</td>\n      <td>0.064516</td>\n    </tr>\n    <tr>\n      <td>300</td>\n      <td>MTB_anc</td>\n      <td>174677</td>\n      <td>.</td>\n      <td>ACCAA</td>\n      <td>CCCAC</td>\n      <td>3.581410e-06</td>\n      <td>.</td>\n      <td>0,0</td>\n      <td>0,0</td>\n      <td>2.0</td>\n      <td>18.0</td>\n      <td>18</td>\n      <td>5</td>\n      <td>2</td>\n      <td>14.0446</td>\n      <td>complex</td>\n      <td>0/0</td>\n      <td>12,2</td>\n      <td>2</td>\n      <td>12</td>\n      <td>2</td>\n      <td>404.0</td>\n      <td>46.0</td>\n      <td>0.666667</td>\n      <td>0.111111</td>\n    </tr>\n    <tr>\n      <td>308</td>\n      <td>MTB_anc</td>\n      <td>175919</td>\n      <td>.</td>\n      <td>TCGGA</td>\n      <td>GCGGG</td>\n      <td>1.370800e-04</td>\n      <td>.</td>\n      <td>1,0</td>\n      <td>0.5,0</td>\n      <td>2.0</td>\n      <td>15.0</td>\n      <td>15</td>\n      <td>5</td>\n      <td>2</td>\n      <td>10.3743</td>\n      <td>complex</td>\n      <td>0/1</td>\n      <td>10,3</td>\n      <td>2</td>\n      <td>10</td>\n      <td>3</td>\n      <td>349.0</td>\n      <td>51.0</td>\n      <td>0.666667</td>\n      <td>0.200000</td>\n    </tr>\n    <tr>\n      <td>309</td>\n      <td>MTB_anc</td>\n      <td>175930</td>\n      <td>.</td>\n      <td>TTTTC</td>\n      <td>GTTTT</td>\n      <td>1.121530e-07</td>\n      <td>.</td>\n      <td>0</td>\n      <td>0</td>\n      <td>2.0</td>\n      <td>22.0</td>\n      <td>22.8</td>\n      <td>5</td>\n      <td>1</td>\n      <td>17.472</td>\n      <td>complex</td>\n      <td>0/0</td>\n      <td>18,3</td>\n      <td>2</td>\n      <td>18</td>\n      <td>3</td>\n      <td>656.0</td>\n      <td>63.0</td>\n      <td>0.818182</td>\n      <td>0.136364</td>\n    </tr>\n    <tr>\n      <td>319</td>\n      <td>MTB_anc</td>\n      <td>177896</td>\n      <td>.</td>\n      <td>GGGGC</td>\n      <td>TGGGG</td>\n      <td>1.266130e-04</td>\n      <td>.</td>\n      <td>1</td>\n      <td>0.5</td>\n      <td>2.0</td>\n      <td>12.0</td>\n      <td>12</td>\n      <td>5</td>\n      <td>1</td>\n      <td>10.4429</td>\n      <td>complex</td>\n      <td>0/1</td>\n      <td>9,2</td>\n      <td>2</td>\n      <td>9</td>\n      <td>2</td>\n      <td>329.0</td>\n      <td>46.0</td>\n      <td>0.750000</td>\n      <td>0.166667</td>\n    </tr>\n    <tr>\n      <td>346</td>\n      <td>MTB_anc</td>\n      <td>206481</td>\n      <td>.</td>\n      <td>GGGT</td>\n      <td>CGGG</td>\n      <td>3.735170e+01</td>\n      <td>.</td>\n      <td>2</td>\n      <td>1</td>\n      <td>2.0</td>\n      <td>2.0</td>\n      <td>2</td>\n      <td>4</td>\n      <td>1</td>\n      <td>7.37776</td>\n      <td>complex</td>\n      <td>1/1</td>\n      <td>0,2</td>\n      <td>2</td>\n      <td>0</td>\n      <td>2</td>\n      <td>0.0</td>\n      <td>52.0</td>\n      <td>0.000000</td>\n      <td>1.000000</td>\n    </tr>\n    <tr>\n      <td>354</td>\n      <td>MTB_anc</td>\n      <td>208320</td>\n      <td>.</td>\n      <td>GCG</td>\n      <td>GT</td>\n      <td>5.681610e+02</td>\n      <td>.</td>\n      <td>2</td>\n      <td>1</td>\n      <td>2.0</td>\n      <td>18.0</td>\n      <td>12</td>\n      <td>2</td>\n      <td>1</td>\n      <td>29.5585</td>\n      <td>complex</td>\n      <td>1/1</td>\n      <td>0,18</td>\n      <td>2</td>\n      <td>0</td>\n      <td>18</td>\n      <td>0.0</td>\n      <td>692.0</td>\n      <td>0.000000</td>\n      <td>1.000000</td>\n    </tr>\n    <tr>\n      <td>395</td>\n      <td>MTB_anc</td>\n      <td>254116</td>\n      <td>.</td>\n      <td>CTTTT</td>\n      <td>TTTTC</td>\n      <td>5.245440e-07</td>\n      <td>.</td>\n      <td>0</td>\n      <td>0</td>\n      <td>2.0</td>\n      <td>17.0</td>\n      <td>17</td>\n      <td>5</td>\n      <td>1</td>\n      <td>15.9293</td>\n      <td>complex</td>\n      <td>0/0</td>\n      <td>14,2</td>\n      <td>2</td>\n      <td>14</td>\n      <td>2</td>\n      <td>500.0</td>\n      <td>42.0</td>\n      <td>0.823529</td>\n      <td>0.117647</td>\n    </tr>\n    <tr>\n      <td>456</td>\n      <td>MTB_anc</td>\n      <td>264414</td>\n      <td>.</td>\n      <td>GCT</td>\n      <td>CCC</td>\n      <td>6.343700e-15</td>\n      <td>.</td>\n      <td>0</td>\n      <td>0</td>\n      <td>2.0</td>\n      <td>39.0</td>\n      <td>39</td>\n      <td>3</td>\n      <td>1</td>\n      <td>49.2217</td>\n      <td>complex</td>\n      <td>0/0</td>\n      <td>37,2</td>\n      <td>2</td>\n      <td>37</td>\n      <td>2</td>\n      <td>1294.0</td>\n      <td>32.0</td>\n      <td>0.948718</td>\n      <td>0.051282</td>\n    </tr>\n    <tr>\n      <td>467</td>\n      <td>MTB_anc</td>\n      <td>267552</td>\n      <td>.</td>\n      <td>CT</td>\n      <td>AG</td>\n      <td>1.315750e+00</td>\n      <td>.</td>\n      <td>1</td>\n      <td>0.5</td>\n      <td>2.0</td>\n      <td>10.0</td>\n      <td>10</td>\n      <td>2</td>\n      <td>1</td>\n      <td>1.03884</td>\n      <td>complex</td>\n      <td>0/1</td>\n      <td>8,2</td>\n      <td>2</td>\n      <td>8</td>\n      <td>2</td>\n      <td>296.0</td>\n      <td>75.0</td>\n      <td>0.800000</td>\n      <td>0.200000</td>\n    </tr>\n    <tr>\n      <td>487</td>\n      <td>MTB_anc</td>\n      <td>300187</td>\n      <td>.</td>\n      <td>ACCA</td>\n      <td>CCCC</td>\n      <td>0.000000e+00</td>\n      <td>.</td>\n      <td>0,0</td>\n      <td>0,0</td>\n      <td>2.0</td>\n      <td>77.0</td>\n      <td>77</td>\n      <td>4</td>\n      <td>2</td>\n      <td>68.1141</td>\n      <td>complex</td>\n      <td>0/0</td>\n      <td>62,6</td>\n      <td>2</td>\n      <td>62</td>\n      <td>6</td>\n      <td>2152.0</td>\n      <td>119.0</td>\n      <td>0.805195</td>\n      <td>0.077922</td>\n    </tr>\n    <tr>\n      <td>528</td>\n      <td>MTB_anc</td>\n      <td>336047</td>\n      <td>.</td>\n      <td>CGCATAG</td>\n      <td>GGCGTAC</td>\n      <td>1.176540e+01</td>\n      <td>.</td>\n      <td>1</td>\n      <td>0.5</td>\n      <td>2.0</td>\n      <td>3.0</td>\n      <td>3</td>\n      <td>7</td>\n      <td>1</td>\n      <td>1.23032</td>\n      <td>complex</td>\n      <td>0/1</td>\n      <td>1,2</td>\n      <td>2</td>\n      <td>1</td>\n      <td>2</td>\n      <td>37.0</td>\n      <td>53.0</td>\n      <td>0.333333</td>\n      <td>0.666667</td>\n    </tr>\n    <tr>\n      <td>530</td>\n      <td>MTB_anc</td>\n      <td>336081</td>\n      <td>.</td>\n      <td>AC</td>\n      <td>GT</td>\n      <td>2.452600e+00</td>\n      <td>.</td>\n      <td>1</td>\n      <td>0.5</td>\n      <td>2.0</td>\n      <td>3.0</td>\n      <td>3</td>\n      <td>2</td>\n      <td>1</td>\n      <td>0.532129</td>\n      <td>complex</td>\n      <td>0/1</td>\n      <td>1,2</td>\n      <td>2</td>\n      <td>1</td>\n      <td>2</td>\n      <td>37.0</td>\n      <td>46.0</td>\n      <td>0.333333</td>\n      <td>0.666667</td>\n    </tr>\n    <tr>\n      <td>532</td>\n      <td>MTB_anc</td>\n      <td>336535</td>\n      <td>.</td>\n      <td>TGTTGG</td>\n      <td>GGGTGT</td>\n      <td>6.538280e+00</td>\n      <td>.</td>\n      <td>1</td>\n      <td>0.5</td>\n      <td>2.0</td>\n      <td>8.0</td>\n      <td>8</td>\n      <td>6</td>\n      <td>1</td>\n      <td>1.25458</td>\n      <td>complex</td>\n      <td>0/1</td>\n      <td>6,2</td>\n      <td>2</td>\n      <td>6</td>\n      <td>2</td>\n      <td>206.0</td>\n      <td>75.0</td>\n      <td>0.750000</td>\n      <td>0.250000</td>\n    </tr>\n    <tr>\n      <td>537</td>\n      <td>MTB_anc</td>\n      <td>338960</td>\n      <td>.</td>\n      <td>TGCT</td>\n      <td>CGCC</td>\n      <td>2.245570e+01</td>\n      <td>.</td>\n      <td>1</td>\n      <td>0.5</td>\n      <td>2.0</td>\n      <td>9.0</td>\n      <td>9</td>\n      <td>4</td>\n      <td>1</td>\n      <td>5.16492</td>\n      <td>complex</td>\n      <td>0/1</td>\n      <td>6,3</td>\n      <td>2</td>\n      <td>6</td>\n      <td>3</td>\n      <td>223.0</td>\n      <td>112.0</td>\n      <td>0.666667</td>\n      <td>0.333333</td>\n    </tr>\n    <tr>\n      <td>540</td>\n      <td>MTB_anc</td>\n      <td>338997</td>\n      <td>.</td>\n      <td>GC</td>\n      <td>CT</td>\n      <td>1.855650e+02</td>\n      <td>.</td>\n      <td>1</td>\n      <td>0.5</td>\n      <td>2.0</td>\n      <td>10.0</td>\n      <td>10</td>\n      <td>2</td>\n      <td>1</td>\n      <td>1.36424</td>\n      <td>complex</td>\n      <td>0/1</td>\n      <td>2,8</td>\n      <td>2</td>\n      <td>2</td>\n      <td>8</td>\n      <td>74.0</td>\n      <td>301.0</td>\n      <td>0.200000</td>\n      <td>0.800000</td>\n    </tr>\n    <tr>\n      <td>572</td>\n      <td>MTB_anc</td>\n      <td>366260</td>\n      <td>.</td>\n      <td>TGCCC</td>\n      <td>CGCCA</td>\n      <td>7.306970e+00</td>\n      <td>.</td>\n      <td>1</td>\n      <td>0.5</td>\n      <td>2.0</td>\n      <td>8.0</td>\n      <td>8</td>\n      <td>5</td>\n      <td>1</td>\n      <td>1.47681</td>\n      <td>complex</td>\n      <td>0/1</td>\n      <td>6,2</td>\n      <td>2</td>\n      <td>6</td>\n      <td>2</td>\n      <td>213.0</td>\n      <td>76.0</td>\n      <td>0.750000</td>\n      <td>0.250000</td>\n    </tr>\n    <tr>\n      <td>573</td>\n      <td>MTB_anc</td>\n      <td>366269</td>\n      <td>.</td>\n      <td>TGGCG</td>\n      <td>GGGCA</td>\n      <td>8.940770e+00</td>\n      <td>.</td>\n      <td>1</td>\n      <td>0.5</td>\n      <td>2.0</td>\n      <td>7.0</td>\n      <td>7</td>\n      <td>5</td>\n      <td>1</td>\n      <td>1.92216</td>\n      <td>complex</td>\n      <td>0/1</td>\n      <td>5,2</td>\n      <td>2</td>\n      <td>5</td>\n      <td>2</td>\n      <td>176.0</td>\n      <td>73.0</td>\n      <td>0.714286</td>\n      <td>0.285714</td>\n    </tr>\n    <tr>\n      <td>584</td>\n      <td>MTB_anc</td>\n      <td>369531</td>\n      <td>.</td>\n      <td>GG</td>\n      <td>AT</td>\n      <td>1.212280e-02</td>\n      <td>.</td>\n      <td>1</td>\n      <td>0.5</td>\n      <td>2.0</td>\n      <td>14.0</td>\n      <td>14</td>\n      <td>2</td>\n      <td>1</td>\n      <td>5.87982</td>\n      <td>complex</td>\n      <td>0/1</td>\n      <td>12,2</td>\n      <td>2</td>\n      <td>12</td>\n      <td>2</td>\n      <td>409.0</td>\n      <td>75.0</td>\n      <td>0.857143</td>\n      <td>0.142857</td>\n    </tr>\n    <tr>\n      <td>596</td>\n      <td>MTB_anc</td>\n      <td>372027</td>\n      <td>.</td>\n      <td>TAG</td>\n      <td>GAA</td>\n      <td>6.188520e-08</td>\n      <td>.</td>\n      <td>0</td>\n      <td>0</td>\n      <td>2.0</td>\n      <td>24.0</td>\n      <td>24</td>\n      <td>3</td>\n      <td>1</td>\n      <td>18.0665</td>\n      <td>complex</td>\n      <td>0/0</td>\n      <td>21,2</td>\n      <td>2</td>\n      <td>21</td>\n      <td>2</td>\n      <td>707.0</td>\n      <td>74.0</td>\n      <td>0.875000</td>\n      <td>0.083333</td>\n    </tr>\n    <tr>\n      <td>669</td>\n      <td>MTB_anc</td>\n      <td>393916</td>\n      <td>.</td>\n      <td>AGAAC</td>\n      <td>GGAAA</td>\n      <td>0.000000e+00</td>\n      <td>.</td>\n      <td>0,0</td>\n      <td>0,0</td>\n      <td>2.0</td>\n      <td>38.0</td>\n      <td>38</td>\n      <td>5</td>\n      <td>2</td>\n      <td>44.8815</td>\n      <td>complex</td>\n      <td>0/0</td>\n      <td>33,2</td>\n      <td>2</td>\n      <td>33</td>\n      <td>2</td>\n      <td>1093.0</td>\n      <td>27.0</td>\n      <td>0.868421</td>\n      <td>0.052632</td>\n    </tr>\n    <tr>\n      <td>713</td>\n      <td>MTB_anc</td>\n      <td>422753</td>\n      <td>.</td>\n      <td>TCGGT</td>\n      <td>GCGGG</td>\n      <td>6.832280e-01</td>\n      <td>.</td>\n      <td>1</td>\n      <td>0.5</td>\n      <td>2.0</td>\n      <td>3.0</td>\n      <td>3</td>\n      <td>5</td>\n      <td>1</td>\n      <td>1.9787</td>\n      <td>complex</td>\n      <td>0/1</td>\n      <td>1,2</td>\n      <td>2</td>\n      <td>1</td>\n      <td>2</td>\n      <td>36.0</td>\n      <td>32.0</td>\n      <td>0.333333</td>\n      <td>0.666667</td>\n    </tr>\n    <tr>\n      <td>722</td>\n      <td>MTB_anc</td>\n      <td>426636</td>\n      <td>.</td>\n      <td>CA</td>\n      <td>TG</td>\n      <td>1.900330e-05</td>\n      <td>.</td>\n      <td>0,0</td>\n      <td>0,0</td>\n      <td>2.0</td>\n      <td>13.0</td>\n      <td>13</td>\n      <td>2</td>\n      <td>2</td>\n      <td>12.4997</td>\n      <td>complex</td>\n      <td>0/0</td>\n      <td>9,2</td>\n      <td>2</td>\n      <td>9</td>\n      <td>2</td>\n      <td>318.0</td>\n      <td>36.0</td>\n      <td>0.692308</td>\n      <td>0.153846</td>\n    </tr>\n    <tr>\n      <td>774</td>\n      <td>MTB_anc</td>\n      <td>467504</td>\n      <td>.</td>\n      <td>GACGC</td>\n      <td>AACGGCG</td>\n      <td>8.691770e+01</td>\n      <td>.</td>\n      <td>2</td>\n      <td>1</td>\n      <td>2.0</td>\n      <td>3.0</td>\n      <td>4.2</td>\n      <td>7</td>\n      <td>1</td>\n      <td>8.76405</td>\n      <td>complex</td>\n      <td>1/1</td>\n      <td>0,3</td>\n      <td>2</td>\n      <td>0</td>\n      <td>3</td>\n      <td>0.0</td>\n      <td>112.0</td>\n      <td>0.000000</td>\n      <td>1.000000</td>\n    </tr>\n    <tr>\n      <td>905</td>\n      <td>MTB_anc</td>\n      <td>580772</td>\n      <td>.</td>\n      <td>TGGGGGCACCACCCGCTTGCGGGGGAG</td>\n      <td>AGG</td>\n      <td>7.189270e+01</td>\n      <td>.</td>\n      <td>2</td>\n      <td>1</td>\n      <td>2.0</td>\n      <td>4.0</td>\n      <td>0.444444</td>\n      <td>3</td>\n      <td>1</td>\n      <td>10.1503</td>\n      <td>complex</td>\n      <td>1/1</td>\n      <td>0,4</td>\n      <td>2</td>\n      <td>0</td>\n      <td>4</td>\n      <td>0.0</td>\n      <td>131.0</td>\n      <td>0.000000</td>\n      <td>1.000000</td>\n    </tr>\n    <tr>\n      <td>915</td>\n      <td>MTB_anc</td>\n      <td>597488</td>\n      <td>.</td>\n      <td>ACCGG</td>\n      <td>CCCGT</td>\n      <td>2.209060e-05</td>\n      <td>.</td>\n      <td>0</td>\n      <td>0</td>\n      <td>2.0</td>\n      <td>11.0</td>\n      <td>11</td>\n      <td>5</td>\n      <td>1</td>\n      <td>12.1889</td>\n      <td>complex</td>\n      <td>0/0</td>\n      <td>8,2</td>\n      <td>2</td>\n      <td>8</td>\n      <td>2</td>\n      <td>249.0</td>\n      <td>33.0</td>\n      <td>0.727273</td>\n      <td>0.181818</td>\n    </tr>\n    <tr>\n      <td>919</td>\n      <td>MTB_anc</td>\n      <td>598108</td>\n      <td>.</td>\n      <td>GG</td>\n      <td>AA</td>\n      <td>5.737580e-12</td>\n      <td>.</td>\n      <td>0</td>\n      <td>0</td>\n      <td>2.0</td>\n      <td>27.0</td>\n      <td>27</td>\n      <td>2</td>\n      <td>1</td>\n      <td>27.3543</td>\n      <td>complex</td>\n      <td>0/0</td>\n      <td>25,2</td>\n      <td>2</td>\n      <td>25</td>\n      <td>2</td>\n      <td>883.0</td>\n      <td>53.0</td>\n      <td>0.925926</td>\n      <td>0.074074</td>\n    </tr>\n  </tbody>\n</table>\n</div>"
     },
     "metadata": {},
     "execution_count": 90
    }
   ],
   "source": [
    "dffree[dffree.TYPE == 'complex']"
   ]
  },
  {
   "cell_type": "code",
   "execution_count": 1,
   "metadata": {},
   "outputs": [],
   "source": [
    "lwfile = '/home/laura/ANALYSIS/provaryota/Variants/freebayes_raw/ALM93896B2COL31.vcf'"
   ]
  },
  {
   "cell_type": "code",
   "execution_count": 29,
   "metadata": {},
   "outputs": [],
   "source": [
    "def import_VCF40_lofreq_to_df(vcf_file, sep='\\t'):\n",
    "    \"\"\"\n",
    "    Script to read vcf 4.0\n",
    "    - now handle correct allele frequency calculated by summing REF reads + ALT reads instead from DP parameter\n",
    "    - now retrieve the largest read number for ALT allele frequency in case is a heterozygous SNP (depends on calculate_ALT_AD())\n",
    "    - now uses dataframe.iterrows() instead dataframe.index\n",
    "    - remove snps with two alternate alleles, keeping the most abundant if this is more at least 3 times more frequent\n",
    "    \"\"\"\n",
    "\n",
    "    header_lines = 0\n",
    "    if vcf_file.endswith(\".gz\"):\n",
    "        with gzip.open(vcf_file, 'rb') as f:\n",
    "            first_line = f.readline().decode().strip()\n",
    "            next_line = f.readline().decode().strip()\n",
    "            while next_line.startswith(\"##\"):\n",
    "                header_lines = header_lines + 1\n",
    "                next_line = f.readline().decode().strip()\n",
    "    else:\n",
    "        with open(vcf_file, 'r') as f:\n",
    "            first_line = f.readline().strip()\n",
    "            next_line = f.readline().strip()\n",
    "            while next_line.startswith(\"##\"):\n",
    "                header_lines = header_lines + 1\n",
    "                next_line = f.readline().strip()\n",
    "    \n",
    "    if first_line.endswith('VCFv4.0'):\n",
    "        \n",
    "        #Use first line as header\n",
    "        if vcf_file.endswith(\".gz\"):\n",
    "            df = pd.read_csv(vcf_file, compression='gzip', sep=sep, skiprows=[header_lines], header=header_lines)\n",
    "        else:\n",
    "            df = pd.read_csv(vcf_file, sep=sep, skiprows=[header_lines], header=header_lines)\n",
    "    else:\n",
    "        print(\"This vcf file is not v4.0\")\n",
    "        sys.exit(1)\n",
    "\n",
    "    for index, data_row in df.iterrows():\n",
    "            info_fields = [x.split('=')[0] for x in data_row.INFO.split(';')]\n",
    "            info_values = [x.split('=')[1] for x in data_row.INFO.split(';')]\n",
    "\n",
    "                                    \n",
    "            for ifield, ivalue in zip(info_fields,info_values):\n",
    "                df.loc[index,ifield] = ivalue\n",
    "\n",
    "    df[['REFF', 'REFR', 'ALTF', 'ALTR']] = df['DP4'].str.split(',', expand=True)\n",
    "\n",
    "    to_int = ['POS', 'REFF', 'REFR', 'ALTF', 'ALTR' ]\n",
    "\n",
    "    for column in df.columns:\n",
    "        if column in to_int:\n",
    "            df[column] = df[column].astype(int)\n",
    "\n",
    "    df = df.replace('PASS', True)\n",
    "                \n",
    "    df.rename(columns={'#CHROM':'REGION', 'DP':'TOTAL_DP', 'AF': 'ALT_FREQ', 'FILTER' : 'PASS'}, inplace=True)\n",
    "\n",
    "    df['REF_DP'] = df.REFF + df.REFR\n",
    "    df['ALT_DP'] = df.ALTF + df.ALTR\n",
    "\n",
    "    return df\n",
    "    \n",
    "    "
   ]
  },
  {
   "cell_type": "code",
   "execution_count": 30,
   "metadata": {},
   "outputs": [],
   "source": [
    "df = import_VCF42_lofreq_to_df(lwfile)"
   ]
  },
  {
   "cell_type": "code",
   "execution_count": 31,
   "metadata": {},
   "outputs": [
    {
     "output_type": "execute_result",
     "data": {
      "text/plain": [
       "    REGION    POS ID REF ALT  QUAL  PASS  \\\n",
       "0  MTB_anc  1701   .  T   C   3955  True   \n",
       "1  MTB_anc  2532   .  C   T   1866  True   \n",
       "2  MTB_anc  8040   .  G   A   2921  True   \n",
       "3  MTB_anc  9143   .  C   T   956   True   \n",
       "4  MTB_anc  13460  .  G   A   1069  True   \n",
       "\n",
       "                                    INFO TOTAL_DP  ALT_FREQ SB        DP4  \\\n",
       "0  DP=118;AF=1.000000;SB=0;DP4=0,0,54,64  118      1.000000  0  0,0,54,64   \n",
       "1  DP=55;AF=0.981818;SB=0;DP4=1,0,36,18   55       0.981818  0  1,0,36,18   \n",
       "2  DP=80;AF=1.000000;SB=0;DP4=0,0,30,50   80       1.000000  0  0,0,30,50   \n",
       "3  DP=27;AF=1.000000;SB=0;DP4=0,0,19,8    27       1.000000  0  0,0,19,8    \n",
       "4  DP=31;AF=1.000000;SB=0;DP4=0,0,11,20   31       1.000000  0  0,0,11,20   \n",
       "\n",
       "   REFF  REFR  ALTF  ALTR  REF_DP  ALT_DP  \n",
       "0  0     0     54    64    0       118     \n",
       "1  1     0     36    18    1       54      \n",
       "2  0     0     30    50    0       80      \n",
       "3  0     0     19    8     0       27      \n",
       "4  0     0     11    20    0       31      "
      ],
      "text/html": "<div>\n<style scoped>\n    .dataframe tbody tr th:only-of-type {\n        vertical-align: middle;\n    }\n\n    .dataframe tbody tr th {\n        vertical-align: top;\n    }\n\n    .dataframe thead th {\n        text-align: right;\n    }\n</style>\n<table border=\"1\" class=\"dataframe\">\n  <thead>\n    <tr style=\"text-align: right;\">\n      <th></th>\n      <th>REGION</th>\n      <th>POS</th>\n      <th>ID</th>\n      <th>REF</th>\n      <th>ALT</th>\n      <th>QUAL</th>\n      <th>PASS</th>\n      <th>INFO</th>\n      <th>TOTAL_DP</th>\n      <th>ALT_FREQ</th>\n      <th>SB</th>\n      <th>DP4</th>\n      <th>REFF</th>\n      <th>REFR</th>\n      <th>ALTF</th>\n      <th>ALTR</th>\n      <th>REF_DP</th>\n      <th>ALT_DP</th>\n    </tr>\n  </thead>\n  <tbody>\n    <tr>\n      <td>0</td>\n      <td>MTB_anc</td>\n      <td>1701</td>\n      <td>.</td>\n      <td>T</td>\n      <td>C</td>\n      <td>3955</td>\n      <td>True</td>\n      <td>DP=118;AF=1.000000;SB=0;DP4=0,0,54,64</td>\n      <td>118</td>\n      <td>1.000000</td>\n      <td>0</td>\n      <td>0,0,54,64</td>\n      <td>0</td>\n      <td>0</td>\n      <td>54</td>\n      <td>64</td>\n      <td>0</td>\n      <td>118</td>\n    </tr>\n    <tr>\n      <td>1</td>\n      <td>MTB_anc</td>\n      <td>2532</td>\n      <td>.</td>\n      <td>C</td>\n      <td>T</td>\n      <td>1866</td>\n      <td>True</td>\n      <td>DP=55;AF=0.981818;SB=0;DP4=1,0,36,18</td>\n      <td>55</td>\n      <td>0.981818</td>\n      <td>0</td>\n      <td>1,0,36,18</td>\n      <td>1</td>\n      <td>0</td>\n      <td>36</td>\n      <td>18</td>\n      <td>1</td>\n      <td>54</td>\n    </tr>\n    <tr>\n      <td>2</td>\n      <td>MTB_anc</td>\n      <td>8040</td>\n      <td>.</td>\n      <td>G</td>\n      <td>A</td>\n      <td>2921</td>\n      <td>True</td>\n      <td>DP=80;AF=1.000000;SB=0;DP4=0,0,30,50</td>\n      <td>80</td>\n      <td>1.000000</td>\n      <td>0</td>\n      <td>0,0,30,50</td>\n      <td>0</td>\n      <td>0</td>\n      <td>30</td>\n      <td>50</td>\n      <td>0</td>\n      <td>80</td>\n    </tr>\n    <tr>\n      <td>3</td>\n      <td>MTB_anc</td>\n      <td>9143</td>\n      <td>.</td>\n      <td>C</td>\n      <td>T</td>\n      <td>956</td>\n      <td>True</td>\n      <td>DP=27;AF=1.000000;SB=0;DP4=0,0,19,8</td>\n      <td>27</td>\n      <td>1.000000</td>\n      <td>0</td>\n      <td>0,0,19,8</td>\n      <td>0</td>\n      <td>0</td>\n      <td>19</td>\n      <td>8</td>\n      <td>0</td>\n      <td>27</td>\n    </tr>\n    <tr>\n      <td>4</td>\n      <td>MTB_anc</td>\n      <td>13460</td>\n      <td>.</td>\n      <td>G</td>\n      <td>A</td>\n      <td>1069</td>\n      <td>True</td>\n      <td>DP=31;AF=1.000000;SB=0;DP4=0,0,11,20</td>\n      <td>31</td>\n      <td>1.000000</td>\n      <td>0</td>\n      <td>0,0,11,20</td>\n      <td>0</td>\n      <td>0</td>\n      <td>11</td>\n      <td>20</td>\n      <td>0</td>\n      <td>31</td>\n    </tr>\n  </tbody>\n</table>\n</div>"
     },
     "metadata": {},
     "execution_count": 31
    }
   ],
   "source": [
    "df.head()"
   ]
  },
  {
   "cell_type": "code",
   "execution_count": 21,
   "metadata": {},
   "outputs": [
    {
     "output_type": "stream",
     "name": "stdout",
     "text": [
      "<class 'pandas.core.frame.DataFrame'>\nRangeIndex: 1195 entries, 0 to 1194\nData columns (total 16 columns):\nREGION    1195 non-null object\nPOS       1195 non-null int64\nID        1195 non-null object\nREF       1195 non-null object\nALT       1195 non-null object\nQUAL      1195 non-null int64\nFILTER    1195 non-null object\nINFO      1195 non-null object\nDP        1195 non-null object\nAF        1195 non-null object\nSB        1195 non-null object\nDP4       1195 non-null object\nREFF      1195 non-null int64\nREFR      1195 non-null int64\nALTF      1195 non-null int64\nALTR      1195 non-null int64\ndtypes: int64(6), object(10)\nmemory usage: 149.5+ KB\n"
     ]
    }
   ],
   "source": [
    "df.info()"
   ]
  },
  {
   "cell_type": "code",
   "execution_count": null,
   "metadata": {},
   "outputs": [],
   "source": []
  }
 ]
}