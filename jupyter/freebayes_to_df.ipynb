{
 "metadata": {
  "language_info": {
   "codemirror_mode": {
    "name": "ipython",
    "version": 3
   },
   "file_extension": ".py",
   "mimetype": "text/x-python",
   "name": "python",
   "nbconvert_exporter": "python",
   "pygments_lexer": "ipython3",
   "version": "3.7.4-final"
  },
  "orig_nbformat": 2,
  "kernelspec": {
   "name": "Python 3.7.4 64-bit ('anaconda3': virtualenv)",
   "display_name": "Python 3.7.4 64-bit ('anaconda3': virtualenv)",
   "metadata": {
    "interpreter": {
     "hash": "895b43306824f909dd8fc0fe81781e0d62fee5aa42332456ee4a77314d01a104"
    }
   }
  }
 },
 "nbformat": 4,
 "nbformat_minor": 2,
 "cells": [
  {
   "cell_type": "code",
   "execution_count": 1,
   "metadata": {},
   "outputs": [],
   "source": [
    "import os\n",
    "import pandas as pd\n",
    "import numpy as np\n",
    "import re\n",
    "\n",
    "pd.set_option('display.max_columns', None)\n",
    "pd.set_option('display.max_rows', None)\n",
    "pd.set_option('display.max_colwidth', -1)"
   ]
  },
  {
   "cell_type": "code",
   "execution_count": 2,
   "metadata": {},
   "outputs": [],
   "source": [
    "folder = \"/home/laura/ANALYSIS/VARIANT_CALLING/MTB_ANC_2020/VCF/\"\n",
    "\n"
   ]
  },
  {
   "cell_type": "code",
   "execution_count": 3,
   "metadata": {},
   "outputs": [],
   "source": [
    "def import_VCF_to_pandas(vcf_file):\n",
    "    header_lines = 0\n",
    "    with open(vcf_file) as f:\n",
    "        first_line = f.readline().strip()\n",
    "        next_line = f.readline().strip()\n",
    "        while next_line.startswith(\"##\"):\n",
    "            header_lines = header_lines + 1\n",
    "            #print(next_line)\n",
    "            next_line = f.readline()\n",
    "\n",
    "    if first_line.startswith('##'):\n",
    "        df = pd.read_csv(vcf_file, sep='\\t', skiprows=[header_lines], header=header_lines)\n",
    "        \n",
    "        df['ALT']=df['ALT'].str.upper()\n",
    "        df['REF']=df['REF'].str.upper()\n",
    "        #Check INFO\n",
    "        if 'INFO' in df.columns:\n",
    "            return df\n",
    "        else:\n",
    "            last_column = df.columns[-1]\n",
    "            df = df.rename(columns={last_column: 'INFO'})\n",
    "            return df\n",
    "    else:\n",
    "        print(\"This vcf file is not properly formatted\")\n",
    "        sys.exit(1)"
   ]
  },
  {
   "cell_type": "code",
   "execution_count": 53,
   "metadata": {},
   "outputs": [],
   "source": [
    "#import_VCF42_to_pandas(\"/home/laura/ANALYSIS/VARIANT_CALLING/MTB_ANC_2020/VCF/10082989-0-COL3.combined.hf.SNP.final.vcf\").head()"
   ]
  },
  {
   "cell_type": "code",
   "execution_count": 85,
   "metadata": {},
   "outputs": [],
   "source": [
    "def handle_polymorphism(df):\n",
    "    for index, _ in df[df.len_AD > 2].iterrows():\n",
    "        split_AD_all = df.loc[index, 'AD'].split(\",\")\n",
    "        split_AD = split_AD_all[1:]\n",
    "        split_AD = [int(x) for x in split_AD]\n",
    "        maxAD = max(split_AD)\n",
    "        max_index = split_AD.index(maxAD)#Obtain index from highest value in list of positions\n",
    "        df.loc[index, 'len_AD'] = 2 #reset number of alternatives as normal\n",
    "        df.loc[index, 'AD'] = split_AD_all[0] + ',' + str(maxAD)\n",
    "        repare_headers = ['ALT', 'LEN', 'TYPE', 'ALT_QUAL', 'ALT_DP']\n",
    "        for header in repare_headers:        \n",
    "            df.loc[index, header] = df.loc[index, header].split(\",\")[max_index]  #split bases into list and retrieve the base using ps index\n",
    "\n",
    "def import_VCF42_to_pandas(vcf_file, sep='\\t'):\n",
    "    \"\"\"\n",
    "    Script to read vcf 4.2\n",
    "    - now handle correct allele frequency calculated by summing REF reads + ALT reads instead from DP parameter\n",
    "    - now retrieve the largest read number for ALT allele frequency in case is a heterozygous SNP (depends on calculate_ALT_AD())\n",
    "    - now uses dataframe.iterrows() instead dataframe.index\n",
    "    - remove snps with two alternate alleles, keeping the most abundant if this is more at least 3 times more frequent\n",
    "    \"\"\"\n",
    "\n",
    "    header_lines = 0\n",
    "    if vcf_file.endswith(\".gz\"):\n",
    "        with gzip.open(vcf_file, 'rb') as f:\n",
    "            first_line = f.readline().decode().strip()\n",
    "            next_line = f.readline().decode().strip()\n",
    "            while next_line.startswith(\"##\"):\n",
    "                header_lines = header_lines + 1\n",
    "                next_line = f.readline().decode().strip()\n",
    "    else:\n",
    "        with open(vcf_file, 'r') as f:\n",
    "            first_line = f.readline().strip()\n",
    "            next_line = f.readline().strip()\n",
    "            while next_line.startswith(\"##\"):\n",
    "                header_lines = header_lines + 1\n",
    "                next_line = f.readline().strip()\n",
    "    \n",
    "    if first_line.endswith('VCFv4.2'):\n",
    "        \n",
    "        #Use first line as header\n",
    "        if vcf_file.endswith(\".gz\"):\n",
    "            dataframe = pd.read_csv(vcf_file, compression='gzip', sep=sep, skiprows=[header_lines], header=header_lines)\n",
    "        else:\n",
    "            dataframe = pd.read_csv(vcf_file, sep=sep, skiprows=[header_lines], header=header_lines)\n",
    "\n",
    "        sample = dataframe.columns[-1]\n",
    "        dataframe.rename(columns={sample:'sample'}, inplace=True)\n",
    "        \n",
    "        for index, data_row in dataframe.iterrows():\n",
    "            info_fields = [x.split('=')[0] for x in data_row.INFO.split(';')]\n",
    "            info_values = [x.split('=')[1] for x in data_row.INFO.split(';')]\n",
    "            \n",
    "            format_fields = data_row['FORMAT'].split(\":\")\n",
    "            format_values = data_row['sample'].split(\":\")\n",
    "                                    \n",
    "            for ifield, ivalue in zip(info_fields,info_values):\n",
    "                dataframe.loc[index,ifield] = ivalue\n",
    "                \n",
    "            for ffield, fvalue in zip(format_fields,format_values):\n",
    "                dataframe.loc[index,ffield] = fvalue\n",
    "            \n",
    "        dataframe.rename(columns={'RO':'REF_DP', 'AO':'ALT_DP', 'QR':'REF_QUAL', 'QA':'ALT_QUAL'}, inplace=True)\n",
    "        \n",
    "        dataframe['len_AD'] = dataframe['AD'].str.split(\",\").str.len()\n",
    "        \n",
    "        # this step remove false snps from cohort calling and reset index\n",
    "        #dataframe = dataframe[dataframe.ALT_AD > 0].reset_index(drop=True)\n",
    "\n",
    "        handle_polymorphism(dataframe) #Leave the most common variation        \n",
    "\n",
    "        to_float = ['QUAL', 'AN', 'DP', 'FS', 'QD', 'SOR','GQ', 'REF_QUAL', 'ALT_QUAL']\n",
    "        \n",
    "        to_int = ['POS', 'REF_DP', 'ALT_DP', 'len_AD', 'gt0', 'gt1' ]\n",
    "        \n",
    "        to_str = ['#CHROM','REF','ALT', 'FILTER']\n",
    "        \n",
    "        for column in dataframe.columns:\n",
    "            if column in to_float:\n",
    "                dataframe[column] = dataframe[column].astype(float)\n",
    "                \n",
    "        for column in dataframe.columns:\n",
    "            if column in to_int:\n",
    "                dataframe[column] = dataframe[column].astype(int)\n",
    "                \n",
    "        for column in dataframe.columns:\n",
    "            if column in to_str:\n",
    "                dataframe[column] = dataframe[column].astype(str)\n",
    "                \n",
    "        dataframe['REF_FREQ'] = dataframe['REF_DP']/dataframe['DP']\n",
    "        dataframe['ALT_FREQ'] = dataframe['ALT_DP']/dataframe['DP']\n",
    "        \n",
    "        dataframe = dataframe.sort_values(by=['POS']).reset_index(drop=True)\n",
    "        \n",
    "    else:\n",
    "        print(\"This vcf file is not v4.2\")\n",
    "        sys.exit(1)\n",
    "           \n",
    "    return dataframe[['#CHROM', 'POS', 'ID', 'REF', 'ALT', 'QUAL', 'FILTER', 'AC', 'AF', 'AN', 'DP', 'DPB', 'LEN', \n",
    "       'NUMALT', 'ODDS', 'TYPE', 'GT', 'AD', 'len_AD', 'REF_DP', 'ALT_DP', 'REF_QUAL', 'ALT_QUAL', 'REF_FREQ', 'ALT_FREQ']]"
   ]
  },
  {
   "cell_type": "code",
   "execution_count": 86,
   "metadata": {},
   "outputs": [],
   "source": [
    "dffree = import_VCF42_to_pandas(\"/home/laura/ANALYSIS/provaryota/Variants/var2.vcf\")"
   ]
  },
  {
   "cell_type": "code",
   "execution_count": 87,
   "metadata": {},
   "outputs": [
    {
     "output_type": "execute_result",
     "data": {
      "text/plain": [
       "    #CHROM   POS ID REF ALT          QUAL FILTER AC AF   AN     DP  DPB LEN  \\\n",
       "0  MTB_anc  1701  .  T   C   3.441600e+03  .      2  1  2.0  115.0  115  1    \n",
       "1  MTB_anc  1962  .  T   G   0.000000e+00  .      0  0  2.0  54.0   54   1    \n",
       "2  MTB_anc  1969  .  T   G   0.000000e+00  .      0  0  2.0  55.0   55   1    \n",
       "3  MTB_anc  1970  .  CA  CC  4.294740e-15  .      0  0  2.0  56.0   56   1    \n",
       "4  MTB_anc  1976  .  C   G   0.000000e+00  .      0  0  2.0  54.0   54   1    \n",
       "5  MTB_anc  1978  .  T   G   5.304040e-15  .      0  0  2.0  54.0   54   1    \n",
       "6  MTB_anc  2009  .  C   G   0.000000e+00  .      0  0  2.0  57.0   57   1    \n",
       "7  MTB_anc  2022  .  A   G   2.961020e-15  .      0  0  2.0  53.0   53   1    \n",
       "8  MTB_anc  2040  .  T   G   0.000000e+00  .      0  0  2.0  48.0   48   1    \n",
       "9  MTB_anc  2532  .  C   T   1.211590e+03  .      2  1  2.0  40.0   40   1    \n",
       "\n",
       "  NUMALT     ODDS TYPE   GT     AD  len_AD  REF_DP  ALT_DP  REF_QUAL  \\\n",
       "0  1      162.643  snp  1/1  0,114  2       0       114     0.0        \n",
       "1  1      64.5762  snp  0/0  51,3   2       51      3       1508.0     \n",
       "2  1      57.6     snp  0/0  50,5   2       50      5       1534.0     \n",
       "3  1      63.2546  snp  0/0  52,4   2       52      4       1628.0     \n",
       "4  1      59.9927  snp  0/0  50,4   2       50      4       1527.0     \n",
       "5  1      60.0669  snp  0/0  49,5   2       49      5       1550.0     \n",
       "6  1      68.8316  snp  0/0  53,4   2       53      4       1720.0     \n",
       "7  1      60.8961  snp  0/0  48,5   2       48      5       1595.0     \n",
       "8  1      56.4241  snp  0/0  44,4   2       44      4       1567.0     \n",
       "9  1      60.0569  snp  1/1  0,40   2       0       40      0.0        \n",
       "\n",
       "   ALT_QUAL  REF_FREQ  ALT_FREQ  \n",
       "0  3896.0    0.000000  0.991304  \n",
       "1  41.0      0.944444  0.055556  \n",
       "2  66.0      0.909091  0.090909  \n",
       "3  55.0      0.928571  0.071429  \n",
       "4  58.0      0.925926  0.074074  \n",
       "5  70.0      0.907407  0.092593  \n",
       "6  48.0      0.929825  0.070175  \n",
       "7  60.0      0.905660  0.094340  \n",
       "8  51.0      0.916667  0.083333  \n",
       "9  1416.0    0.000000  1.000000  "
      ],
      "text/html": "<div>\n<style scoped>\n    .dataframe tbody tr th:only-of-type {\n        vertical-align: middle;\n    }\n\n    .dataframe tbody tr th {\n        vertical-align: top;\n    }\n\n    .dataframe thead th {\n        text-align: right;\n    }\n</style>\n<table border=\"1\" class=\"dataframe\">\n  <thead>\n    <tr style=\"text-align: right;\">\n      <th></th>\n      <th>#CHROM</th>\n      <th>POS</th>\n      <th>ID</th>\n      <th>REF</th>\n      <th>ALT</th>\n      <th>QUAL</th>\n      <th>FILTER</th>\n      <th>AC</th>\n      <th>AF</th>\n      <th>AN</th>\n      <th>DP</th>\n      <th>DPB</th>\n      <th>LEN</th>\n      <th>NUMALT</th>\n      <th>ODDS</th>\n      <th>TYPE</th>\n      <th>GT</th>\n      <th>AD</th>\n      <th>len_AD</th>\n      <th>REF_DP</th>\n      <th>ALT_DP</th>\n      <th>REF_QUAL</th>\n      <th>ALT_QUAL</th>\n      <th>REF_FREQ</th>\n      <th>ALT_FREQ</th>\n    </tr>\n  </thead>\n  <tbody>\n    <tr>\n      <td>0</td>\n      <td>MTB_anc</td>\n      <td>1701</td>\n      <td>.</td>\n      <td>T</td>\n      <td>C</td>\n      <td>3.441600e+03</td>\n      <td>.</td>\n      <td>2</td>\n      <td>1</td>\n      <td>2.0</td>\n      <td>115.0</td>\n      <td>115</td>\n      <td>1</td>\n      <td>1</td>\n      <td>162.643</td>\n      <td>snp</td>\n      <td>1/1</td>\n      <td>0,114</td>\n      <td>2</td>\n      <td>0</td>\n      <td>114</td>\n      <td>0.0</td>\n      <td>3896.0</td>\n      <td>0.000000</td>\n      <td>0.991304</td>\n    </tr>\n    <tr>\n      <td>1</td>\n      <td>MTB_anc</td>\n      <td>1962</td>\n      <td>.</td>\n      <td>T</td>\n      <td>G</td>\n      <td>0.000000e+00</td>\n      <td>.</td>\n      <td>0</td>\n      <td>0</td>\n      <td>2.0</td>\n      <td>54.0</td>\n      <td>54</td>\n      <td>1</td>\n      <td>1</td>\n      <td>64.5762</td>\n      <td>snp</td>\n      <td>0/0</td>\n      <td>51,3</td>\n      <td>2</td>\n      <td>51</td>\n      <td>3</td>\n      <td>1508.0</td>\n      <td>41.0</td>\n      <td>0.944444</td>\n      <td>0.055556</td>\n    </tr>\n    <tr>\n      <td>2</td>\n      <td>MTB_anc</td>\n      <td>1969</td>\n      <td>.</td>\n      <td>T</td>\n      <td>G</td>\n      <td>0.000000e+00</td>\n      <td>.</td>\n      <td>0</td>\n      <td>0</td>\n      <td>2.0</td>\n      <td>55.0</td>\n      <td>55</td>\n      <td>1</td>\n      <td>1</td>\n      <td>57.6</td>\n      <td>snp</td>\n      <td>0/0</td>\n      <td>50,5</td>\n      <td>2</td>\n      <td>50</td>\n      <td>5</td>\n      <td>1534.0</td>\n      <td>66.0</td>\n      <td>0.909091</td>\n      <td>0.090909</td>\n    </tr>\n    <tr>\n      <td>3</td>\n      <td>MTB_anc</td>\n      <td>1970</td>\n      <td>.</td>\n      <td>CA</td>\n      <td>CC</td>\n      <td>4.294740e-15</td>\n      <td>.</td>\n      <td>0</td>\n      <td>0</td>\n      <td>2.0</td>\n      <td>56.0</td>\n      <td>56</td>\n      <td>1</td>\n      <td>1</td>\n      <td>63.2546</td>\n      <td>snp</td>\n      <td>0/0</td>\n      <td>52,4</td>\n      <td>2</td>\n      <td>52</td>\n      <td>4</td>\n      <td>1628.0</td>\n      <td>55.0</td>\n      <td>0.928571</td>\n      <td>0.071429</td>\n    </tr>\n    <tr>\n      <td>4</td>\n      <td>MTB_anc</td>\n      <td>1976</td>\n      <td>.</td>\n      <td>C</td>\n      <td>G</td>\n      <td>0.000000e+00</td>\n      <td>.</td>\n      <td>0</td>\n      <td>0</td>\n      <td>2.0</td>\n      <td>54.0</td>\n      <td>54</td>\n      <td>1</td>\n      <td>1</td>\n      <td>59.9927</td>\n      <td>snp</td>\n      <td>0/0</td>\n      <td>50,4</td>\n      <td>2</td>\n      <td>50</td>\n      <td>4</td>\n      <td>1527.0</td>\n      <td>58.0</td>\n      <td>0.925926</td>\n      <td>0.074074</td>\n    </tr>\n    <tr>\n      <td>5</td>\n      <td>MTB_anc</td>\n      <td>1978</td>\n      <td>.</td>\n      <td>T</td>\n      <td>G</td>\n      <td>5.304040e-15</td>\n      <td>.</td>\n      <td>0</td>\n      <td>0</td>\n      <td>2.0</td>\n      <td>54.0</td>\n      <td>54</td>\n      <td>1</td>\n      <td>1</td>\n      <td>60.0669</td>\n      <td>snp</td>\n      <td>0/0</td>\n      <td>49,5</td>\n      <td>2</td>\n      <td>49</td>\n      <td>5</td>\n      <td>1550.0</td>\n      <td>70.0</td>\n      <td>0.907407</td>\n      <td>0.092593</td>\n    </tr>\n    <tr>\n      <td>6</td>\n      <td>MTB_anc</td>\n      <td>2009</td>\n      <td>.</td>\n      <td>C</td>\n      <td>G</td>\n      <td>0.000000e+00</td>\n      <td>.</td>\n      <td>0</td>\n      <td>0</td>\n      <td>2.0</td>\n      <td>57.0</td>\n      <td>57</td>\n      <td>1</td>\n      <td>1</td>\n      <td>68.8316</td>\n      <td>snp</td>\n      <td>0/0</td>\n      <td>53,4</td>\n      <td>2</td>\n      <td>53</td>\n      <td>4</td>\n      <td>1720.0</td>\n      <td>48.0</td>\n      <td>0.929825</td>\n      <td>0.070175</td>\n    </tr>\n    <tr>\n      <td>7</td>\n      <td>MTB_anc</td>\n      <td>2022</td>\n      <td>.</td>\n      <td>A</td>\n      <td>G</td>\n      <td>2.961020e-15</td>\n      <td>.</td>\n      <td>0</td>\n      <td>0</td>\n      <td>2.0</td>\n      <td>53.0</td>\n      <td>53</td>\n      <td>1</td>\n      <td>1</td>\n      <td>60.8961</td>\n      <td>snp</td>\n      <td>0/0</td>\n      <td>48,5</td>\n      <td>2</td>\n      <td>48</td>\n      <td>5</td>\n      <td>1595.0</td>\n      <td>60.0</td>\n      <td>0.905660</td>\n      <td>0.094340</td>\n    </tr>\n    <tr>\n      <td>8</td>\n      <td>MTB_anc</td>\n      <td>2040</td>\n      <td>.</td>\n      <td>T</td>\n      <td>G</td>\n      <td>0.000000e+00</td>\n      <td>.</td>\n      <td>0</td>\n      <td>0</td>\n      <td>2.0</td>\n      <td>48.0</td>\n      <td>48</td>\n      <td>1</td>\n      <td>1</td>\n      <td>56.4241</td>\n      <td>snp</td>\n      <td>0/0</td>\n      <td>44,4</td>\n      <td>2</td>\n      <td>44</td>\n      <td>4</td>\n      <td>1567.0</td>\n      <td>51.0</td>\n      <td>0.916667</td>\n      <td>0.083333</td>\n    </tr>\n    <tr>\n      <td>9</td>\n      <td>MTB_anc</td>\n      <td>2532</td>\n      <td>.</td>\n      <td>C</td>\n      <td>T</td>\n      <td>1.211590e+03</td>\n      <td>.</td>\n      <td>2</td>\n      <td>1</td>\n      <td>2.0</td>\n      <td>40.0</td>\n      <td>40</td>\n      <td>1</td>\n      <td>1</td>\n      <td>60.0569</td>\n      <td>snp</td>\n      <td>1/1</td>\n      <td>0,40</td>\n      <td>2</td>\n      <td>0</td>\n      <td>40</td>\n      <td>0.0</td>\n      <td>1416.0</td>\n      <td>0.000000</td>\n      <td>1.000000</td>\n    </tr>\n  </tbody>\n</table>\n</div>"
     },
     "metadata": {},
     "execution_count": 87
    }
   ],
   "source": [
    "dffree.head(10)"
   ]
  },
  {
   "cell_type": "code",
   "execution_count": 65,
   "metadata": {},
   "outputs": [
    {
     "output_type": "execute_result",
     "data": {
      "text/plain": [
       "Index(['#CHROM', 'POS', 'ID', 'REF', 'ALT', 'QUAL', 'FILTER', 'INFO', 'FORMAT',\n",
       "       'sample', 'AB', 'ABP', 'AC', 'AF', 'AN', 'AO', 'CIGAR', 'DP', 'DPB',\n",
       "       'DPRA', 'EPP', 'EPPR', 'GTI', 'LEN', 'MEANALT', 'MQM', 'MQMR', 'NS',\n",
       "       'NUMALT', 'ODDS', 'PAIRED', 'PAIREDR', 'PAO', 'PQA', 'PQR', 'PRO', 'QA',\n",
       "       'QR', 'RO', 'RPL', 'RPP', 'RPPR', 'RPR', 'RUN', 'SAF', 'SAP', 'SAR',\n",
       "       'SRF', 'SRP', 'SRR', 'TYPE', 'technology.ILLUMINA', 'GT', 'AD', 'GL',\n",
       "       'len_AD', 'REF_AD', 'ALT_AD', 'gt0', 'gt1', 'dp', 'aF'],\n",
       "      dtype='object')"
      ]
     },
     "metadata": {},
     "execution_count": 65
    }
   ],
   "source": [
    "dffree.columns"
   ]
  },
  {
   "cell_type": "code",
   "execution_count": 52,
   "metadata": {},
   "outputs": [
    {
     "output_type": "execute_result",
     "data": {
      "text/plain": [
       "True"
      ]
     },
     "metadata": {},
     "execution_count": 52
    }
   ],
   "source": [
    "'NS' in dffree.columns"
   ]
  },
  {
   "cell_type": "code",
   "execution_count": 54,
   "metadata": {},
   "outputs": [
    {
     "output_type": "execute_result",
     "data": {
      "text/plain": [
       "     #CHROM    POS ID REF  ALT          QUAL FILTER  \\\n",
       "65  MTB_anc  32188  .  G   C,T  8.279890e-15  .       \n",
       "\n",
       "                                                                                                                                                                                                                                                                                                                                                                                                                   INFO  \\\n",
       "65  AB=0,0;ABP=0,0;AC=0,0;AF=0,0;AN=2;AO=2,2;CIGAR=1X,1X;DP=33;DPB=33;DPRA=0,0;EPP=3.0103,7.35324;EPPR=3.08518;GTI=0;LEN=1,1;MEANALT=2,2;MQM=60,60;MQMR=60;NS=1;NUMALT=2;ODDS=37.9997;PAIRED=1,1;PAIREDR=1;PAO=0,0;PQA=0,0;PQR=0;PRO=0;QA=30,31;QR=931;RO=29;RPL=1,0;RPP=3.0103,7.35324;RPPR=3.68421;RPR=1,2;RUN=1,1;SAF=0,0;SAP=7.35324,7.35324;SAR=2,2;SRF=11;SRP=6.67934;SRR=18;TYPE=snp,snp;technology.ILLUMINA=1,1   \n",
       "\n",
       "                     FORMAT  \\\n",
       "65  GT:DP:AD:RO:QR:AO:QA:GL   \n",
       "\n",
       "                                                                           sample  \\\n",
       "65  0/0:33:29,2,2:29:931:2,2:30,31:0,-6.63445,-81.2017,-6.53946,-79.6265,-81.1114   \n",
       "\n",
       "     AB  ABP   AC   AF   AN   AO  CIGAR    DP DPB DPRA             EPP  \\\n",
       "65  0,0  0,0  0,0  0,0  2.0  2,2  1X,1X  33.0  33  0,0  3.0103,7.35324   \n",
       "\n",
       "       EPPR GTI  LEN MEANALT    MQM MQMR NS NUMALT     ODDS PAIRED PAIREDR  \\\n",
       "65  3.08518  0   1,1  2,2     60,60  60   1  2      37.9997  1,1    1        \n",
       "\n",
       "    PAO  PQA PQR PRO     QA   QR  RO  RPL             RPP     RPPR  RPR  RUN  \\\n",
       "65  0,0  0,0  0   0   30,31  931  29  1,0  3.0103,7.35324  3.68421  1,2  1,1   \n",
       "\n",
       "    SAF              SAP  SAR SRF      SRP SRR   TYPE technology.ILLUMINA  \\\n",
       "65  0,0  7.35324,7.35324  2,2  11  6.67934  18  INDEL  1,1                  \n",
       "\n",
       "     GT      AD                                              GL  len_AD  \\\n",
       "65  0/0  29,2,2  0,-6.63445,-81.2017,-6.53946,-79.6265,-81.1114  3        \n",
       "\n",
       "    REF_AD  ALT_AD  gt0  gt1    dp        aF  \n",
       "65  29.0    2.0     0    0    31.0  0.935484  "
      ],
      "text/html": "<div>\n<style scoped>\n    .dataframe tbody tr th:only-of-type {\n        vertical-align: middle;\n    }\n\n    .dataframe tbody tr th {\n        vertical-align: top;\n    }\n\n    .dataframe thead th {\n        text-align: right;\n    }\n</style>\n<table border=\"1\" class=\"dataframe\">\n  <thead>\n    <tr style=\"text-align: right;\">\n      <th></th>\n      <th>#CHROM</th>\n      <th>POS</th>\n      <th>ID</th>\n      <th>REF</th>\n      <th>ALT</th>\n      <th>QUAL</th>\n      <th>FILTER</th>\n      <th>INFO</th>\n      <th>FORMAT</th>\n      <th>sample</th>\n      <th>AB</th>\n      <th>ABP</th>\n      <th>AC</th>\n      <th>AF</th>\n      <th>AN</th>\n      <th>AO</th>\n      <th>CIGAR</th>\n      <th>DP</th>\n      <th>DPB</th>\n      <th>DPRA</th>\n      <th>EPP</th>\n      <th>EPPR</th>\n      <th>GTI</th>\n      <th>LEN</th>\n      <th>MEANALT</th>\n      <th>MQM</th>\n      <th>MQMR</th>\n      <th>NS</th>\n      <th>NUMALT</th>\n      <th>ODDS</th>\n      <th>PAIRED</th>\n      <th>PAIREDR</th>\n      <th>PAO</th>\n      <th>PQA</th>\n      <th>PQR</th>\n      <th>PRO</th>\n      <th>QA</th>\n      <th>QR</th>\n      <th>RO</th>\n      <th>RPL</th>\n      <th>RPP</th>\n      <th>RPPR</th>\n      <th>RPR</th>\n      <th>RUN</th>\n      <th>SAF</th>\n      <th>SAP</th>\n      <th>SAR</th>\n      <th>SRF</th>\n      <th>SRP</th>\n      <th>SRR</th>\n      <th>TYPE</th>\n      <th>technology.ILLUMINA</th>\n      <th>GT</th>\n      <th>AD</th>\n      <th>GL</th>\n      <th>len_AD</th>\n      <th>REF_AD</th>\n      <th>ALT_AD</th>\n      <th>gt0</th>\n      <th>gt1</th>\n      <th>dp</th>\n      <th>aF</th>\n    </tr>\n  </thead>\n  <tbody>\n    <tr>\n      <td>65</td>\n      <td>MTB_anc</td>\n      <td>32188</td>\n      <td>.</td>\n      <td>G</td>\n      <td>C,T</td>\n      <td>8.279890e-15</td>\n      <td>.</td>\n      <td>AB=0,0;ABP=0,0;AC=0,0;AF=0,0;AN=2;AO=2,2;CIGAR=1X,1X;DP=33;DPB=33;DPRA=0,0;EPP=3.0103,7.35324;EPPR=3.08518;GTI=0;LEN=1,1;MEANALT=2,2;MQM=60,60;MQMR=60;NS=1;NUMALT=2;ODDS=37.9997;PAIRED=1,1;PAIREDR=1;PAO=0,0;PQA=0,0;PQR=0;PRO=0;QA=30,31;QR=931;RO=29;RPL=1,0;RPP=3.0103,7.35324;RPPR=3.68421;RPR=1,2;RUN=1,1;SAF=0,0;SAP=7.35324,7.35324;SAR=2,2;SRF=11;SRP=6.67934;SRR=18;TYPE=snp,snp;technology.ILLUMINA=1,1</td>\n      <td>GT:DP:AD:RO:QR:AO:QA:GL</td>\n      <td>0/0:33:29,2,2:29:931:2,2:30,31:0,-6.63445,-81.2017,-6.53946,-79.6265,-81.1114</td>\n      <td>0,0</td>\n      <td>0,0</td>\n      <td>0,0</td>\n      <td>0,0</td>\n      <td>2.0</td>\n      <td>2,2</td>\n      <td>1X,1X</td>\n      <td>33.0</td>\n      <td>33</td>\n      <td>0,0</td>\n      <td>3.0103,7.35324</td>\n      <td>3.08518</td>\n      <td>0</td>\n      <td>1,1</td>\n      <td>2,2</td>\n      <td>60,60</td>\n      <td>60</td>\n      <td>1</td>\n      <td>2</td>\n      <td>37.9997</td>\n      <td>1,1</td>\n      <td>1</td>\n      <td>0,0</td>\n      <td>0,0</td>\n      <td>0</td>\n      <td>0</td>\n      <td>30,31</td>\n      <td>931</td>\n      <td>29</td>\n      <td>1,0</td>\n      <td>3.0103,7.35324</td>\n      <td>3.68421</td>\n      <td>1,2</td>\n      <td>1,1</td>\n      <td>0,0</td>\n      <td>7.35324,7.35324</td>\n      <td>2,2</td>\n      <td>11</td>\n      <td>6.67934</td>\n      <td>18</td>\n      <td>INDEL</td>\n      <td>1,1</td>\n      <td>0/0</td>\n      <td>29,2,2</td>\n      <td>0,-6.63445,-81.2017,-6.53946,-79.6265,-81.1114</td>\n      <td>3</td>\n      <td>29.0</td>\n      <td>2.0</td>\n      <td>0</td>\n      <td>0</td>\n      <td>31.0</td>\n      <td>0.935484</td>\n    </tr>\n  </tbody>\n</table>\n</div>"
     },
     "metadata": {},
     "execution_count": 54
    }
   ],
   "source": [
    "dffree[dffree.POS == 32188]"
   ]
  },
  {
   "cell_type": "code",
   "execution_count": 61,
   "metadata": {},
   "outputs": [
    {
     "output_type": "execute_result",
     "data": {
      "text/plain": [
       "snp        890\n",
       "complex    32 \n",
       "del        9  \n",
       "ins        7  \n",
       "Name: TYPE, dtype: int64"
      ]
     },
     "metadata": {},
     "execution_count": 61
    }
   ],
   "source": [
    "dffree.TYPE.value_counts()"
   ]
  },
  {
   "cell_type": "code",
   "execution_count": 78,
   "metadata": {},
   "outputs": [
    {
     "output_type": "execute_result",
     "data": {
      "text/plain": [
       "      #CHROM     POS ID                          REF      ALT          QUAL  \\\n",
       "43   MTB_anc  20285   .  TGGGC                        GGGGG    6.222060e-04   \n",
       "61   MTB_anc  32167   .  TGGC                         GGGG     1.338800e-14   \n",
       "111  MTB_anc  58973   .  TCCCG                        GCCCC    4.106150e-08   \n",
       "160  MTB_anc  81389   .  GA                           TT       3.840570e-07   \n",
       "260  MTB_anc  145183  .  ACCA                         CCCC     3.533330e-14   \n",
       "267  MTB_anc  145450  .  ATTG                         GTTT     2.856370e-13   \n",
       "300  MTB_anc  174677  .  ACCAA                        CCCAC    3.581410e-06   \n",
       "308  MTB_anc  175919  .  TCGGA                        GCGGG    1.370800e-04   \n",
       "309  MTB_anc  175930  .  TTTTC                        GTTTT    1.121530e-07   \n",
       "319  MTB_anc  177896  .  GGGGC                        TGGGG    1.266130e-04   \n",
       "346  MTB_anc  206481  .  GGGT                         CGGG     3.735170e+01   \n",
       "354  MTB_anc  208320  .  GCG                          GT       5.681610e+02   \n",
       "395  MTB_anc  254116  .  CTTTT                        TTTTC    5.245440e-07   \n",
       "456  MTB_anc  264414  .  GCT                          CCC      6.343700e-15   \n",
       "467  MTB_anc  267552  .  CT                           AG       1.315750e+00   \n",
       "487  MTB_anc  300187  .  ACCA                         CCCC     0.000000e+00   \n",
       "528  MTB_anc  336047  .  CGCATAG                      GGCGTAC  1.176540e+01   \n",
       "530  MTB_anc  336081  .  AC                           GT       2.452600e+00   \n",
       "532  MTB_anc  336535  .  TGTTGG                       GGGTGT   6.538280e+00   \n",
       "537  MTB_anc  338960  .  TGCT                         CGCC     2.245570e+01   \n",
       "540  MTB_anc  338997  .  GC                           CT       1.855650e+02   \n",
       "572  MTB_anc  366260  .  TGCCC                        CGCCA    7.306970e+00   \n",
       "573  MTB_anc  366269  .  TGGCG                        GGGCA    8.940770e+00   \n",
       "584  MTB_anc  369531  .  GG                           AT       1.212280e-02   \n",
       "596  MTB_anc  372027  .  TAG                          GAA      6.188520e-08   \n",
       "669  MTB_anc  393916  .  AGAAC                        GGAAA    0.000000e+00   \n",
       "713  MTB_anc  422753  .  TCGGT                        GCGGG    6.832280e-01   \n",
       "722  MTB_anc  426636  .  CA                           TG       1.900330e-05   \n",
       "774  MTB_anc  467504  .  GACGC                        AACGGCG  8.691770e+01   \n",
       "905  MTB_anc  580772  .  TGGGGGCACCACCCGCTTGCGGGGGAG  AGG      7.189270e+01   \n",
       "915  MTB_anc  597488  .  ACCGG                        CCCGT    2.209060e-05   \n",
       "919  MTB_anc  598108  .  GG                           AA       5.737580e-12   \n",
       "\n",
       "    FILTER   AC     AF AN  DP       DPB LEN NUMALT      ODDS     TYPE   GT  \\\n",
       "43   .      1    0.5    2  11  11        5   1      8.85072   complex  0/1   \n",
       "61   .      0    0      2  34  34        4   1      40.629    complex  0/0   \n",
       "111  .      0    0      2  20  20.8      5   1      18.4767   complex  0/0   \n",
       "160  .      0    0      2  15  15        2   1      16.241    complex  0/0   \n",
       "260  .      0,0  0,0    2  35  35        4   2      34.1707   complex  0/0   \n",
       "267  .      0,0  0,0    2  31  31        4   2      31.0102   complex  0/0   \n",
       "300  .      0,0  0,0    2  18  18        5   2      14.0446   complex  0/0   \n",
       "308  .      1,0  0.5,0  2  15  15        5   2      10.3743   complex  0/1   \n",
       "309  .      0    0      2  22  22.8      5   1      17.472    complex  0/0   \n",
       "319  .      1    0.5    2  12  12        5   1      10.4429   complex  0/1   \n",
       "346  .      2    1      2  2   2         4   1      7.37776   complex  1/1   \n",
       "354  .      2    1      2  18  12        2   1      29.5585   complex  1/1   \n",
       "395  .      0    0      2  17  17        5   1      15.9293   complex  0/0   \n",
       "456  .      0    0      2  39  39        3   1      49.2217   complex  0/0   \n",
       "467  .      1    0.5    2  10  10        2   1      1.03884   complex  0/1   \n",
       "487  .      0,0  0,0    2  77  77        4   2      68.1141   complex  0/0   \n",
       "528  .      1    0.5    2  3   3         7   1      1.23032   complex  0/1   \n",
       "530  .      1    0.5    2  3   3         2   1      0.532129  complex  0/1   \n",
       "532  .      1    0.5    2  8   8         6   1      1.25458   complex  0/1   \n",
       "537  .      1    0.5    2  9   9         4   1      5.16492   complex  0/1   \n",
       "540  .      1    0.5    2  10  10        2   1      1.36424   complex  0/1   \n",
       "572  .      1    0.5    2  8   8         5   1      1.47681   complex  0/1   \n",
       "573  .      1    0.5    2  7   7         5   1      1.92216   complex  0/1   \n",
       "584  .      1    0.5    2  14  14        2   1      5.87982   complex  0/1   \n",
       "596  .      0    0      2  24  24        3   1      18.0665   complex  0/0   \n",
       "669  .      0,0  0,0    2  38  38        5   2      44.8815   complex  0/0   \n",
       "713  .      1    0.5    2  3   3         5   1      1.9787    complex  0/1   \n",
       "722  .      0,0  0,0    2  13  13        2   2      12.4997   complex  0/0   \n",
       "774  .      2    1      2  3   4.2       7   1      8.76405   complex  1/1   \n",
       "905  .      2    1      2  4   0.444444  3   1      10.1503   complex  1/1   \n",
       "915  .      0    0      2  11  11        5   1      12.1889   complex  0/0   \n",
       "919  .      0    0      2  27  27        2   1      27.3543   complex  0/0   \n",
       "\n",
       "       AD  len_AD REF_DP ALT_DP REF_QUAL ALT_QUAL  \n",
       "43   9,2   2       9      2      335      51       \n",
       "61   31,2  2       31     2      940      37       \n",
       "111  15,2  2       15     2      400      43       \n",
       "160  11,2  2       11     2      407      30       \n",
       "260  28,3  2       28     3      987      54       \n",
       "267  24,2  2       24     2      721      38       \n",
       "300  12,2  2       12     2      404      46       \n",
       "308  10,3  2       10     3      349      51       \n",
       "309  18,3  2       18     3      656      63       \n",
       "319  9,2   2       9      2      329      46       \n",
       "346  0,2   2       0      2      0        52       \n",
       "354  0,18  2       0      18     0        692      \n",
       "395  14,2  2       14     2      500      42       \n",
       "456  37,2  2       37     2      1294     32       \n",
       "467  8,2   2       8      2      296      75       \n",
       "487  62,6  2       62     6      2152     119      \n",
       "528  1,2   2       1      2      37       53       \n",
       "530  1,2   2       1      2      37       46       \n",
       "532  6,2   2       6      2      206      75       \n",
       "537  6,3   2       6      3      223      112      \n",
       "540  2,8   2       2      8      74       301      \n",
       "572  6,2   2       6      2      213      76       \n",
       "573  5,2   2       5      2      176      73       \n",
       "584  12,2  2       12     2      409      75       \n",
       "596  21,2  2       21     2      707      74       \n",
       "669  33,2  2       33     2      1093     27       \n",
       "713  1,2   2       1      2      36       32       \n",
       "722  9,2   2       9      2      318      36       \n",
       "774  0,3   2       0      3      0        112      \n",
       "905  0,4   2       0      4      0        131      \n",
       "915  8,2   2       8      2      249      33       \n",
       "919  25,2  2       25     2      883      53       "
      ],
      "text/html": "<div>\n<style scoped>\n    .dataframe tbody tr th:only-of-type {\n        vertical-align: middle;\n    }\n\n    .dataframe tbody tr th {\n        vertical-align: top;\n    }\n\n    .dataframe thead th {\n        text-align: right;\n    }\n</style>\n<table border=\"1\" class=\"dataframe\">\n  <thead>\n    <tr style=\"text-align: right;\">\n      <th></th>\n      <th>#CHROM</th>\n      <th>POS</th>\n      <th>ID</th>\n      <th>REF</th>\n      <th>ALT</th>\n      <th>QUAL</th>\n      <th>FILTER</th>\n      <th>AC</th>\n      <th>AF</th>\n      <th>AN</th>\n      <th>DP</th>\n      <th>DPB</th>\n      <th>LEN</th>\n      <th>NUMALT</th>\n      <th>ODDS</th>\n      <th>TYPE</th>\n      <th>GT</th>\n      <th>AD</th>\n      <th>len_AD</th>\n      <th>REF_DP</th>\n      <th>ALT_DP</th>\n      <th>REF_QUAL</th>\n      <th>ALT_QUAL</th>\n    </tr>\n  </thead>\n  <tbody>\n    <tr>\n      <td>43</td>\n      <td>MTB_anc</td>\n      <td>20285</td>\n      <td>.</td>\n      <td>TGGGC</td>\n      <td>GGGGG</td>\n      <td>6.222060e-04</td>\n      <td>.</td>\n      <td>1</td>\n      <td>0.5</td>\n      <td>2</td>\n      <td>11</td>\n      <td>11</td>\n      <td>5</td>\n      <td>1</td>\n      <td>8.85072</td>\n      <td>complex</td>\n      <td>0/1</td>\n      <td>9,2</td>\n      <td>2</td>\n      <td>9</td>\n      <td>2</td>\n      <td>335</td>\n      <td>51</td>\n    </tr>\n    <tr>\n      <td>61</td>\n      <td>MTB_anc</td>\n      <td>32167</td>\n      <td>.</td>\n      <td>TGGC</td>\n      <td>GGGG</td>\n      <td>1.338800e-14</td>\n      <td>.</td>\n      <td>0</td>\n      <td>0</td>\n      <td>2</td>\n      <td>34</td>\n      <td>34</td>\n      <td>4</td>\n      <td>1</td>\n      <td>40.629</td>\n      <td>complex</td>\n      <td>0/0</td>\n      <td>31,2</td>\n      <td>2</td>\n      <td>31</td>\n      <td>2</td>\n      <td>940</td>\n      <td>37</td>\n    </tr>\n    <tr>\n      <td>111</td>\n      <td>MTB_anc</td>\n      <td>58973</td>\n      <td>.</td>\n      <td>TCCCG</td>\n      <td>GCCCC</td>\n      <td>4.106150e-08</td>\n      <td>.</td>\n      <td>0</td>\n      <td>0</td>\n      <td>2</td>\n      <td>20</td>\n      <td>20.8</td>\n      <td>5</td>\n      <td>1</td>\n      <td>18.4767</td>\n      <td>complex</td>\n      <td>0/0</td>\n      <td>15,2</td>\n      <td>2</td>\n      <td>15</td>\n      <td>2</td>\n      <td>400</td>\n      <td>43</td>\n    </tr>\n    <tr>\n      <td>160</td>\n      <td>MTB_anc</td>\n      <td>81389</td>\n      <td>.</td>\n      <td>GA</td>\n      <td>TT</td>\n      <td>3.840570e-07</td>\n      <td>.</td>\n      <td>0</td>\n      <td>0</td>\n      <td>2</td>\n      <td>15</td>\n      <td>15</td>\n      <td>2</td>\n      <td>1</td>\n      <td>16.241</td>\n      <td>complex</td>\n      <td>0/0</td>\n      <td>11,2</td>\n      <td>2</td>\n      <td>11</td>\n      <td>2</td>\n      <td>407</td>\n      <td>30</td>\n    </tr>\n    <tr>\n      <td>260</td>\n      <td>MTB_anc</td>\n      <td>145183</td>\n      <td>.</td>\n      <td>ACCA</td>\n      <td>CCCC</td>\n      <td>3.533330e-14</td>\n      <td>.</td>\n      <td>0,0</td>\n      <td>0,0</td>\n      <td>2</td>\n      <td>35</td>\n      <td>35</td>\n      <td>4</td>\n      <td>2</td>\n      <td>34.1707</td>\n      <td>complex</td>\n      <td>0/0</td>\n      <td>28,3</td>\n      <td>2</td>\n      <td>28</td>\n      <td>3</td>\n      <td>987</td>\n      <td>54</td>\n    </tr>\n    <tr>\n      <td>267</td>\n      <td>MTB_anc</td>\n      <td>145450</td>\n      <td>.</td>\n      <td>ATTG</td>\n      <td>GTTT</td>\n      <td>2.856370e-13</td>\n      <td>.</td>\n      <td>0,0</td>\n      <td>0,0</td>\n      <td>2</td>\n      <td>31</td>\n      <td>31</td>\n      <td>4</td>\n      <td>2</td>\n      <td>31.0102</td>\n      <td>complex</td>\n      <td>0/0</td>\n      <td>24,2</td>\n      <td>2</td>\n      <td>24</td>\n      <td>2</td>\n      <td>721</td>\n      <td>38</td>\n    </tr>\n    <tr>\n      <td>300</td>\n      <td>MTB_anc</td>\n      <td>174677</td>\n      <td>.</td>\n      <td>ACCAA</td>\n      <td>CCCAC</td>\n      <td>3.581410e-06</td>\n      <td>.</td>\n      <td>0,0</td>\n      <td>0,0</td>\n      <td>2</td>\n      <td>18</td>\n      <td>18</td>\n      <td>5</td>\n      <td>2</td>\n      <td>14.0446</td>\n      <td>complex</td>\n      <td>0/0</td>\n      <td>12,2</td>\n      <td>2</td>\n      <td>12</td>\n      <td>2</td>\n      <td>404</td>\n      <td>46</td>\n    </tr>\n    <tr>\n      <td>308</td>\n      <td>MTB_anc</td>\n      <td>175919</td>\n      <td>.</td>\n      <td>TCGGA</td>\n      <td>GCGGG</td>\n      <td>1.370800e-04</td>\n      <td>.</td>\n      <td>1,0</td>\n      <td>0.5,0</td>\n      <td>2</td>\n      <td>15</td>\n      <td>15</td>\n      <td>5</td>\n      <td>2</td>\n      <td>10.3743</td>\n      <td>complex</td>\n      <td>0/1</td>\n      <td>10,3</td>\n      <td>2</td>\n      <td>10</td>\n      <td>3</td>\n      <td>349</td>\n      <td>51</td>\n    </tr>\n    <tr>\n      <td>309</td>\n      <td>MTB_anc</td>\n      <td>175930</td>\n      <td>.</td>\n      <td>TTTTC</td>\n      <td>GTTTT</td>\n      <td>1.121530e-07</td>\n      <td>.</td>\n      <td>0</td>\n      <td>0</td>\n      <td>2</td>\n      <td>22</td>\n      <td>22.8</td>\n      <td>5</td>\n      <td>1</td>\n      <td>17.472</td>\n      <td>complex</td>\n      <td>0/0</td>\n      <td>18,3</td>\n      <td>2</td>\n      <td>18</td>\n      <td>3</td>\n      <td>656</td>\n      <td>63</td>\n    </tr>\n    <tr>\n      <td>319</td>\n      <td>MTB_anc</td>\n      <td>177896</td>\n      <td>.</td>\n      <td>GGGGC</td>\n      <td>TGGGG</td>\n      <td>1.266130e-04</td>\n      <td>.</td>\n      <td>1</td>\n      <td>0.5</td>\n      <td>2</td>\n      <td>12</td>\n      <td>12</td>\n      <td>5</td>\n      <td>1</td>\n      <td>10.4429</td>\n      <td>complex</td>\n      <td>0/1</td>\n      <td>9,2</td>\n      <td>2</td>\n      <td>9</td>\n      <td>2</td>\n      <td>329</td>\n      <td>46</td>\n    </tr>\n    <tr>\n      <td>346</td>\n      <td>MTB_anc</td>\n      <td>206481</td>\n      <td>.</td>\n      <td>GGGT</td>\n      <td>CGGG</td>\n      <td>3.735170e+01</td>\n      <td>.</td>\n      <td>2</td>\n      <td>1</td>\n      <td>2</td>\n      <td>2</td>\n      <td>2</td>\n      <td>4</td>\n      <td>1</td>\n      <td>7.37776</td>\n      <td>complex</td>\n      <td>1/1</td>\n      <td>0,2</td>\n      <td>2</td>\n      <td>0</td>\n      <td>2</td>\n      <td>0</td>\n      <td>52</td>\n    </tr>\n    <tr>\n      <td>354</td>\n      <td>MTB_anc</td>\n      <td>208320</td>\n      <td>.</td>\n      <td>GCG</td>\n      <td>GT</td>\n      <td>5.681610e+02</td>\n      <td>.</td>\n      <td>2</td>\n      <td>1</td>\n      <td>2</td>\n      <td>18</td>\n      <td>12</td>\n      <td>2</td>\n      <td>1</td>\n      <td>29.5585</td>\n      <td>complex</td>\n      <td>1/1</td>\n      <td>0,18</td>\n      <td>2</td>\n      <td>0</td>\n      <td>18</td>\n      <td>0</td>\n      <td>692</td>\n    </tr>\n    <tr>\n      <td>395</td>\n      <td>MTB_anc</td>\n      <td>254116</td>\n      <td>.</td>\n      <td>CTTTT</td>\n      <td>TTTTC</td>\n      <td>5.245440e-07</td>\n      <td>.</td>\n      <td>0</td>\n      <td>0</td>\n      <td>2</td>\n      <td>17</td>\n      <td>17</td>\n      <td>5</td>\n      <td>1</td>\n      <td>15.9293</td>\n      <td>complex</td>\n      <td>0/0</td>\n      <td>14,2</td>\n      <td>2</td>\n      <td>14</td>\n      <td>2</td>\n      <td>500</td>\n      <td>42</td>\n    </tr>\n    <tr>\n      <td>456</td>\n      <td>MTB_anc</td>\n      <td>264414</td>\n      <td>.</td>\n      <td>GCT</td>\n      <td>CCC</td>\n      <td>6.343700e-15</td>\n      <td>.</td>\n      <td>0</td>\n      <td>0</td>\n      <td>2</td>\n      <td>39</td>\n      <td>39</td>\n      <td>3</td>\n      <td>1</td>\n      <td>49.2217</td>\n      <td>complex</td>\n      <td>0/0</td>\n      <td>37,2</td>\n      <td>2</td>\n      <td>37</td>\n      <td>2</td>\n      <td>1294</td>\n      <td>32</td>\n    </tr>\n    <tr>\n      <td>467</td>\n      <td>MTB_anc</td>\n      <td>267552</td>\n      <td>.</td>\n      <td>CT</td>\n      <td>AG</td>\n      <td>1.315750e+00</td>\n      <td>.</td>\n      <td>1</td>\n      <td>0.5</td>\n      <td>2</td>\n      <td>10</td>\n      <td>10</td>\n      <td>2</td>\n      <td>1</td>\n      <td>1.03884</td>\n      <td>complex</td>\n      <td>0/1</td>\n      <td>8,2</td>\n      <td>2</td>\n      <td>8</td>\n      <td>2</td>\n      <td>296</td>\n      <td>75</td>\n    </tr>\n    <tr>\n      <td>487</td>\n      <td>MTB_anc</td>\n      <td>300187</td>\n      <td>.</td>\n      <td>ACCA</td>\n      <td>CCCC</td>\n      <td>0.000000e+00</td>\n      <td>.</td>\n      <td>0,0</td>\n      <td>0,0</td>\n      <td>2</td>\n      <td>77</td>\n      <td>77</td>\n      <td>4</td>\n      <td>2</td>\n      <td>68.1141</td>\n      <td>complex</td>\n      <td>0/0</td>\n      <td>62,6</td>\n      <td>2</td>\n      <td>62</td>\n      <td>6</td>\n      <td>2152</td>\n      <td>119</td>\n    </tr>\n    <tr>\n      <td>528</td>\n      <td>MTB_anc</td>\n      <td>336047</td>\n      <td>.</td>\n      <td>CGCATAG</td>\n      <td>GGCGTAC</td>\n      <td>1.176540e+01</td>\n      <td>.</td>\n      <td>1</td>\n      <td>0.5</td>\n      <td>2</td>\n      <td>3</td>\n      <td>3</td>\n      <td>7</td>\n      <td>1</td>\n      <td>1.23032</td>\n      <td>complex</td>\n      <td>0/1</td>\n      <td>1,2</td>\n      <td>2</td>\n      <td>1</td>\n      <td>2</td>\n      <td>37</td>\n      <td>53</td>\n    </tr>\n    <tr>\n      <td>530</td>\n      <td>MTB_anc</td>\n      <td>336081</td>\n      <td>.</td>\n      <td>AC</td>\n      <td>GT</td>\n      <td>2.452600e+00</td>\n      <td>.</td>\n      <td>1</td>\n      <td>0.5</td>\n      <td>2</td>\n      <td>3</td>\n      <td>3</td>\n      <td>2</td>\n      <td>1</td>\n      <td>0.532129</td>\n      <td>complex</td>\n      <td>0/1</td>\n      <td>1,2</td>\n      <td>2</td>\n      <td>1</td>\n      <td>2</td>\n      <td>37</td>\n      <td>46</td>\n    </tr>\n    <tr>\n      <td>532</td>\n      <td>MTB_anc</td>\n      <td>336535</td>\n      <td>.</td>\n      <td>TGTTGG</td>\n      <td>GGGTGT</td>\n      <td>6.538280e+00</td>\n      <td>.</td>\n      <td>1</td>\n      <td>0.5</td>\n      <td>2</td>\n      <td>8</td>\n      <td>8</td>\n      <td>6</td>\n      <td>1</td>\n      <td>1.25458</td>\n      <td>complex</td>\n      <td>0/1</td>\n      <td>6,2</td>\n      <td>2</td>\n      <td>6</td>\n      <td>2</td>\n      <td>206</td>\n      <td>75</td>\n    </tr>\n    <tr>\n      <td>537</td>\n      <td>MTB_anc</td>\n      <td>338960</td>\n      <td>.</td>\n      <td>TGCT</td>\n      <td>CGCC</td>\n      <td>2.245570e+01</td>\n      <td>.</td>\n      <td>1</td>\n      <td>0.5</td>\n      <td>2</td>\n      <td>9</td>\n      <td>9</td>\n      <td>4</td>\n      <td>1</td>\n      <td>5.16492</td>\n      <td>complex</td>\n      <td>0/1</td>\n      <td>6,3</td>\n      <td>2</td>\n      <td>6</td>\n      <td>3</td>\n      <td>223</td>\n      <td>112</td>\n    </tr>\n    <tr>\n      <td>540</td>\n      <td>MTB_anc</td>\n      <td>338997</td>\n      <td>.</td>\n      <td>GC</td>\n      <td>CT</td>\n      <td>1.855650e+02</td>\n      <td>.</td>\n      <td>1</td>\n      <td>0.5</td>\n      <td>2</td>\n      <td>10</td>\n      <td>10</td>\n      <td>2</td>\n      <td>1</td>\n      <td>1.36424</td>\n      <td>complex</td>\n      <td>0/1</td>\n      <td>2,8</td>\n      <td>2</td>\n      <td>2</td>\n      <td>8</td>\n      <td>74</td>\n      <td>301</td>\n    </tr>\n    <tr>\n      <td>572</td>\n      <td>MTB_anc</td>\n      <td>366260</td>\n      <td>.</td>\n      <td>TGCCC</td>\n      <td>CGCCA</td>\n      <td>7.306970e+00</td>\n      <td>.</td>\n      <td>1</td>\n      <td>0.5</td>\n      <td>2</td>\n      <td>8</td>\n      <td>8</td>\n      <td>5</td>\n      <td>1</td>\n      <td>1.47681</td>\n      <td>complex</td>\n      <td>0/1</td>\n      <td>6,2</td>\n      <td>2</td>\n      <td>6</td>\n      <td>2</td>\n      <td>213</td>\n      <td>76</td>\n    </tr>\n    <tr>\n      <td>573</td>\n      <td>MTB_anc</td>\n      <td>366269</td>\n      <td>.</td>\n      <td>TGGCG</td>\n      <td>GGGCA</td>\n      <td>8.940770e+00</td>\n      <td>.</td>\n      <td>1</td>\n      <td>0.5</td>\n      <td>2</td>\n      <td>7</td>\n      <td>7</td>\n      <td>5</td>\n      <td>1</td>\n      <td>1.92216</td>\n      <td>complex</td>\n      <td>0/1</td>\n      <td>5,2</td>\n      <td>2</td>\n      <td>5</td>\n      <td>2</td>\n      <td>176</td>\n      <td>73</td>\n    </tr>\n    <tr>\n      <td>584</td>\n      <td>MTB_anc</td>\n      <td>369531</td>\n      <td>.</td>\n      <td>GG</td>\n      <td>AT</td>\n      <td>1.212280e-02</td>\n      <td>.</td>\n      <td>1</td>\n      <td>0.5</td>\n      <td>2</td>\n      <td>14</td>\n      <td>14</td>\n      <td>2</td>\n      <td>1</td>\n      <td>5.87982</td>\n      <td>complex</td>\n      <td>0/1</td>\n      <td>12,2</td>\n      <td>2</td>\n      <td>12</td>\n      <td>2</td>\n      <td>409</td>\n      <td>75</td>\n    </tr>\n    <tr>\n      <td>596</td>\n      <td>MTB_anc</td>\n      <td>372027</td>\n      <td>.</td>\n      <td>TAG</td>\n      <td>GAA</td>\n      <td>6.188520e-08</td>\n      <td>.</td>\n      <td>0</td>\n      <td>0</td>\n      <td>2</td>\n      <td>24</td>\n      <td>24</td>\n      <td>3</td>\n      <td>1</td>\n      <td>18.0665</td>\n      <td>complex</td>\n      <td>0/0</td>\n      <td>21,2</td>\n      <td>2</td>\n      <td>21</td>\n      <td>2</td>\n      <td>707</td>\n      <td>74</td>\n    </tr>\n    <tr>\n      <td>669</td>\n      <td>MTB_anc</td>\n      <td>393916</td>\n      <td>.</td>\n      <td>AGAAC</td>\n      <td>GGAAA</td>\n      <td>0.000000e+00</td>\n      <td>.</td>\n      <td>0,0</td>\n      <td>0,0</td>\n      <td>2</td>\n      <td>38</td>\n      <td>38</td>\n      <td>5</td>\n      <td>2</td>\n      <td>44.8815</td>\n      <td>complex</td>\n      <td>0/0</td>\n      <td>33,2</td>\n      <td>2</td>\n      <td>33</td>\n      <td>2</td>\n      <td>1093</td>\n      <td>27</td>\n    </tr>\n    <tr>\n      <td>713</td>\n      <td>MTB_anc</td>\n      <td>422753</td>\n      <td>.</td>\n      <td>TCGGT</td>\n      <td>GCGGG</td>\n      <td>6.832280e-01</td>\n      <td>.</td>\n      <td>1</td>\n      <td>0.5</td>\n      <td>2</td>\n      <td>3</td>\n      <td>3</td>\n      <td>5</td>\n      <td>1</td>\n      <td>1.9787</td>\n      <td>complex</td>\n      <td>0/1</td>\n      <td>1,2</td>\n      <td>2</td>\n      <td>1</td>\n      <td>2</td>\n      <td>36</td>\n      <td>32</td>\n    </tr>\n    <tr>\n      <td>722</td>\n      <td>MTB_anc</td>\n      <td>426636</td>\n      <td>.</td>\n      <td>CA</td>\n      <td>TG</td>\n      <td>1.900330e-05</td>\n      <td>.</td>\n      <td>0,0</td>\n      <td>0,0</td>\n      <td>2</td>\n      <td>13</td>\n      <td>13</td>\n      <td>2</td>\n      <td>2</td>\n      <td>12.4997</td>\n      <td>complex</td>\n      <td>0/0</td>\n      <td>9,2</td>\n      <td>2</td>\n      <td>9</td>\n      <td>2</td>\n      <td>318</td>\n      <td>36</td>\n    </tr>\n    <tr>\n      <td>774</td>\n      <td>MTB_anc</td>\n      <td>467504</td>\n      <td>.</td>\n      <td>GACGC</td>\n      <td>AACGGCG</td>\n      <td>8.691770e+01</td>\n      <td>.</td>\n      <td>2</td>\n      <td>1</td>\n      <td>2</td>\n      <td>3</td>\n      <td>4.2</td>\n      <td>7</td>\n      <td>1</td>\n      <td>8.76405</td>\n      <td>complex</td>\n      <td>1/1</td>\n      <td>0,3</td>\n      <td>2</td>\n      <td>0</td>\n      <td>3</td>\n      <td>0</td>\n      <td>112</td>\n    </tr>\n    <tr>\n      <td>905</td>\n      <td>MTB_anc</td>\n      <td>580772</td>\n      <td>.</td>\n      <td>TGGGGGCACCACCCGCTTGCGGGGGAG</td>\n      <td>AGG</td>\n      <td>7.189270e+01</td>\n      <td>.</td>\n      <td>2</td>\n      <td>1</td>\n      <td>2</td>\n      <td>4</td>\n      <td>0.444444</td>\n      <td>3</td>\n      <td>1</td>\n      <td>10.1503</td>\n      <td>complex</td>\n      <td>1/1</td>\n      <td>0,4</td>\n      <td>2</td>\n      <td>0</td>\n      <td>4</td>\n      <td>0</td>\n      <td>131</td>\n    </tr>\n    <tr>\n      <td>915</td>\n      <td>MTB_anc</td>\n      <td>597488</td>\n      <td>.</td>\n      <td>ACCGG</td>\n      <td>CCCGT</td>\n      <td>2.209060e-05</td>\n      <td>.</td>\n      <td>0</td>\n      <td>0</td>\n      <td>2</td>\n      <td>11</td>\n      <td>11</td>\n      <td>5</td>\n      <td>1</td>\n      <td>12.1889</td>\n      <td>complex</td>\n      <td>0/0</td>\n      <td>8,2</td>\n      <td>2</td>\n      <td>8</td>\n      <td>2</td>\n      <td>249</td>\n      <td>33</td>\n    </tr>\n    <tr>\n      <td>919</td>\n      <td>MTB_anc</td>\n      <td>598108</td>\n      <td>.</td>\n      <td>GG</td>\n      <td>AA</td>\n      <td>5.737580e-12</td>\n      <td>.</td>\n      <td>0</td>\n      <td>0</td>\n      <td>2</td>\n      <td>27</td>\n      <td>27</td>\n      <td>2</td>\n      <td>1</td>\n      <td>27.3543</td>\n      <td>complex</td>\n      <td>0/0</td>\n      <td>25,2</td>\n      <td>2</td>\n      <td>25</td>\n      <td>2</td>\n      <td>883</td>\n      <td>53</td>\n    </tr>\n  </tbody>\n</table>\n</div>"
     },
     "metadata": {},
     "execution_count": 78
    }
   ],
   "source": [
    "dffree[dffree.TYPE == 'complex']"
   ]
  },
  {
   "cell_type": "code",
   "execution_count": 82,
   "metadata": {},
   "outputs": [
    {
     "output_type": "stream",
     "name": "stdout",
     "text": [
      "<class 'pandas.core.frame.DataFrame'>\nRangeIndex: 938 entries, 0 to 937\nData columns (total 23 columns):\n#CHROM      938 non-null object\nPOS         938 non-null int64\nID          938 non-null object\nREF         938 non-null object\nALT         938 non-null object\nQUAL        938 non-null float64\nFILTER      938 non-null object\nAC          938 non-null object\nAF          938 non-null object\nAN          938 non-null float64\nDP          938 non-null float64\nDPB         938 non-null object\nLEN         938 non-null object\nNUMALT      938 non-null object\nODDS        938 non-null object\nTYPE        938 non-null object\nGT          938 non-null object\nAD          938 non-null object\nlen_AD      938 non-null int64\nREF_DP      938 non-null int64\nALT_DP      938 non-null int64\nREF_QUAL    938 non-null float64\nALT_QUAL    938 non-null float64\ndtypes: float64(5), int64(4), object(14)\nmemory usage: 168.7+ KB\n"
     ]
    }
   ],
   "source": [
    "dffree.info()"
   ]
  }
 ]
}