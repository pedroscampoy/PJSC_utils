{
 "metadata": {
  "language_info": {
   "codemirror_mode": {
    "name": "ipython",
    "version": 3
   },
   "file_extension": ".py",
   "mimetype": "text/x-python",
   "name": "python",
   "nbconvert_exporter": "python",
   "pygments_lexer": "ipython3",
   "version": "3.7.4-final"
  },
  "orig_nbformat": 2,
  "kernelspec": {
   "name": "python3",
   "display_name": "Python 3"
  }
 },
 "nbformat": 4,
 "nbformat_minor": 2,
 "cells": [
  {
   "cell_type": "code",
   "execution_count": 1,
   "metadata": {},
   "outputs": [],
   "source": [
    "import os\n",
    "import pandas as pd\n",
    "import numpy as np\n",
    "import re\n",
    "\n",
    "pd.set_option('display.max_columns', None)\n",
    "pd.set_option('display.max_rows', None)\n",
    "pd.set_option('display.max_colwidth', -1)"
   ]
  },
  {
   "cell_type": "code",
   "execution_count": 5,
   "metadata": {},
   "outputs": [],
   "source": [
    "snpeff = '/home/laura/ANALYSIS/VARIANT_CALLING/COVID/Annotation/snpeff/20250863.annot'\n",
    "annot = '/home/laura/DATABASES/Anotacion/COVID/resistance_covid.aa'"
   ]
  },
  {
   "cell_type": "code",
   "execution_count": 3,
   "metadata": {},
   "outputs": [],
   "source": [
    "df = pd.read_csv(snpeff, sep=\"\\t\")"
   ]
  },
  {
   "cell_type": "code",
   "execution_count": 105,
   "metadata": {},
   "outputs": [
    {
     "output_type": "execute_result",
     "data": {
      "text/plain": [
       "        #CHROM   POS                  ID REF ALT  QUAL FILTER Allele  \\\n",
       "0  NC_045512.2  241   .                   C   T   72.0  PASS   T       \n",
       "1  NC_045512.2  625   cds-YP_009724389.1  G   T   66.0  PASS   T       \n",
       "2  NC_045512.2  625   cds-YP_009725295.1  G   T   66.0  PASS   T       \n",
       "3  NC_045512.2  1059  cds-YP_009724389.1  C   T   69.0  PASS   T       \n",
       "4  NC_045512.2  1059  cds-YP_009725295.1  C   T   69.0  PASS   T       \n",
       "\n",
       "              Annotation Annotation_Impact Gene_Name     Gene_ID Feature_Type  \\\n",
       "0  upstream_gene_variant  MODIFIER          ORF1ab    GU280_gp01  transcript    \n",
       "1  missense_variant       MODERATE          ORF1ab    GU280_gp01  transcript    \n",
       "2  missense_variant       MODERATE          ORF1ab    GU280_gp01  transcript    \n",
       "3  missense_variant       MODERATE          ORF1ab    GU280_gp01  transcript    \n",
       "4  missense_variant       MODERATE          ORF1ab    GU280_gp01  transcript    \n",
       "\n",
       "   Feature_ID Transcript_BioType Rank  HGVS.c     HGVS.p  \\\n",
       "0  GU280_gp01  protein_coding     NaN  -25C>T  NaN         \n",
       "1  GU280_gp01  protein_coding     1/2  360G>T  Lys120Asn   \n",
       "2  GU280_gp01  protein_coding     1/2  360G>T  Lys120Asn   \n",
       "3  GU280_gp01  protein_coding     1/2  794C>T  Thr265Ile   \n",
       "4  GU280_gp01  protein_coding     1/2  794C>T  Thr265Ile   \n",
       "\n",
       "  cDNA.pos / cDNA.length CDS.pos / CDS.length AA.pos / AA.length  \\\n",
       "0  NaN                    NaN                  NaN                 \n",
       "1  360/21291              360/21291            120/7096            \n",
       "2  360/21291              360/21291            120/7096            \n",
       "3  794/21291              794/21291            265/7096            \n",
       "4  794/21291              794/21291            265/7096            \n",
       "\n",
       "   ERRORS / WARNINGS / INFO Codon_change AA_change   DP  \\\n",
       "0  25.0                      .-.          .-.       615   \n",
       "1 NaN                        AAG-AAT      K-N       311   \n",
       "2 NaN                        AAG-AAT      K-N       311   \n",
       "3 NaN                        ACC-ATC      T-I       382   \n",
       "4 NaN                        ACC-ATC      T-I       382   \n",
       "\n",
       "                                                                                                                                                                                                                                                                                                                                                                                                                                                                                                                                                                                                                                                                                                                                                                                                                                                                                                                                                                                                                                                                                                                                                                                                                                                                                      INFO  \\\n",
       "0  CODON=.-.;AA=.-.;DP=615;ANN=T|upstream_gene_variant|MODIFIER|ORF1ab|GU280_gp01|transcript|GU280_gp01|protein_coding||c.-25C>T|||||25|,T|upstream_gene_variant|MODIFIER|ORF1ab|GU280_gp01|transcript|YP_009725297.1|protein_coding||c.-25C>T|||||25|WARNING_TRANSCRIPT_NO_STOP_CODON,T|upstream_gene_variant|MODIFIER|ORF1ab|GU280_gp01|transcript|YP_009742608.1|protein_coding||c.-25C>T|||||25|WARNING_TRANSCRIPT_NO_STOP_CODON,T|upstream_gene_variant|MODIFIER|ORF1ab|GU280_gp01|transcript|GU280_gp01.2|protein_coding||c.-25C>T|||||25|,T|upstream_gene_variant|MODIFIER|ORF1ab|GU280_gp01|transcript|YP_009725298.1|protein_coding||c.-565C>T|||||565|WARNING_TRANSCRIPT_NO_START_CODON,T|upstream_gene_variant|MODIFIER|ORF1ab|GU280_gp01|transcript|YP_009742609.1|protein_coding||c.-565C>T|||||565|WARNING_TRANSCRIPT_NO_START_CODON,T|upstream_gene_variant|MODIFIER|ORF1ab|GU280_gp01|transcript|YP_009725299.1|protein_coding||c.-2479C>T|||||2479|WARNING_TRANSCRIPT_NO_START_CODON,T|upstream_gene_variant|MODIFIER|ORF1ab|GU280_gp01|transcript|YP_009742610.1|protein_coding||c.-2479C>T|||||2479|WARNING_TRANSCRIPT_NO_START_CODON,T|intergenic_region|MODIFIER|CHR_START-ORF1ab|CHR_START-GU280_gp01|intergenic_region|CHR_START-GU280_gp01|||n.241C>T||||||          \n",
       "1  CODON=AAG-AAT;AA=K-N;DP=311;ANN=T|missense_variant|MODERATE|ORF1ab|GU280_gp01|transcript|GU280_gp01|protein_coding|1/2|c.360G>T|p.Lys120Asn|360/21291|360/21291|120/7096||,T|missense_variant|MODERATE|ORF1ab|GU280_gp01|transcript|YP_009725297.1|protein_coding|1/1|c.360G>T|p.Lys120Asn|360/540|360/540|120/179||WARNING_TRANSCRIPT_NO_STOP_CODON,T|missense_variant|MODERATE|ORF1ab|GU280_gp01|transcript|YP_009742608.1|protein_coding|1/1|c.360G>T|p.Lys120Asn|360/540|360/540|120/179||WARNING_TRANSCRIPT_NO_STOP_CODON,T|missense_variant|MODERATE|ORF1ab|GU280_gp01|transcript|GU280_gp01.2|protein_coding|1/1|c.360G>T|p.Lys120Asn|360/13218|360/13218|120/4405||,T|upstream_gene_variant|MODIFIER|ORF1ab|GU280_gp01|transcript|YP_009725298.1|protein_coding||c.-181G>T|||||181|WARNING_TRANSCRIPT_NO_START_CODON,T|upstream_gene_variant|MODIFIER|ORF1ab|GU280_gp01|transcript|YP_009742609.1|protein_coding||c.-181G>T|||||181|WARNING_TRANSCRIPT_NO_START_CODON,T|upstream_gene_variant|MODIFIER|ORF1ab|GU280_gp01|transcript|YP_009725299.1|protein_coding||c.-2095G>T|||||2095|WARNING_TRANSCRIPT_NO_START_CODON,T|upstream_gene_variant|MODIFIER|ORF1ab|GU280_gp01|transcript|YP_009742610.1|protein_coding||c.-2095G>T|||||2095|WARNING_TRANSCRIPT_NO_START_CODON       \n",
       "2  CODON=AAG-AAT;AA=K-N;DP=311;ANN=T|missense_variant|MODERATE|ORF1ab|GU280_gp01|transcript|GU280_gp01|protein_coding|1/2|c.360G>T|p.Lys120Asn|360/21291|360/21291|120/7096||,T|missense_variant|MODERATE|ORF1ab|GU280_gp01|transcript|YP_009725297.1|protein_coding|1/1|c.360G>T|p.Lys120Asn|360/540|360/540|120/179||WARNING_TRANSCRIPT_NO_STOP_CODON,T|missense_variant|MODERATE|ORF1ab|GU280_gp01|transcript|YP_009742608.1|protein_coding|1/1|c.360G>T|p.Lys120Asn|360/540|360/540|120/179||WARNING_TRANSCRIPT_NO_STOP_CODON,T|missense_variant|MODERATE|ORF1ab|GU280_gp01|transcript|GU280_gp01.2|protein_coding|1/1|c.360G>T|p.Lys120Asn|360/13218|360/13218|120/4405||,T|upstream_gene_variant|MODIFIER|ORF1ab|GU280_gp01|transcript|YP_009725298.1|protein_coding||c.-181G>T|||||181|WARNING_TRANSCRIPT_NO_START_CODON,T|upstream_gene_variant|MODIFIER|ORF1ab|GU280_gp01|transcript|YP_009742609.1|protein_coding||c.-181G>T|||||181|WARNING_TRANSCRIPT_NO_START_CODON,T|upstream_gene_variant|MODIFIER|ORF1ab|GU280_gp01|transcript|YP_009725299.1|protein_coding||c.-2095G>T|||||2095|WARNING_TRANSCRIPT_NO_START_CODON,T|upstream_gene_variant|MODIFIER|ORF1ab|GU280_gp01|transcript|YP_009742610.1|protein_coding||c.-2095G>T|||||2095|WARNING_TRANSCRIPT_NO_START_CODON       \n",
       "3  CODON=ACC-ATC;AA=T-I;DP=382;ANN=T|missense_variant|MODERATE|ORF1ab|GU280_gp01|transcript|GU280_gp01|protein_coding|1/2|c.794C>T|p.Thr265Ile|794/21291|794/21291|265/7096||,T|missense_variant|MODERATE|ORF1ab|GU280_gp01|transcript|GU280_gp01.2|protein_coding|1/1|c.794C>T|p.Thr265Ile|794/13218|794/13218|265/4405||,T|missense_variant|MODERATE|ORF1ab|GU280_gp01|transcript|YP_009725298.1|protein_coding|1/1|c.254C>T|p.Thr85Ile|254/1914|254/1914|85/637||WARNING_TRANSCRIPT_NO_START_CODON,T|missense_variant|MODERATE|ORF1ab|GU280_gp01|transcript|YP_009742609.1|protein_coding|1/1|c.254C>T|p.Thr85Ile|254/1914|254/1914|85/637||WARNING_TRANSCRIPT_NO_START_CODON,T|upstream_gene_variant|MODIFIER|ORF1ab|GU280_gp01|transcript|YP_009725299.1|protein_coding||c.-1661C>T|||||1661|WARNING_TRANSCRIPT_NO_START_CODON,T|upstream_gene_variant|MODIFIER|ORF1ab|GU280_gp01|transcript|YP_009742610.1|protein_coding||c.-1661C>T|||||1661|WARNING_TRANSCRIPT_NO_START_CODON,T|downstream_gene_variant|MODIFIER|ORF1ab|GU280_gp01|transcript|YP_009725297.1|protein_coding||c.*254C>T|||||254|WARNING_TRANSCRIPT_NO_STOP_CODON,T|downstream_gene_variant|MODIFIER|ORF1ab|GU280_gp01|transcript|YP_009742608.1|protein_coding||c.*254C>T|||||254|WARNING_TRANSCRIPT_NO_STOP_CODON   \n",
       "4  CODON=ACC-ATC;AA=T-I;DP=382;ANN=T|missense_variant|MODERATE|ORF1ab|GU280_gp01|transcript|GU280_gp01|protein_coding|1/2|c.794C>T|p.Thr265Ile|794/21291|794/21291|265/7096||,T|missense_variant|MODERATE|ORF1ab|GU280_gp01|transcript|GU280_gp01.2|protein_coding|1/1|c.794C>T|p.Thr265Ile|794/13218|794/13218|265/4405||,T|missense_variant|MODERATE|ORF1ab|GU280_gp01|transcript|YP_009725298.1|protein_coding|1/1|c.254C>T|p.Thr85Ile|254/1914|254/1914|85/637||WARNING_TRANSCRIPT_NO_START_CODON,T|missense_variant|MODERATE|ORF1ab|GU280_gp01|transcript|YP_009742609.1|protein_coding|1/1|c.254C>T|p.Thr85Ile|254/1914|254/1914|85/637||WARNING_TRANSCRIPT_NO_START_CODON,T|upstream_gene_variant|MODIFIER|ORF1ab|GU280_gp01|transcript|YP_009725299.1|protein_coding||c.-1661C>T|||||1661|WARNING_TRANSCRIPT_NO_START_CODON,T|upstream_gene_variant|MODIFIER|ORF1ab|GU280_gp01|transcript|YP_009742610.1|protein_coding||c.-1661C>T|||||1661|WARNING_TRANSCRIPT_NO_START_CODON,T|downstream_gene_variant|MODIFIER|ORF1ab|GU280_gp01|transcript|YP_009725297.1|protein_coding||c.*254C>T|||||254|WARNING_TRANSCRIPT_NO_STOP_CODON,T|downstream_gene_variant|MODIFIER|ORF1ab|GU280_gp01|transcript|YP_009742608.1|protein_coding||c.*254C>T|||||254|WARNING_TRANSCRIPT_NO_STOP_CODON   \n",
       "\n",
       "  TEST  \n",
       "0       \n",
       "1       \n",
       "2       \n",
       "3       \n",
       "4       "
      ],
      "text/html": "<div>\n<style scoped>\n    .dataframe tbody tr th:only-of-type {\n        vertical-align: middle;\n    }\n\n    .dataframe tbody tr th {\n        vertical-align: top;\n    }\n\n    .dataframe thead th {\n        text-align: right;\n    }\n</style>\n<table border=\"1\" class=\"dataframe\">\n  <thead>\n    <tr style=\"text-align: right;\">\n      <th></th>\n      <th>#CHROM</th>\n      <th>POS</th>\n      <th>ID</th>\n      <th>REF</th>\n      <th>ALT</th>\n      <th>QUAL</th>\n      <th>FILTER</th>\n      <th>Allele</th>\n      <th>Annotation</th>\n      <th>Annotation_Impact</th>\n      <th>Gene_Name</th>\n      <th>Gene_ID</th>\n      <th>Feature_Type</th>\n      <th>Feature_ID</th>\n      <th>Transcript_BioType</th>\n      <th>Rank</th>\n      <th>HGVS.c</th>\n      <th>HGVS.p</th>\n      <th>cDNA.pos / cDNA.length</th>\n      <th>CDS.pos / CDS.length</th>\n      <th>AA.pos / AA.length</th>\n      <th>ERRORS / WARNINGS / INFO</th>\n      <th>Codon_change</th>\n      <th>AA_change</th>\n      <th>DP</th>\n      <th>INFO</th>\n      <th>TEST</th>\n    </tr>\n  </thead>\n  <tbody>\n    <tr>\n      <td>0</td>\n      <td>NC_045512.2</td>\n      <td>241</td>\n      <td>.</td>\n      <td>C</td>\n      <td>T</td>\n      <td>72.0</td>\n      <td>PASS</td>\n      <td>T</td>\n      <td>upstream_gene_variant</td>\n      <td>MODIFIER</td>\n      <td>ORF1ab</td>\n      <td>GU280_gp01</td>\n      <td>transcript</td>\n      <td>GU280_gp01</td>\n      <td>protein_coding</td>\n      <td>NaN</td>\n      <td>-25C&gt;T</td>\n      <td>NaN</td>\n      <td>NaN</td>\n      <td>NaN</td>\n      <td>NaN</td>\n      <td>25.0</td>\n      <td>.-.</td>\n      <td>.-.</td>\n      <td>615</td>\n      <td>CODON=.-.;AA=.-.;DP=615;ANN=T|upstream_gene_variant|MODIFIER|ORF1ab|GU280_gp01|transcript|GU280_gp01|protein_coding||c.-25C&gt;T|||||25|,T|upstream_gene_variant|MODIFIER|ORF1ab|GU280_gp01|transcript|YP_009725297.1|protein_coding||c.-25C&gt;T|||||25|WARNING_TRANSCRIPT_NO_STOP_CODON,T|upstream_gene_variant|MODIFIER|ORF1ab|GU280_gp01|transcript|YP_009742608.1|protein_coding||c.-25C&gt;T|||||25|WARNING_TRANSCRIPT_NO_STOP_CODON,T|upstream_gene_variant|MODIFIER|ORF1ab|GU280_gp01|transcript|GU280_gp01.2|protein_coding||c.-25C&gt;T|||||25|,T|upstream_gene_variant|MODIFIER|ORF1ab|GU280_gp01|transcript|YP_009725298.1|protein_coding||c.-565C&gt;T|||||565|WARNING_TRANSCRIPT_NO_START_CODON,T|upstream_gene_variant|MODIFIER|ORF1ab|GU280_gp01|transcript|YP_009742609.1|protein_coding||c.-565C&gt;T|||||565|WARNING_TRANSCRIPT_NO_START_CODON,T|upstream_gene_variant|MODIFIER|ORF1ab|GU280_gp01|transcript|YP_009725299.1|protein_coding||c.-2479C&gt;T|||||2479|WARNING_TRANSCRIPT_NO_START_CODON,T|upstream_gene_variant|MODIFIER|ORF1ab|GU280_gp01|transcript|YP_009742610.1|protein_coding||c.-2479C&gt;T|||||2479|WARNING_TRANSCRIPT_NO_START_CODON,T|intergenic_region|MODIFIER|CHR_START-ORF1ab|CHR_START-GU280_gp01|intergenic_region|CHR_START-GU280_gp01|||n.241C&gt;T||||||</td>\n      <td></td>\n    </tr>\n    <tr>\n      <td>1</td>\n      <td>NC_045512.2</td>\n      <td>625</td>\n      <td>cds-YP_009724389.1</td>\n      <td>G</td>\n      <td>T</td>\n      <td>66.0</td>\n      <td>PASS</td>\n      <td>T</td>\n      <td>missense_variant</td>\n      <td>MODERATE</td>\n      <td>ORF1ab</td>\n      <td>GU280_gp01</td>\n      <td>transcript</td>\n      <td>GU280_gp01</td>\n      <td>protein_coding</td>\n      <td>1/2</td>\n      <td>360G&gt;T</td>\n      <td>Lys120Asn</td>\n      <td>360/21291</td>\n      <td>360/21291</td>\n      <td>120/7096</td>\n      <td>NaN</td>\n      <td>AAG-AAT</td>\n      <td>K-N</td>\n      <td>311</td>\n      <td>CODON=AAG-AAT;AA=K-N;DP=311;ANN=T|missense_variant|MODERATE|ORF1ab|GU280_gp01|transcript|GU280_gp01|protein_coding|1/2|c.360G&gt;T|p.Lys120Asn|360/21291|360/21291|120/7096||,T|missense_variant|MODERATE|ORF1ab|GU280_gp01|transcript|YP_009725297.1|protein_coding|1/1|c.360G&gt;T|p.Lys120Asn|360/540|360/540|120/179||WARNING_TRANSCRIPT_NO_STOP_CODON,T|missense_variant|MODERATE|ORF1ab|GU280_gp01|transcript|YP_009742608.1|protein_coding|1/1|c.360G&gt;T|p.Lys120Asn|360/540|360/540|120/179||WARNING_TRANSCRIPT_NO_STOP_CODON,T|missense_variant|MODERATE|ORF1ab|GU280_gp01|transcript|GU280_gp01.2|protein_coding|1/1|c.360G&gt;T|p.Lys120Asn|360/13218|360/13218|120/4405||,T|upstream_gene_variant|MODIFIER|ORF1ab|GU280_gp01|transcript|YP_009725298.1|protein_coding||c.-181G&gt;T|||||181|WARNING_TRANSCRIPT_NO_START_CODON,T|upstream_gene_variant|MODIFIER|ORF1ab|GU280_gp01|transcript|YP_009742609.1|protein_coding||c.-181G&gt;T|||||181|WARNING_TRANSCRIPT_NO_START_CODON,T|upstream_gene_variant|MODIFIER|ORF1ab|GU280_gp01|transcript|YP_009725299.1|protein_coding||c.-2095G&gt;T|||||2095|WARNING_TRANSCRIPT_NO_START_CODON,T|upstream_gene_variant|MODIFIER|ORF1ab|GU280_gp01|transcript|YP_009742610.1|protein_coding||c.-2095G&gt;T|||||2095|WARNING_TRANSCRIPT_NO_START_CODON</td>\n      <td></td>\n    </tr>\n    <tr>\n      <td>2</td>\n      <td>NC_045512.2</td>\n      <td>625</td>\n      <td>cds-YP_009725295.1</td>\n      <td>G</td>\n      <td>T</td>\n      <td>66.0</td>\n      <td>PASS</td>\n      <td>T</td>\n      <td>missense_variant</td>\n      <td>MODERATE</td>\n      <td>ORF1ab</td>\n      <td>GU280_gp01</td>\n      <td>transcript</td>\n      <td>GU280_gp01</td>\n      <td>protein_coding</td>\n      <td>1/2</td>\n      <td>360G&gt;T</td>\n      <td>Lys120Asn</td>\n      <td>360/21291</td>\n      <td>360/21291</td>\n      <td>120/7096</td>\n      <td>NaN</td>\n      <td>AAG-AAT</td>\n      <td>K-N</td>\n      <td>311</td>\n      <td>CODON=AAG-AAT;AA=K-N;DP=311;ANN=T|missense_variant|MODERATE|ORF1ab|GU280_gp01|transcript|GU280_gp01|protein_coding|1/2|c.360G&gt;T|p.Lys120Asn|360/21291|360/21291|120/7096||,T|missense_variant|MODERATE|ORF1ab|GU280_gp01|transcript|YP_009725297.1|protein_coding|1/1|c.360G&gt;T|p.Lys120Asn|360/540|360/540|120/179||WARNING_TRANSCRIPT_NO_STOP_CODON,T|missense_variant|MODERATE|ORF1ab|GU280_gp01|transcript|YP_009742608.1|protein_coding|1/1|c.360G&gt;T|p.Lys120Asn|360/540|360/540|120/179||WARNING_TRANSCRIPT_NO_STOP_CODON,T|missense_variant|MODERATE|ORF1ab|GU280_gp01|transcript|GU280_gp01.2|protein_coding|1/1|c.360G&gt;T|p.Lys120Asn|360/13218|360/13218|120/4405||,T|upstream_gene_variant|MODIFIER|ORF1ab|GU280_gp01|transcript|YP_009725298.1|protein_coding||c.-181G&gt;T|||||181|WARNING_TRANSCRIPT_NO_START_CODON,T|upstream_gene_variant|MODIFIER|ORF1ab|GU280_gp01|transcript|YP_009742609.1|protein_coding||c.-181G&gt;T|||||181|WARNING_TRANSCRIPT_NO_START_CODON,T|upstream_gene_variant|MODIFIER|ORF1ab|GU280_gp01|transcript|YP_009725299.1|protein_coding||c.-2095G&gt;T|||||2095|WARNING_TRANSCRIPT_NO_START_CODON,T|upstream_gene_variant|MODIFIER|ORF1ab|GU280_gp01|transcript|YP_009742610.1|protein_coding||c.-2095G&gt;T|||||2095|WARNING_TRANSCRIPT_NO_START_CODON</td>\n      <td></td>\n    </tr>\n    <tr>\n      <td>3</td>\n      <td>NC_045512.2</td>\n      <td>1059</td>\n      <td>cds-YP_009724389.1</td>\n      <td>C</td>\n      <td>T</td>\n      <td>69.0</td>\n      <td>PASS</td>\n      <td>T</td>\n      <td>missense_variant</td>\n      <td>MODERATE</td>\n      <td>ORF1ab</td>\n      <td>GU280_gp01</td>\n      <td>transcript</td>\n      <td>GU280_gp01</td>\n      <td>protein_coding</td>\n      <td>1/2</td>\n      <td>794C&gt;T</td>\n      <td>Thr265Ile</td>\n      <td>794/21291</td>\n      <td>794/21291</td>\n      <td>265/7096</td>\n      <td>NaN</td>\n      <td>ACC-ATC</td>\n      <td>T-I</td>\n      <td>382</td>\n      <td>CODON=ACC-ATC;AA=T-I;DP=382;ANN=T|missense_variant|MODERATE|ORF1ab|GU280_gp01|transcript|GU280_gp01|protein_coding|1/2|c.794C&gt;T|p.Thr265Ile|794/21291|794/21291|265/7096||,T|missense_variant|MODERATE|ORF1ab|GU280_gp01|transcript|GU280_gp01.2|protein_coding|1/1|c.794C&gt;T|p.Thr265Ile|794/13218|794/13218|265/4405||,T|missense_variant|MODERATE|ORF1ab|GU280_gp01|transcript|YP_009725298.1|protein_coding|1/1|c.254C&gt;T|p.Thr85Ile|254/1914|254/1914|85/637||WARNING_TRANSCRIPT_NO_START_CODON,T|missense_variant|MODERATE|ORF1ab|GU280_gp01|transcript|YP_009742609.1|protein_coding|1/1|c.254C&gt;T|p.Thr85Ile|254/1914|254/1914|85/637||WARNING_TRANSCRIPT_NO_START_CODON,T|upstream_gene_variant|MODIFIER|ORF1ab|GU280_gp01|transcript|YP_009725299.1|protein_coding||c.-1661C&gt;T|||||1661|WARNING_TRANSCRIPT_NO_START_CODON,T|upstream_gene_variant|MODIFIER|ORF1ab|GU280_gp01|transcript|YP_009742610.1|protein_coding||c.-1661C&gt;T|||||1661|WARNING_TRANSCRIPT_NO_START_CODON,T|downstream_gene_variant|MODIFIER|ORF1ab|GU280_gp01|transcript|YP_009725297.1|protein_coding||c.*254C&gt;T|||||254|WARNING_TRANSCRIPT_NO_STOP_CODON,T|downstream_gene_variant|MODIFIER|ORF1ab|GU280_gp01|transcript|YP_009742608.1|protein_coding||c.*254C&gt;T|||||254|WARNING_TRANSCRIPT_NO_STOP_CODON</td>\n      <td></td>\n    </tr>\n    <tr>\n      <td>4</td>\n      <td>NC_045512.2</td>\n      <td>1059</td>\n      <td>cds-YP_009725295.1</td>\n      <td>C</td>\n      <td>T</td>\n      <td>69.0</td>\n      <td>PASS</td>\n      <td>T</td>\n      <td>missense_variant</td>\n      <td>MODERATE</td>\n      <td>ORF1ab</td>\n      <td>GU280_gp01</td>\n      <td>transcript</td>\n      <td>GU280_gp01</td>\n      <td>protein_coding</td>\n      <td>1/2</td>\n      <td>794C&gt;T</td>\n      <td>Thr265Ile</td>\n      <td>794/21291</td>\n      <td>794/21291</td>\n      <td>265/7096</td>\n      <td>NaN</td>\n      <td>ACC-ATC</td>\n      <td>T-I</td>\n      <td>382</td>\n      <td>CODON=ACC-ATC;AA=T-I;DP=382;ANN=T|missense_variant|MODERATE|ORF1ab|GU280_gp01|transcript|GU280_gp01|protein_coding|1/2|c.794C&gt;T|p.Thr265Ile|794/21291|794/21291|265/7096||,T|missense_variant|MODERATE|ORF1ab|GU280_gp01|transcript|GU280_gp01.2|protein_coding|1/1|c.794C&gt;T|p.Thr265Ile|794/13218|794/13218|265/4405||,T|missense_variant|MODERATE|ORF1ab|GU280_gp01|transcript|YP_009725298.1|protein_coding|1/1|c.254C&gt;T|p.Thr85Ile|254/1914|254/1914|85/637||WARNING_TRANSCRIPT_NO_START_CODON,T|missense_variant|MODERATE|ORF1ab|GU280_gp01|transcript|YP_009742609.1|protein_coding|1/1|c.254C&gt;T|p.Thr85Ile|254/1914|254/1914|85/637||WARNING_TRANSCRIPT_NO_START_CODON,T|upstream_gene_variant|MODIFIER|ORF1ab|GU280_gp01|transcript|YP_009725299.1|protein_coding||c.-1661C&gt;T|||||1661|WARNING_TRANSCRIPT_NO_START_CODON,T|upstream_gene_variant|MODIFIER|ORF1ab|GU280_gp01|transcript|YP_009742610.1|protein_coding||c.-1661C&gt;T|||||1661|WARNING_TRANSCRIPT_NO_START_CODON,T|downstream_gene_variant|MODIFIER|ORF1ab|GU280_gp01|transcript|YP_009725297.1|protein_coding||c.*254C&gt;T|||||254|WARNING_TRANSCRIPT_NO_STOP_CODON,T|downstream_gene_variant|MODIFIER|ORF1ab|GU280_gp01|transcript|YP_009742608.1|protein_coding||c.*254C&gt;T|||||254|WARNING_TRANSCRIPT_NO_STOP_CODON</td>\n      <td></td>\n    </tr>\n  </tbody>\n</table>\n</div>"
     },
     "metadata": {},
     "execution_count": 105
    }
   ],
   "source": [
    "df.head()"
   ]
  },
  {
   "cell_type": "code",
   "execution_count": 80,
   "metadata": {},
   "outputs": [],
   "source": [
    "dfa = pd.read_csv(annot, sep=\"\\t\", names=['aa', 'annot'])"
   ]
  },
  {
   "cell_type": "code",
   "execution_count": 87,
   "metadata": {},
   "outputs": [
    {
     "output_type": "execute_result",
     "data": {
      "text/plain": [
       "            aa                  annot                          aaAnnot\n",
       "0   Lys417Glu   REGN10933              Lys417Glu:REGN10933            \n",
       "1   Lys444Gln   REGN10987              Lys444Gln:REGN10987            \n",
       "2   Val445Ala   REGN10987              Val445Ala:REGN10987            \n",
       "3   Tyr453Phe   REGN10933              Tyr453Phe:REGN10933            \n",
       "4   Leu455Phe   REGN10933              Leu455Phe:REGN10933            \n",
       "5   Phe486Val   REGN10933              Phe486Val:REGN10933            \n",
       "6   Gln493Lys   REGN10933              Gln493Lys:REGN10933            \n",
       "7   His655Tyr   REGN10987+REGN10933    His655Tyr:REGN10987+REGN10933  \n",
       "8   Arg682Gln   REGN10987+REGN10933    Arg682Gln:REGN10987+REGN10933  \n",
       "9   Arg685Ser   REGN10987              Arg685Ser:REGN10987            \n",
       "10  Val687Gly   REGN10987+REGN10933    Val687Gly:REGN10987+REGN10933  \n",
       "11  Gly769Glu   REGN10933              Gly769Glu:REGN10933            \n",
       "12  Val557Leu   Remdesivir-Loetal2020  Val557Leu:Remdesivir-Loetal2020\n",
       "13  Val5029Ile  TEST                   Val5029Ile:TEST                "
      ],
      "text/html": "<div>\n<style scoped>\n    .dataframe tbody tr th:only-of-type {\n        vertical-align: middle;\n    }\n\n    .dataframe tbody tr th {\n        vertical-align: top;\n    }\n\n    .dataframe thead th {\n        text-align: right;\n    }\n</style>\n<table border=\"1\" class=\"dataframe\">\n  <thead>\n    <tr style=\"text-align: right;\">\n      <th></th>\n      <th>aa</th>\n      <th>annot</th>\n      <th>aaAnnot</th>\n    </tr>\n  </thead>\n  <tbody>\n    <tr>\n      <td>0</td>\n      <td>Lys417Glu</td>\n      <td>REGN10933</td>\n      <td>Lys417Glu:REGN10933</td>\n    </tr>\n    <tr>\n      <td>1</td>\n      <td>Lys444Gln</td>\n      <td>REGN10987</td>\n      <td>Lys444Gln:REGN10987</td>\n    </tr>\n    <tr>\n      <td>2</td>\n      <td>Val445Ala</td>\n      <td>REGN10987</td>\n      <td>Val445Ala:REGN10987</td>\n    </tr>\n    <tr>\n      <td>3</td>\n      <td>Tyr453Phe</td>\n      <td>REGN10933</td>\n      <td>Tyr453Phe:REGN10933</td>\n    </tr>\n    <tr>\n      <td>4</td>\n      <td>Leu455Phe</td>\n      <td>REGN10933</td>\n      <td>Leu455Phe:REGN10933</td>\n    </tr>\n    <tr>\n      <td>5</td>\n      <td>Phe486Val</td>\n      <td>REGN10933</td>\n      <td>Phe486Val:REGN10933</td>\n    </tr>\n    <tr>\n      <td>6</td>\n      <td>Gln493Lys</td>\n      <td>REGN10933</td>\n      <td>Gln493Lys:REGN10933</td>\n    </tr>\n    <tr>\n      <td>7</td>\n      <td>His655Tyr</td>\n      <td>REGN10987+REGN10933</td>\n      <td>His655Tyr:REGN10987+REGN10933</td>\n    </tr>\n    <tr>\n      <td>8</td>\n      <td>Arg682Gln</td>\n      <td>REGN10987+REGN10933</td>\n      <td>Arg682Gln:REGN10987+REGN10933</td>\n    </tr>\n    <tr>\n      <td>9</td>\n      <td>Arg685Ser</td>\n      <td>REGN10987</td>\n      <td>Arg685Ser:REGN10987</td>\n    </tr>\n    <tr>\n      <td>10</td>\n      <td>Val687Gly</td>\n      <td>REGN10987+REGN10933</td>\n      <td>Val687Gly:REGN10987+REGN10933</td>\n    </tr>\n    <tr>\n      <td>11</td>\n      <td>Gly769Glu</td>\n      <td>REGN10933</td>\n      <td>Gly769Glu:REGN10933</td>\n    </tr>\n    <tr>\n      <td>12</td>\n      <td>Val557Leu</td>\n      <td>Remdesivir-Loetal2020</td>\n      <td>Val557Leu:Remdesivir-Loetal2020</td>\n    </tr>\n    <tr>\n      <td>13</td>\n      <td>Val5029Ile</td>\n      <td>TEST</td>\n      <td>Val5029Ile:TEST</td>\n    </tr>\n  </tbody>\n</table>\n</div>"
     },
     "metadata": {},
     "execution_count": 87
    }
   ],
   "source": [
    "dfa"
   ]
  },
  {
   "cell_type": "code",
   "execution_count": 102,
   "metadata": {},
   "outputs": [],
   "source": [
    "def checkAA(snpEffRow, dfAnnot):\n",
    "    df = dfAnnot\n",
    "    df['aaAnnot'] = df['aa'] + \":\" + df['annot']\n",
    "    presence_list = [annot in snpEffRow for annot in dfAnnot.aa]\n",
    "    annotation_list = np.array(df.aaAnnot.tolist())\n",
    "    return (',').join(annotation_list[np.array(presence_list)])\n"
   ]
  },
  {
   "cell_type": "code",
   "execution_count": 103,
   "metadata": {},
   "outputs": [],
   "source": [
    "df['TEST'] = df.apply(lambda x: checkAA(x.INFO, dfa), axis=1)\n"
   ]
  },
  {
   "cell_type": "code",
   "execution_count": 104,
   "metadata": {},
   "outputs": [
    {
     "output_type": "execute_result",
     "data": {
      "text/plain": [
       "         #CHROM    POS             TEST\n",
       "0   NC_045512.2  241                   \n",
       "1   NC_045512.2  625                   \n",
       "2   NC_045512.2  625                   \n",
       "3   NC_045512.2  1059                  \n",
       "4   NC_045512.2  1059                  \n",
       "5   NC_045512.2  1060                  \n",
       "6   NC_045512.2  1060                  \n",
       "7   NC_045512.2  1349                  \n",
       "8   NC_045512.2  1349                  \n",
       "9   NC_045512.2  3037                  \n",
       "10  NC_045512.2  3037                  \n",
       "11  NC_045512.2  11916                 \n",
       "12  NC_045512.2  11916                 \n",
       "13  NC_045512.2  14408                 \n",
       "14  NC_045512.2  15349  Val5029Ile:TEST\n",
       "15  NC_045512.2  15380                 \n",
       "16  NC_045512.2  16161                 \n",
       "17  NC_045512.2  18998                 \n",
       "18  NC_045512.2  21786                 \n",
       "19  NC_045512.2  23403                 \n",
       "20  NC_045512.2  25563                 \n",
       "21  NC_045512.2  28657                 \n",
       "22  NC_045512.2  29386                 \n",
       "23  NC_045512.2  29540                 "
      ],
      "text/html": "<div>\n<style scoped>\n    .dataframe tbody tr th:only-of-type {\n        vertical-align: middle;\n    }\n\n    .dataframe tbody tr th {\n        vertical-align: top;\n    }\n\n    .dataframe thead th {\n        text-align: right;\n    }\n</style>\n<table border=\"1\" class=\"dataframe\">\n  <thead>\n    <tr style=\"text-align: right;\">\n      <th></th>\n      <th>#CHROM</th>\n      <th>POS</th>\n      <th>TEST</th>\n    </tr>\n  </thead>\n  <tbody>\n    <tr>\n      <td>0</td>\n      <td>NC_045512.2</td>\n      <td>241</td>\n      <td></td>\n    </tr>\n    <tr>\n      <td>1</td>\n      <td>NC_045512.2</td>\n      <td>625</td>\n      <td></td>\n    </tr>\n    <tr>\n      <td>2</td>\n      <td>NC_045512.2</td>\n      <td>625</td>\n      <td></td>\n    </tr>\n    <tr>\n      <td>3</td>\n      <td>NC_045512.2</td>\n      <td>1059</td>\n      <td></td>\n    </tr>\n    <tr>\n      <td>4</td>\n      <td>NC_045512.2</td>\n      <td>1059</td>\n      <td></td>\n    </tr>\n    <tr>\n      <td>5</td>\n      <td>NC_045512.2</td>\n      <td>1060</td>\n      <td></td>\n    </tr>\n    <tr>\n      <td>6</td>\n      <td>NC_045512.2</td>\n      <td>1060</td>\n      <td></td>\n    </tr>\n    <tr>\n      <td>7</td>\n      <td>NC_045512.2</td>\n      <td>1349</td>\n      <td></td>\n    </tr>\n    <tr>\n      <td>8</td>\n      <td>NC_045512.2</td>\n      <td>1349</td>\n      <td></td>\n    </tr>\n    <tr>\n      <td>9</td>\n      <td>NC_045512.2</td>\n      <td>3037</td>\n      <td></td>\n    </tr>\n    <tr>\n      <td>10</td>\n      <td>NC_045512.2</td>\n      <td>3037</td>\n      <td></td>\n    </tr>\n    <tr>\n      <td>11</td>\n      <td>NC_045512.2</td>\n      <td>11916</td>\n      <td></td>\n    </tr>\n    <tr>\n      <td>12</td>\n      <td>NC_045512.2</td>\n      <td>11916</td>\n      <td></td>\n    </tr>\n    <tr>\n      <td>13</td>\n      <td>NC_045512.2</td>\n      <td>14408</td>\n      <td></td>\n    </tr>\n    <tr>\n      <td>14</td>\n      <td>NC_045512.2</td>\n      <td>15349</td>\n      <td>Val5029Ile:TEST</td>\n    </tr>\n    <tr>\n      <td>15</td>\n      <td>NC_045512.2</td>\n      <td>15380</td>\n      <td></td>\n    </tr>\n    <tr>\n      <td>16</td>\n      <td>NC_045512.2</td>\n      <td>16161</td>\n      <td></td>\n    </tr>\n    <tr>\n      <td>17</td>\n      <td>NC_045512.2</td>\n      <td>18998</td>\n      <td></td>\n    </tr>\n    <tr>\n      <td>18</td>\n      <td>NC_045512.2</td>\n      <td>21786</td>\n      <td></td>\n    </tr>\n    <tr>\n      <td>19</td>\n      <td>NC_045512.2</td>\n      <td>23403</td>\n      <td></td>\n    </tr>\n    <tr>\n      <td>20</td>\n      <td>NC_045512.2</td>\n      <td>25563</td>\n      <td></td>\n    </tr>\n    <tr>\n      <td>21</td>\n      <td>NC_045512.2</td>\n      <td>28657</td>\n      <td></td>\n    </tr>\n    <tr>\n      <td>22</td>\n      <td>NC_045512.2</td>\n      <td>29386</td>\n      <td></td>\n    </tr>\n    <tr>\n      <td>23</td>\n      <td>NC_045512.2</td>\n      <td>29540</td>\n      <td></td>\n    </tr>\n  </tbody>\n</table>\n</div>"
     },
     "metadata": {},
     "execution_count": 104
    }
   ],
   "source": [
    "df[['#CHROM', 'POS', 'TEST']]"
   ]
  },
  {
   "cell_type": "code",
   "execution_count": null,
   "metadata": {},
   "outputs": [],
   "source": []
  }
 ]
}