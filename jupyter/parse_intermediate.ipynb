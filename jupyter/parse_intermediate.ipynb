{
 "metadata": {
  "language_info": {
   "codemirror_mode": {
    "name": "ipython",
    "version": 3
   },
   "file_extension": ".py",
   "mimetype": "text/x-python",
   "name": "python",
   "nbconvert_exporter": "python",
   "pygments_lexer": "ipython3",
   "version": "3.7.4-final"
  },
  "orig_nbformat": 2,
  "kernelspec": {
   "name": "Python 3.7.4 64-bit ('base': conda)",
   "display_name": "Python 3.7.4 64-bit ('base': conda)",
   "metadata": {
    "interpreter": {
     "hash": "895b43306824f909dd8fc0fe81781e0d62fee5aa42332456ee4a77314d01a104"
    }
   }
  }
 },
 "nbformat": 4,
 "nbformat_minor": 2,
 "cells": [
  {
   "cell_type": "code",
   "execution_count": 1,
   "metadata": {},
   "outputs": [],
   "source": [
    "import os\n",
    "import pandas as pd\n",
    "import numpy as np\n",
    "import re\n",
    "\n",
    "pd.set_option('display.max_columns', None)\n",
    "pd.set_option('display.max_rows', None)\n",
    "pd.set_option('display.max_colwidth', -1)"
   ]
  },
  {
   "cell_type": "code",
   "execution_count": 359,
   "metadata": {},
   "outputs": [],
   "source": [
    "df = pd.read_csv('/home/laura/ANALYSIS/VARIANT_CALLING/COVID/Compare/2020-10-19-oncohemato/compare/compare.revised_intermediate_test.tsv', sep=\"\\t\")"
   ]
  },
  {
   "cell_type": "code",
   "execution_count": 382,
   "metadata": {},
   "outputs": [],
   "source": [
    "def revised_df(df, min_threshold_include=0.7, min_threshold_discard=0.7, remove_faulty=True, drop_samples=True, drop_positions=True):\n",
    "    if remove_faulty == True:\n",
    "\n",
    "        uncovered_positions = df.iloc[:,3:].apply(lambda x: sum((x == '!'))/len(x), axis=1)\n",
    "        heterozygous_positions = df.iloc[:,3:].apply(lambda x: sum([i not in ['!',0,1, '0', '1'] for i in x.values])/len(x), axis=1)\n",
    "        report_position = pd.DataFrame({'Position': df.Position, 'uncov_fract': uncovered_positions, 'htz_frac': heterozygous_positions, 'faulty_frac': uncovered_positions + heterozygous_positions})\n",
    "        faulty_positions = report_position['Position'][report_position.faulty_frac >= min_threshold_discard].tolist()\n",
    "\n",
    "\n",
    "        uncovered_samples = df.iloc[:,3:].apply(lambda x: sum((x == '!'))/len(x), axis=0)\n",
    "        heterozygous_samples = df.iloc[:,3:].apply(lambda x: sum([i not in ['!',0,1, '0', '1'] for i in x.values])/len(x), axis=0)\n",
    "        report_samples = pd.DataFrame({'sample': df.iloc[:,3:].columns, 'uncov_fract': uncovered_samples, 'htz_frac': heterozygous_samples, 'faulty_frac': uncovered_samples + heterozygous_samples})\n",
    "        faulty_samples = report_samples['sample'][report_samples.faulty_frac >= min_threshold_discard].tolist()\n",
    "\n",
    "        if drop_positions == True:\n",
    "            df = df[~df.Position.isin(faulty_positions)]\n",
    "        if drop_samples == True:\n",
    "            df = df.drop(faulty_samples, axis=1)\n",
    "\n",
    "        print('Faulty positions:\\n{} \\n\\nFaulty samples:\\n{}'.format((\"\\n\").join(faulty_positions), (\"\\n\").join(faulty_samples)))\n",
    "\n",
    "    df = df.replace('!', 0)\n",
    "    df.iloc[:,3:] = df.iloc[:,3:].astype(float)\n",
    "    f = lambda x: 1 if x >= min_threshold_include else 0 # IF HANDLE HETEROZYGOUS CHANGE THIS 0 for X or 0.5\n",
    "    df.iloc[:,3:] = df.iloc[:,3:].applymap(f)\n",
    "    df.N = df.apply(lambda x: sum(x[3:]), axis=1)\n",
    "    df = df[df.N > 0]\n",
    "    return df"
   ]
  },
  {
   "cell_type": "code",
   "execution_count": 383,
   "metadata": {},
   "outputs": [
    {
     "output_type": "stream",
     "name": "stdout",
     "text": [
      "Faulty positions:\nNC_045512.2|C|6286|T \n\nFaulty samples:\n20379679\n"
     ]
    },
    {
     "output_type": "execute_result",
     "data": {
      "text/plain": [
       "                 Position  N                              Samples  20379900  \\\n",
       "0   NC_045512.2|A|1987|G   4  20379679,20379900,20384092,20392100  1          \n",
       "1   NC_045512.2|A|23403|G  4  20379679,20379900,20384092,20392100  1          \n",
       "2   NC_045512.2|A|29407|G  4  20379679,20379900,20384092,20392100  1          \n",
       "4   NC_045512.2|C|14408|T  3  20379679,20379900,20384092,20392100  1          \n",
       "5   NC_045512.2|C|18129|T  3  20379679,20379900,20384092,20392100  1          \n",
       "6   NC_045512.2|C|2102|T   3  20379679,20379900,20384092,20392100  1          \n",
       "7   NC_045512.2|C|22208|T  3  20379679,20379900,20384092,20392100  1          \n",
       "8   NC_045512.2|C|22227|T  3  20379679,20379900,20384092,20392100  1          \n",
       "9   NC_045512.2|C|241|T    3  20379679,20379900,20384092,20392100  1          \n",
       "10  NC_045512.2|C|26801|G  3  20379679,20379900,20384092,20392100  1          \n",
       "11  NC_045512.2|C|27944|T  4  20379679,20379900,20384092,20392100  1          \n",
       "12  NC_045512.2|C|28932|T  4  20379679,20379900,20384092,20392100  1          \n",
       "13  NC_045512.2|C|3037|T   2  20379679,20379900,20384092,20392100  1          \n",
       "15  NC_045512.2|G|21255|C  4  20379900,20384092,20392100           1          \n",
       "16  NC_045512.2|G|24197|T  1  20379679,20379900,20384092,20392100  1          \n",
       "17  NC_045512.2|G|29645|T  4  20379679,20379900,20384092,20392100  1          \n",
       "18  NC_045512.2|G|9802|T   4  20379679,20379900,20384092,20392100  1          \n",
       "19  NC_045512.2|T|445|C    4  20379679,20379900,20384092,20392100  1          \n",
       "\n",
       "    20384092  20392100  20392110  \n",
       "0   1         1         1         \n",
       "1   1         1         1         \n",
       "2   1         1         1         \n",
       "4   0         1         1         \n",
       "5   0         1         1         \n",
       "6   0         1         1         \n",
       "7   0         1         1         \n",
       "8   0         1         1         \n",
       "9   0         1         1         \n",
       "10  0         1         1         \n",
       "11  1         1         1         \n",
       "12  1         1         1         \n",
       "13  1         0         0         \n",
       "15  1         1         1         \n",
       "16  0         0         0         \n",
       "17  1         1         1         \n",
       "18  1         1         1         \n",
       "19  1         1         1         "
      ],
      "text/html": "<div>\n<style scoped>\n    .dataframe tbody tr th:only-of-type {\n        vertical-align: middle;\n    }\n\n    .dataframe tbody tr th {\n        vertical-align: top;\n    }\n\n    .dataframe thead th {\n        text-align: right;\n    }\n</style>\n<table border=\"1\" class=\"dataframe\">\n  <thead>\n    <tr style=\"text-align: right;\">\n      <th></th>\n      <th>Position</th>\n      <th>N</th>\n      <th>Samples</th>\n      <th>20379900</th>\n      <th>20384092</th>\n      <th>20392100</th>\n      <th>20392110</th>\n    </tr>\n  </thead>\n  <tbody>\n    <tr>\n      <td>0</td>\n      <td>NC_045512.2|A|1987|G</td>\n      <td>4</td>\n      <td>20379679,20379900,20384092,20392100</td>\n      <td>1</td>\n      <td>1</td>\n      <td>1</td>\n      <td>1</td>\n    </tr>\n    <tr>\n      <td>1</td>\n      <td>NC_045512.2|A|23403|G</td>\n      <td>4</td>\n      <td>20379679,20379900,20384092,20392100</td>\n      <td>1</td>\n      <td>1</td>\n      <td>1</td>\n      <td>1</td>\n    </tr>\n    <tr>\n      <td>2</td>\n      <td>NC_045512.2|A|29407|G</td>\n      <td>4</td>\n      <td>20379679,20379900,20384092,20392100</td>\n      <td>1</td>\n      <td>1</td>\n      <td>1</td>\n      <td>1</td>\n    </tr>\n    <tr>\n      <td>4</td>\n      <td>NC_045512.2|C|14408|T</td>\n      <td>3</td>\n      <td>20379679,20379900,20384092,20392100</td>\n      <td>1</td>\n      <td>0</td>\n      <td>1</td>\n      <td>1</td>\n    </tr>\n    <tr>\n      <td>5</td>\n      <td>NC_045512.2|C|18129|T</td>\n      <td>3</td>\n      <td>20379679,20379900,20384092,20392100</td>\n      <td>1</td>\n      <td>0</td>\n      <td>1</td>\n      <td>1</td>\n    </tr>\n    <tr>\n      <td>6</td>\n      <td>NC_045512.2|C|2102|T</td>\n      <td>3</td>\n      <td>20379679,20379900,20384092,20392100</td>\n      <td>1</td>\n      <td>0</td>\n      <td>1</td>\n      <td>1</td>\n    </tr>\n    <tr>\n      <td>7</td>\n      <td>NC_045512.2|C|22208|T</td>\n      <td>3</td>\n      <td>20379679,20379900,20384092,20392100</td>\n      <td>1</td>\n      <td>0</td>\n      <td>1</td>\n      <td>1</td>\n    </tr>\n    <tr>\n      <td>8</td>\n      <td>NC_045512.2|C|22227|T</td>\n      <td>3</td>\n      <td>20379679,20379900,20384092,20392100</td>\n      <td>1</td>\n      <td>0</td>\n      <td>1</td>\n      <td>1</td>\n    </tr>\n    <tr>\n      <td>9</td>\n      <td>NC_045512.2|C|241|T</td>\n      <td>3</td>\n      <td>20379679,20379900,20384092,20392100</td>\n      <td>1</td>\n      <td>0</td>\n      <td>1</td>\n      <td>1</td>\n    </tr>\n    <tr>\n      <td>10</td>\n      <td>NC_045512.2|C|26801|G</td>\n      <td>3</td>\n      <td>20379679,20379900,20384092,20392100</td>\n      <td>1</td>\n      <td>0</td>\n      <td>1</td>\n      <td>1</td>\n    </tr>\n    <tr>\n      <td>11</td>\n      <td>NC_045512.2|C|27944|T</td>\n      <td>4</td>\n      <td>20379679,20379900,20384092,20392100</td>\n      <td>1</td>\n      <td>1</td>\n      <td>1</td>\n      <td>1</td>\n    </tr>\n    <tr>\n      <td>12</td>\n      <td>NC_045512.2|C|28932|T</td>\n      <td>4</td>\n      <td>20379679,20379900,20384092,20392100</td>\n      <td>1</td>\n      <td>1</td>\n      <td>1</td>\n      <td>1</td>\n    </tr>\n    <tr>\n      <td>13</td>\n      <td>NC_045512.2|C|3037|T</td>\n      <td>2</td>\n      <td>20379679,20379900,20384092,20392100</td>\n      <td>1</td>\n      <td>1</td>\n      <td>0</td>\n      <td>0</td>\n    </tr>\n    <tr>\n      <td>15</td>\n      <td>NC_045512.2|G|21255|C</td>\n      <td>4</td>\n      <td>20379900,20384092,20392100</td>\n      <td>1</td>\n      <td>1</td>\n      <td>1</td>\n      <td>1</td>\n    </tr>\n    <tr>\n      <td>16</td>\n      <td>NC_045512.2|G|24197|T</td>\n      <td>1</td>\n      <td>20379679,20379900,20384092,20392100</td>\n      <td>1</td>\n      <td>0</td>\n      <td>0</td>\n      <td>0</td>\n    </tr>\n    <tr>\n      <td>17</td>\n      <td>NC_045512.2|G|29645|T</td>\n      <td>4</td>\n      <td>20379679,20379900,20384092,20392100</td>\n      <td>1</td>\n      <td>1</td>\n      <td>1</td>\n      <td>1</td>\n    </tr>\n    <tr>\n      <td>18</td>\n      <td>NC_045512.2|G|9802|T</td>\n      <td>4</td>\n      <td>20379679,20379900,20384092,20392100</td>\n      <td>1</td>\n      <td>1</td>\n      <td>1</td>\n      <td>1</td>\n    </tr>\n    <tr>\n      <td>19</td>\n      <td>NC_045512.2|T|445|C</td>\n      <td>4</td>\n      <td>20379679,20379900,20384092,20392100</td>\n      <td>1</td>\n      <td>1</td>\n      <td>1</td>\n      <td>1</td>\n    </tr>\n  </tbody>\n</table>\n</div>"
     },
     "metadata": {},
     "execution_count": 383
    }
   ],
   "source": [
    "revised_df(df, min_threshold_include=0.7, min_threshold_discard=0.7, remove_faulty=True, drop_samples=True, drop_positions=True)"
   ]
  },
  {
   "cell_type": "code",
   "execution_count": 375,
   "metadata": {},
   "outputs": [
    {
     "output_type": "execute_result",
     "data": {
      "text/plain": [
       "                Position  N                              Samples 20379679  \\\n",
       "0  NC_045512.2|A|1987|G   4  20379679,20379900,20384092,20392100  !         \n",
       "1  NC_045512.2|A|23403|G  4  20379679,20379900,20384092,20392100  !         \n",
       "2  NC_045512.2|A|29407|G  4  20379679,20379900,20384092,20392100  !         \n",
       "3  NC_045512.2|C|12115|T  1  20384092                             !         \n",
       "4  NC_045512.2|C|14408|T  4  20379679,20379900,20384092,20392100  !         \n",
       "\n",
       "   20379900 20384092 20392100 20392110  \n",
       "0  0.96      1        1        1        \n",
       "1  1.00      1        1        1        \n",
       "2  1.00      1        1        1        \n",
       "3  0.00      0        0        0        \n",
       "4  1.00      !        1        1        "
      ],
      "text/html": "<div>\n<style scoped>\n    .dataframe tbody tr th:only-of-type {\n        vertical-align: middle;\n    }\n\n    .dataframe tbody tr th {\n        vertical-align: top;\n    }\n\n    .dataframe thead th {\n        text-align: right;\n    }\n</style>\n<table border=\"1\" class=\"dataframe\">\n  <thead>\n    <tr style=\"text-align: right;\">\n      <th></th>\n      <th>Position</th>\n      <th>N</th>\n      <th>Samples</th>\n      <th>20379679</th>\n      <th>20379900</th>\n      <th>20384092</th>\n      <th>20392100</th>\n      <th>20392110</th>\n    </tr>\n  </thead>\n  <tbody>\n    <tr>\n      <td>0</td>\n      <td>NC_045512.2|A|1987|G</td>\n      <td>4</td>\n      <td>20379679,20379900,20384092,20392100</td>\n      <td>!</td>\n      <td>0.96</td>\n      <td>1</td>\n      <td>1</td>\n      <td>1</td>\n    </tr>\n    <tr>\n      <td>1</td>\n      <td>NC_045512.2|A|23403|G</td>\n      <td>4</td>\n      <td>20379679,20379900,20384092,20392100</td>\n      <td>!</td>\n      <td>1.00</td>\n      <td>1</td>\n      <td>1</td>\n      <td>1</td>\n    </tr>\n    <tr>\n      <td>2</td>\n      <td>NC_045512.2|A|29407|G</td>\n      <td>4</td>\n      <td>20379679,20379900,20384092,20392100</td>\n      <td>!</td>\n      <td>1.00</td>\n      <td>1</td>\n      <td>1</td>\n      <td>1</td>\n    </tr>\n    <tr>\n      <td>3</td>\n      <td>NC_045512.2|C|12115|T</td>\n      <td>1</td>\n      <td>20384092</td>\n      <td>!</td>\n      <td>0.00</td>\n      <td>0</td>\n      <td>0</td>\n      <td>0</td>\n    </tr>\n    <tr>\n      <td>4</td>\n      <td>NC_045512.2|C|14408|T</td>\n      <td>4</td>\n      <td>20379679,20379900,20384092,20392100</td>\n      <td>!</td>\n      <td>1.00</td>\n      <td>!</td>\n      <td>1</td>\n      <td>1</td>\n    </tr>\n  </tbody>\n</table>\n</div>"
     },
     "metadata": {},
     "execution_count": 375
    }
   ],
   "source": [
    "df.head()"
   ]
  },
  {
   "cell_type": "code",
   "execution_count": 376,
   "metadata": {},
   "outputs": [],
   "source": [
    "uncovered_positions = df.iloc[:,3:].apply(lambda x: (x.values == '!').sum()/len(x), axis=1)\n",
    "heterozygous_positions = df.iloc[:,3:].apply(lambda x: sum([i not in ['!',0,1, '0', '1'] for i in x.values])/len(x), axis=1)\n",
    "report_position = pd.DataFrame({'Position': df.Position, 'uncov_fract': uncovered_positions, 'htz_frac': heterozygous_positions, 'faulty_frac': uncovered_positions + heterozygous_positions})\n"
   ]
  },
  {
   "cell_type": "code",
   "execution_count": 381,
   "metadata": {},
   "outputs": [
    {
     "output_type": "execute_result",
     "data": {
      "text/plain": [
       "0     0.2\n",
       "1     0.2\n",
       "2     0.2\n",
       "3     0.2\n",
       "4     0.4\n",
       "5     0.4\n",
       "6     0.4\n",
       "7     0.4\n",
       "8     0.4\n",
       "9     0.4\n",
       "10    0.4\n",
       "11    0.2\n",
       "12    0.2\n",
       "13    0.2\n",
       "14    0.6\n",
       "15    0.0\n",
       "16    0.0\n",
       "17    0.0\n",
       "18    0.0\n",
       "19    0.0\n",
       "dtype: float64"
      ]
     },
     "metadata": {},
     "execution_count": 381
    }
   ],
   "source": [
    "df.iloc[:,3:].apply(lambda x: sum((x == '!'))/len(x), axis=1)"
   ]
  },
  {
   "cell_type": "code",
   "execution_count": 197,
   "metadata": {},
   "outputs": [],
   "source": [
    "uncovered_samples = df.iloc[:,3:].apply(lambda x: (x.values == '!').sum()/len(x), axis=0)\n",
    "heterozygous_samples = df.iloc[:,3:].apply(lambda x: sum([i not in ['!',0,1, '0', '1'] for i in x.values])/len(x), axis=0)\n",
    "report_samples = pd.DataFrame({'sample': df.iloc[:,3:].columns, 'uncov_fract': uncovered_samples, 'htz_frac': heterozygous_samples, 'faulty_frac': uncovered_samples + heterozygous_samples})"
   ]
  },
  {
   "cell_type": "code",
   "execution_count": 221,
   "metadata": {},
   "outputs": [
    {
     "output_type": "execute_result",
     "data": {
      "text/plain": [
       "['20379679', '20384092']"
      ]
     },
     "metadata": {},
     "execution_count": 221
    }
   ],
   "source": [
    "faulty_samples = report_samples['sample'][report_samples.faulty_frac >= 0.5]\n",
    "faulty_samples.tolist()"
   ]
  },
  {
   "cell_type": "code",
   "execution_count": 201,
   "metadata": {},
   "outputs": [
    {
     "output_type": "execute_result",
     "data": {
      "text/plain": [
       "['NC_045512.2|A|1987|G',\n",
       " 'NC_045512.2|C|14408|T',\n",
       " 'NC_045512.2|C|18129|T',\n",
       " 'NC_045512.2|C|2102|T',\n",
       " 'NC_045512.2|C|22208|T',\n",
       " 'NC_045512.2|C|22227|T',\n",
       " 'NC_045512.2|C|241|T',\n",
       " 'NC_045512.2|C|26801|G',\n",
       " 'NC_045512.2|C|3037|T',\n",
       " 'NC_045512.2|C|6286|T',\n",
       " 'NC_045512.2|G|24197|T']"
      ]
     },
     "metadata": {},
     "execution_count": 201
    }
   ],
   "source": [
    "faulty_positions = report_position['Position'][report_position.faulty_frac >= 0.5]\n",
    "faulty_positions.tolist()"
   ]
  },
  {
   "cell_type": "code",
   "execution_count": 233,
   "metadata": {},
   "outputs": [],
   "source": [
    "#df.filter(faulty_samples.tolist())"
   ]
  },
  {
   "cell_type": "code",
   "execution_count": 234,
   "metadata": {},
   "outputs": [
    {
     "output_type": "execute_result",
     "data": {
      "text/plain": [
       "                 Position  N                              Samples  20379900  \\\n",
       "1   NC_045512.2|A|23403|G  4  20379679,20379900,20384092,20392100  1.0        \n",
       "2   NC_045512.2|A|29407|G  4  20379679,20379900,20384092,20392100  1.0        \n",
       "3   NC_045512.2|C|12115|T  1  20384092                             0.0        \n",
       "11  NC_045512.2|C|27944|T  4  20379679,20379900,20384092,20392100  1.0        \n",
       "12  NC_045512.2|C|28932|T  4  20379679,20379900,20384092,20392100  1.0        \n",
       "15  NC_045512.2|G|21255|C  4  20379900,20384092,20392100           1.0        \n",
       "17  NC_045512.2|G|29645|T  4  20379679,20379900,20384092,20392100  1.0        \n",
       "18  NC_045512.2|G|9802|T   4  20379679,20379900,20384092,20392100  1.0        \n",
       "19  NC_045512.2|T|445|C    4  20379679,20379900,20384092,20392100  1.0        \n",
       "\n",
       "   20392100  \n",
       "1   1        \n",
       "2   1        \n",
       "3   0        \n",
       "11  1        \n",
       "12  1        \n",
       "15  1        \n",
       "17  1        \n",
       "18  1        \n",
       "19  1        "
      ],
      "text/html": "<div>\n<style scoped>\n    .dataframe tbody tr th:only-of-type {\n        vertical-align: middle;\n    }\n\n    .dataframe tbody tr th {\n        vertical-align: top;\n    }\n\n    .dataframe thead th {\n        text-align: right;\n    }\n</style>\n<table border=\"1\" class=\"dataframe\">\n  <thead>\n    <tr style=\"text-align: right;\">\n      <th></th>\n      <th>Position</th>\n      <th>N</th>\n      <th>Samples</th>\n      <th>20379900</th>\n      <th>20392100</th>\n    </tr>\n  </thead>\n  <tbody>\n    <tr>\n      <td>1</td>\n      <td>NC_045512.2|A|23403|G</td>\n      <td>4</td>\n      <td>20379679,20379900,20384092,20392100</td>\n      <td>1.0</td>\n      <td>1</td>\n    </tr>\n    <tr>\n      <td>2</td>\n      <td>NC_045512.2|A|29407|G</td>\n      <td>4</td>\n      <td>20379679,20379900,20384092,20392100</td>\n      <td>1.0</td>\n      <td>1</td>\n    </tr>\n    <tr>\n      <td>3</td>\n      <td>NC_045512.2|C|12115|T</td>\n      <td>1</td>\n      <td>20384092</td>\n      <td>0.0</td>\n      <td>0</td>\n    </tr>\n    <tr>\n      <td>11</td>\n      <td>NC_045512.2|C|27944|T</td>\n      <td>4</td>\n      <td>20379679,20379900,20384092,20392100</td>\n      <td>1.0</td>\n      <td>1</td>\n    </tr>\n    <tr>\n      <td>12</td>\n      <td>NC_045512.2|C|28932|T</td>\n      <td>4</td>\n      <td>20379679,20379900,20384092,20392100</td>\n      <td>1.0</td>\n      <td>1</td>\n    </tr>\n    <tr>\n      <td>15</td>\n      <td>NC_045512.2|G|21255|C</td>\n      <td>4</td>\n      <td>20379900,20384092,20392100</td>\n      <td>1.0</td>\n      <td>1</td>\n    </tr>\n    <tr>\n      <td>17</td>\n      <td>NC_045512.2|G|29645|T</td>\n      <td>4</td>\n      <td>20379679,20379900,20384092,20392100</td>\n      <td>1.0</td>\n      <td>1</td>\n    </tr>\n    <tr>\n      <td>18</td>\n      <td>NC_045512.2|G|9802|T</td>\n      <td>4</td>\n      <td>20379679,20379900,20384092,20392100</td>\n      <td>1.0</td>\n      <td>1</td>\n    </tr>\n    <tr>\n      <td>19</td>\n      <td>NC_045512.2|T|445|C</td>\n      <td>4</td>\n      <td>20379679,20379900,20384092,20392100</td>\n      <td>1.0</td>\n      <td>1</td>\n    </tr>\n  </tbody>\n</table>\n</div>"
     },
     "metadata": {},
     "execution_count": 234
    }
   ],
   "source": [
    "df.drop(['20379679', '20384092'], axis=1)[~(df.Position.isin(faulty_positions.tolist()))]"
   ]
  },
  {
   "cell_type": "code",
   "execution_count": 313,
   "metadata": {},
   "outputs": [],
   "source": [
    "df = df.replace('!', 0)"
   ]
  },
  {
   "cell_type": "code",
   "execution_count": 314,
   "metadata": {},
   "outputs": [
    {
     "output_type": "stream",
     "name": "stdout",
     "text": [
      "<class 'pandas.core.frame.DataFrame'>\nRangeIndex: 20 entries, 0 to 19\nData columns (total 7 columns):\nPosition    20 non-null object\nN           20 non-null int64\nSamples     20 non-null object\n20379679    20 non-null object\n20379900    20 non-null float64\n20384092    20 non-null object\n20392100    20 non-null object\ndtypes: float64(1), int64(1), object(5)\nmemory usage: 1.2+ KB\n"
     ]
    }
   ],
   "source": [
    "df.info()"
   ]
  },
  {
   "cell_type": "code",
   "execution_count": 315,
   "metadata": {},
   "outputs": [],
   "source": [
    "df.iloc[:,3:] = df.iloc[:,3:].astype(float)"
   ]
  },
  {
   "cell_type": "code",
   "execution_count": 316,
   "metadata": {},
   "outputs": [
    {
     "output_type": "stream",
     "name": "stdout",
     "text": [
      "<class 'pandas.core.frame.DataFrame'>\nRangeIndex: 20 entries, 0 to 19\nData columns (total 7 columns):\nPosition    20 non-null object\nN           20 non-null int64\nSamples     20 non-null object\n20379679    20 non-null float64\n20379900    20 non-null float64\n20384092    20 non-null float64\n20392100    20 non-null float64\ndtypes: float64(4), int64(1), object(2)\nmemory usage: 1.2+ KB\n"
     ]
    }
   ],
   "source": [
    "df.info()"
   ]
  },
  {
   "cell_type": "code",
   "execution_count": 329,
   "metadata": {},
   "outputs": [
    {
     "output_type": "execute_result",
     "data": {
      "text/plain": [
       "    20379679  20379900  20384092  20392100\n",
       "0   0         1         1         1       \n",
       "1   0         1         1         1       \n",
       "2   0         1         1         1       \n",
       "3   0         0         1         0       \n",
       "4   0         1         0         1       \n",
       "5   0         1         0         1       \n",
       "6   0         1         0         1       \n",
       "7   0         1         0         1       \n",
       "8   0         1         0         1       \n",
       "9   0         1         0         1       \n",
       "10  0         1         0         1       \n",
       "11  0         1         1         1       \n",
       "12  0         1         1         1       \n",
       "13  0         1         1         0       \n",
       "14  0         1         0         0       \n",
       "15  1         1         1         1       \n",
       "16  1         1         0         0       \n",
       "17  1         1         1         1       \n",
       "18  1         1         1         1       \n",
       "19  1         1         1         1       "
      ],
      "text/html": "<div>\n<style scoped>\n    .dataframe tbody tr th:only-of-type {\n        vertical-align: middle;\n    }\n\n    .dataframe tbody tr th {\n        vertical-align: top;\n    }\n\n    .dataframe thead th {\n        text-align: right;\n    }\n</style>\n<table border=\"1\" class=\"dataframe\">\n  <thead>\n    <tr style=\"text-align: right;\">\n      <th></th>\n      <th>20379679</th>\n      <th>20379900</th>\n      <th>20384092</th>\n      <th>20392100</th>\n    </tr>\n  </thead>\n  <tbody>\n    <tr>\n      <td>0</td>\n      <td>0</td>\n      <td>1</td>\n      <td>1</td>\n      <td>1</td>\n    </tr>\n    <tr>\n      <td>1</td>\n      <td>0</td>\n      <td>1</td>\n      <td>1</td>\n      <td>1</td>\n    </tr>\n    <tr>\n      <td>2</td>\n      <td>0</td>\n      <td>1</td>\n      <td>1</td>\n      <td>1</td>\n    </tr>\n    <tr>\n      <td>3</td>\n      <td>0</td>\n      <td>0</td>\n      <td>1</td>\n      <td>0</td>\n    </tr>\n    <tr>\n      <td>4</td>\n      <td>0</td>\n      <td>1</td>\n      <td>0</td>\n      <td>1</td>\n    </tr>\n    <tr>\n      <td>5</td>\n      <td>0</td>\n      <td>1</td>\n      <td>0</td>\n      <td>1</td>\n    </tr>\n    <tr>\n      <td>6</td>\n      <td>0</td>\n      <td>1</td>\n      <td>0</td>\n      <td>1</td>\n    </tr>\n    <tr>\n      <td>7</td>\n      <td>0</td>\n      <td>1</td>\n      <td>0</td>\n      <td>1</td>\n    </tr>\n    <tr>\n      <td>8</td>\n      <td>0</td>\n      <td>1</td>\n      <td>0</td>\n      <td>1</td>\n    </tr>\n    <tr>\n      <td>9</td>\n      <td>0</td>\n      <td>1</td>\n      <td>0</td>\n      <td>1</td>\n    </tr>\n    <tr>\n      <td>10</td>\n      <td>0</td>\n      <td>1</td>\n      <td>0</td>\n      <td>1</td>\n    </tr>\n    <tr>\n      <td>11</td>\n      <td>0</td>\n      <td>1</td>\n      <td>1</td>\n      <td>1</td>\n    </tr>\n    <tr>\n      <td>12</td>\n      <td>0</td>\n      <td>1</td>\n      <td>1</td>\n      <td>1</td>\n    </tr>\n    <tr>\n      <td>13</td>\n      <td>0</td>\n      <td>1</td>\n      <td>1</td>\n      <td>0</td>\n    </tr>\n    <tr>\n      <td>14</td>\n      <td>0</td>\n      <td>1</td>\n      <td>0</td>\n      <td>0</td>\n    </tr>\n    <tr>\n      <td>15</td>\n      <td>1</td>\n      <td>1</td>\n      <td>1</td>\n      <td>1</td>\n    </tr>\n    <tr>\n      <td>16</td>\n      <td>1</td>\n      <td>1</td>\n      <td>0</td>\n      <td>0</td>\n    </tr>\n    <tr>\n      <td>17</td>\n      <td>1</td>\n      <td>1</td>\n      <td>1</td>\n      <td>1</td>\n    </tr>\n    <tr>\n      <td>18</td>\n      <td>1</td>\n      <td>1</td>\n      <td>1</td>\n      <td>1</td>\n    </tr>\n    <tr>\n      <td>19</td>\n      <td>1</td>\n      <td>1</td>\n      <td>1</td>\n      <td>1</td>\n    </tr>\n  </tbody>\n</table>\n</div>"
     },
     "metadata": {},
     "execution_count": 329
    }
   ],
   "source": [
    "f = lambda x: 1 if x >= 0.7 else 0\n",
    "\n",
    "df.iloc[:,3:].applymap(f)"
   ]
  },
  {
   "cell_type": "code",
   "execution_count": 334,
   "metadata": {},
   "outputs": [
    {
     "output_type": "execute_result",
     "data": {
      "text/plain": [
       "                 Position  N                              Samples  20379679  \\\n",
       "0   NC_045512.2|A|1987|G   4  20379679,20379900,20384092,20392100  0.0        \n",
       "1   NC_045512.2|A|23403|G  4  20379679,20379900,20384092,20392100  0.0        \n",
       "2   NC_045512.2|A|29407|G  4  20379679,20379900,20384092,20392100  0.0        \n",
       "3   NC_045512.2|C|12115|T  1  20384092                             0.0        \n",
       "4   NC_045512.2|C|14408|T  4  20379679,20379900,20384092,20392100  0.0        \n",
       "5   NC_045512.2|C|18129|T  4  20379679,20379900,20384092,20392100  0.0        \n",
       "6   NC_045512.2|C|2102|T   4  20379679,20379900,20384092,20392100  0.0        \n",
       "7   NC_045512.2|C|22208|T  4  20379679,20379900,20384092,20392100  0.0        \n",
       "8   NC_045512.2|C|22227|T  4  20379679,20379900,20384092,20392100  0.0        \n",
       "9   NC_045512.2|C|241|T    4  20379679,20379900,20384092,20392100  0.0        \n",
       "10  NC_045512.2|C|26801|G  4  20379679,20379900,20384092,20392100  0.0        \n",
       "11  NC_045512.2|C|27944|T  4  20379679,20379900,20384092,20392100  0.0        \n",
       "12  NC_045512.2|C|28932|T  4  20379679,20379900,20384092,20392100  0.0        \n",
       "13  NC_045512.2|C|3037|T   4  20379679,20379900,20384092,20392100  0.0        \n",
       "14  NC_045512.2|C|6286|T   4  20379679,20379900,20384092,20392100  0.0        \n",
       "15  NC_045512.2|G|21255|C  4  20379900,20384092,20392100           1.0        \n",
       "16  NC_045512.2|G|24197|T  4  20379679,20379900,20384092,20392100  1.0        \n",
       "17  NC_045512.2|G|29645|T  4  20379679,20379900,20384092,20392100  1.0        \n",
       "18  NC_045512.2|G|9802|T   4  20379679,20379900,20384092,20392100  1.0        \n",
       "19  NC_045512.2|T|445|C    4  20379679,20379900,20384092,20392100  1.0        \n",
       "\n",
       "    20379900  20384092  20392100  \n",
       "0   0.96      1.0       1.0       \n",
       "1   1.00      1.0       1.0       \n",
       "2   1.00      1.0       1.0       \n",
       "3   0.00      1.0       0.0       \n",
       "4   1.00      0.0       1.0       \n",
       "5   1.00      0.0       1.0       \n",
       "6   1.00      0.0       1.0       \n",
       "7   1.00      0.0       1.0       \n",
       "8   1.00      0.0       1.0       \n",
       "9   1.00      0.0       1.0       \n",
       "10  1.00      0.0       1.0       \n",
       "11  1.00      1.0       1.0       \n",
       "12  1.00      1.0       1.0       \n",
       "13  1.00      1.0       0.5       \n",
       "14  0.70      0.6       0.0       \n",
       "15  1.00      0.9       1.0       \n",
       "16  1.00      0.2       0.3       \n",
       "17  1.00      0.8       1.0       \n",
       "18  1.00      1.0       1.0       \n",
       "19  1.00      1.0       1.0       "
      ],
      "text/html": "<div>\n<style scoped>\n    .dataframe tbody tr th:only-of-type {\n        vertical-align: middle;\n    }\n\n    .dataframe tbody tr th {\n        vertical-align: top;\n    }\n\n    .dataframe thead th {\n        text-align: right;\n    }\n</style>\n<table border=\"1\" class=\"dataframe\">\n  <thead>\n    <tr style=\"text-align: right;\">\n      <th></th>\n      <th>Position</th>\n      <th>N</th>\n      <th>Samples</th>\n      <th>20379679</th>\n      <th>20379900</th>\n      <th>20384092</th>\n      <th>20392100</th>\n    </tr>\n  </thead>\n  <tbody>\n    <tr>\n      <td>0</td>\n      <td>NC_045512.2|A|1987|G</td>\n      <td>4</td>\n      <td>20379679,20379900,20384092,20392100</td>\n      <td>0.0</td>\n      <td>0.96</td>\n      <td>1.0</td>\n      <td>1.0</td>\n    </tr>\n    <tr>\n      <td>1</td>\n      <td>NC_045512.2|A|23403|G</td>\n      <td>4</td>\n      <td>20379679,20379900,20384092,20392100</td>\n      <td>0.0</td>\n      <td>1.00</td>\n      <td>1.0</td>\n      <td>1.0</td>\n    </tr>\n    <tr>\n      <td>2</td>\n      <td>NC_045512.2|A|29407|G</td>\n      <td>4</td>\n      <td>20379679,20379900,20384092,20392100</td>\n      <td>0.0</td>\n      <td>1.00</td>\n      <td>1.0</td>\n      <td>1.0</td>\n    </tr>\n    <tr>\n      <td>3</td>\n      <td>NC_045512.2|C|12115|T</td>\n      <td>1</td>\n      <td>20384092</td>\n      <td>0.0</td>\n      <td>0.00</td>\n      <td>1.0</td>\n      <td>0.0</td>\n    </tr>\n    <tr>\n      <td>4</td>\n      <td>NC_045512.2|C|14408|T</td>\n      <td>4</td>\n      <td>20379679,20379900,20384092,20392100</td>\n      <td>0.0</td>\n      <td>1.00</td>\n      <td>0.0</td>\n      <td>1.0</td>\n    </tr>\n    <tr>\n      <td>5</td>\n      <td>NC_045512.2|C|18129|T</td>\n      <td>4</td>\n      <td>20379679,20379900,20384092,20392100</td>\n      <td>0.0</td>\n      <td>1.00</td>\n      <td>0.0</td>\n      <td>1.0</td>\n    </tr>\n    <tr>\n      <td>6</td>\n      <td>NC_045512.2|C|2102|T</td>\n      <td>4</td>\n      <td>20379679,20379900,20384092,20392100</td>\n      <td>0.0</td>\n      <td>1.00</td>\n      <td>0.0</td>\n      <td>1.0</td>\n    </tr>\n    <tr>\n      <td>7</td>\n      <td>NC_045512.2|C|22208|T</td>\n      <td>4</td>\n      <td>20379679,20379900,20384092,20392100</td>\n      <td>0.0</td>\n      <td>1.00</td>\n      <td>0.0</td>\n      <td>1.0</td>\n    </tr>\n    <tr>\n      <td>8</td>\n      <td>NC_045512.2|C|22227|T</td>\n      <td>4</td>\n      <td>20379679,20379900,20384092,20392100</td>\n      <td>0.0</td>\n      <td>1.00</td>\n      <td>0.0</td>\n      <td>1.0</td>\n    </tr>\n    <tr>\n      <td>9</td>\n      <td>NC_045512.2|C|241|T</td>\n      <td>4</td>\n      <td>20379679,20379900,20384092,20392100</td>\n      <td>0.0</td>\n      <td>1.00</td>\n      <td>0.0</td>\n      <td>1.0</td>\n    </tr>\n    <tr>\n      <td>10</td>\n      <td>NC_045512.2|C|26801|G</td>\n      <td>4</td>\n      <td>20379679,20379900,20384092,20392100</td>\n      <td>0.0</td>\n      <td>1.00</td>\n      <td>0.0</td>\n      <td>1.0</td>\n    </tr>\n    <tr>\n      <td>11</td>\n      <td>NC_045512.2|C|27944|T</td>\n      <td>4</td>\n      <td>20379679,20379900,20384092,20392100</td>\n      <td>0.0</td>\n      <td>1.00</td>\n      <td>1.0</td>\n      <td>1.0</td>\n    </tr>\n    <tr>\n      <td>12</td>\n      <td>NC_045512.2|C|28932|T</td>\n      <td>4</td>\n      <td>20379679,20379900,20384092,20392100</td>\n      <td>0.0</td>\n      <td>1.00</td>\n      <td>1.0</td>\n      <td>1.0</td>\n    </tr>\n    <tr>\n      <td>13</td>\n      <td>NC_045512.2|C|3037|T</td>\n      <td>4</td>\n      <td>20379679,20379900,20384092,20392100</td>\n      <td>0.0</td>\n      <td>1.00</td>\n      <td>1.0</td>\n      <td>0.5</td>\n    </tr>\n    <tr>\n      <td>14</td>\n      <td>NC_045512.2|C|6286|T</td>\n      <td>4</td>\n      <td>20379679,20379900,20384092,20392100</td>\n      <td>0.0</td>\n      <td>0.70</td>\n      <td>0.6</td>\n      <td>0.0</td>\n    </tr>\n    <tr>\n      <td>15</td>\n      <td>NC_045512.2|G|21255|C</td>\n      <td>4</td>\n      <td>20379900,20384092,20392100</td>\n      <td>1.0</td>\n      <td>1.00</td>\n      <td>0.9</td>\n      <td>1.0</td>\n    </tr>\n    <tr>\n      <td>16</td>\n      <td>NC_045512.2|G|24197|T</td>\n      <td>4</td>\n      <td>20379679,20379900,20384092,20392100</td>\n      <td>1.0</td>\n      <td>1.00</td>\n      <td>0.2</td>\n      <td>0.3</td>\n    </tr>\n    <tr>\n      <td>17</td>\n      <td>NC_045512.2|G|29645|T</td>\n      <td>4</td>\n      <td>20379679,20379900,20384092,20392100</td>\n      <td>1.0</td>\n      <td>1.00</td>\n      <td>0.8</td>\n      <td>1.0</td>\n    </tr>\n    <tr>\n      <td>18</td>\n      <td>NC_045512.2|G|9802|T</td>\n      <td>4</td>\n      <td>20379679,20379900,20384092,20392100</td>\n      <td>1.0</td>\n      <td>1.00</td>\n      <td>1.0</td>\n      <td>1.0</td>\n    </tr>\n    <tr>\n      <td>19</td>\n      <td>NC_045512.2|T|445|C</td>\n      <td>4</td>\n      <td>20379679,20379900,20384092,20392100</td>\n      <td>1.0</td>\n      <td>1.00</td>\n      <td>1.0</td>\n      <td>1.0</td>\n    </tr>\n  </tbody>\n</table>\n</div>"
     },
     "metadata": {},
     "execution_count": 334
    }
   ],
   "source": [
    "df"
   ]
  },
  {
   "cell_type": "code",
   "execution_count": null,
   "metadata": {},
   "outputs": [],
   "source": []
  }
 ]
}