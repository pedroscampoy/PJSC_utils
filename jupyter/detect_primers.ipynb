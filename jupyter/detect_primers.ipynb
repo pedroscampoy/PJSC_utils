{
 "metadata": {
  "language_info": {
   "codemirror_mode": {
    "name": "ipython",
    "version": 3
   },
   "file_extension": ".py",
   "mimetype": "text/x-python",
   "name": "python",
   "nbconvert_exporter": "python",
   "pygments_lexer": "ipython3",
   "version": "3.7.4"
  },
  "orig_nbformat": 2,
  "kernelspec": {
   "name": "python374jvsc74a57bd0895b43306824f909dd8fc0fe81781e0d62fee5aa42332456ee4a77314d01a104",
   "display_name": "Python 3.7.4 64-bit ('base': conda)"
  }
 },
 "nbformat": 4,
 "nbformat_minor": 2,
 "cells": [
  {
   "cell_type": "code",
   "execution_count": 3,
   "metadata": {},
   "outputs": [],
   "source": [
    "import os\n",
    "import pandas as pd\n",
    "import numpy as np\n",
    "import gzip\n",
    "\n",
    "\n",
    "pd.set_option('display.max_columns', None)\n",
    "pd.set_option('display.max_rows', None)\n",
    "pd.set_option('display.max_colwidth', -1)"
   ]
  },
  {
   "cell_type": "code",
   "execution_count": 17,
   "metadata": {},
   "outputs": [],
   "source": [
    "fileR1 = \"/media/NASII/Datos/RAW_covid/21174136_S15_L001_R1_001.fastq.gz\"\n",
    "fileR2 = \"/media/NASII/Datos/RAW_covid/21174136_S15_L001_R2_001.fastq.gz\"\n",
    "\n",
    "primers = \"/home/laura/ANALYSIS/MISC/check_primers_ARTIC/nCoV-2019.tsv\""
   ]
  },
  {
   "cell_type": "code",
   "execution_count": 72,
   "metadata": {},
   "outputs": [],
   "source": [
    "with gzip.open('/media/NASII/Datos/RAW_covid/21170836_S10_L001_R1_001.fastq.gz','r') as f:        \n",
    "    content = f.read()\n",
    "    content_list = content.decode().split('\\n')\n",
    "    while '' in content_list:\n",
    "        content_list.remove('')\n",
    "    sequences = content_list[1::4]"
   ]
  },
  {
   "cell_type": "code",
   "execution_count": 73,
   "metadata": {},
   "outputs": [
    {
     "output_type": "execute_result",
     "data": {
      "text/plain": [
       "['CAATACCACCAGCTACTATAGATGCTGATATGTCCAAAGCACCAATAGGTTGAATTAGTGGTGTAAACATATTAGTAAGTAAATTTACAGCATCTACACCACAGAAAACTCCTGGTAAAGATCTGTAATAATCATTGTTAAGTACCCAT',\n",
       " 'CTAAAAAGGTAAAACCAACAGTGGTTGTTAATGCAGCCAATGTTTACCTTAAACATGGAGGAGGTGTTGCAGGAGCCTTAAATAAGGCTACTAACAATGC',\n",
       " 'CAACAAAGGGAGGTAGGTTTGTACTTGCACTGTTATCCGATTTACAGGATTTGAAATGGGCTAGATTCCCTAAGAGTGATGGAACTGGTACTATC',\n",
       " 'GTACTGAAGTCAGAGGACGCGCAGGGAATGGATAATCTTGCCTGCGAAGATCTAAAACCAGTCTCTGAAGAAGTAGTGGAAAATCCTACCATACAGAAAGACGTTCTTGAGTGTAATGTGAAAACTACCGAAGTTGTAGGAGACATTATA']"
      ]
     },
     "metadata": {},
     "execution_count": 73
    }
   ],
   "source": [
    "sequences[0:4]"
   ]
  },
  {
   "cell_type": "code",
   "execution_count": 74,
   "metadata": {},
   "outputs": [],
   "source": [
    "def reverse_complementary(sequence):\n",
    "    complementary = {'A':'T',\n",
    "                'T':'A',\n",
    "                'C':'G',\n",
    "                'G':'C'}\n",
    "    reverse = sequence[::-1]\n",
    "    reverse_complementary = [complementary[letter] for letter in reverse]\n",
    "\n",
    "    return ('').join(reverse_complementary)"
   ]
  },
  {
   "cell_type": "code",
   "execution_count": 76,
   "metadata": {},
   "outputs": [
    {
     "output_type": "stream",
     "name": "stdout",
     "text": [
      "58553\n103531\n"
     ]
    }
   ],
   "source": [
    "found_fw = []\n",
    "found_rv = []\n",
    "found = []\n",
    "\n",
    "with open(primers,'r') as f:\n",
    "    for line in f:\n",
    "        line_split = line.split(\"\\t\")\n",
    "        primer_name = line_split[0]\n",
    "        pool = line_split[1]\n",
    "        primer_sequence = line_split[2]\n",
    "        reversed_sequence = reverse_complementary(primer_sequence)\n",
    "\n",
    "        found_fw = found_fw + [pool for x in sequences if primer_sequence in x]\n",
    "        found_rv = found_rv + [pool for x in sequences if reversed_sequence in x]\n",
    "\n",
    "# found_rv = found_rv + [x for x in sequences if x.endswith(primer_sequence)]\n",
    "\n",
    "print(len(found_fw))\n",
    "print(len(found_rv))\n",
    "\n",
    "\n"
   ]
  },
  {
   "cell_type": "code",
   "execution_count": 77,
   "metadata": {},
   "outputs": [
    {
     "output_type": "execute_result",
     "data": {
      "text/plain": [
       "[['nCoV-2019_2', 57684], ['nCoV-2019_1', 869]]"
      ]
     },
     "metadata": {},
     "execution_count": 77
    }
   ],
   "source": [
    "[[x,found_fw.count(x)] for x in set(found_fw)]"
   ]
  },
  {
   "cell_type": "code",
   "execution_count": 78,
   "metadata": {},
   "outputs": [
    {
     "output_type": "execute_result",
     "data": {
      "text/plain": [
       "[['nCoV-2019_2', 102561], ['nCoV-2019_1', 970]]"
      ]
     },
     "metadata": {},
     "execution_count": 78
    }
   ],
   "source": [
    "[[x,found_rv.count(x)] for x in set(found_rv)]"
   ]
  },
  {
   "cell_type": "code",
   "execution_count": 67,
   "metadata": {},
   "outputs": [],
   "source": [
    "with gzip.open('/media/NASII/Datos/RAW_covid/20239283_R1.fastq.gz','r') as f:        \n",
    "    content = f.read()\n",
    "    content_list = content.decode().split('\\n')\n",
    "    while '' in content_list:\n",
    "        content_list.remove('')\n",
    "    sequences = content_list[1::4]"
   ]
  },
  {
   "cell_type": "code",
   "execution_count": 68,
   "metadata": {},
   "outputs": [
    {
     "output_type": "execute_result",
     "data": {
      "text/plain": [
       "['GTTAGAATTCCAAGCTATAACGCAGCCTGTAAAATCATCTGGTAATTTATAATTATAATCAGCAATCTTTCCAGTTTGCCC',\n",
       " 'ATGTGTACATTGGCGACCCTGCTCAATTACCTGCACCACGCACATTGCTAACTAAGGGCACACTAGAACCAGAATATTTCAATTCAGTGTGTAGACTTATGAAAACTATAGGTCCAGACATGTTCCTCGGAACTTGTCGGCGTTGTCCTG',\n",
       " 'GTGTTACATAGCCAAGTGGCATTGTAACAAGAGTTTCATTTAGATCGTTAAGTGTGTTGATAAGTGACGCTACAG',\n",
       " 'GGTATTATGTTCAAGGGAACACTACCCTCTCTTGCATTGTTGATTATGTTGTTGAGTGCATCATTATCCAACTTTCTAAGCATAGTGAAAAGCATTGTCTGCATAGAACTAGTAACTTTTGCCCTCTTGTCCTCAGATCTAGCCTGTTTAT',\n",
       " 'TTTCAAAAGGTGTCTGCAATTCATAGCTCTTTTCAGAACGTTCCGTGTACCAAGCAATTTCATGCTCATGTTCACGGCAGCAG',\n",
       " 'ATGCTATTCTTGGGTGGGAGTAGTCCCTGTGAATTCATATATCTAAACTCCTGTGTAGAAACTAAGTAATCATAAACACCAAGAGTCAGTCTAAAGTAGCGGTTGAGTAAACAAAAGAGGCCAAAGTAACAAGTACAAAAATAGCCTAAGA',\n",
       " 'GTAAGTACAAATGAAAGACATCAGCATACTCCTGATTAGGATGTTTAGTAAGTGGGTAAGCATCTATAGCTAAAGACACGAACCGTTCAATCATAAGTGTACCATCTGTTTTTACGATATCATCTACAAAACAGCCGGCCCCTAGGATT',\n",
       " 'TGCTTGTTCCAATTACTACAGTAGCTCCTCTAGTGGCGGCTATTGATTTCAATAATTTTTGATGAAACTGTCTATTGGTCATAGTACTACAGATAGAG',\n",
       " 'GTGTTTAAACCGTGTTTGTACTAATTATATGCCTTATTTCTTTACTTTATTGCTACAATTGTGTACTTTTACTAGAAGTACAAATTCTAGAATTAAAGCATCTATGCCGACTACTATAGCAA',\n",
       " 'ATACGACTCTGTCAGAGAGATTTTTAAGTGTGTCACTTAACATTTGTACAATCTTTATACGCACTACATTCCAAGGAAGTCCTTTGTACATAAGTGGTATGAGGTGTTTAAATTGATCTCCAGGCGGTGGTTTAGCACTAACTCTGGAAAA']"
      ]
     },
     "metadata": {},
     "execution_count": 68
    }
   ],
   "source": [
    "sequences[:10]"
   ]
  },
  {
   "cell_type": "code",
   "execution_count": 69,
   "metadata": {},
   "outputs": [
    {
     "output_type": "stream",
     "name": "stdout",
     "text": [
      "322200\n581576\n"
     ]
    }
   ],
   "source": [
    "found_fw = []\n",
    "found_rv = []\n",
    "\n",
    "with open(primers,'r') as f:\n",
    "    for line in f:\n",
    "        line_split = line.split(\"\\t\")\n",
    "        primer_name = line_split[0]\n",
    "        pool = line_split[1]\n",
    "        primer_sequence = line_split[2]\n",
    "        reversed_sequence = reverse_complementary(primer_sequence)\n",
    "\n",
    "        found_fw = found_fw + [pool for x in sequences if primer_sequence in x]\n",
    "        found_rv = found_rv + [pool for x in sequences if reversed_sequence in x]\n",
    "\n",
    "# found_rv = found_rv + [x for x in sequences if x.endswith(primer_sequence)]\n",
    "\n",
    "print(len(found_fw))\n",
    "print(len(found_rv))"
   ]
  },
  {
   "cell_type": "code",
   "execution_count": 70,
   "metadata": {},
   "outputs": [
    {
     "output_type": "execute_result",
     "data": {
      "text/plain": [
       "[['nCoV-2019_2', 152713], ['nCoV-2019_1', 169487]]"
      ]
     },
     "metadata": {},
     "execution_count": 70
    }
   ],
   "source": [
    "[[x,found_fw.count(x)] for x in set(found_fw)]"
   ]
  },
  {
   "cell_type": "code",
   "execution_count": 71,
   "metadata": {},
   "outputs": [
    {
     "output_type": "execute_result",
     "data": {
      "text/plain": [
       "[['nCoV-2019_2', 272247], ['nCoV-2019_1', 309329]]"
      ]
     },
     "metadata": {},
     "execution_count": 71
    }
   ],
   "source": [
    "[[x,found_rv.count(x)] for x in set(found_rv)]"
   ]
  }
 ]
}