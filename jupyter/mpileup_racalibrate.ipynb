{
 "metadata": {
  "language_info": {
   "codemirror_mode": {
    "name": "ipython",
    "version": 3
   },
   "file_extension": ".py",
   "mimetype": "text/x-python",
   "name": "python",
   "nbconvert_exporter": "python",
   "pygments_lexer": "ipython3",
   "version": "3.7.4-final"
  },
  "orig_nbformat": 2,
  "kernelspec": {
   "name": "Python 3.7.4 64-bit ('base': conda)",
   "display_name": "Python 3.7.4 64-bit ('base': conda)",
   "metadata": {
    "interpreter": {
     "hash": "895b43306824f909dd8fc0fe81781e0d62fee5aa42332456ee4a77314d01a104"
    }
   }
  }
 },
 "nbformat": 4,
 "nbformat_minor": 2,
 "cells": [
  {
   "cell_type": "code",
   "execution_count": 72,
   "metadata": {},
   "outputs": [],
   "source": [
    "import os\n",
    "import sys\n",
    "import pandas as pd\n",
    "import subprocess"
   ]
  },
  {
   "cell_type": "code",
   "execution_count": 4,
   "metadata": {},
   "outputs": [],
   "source": [
    "input_matrix = '/home/laura/ANALYSIS/VARIANT_CALLING/COVID/Compare/test_recalibrate/compare/compare.tsv'\n",
    "bam_folder = '/home/laura/ANALYSIS/VARIANT_CALLING/COVID/Compare/test_recalibrate/Bam'"
   ]
  },
  {
   "cell_type": "code",
   "execution_count": 108,
   "metadata": {},
   "outputs": [],
   "source": [
    "df_matrix = pd.read_csv(input_matrix, sep=\"\\t\")"
   ]
  },
  {
   "cell_type": "code",
   "execution_count": 109,
   "metadata": {},
   "outputs": [
    {
     "output_type": "execute_result",
     "data": {
      "text/plain": "                Position   N  \\\n8    MN908947.3|C|6286|T  10   \n9   MN908947.3|G|21255|C   5   \n10  MN908947.3|G|29645|T  10   \n11  MN908947.3|T|29623|C   1   \n12    MN908947.3|T|445|C   8   \n\n                                              Samples  20273789  20306625  \\\n8   20273789,20306625,20273588,20279180BIS,2028989...         1         1   \n9     20279180BIS,20277245,20279180,20261163,20297088         0         0   \n10  20273789,20306625,20273588,20279180BIS,2028989...         1         1   \n11                                           20277245         0         0   \n12  20273789,20306625,20273588,20289895,20277245,2...         1         1   \n\n    20273588  20279180BIS  20289895  20277245  20279180  20286419  20261163  \\\n8          1            1         1         1         1         1         1   \n9          0            1         0         1         1         0         1   \n10         1            1         1         1         1         1         1   \n11         0            0         0         1         0         0         0   \n12         1            0         1         1         0         1         1   \n\n    20297088  \n8          1  \n9          1  \n10         1  \n11         0  \n12         1  ",
      "text/html": "<div>\n<style scoped>\n    .dataframe tbody tr th:only-of-type {\n        vertical-align: middle;\n    }\n\n    .dataframe tbody tr th {\n        vertical-align: top;\n    }\n\n    .dataframe thead th {\n        text-align: right;\n    }\n</style>\n<table border=\"1\" class=\"dataframe\">\n  <thead>\n    <tr style=\"text-align: right;\">\n      <th></th>\n      <th>Position</th>\n      <th>N</th>\n      <th>Samples</th>\n      <th>20273789</th>\n      <th>20306625</th>\n      <th>20273588</th>\n      <th>20279180BIS</th>\n      <th>20289895</th>\n      <th>20277245</th>\n      <th>20279180</th>\n      <th>20286419</th>\n      <th>20261163</th>\n      <th>20297088</th>\n    </tr>\n  </thead>\n  <tbody>\n    <tr>\n      <td>8</td>\n      <td>MN908947.3|C|6286|T</td>\n      <td>10</td>\n      <td>20273789,20306625,20273588,20279180BIS,2028989...</td>\n      <td>1</td>\n      <td>1</td>\n      <td>1</td>\n      <td>1</td>\n      <td>1</td>\n      <td>1</td>\n      <td>1</td>\n      <td>1</td>\n      <td>1</td>\n      <td>1</td>\n    </tr>\n    <tr>\n      <td>9</td>\n      <td>MN908947.3|G|21255|C</td>\n      <td>5</td>\n      <td>20279180BIS,20277245,20279180,20261163,20297088</td>\n      <td>0</td>\n      <td>0</td>\n      <td>0</td>\n      <td>1</td>\n      <td>0</td>\n      <td>1</td>\n      <td>1</td>\n      <td>0</td>\n      <td>1</td>\n      <td>1</td>\n    </tr>\n    <tr>\n      <td>10</td>\n      <td>MN908947.3|G|29645|T</td>\n      <td>10</td>\n      <td>20273789,20306625,20273588,20279180BIS,2028989...</td>\n      <td>1</td>\n      <td>1</td>\n      <td>1</td>\n      <td>1</td>\n      <td>1</td>\n      <td>1</td>\n      <td>1</td>\n      <td>1</td>\n      <td>1</td>\n      <td>1</td>\n    </tr>\n    <tr>\n      <td>11</td>\n      <td>MN908947.3|T|29623|C</td>\n      <td>1</td>\n      <td>20277245</td>\n      <td>0</td>\n      <td>0</td>\n      <td>0</td>\n      <td>0</td>\n      <td>0</td>\n      <td>1</td>\n      <td>0</td>\n      <td>0</td>\n      <td>0</td>\n      <td>0</td>\n    </tr>\n    <tr>\n      <td>12</td>\n      <td>MN908947.3|T|445|C</td>\n      <td>8</td>\n      <td>20273789,20306625,20273588,20289895,20277245,2...</td>\n      <td>1</td>\n      <td>1</td>\n      <td>1</td>\n      <td>0</td>\n      <td>1</td>\n      <td>1</td>\n      <td>0</td>\n      <td>1</td>\n      <td>1</td>\n      <td>1</td>\n    </tr>\n  </tbody>\n</table>\n</div>"
     },
     "metadata": {},
     "execution_count": 109
    }
   ],
   "source": [
    "df_matrix.tail()"
   ]
  },
  {
   "cell_type": "code",
   "execution_count": 111,
   "metadata": {
    "tags": []
   },
   "outputs": [
    {
     "output_type": "stream",
     "name": "stdout",
     "text": "SAMPLE: 20273789 has been corrected in position 21255: 0=>1\nSAMPLE: 20306625 has been corrected in position 21255: 0=>1\nSAMPLE: 20273588 has been corrected in position 21255: 0=>1\nSAMPLE: 20289895 has been corrected in position 21255: 0=>1\nSAMPLE: 20286419 has been corrected in position 21255: 0=>1\n[1, 1, 1, 1, 1, 1, 1, 1, 1, 1]\n[0, 0, 0, 0, 0, 1, 0, 0, 0, 0]\nWARNING: SAMPLE: 20279180BIS has 0 depth in position 445\nSAMPLE: 20279180 has been corrected in position 445: 0=>1\n[1, 1, 1, '!', 1, 1, 1, 1, 1, 1]\n"
    },
    {
     "output_type": "execute_result",
     "data": {
      "text/plain": "                Position   N  \\\n0   MN908947.3|A|23403|G  10   \n1   MN908947.3|C|14408|T  10   \n2   MN908947.3|C|22227|T  10   \n3     MN908947.3|C|241|T  10   \n4   MN908947.3|C|26801|G  10   \n5   MN908947.3|C|27944|T  10   \n6   MN908947.3|C|28932|T  10   \n7    MN908947.3|C|3037|T  10   \n8    MN908947.3|C|6286|T  10   \n9   MN908947.3|G|21255|C  10   \n10  MN908947.3|G|29645|T  10   \n11  MN908947.3|T|29623|C   1   \n12    MN908947.3|T|445|C   9   \n\n                                              Samples  20273789  20306625  \\\n0   20273789,20306625,20273588,20279180BIS,2028989...         1         1   \n1   20273789,20306625,20273588,20279180BIS,2028989...         1         1   \n2   20273789,20306625,20273588,20279180BIS,2028989...         1         1   \n3   20273789,20306625,20273588,20279180BIS,2028989...         1         1   \n4   20273789,20306625,20273588,20279180BIS,2028989...         1         1   \n5   20273789,20306625,20273588,20279180BIS,2028989...         1         1   \n6   20273789,20306625,20273588,20279180BIS,2028989...         1         1   \n7   20273789,20306625,20273588,20279180BIS,2028989...         1         1   \n8   20273789,20306625,20273588,20279180BIS,2028989...         1         1   \n9     20279180BIS,20277245,20279180,20261163,20297088         1         1   \n10  20273789,20306625,20273588,20279180BIS,2028989...         1         1   \n11                                           20277245         0         0   \n12  20273789,20306625,20273588,20289895,20277245,2...         1         1   \n\n    20273588 20279180BIS  20289895  20277245  20279180  20286419  20261163  \\\n0          1           1         1         1         1         1         1   \n1          1           1         1         1         1         1         1   \n2          1           1         1         1         1         1         1   \n3          1           1         1         1         1         1         1   \n4          1           1         1         1         1         1         1   \n5          1           1         1         1         1         1         1   \n6          1           1         1         1         1         1         1   \n7          1           1         1         1         1         1         1   \n8          1           1         1         1         1         1         1   \n9          1           1         1         1         1         1         1   \n10         1           1         1         1         1         1         1   \n11         0           0         0         1         0         0         0   \n12         1           !         1         1         1         1         1   \n\n    20297088  \n0          1  \n1          1  \n2          1  \n3          1  \n4          1  \n5          1  \n6          1  \n7          1  \n8          1  \n9          1  \n10         1  \n11         0  \n12         1  ",
      "text/html": "<div>\n<style scoped>\n    .dataframe tbody tr th:only-of-type {\n        vertical-align: middle;\n    }\n\n    .dataframe tbody tr th {\n        vertical-align: top;\n    }\n\n    .dataframe thead th {\n        text-align: right;\n    }\n</style>\n<table border=\"1\" class=\"dataframe\">\n  <thead>\n    <tr style=\"text-align: right;\">\n      <th></th>\n      <th>Position</th>\n      <th>N</th>\n      <th>Samples</th>\n      <th>20273789</th>\n      <th>20306625</th>\n      <th>20273588</th>\n      <th>20279180BIS</th>\n      <th>20289895</th>\n      <th>20277245</th>\n      <th>20279180</th>\n      <th>20286419</th>\n      <th>20261163</th>\n      <th>20297088</th>\n    </tr>\n  </thead>\n  <tbody>\n    <tr>\n      <td>0</td>\n      <td>MN908947.3|A|23403|G</td>\n      <td>10</td>\n      <td>20273789,20306625,20273588,20279180BIS,2028989...</td>\n      <td>1</td>\n      <td>1</td>\n      <td>1</td>\n      <td>1</td>\n      <td>1</td>\n      <td>1</td>\n      <td>1</td>\n      <td>1</td>\n      <td>1</td>\n      <td>1</td>\n    </tr>\n    <tr>\n      <td>1</td>\n      <td>MN908947.3|C|14408|T</td>\n      <td>10</td>\n      <td>20273789,20306625,20273588,20279180BIS,2028989...</td>\n      <td>1</td>\n      <td>1</td>\n      <td>1</td>\n      <td>1</td>\n      <td>1</td>\n      <td>1</td>\n      <td>1</td>\n      <td>1</td>\n      <td>1</td>\n      <td>1</td>\n    </tr>\n    <tr>\n      <td>2</td>\n      <td>MN908947.3|C|22227|T</td>\n      <td>10</td>\n      <td>20273789,20306625,20273588,20279180BIS,2028989...</td>\n      <td>1</td>\n      <td>1</td>\n      <td>1</td>\n      <td>1</td>\n      <td>1</td>\n      <td>1</td>\n      <td>1</td>\n      <td>1</td>\n      <td>1</td>\n      <td>1</td>\n    </tr>\n    <tr>\n      <td>3</td>\n      <td>MN908947.3|C|241|T</td>\n      <td>10</td>\n      <td>20273789,20306625,20273588,20279180BIS,2028989...</td>\n      <td>1</td>\n      <td>1</td>\n      <td>1</td>\n      <td>1</td>\n      <td>1</td>\n      <td>1</td>\n      <td>1</td>\n      <td>1</td>\n      <td>1</td>\n      <td>1</td>\n    </tr>\n    <tr>\n      <td>4</td>\n      <td>MN908947.3|C|26801|G</td>\n      <td>10</td>\n      <td>20273789,20306625,20273588,20279180BIS,2028989...</td>\n      <td>1</td>\n      <td>1</td>\n      <td>1</td>\n      <td>1</td>\n      <td>1</td>\n      <td>1</td>\n      <td>1</td>\n      <td>1</td>\n      <td>1</td>\n      <td>1</td>\n    </tr>\n    <tr>\n      <td>5</td>\n      <td>MN908947.3|C|27944|T</td>\n      <td>10</td>\n      <td>20273789,20306625,20273588,20279180BIS,2028989...</td>\n      <td>1</td>\n      <td>1</td>\n      <td>1</td>\n      <td>1</td>\n      <td>1</td>\n      <td>1</td>\n      <td>1</td>\n      <td>1</td>\n      <td>1</td>\n      <td>1</td>\n    </tr>\n    <tr>\n      <td>6</td>\n      <td>MN908947.3|C|28932|T</td>\n      <td>10</td>\n      <td>20273789,20306625,20273588,20279180BIS,2028989...</td>\n      <td>1</td>\n      <td>1</td>\n      <td>1</td>\n      <td>1</td>\n      <td>1</td>\n      <td>1</td>\n      <td>1</td>\n      <td>1</td>\n      <td>1</td>\n      <td>1</td>\n    </tr>\n    <tr>\n      <td>7</td>\n      <td>MN908947.3|C|3037|T</td>\n      <td>10</td>\n      <td>20273789,20306625,20273588,20279180BIS,2028989...</td>\n      <td>1</td>\n      <td>1</td>\n      <td>1</td>\n      <td>1</td>\n      <td>1</td>\n      <td>1</td>\n      <td>1</td>\n      <td>1</td>\n      <td>1</td>\n      <td>1</td>\n    </tr>\n    <tr>\n      <td>8</td>\n      <td>MN908947.3|C|6286|T</td>\n      <td>10</td>\n      <td>20273789,20306625,20273588,20279180BIS,2028989...</td>\n      <td>1</td>\n      <td>1</td>\n      <td>1</td>\n      <td>1</td>\n      <td>1</td>\n      <td>1</td>\n      <td>1</td>\n      <td>1</td>\n      <td>1</td>\n      <td>1</td>\n    </tr>\n    <tr>\n      <td>9</td>\n      <td>MN908947.3|G|21255|C</td>\n      <td>10</td>\n      <td>20279180BIS,20277245,20279180,20261163,20297088</td>\n      <td>1</td>\n      <td>1</td>\n      <td>1</td>\n      <td>1</td>\n      <td>1</td>\n      <td>1</td>\n      <td>1</td>\n      <td>1</td>\n      <td>1</td>\n      <td>1</td>\n    </tr>\n    <tr>\n      <td>10</td>\n      <td>MN908947.3|G|29645|T</td>\n      <td>10</td>\n      <td>20273789,20306625,20273588,20279180BIS,2028989...</td>\n      <td>1</td>\n      <td>1</td>\n      <td>1</td>\n      <td>1</td>\n      <td>1</td>\n      <td>1</td>\n      <td>1</td>\n      <td>1</td>\n      <td>1</td>\n      <td>1</td>\n    </tr>\n    <tr>\n      <td>11</td>\n      <td>MN908947.3|T|29623|C</td>\n      <td>1</td>\n      <td>20277245</td>\n      <td>0</td>\n      <td>0</td>\n      <td>0</td>\n      <td>0</td>\n      <td>0</td>\n      <td>1</td>\n      <td>0</td>\n      <td>0</td>\n      <td>0</td>\n      <td>0</td>\n    </tr>\n    <tr>\n      <td>12</td>\n      <td>MN908947.3|T|445|C</td>\n      <td>9</td>\n      <td>20273789,20306625,20273588,20289895,20277245,2...</td>\n      <td>1</td>\n      <td>1</td>\n      <td>1</td>\n      <td>!</td>\n      <td>1</td>\n      <td>1</td>\n      <td>1</td>\n      <td>1</td>\n      <td>1</td>\n      <td>1</td>\n    </tr>\n  </tbody>\n</table>\n</div>"
     },
     "metadata": {},
     "execution_count": 111
    }
   ],
   "source": [
    "recalibrate_ddbb_vcf(df_matrix, bam_folder)"
   ]
  },
  {
   "cell_type": "code",
   "execution_count": 110,
   "metadata": {},
   "outputs": [],
   "source": [
    "def recalibrate_ddbb_vcf(snp_matrix_ddbb, bam_folder):\n",
    "    \n",
    "    df_matrix = snp_matrix_ddbb\n",
    "    \n",
    "    sample_list_matrix = df_matrix.columns[3:]\n",
    "    n_samples = len(sample_list_matrix)\n",
    "    \n",
    "    list_index_dropped = []\n",
    "    #Iterate over non unanimous positions \n",
    "    for index, data_row in df_matrix[df_matrix.N < n_samples].iloc[:,3:].iterrows():\n",
    "        #Extract its position\n",
    "        whole_position = df_matrix.loc[index,\"Position\"]\n",
    "        row_reference = whole_position.split('|')[0]\n",
    "        row_position = int(whole_position.split('|')[2])\n",
    "        row_alt_snp = whole_position.split('|')[3]\n",
    "\n",
    "        #Use enumerate to retrieve column index (column ondex + 3)\n",
    "        #find positions with frequency >80% in mpileup execution\n",
    "        #Returns ! for coverage 0\n",
    "        new_presence_row = [recheck_variant_mpileup(row_reference, row_position, row_alt_snp, df_matrix.columns[n + 3], x, bam_folder) for n,x in enumerate(data_row)]\n",
    "        \n",
    "        df_matrix.iloc[index, 3:] = new_presence_row\n",
    "        df_matrix.loc[index, 'N'] = sum([x == 1 for x in new_presence_row])\n",
    "        #logger.info(new_presence_row)\n",
    "\n",
    "    return df_matrix"
   ]
  },
  {
   "cell_type": "code",
   "execution_count": 106,
   "metadata": {},
   "outputs": [],
   "source": [
    "def recheck_variant_mpileup(reference_id, position, alt_snp, sample, previous_binary, bam_folder):\n",
    "    \"\"\"\n",
    "    https://www.biostars.org/p/254287/\n",
    "    In the pileup format (without -u or -g), each line represents a genomic position, consisting of chromosome name, 1-based coordinate, reference base, the number of reads covering the site, read bases, base qualities and alignment mapping qualities. Information on match, mismatch, indel, strand, mapping quality and start and end of a read are all encoded at the read base column. At this column, a dot stands for a match to the reference base on the forward strand, a comma for a match on the reverse strand, a '>' or '<' for a reference skip, ACGTN for a mismatch on the forward strand and acgtn for a mismatch on the reverse strand. A pattern \\+[0-9]+[ACGTNacgtn]+ indicates there is an insertion between this reference position and the next reference position. The length of the insertion is given by the integer in the pattern, followed by the inserted sequence. Similarly, a pattern -[0-9]+[ACGTNacgtn]+ represents a deletion from the reference. The deleted bases will be presented as * in the following lines. Also at the read base column, a symbol ^ marks the start of a read. The ASCII of the character following ^ minus 33 gives the mapping quality. A symbol $ marks the end of a read segment\n",
    "    \"\"\"\n",
    "    previous_binary = int(previous_binary)\n",
    "    position = int(position)\n",
    "\n",
    "    #Identify correct bam\n",
    "    for root, _, files in os.walk(bam_folder):\n",
    "        for name in files:\n",
    "            filename = os.path.join(root, name)\n",
    "            sample_file = name.split('.')[0]\n",
    "            if name.startswith(sample) and sample_file == sample and name.endswith(\".bam\"):\n",
    "                bam_file = filename\n",
    "    #format position for mpileup execution (NC_000962.3:632455-632455)\n",
    "    position_format = reference_id + \":\" + str(position) + \"-\" + str(position)\n",
    "    \n",
    "    #Execute command and retrieve output\n",
    "    cmd = [\"samtools\", \"mpileup\", \"-aa\", \"-r\", position_format, bam_file]\n",
    "    #print(cmd)\n",
    "    text_mpileup = subprocess.run(cmd,stdout=subprocess.PIPE, stderr=subprocess.PIPE, check=True, universal_newlines=True) \n",
    "    split_mpileup = text_mpileup.stdout.split()\n",
    "    #Extract 5th column to find variants\n",
    "    mpileup_reference = split_mpileup[0]\n",
    "    mpileup_position = int(split_mpileup[1])\n",
    "    mpileup_depth = split_mpileup[3]\n",
    "    mpileup_variants = split_mpileup[4]\n",
    "    variant_list = list(mpileup_variants)\n",
    "    variant_upper_list = [x.upper() for x in variant_list]\n",
    "\n",
    "    most_counted_variant = max(set(variant_upper_list), key = variant_upper_list.count)\n",
    "    count_all_variants = {x:variant_upper_list.count(x) for x in variant_upper_list}\n",
    "    freq_most_frequent = count_all_variants[most_counted_variant]/len(variant_upper_list)\n",
    "\n",
    "    if mpileup_depth == '0':\n",
    "        print('WARNING: SAMPLE: {} has 0 depth in position {}'.format(sample, position))\n",
    "        return '!'\n",
    "    if freq_most_frequent <= 0.8:\n",
    "        print('SAMPLE: {} has heterozygous position at {} with frequency'.format(sample, position, freq_most_frequent))\n",
    "\n",
    "\n",
    "    if reference_id != mpileup_reference:\n",
    "        print('ERROR: References are different')\n",
    "        sys.exit(1)\n",
    "    else:\n",
    "        if (most_counted_variant == \".\") or (most_counted_variant == \",\") or (most_counted_variant == \"*\") or (freq_most_frequent < 0.8) or (most_counted_variant != alt_snp):\n",
    "            if previous_binary != 0:\n",
    "                print('SAMPLE: {} has been corrected in position {}: {}=>0'.format(sample, position, previous_binary))\n",
    "            return 0\n",
    "        elif (most_counted_variant == alt_snp) and (freq_most_frequent >= 0.8):\n",
    "            if previous_binary != 1:\n",
    "                print('SAMPLE: {} has been corrected in position {}: {}=>1'.format(sample, position, previous_binary))\n",
    "            return 1"
   ]
  },
  {
   "cell_type": "code",
   "execution_count": 70,
   "metadata": {
    "tags": []
   },
   "outputs": [
    {
     "output_type": "stream",
     "name": "stdout",
     "text": "SAMPLE: blabla has 0 depth in position 250\n"
    }
   ],
   "source": [
    "print('SAMPLE: {} has 0 depth in position {}'.format('blabla', 250))"
   ]
  },
  {
   "cell_type": "code",
   "execution_count": 63,
   "metadata": {},
   "outputs": [
    {
     "output_type": "execute_result",
     "data": {
      "text/plain": "0.9895209580838323"
     },
     "metadata": {},
     "execution_count": 63
    }
   ],
   "source": [
    "recheck_variant_mpileup('MN908947.3', 14408, 'T', '20279180', '/home/laura/ANALYSIS/VARIANT_CALLING/COVID/Bam')"
   ]
  },
  {
   "cell_type": "code",
   "execution_count": 24,
   "metadata": {},
   "outputs": [],
   "source": [
    "alt_str='tt$tttttttttttTTTTTTTTTTTTTTTTTTTTTTTTTTTTTTCTTTTTTTTTTTTTTTTTTTTTTTTTTTTTTTTTTTTTTTTTTTTTTTTTTTTTTTTTTTTTTTTTTTTTTTTTTTTTTTTTTTTT$TTtT$TTTTTTTTTTTTTTTTTTTTTTTTTTTTTTTTTTTTTTTTTTTTTTTTTTTTTTTTTT$TTTTtTTTTTTTTTTTTTttTTTTTTTTTTTTTTTTTTTTTTTtTTTTTTTTTTTTTTTTTTTTTTTTTTTTTTTTTTTTTTTTT$TTTTTTTTTTTTTTtTTTTTTTTTTTTTTTTTTTTTTTTTTTTTTTTTTTTTTTTTTTTTTTTTTTTttTTTTTTTTTTTTTTTTTTTTTTTTTTTTTTTTTTTTTTTTTTTTTTTTTTTTTTTTTTTTTTTTTTTTTTTTTTTTTTT$TTTTTTTTTTTTTTTTTTTTTTTTTTTTTTTTTTTTTTTTtTTTTTTTTTTTTTTTTtTTTTTTTTTTTTTTTTTTTTTTTTTTTtTTTTTTTTTTTTTTTTTTTTTTTTTTTTTTTTTTTTTTTTTTTTTTTTTTTTTTTTTTTTTTTTTTTTTTTTTTTTTTTTTTTTTTTTTTTTTTTTTTTTTTTTTTTTTTTTTTTtTTTTTTTTTTTTTTTTTTTTTTTTTtTTTTTTTTTT'"
   ]
  },
  {
   "cell_type": "code",
   "execution_count": 29,
   "metadata": {},
   "outputs": [],
   "source": [
    "alt_list = list(alt_str)"
   ]
  },
  {
   "cell_type": "code",
   "execution_count": 34,
   "metadata": {},
   "outputs": [],
   "source": [
    "upper_list = [x.upper() for x in alt_list]"
   ]
  },
  {
   "cell_type": "code",
   "execution_count": 30,
   "metadata": {},
   "outputs": [
    {
     "output_type": "execute_result",
     "data": {
      "text/plain": "'T'"
     },
     "metadata": {},
     "execution_count": 30
    }
   ],
   "source": [
    "max(set(upper_list), key = upper_list.count)"
   ]
  },
  {
   "cell_type": "code",
   "execution_count": 55,
   "metadata": {},
   "outputs": [],
   "source": [
    "count_all_variants = {x:upper_list.count(x) for x in upper_list}"
   ]
  },
  {
   "cell_type": "code",
   "execution_count": 56,
   "metadata": {},
   "outputs": [
    {
     "output_type": "execute_result",
     "data": {
      "text/plain": "{'T': 661, '$': 6, 'C': 1}"
     },
     "metadata": {},
     "execution_count": 56
    }
   ],
   "source": [
    "count_all_variants"
   ]
  },
  {
   "cell_type": "code",
   "execution_count": 57,
   "metadata": {},
   "outputs": [
    {
     "output_type": "execute_result",
     "data": {
      "text/plain": "1"
     },
     "metadata": {},
     "execution_count": 57
    }
   ],
   "source": [
    "count_all_variants['C']"
   ]
  },
  {
   "cell_type": "code",
   "execution_count": null,
   "metadata": {},
   "outputs": [],
   "source": []
  }
 ]
}