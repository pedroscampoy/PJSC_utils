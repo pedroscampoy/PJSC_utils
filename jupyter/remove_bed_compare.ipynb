{
 "metadata": {
  "language_info": {
   "codemirror_mode": {
    "name": "ipython",
    "version": 3
   },
   "file_extension": ".py",
   "mimetype": "text/x-python",
   "name": "python",
   "nbconvert_exporter": "python",
   "pygments_lexer": "ipython3",
   "version": "3.7.4-final"
  },
  "orig_nbformat": 2,
  "kernelspec": {
   "name": "python3",
   "display_name": "Python 3",
   "language": "python"
  }
 },
 "nbformat": 4,
 "nbformat_minor": 2,
 "cells": [
  {
   "cell_type": "code",
   "execution_count": 1,
   "metadata": {},
   "outputs": [],
   "source": [
    "import os\n",
    "import pandas as pd\n",
    "import numpy as np\n",
    "import re\n",
    "\n",
    "pd.set_option('display.max_columns', None)\n",
    "pd.set_option('display.max_rows', None)\n",
    "pd.set_option('display.max_colwidth', -1)"
   ]
  },
  {
   "cell_type": "code",
   "execution_count": 6,
   "metadata": {},
   "outputs": [],
   "source": [
    "file_intermediate = \"/home/laura/ANALYSIS/VARIANT_CALLING/Deletion_UK_remove/Compare/2021-01-21_Deletion_UK_remove/Deletion_UK_remove.revised_intermediate.tsv\"\n",
    "bed_file = \"/home/laura/DATABASES/Anotacion/COVID/UK_deletion.bed\""
   ]
  },
  {
   "cell_type": "code",
   "execution_count": 54,
   "metadata": {},
   "outputs": [],
   "source": [
    "def bed_to_df(bed_file):\n",
    "    \"\"\"\n",
    "    Import bed file separated by tabs into a pandas df\n",
    "    -Handle header line\n",
    "    -Handle with and without description (If there is no description adds true or false to annotated df)\n",
    "    \"\"\"\n",
    "    header_lines = 0\n",
    "    #Handle likely header by checking colums 2 and 3 as numbers\n",
    "    with open(bed_file, 'r') as f:\n",
    "        next_line = f.readline().strip()\n",
    "        line_split = next_line.split(None) #This split by any blank character\n",
    "        start = line_split[1]\n",
    "        end = line_split[2]\n",
    "        while not start.isdigit() and not end.isdigit():\n",
    "            header_lines = header_lines + 1\n",
    "            next_line = f.readline().strip()\n",
    "            line_split = next_line.split(None) #This split by any blank character\n",
    "            start = line_split[1]\n",
    "            end = line_split[2]\n",
    "\n",
    "    if header_lines == 0:\n",
    "        df = pd.read_csv(bed_file, sep=\"\\t\", header=None) #delim_whitespace=True\n",
    "    else:\n",
    "        df = pd.read_csv(bed_file, sep=\"\\t\", skiprows=header_lines, header=None) #delim_whitespace=True\n",
    "\n",
    "    df = df.iloc[:,0:4]\n",
    "    df.columns = [\"#CHROM\", \"start\", \"end\", \"description\"]\n",
    "        \n",
    "    return df"
   ]
  },
  {
   "cell_type": "code",
   "execution_count": 55,
   "metadata": {},
   "outputs": [],
   "source": [
    "df = pd.read_csv(file_intermediate, sep=\"\\t\")"
   ]
  },
  {
   "cell_type": "code",
   "execution_count": 56,
   "metadata": {},
   "outputs": [
    {
     "output_type": "execute_result",
     "data": {
      "text/plain": [
       "(40, 6)"
      ]
     },
     "metadata": {},
     "execution_count": 56
    }
   ],
   "source": [
    "df.shape"
   ]
  },
  {
   "cell_type": "code",
   "execution_count": 60,
   "metadata": {},
   "outputs": [],
   "source": [
    "def remove_bed_positions(df, bed_file):\n",
    "    bed_df = bed_to_df(bed_file)\n",
    "    for _, row in df.iterrows():\n",
    "        position_number = int(row.Position.split(\"|\")[2])\n",
    "        if any(start <= position_number <= end for (start, end) in zip(bed_df.start.values.tolist(), bed_df.end.values.tolist())):\n",
    "            df = df[df.Position != row.Position]\n",
    "    return df\n"
   ]
  },
  {
   "cell_type": "code",
   "execution_count": 63,
   "metadata": {},
   "outputs": [],
   "source": [
    "df = remove_bed_positions(df, bed_file)"
   ]
  },
  {
   "cell_type": "code",
   "execution_count": 64,
   "metadata": {},
   "outputs": [
    {
     "output_type": "execute_result",
     "data": {
      "text/plain": [
       "(35, 6)"
      ]
     },
     "metadata": {},
     "execution_count": 64
    }
   ],
   "source": [
    "df.shape"
   ]
  },
  {
   "cell_type": "code",
   "execution_count": 65,
   "metadata": {},
   "outputs": [
    {
     "output_type": "execute_result",
     "data": {
      "text/plain": [
       "                 Position  N                     Samples  20517531 21013270  \\\n",
       "0   NC_045512.2|C|241|T    3  20517531,21013270,20513699  1.00      1.0       \n",
       "1   NC_045512.2|C|913|T    3  20517531,21013270,20513699  1.00      0.93      \n",
       "2   NC_045512.2|C|3037|T   3  20517531,21013270,20513699  1.00      1.0       \n",
       "3   NC_045512.2|C|3267|T   3  20517531,21013270,20513699  1.00      0.96      \n",
       "4   NC_045512.2|C|5388|A   3  20517531,21013270,20513699  1.00      1.0       \n",
       "5   NC_045512.2|C|5986|T   3  20517531,21013270,20513699  1.00      0.95      \n",
       "6   NC_045512.2|T|6954|C   3  20517531,21013270,20513699  1.00      1.0       \n",
       "7   NC_045512.2|C|6968|T   3  20517531,21013270,20513699  1.00      1.0       \n",
       "11  NC_045512.2|C|14408|T  3  20517531,21013270,20513699  1.00      1.0       \n",
       "12  NC_045512.2|C|14676|T  3  20517531,21013270,20513699  1.00      0.93      \n",
       "13  NC_045512.2|C|15279|T  3  20517531,21013270,20513699  1.00      0.99      \n",
       "14  NC_045512.2|T|16176|C  3  20517531,21013270,20513699  1.00      0.98      \n",
       "15  NC_045512.2|C|16887|T  3  20517531,21013270,20513699  0.99      1.0       \n",
       "18  NC_045512.2|A|23063|T  3  20517531,21013270,20513699  1.00      1.0       \n",
       "19  NC_045512.2|C|23271|A  3  20517531,21013270,20513699  0.99      0.97      \n",
       "20  NC_045512.2|A|23403|G  3  20517531,21013270,20513699  1.00      1.0       \n",
       "21  NC_045512.2|C|23604|A  3  20517531,21013270,20513699  1.00      0.95      \n",
       "22  NC_045512.2|C|23709|T  3  20517531,21013270,20513699  1.00      0.95      \n",
       "23  NC_045512.2|T|24506|G  3  20517531,21013270,20513699  1.00      0.99      \n",
       "24  NC_045512.2|G|24914|C  3  20517531,21013270,20513699  1.00      1.0       \n",
       "25  NC_045512.2|C|27972|T  3  20517531,21013270,20513699  0.99      1.0       \n",
       "26  NC_045512.2|G|28048|T  3  20517531,21013270,20513699  1.00      1.0       \n",
       "27  NC_045512.2|A|28095|T  3  20517531,21013270,20513699  0.88      0.8       \n",
       "28  NC_045512.2|A|28111|G  3  20517531,21013270,20513699  1.00      1.0       \n",
       "29  NC_045512.2|G|28280|C  3  20517531,21013270,20513699  1.00      1.0       \n",
       "30  NC_045512.2|A|28281|T  3  20517531,21013270,20513699  1.00      1.0       \n",
       "31  NC_045512.2|T|28282|A  3  20517531,21013270,20513699  1.00      1.0       \n",
       "32  NC_045512.2|G|28881|A  3  20517531,21013270,20513699  0.98      1.0       \n",
       "33  NC_045512.2|G|28882|A  3  20517531,21013270,20513699  0.99      1.0       \n",
       "34  NC_045512.2|G|28883|C  3  20517531,21013270,20513699  0.99      1.0       \n",
       "35  NC_045512.2|C|28977|T  3  20517531,21013270,20513699  1.00      0.98      \n",
       "36  NC_045512.2|T|29589|C  3  20517531,21013270,20513699  1.00      1.0       \n",
       "37  NC_045512.2|C|4788|T   1  21013270                    0.00      0.54      \n",
       "38  NC_045512.2|G|10447|A  1  21013270                    0.00      0.26      \n",
       "39  NC_045512.2|G|25784|T  1  21013270                    0.00      0.12      \n",
       "\n",
       "   20513699  \n",
       "0   1.0      \n",
       "1   1.0      \n",
       "2   1.0      \n",
       "3   1.0      \n",
       "4   1.0      \n",
       "5   1.0      \n",
       "6   0.99     \n",
       "7   0.99     \n",
       "11  1.0      \n",
       "12  1.0      \n",
       "13  1.0      \n",
       "14  1.0      \n",
       "15  1.0      \n",
       "18  1.0      \n",
       "19  1.0      \n",
       "20  1.0      \n",
       "21  1.0      \n",
       "22  1.0      \n",
       "23  1.0      \n",
       "24  1.0      \n",
       "25  0.99     \n",
       "26  1.0      \n",
       "27  0.73     \n",
       "28  1.0      \n",
       "29  1.0      \n",
       "30  1.0      \n",
       "31  1.0      \n",
       "32  1.0      \n",
       "33  1.0      \n",
       "34  1.0      \n",
       "35  1.0      \n",
       "36  1.0      \n",
       "37  0        \n",
       "38  0        \n",
       "39  0        "
      ],
      "text/html": "<div>\n<style scoped>\n    .dataframe tbody tr th:only-of-type {\n        vertical-align: middle;\n    }\n\n    .dataframe tbody tr th {\n        vertical-align: top;\n    }\n\n    .dataframe thead th {\n        text-align: right;\n    }\n</style>\n<table border=\"1\" class=\"dataframe\">\n  <thead>\n    <tr style=\"text-align: right;\">\n      <th></th>\n      <th>Position</th>\n      <th>N</th>\n      <th>Samples</th>\n      <th>20517531</th>\n      <th>21013270</th>\n      <th>20513699</th>\n    </tr>\n  </thead>\n  <tbody>\n    <tr>\n      <td>0</td>\n      <td>NC_045512.2|C|241|T</td>\n      <td>3</td>\n      <td>20517531,21013270,20513699</td>\n      <td>1.00</td>\n      <td>1.0</td>\n      <td>1.0</td>\n    </tr>\n    <tr>\n      <td>1</td>\n      <td>NC_045512.2|C|913|T</td>\n      <td>3</td>\n      <td>20517531,21013270,20513699</td>\n      <td>1.00</td>\n      <td>0.93</td>\n      <td>1.0</td>\n    </tr>\n    <tr>\n      <td>2</td>\n      <td>NC_045512.2|C|3037|T</td>\n      <td>3</td>\n      <td>20517531,21013270,20513699</td>\n      <td>1.00</td>\n      <td>1.0</td>\n      <td>1.0</td>\n    </tr>\n    <tr>\n      <td>3</td>\n      <td>NC_045512.2|C|3267|T</td>\n      <td>3</td>\n      <td>20517531,21013270,20513699</td>\n      <td>1.00</td>\n      <td>0.96</td>\n      <td>1.0</td>\n    </tr>\n    <tr>\n      <td>4</td>\n      <td>NC_045512.2|C|5388|A</td>\n      <td>3</td>\n      <td>20517531,21013270,20513699</td>\n      <td>1.00</td>\n      <td>1.0</td>\n      <td>1.0</td>\n    </tr>\n    <tr>\n      <td>5</td>\n      <td>NC_045512.2|C|5986|T</td>\n      <td>3</td>\n      <td>20517531,21013270,20513699</td>\n      <td>1.00</td>\n      <td>0.95</td>\n      <td>1.0</td>\n    </tr>\n    <tr>\n      <td>6</td>\n      <td>NC_045512.2|T|6954|C</td>\n      <td>3</td>\n      <td>20517531,21013270,20513699</td>\n      <td>1.00</td>\n      <td>1.0</td>\n      <td>0.99</td>\n    </tr>\n    <tr>\n      <td>7</td>\n      <td>NC_045512.2|C|6968|T</td>\n      <td>3</td>\n      <td>20517531,21013270,20513699</td>\n      <td>1.00</td>\n      <td>1.0</td>\n      <td>0.99</td>\n    </tr>\n    <tr>\n      <td>11</td>\n      <td>NC_045512.2|C|14408|T</td>\n      <td>3</td>\n      <td>20517531,21013270,20513699</td>\n      <td>1.00</td>\n      <td>1.0</td>\n      <td>1.0</td>\n    </tr>\n    <tr>\n      <td>12</td>\n      <td>NC_045512.2|C|14676|T</td>\n      <td>3</td>\n      <td>20517531,21013270,20513699</td>\n      <td>1.00</td>\n      <td>0.93</td>\n      <td>1.0</td>\n    </tr>\n    <tr>\n      <td>13</td>\n      <td>NC_045512.2|C|15279|T</td>\n      <td>3</td>\n      <td>20517531,21013270,20513699</td>\n      <td>1.00</td>\n      <td>0.99</td>\n      <td>1.0</td>\n    </tr>\n    <tr>\n      <td>14</td>\n      <td>NC_045512.2|T|16176|C</td>\n      <td>3</td>\n      <td>20517531,21013270,20513699</td>\n      <td>1.00</td>\n      <td>0.98</td>\n      <td>1.0</td>\n    </tr>\n    <tr>\n      <td>15</td>\n      <td>NC_045512.2|C|16887|T</td>\n      <td>3</td>\n      <td>20517531,21013270,20513699</td>\n      <td>0.99</td>\n      <td>1.0</td>\n      <td>1.0</td>\n    </tr>\n    <tr>\n      <td>18</td>\n      <td>NC_045512.2|A|23063|T</td>\n      <td>3</td>\n      <td>20517531,21013270,20513699</td>\n      <td>1.00</td>\n      <td>1.0</td>\n      <td>1.0</td>\n    </tr>\n    <tr>\n      <td>19</td>\n      <td>NC_045512.2|C|23271|A</td>\n      <td>3</td>\n      <td>20517531,21013270,20513699</td>\n      <td>0.99</td>\n      <td>0.97</td>\n      <td>1.0</td>\n    </tr>\n    <tr>\n      <td>20</td>\n      <td>NC_045512.2|A|23403|G</td>\n      <td>3</td>\n      <td>20517531,21013270,20513699</td>\n      <td>1.00</td>\n      <td>1.0</td>\n      <td>1.0</td>\n    </tr>\n    <tr>\n      <td>21</td>\n      <td>NC_045512.2|C|23604|A</td>\n      <td>3</td>\n      <td>20517531,21013270,20513699</td>\n      <td>1.00</td>\n      <td>0.95</td>\n      <td>1.0</td>\n    </tr>\n    <tr>\n      <td>22</td>\n      <td>NC_045512.2|C|23709|T</td>\n      <td>3</td>\n      <td>20517531,21013270,20513699</td>\n      <td>1.00</td>\n      <td>0.95</td>\n      <td>1.0</td>\n    </tr>\n    <tr>\n      <td>23</td>\n      <td>NC_045512.2|T|24506|G</td>\n      <td>3</td>\n      <td>20517531,21013270,20513699</td>\n      <td>1.00</td>\n      <td>0.99</td>\n      <td>1.0</td>\n    </tr>\n    <tr>\n      <td>24</td>\n      <td>NC_045512.2|G|24914|C</td>\n      <td>3</td>\n      <td>20517531,21013270,20513699</td>\n      <td>1.00</td>\n      <td>1.0</td>\n      <td>1.0</td>\n    </tr>\n    <tr>\n      <td>25</td>\n      <td>NC_045512.2|C|27972|T</td>\n      <td>3</td>\n      <td>20517531,21013270,20513699</td>\n      <td>0.99</td>\n      <td>1.0</td>\n      <td>0.99</td>\n    </tr>\n    <tr>\n      <td>26</td>\n      <td>NC_045512.2|G|28048|T</td>\n      <td>3</td>\n      <td>20517531,21013270,20513699</td>\n      <td>1.00</td>\n      <td>1.0</td>\n      <td>1.0</td>\n    </tr>\n    <tr>\n      <td>27</td>\n      <td>NC_045512.2|A|28095|T</td>\n      <td>3</td>\n      <td>20517531,21013270,20513699</td>\n      <td>0.88</td>\n      <td>0.8</td>\n      <td>0.73</td>\n    </tr>\n    <tr>\n      <td>28</td>\n      <td>NC_045512.2|A|28111|G</td>\n      <td>3</td>\n      <td>20517531,21013270,20513699</td>\n      <td>1.00</td>\n      <td>1.0</td>\n      <td>1.0</td>\n    </tr>\n    <tr>\n      <td>29</td>\n      <td>NC_045512.2|G|28280|C</td>\n      <td>3</td>\n      <td>20517531,21013270,20513699</td>\n      <td>1.00</td>\n      <td>1.0</td>\n      <td>1.0</td>\n    </tr>\n    <tr>\n      <td>30</td>\n      <td>NC_045512.2|A|28281|T</td>\n      <td>3</td>\n      <td>20517531,21013270,20513699</td>\n      <td>1.00</td>\n      <td>1.0</td>\n      <td>1.0</td>\n    </tr>\n    <tr>\n      <td>31</td>\n      <td>NC_045512.2|T|28282|A</td>\n      <td>3</td>\n      <td>20517531,21013270,20513699</td>\n      <td>1.00</td>\n      <td>1.0</td>\n      <td>1.0</td>\n    </tr>\n    <tr>\n      <td>32</td>\n      <td>NC_045512.2|G|28881|A</td>\n      <td>3</td>\n      <td>20517531,21013270,20513699</td>\n      <td>0.98</td>\n      <td>1.0</td>\n      <td>1.0</td>\n    </tr>\n    <tr>\n      <td>33</td>\n      <td>NC_045512.2|G|28882|A</td>\n      <td>3</td>\n      <td>20517531,21013270,20513699</td>\n      <td>0.99</td>\n      <td>1.0</td>\n      <td>1.0</td>\n    </tr>\n    <tr>\n      <td>34</td>\n      <td>NC_045512.2|G|28883|C</td>\n      <td>3</td>\n      <td>20517531,21013270,20513699</td>\n      <td>0.99</td>\n      <td>1.0</td>\n      <td>1.0</td>\n    </tr>\n    <tr>\n      <td>35</td>\n      <td>NC_045512.2|C|28977|T</td>\n      <td>3</td>\n      <td>20517531,21013270,20513699</td>\n      <td>1.00</td>\n      <td>0.98</td>\n      <td>1.0</td>\n    </tr>\n    <tr>\n      <td>36</td>\n      <td>NC_045512.2|T|29589|C</td>\n      <td>3</td>\n      <td>20517531,21013270,20513699</td>\n      <td>1.00</td>\n      <td>1.0</td>\n      <td>1.0</td>\n    </tr>\n    <tr>\n      <td>37</td>\n      <td>NC_045512.2|C|4788|T</td>\n      <td>1</td>\n      <td>21013270</td>\n      <td>0.00</td>\n      <td>0.54</td>\n      <td>0</td>\n    </tr>\n    <tr>\n      <td>38</td>\n      <td>NC_045512.2|G|10447|A</td>\n      <td>1</td>\n      <td>21013270</td>\n      <td>0.00</td>\n      <td>0.26</td>\n      <td>0</td>\n    </tr>\n    <tr>\n      <td>39</td>\n      <td>NC_045512.2|G|25784|T</td>\n      <td>1</td>\n      <td>21013270</td>\n      <td>0.00</td>\n      <td>0.12</td>\n      <td>0</td>\n    </tr>\n  </tbody>\n</table>\n</div>"
     },
     "metadata": {},
     "execution_count": 65
    }
   ],
   "source": [
    "df"
   ]
  },
  {
   "cell_type": "code",
   "execution_count": null,
   "metadata": {},
   "outputs": [],
   "source": []
  }
 ]
}