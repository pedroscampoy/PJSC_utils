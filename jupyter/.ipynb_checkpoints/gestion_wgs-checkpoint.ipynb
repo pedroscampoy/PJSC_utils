{
 "cells": [
  {
   "cell_type": "code",
   "execution_count": 115,
   "metadata": {},
   "outputs": [],
   "source": [
    "import os\n",
    "import pandas as pd\n",
    "import numpy as np\n",
    "import re\n",
    "\n",
    "pd.set_option('display.max_columns', None)\n",
    "pd.set_option('display.max_rows', None)\n",
    "pd.set_option('display.max_colwidth', -1)"
   ]
  },
  {
   "cell_type": "code",
   "execution_count": 116,
   "metadata": {},
   "outputs": [],
   "source": [
    "compare_folder = \"/home/laura/ANALYSIS/VARIANT_CALLING/COVID/Compare/2021-04-17_COVID\"\n",
    "#compare_folder = \"/home/laura/ANALYSIS/MISC/Reinf_triple/compare\"\n",
    "pairwise_filename = [x for x in os.listdir(compare_folder) if '.snp.pairwise.tsv' in x][0]\n",
    "pairwise_file = os.path.join(compare_folder, pairwise_filename)\n",
    "pwdf = pd.read_csv(pairwise_file, sep=\"\\t\" , names=['sample_1', 'sample_2', 'dist'])"
   ]
  },
  {
   "cell_type": "code",
   "execution_count": 117,
   "metadata": {},
   "outputs": [
    {
     "data": {
      "text/html": [
       "<div>\n",
       "<style scoped>\n",
       "    .dataframe tbody tr th:only-of-type {\n",
       "        vertical-align: middle;\n",
       "    }\n",
       "\n",
       "    .dataframe tbody tr th {\n",
       "        vertical-align: top;\n",
       "    }\n",
       "\n",
       "    .dataframe thead th {\n",
       "        text-align: right;\n",
       "    }\n",
       "</style>\n",
       "<table border=\"1\" class=\"dataframe\">\n",
       "  <thead>\n",
       "    <tr style=\"text-align: right;\">\n",
       "      <th></th>\n",
       "      <th>sample_1</th>\n",
       "      <th>sample_2</th>\n",
       "      <th>dist</th>\n",
       "    </tr>\n",
       "  </thead>\n",
       "  <tbody>\n",
       "    <tr>\n",
       "      <td>0</td>\n",
       "      <td>20461953</td>\n",
       "      <td>20461953</td>\n",
       "      <td>0</td>\n",
       "    </tr>\n",
       "    <tr>\n",
       "      <td>1</td>\n",
       "      <td>20461953</td>\n",
       "      <td>21086712-BIS</td>\n",
       "      <td>13</td>\n",
       "    </tr>\n",
       "    <tr>\n",
       "      <td>2</td>\n",
       "      <td>20461953</td>\n",
       "      <td>20490128</td>\n",
       "      <td>10</td>\n",
       "    </tr>\n",
       "    <tr>\n",
       "      <td>3</td>\n",
       "      <td>20461953</td>\n",
       "      <td>21148461</td>\n",
       "      <td>13</td>\n",
       "    </tr>\n",
       "    <tr>\n",
       "      <td>4</td>\n",
       "      <td>20461953</td>\n",
       "      <td>21119979</td>\n",
       "      <td>35</td>\n",
       "    </tr>\n",
       "  </tbody>\n",
       "</table>\n",
       "</div>"
      ],
      "text/plain": [
       "   sample_1      sample_2  dist\n",
       "0  20461953  20461953      0   \n",
       "1  20461953  21086712-BIS  13  \n",
       "2  20461953  20490128      10  \n",
       "3  20461953  21148461      13  \n",
       "4  20461953  21119979      35  "
      ]
     },
     "execution_count": 117,
     "metadata": {},
     "output_type": "execute_result"
    }
   ],
   "source": [
    "pwdf.head()"
   ]
  },
  {
   "cell_type": "code",
   "execution_count": 118,
   "metadata": {},
   "outputs": [],
   "source": [
    "pwdf['sample_1'] = pwdf['sample_1'].astype(str)"
   ]
  },
  {
   "cell_type": "code",
   "execution_count": 119,
   "metadata": {},
   "outputs": [
    {
     "name": "stdout",
     "output_type": "stream",
     "text": [
      "<class 'pandas.core.frame.DataFrame'>\n",
      "RangeIndex: 7767369 entries, 0 to 7767368\n",
      "Data columns (total 3 columns):\n",
      "sample_1    object\n",
      "sample_2    object\n",
      "dist        int64\n",
      "dtypes: int64(1), object(2)\n",
      "memory usage: 177.8+ MB\n"
     ]
    }
   ],
   "source": [
    "pwdf.info()"
   ]
  },
  {
   "cell_type": "code",
   "execution_count": 120,
   "metadata": {},
   "outputs": [],
   "source": [
    "samples = list(set(pwdf.sample_1.tolist()))"
   ]
  },
  {
   "cell_type": "code",
   "execution_count": 121,
   "metadata": {},
   "outputs": [
    {
     "data": {
      "text/plain": [
       "2787"
      ]
     },
     "execution_count": 121,
     "metadata": {},
     "output_type": "execute_result"
    }
   ],
   "source": [
    "len(samples)"
   ]
  },
  {
   "cell_type": "code",
   "execution_count": 122,
   "metadata": {},
   "outputs": [
    {
     "data": {
      "text/plain": [
       "{str: 2787}"
      ]
     },
     "execution_count": 122,
     "metadata": {},
     "output_type": "execute_result"
    }
   ],
   "source": [
    "samples_type = [type(x) for x in samples]\n",
    "dict((x,samples_type.count(x)) for x in set(samples_type))"
   ]
  },
  {
   "cell_type": "code",
   "execution_count": 123,
   "metadata": {},
   "outputs": [],
   "source": [
    "wgs = pd.read_csv('/media/NASII/Datos/ANALYSIS/WGS_sequenced/WGS_sequenced.csv')\n",
    "#wgs = pd.read_csv('/home/laura/ANALYSIS/MISC/microreact/WGS_sequenced.csv')\n",
    "wgs = wgs.rename(columns={'Muestra': 'id', 'Fecha': 'full_date', 'SEXO' : 'SEX__autocolor', 'EDAD': 'AGE__autocolor', 'Día':'day', 'Mes' : 'month', 'Año':'year', 'RUN':'RUN__autocolor'})"
   ]
  },
  {
   "cell_type": "code",
   "execution_count": 124,
   "metadata": {},
   "outputs": [
    {
     "data": {
      "text/html": [
       "<div>\n",
       "<style scoped>\n",
       "    .dataframe tbody tr th:only-of-type {\n",
       "        vertical-align: middle;\n",
       "    }\n",
       "\n",
       "    .dataframe tbody tr th {\n",
       "        vertical-align: top;\n",
       "    }\n",
       "\n",
       "    .dataframe thead th {\n",
       "        text-align: right;\n",
       "    }\n",
       "</style>\n",
       "<table border=\"1\" class=\"dataframe\">\n",
       "  <thead>\n",
       "    <tr style=\"text-align: right;\">\n",
       "      <th></th>\n",
       "      <th>Apellidos</th>\n",
       "      <th>Nombre</th>\n",
       "      <th>NHC</th>\n",
       "      <th>CIPA</th>\n",
       "      <th>AGE__autocolor</th>\n",
       "      <th>SEX__autocolor</th>\n",
       "      <th>CENTRO SANITARIO</th>\n",
       "      <th>id</th>\n",
       "      <th>Sufijo</th>\n",
       "      <th>COV&gt;30X</th>\n",
       "      <th>RUN__autocolor</th>\n",
       "      <th>DEPARTMENT__autocolor</th>\n",
       "      <th>patient_microreact</th>\n",
       "      <th>full_date</th>\n",
       "      <th>day</th>\n",
       "      <th>month</th>\n",
       "      <th>year</th>\n",
       "      <th>Extracción Muestra</th>\n",
       "      <th>GenN2_Ct</th>\n",
       "      <th>CT1_PCR1</th>\n",
       "      <th>Antígeno COVID</th>\n",
       "    </tr>\n",
       "  </thead>\n",
       "  <tbody>\n",
       "    <tr>\n",
       "      <td>0</td>\n",
       "      <td>¡</td>\n",
       "      <td>FRANCISCO</td>\n",
       "      <td>2198204</td>\n",
       "      <td>NaN</td>\n",
       "      <td>71.122375</td>\n",
       "      <td>M</td>\n",
       "      <td>HOSPITAL GENERAL UNIVERSITARIO GREGORIO MARAÑÓN</td>\n",
       "      <td>20423238</td>\n",
       "      <td>NaN</td>\n",
       "      <td>3.63</td>\n",
       "      <td>RUN_10</td>\n",
       "      <td>NaN</td>\n",
       "      <td>NaN</td>\n",
       "      <td>28/10/2020</td>\n",
       "      <td>28.0</td>\n",
       "      <td>10.0</td>\n",
       "      <td>2020.0</td>\n",
       "      <td>EX. NASAL - FARÍNGEO</td>\n",
       "      <td>17.0</td>\n",
       "      <td>NaN</td>\n",
       "      <td>NaN</td>\n",
       "    </tr>\n",
       "    <tr>\n",
       "      <td>1</td>\n",
       "      <td>AAROUD</td>\n",
       "      <td>AHMIDOU</td>\n",
       "      <td>11031999</td>\n",
       "      <td>NaN</td>\n",
       "      <td>77.000000</td>\n",
       "      <td>M</td>\n",
       "      <td>HOSPITAL GENERAL UNIVERSITARIO GREGORIO MARAÑÓN</td>\n",
       "      <td>20097501</td>\n",
       "      <td>NaN</td>\n",
       "      <td>39.43</td>\n",
       "      <td>RUN_12</td>\n",
       "      <td>NaN</td>\n",
       "      <td>NaN</td>\n",
       "      <td>08/04/2020</td>\n",
       "      <td>8.0</td>\n",
       "      <td>4.0</td>\n",
       "      <td>2020.0</td>\n",
       "      <td>NaN</td>\n",
       "      <td>NaN</td>\n",
       "      <td>NaN</td>\n",
       "      <td>NaN</td>\n",
       "    </tr>\n",
       "  </tbody>\n",
       "</table>\n",
       "</div>"
      ],
      "text/plain": [
       "  Apellidos     Nombre       NHC CIPA  AGE__autocolor SEX__autocolor  \\\n",
       "0  ¡         FRANCISCO  2198204   NaN  71.122375       M               \n",
       "1  AAROUD    AHMIDOU    11031999  NaN  77.000000       M               \n",
       "\n",
       "                                  CENTRO SANITARIO        id Sufijo  COV>30X  \\\n",
       "0  HOSPITAL GENERAL UNIVERSITARIO GREGORIO MARAÑÓN  20423238  NaN    3.63      \n",
       "1  HOSPITAL GENERAL UNIVERSITARIO GREGORIO MARAÑÓN  20097501  NaN    39.43     \n",
       "\n",
       "  RUN__autocolor DEPARTMENT__autocolor  patient_microreact   full_date   day  \\\n",
       "0  RUN_10         NaN                  NaN                  28/10/2020  28.0   \n",
       "1  RUN_12         NaN                  NaN                  08/04/2020  8.0    \n",
       "\n",
       "   month    year    Extracción Muestra  GenN2_Ct CT1_PCR1 Antígeno COVID  \n",
       "0  10.0   2020.0  EX. NASAL - FARÍNGEO  17.0      NaN      NaN            \n",
       "1  4.0    2020.0  NaN                  NaN        NaN      NaN            "
      ]
     },
     "execution_count": 124,
     "metadata": {},
     "output_type": "execute_result"
    }
   ],
   "source": [
    "wgs.head(2)"
   ]
  },
  {
   "cell_type": "code",
   "execution_count": 125,
   "metadata": {},
   "outputs": [
    {
     "data": {
      "text/plain": [
       "Index(['Apellidos', 'Nombre', 'NHC', 'CIPA', 'AGE__autocolor',\n",
       "       'SEX__autocolor', 'CENTRO SANITARIO', 'id', 'Sufijo', 'COV>30X',\n",
       "       'RUN__autocolor', 'DEPARTMENT__autocolor', 'patient_microreact',\n",
       "       'full_date', 'day', 'month', 'year', 'Extracción Muestra', 'GenN2_Ct',\n",
       "       'CT1_PCR1', 'Antígeno COVID'],\n",
       "      dtype='object')"
      ]
     },
     "execution_count": 125,
     "metadata": {},
     "output_type": "execute_result"
    }
   ],
   "source": [
    "wgs.columns"
   ]
  },
  {
   "cell_type": "code",
   "execution_count": 126,
   "metadata": {},
   "outputs": [],
   "source": [
    "wgs = wgs[['id', 'full_date', 'SEX__autocolor', 'AGE__autocolor', 'day', 'month', 'year', 'RUN__autocolor']]"
   ]
  },
  {
   "cell_type": "code",
   "execution_count": 127,
   "metadata": {},
   "outputs": [
    {
     "data": {
      "text/html": [
       "<div>\n",
       "<style scoped>\n",
       "    .dataframe tbody tr th:only-of-type {\n",
       "        vertical-align: middle;\n",
       "    }\n",
       "\n",
       "    .dataframe tbody tr th {\n",
       "        vertical-align: top;\n",
       "    }\n",
       "\n",
       "    .dataframe thead th {\n",
       "        text-align: right;\n",
       "    }\n",
       "</style>\n",
       "<table border=\"1\" class=\"dataframe\">\n",
       "  <thead>\n",
       "    <tr style=\"text-align: right;\">\n",
       "      <th></th>\n",
       "      <th>id</th>\n",
       "      <th>full_date</th>\n",
       "      <th>SEX__autocolor</th>\n",
       "      <th>AGE__autocolor</th>\n",
       "      <th>day</th>\n",
       "      <th>month</th>\n",
       "      <th>year</th>\n",
       "      <th>RUN__autocolor</th>\n",
       "    </tr>\n",
       "  </thead>\n",
       "  <tbody>\n",
       "    <tr>\n",
       "      <td>0</td>\n",
       "      <td>20423238</td>\n",
       "      <td>28/10/2020</td>\n",
       "      <td>M</td>\n",
       "      <td>71.122375</td>\n",
       "      <td>28.0</td>\n",
       "      <td>10.0</td>\n",
       "      <td>2020.0</td>\n",
       "      <td>RUN_10</td>\n",
       "    </tr>\n",
       "    <tr>\n",
       "      <td>1</td>\n",
       "      <td>20097501</td>\n",
       "      <td>08/04/2020</td>\n",
       "      <td>M</td>\n",
       "      <td>77.000000</td>\n",
       "      <td>8.0</td>\n",
       "      <td>4.0</td>\n",
       "      <td>2020.0</td>\n",
       "      <td>RUN_12</td>\n",
       "    </tr>\n",
       "    <tr>\n",
       "      <td>2</td>\n",
       "      <td>20395396</td>\n",
       "      <td>9/10/2020</td>\n",
       "      <td>M</td>\n",
       "      <td>80.210930</td>\n",
       "      <td>9.0</td>\n",
       "      <td>10.0</td>\n",
       "      <td>2020.0</td>\n",
       "      <td>RUN_9</td>\n",
       "    </tr>\n",
       "    <tr>\n",
       "      <td>3</td>\n",
       "      <td>21158682</td>\n",
       "      <td>08/04/21</td>\n",
       "      <td>F</td>\n",
       "      <td>2.285228</td>\n",
       "      <td>8.0</td>\n",
       "      <td>4.0</td>\n",
       "      <td>21.0</td>\n",
       "      <td>RUN_28</td>\n",
       "    </tr>\n",
       "    <tr>\n",
       "      <td>4</td>\n",
       "      <td>20091284</td>\n",
       "      <td>2/4/2020</td>\n",
       "      <td>M</td>\n",
       "      <td>NaN</td>\n",
       "      <td>2.0</td>\n",
       "      <td>4.0</td>\n",
       "      <td>2020.0</td>\n",
       "      <td>RUN_1</td>\n",
       "    </tr>\n",
       "  </tbody>\n",
       "</table>\n",
       "</div>"
      ],
      "text/plain": [
       "         id   full_date SEX__autocolor  AGE__autocolor   day  month    year  \\\n",
       "0  20423238  28/10/2020  M              71.122375       28.0  10.0   2020.0   \n",
       "1  20097501  08/04/2020  M              77.000000       8.0   4.0    2020.0   \n",
       "2  20395396  9/10/2020   M              80.210930       9.0   10.0   2020.0   \n",
       "3  21158682  08/04/21    F              2.285228        8.0   4.0    21.0     \n",
       "4  20091284  2/4/2020    M             NaN              2.0   4.0    2020.0   \n",
       "\n",
       "  RUN__autocolor  \n",
       "0  RUN_10         \n",
       "1  RUN_12         \n",
       "2  RUN_9          \n",
       "3  RUN_28         \n",
       "4  RUN_1          "
      ]
     },
     "execution_count": 127,
     "metadata": {},
     "output_type": "execute_result"
    }
   ],
   "source": [
    "wgs.head()"
   ]
  },
  {
   "cell_type": "code",
   "execution_count": 128,
   "metadata": {},
   "outputs": [
    {
     "data": {
      "text/plain": [
       "(3063, 8)"
      ]
     },
     "execution_count": 128,
     "metadata": {},
     "output_type": "execute_result"
    }
   ],
   "source": [
    "wgs.shape"
   ]
  },
  {
   "cell_type": "code",
   "execution_count": 129,
   "metadata": {},
   "outputs": [],
   "source": [
    "wgs['id'] = wgs['id'].astype(str)"
   ]
  },
  {
   "cell_type": "code",
   "execution_count": 130,
   "metadata": {},
   "outputs": [],
   "source": [
    "samples_wgs = wgs.id.tolist()\n",
    "#samples_wgs = [str(x) for x in samples_wgs]"
   ]
  },
  {
   "cell_type": "code",
   "execution_count": 131,
   "metadata": {},
   "outputs": [],
   "source": [
    "WGS = set(samples_wgs)\n",
    "PW = set(samples)"
   ]
  },
  {
   "cell_type": "code",
   "execution_count": 132,
   "metadata": {},
   "outputs": [
    {
     "data": {
      "text/plain": [
       "2787"
      ]
     },
     "execution_count": 132,
     "metadata": {},
     "output_type": "execute_result"
    }
   ],
   "source": [
    "len(PW)"
   ]
  },
  {
   "cell_type": "code",
   "execution_count": 133,
   "metadata": {},
   "outputs": [
    {
     "data": {
      "text/plain": [
       "190"
      ]
     },
     "execution_count": 133,
     "metadata": {},
     "output_type": "execute_result"
    }
   ],
   "source": [
    "missing_wgs = list(PW - WGS)\n",
    "len(missing_wgs)"
   ]
  },
  {
   "cell_type": "code",
   "execution_count": 134,
   "metadata": {},
   "outputs": [
    {
     "data": {
      "text/plain": [
       "{str: 190}"
      ]
     },
     "execution_count": 134,
     "metadata": {},
     "output_type": "execute_result"
    }
   ],
   "source": [
    "missing_wgs_type = [type(x) for x in missing_wgs]\n",
    "dict((x,missing_wgs_type.count(x)) for x in set(missing_wgs_type))"
   ]
  },
  {
   "cell_type": "code",
   "execution_count": 135,
   "metadata": {},
   "outputs": [
    {
     "data": {
      "text/plain": [
       "257"
      ]
     },
     "execution_count": 135,
     "metadata": {},
     "output_type": "execute_result"
    }
   ],
   "source": [
    "missing_pw = list(WGS - PW)\n",
    "len(missing_pw)"
   ]
  },
  {
   "cell_type": "code",
   "execution_count": 136,
   "metadata": {},
   "outputs": [
    {
     "data": {
      "text/plain": [
       "447"
      ]
     },
     "execution_count": 136,
     "metadata": {},
     "output_type": "execute_result"
    }
   ],
   "source": [
    "all_missing = missing_pw + missing_wgs\n",
    "len(all_missing)"
   ]
  },
  {
   "cell_type": "code",
   "execution_count": 137,
   "metadata": {},
   "outputs": [
    {
     "data": {
      "text/plain": [
       "(3063, 8)"
      ]
     },
     "execution_count": 137,
     "metadata": {},
     "output_type": "execute_result"
    }
   ],
   "source": [
    "wgs.shape"
   ]
  },
  {
   "cell_type": "code",
   "execution_count": 138,
   "metadata": {},
   "outputs": [],
   "source": [
    "df = wgs[~wgs.id.isin(missing_pw)]"
   ]
  },
  {
   "cell_type": "code",
   "execution_count": 139,
   "metadata": {},
   "outputs": [
    {
     "data": {
      "text/plain": [
       "(2765, 8)"
      ]
     },
     "execution_count": 139,
     "metadata": {},
     "output_type": "execute_result"
    }
   ],
   "source": [
    "df.shape"
   ]
  },
  {
   "cell_type": "code",
   "execution_count": 140,
   "metadata": {},
   "outputs": [],
   "source": [
    "df2 = pd.DataFrame(missing_wgs, columns=['id'])"
   ]
  },
  {
   "cell_type": "code",
   "execution_count": 141,
   "metadata": {},
   "outputs": [],
   "source": [
    "df2['id'] = df2['id'].astype(str)"
   ]
  },
  {
   "cell_type": "code",
   "execution_count": 142,
   "metadata": {},
   "outputs": [
    {
     "data": {
      "text/html": [
       "<div>\n",
       "<style scoped>\n",
       "    .dataframe tbody tr th:only-of-type {\n",
       "        vertical-align: middle;\n",
       "    }\n",
       "\n",
       "    .dataframe tbody tr th {\n",
       "        vertical-align: top;\n",
       "    }\n",
       "\n",
       "    .dataframe thead th {\n",
       "        text-align: right;\n",
       "    }\n",
       "</style>\n",
       "<table border=\"1\" class=\"dataframe\">\n",
       "  <thead>\n",
       "    <tr style=\"text-align: right;\">\n",
       "      <th></th>\n",
       "      <th>id</th>\n",
       "    </tr>\n",
       "  </thead>\n",
       "  <tbody>\n",
       "    <tr>\n",
       "      <td>0</td>\n",
       "      <td>20095471-5</td>\n",
       "    </tr>\n",
       "    <tr>\n",
       "      <td>1</td>\n",
       "      <td>20155670-8</td>\n",
       "    </tr>\n",
       "    <tr>\n",
       "      <td>2</td>\n",
       "      <td>20458667BIS</td>\n",
       "    </tr>\n",
       "    <tr>\n",
       "      <td>3</td>\n",
       "      <td>21014639-BV</td>\n",
       "    </tr>\n",
       "    <tr>\n",
       "      <td>4</td>\n",
       "      <td>20464767BIS</td>\n",
       "    </tr>\n",
       "  </tbody>\n",
       "</table>\n",
       "</div>"
      ],
      "text/plain": [
       "            id\n",
       "0  20095471-5 \n",
       "1  20155670-8 \n",
       "2  20458667BIS\n",
       "3  21014639-BV\n",
       "4  20464767BIS"
      ]
     },
     "execution_count": 142,
     "metadata": {},
     "output_type": "execute_result"
    }
   ],
   "source": [
    "df2.head()"
   ]
  },
  {
   "cell_type": "code",
   "execution_count": 143,
   "metadata": {},
   "outputs": [
    {
     "data": {
      "text/html": [
       "<div>\n",
       "<style scoped>\n",
       "    .dataframe tbody tr th:only-of-type {\n",
       "        vertical-align: middle;\n",
       "    }\n",
       "\n",
       "    .dataframe tbody tr th {\n",
       "        vertical-align: top;\n",
       "    }\n",
       "\n",
       "    .dataframe thead th {\n",
       "        text-align: right;\n",
       "    }\n",
       "</style>\n",
       "<table border=\"1\" class=\"dataframe\">\n",
       "  <thead>\n",
       "    <tr style=\"text-align: right;\">\n",
       "      <th></th>\n",
       "      <th>id</th>\n",
       "      <th>full_date</th>\n",
       "      <th>SEX__autocolor</th>\n",
       "      <th>AGE__autocolor</th>\n",
       "      <th>day</th>\n",
       "      <th>month</th>\n",
       "      <th>year</th>\n",
       "      <th>RUN__autocolor</th>\n",
       "    </tr>\n",
       "  </thead>\n",
       "  <tbody>\n",
       "    <tr>\n",
       "      <td>3</td>\n",
       "      <td>21158682</td>\n",
       "      <td>08/04/21</td>\n",
       "      <td>F</td>\n",
       "      <td>2.285228</td>\n",
       "      <td>8.0</td>\n",
       "      <td>4.0</td>\n",
       "      <td>21.0</td>\n",
       "      <td>RUN_28</td>\n",
       "    </tr>\n",
       "    <tr>\n",
       "      <td>4</td>\n",
       "      <td>20091284</td>\n",
       "      <td>2/4/2020</td>\n",
       "      <td>M</td>\n",
       "      <td>NaN</td>\n",
       "      <td>2.0</td>\n",
       "      <td>4.0</td>\n",
       "      <td>2020.0</td>\n",
       "      <td>RUN_1</td>\n",
       "    </tr>\n",
       "    <tr>\n",
       "      <td>6</td>\n",
       "      <td>20289362</td>\n",
       "      <td>25/8/2020</td>\n",
       "      <td>F</td>\n",
       "      <td>39.694927</td>\n",
       "      <td>25.0</td>\n",
       "      <td>8.0</td>\n",
       "      <td>2020.0</td>\n",
       "      <td>MICRO_17</td>\n",
       "    </tr>\n",
       "    <tr>\n",
       "      <td>7</td>\n",
       "      <td>20432945</td>\n",
       "      <td>4/11/2020</td>\n",
       "      <td>F</td>\n",
       "      <td>28.247288</td>\n",
       "      <td>4.0</td>\n",
       "      <td>11.0</td>\n",
       "      <td>2020.0</td>\n",
       "      <td>RUN_11</td>\n",
       "    </tr>\n",
       "    <tr>\n",
       "      <td>8</td>\n",
       "      <td>21035911</td>\n",
       "      <td>23/1/2021</td>\n",
       "      <td>F</td>\n",
       "      <td>49.521111</td>\n",
       "      <td>23.0</td>\n",
       "      <td>1.0</td>\n",
       "      <td>2021.0</td>\n",
       "      <td>RUN_19</td>\n",
       "    </tr>\n",
       "  </tbody>\n",
       "</table>\n",
       "</div>"
      ],
      "text/plain": [
       "         id  full_date SEX__autocolor  AGE__autocolor   day  month    year  \\\n",
       "3  21158682  08/04/21   F              2.285228        8.0   4.0    21.0     \n",
       "4  20091284  2/4/2020   M             NaN              2.0   4.0    2020.0   \n",
       "6  20289362  25/8/2020  F              39.694927       25.0  8.0    2020.0   \n",
       "7  20432945  4/11/2020  F              28.247288       4.0   11.0   2020.0   \n",
       "8  21035911  23/1/2021  F              49.521111       23.0  1.0    2021.0   \n",
       "\n",
       "  RUN__autocolor  \n",
       "3  RUN_28         \n",
       "4  RUN_1          \n",
       "6  MICRO_17       \n",
       "7  RUN_11         \n",
       "8  RUN_19         "
      ]
     },
     "execution_count": 143,
     "metadata": {},
     "output_type": "execute_result"
    }
   ],
   "source": [
    "df.head()"
   ]
  },
  {
   "cell_type": "code",
   "execution_count": 144,
   "metadata": {},
   "outputs": [
    {
     "name": "stderr",
     "output_type": "stream",
     "text": [
      "/home/laura/anaconda3/lib/python3.7/site-packages/pandas/core/frame.py:7123: FutureWarning: Sorting because non-concatenation axis is not aligned. A future version\n",
      "of pandas will change to not sort by default.\n",
      "\n",
      "To accept the future behavior, pass 'sort=False'.\n",
      "\n",
      "To retain the current behavior and silence the warning, pass 'sort=True'.\n",
      "\n",
      "  sort=sort,\n"
     ]
    }
   ],
   "source": [
    "final_df = df.append(df2).reset_index(drop=True)\n",
    "final_df = final_df[ ['id', 'full_date', 'SEX__autocolor', 'AGE__autocolor', 'day', 'month', 'year', 'RUN__autocolor'] ]\n"
   ]
  },
  {
   "cell_type": "code",
   "execution_count": 145,
   "metadata": {},
   "outputs": [
    {
     "data": {
      "text/html": [
       "<div>\n",
       "<style scoped>\n",
       "    .dataframe tbody tr th:only-of-type {\n",
       "        vertical-align: middle;\n",
       "    }\n",
       "\n",
       "    .dataframe tbody tr th {\n",
       "        vertical-align: top;\n",
       "    }\n",
       "\n",
       "    .dataframe thead th {\n",
       "        text-align: right;\n",
       "    }\n",
       "</style>\n",
       "<table border=\"1\" class=\"dataframe\">\n",
       "  <thead>\n",
       "    <tr style=\"text-align: right;\">\n",
       "      <th></th>\n",
       "      <th>id</th>\n",
       "      <th>full_date</th>\n",
       "      <th>SEX__autocolor</th>\n",
       "      <th>AGE__autocolor</th>\n",
       "      <th>day</th>\n",
       "      <th>month</th>\n",
       "      <th>year</th>\n",
       "      <th>RUN__autocolor</th>\n",
       "    </tr>\n",
       "  </thead>\n",
       "  <tbody>\n",
       "    <tr>\n",
       "      <td>0</td>\n",
       "      <td>21158682</td>\n",
       "      <td>08/04/21</td>\n",
       "      <td>F</td>\n",
       "      <td>2.285228</td>\n",
       "      <td>8.0</td>\n",
       "      <td>4.0</td>\n",
       "      <td>21.0</td>\n",
       "      <td>RUN_28</td>\n",
       "    </tr>\n",
       "    <tr>\n",
       "      <td>1</td>\n",
       "      <td>20091284</td>\n",
       "      <td>2/4/2020</td>\n",
       "      <td>M</td>\n",
       "      <td>NaN</td>\n",
       "      <td>2.0</td>\n",
       "      <td>4.0</td>\n",
       "      <td>2020.0</td>\n",
       "      <td>RUN_1</td>\n",
       "    </tr>\n",
       "    <tr>\n",
       "      <td>2</td>\n",
       "      <td>20289362</td>\n",
       "      <td>25/8/2020</td>\n",
       "      <td>F</td>\n",
       "      <td>39.694927</td>\n",
       "      <td>25.0</td>\n",
       "      <td>8.0</td>\n",
       "      <td>2020.0</td>\n",
       "      <td>MICRO_17</td>\n",
       "    </tr>\n",
       "    <tr>\n",
       "      <td>3</td>\n",
       "      <td>20432945</td>\n",
       "      <td>4/11/2020</td>\n",
       "      <td>F</td>\n",
       "      <td>28.247288</td>\n",
       "      <td>4.0</td>\n",
       "      <td>11.0</td>\n",
       "      <td>2020.0</td>\n",
       "      <td>RUN_11</td>\n",
       "    </tr>\n",
       "    <tr>\n",
       "      <td>4</td>\n",
       "      <td>21035911</td>\n",
       "      <td>23/1/2021</td>\n",
       "      <td>F</td>\n",
       "      <td>49.521111</td>\n",
       "      <td>23.0</td>\n",
       "      <td>1.0</td>\n",
       "      <td>2021.0</td>\n",
       "      <td>RUN_19</td>\n",
       "    </tr>\n",
       "  </tbody>\n",
       "</table>\n",
       "</div>"
      ],
      "text/plain": [
       "         id  full_date SEX__autocolor  AGE__autocolor   day  month    year  \\\n",
       "0  21158682  08/04/21   F              2.285228        8.0   4.0    21.0     \n",
       "1  20091284  2/4/2020   M             NaN              2.0   4.0    2020.0   \n",
       "2  20289362  25/8/2020  F              39.694927       25.0  8.0    2020.0   \n",
       "3  20432945  4/11/2020  F              28.247288       4.0   11.0   2020.0   \n",
       "4  21035911  23/1/2021  F              49.521111       23.0  1.0    2021.0   \n",
       "\n",
       "  RUN__autocolor  \n",
       "0  RUN_28         \n",
       "1  RUN_1          \n",
       "2  MICRO_17       \n",
       "3  RUN_11         \n",
       "4  RUN_19         "
      ]
     },
     "execution_count": 145,
     "metadata": {},
     "output_type": "execute_result"
    }
   ],
   "source": [
    "final_df.head()"
   ]
  },
  {
   "cell_type": "code",
   "execution_count": 146,
   "metadata": {},
   "outputs": [],
   "source": [
    "metadata = pd.read_csv('/home/laura/ANALYSIS/MISC/microreact/wgs_covid_metadata_REFORMATED.csv', encoding='latin1')\n",
    "metadata['id'] = metadata['id'].astype(str)"
   ]
  },
  {
   "cell_type": "code",
   "execution_count": 147,
   "metadata": {},
   "outputs": [
    {
     "data": {
      "text/html": [
       "<div>\n",
       "<style scoped>\n",
       "    .dataframe tbody tr th:only-of-type {\n",
       "        vertical-align: middle;\n",
       "    }\n",
       "\n",
       "    .dataframe tbody tr th {\n",
       "        vertical-align: top;\n",
       "    }\n",
       "\n",
       "    .dataframe thead th {\n",
       "        text-align: right;\n",
       "    }\n",
       "</style>\n",
       "<table border=\"1\" class=\"dataframe\">\n",
       "  <thead>\n",
       "    <tr style=\"text-align: right;\">\n",
       "      <th></th>\n",
       "      <th>id</th>\n",
       "      <th>DEPARTMENT__autocolor</th>\n",
       "      <th>LABEL__autocolor</th>\n",
       "    </tr>\n",
       "  </thead>\n",
       "  <tbody>\n",
       "    <tr>\n",
       "      <td>2319</td>\n",
       "      <td>21161833</td>\n",
       "      <td>CAM (COMUNITARIO)</td>\n",
       "      <td>CAM</td>\n",
       "    </tr>\n",
       "    <tr>\n",
       "      <td>2320</td>\n",
       "      <td>21161986</td>\n",
       "      <td>CAM (COMUNITARIO)</td>\n",
       "      <td>CAM</td>\n",
       "    </tr>\n",
       "    <tr>\n",
       "      <td>2321</td>\n",
       "      <td>21161485</td>\n",
       "      <td>CAM (COMUNITARIO)</td>\n",
       "      <td>CAM</td>\n",
       "    </tr>\n",
       "    <tr>\n",
       "      <td>2322</td>\n",
       "      <td>21161354</td>\n",
       "      <td>CAM (COMUNITARIO)</td>\n",
       "      <td>CAM</td>\n",
       "    </tr>\n",
       "    <tr>\n",
       "      <td>2323</td>\n",
       "      <td>21161356</td>\n",
       "      <td>CAM (COMUNITARIO)</td>\n",
       "      <td>CAM</td>\n",
       "    </tr>\n",
       "  </tbody>\n",
       "</table>\n",
       "</div>"
      ],
      "text/plain": [
       "            id DEPARTMENT__autocolor LABEL__autocolor\n",
       "2319  21161833  CAM (COMUNITARIO)     CAM            \n",
       "2320  21161986  CAM (COMUNITARIO)     CAM            \n",
       "2321  21161485  CAM (COMUNITARIO)     CAM            \n",
       "2322  21161354  CAM (COMUNITARIO)     CAM            \n",
       "2323  21161356  CAM (COMUNITARIO)     CAM            "
      ]
     },
     "execution_count": 147,
     "metadata": {},
     "output_type": "execute_result"
    }
   ],
   "source": [
    "metadata.tail()"
   ]
  },
  {
   "cell_type": "code",
   "execution_count": 148,
   "metadata": {},
   "outputs": [],
   "source": [
    "final_df = final_df.fillna(0)\n",
    "final_df.day = final_df.day.astype('Int64')\n",
    "final_df.month = final_df.month.astype('Int64')\n",
    "final_df.year = final_df.year.astype('Int64')\n",
    "final_df.replace(0, np.nan, inplace=True)"
   ]
  },
  {
   "cell_type": "code",
   "execution_count": 149,
   "metadata": {},
   "outputs": [],
   "source": [
    "final_df = final_df.merge(metadata, how='outer')"
   ]
  },
  {
   "cell_type": "code",
   "execution_count": 150,
   "metadata": {},
   "outputs": [
    {
     "name": "stdout",
     "output_type": "stream",
     "text": [
      "<class 'pandas.core.frame.DataFrame'>\n",
      "Int64Index: 3126 entries, 0 to 3125\n",
      "Data columns (total 10 columns):\n",
      "id                       3126 non-null object\n",
      "full_date                2752 non-null object\n",
      "SEX__autocolor           2555 non-null object\n",
      "AGE__autocolor           2666 non-null float64\n",
      "day                      2752 non-null Int64\n",
      "month                    2752 non-null Int64\n",
      "year                     2752 non-null Int64\n",
      "RUN__autocolor           2676 non-null object\n",
      "DEPARTMENT__autocolor    2479 non-null object\n",
      "LABEL__autocolor         2479 non-null object\n",
      "dtypes: Int64(3), float64(1), object(6)\n",
      "memory usage: 277.8+ KB\n"
     ]
    }
   ],
   "source": [
    "final_df.info()"
   ]
  },
  {
   "cell_type": "code",
   "execution_count": 151,
   "metadata": {},
   "outputs": [
    {
     "data": {
      "text/html": [
       "<div>\n",
       "<style scoped>\n",
       "    .dataframe tbody tr th:only-of-type {\n",
       "        vertical-align: middle;\n",
       "    }\n",
       "\n",
       "    .dataframe tbody tr th {\n",
       "        vertical-align: top;\n",
       "    }\n",
       "\n",
       "    .dataframe thead th {\n",
       "        text-align: right;\n",
       "    }\n",
       "</style>\n",
       "<table border=\"1\" class=\"dataframe\">\n",
       "  <thead>\n",
       "    <tr style=\"text-align: right;\">\n",
       "      <th></th>\n",
       "      <th>id</th>\n",
       "      <th>full_date</th>\n",
       "      <th>SEX__autocolor</th>\n",
       "      <th>AGE__autocolor</th>\n",
       "      <th>day</th>\n",
       "      <th>month</th>\n",
       "      <th>year</th>\n",
       "      <th>RUN__autocolor</th>\n",
       "      <th>DEPARTMENT__autocolor</th>\n",
       "      <th>LABEL__autocolor</th>\n",
       "    </tr>\n",
       "  </thead>\n",
       "  <tbody>\n",
       "    <tr>\n",
       "      <td>3121</td>\n",
       "      <td>21148366</td>\n",
       "      <td>NaN</td>\n",
       "      <td>NaN</td>\n",
       "      <td>NaN</td>\n",
       "      <td>NaN</td>\n",
       "      <td>NaN</td>\n",
       "      <td>NaN</td>\n",
       "      <td>NaN</td>\n",
       "      <td>DIVERSIDAD</td>\n",
       "      <td>DIVERSIDAD</td>\n",
       "    </tr>\n",
       "    <tr>\n",
       "      <td>3122</td>\n",
       "      <td>21161101</td>\n",
       "      <td>NaN</td>\n",
       "      <td>NaN</td>\n",
       "      <td>NaN</td>\n",
       "      <td>NaN</td>\n",
       "      <td>NaN</td>\n",
       "      <td>NaN</td>\n",
       "      <td>NaN</td>\n",
       "      <td>SOSPECHA</td>\n",
       "      <td>DIVERSIDAD</td>\n",
       "    </tr>\n",
       "    <tr>\n",
       "      <td>3123</td>\n",
       "      <td>21155413</td>\n",
       "      <td>NaN</td>\n",
       "      <td>NaN</td>\n",
       "      <td>NaN</td>\n",
       "      <td>NaN</td>\n",
       "      <td>NaN</td>\n",
       "      <td>NaN</td>\n",
       "      <td>NaN</td>\n",
       "      <td>CAM (COMUNITARIO)</td>\n",
       "      <td>CAM</td>\n",
       "    </tr>\n",
       "    <tr>\n",
       "      <td>3124</td>\n",
       "      <td>21158844</td>\n",
       "      <td>NaN</td>\n",
       "      <td>NaN</td>\n",
       "      <td>NaN</td>\n",
       "      <td>NaN</td>\n",
       "      <td>NaN</td>\n",
       "      <td>NaN</td>\n",
       "      <td>NaN</td>\n",
       "      <td>CAM (COMUNITARIO)</td>\n",
       "      <td>CAM</td>\n",
       "    </tr>\n",
       "    <tr>\n",
       "      <td>3125</td>\n",
       "      <td>21148763-BIS</td>\n",
       "      <td>NaN</td>\n",
       "      <td>NaN</td>\n",
       "      <td>NaN</td>\n",
       "      <td>NaN</td>\n",
       "      <td>NaN</td>\n",
       "      <td>NaN</td>\n",
       "      <td>NaN</td>\n",
       "      <td>REINFECCION (7 - RECURRENCIA)</td>\n",
       "      <td>REINFECCION</td>\n",
       "    </tr>\n",
       "  </tbody>\n",
       "</table>\n",
       "</div>"
      ],
      "text/plain": [
       "                id full_date SEX__autocolor  AGE__autocolor  day  month  year  \\\n",
       "3121  21148366      NaN       NaN           NaN              NaN  NaN    NaN    \n",
       "3122  21161101      NaN       NaN           NaN              NaN  NaN    NaN    \n",
       "3123  21155413      NaN       NaN           NaN              NaN  NaN    NaN    \n",
       "3124  21158844      NaN       NaN           NaN              NaN  NaN    NaN    \n",
       "3125  21148763-BIS  NaN       NaN           NaN              NaN  NaN    NaN    \n",
       "\n",
       "     RUN__autocolor          DEPARTMENT__autocolor LABEL__autocolor  \n",
       "3121  NaN            DIVERSIDAD                     DIVERSIDAD       \n",
       "3122  NaN            SOSPECHA                       DIVERSIDAD       \n",
       "3123  NaN            CAM (COMUNITARIO)              CAM              \n",
       "3124  NaN            CAM (COMUNITARIO)              CAM              \n",
       "3125  NaN            REINFECCION (7 - RECURRENCIA)  REINFECCION      "
      ]
     },
     "execution_count": 151,
     "metadata": {},
     "output_type": "execute_result"
    }
   ],
   "source": [
    "final_df.tail()"
   ]
  },
  {
   "cell_type": "code",
   "execution_count": 152,
   "metadata": {},
   "outputs": [],
   "source": [
    "def extract_lineage(sample):\n",
    "    pango_file = os.path.join('/home/laura/ANALYSIS/VARIANT_CALLING/COVID/Annotation/pangolin', str(sample) + \".lineage.csv\")\n",
    "    if os.path.exists(pango_file):\n",
    "        df = pd.read_csv(pango_file)\n",
    "        return df.lineage[0]\n",
    "    else:\n",
    "        return None"
   ]
  },
  {
   "cell_type": "code",
   "execution_count": 153,
   "metadata": {},
   "outputs": [],
   "source": [
    "final_df['Lineage__autocolor'] = final_df.apply(lambda x: extract_lineage(x['id']), axis=1)"
   ]
  },
  {
   "cell_type": "code",
   "execution_count": 154,
   "metadata": {},
   "outputs": [],
   "source": [
    "def extract_EU(sample):\n",
    "    eu_file = os.path.join('/home/laura/ANALYSIS/VARIANT_CALLING/COVID/Annotation/user', str(sample) + \".tsv\")\n",
    "    if os.path.exists(eu_file):\n",
    "        df = pd.read_csv(eu_file, sep=\"\\t\")\n",
    "        if 'Nextrain_all' in df.columns:\n",
    "            eulist = df.Nextrain_all.dropna().tolist()\n",
    "            return (';').join([(x + \"-\" + str(eulist.count(x))) for x in set(eulist)])\n",
    "        else:\n",
    "            return None"
   ]
  },
  {
   "cell_type": "code",
   "execution_count": 155,
   "metadata": {},
   "outputs": [
    {
     "name": "stderr",
     "output_type": "stream",
     "text": [
      "/home/laura/anaconda3/lib/python3.7/site-packages/pandas/core/apply.py:186: DtypeWarning: Columns (20,21,22,23,24,25) have mixed types. Specify dtype option on import or set low_memory=False.\n",
      "  return self.apply_standard()\n",
      "/home/laura/anaconda3/lib/python3.7/site-packages/pandas/core/apply.py:186: DtypeWarning: Columns (22,23) have mixed types. Specify dtype option on import or set low_memory=False.\n",
      "  return self.apply_standard()\n",
      "/home/laura/anaconda3/lib/python3.7/site-packages/pandas/core/apply.py:186: DtypeWarning: Columns (20,22,23,24,25) have mixed types. Specify dtype option on import or set low_memory=False.\n",
      "  return self.apply_standard()\n",
      "/home/laura/anaconda3/lib/python3.7/site-packages/pandas/core/apply.py:186: DtypeWarning: Columns (20,21,23,25) have mixed types. Specify dtype option on import or set low_memory=False.\n",
      "  return self.apply_standard()\n"
     ]
    }
   ],
   "source": [
    "final_df['Nextrain__autocolor'] = final_df.apply(lambda x: extract_EU(x['id']), axis=1)"
   ]
  },
  {
   "cell_type": "code",
   "execution_count": 156,
   "metadata": {},
   "outputs": [],
   "source": [
    "def extract_resistance(sample):\n",
    "    res_file = os.path.join('/home/laura/ANALYSIS/VARIANT_CALLING/COVID/Annotation/user_aa', str(sample) + \".tsv\")\n",
    "    if os.path.exists(res_file):\n",
    "        df = pd.read_csv(res_file, sep=\"\\t\")\n",
    "        if 'resistance_covid' in df.columns:\n",
    "            relist = df.resistance_covid.dropna().tolist()\n",
    "            return (';').join([(x + \"-\" + str(relist.count(x))) for x in set(relist)])\n",
    "        else:\n",
    "            return None"
   ]
  },
  {
   "cell_type": "code",
   "execution_count": 157,
   "metadata": {},
   "outputs": [
    {
     "name": "stderr",
     "output_type": "stream",
     "text": [
      "/home/laura/anaconda3/lib/python3.7/site-packages/pandas/core/apply.py:186: DtypeWarning: Columns (26,27,29,30,31,32,33,34,36,37) have mixed types. Specify dtype option on import or set low_memory=False.\n",
      "  return self.apply_standard()\n",
      "/home/laura/anaconda3/lib/python3.7/site-packages/pandas/core/apply.py:186: DtypeWarning: Columns (26,29,31,32,33) have mixed types. Specify dtype option on import or set low_memory=False.\n",
      "  return self.apply_standard()\n",
      "/home/laura/anaconda3/lib/python3.7/site-packages/pandas/core/apply.py:186: DtypeWarning: Columns (6,26,27,28,29,30,31,33,34,35,37) have mixed types. Specify dtype option on import or set low_memory=False.\n",
      "  return self.apply_standard()\n",
      "/home/laura/anaconda3/lib/python3.7/site-packages/pandas/core/apply.py:186: DtypeWarning: Columns (26,27,29,31,32,35,37) have mixed types. Specify dtype option on import or set low_memory=False.\n",
      "  return self.apply_standard()\n",
      "/home/laura/anaconda3/lib/python3.7/site-packages/pandas/core/apply.py:186: DtypeWarning: Columns (26,29,30,31,32,35,36,37) have mixed types. Specify dtype option on import or set low_memory=False.\n",
      "  return self.apply_standard()\n",
      "/home/laura/anaconda3/lib/python3.7/site-packages/pandas/core/apply.py:186: DtypeWarning: Columns (26,27,28,29,31,33,34,37) have mixed types. Specify dtype option on import or set low_memory=False.\n",
      "  return self.apply_standard()\n",
      "/home/laura/anaconda3/lib/python3.7/site-packages/pandas/core/apply.py:186: DtypeWarning: Columns (28) have mixed types. Specify dtype option on import or set low_memory=False.\n",
      "  return self.apply_standard()\n",
      "/home/laura/anaconda3/lib/python3.7/site-packages/pandas/core/apply.py:186: DtypeWarning: Columns (26,29,31,32) have mixed types. Specify dtype option on import or set low_memory=False.\n",
      "  return self.apply_standard()\n",
      "/home/laura/anaconda3/lib/python3.7/site-packages/pandas/core/apply.py:186: DtypeWarning: Columns (26,31,32) have mixed types. Specify dtype option on import or set low_memory=False.\n",
      "  return self.apply_standard()\n",
      "/home/laura/anaconda3/lib/python3.7/site-packages/pandas/core/apply.py:186: DtypeWarning: Columns (26,29,32,36) have mixed types. Specify dtype option on import or set low_memory=False.\n",
      "  return self.apply_standard()\n",
      "/home/laura/anaconda3/lib/python3.7/site-packages/pandas/core/apply.py:186: DtypeWarning: Columns (26,27,29,31,32,37) have mixed types. Specify dtype option on import or set low_memory=False.\n",
      "  return self.apply_standard()\n",
      "/home/laura/anaconda3/lib/python3.7/site-packages/pandas/core/apply.py:186: DtypeWarning: Columns (37) have mixed types. Specify dtype option on import or set low_memory=False.\n",
      "  return self.apply_standard()\n",
      "/home/laura/anaconda3/lib/python3.7/site-packages/pandas/core/apply.py:186: DtypeWarning: Columns (26,29,31,33) have mixed types. Specify dtype option on import or set low_memory=False.\n",
      "  return self.apply_standard()\n",
      "/home/laura/anaconda3/lib/python3.7/site-packages/pandas/core/apply.py:186: DtypeWarning: Columns (26,28,29,30,31,32,34,37) have mixed types. Specify dtype option on import or set low_memory=False.\n",
      "  return self.apply_standard()\n"
     ]
    }
   ],
   "source": [
    "final_df['Resistance__autocolor'] = final_df.apply(lambda x: extract_resistance(x['id']), axis=1)"
   ]
  },
  {
   "cell_type": "code",
   "execution_count": 158,
   "metadata": {},
   "outputs": [
    {
     "data": {
      "text/plain": [
       "'\\ndef extract_variant(sample):\\n    res_file = os.path.join(\\'/home/laura/ANALYSIS/VARIANT_CALLING/COVID/Annotation/user_aa\\', str(sample) + \".tsv\")\\n    if os.path.exists(res_file):\\n        df = pd.read_csv(res_file, sep=\"\\t\")\\n        if \\'Variants\\' in df.columns:\\n            df = df.drop_duplicates(subset=[\\'Variants\\'], keep=\"first\")\\n            relist = df.Variants.dropna().tolist()\\n            return (\\',\\').join([(x + \"-\" + str(relist.count(x))) for x in set(relist)])\\n        else:\\n            return None\\n'"
      ]
     },
     "execution_count": 158,
     "metadata": {},
     "output_type": "execute_result"
    }
   ],
   "source": [
    "\"\"\"\n",
    "def extract_variant(sample):\n",
    "    res_file = os.path.join('/home/laura/ANALYSIS/VARIANT_CALLING/COVID/Annotation/user_aa', str(sample) + \".tsv\")\n",
    "    if os.path.exists(res_file):\n",
    "        df = pd.read_csv(res_file, sep=\"\\t\")\n",
    "        if 'Variants' in df.columns:\n",
    "            df = df.drop_duplicates(subset=['Variants'], keep=\"first\")\n",
    "            relist = df.Variants.dropna().tolist()\n",
    "            return (',').join([(x + \"-\" + str(relist.count(x))) for x in set(relist)])\n",
    "        else:\n",
    "            return None\n",
    "\"\"\""
   ]
  },
  {
   "cell_type": "code",
   "execution_count": 159,
   "metadata": {},
   "outputs": [],
   "source": [
    "#final_df['VariantsAll__autocolor'] = final_df.apply(lambda x: extract_variant(x['id']), axis=1)"
   ]
  },
  {
   "cell_type": "code",
   "execution_count": 160,
   "metadata": {},
   "outputs": [
    {
     "data": {
      "text/plain": [
       "'\\ndef extract_variant_count(sample):\\n    res_file = os.path.join(\\'/home/laura/ANALYSIS/VARIANT_CALLING/COVID/Annotation/user_aa\\', str(sample) + \".tsv\")\\n    if os.path.exists(res_file):\\n        df = pd.read_csv(res_file, sep=\"\\t\")\\n        if \\'Variants\\' in df.columns:\\n            df = df.drop_duplicates(subset=[\\'Variants\\'], keep=\"first\")\\n            relist = df.Variants.dropna().tolist()\\n            relist = [x.split(\":\")[1] for x in relist]\\n            return (\\',\\').join([(x + \"-\" + str(relist.count(x))) for x in set(relist)])\\n        else:\\n            return None\\n'"
      ]
     },
     "execution_count": 160,
     "metadata": {},
     "output_type": "execute_result"
    }
   ],
   "source": [
    "\"\"\"\n",
    "def extract_variant_count(sample):\n",
    "    res_file = os.path.join('/home/laura/ANALYSIS/VARIANT_CALLING/COVID/Annotation/user_aa', str(sample) + \".tsv\")\n",
    "    if os.path.exists(res_file):\n",
    "        df = pd.read_csv(res_file, sep=\"\\t\")\n",
    "        if 'Variants' in df.columns:\n",
    "            df = df.drop_duplicates(subset=['Variants'], keep=\"first\")\n",
    "            relist = df.Variants.dropna().tolist()\n",
    "            relist = [x.split(\":\")[1] for x in relist]\n",
    "            return (',').join([(x + \"-\" + str(relist.count(x))) for x in set(relist)])\n",
    "        else:\n",
    "            return None\n",
    "\"\"\""
   ]
  },
  {
   "cell_type": "code",
   "execution_count": 161,
   "metadata": {},
   "outputs": [],
   "source": [
    "#final_df['VariantsCount__autocolor'] = final_df.apply(lambda x: extract_variant_count(x['id']), axis=1)"
   ]
  },
  {
   "cell_type": "code",
   "execution_count": 162,
   "metadata": {},
   "outputs": [],
   "source": [
    "def extract_variant_UK(sample): #Change header\n",
    "    res_file = os.path.join('/home/laura/ANALYSIS/VARIANT_CALLING/COVID/Annotation/user_aa', str(sample) + \".tsv\")\n",
    "    if os.path.exists(res_file):\n",
    "        df = pd.read_csv(res_file, sep=\"\\t\")\n",
    "        if 'UKVariant' in df.columns: #Change header\n",
    "            df = df.drop_duplicates(subset=['UKVariant'], keep=\"first\") #Change header\n",
    "            df = df[df.ALT_FREQ >= 0.4]\n",
    "            relist = df.UKVariant.dropna().tolist() #Change header\n",
    "            relist = [x.split(\":\")[1] for x in relist]\n",
    "            return (',').join([(x + \"-\" + str(relist.count(x))) for x in set(relist)])\n",
    "        else:\n",
    "            return None\n",
    "\n",
    "def extract_variant_D(sample): #Change header\n",
    "    res_file = os.path.join('/home/laura/ANALYSIS/VARIANT_CALLING/COVID/Annotation/user_aa', str(sample) + \".tsv\")\n",
    "    if os.path.exists(res_file):\n",
    "        df = pd.read_csv(res_file, sep=\"\\t\")\n",
    "        if 'DVariant' in df.columns: #Change header\n",
    "            df = df.drop_duplicates(subset=['DVariant'], keep=\"first\") #Change header\n",
    "            df = df[df.ALT_FREQ >= 0.4]\n",
    "            relist = df.DVariant.dropna().tolist() #Change header\n",
    "            relist = [x.split(\":\")[1] for x in relist]\n",
    "            return (',').join([(x + \"-\" + str(relist.count(x))) for x in set(relist)])\n",
    "        else:\n",
    "            return None\n",
    "\n",
    "def extract_variant_69del(sample): #Change header\n",
    "    res_file = os.path.join('/home/laura/ANALYSIS/VARIANT_CALLING/COVID/Annotation/user_aa', str(sample) + \".tsv\")\n",
    "    if os.path.exists(res_file):\n",
    "        df = pd.read_csv(res_file, sep=\"\\t\")\n",
    "        if '69del' in df.columns: #Change header\n",
    "            df = df.drop_duplicates(subset=['69del'], keep=\"first\") #Change header\n",
    "            df = df[df.ALT_FREQ >= 0.4]\n",
    "            relist = df['69del'].dropna().tolist() #Change header\n",
    "            relist = [x.split(\":\")[1] for x in relist]\n",
    "            return (',').join([(x + \"-\" + str(relist.count(x))) for x in set(relist)])\n",
    "        else:\n",
    "            return None\n",
    "\n",
    "def extract_variant_P1Variant(sample): #Change header\n",
    "    res_file = os.path.join('/home/laura/ANALYSIS/VARIANT_CALLING/COVID/Annotation/user_aa', str(sample) + \".tsv\")\n",
    "    if os.path.exists(res_file):\n",
    "        df = pd.read_csv(res_file, sep=\"\\t\")\n",
    "        if 'P1Variant' in df.columns: #Change header\n",
    "            df = df.drop_duplicates(subset=['P1Variant'], keep=\"first\") #Change header\n",
    "            df = df[df.ALT_FREQ >= 0.4]\n",
    "            relist = df['P1Variant'].dropna().tolist() #Change header\n",
    "            relist = [x.split(\":\")[1] for x in relist]\n",
    "            return (',').join([(x + \"-\" + str(relist.count(x))) for x in set(relist)])\n",
    "        else:\n",
    "            return None\n",
    "\n",
    "def extract_variant_ZAVariant(sample): #Change header\n",
    "    res_file = os.path.join('/home/laura/ANALYSIS/VARIANT_CALLING/COVID/Annotation/user_aa', str(sample) + \".tsv\")\n",
    "    if os.path.exists(res_file):\n",
    "        df = pd.read_csv(res_file, sep=\"\\t\")\n",
    "        if 'ZAVariant' in df.columns: #Change header\n",
    "            df = df.drop_duplicates(subset=['ZAVariant'], keep=\"first\") #Change header\n",
    "            df = df[df.ALT_FREQ >= 0.4]\n",
    "            relist = df['ZAVariant'].dropna().tolist() #Change header\n",
    "            relist = [x.split(\":\")[1] for x in relist]\n",
    "            return (',').join([(x + \"-\" + str(relist.count(x))) for x in set(relist)])\n",
    "        else:\n",
    "            return None\n",
    "\n",
    "def extract_variant_P2Variant(sample): #Change header\n",
    "    res_file = os.path.join('/home/laura/ANALYSIS/VARIANT_CALLING/COVID/Annotation/user_aa', str(sample) + \".tsv\")\n",
    "    if os.path.exists(res_file):\n",
    "        df = pd.read_csv(res_file, sep=\"\\t\")\n",
    "        if 'P2Variant' in df.columns: #Change header\n",
    "            df = df.drop_duplicates(subset=['P2Variant'], keep=\"first\") #Change header\n",
    "            df = df[df.ALT_FREQ >= 0.4]\n",
    "            relist = df['P2Variant'].dropna().tolist() #Change header\n",
    "            relist = [x.split(\":\")[1] for x in relist]\n",
    "            return (',').join([(x + \"-\" + str(relist.count(x))) for x in set(relist)])\n",
    "        else:\n",
    "            return None\n",
    "\n",
    "def extract_variant_E484K(sample): #Change header\n",
    "    res_file = os.path.join('/home/laura/ANALYSIS/VARIANT_CALLING/COVID/Annotation/user_aa', str(sample) + \".tsv\")\n",
    "    if os.path.exists(res_file):\n",
    "        df = pd.read_csv(res_file, sep=\"\\t\")\n",
    "        if 'E484K' in df.columns: #Change header\n",
    "            df = df.drop_duplicates(subset=['E484K'], keep=\"first\") #Change header\n",
    "            df = df[df.ALT_FREQ >= 0.4]\n",
    "            relist = df['E484K'].dropna().tolist() #Change header\n",
    "            relist = [x.split(\":\")[1] for x in relist]\n",
    "            return (',').join([(x + \"-\" + str(relist.count(x))) for x in set(relist)])\n",
    "        else:\n",
    "            return None\n",
    "\n",
    "def extract_variant_Note(sample): #Change header\n",
    "    res_file = os.path.join('/home/laura/ANALYSIS/VARIANT_CALLING/COVID/Annotation/user_aa', str(sample) + \".tsv\")\n",
    "    if os.path.exists(res_file):\n",
    "        df = pd.read_csv(res_file, sep=\"\\t\")\n",
    "        if 'Variants_Note' in df.columns: #Change header\n",
    "            df = df.drop_duplicates(subset=['Variants_Note'], keep=\"first\") #Change header\n",
    "            df = df[df.ALT_FREQ >= 0.4]\n",
    "            relist = df['Variants_Note'].dropna().tolist() #Change header\n",
    "            relist = [x.split(\":\")[1] for x in relist]\n",
    "            return (',').join([(x + \"-\" + str(relist.count(x))) for x in set(relist)])\n",
    "        else:\n",
    "            return None\n",
    "def extract_variant_M2(sample): #Change header\n",
    "    res_file = os.path.join('/home/laura/ANALYSIS/VARIANT_CALLING/COVID/Annotation/user_aa', str(sample) + \".tsv\")\n",
    "    if os.path.exists(res_file):\n",
    "        df = pd.read_csv(res_file, sep=\"\\t\")\n",
    "        if 'MVariant2' in df.columns: #Change header\n",
    "            df = df.drop_duplicates(subset=['MVariant2'], keep=\"first\") #Change header\n",
    "            df = df[df.ALT_FREQ >= 0.4]\n",
    "            relist = df.MVariant2.dropna().tolist() #Change header\n",
    "            relist = [x.split(\":\")[1] for x in relist]\n",
    "            return (',').join([(x + \"-\" + str(relist.count(x))) for x in set(relist)])\n",
    "        else:\n",
    "            return None\n",
    "\n",
    "def extract_variant_RBD(sample): #Change header\n",
    "    res_file = os.path.join('/home/laura/ANALYSIS/VARIANT_CALLING/COVID/Annotation/user_aa', str(sample) + \".tsv\")\n",
    "    if os.path.exists(res_file):\n",
    "        df = pd.read_csv(res_file, sep=\"\\t\")\n",
    "        if 'RBD' in df.columns: #Change header\n",
    "            df = df.drop_duplicates(subset=['RBD'], keep=\"first\") #Change header\n",
    "            df = df[df.ALT_FREQ >= 0.4]\n",
    "            relist = df.RBD.dropna().tolist() #Change header\n",
    "            relist = [x.split(\":\")[0] for x in relist]\n",
    "            return (',').join(relist)\n",
    "            # return (',').join([(x + \"-\" + str(relist.count(x))) for x in set(relist)])\n",
    "        else:\n",
    "            return None\n",
    "        \n",
    "def extract_variant_CLVariant(sample): #Change header\n",
    "    res_file = os.path.join('/home/laura/ANALYSIS/VARIANT_CALLING/COVID/Annotation/user_aa', str(sample) + \".tsv\")\n",
    "    if os.path.exists(res_file):\n",
    "        df = pd.read_csv(res_file, sep=\"\\t\")\n",
    "        if 'CLVariant' in df.columns: #Change header\n",
    "            df = df.drop_duplicates(subset=['CLVariant'], keep=\"first\") #Change header\n",
    "            df = df[df.ALT_FREQ >= 0.4]\n",
    "            relist = df.CLVariant.dropna().tolist() #Change header\n",
    "            relist = [x.split(\":\")[1] for x in relist]\n",
    "            return (',').join([(x + \"-\" + str(relist.count(x))) for x in set(relist)])\n",
    "        else:\n",
    "            return None"
   ]
  },
  {
   "cell_type": "code",
   "execution_count": null,
   "metadata": {},
   "outputs": [],
   "source": [
    "final_df['UK__autocolor'] = final_df.apply(lambda x: extract_variant_UK(x['id']), axis=1)\n",
    "final_df['69del__autocolor'] = final_df.apply(lambda x: extract_variant_69del(x['id']), axis=1)\n",
    "final_df['P1__autocolor'] = final_df.apply(lambda x: extract_variant_P1Variant(x['id']), axis=1)\n",
    "final_df['P2__autocolor'] = final_df.apply(lambda x: extract_variant_P2Variant(x['id']), axis=1)\n",
    "final_df['E484K__autocolor'] = final_df.apply(lambda x: extract_variant_E484K(x['id']), axis=1)\n",
    "final_df['variant_Note__autocolor'] = final_df.apply(lambda x: extract_variant_Note(x['id']), axis=1)\n",
    "final_df['MVariant2__autocolor'] = final_df.apply(lambda x: extract_variant_M2(x['id']), axis=1)\n",
    "final_df['RBD__autocolor'] = final_df.apply(lambda x: extract_variant_RBD(x['id']), axis=1)\n",
    "final_df['ZA__autocolor'] = final_df.apply(lambda x: extract_variant_ZAVariant(x['id']), axis=1)\n",
    "final_df['Cl__autocolor'] = final_df.apply(lambda x: extract_variant_CLVariant(x['id']), axis=1)\n",
    "\n",
    "\n"
   ]
  },
  {
   "cell_type": "code",
   "execution_count": null,
   "metadata": {},
   "outputs": [],
   "source": [
    "def extract_faulty(sample):\n",
    "    sample_report = os.path.join(compare_folder, \"report_samples.tsv\")\n",
    "    df = pd.read_csv(sample_report, sep=\"\\t\")\n",
    "    df['sample'] = df['sample'].astype(str)\n",
    "    if str(sample) in df['sample'].values:\n",
    "        return round(df[df['sample'] == str(sample)]['faulty_frac'].values[0], 3)\n",
    "    else:\n",
    "        return None"
   ]
  },
  {
   "cell_type": "code",
   "execution_count": null,
   "metadata": {},
   "outputs": [],
   "source": [
    "final_df['FaultyFraction__autocolor'] = final_df.apply(lambda x: extract_faulty(x['id']), axis=1)"
   ]
  },
  {
   "cell_type": "code",
   "execution_count": null,
   "metadata": {},
   "outputs": [],
   "source": [
    "#query = ['20097501','20097906','20099990','20101024','20107580','20143658','20214237','20247923','20398264','20425128','20425595','20428122','20431031','20435733','20450595','20450832','20455085','20455763','20455870','20458052','20458113','20458114','20458118','20458269','20458270','20458365','20458528','20458547','20458560','20458569','20458576','20458635','20458638','20458668','20458686','20458702','20461287','20461287-BIS','20461290','20461293','20461349','20461351','20461375','20461389','20461389-BIS','20461392','20461416','20461563','20461601','20461621','20461637','20461637-BIS','20461689','20461747','20461783','20461785','20461790','20461801','20461861','20461869','20461870','20461871','20461886','20461904','20461905','20461907','20461908','20461926','20461928','20461937','20461953','20461968','20464095','20464109','20464109-BIS','20464197','20464303','20464456','20464490','20464493','20464516','20464517','20464519','20464521','20464532','20464534','20464567','20464570','20464580','20464595','20464599','20464600','20464612','20464613','20464614','20464636']\n",
    "#query_dario = [str(x) for x in query_dario]\n"
   ]
  },
  {
   "cell_type": "code",
   "execution_count": null,
   "metadata": {},
   "outputs": [],
   "source": [
    "#final_df['run12Maldito__autocolor'] = final_df.apply(lambda x: x['id'] in query, axis=1)\n"
   ]
  },
  {
   "cell_type": "code",
   "execution_count": null,
   "metadata": {},
   "outputs": [],
   "source": [
    "before_june = final_df[(final_df.month < 7) & (final_df.year == 2020)]['id'].tolist()\n",
    "before_june = [str(x) for x in before_june]\n",
    "final_df['before_june_2020__autocolor'] = final_df.apply(lambda x: x['id'] in before_june, axis=1)"
   ]
  },
  {
   "cell_type": "code",
   "execution_count": null,
   "metadata": {},
   "outputs": [],
   "source": [
    "final_df['id'] = final_df['id'].str.strip()\n",
    "final_df = final_df.drop_duplicates(subset=['id'], keep=\"first\")\n",
    "#REORDER COLUMNS\n",
    "final_df = final_df[['id','LABEL__autocolor'] + [ col for col in final_df.columns if col != 'LABEL__autocolor' and col != 'id']]\n",
    "\n",
    "out_file = os.path.join(compare_folder, 'wgs_microreact.csv')\n",
    "final_df.to_csv(out_file, index=False)"
   ]
  },
  {
   "cell_type": "code",
   "execution_count": null,
   "metadata": {},
   "outputs": [],
   "source": [
    "final_df.head()"
   ]
  },
  {
   "cell_type": "code",
   "execution_count": null,
   "metadata": {},
   "outputs": [],
   "source": [
    "final_df[final_df.id == '21092147']"
   ]
  },
  {
   "cell_type": "code",
   "execution_count": null,
   "metadata": {},
   "outputs": [],
   "source": []
  }
 ],
 "metadata": {
  "kernelspec": {
   "display_name": "Python 3",
   "language": "python",
   "name": "python3"
  },
  "language_info": {
   "codemirror_mode": {
    "name": "ipython",
    "version": 3
   },
   "file_extension": ".py",
   "mimetype": "text/x-python",
   "name": "python",
   "nbconvert_exporter": "python",
   "pygments_lexer": "ipython3",
   "version": "3.7.4"
  }
 },
 "nbformat": 4,
 "nbformat_minor": 2
}
