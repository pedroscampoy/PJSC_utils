{
 "metadata": {
  "language_info": {
   "codemirror_mode": {
    "name": "ipython",
    "version": 3
   },
   "file_extension": ".py",
   "mimetype": "text/x-python",
   "name": "python",
   "nbconvert_exporter": "python",
   "pygments_lexer": "ipython3",
   "version": "3.7.4-final"
  },
  "orig_nbformat": 2,
  "kernelspec": {
   "name": "python3",
   "display_name": "Python 3",
   "language": "python"
  }
 },
 "nbformat": 4,
 "nbformat_minor": 2,
 "cells": [
  {
   "cell_type": "code",
   "execution_count": 96,
   "metadata": {},
   "outputs": [],
   "source": [
    "import os\n",
    "import re\n",
    "import math\n",
    "\n",
    "from tabulate import tabulate\n",
    "\n",
    "import pandas as pd\n",
    "import numpy as np\n",
    "\n",
    "pd.set_option('display.max_columns', None)\n",
    "pd.set_option('display.max_rows', None)\n",
    "pd.set_option('display.max_colwidth', -1)"
   ]
  },
  {
   "cell_type": "code",
   "execution_count": 147,
   "metadata": {},
   "outputs": [],
   "source": [
    "df = pd.read_csv('../data/21048605.tsv', sep=\"\\t\")"
   ]
  },
  {
   "cell_type": "code",
   "execution_count": 148,
   "metadata": {},
   "outputs": [
    {
     "output_type": "execute_result",
     "data": {
      "text/plain": [
       "Index(['#CHROM', 'POS', 'ID', 'REF', 'ALT', 'QUAL', 'FILTER', 'Codon_change',\n",
       "       'AA_change', 'DP', 'ALT_FREQ', 'Allele', 'Annotation',\n",
       "       'Annotation_Impact', 'Gene_Name', 'Gene_ID', 'Feature_Type',\n",
       "       'Feature_ID', 'Transcript_BioType', 'Rank', 'HGVS.c', 'HGVS.p',\n",
       "       'cDNA.pos / cDNA.length', 'CDS.pos / CDS.length', 'AA.pos / AA.length',\n",
       "       'ERRORS / WARNINGS / INFO', 'resistance_covid', 'Variants', 'DVariant',\n",
       "       'P1Variant', 'UKVariant'],\n",
       "      dtype='object')"
      ]
     },
     "metadata": {},
     "execution_count": 148
    }
   ],
   "source": [
    "df.columns"
   ]
  },
  {
   "cell_type": "code",
   "execution_count": 149,
   "metadata": {},
   "outputs": [
    {
     "output_type": "execute_result",
     "data": {
      "text/plain": [
       "        #CHROM  POS ID REF ALT  QUAL FILTER Codon_change AA_change  DP  \\\n",
       "0  NC_045512.2  41   .  T   C   38.0  False  .-.          .-.       67   \n",
       "1  NC_045512.2  41   .  T   C   38.0  False  .-.          .-.       67   \n",
       "2  NC_045512.2  41   .  T   C   38.0  False  .-.          .-.       67   \n",
       "\n",
       "   ALT_FREQ Allele             Annotation Annotation_Impact Gene_Name  \\\n",
       "0  0.03      C      upstream_gene_variant  MODIFIER          ORF1ab     \n",
       "1  0.03      C      upstream_gene_variant  MODIFIER          ORF1ab     \n",
       "2  0.03      C      upstream_gene_variant  MODIFIER          ORF1ab     \n",
       "\n",
       "      Gene_ID Feature_Type      Feature_ID Transcript_BioType Rank   HGVS.c  \\\n",
       "0  GU280_gp01  transcript   GU280_gp01      protein_coding     NaN  -225T>C   \n",
       "1  GU280_gp01  transcript   YP_009725297.1  protein_coding     NaN  -225T>C   \n",
       "2  GU280_gp01  transcript   YP_009742608.1  protein_coding     NaN  -225T>C   \n",
       "\n",
       "  HGVS.p cDNA.pos / cDNA.length CDS.pos / CDS.length AA.pos / AA.length  \\\n",
       "0  -      NaN                    NaN                  NaN                 \n",
       "1  -      NaN                    NaN                  NaN                 \n",
       "2  -      NaN                    NaN                  NaN                 \n",
       "\n",
       "   ERRORS / WARNINGS / INFO resistance_covid Variants  DVariant P1Variant  \\\n",
       "0  225.0                     NaN              NaN     NaN        NaN        \n",
       "1  225.0                     NaN              NaN     NaN        NaN        \n",
       "2  225.0                     NaN              NaN     NaN        NaN        \n",
       "\n",
       "  UKVariant  \n",
       "0  NaN       \n",
       "1  NaN       \n",
       "2  NaN       "
      ],
      "text/html": "<div>\n<style scoped>\n    .dataframe tbody tr th:only-of-type {\n        vertical-align: middle;\n    }\n\n    .dataframe tbody tr th {\n        vertical-align: top;\n    }\n\n    .dataframe thead th {\n        text-align: right;\n    }\n</style>\n<table border=\"1\" class=\"dataframe\">\n  <thead>\n    <tr style=\"text-align: right;\">\n      <th></th>\n      <th>#CHROM</th>\n      <th>POS</th>\n      <th>ID</th>\n      <th>REF</th>\n      <th>ALT</th>\n      <th>QUAL</th>\n      <th>FILTER</th>\n      <th>Codon_change</th>\n      <th>AA_change</th>\n      <th>DP</th>\n      <th>ALT_FREQ</th>\n      <th>Allele</th>\n      <th>Annotation</th>\n      <th>Annotation_Impact</th>\n      <th>Gene_Name</th>\n      <th>Gene_ID</th>\n      <th>Feature_Type</th>\n      <th>Feature_ID</th>\n      <th>Transcript_BioType</th>\n      <th>Rank</th>\n      <th>HGVS.c</th>\n      <th>HGVS.p</th>\n      <th>cDNA.pos / cDNA.length</th>\n      <th>CDS.pos / CDS.length</th>\n      <th>AA.pos / AA.length</th>\n      <th>ERRORS / WARNINGS / INFO</th>\n      <th>resistance_covid</th>\n      <th>Variants</th>\n      <th>DVariant</th>\n      <th>P1Variant</th>\n      <th>UKVariant</th>\n    </tr>\n  </thead>\n  <tbody>\n    <tr>\n      <td>0</td>\n      <td>NC_045512.2</td>\n      <td>41</td>\n      <td>.</td>\n      <td>T</td>\n      <td>C</td>\n      <td>38.0</td>\n      <td>False</td>\n      <td>.-.</td>\n      <td>.-.</td>\n      <td>67</td>\n      <td>0.03</td>\n      <td>C</td>\n      <td>upstream_gene_variant</td>\n      <td>MODIFIER</td>\n      <td>ORF1ab</td>\n      <td>GU280_gp01</td>\n      <td>transcript</td>\n      <td>GU280_gp01</td>\n      <td>protein_coding</td>\n      <td>NaN</td>\n      <td>-225T&gt;C</td>\n      <td>-</td>\n      <td>NaN</td>\n      <td>NaN</td>\n      <td>NaN</td>\n      <td>225.0</td>\n      <td>NaN</td>\n      <td>NaN</td>\n      <td>NaN</td>\n      <td>NaN</td>\n      <td>NaN</td>\n    </tr>\n    <tr>\n      <td>1</td>\n      <td>NC_045512.2</td>\n      <td>41</td>\n      <td>.</td>\n      <td>T</td>\n      <td>C</td>\n      <td>38.0</td>\n      <td>False</td>\n      <td>.-.</td>\n      <td>.-.</td>\n      <td>67</td>\n      <td>0.03</td>\n      <td>C</td>\n      <td>upstream_gene_variant</td>\n      <td>MODIFIER</td>\n      <td>ORF1ab</td>\n      <td>GU280_gp01</td>\n      <td>transcript</td>\n      <td>YP_009725297.1</td>\n      <td>protein_coding</td>\n      <td>NaN</td>\n      <td>-225T&gt;C</td>\n      <td>-</td>\n      <td>NaN</td>\n      <td>NaN</td>\n      <td>NaN</td>\n      <td>225.0</td>\n      <td>NaN</td>\n      <td>NaN</td>\n      <td>NaN</td>\n      <td>NaN</td>\n      <td>NaN</td>\n    </tr>\n    <tr>\n      <td>2</td>\n      <td>NC_045512.2</td>\n      <td>41</td>\n      <td>.</td>\n      <td>T</td>\n      <td>C</td>\n      <td>38.0</td>\n      <td>False</td>\n      <td>.-.</td>\n      <td>.-.</td>\n      <td>67</td>\n      <td>0.03</td>\n      <td>C</td>\n      <td>upstream_gene_variant</td>\n      <td>MODIFIER</td>\n      <td>ORF1ab</td>\n      <td>GU280_gp01</td>\n      <td>transcript</td>\n      <td>YP_009742608.1</td>\n      <td>protein_coding</td>\n      <td>NaN</td>\n      <td>-225T&gt;C</td>\n      <td>-</td>\n      <td>NaN</td>\n      <td>NaN</td>\n      <td>NaN</td>\n      <td>225.0</td>\n      <td>NaN</td>\n      <td>NaN</td>\n      <td>NaN</td>\n      <td>NaN</td>\n      <td>NaN</td>\n    </tr>\n  </tbody>\n</table>\n</div>"
     },
     "metadata": {},
     "execution_count": 149
    }
   ],
   "source": [
    "df.head(3)"
   ]
  },
  {
   "cell_type": "code",
   "execution_count": 173,
   "metadata": {},
   "outputs": [
    {
     "output_type": "stream",
     "name": "stdout",
     "text": [
      "/home/laura/ANALYSIS/covidma/Annotation/user_aa\n"
     ]
    }
   ],
   "source": [
    "annotation_to_html('/home/laura/ANALYSIS/covidma/Annotation/user_aa/21017326.tsv')"
   ]
  },
  {
   "cell_type": "code",
   "execution_count": 104,
   "metadata": {},
   "outputs": [],
   "source": [
    "#Remove positions without user annotation\n",
    "#df = df.dropna(subset=df.columns[12:].tolist(), how='all')"
   ]
  },
  {
   "cell_type": "code",
   "execution_count": 152,
   "metadata": {},
   "outputs": [
    {
     "output_type": "execute_result",
     "data": {
      "text/plain": [
       "True"
      ]
     },
     "metadata": {},
     "execution_count": 152
    }
   ],
   "source": [
    "math.isnan(df.iloc[:,12:].iloc[0,0])"
   ]
  },
  {
   "cell_type": "code",
   "execution_count": 153,
   "metadata": {},
   "outputs": [
    {
     "output_type": "execute_result",
     "data": {
      "text/plain": [
       "False"
      ]
     },
     "metadata": {},
     "execution_count": 153
    }
   ],
   "source": [
    "df.iloc[:,12:].iloc[0,0] == df.iloc[:,12:].iloc[0,0]"
   ]
  },
  {
   "cell_type": "code",
   "execution_count": 154,
   "metadata": {},
   "outputs": [],
   "source": [
    "#None if x <= min_freq_discard else x\n",
    "handle_aa = lambda x: None if x != x else x.split(':')[1]\n",
    "df.iloc[:,12:] = df.iloc[:,12:].applymap(handle_aa)"
   ]
  },
  {
   "cell_type": "code",
   "execution_count": 155,
   "metadata": {},
   "outputs": [
    {
     "output_type": "execute_result",
     "data": {
      "text/plain": [
       "Index(['#CHROM', 'POS', 'REF', 'ALT', 'Codon_change', 'AA_change', 'DP',\n",
       "       'ALT_FREQ', 'Annotation', 'Annotation_Impact', 'Gene_Name', 'HGVS.p',\n",
       "       'resistance_covid', 'P1Variant', 'UKVariant'],\n",
       "      dtype='object')"
      ]
     },
     "metadata": {},
     "execution_count": 155
    }
   ],
   "source": [
    "df.columns"
   ]
  },
  {
   "cell_type": "code",
   "execution_count": 156,
   "metadata": {},
   "outputs": [],
   "source": [
    "df = pd.melt(df, id_vars=['#CHROM', 'POS', 'REF', 'ALT', 'Codon_change', 'AA_change', 'DP',\n",
    "       'ALT_FREQ', 'Annotation', 'Annotation_Impact', 'Gene_Name', 'HGVS.p'], value_vars=df.columns[12:].tolist())"
   ]
  },
  {
   "cell_type": "code",
   "execution_count": 157,
   "metadata": {},
   "outputs": [],
   "source": [
    "if 'variable' in df.columns:\n",
    "    df = df.drop('variable', axis=1)\n",
    "df = df.rename(columns={'value': 'variable'})"
   ]
  },
  {
   "cell_type": "code",
   "execution_count": 176,
   "metadata": {},
   "outputs": [],
   "source": [
    "def annotation_to_html(file_annot, sample):\n",
    "    folder = ('/').join(file_annot.split('/')[0:-1])\n",
    "\n",
    "    df = pd.read_csv(file_annot, sep=\"\\t\")\n",
    "    df = df [['#CHROM', 'POS', 'REF', 'ALT', 'Codon_change',\n",
    "        'AA_change', 'DP', 'ALT_FREQ', 'Annotation',\n",
    "        'Annotation_Impact', 'Gene_Name', 'HGVS.p'] + df.columns[26:].tolist()]\n",
    "    if 'Variants' in df.columns:\n",
    "        df = df.drop('Variants', axis=1)\n",
    "    if 'DVariant' in df.columns:\n",
    "        df = df.drop('DVariant', axis=1)\n",
    "    df = df.drop_duplicates(subset=['#CHROM', 'POS', 'REF', 'ALT'], keep=\"first\")\n",
    "    df = df[df.ALT_FREQ >= 0.2]\n",
    "\n",
    "    handle_aa = lambda x: None if x != x else x.split(':')[1]\n",
    "    df.iloc[:,12:] = df.iloc[:,12:].applymap(handle_aa)\n",
    "\n",
    "    df = pd.melt(df, id_vars=['#CHROM', 'POS', 'REF', 'ALT', 'Codon_change', 'AA_change', 'DP',\n",
    "       'ALT_FREQ', 'Annotation', 'Annotation_Impact', 'Gene_Name', 'HGVS.p'], value_vars=df.columns[12:].tolist())\n",
    "    \n",
    "    if 'variable' in df.columns:\n",
    "        df = df.drop('variable', axis=1)\n",
    "    df = df.rename(columns={'value': 'variable'})\n",
    "\n",
    "    table = tabulate(df, headers='keys', tablefmt='html', showindex=False)\n",
    "    table = table.replace(\"<table>\", \"<table id=\\\"variants\\\" class=\\\"table table-striped table-bordered nowrap\\\" width=\\\"100%\\\">\")\n",
    "    table = table.replace(\"style=\\\"text-align: right;\\\"\", \"\")\n",
    "\n",
    "    row_filter = \"<tr>\\n\" + \"<th></th>\\n\" * len(df.columns) + \"</tr>\\n\"\n",
    "\n",
    "    table = table.replace(\"</tr>\\n</thead>\", \"</tr>\\n\" + row_filter + \"</thead>\")\n",
    "\n",
    "    final_html = html_template.replace('TABLESUMMARY', table)\n",
    "\n",
    "    with open(os.path.join(folder, sample + \".html\"), 'w+') as f:\n",
    "        f.write(final_html)\n",
    "\n"
   ]
  },
  {
   "cell_type": "code",
   "execution_count": 158,
   "metadata": {},
   "outputs": [],
   "source": [
    "table = tabulate(df, headers='keys', tablefmt='html', showindex=False)\n",
    "table = table.replace(\"<table>\", \"<table id=\\\"variants\\\" class=\\\"table table-striped table-bordered nowrap\\\" width=\\\"100%\\\">\")\n",
    "table = table.replace(\"style=\\\"text-align: right;\\\"\", \"\")"
   ]
  },
  {
   "cell_type": "code",
   "execution_count": 159,
   "metadata": {},
   "outputs": [],
   "source": [
    "row_filter = \"<tr>\\n\" + \"<th></th>\\n\" * len(df.columns) + \"</tr>\\n\""
   ]
  },
  {
   "cell_type": "code",
   "execution_count": 160,
   "metadata": {},
   "outputs": [],
   "source": [
    "table = table.replace(\"</tr>\\n</thead>\", \"</tr>\\n\" + row_filter + \"</thead>\")"
   ]
  },
  {
   "cell_type": "code",
   "execution_count": 161,
   "metadata": {},
   "outputs": [],
   "source": [
    "html_template = \"\"\"\n",
    "<!DOCTYPE html>\n",
    "<html>\n",
    "    \n",
    "  <head>\n",
    "    <script src=\"http://code.jquery.com/jquery-3.3.1.min.js\"></script>\n",
    "\n",
    "    <link href=\"https://cdnjs.cloudflare.com/ajax/libs/twitter-bootstrap/4.1.3/css/bootstrap.css\" rel=\"stylesheet\" type=\"text/css\" />\n",
    "    <link href=\"https://nightly.datatables.net/css/dataTables.bootstrap4.css\" rel=\"stylesheet\" type=\"text/css\" />\n",
    "\n",
    "\n",
    "    <script src=\"https://nightly.datatables.net/js/jquery.dataTables.js\"></script>\n",
    "    <script src=\"https://nightly.datatables.net/js/dataTables.bootstrap4.js\"></script>\n",
    "\n",
    "    <style>\n",
    "        body {\n",
    "        font: 90%/1rem \"Helvetica Neue\", HelveticaNeue, Verdana, Arial, Helvetica, sans-serif;\n",
    "        margin: 0;\n",
    "        padding: 0;\n",
    "        color: #333;\n",
    "        background-color: #fff;\n",
    "        }\n",
    "    </style>\n",
    "\n",
    "    \n",
    "    <meta charset=utf-8 />\n",
    "    <title>COVID Variant report</title>\n",
    "    <meta name=\"description\" content=\"https://github.com/pedroscampoy/covid_multianalysis\">\n",
    "    <meta name=\"author\" content=\"pedroscampoy@gmail.com\">\n",
    "  </head>\n",
    "  <body>\n",
    "    <div class=\"container-fluid\">\n",
    "        TABLESUMMARY\n",
    "    </div>\n",
    "\n",
    "    <script>\n",
    "        $(document).ready( function () {\n",
    "            var table = $('#variants').DataTable({\n",
    "                orderCellsTop: true,\n",
    "                initComplete: function () {\n",
    "                    this.api().columns([1, 2, 3, 4, 5, 6, 7, 8, 9, 10, 11, 12]).every( function () {\n",
    "                        var column = this;\n",
    "                        var select = $('<select><option value=\"\"></option></select>')\n",
    "                        .appendTo(  $('thead tr:eq(1) th:eq(' + this.index()  + ')') )\n",
    "                            .on( 'change', function () {\n",
    "                                var val = $.fn.dataTable.util.escapeRegex(\n",
    "                                    $(this).val()\n",
    "                                );\n",
    "                                column\n",
    "                                    .search( val ? '^'+val+'$' : '', true, false )\n",
    "                                    .draw();\n",
    "                            } );\n",
    "        \n",
    "                        column.data().unique().sort().each( function ( d, j ) {\n",
    "                            select.append( '<option value=\"'+d+'\">'+d+'</option>' )\n",
    "                        } );\n",
    "                    } );\n",
    "                }\n",
    "            });\n",
    "        } );\n",
    "    </script>\n",
    "  </body>\n",
    "</html> \n",
    "\"\"\""
   ]
  },
  {
   "cell_type": "code",
   "execution_count": 162,
   "metadata": {},
   "outputs": [],
   "source": [
    "final_html = html_template.replace('TABLESUMMARY', table)\n",
    "with open('../data/report.html', 'w+') as f:\n",
    "    f.write(final_html)"
   ]
  },
  {
   "cell_type": "code",
   "execution_count": null,
   "metadata": {},
   "outputs": [],
   "source": []
  },
  {
   "cell_type": "code",
   "execution_count": 163,
   "metadata": {},
   "outputs": [],
   "source": [
    "report_samples_html = \"\"\"\n",
    "<!DOCTYPE html>\n",
    "<html>\n",
    "  <head>\n",
    "    <script src=\"http://code.jquery.com/jquery-3.3.1.min.js\"></script>\n",
    "\n",
    "    <link\n",
    "      href=\"https://cdnjs.cloudflare.com/ajax/libs/twitter-bootstrap/4.1.3/css/bootstrap.css\"\n",
    "      rel=\"stylesheet\"\n",
    "      type=\"text/css\"\n",
    "    />\n",
    "    <link\n",
    "      href=\"https://nightly.datatables.net/css/dataTables.bootstrap4.css\"\n",
    "      rel=\"stylesheet\"\n",
    "      type=\"text/css\"\n",
    "    />\n",
    "\n",
    "    <script src=\"https://nightly.datatables.net/js/jquery.dataTables.js\"></script>\n",
    "    <script src=\"https://nightly.datatables.net/js/dataTables.bootstrap4.js\"></script>\n",
    "\n",
    "    <style>\n",
    "        html {\n",
    "        height: 100%;\n",
    "        }\n",
    "      body {\n",
    "        font: 90%/1rem \"Helvetica Neue\", HelveticaNeue, Verdana, Arial,\n",
    "          Helvetica, sans-serif;\n",
    "        margin: 0;\n",
    "        padding: 0;\n",
    "        color: #333;\n",
    "        background-color: #fff;\n",
    "        height: 100%;\n",
    "      }\n",
    "\n",
    "      .dropdown {\n",
    "        margin: 20px;\n",
    "      }\n",
    "\n",
    "      .dropdown-menu {\n",
    "        max-height: 20rem;\n",
    "        overflow-y: auto;\n",
    "      }\n",
    "\n",
    "      object {\n",
    "        width: 100%;\n",
    "        height: 100%;\n",
    "      }\n",
    "    </style>\n",
    "\n",
    "    <meta charset=\"utf-8\" />\n",
    "    <title>COVID Variant report</title>\n",
    "    <meta\n",
    "      name=\"description\"\n",
    "      content=\"https://github.com/pedroscampoy/covid_multianalysis\"\n",
    "    />\n",
    "    <meta name=\"author\" content=\"pedroscampoy@gmail.com\" />\n",
    "  </head>\n",
    "  <body>\n",
    "    <div class=\"dropdown\">\n",
    "      <button\n",
    "        class=\"btn btn-secondary dropdown-toggle\"\n",
    "        type=\"button\"\n",
    "        id=\"dropdown_samples\"\n",
    "        data-toggle=\"dropdown\"\n",
    "        aria-haspopup=\"true\"\n",
    "        aria-expanded=\"false\"\n",
    "      >\n",
    "        Sample\n",
    "      </button>\n",
    "      <div id=\"menu\" class=\"dropdown-menu\" aria-labelledby=\"dropdown_samples\">\n",
    "        <form class=\"px-4 py-2\">\n",
    "          <input\n",
    "            type=\"search\"\n",
    "            class=\"form-control\"\n",
    "            id=\"searchSample\"\n",
    "            placeholder=\"20000000\"\n",
    "            autofocus=\"autofocus\"\n",
    "          />\n",
    "        </form>\n",
    "        <div id=\"menuItems\"></div>\n",
    "        <div id=\"empty\" class=\"dropdown-header\">No samples found</div>\n",
    "      </div>\n",
    "    </div>\n",
    "\n",
    "    <div class=\"container-fluid w-100 h-100 mh-100\" id=\"display-table\">\n",
    "      \n",
    "    </div>\n",
    "\n",
    "    <script>\n",
    "      $(document).ready(function () {\n",
    "        var table = $(\"#variants\").DataTable({\n",
    "          orderCellsTop: true,\n",
    "          initComplete: function () {\n",
    "            this.api()\n",
    "              .columns([1, 2, 3, 4, 5, 6, 7, 8, 9, 10, 11, 12])\n",
    "              .every(function () {\n",
    "                var column = this;\n",
    "                var select = $('<select><option value=\"\"></option></select>')\n",
    "                  .appendTo($(\"thead tr:eq(1) th:eq(\" + this.index() + \")\"))\n",
    "                  .on(\"change\", function () {\n",
    "                    var val = $.fn.dataTable.util.escapeRegex($(this).val());\n",
    "                    column\n",
    "                      .search(val ? \"^\" + val + \"$\" : \"\", true, false)\n",
    "                      .draw();\n",
    "                  });\n",
    "\n",
    "                column\n",
    "                  .data()\n",
    "                  .unique()\n",
    "                  .sort()\n",
    "                  .each(function (d, j) {\n",
    "                    select.append(\n",
    "                      '<option value=\"' + d + '\">' + d + \"</option>\"\n",
    "                    );\n",
    "                  });\n",
    "              });\n",
    "          },\n",
    "        });\n",
    "      });\n",
    "\n",
    "      //https://stackoverflow.com/questions/45007712/bootstrap-4-dropdown-with-search\n",
    "      //Initialize with the list of symbols\n",
    "      let names = [ALLSAMPLES];\n",
    "\n",
    "      //Find the input search box\n",
    "      let search = document.getElementById(\"searchSample\");\n",
    "\n",
    "      //Find every item inside the dropdown\n",
    "      let items = document.getElementsByClassName(\"dropdown-item\");\n",
    "\n",
    "      buildDropDown = (values) => {\n",
    "        let contents = [];\n",
    "        for (let name of values) {\n",
    "          contents.push(\n",
    "            '<input type=\"button\" class=\"dropdown-item\" type=\"button\" value=\"' +\n",
    "              name +\n",
    "              '\"/>'\n",
    "          );\n",
    "        }\n",
    "        $(\"#menuItems\").append(contents.join(\"\"));\n",
    "\n",
    "        //Hide the row that shows no items were found\n",
    "        $(\"#empty\").hide();\n",
    "      }\n",
    "\n",
    "      //Capture the event when user types into the search box\n",
    "      window.addEventListener(\"input\", () => filter(search.value.trim().toLowerCase()));\n",
    "\n",
    "      //For every word entered by the user, check if the symbol starts with that word\n",
    "      //If it does show the symbol, else hide it\n",
    "      function filter(word) {\n",
    "        let length = items.length;\n",
    "        let collection = [];\n",
    "        let hidden = 0;\n",
    "        for (let i = 0; i < length; i++) {\n",
    "          if (items[i].value.toLowerCase().startsWith(word)) {\n",
    "            $(items[i]).show();\n",
    "          } else {\n",
    "            $(items[i]).hide();\n",
    "            hidden++;\n",
    "          }\n",
    "        }\n",
    "\n",
    "        //If all items are hidden, show the empty view\n",
    "        if (hidden === length) {\n",
    "          $(\"#empty\").show();\n",
    "        } else {\n",
    "          $(\"#empty\").hide();\n",
    "        }\n",
    "      }\n",
    "\n",
    "      //If the user clicks on any item, set the title of the button as the text of the item\n",
    "      $(\"#menuItems\").on(\"click\", \".dropdown-item\", function () {\n",
    "        $(\"#dropdown_samples\").text($(this)[0].value);\n",
    "        $(\"#dropdown_samples\").dropdown(\"toggle\");\n",
    "        document.getElementById(\"display-table\").innerHTML=`<object type=\"text/html\" data=\"${$(this)[0].value}.html\" ></object>`;\n",
    "\n",
    "      });\n",
    "\n",
    "      buildDropDown(names);\n",
    "    </script>\n",
    "    <script src=\"https://cdnjs.cloudflare.com/ajax/libs/twitter-bootstrap/4.0.0-beta.2/js/bootstrap.bundle.min.js\"></script>\n",
    "  </body>\n",
    "</html>\n",
    "\"\"\""
   ]
  },
  {
   "cell_type": "code",
   "execution_count": null,
   "metadata": {},
   "outputs": [],
   "source": []
  },
  {
   "cell_type": "code",
   "execution_count": 177,
   "metadata": {},
   "outputs": [],
   "source": [
    "out_annot_snpeff_dir = '/home/laura/ANALYSIS/covidma/Annotation/user_aa'\n",
    "annotated_samples = []\n",
    "for root, _, files in os.walk(out_annot_snpeff_dir):\n",
    "    if root == out_annot_snpeff_dir:\n",
    "        for name in files:\n",
    "            if name.endswith('.tsv'):\n",
    "                sample = name.split('.')[0]\n",
    "                annotated_samples.append(sample)\n",
    "                filename = os.path.join(root, name)\n",
    "                #user_annotation_aa(filename, out_annot_aa_file, aa_files=args.annot_aa)\n",
    "                annotation_to_html(filename, sample)\n",
    "report_samples_html_all = report_samples_html.replace('ALLSAMPLES', (',').join(annotated_samples)) #NEW\n",
    "with open(os.path.join(out_annot_snpeff_dir, '00_all_samples.html'), 'w+') as f:\n",
    "    f.write(report_samples_html_all)\n"
   ]
  },
  {
   "cell_type": "code",
   "execution_count": null,
   "metadata": {},
   "outputs": [],
   "source": []
  }
 ]
}